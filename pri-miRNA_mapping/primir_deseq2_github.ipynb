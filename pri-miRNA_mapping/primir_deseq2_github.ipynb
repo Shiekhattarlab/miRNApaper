{
 "cells": [
  {
   "cell_type": "markdown",
   "metadata": {},
   "source": [
    "# pri-miRNA final: figures for paper\n",
    "## Boxplots and Deseq2"
   ]
  },
  {
   "cell_type": "markdown",
   "metadata": {},
   "source": [
    "#### comments"
   ]
  },
  {
   "cell_type": "code",
   "execution_count": 1,
   "metadata": {},
   "outputs": [],
   "source": [
    "# use normalization approach against library size (total reads)\n",
    "# use deseq2 for Volcano plots\n",
    "\n"
   ]
  },
  {
   "cell_type": "code",
   "execution_count": 2,
   "metadata": {},
   "outputs": [
    {
     "name": "stderr",
     "output_type": "stream",
     "text": [
      "Loading required package: magrittr\n",
      "\n",
      "\n",
      "Attaching package: ‘gplots’\n",
      "\n",
      "\n",
      "The following object is masked from ‘package:stats’:\n",
      "\n",
      "    lowess\n",
      "\n",
      "\n",
      "Loading required package: viridisLite\n",
      "\n",
      "── \u001b[1mAttaching packages\u001b[22m ─────────────────────────────────────── tidyverse 1.3.0 ──\n",
      "\n",
      "\u001b[32m✔\u001b[39m \u001b[34mtibble \u001b[39m 3.0.1     \u001b[32m✔\u001b[39m \u001b[34mpurrr  \u001b[39m 0.3.3\n",
      "\u001b[32m✔\u001b[39m \u001b[34mtidyr  \u001b[39m 1.0.2     \u001b[32m✔\u001b[39m \u001b[34mdplyr  \u001b[39m 0.8.5\n",
      "\u001b[32m✔\u001b[39m \u001b[34mreadr  \u001b[39m 1.3.1     \u001b[32m✔\u001b[39m \u001b[34mforcats\u001b[39m 0.4.0\n",
      "\n",
      "── \u001b[1mConflicts\u001b[22m ────────────────────────────────────────── tidyverse_conflicts() ──\n",
      "\u001b[31m✖\u001b[39m \u001b[34mtidyr\u001b[39m::\u001b[32mextract()\u001b[39m   masks \u001b[34mmagrittr\u001b[39m::extract()\n",
      "\u001b[31m✖\u001b[39m \u001b[34mdplyr\u001b[39m::\u001b[32mfilter()\u001b[39m    masks \u001b[34mstats\u001b[39m::filter()\n",
      "\u001b[31m✖\u001b[39m \u001b[34mdplyr\u001b[39m::\u001b[32mlag()\u001b[39m       masks \u001b[34mstats\u001b[39m::lag()\n",
      "\u001b[31m✖\u001b[39m \u001b[34mpurrr\u001b[39m::\u001b[32mset_names()\u001b[39m masks \u001b[34mmagrittr\u001b[39m::set_names()\n",
      "\n",
      "Loading required package: S4Vectors\n",
      "\n",
      "Loading required package: stats4\n",
      "\n",
      "Loading required package: BiocGenerics\n",
      "\n",
      "Loading required package: parallel\n",
      "\n",
      "\n",
      "Attaching package: ‘BiocGenerics’\n",
      "\n",
      "\n",
      "The following objects are masked from ‘package:parallel’:\n",
      "\n",
      "    clusterApply, clusterApplyLB, clusterCall, clusterEvalQ,\n",
      "    clusterExport, clusterMap, parApply, parCapply, parLapply,\n",
      "    parLapplyLB, parRapply, parSapply, parSapplyLB\n",
      "\n",
      "\n",
      "The following objects are masked from ‘package:dplyr’:\n",
      "\n",
      "    combine, intersect, setdiff, union\n",
      "\n",
      "\n",
      "The following objects are masked from ‘package:stats’:\n",
      "\n",
      "    IQR, mad, sd, var, xtabs\n",
      "\n",
      "\n",
      "The following objects are masked from ‘package:base’:\n",
      "\n",
      "    anyDuplicated, append, as.data.frame, basename, cbind, colnames,\n",
      "    dirname, do.call, duplicated, eval, evalq, Filter, Find, get, grep,\n",
      "    grepl, intersect, is.unsorted, lapply, Map, mapply, match, mget,\n",
      "    order, paste, pmax, pmax.int, pmin, pmin.int, Position, rank,\n",
      "    rbind, Reduce, rownames, sapply, setdiff, sort, table, tapply,\n",
      "    union, unique, unsplit, which, which.max, which.min\n",
      "\n",
      "\n",
      "\n",
      "Attaching package: ‘S4Vectors’\n",
      "\n",
      "\n",
      "The following objects are masked from ‘package:dplyr’:\n",
      "\n",
      "    first, rename\n",
      "\n",
      "\n",
      "The following object is masked from ‘package:tidyr’:\n",
      "\n",
      "    expand\n",
      "\n",
      "\n",
      "The following object is masked from ‘package:gplots’:\n",
      "\n",
      "    space\n",
      "\n",
      "\n",
      "The following object is masked from ‘package:base’:\n",
      "\n",
      "    expand.grid\n",
      "\n",
      "\n",
      "Loading required package: IRanges\n",
      "\n",
      "\n",
      "Attaching package: ‘IRanges’\n",
      "\n",
      "\n",
      "The following objects are masked from ‘package:dplyr’:\n",
      "\n",
      "    collapse, desc, slice\n",
      "\n",
      "\n",
      "The following object is masked from ‘package:purrr’:\n",
      "\n",
      "    reduce\n",
      "\n",
      "\n",
      "Loading required package: GenomicRanges\n",
      "\n",
      "Loading required package: GenomeInfoDb\n",
      "\n",
      "Loading required package: SummarizedExperiment\n",
      "\n",
      "Loading required package: Biobase\n",
      "\n",
      "Welcome to Bioconductor\n",
      "\n",
      "    Vignettes contain introductory material; view with\n",
      "    'browseVignettes()'. To cite Bioconductor, see\n",
      "    'citation(\"Biobase\")', and for packages 'citation(\"pkgname\")'.\n",
      "\n",
      "\n",
      "Loading required package: DelayedArray\n",
      "\n",
      "Loading required package: matrixStats\n",
      "\n",
      "\n",
      "Attaching package: ‘matrixStats’\n",
      "\n",
      "\n",
      "The following objects are masked from ‘package:Biobase’:\n",
      "\n",
      "    anyMissing, rowMedians\n",
      "\n",
      "\n",
      "The following object is masked from ‘package:dplyr’:\n",
      "\n",
      "    count\n",
      "\n",
      "\n",
      "Loading required package: BiocParallel\n",
      "\n",
      "\n",
      "Attaching package: ‘DelayedArray’\n",
      "\n",
      "\n",
      "The following objects are masked from ‘package:matrixStats’:\n",
      "\n",
      "    colMaxs, colMins, colRanges, rowMaxs, rowMins, rowRanges\n",
      "\n",
      "\n",
      "The following object is masked from ‘package:purrr’:\n",
      "\n",
      "    simplify\n",
      "\n",
      "\n",
      "The following objects are masked from ‘package:base’:\n",
      "\n",
      "    aperm, apply, rowsum\n",
      "\n",
      "\n",
      "Loading required package: MASS\n",
      "\n",
      "\n",
      "Attaching package: ‘MASS’\n",
      "\n",
      "\n",
      "The following object is masked from ‘package:dplyr’:\n",
      "\n",
      "    select\n",
      "\n",
      "\n",
      "Registered S3 method overwritten by 'eulerr':\n",
      "  method    from  \n",
      "  plot.venn gplots\n",
      "\n",
      "\n",
      "Attaching package: ‘eulerr’\n",
      "\n",
      "\n",
      "The following object is masked from ‘package:gplots’:\n",
      "\n",
      "    venn\n",
      "\n",
      "\n",
      "Loading required package: grid\n",
      "\n",
      "========================================\n",
      "ComplexHeatmap version 2.2.0\n",
      "Bioconductor page: http://bioconductor.org/packages/ComplexHeatmap/\n",
      "Github page: https://github.com/jokergoo/ComplexHeatmap\n",
      "Documentation: http://jokergoo.github.io/ComplexHeatmap-reference\n",
      "\n",
      "If you use it in published research, please cite:\n",
      "Gu, Z. Complex heatmaps reveal patterns and correlations in multidimensional \n",
      "  genomic data. Bioinformatics 2016.\n",
      "========================================\n",
      "\n",
      "\n",
      "\n",
      "Attaching package: ‘data.table’\n",
      "\n",
      "\n",
      "The following object is masked from ‘package:SummarizedExperiment’:\n",
      "\n",
      "    shift\n",
      "\n",
      "\n",
      "The following object is masked from ‘package:GenomicRanges’:\n",
      "\n",
      "    shift\n",
      "\n",
      "\n",
      "The following object is masked from ‘package:IRanges’:\n",
      "\n",
      "    shift\n",
      "\n",
      "\n",
      "The following objects are masked from ‘package:S4Vectors’:\n",
      "\n",
      "    first, second\n",
      "\n",
      "\n",
      "The following objects are masked from ‘package:dplyr’:\n",
      "\n",
      "    between, first, last\n",
      "\n",
      "\n",
      "The following object is masked from ‘package:purrr’:\n",
      "\n",
      "    transpose\n",
      "\n",
      "\n"
     ]
    }
   ],
   "source": [
    "library(\"ggplot2\")\n",
    "library(\"ggpubr\")\n",
    "library(\"stringr\")\n",
    "library(\"gplots\")\n",
    "library(\"viridis\")\n",
    "#library(\"VennDiagram\")\n",
    "library(\"preprocessCore\")\n",
    "library(tidyverse)\n",
    "\n",
    "\n",
    "library(DESeq2)\n",
    "\n",
    "#citation(\"DESeq2\")\n",
    "library(calibrate)\n",
    "library(eulerr)\n",
    "library(cluster)\n",
    "library(ComplexHeatmap)\n",
    "#library(data.table)\n",
    "library(nortest)\n",
    "library(RColorBrewer)\n",
    "library(dplyr)\n",
    "library(data.table)"
   ]
  },
  {
   "cell_type": "code",
   "execution_count": 3,
   "metadata": {},
   "outputs": [],
   "source": [
    "#citation('ggplot2')"
   ]
  },
  {
   "cell_type": "code",
   "execution_count": 7,
   "metadata": {},
   "outputs": [],
   "source": [
    "rm(list=ls())\n",
    "options(repr.matrix.max.rows=600, repr.matrix.max.cols=200)\n",
    "options(stringsAsFactors = FALSE)\n"
   ]
  },
  {
   "cell_type": "code",
   "execution_count": 8,
   "metadata": {},
   "outputs": [],
   "source": [
    "# final colors\n",
    "# will show sh1, sh3, sh6, sh7, sh11, wt, eq, drosha\n",
    "col_shgfp <- \"gray30\"\n",
    "col_sh1 <- '#9E0142'\n",
    "col_sh3 <- '#E55649'\n",
    "col_sh6 <- '#FDAE61'\n",
    "col_sh7 <- '#FEE08B'\n",
    "col_sh11 <- '#3288BD'\n",
    "col_drosha <- \"#66C2A5\"\n",
    "col_wt <- '#60258a'\n",
    "col_eq <- '#4957A4'\n",
    "\n",
    "ownCol <- c(col_shgfp, col_sh1, col_sh3, col_sh6, col_sh7, col_sh11, col_drosha, col_wt, col_eq)"
   ]
  },
  {
   "cell_type": "markdown",
   "metadata": {},
   "source": [
    "## files"
   ]
  },
  {
   "cell_type": "markdown",
   "metadata": {},
   "source": [
    "### read files: consider only \"dox\" samples\n",
    "#### rsem output"
   ]
  },
  {
   "cell_type": "code",
   "execution_count": 9,
   "metadata": {},
   "outputs": [],
   "source": [
    "# Sadat has following samples:\n",
    "# 20190912: hela shgfp, shints1, shints11                                     \n",
    "# 20190606: hela shgfp, shints1, shints11, 3d, 1ug dox\n",
    "# 20190326: hela shgfp, shints1, shints4, shints9, shints11\n",
    "# 20190724: hela shints3, shints4, shints7, shints9, 3d, 1ug dox  \n",
    "# 202010: hela shgfp, shints6\n",
    "\n",
    "# Ezra has the following samples\n",
    "# 20190510: hela shgfp, shints11 (Ali?)\n",
    "# 20191103: hela rescue: empty, wt, eq"
   ]
  },
  {
   "cell_type": "code",
   "execution_count": 10,
   "metadata": {},
   "outputs": [],
   "source": [
    "# final samples to use:\n",
    "\n",
    "# shgfp, sh1, sh3, sh7, sh11 from the Jun2019 set, \n",
    "# sh6 from Oct 2020 set\n",
    "# siCtrl, siDrosha"
   ]
  },
  {
   "cell_type": "markdown",
   "metadata": {},
   "source": [
    "##### Input files: rsem counts"
   ]
  },
  {
   "cell_type": "raw",
   "metadata": {},
   "source": [
    "generated in STAR_map_primiRNA.sh\n",
    "\n",
    "cd /path/to/bam_files\n",
    "mkdir rsem_final\n",
    "\n",
    "for f in *.toTranscriptome.out.bam;\n",
    "do\n",
    "rsem-calculate-expression -p 20 \\\n",
    "--bam \"$f\" \\\n",
    "--forward-prob 0 \\\n",
    "/path/to/STAR_primir/primir_rsem \\\n",
    "rsem_final/\"${f%.bamAligned.toTranscriptome.out.bam}\"\n",
    "done;"
   ]
  },
  {
   "cell_type": "markdown",
   "metadata": {},
   "source": [
    "##### shINTS"
   ]
  },
  {
   "cell_type": "code",
   "execution_count": 14,
   "metadata": {},
   "outputs": [],
   "source": [
    "hela_shgfp_dox_r1 <- read.delim(\"hela_shgfp_dox_r1_trim_primir.genes.results\", header=TRUE, sep=\"\\t\")\n",
    "hela_shgfp_dox_r2 <- read.delim(\"hela_shgfp_dox_r2_trim_primir.genes.results\", header=TRUE, sep=\"\\t\")\n",
    "\n",
    "hela_shints1_dox_r1 <- read.delim(\"hela_shints1_dox_r1_trim_primir.genes.results\", header=TRUE, sep=\"\\t\")\n",
    "hela_shints1_dox_r2 <- read.delim(\"hela_shints1_dox_r2_trim_primir.genes.results\", header=TRUE, sep=\"\\t\")\n",
    "\n",
    "hela_shint3_dox_r1 <- read.delim(\"hela_shints3_dox_r1_trim_primir.genes.results\", header=TRUE, sep=\"\\t\")\n",
    "hela_shint3_dox_r2 <- read.delim(\"hela_shints3_dox_r2_trim_primir.genes.results\", header=TRUE, sep=\"\\t\")\n",
    "\n",
    "hela_shint7_dox_r1 <- read.delim(\"hela_shints7_dox_r1_trim_primir.genes.results\", header=TRUE, sep=\"\\t\")\n",
    "hela_shint7_dox_r2 <- read.delim(\"hela_shints7_dox_r2_trim_primir.genes.results\", header=TRUE, sep=\"\\t\")\n",
    "\n",
    "hela_shints11_dox_r1 <- read.delim(\"hela_shints11_dox_r1_trim_primir.genes.results\", header=TRUE, sep=\"\\t\")\n",
    "hela_shints11_dox_r2 <- read.delim(\"hela_shints11_dox_r2_trim_primir.genes.results\", header=TRUE, sep=\"\\t\")\n"
   ]
  },
  {
   "cell_type": "markdown",
   "metadata": {},
   "source": [
    "##### shINTS6 Oct2020"
   ]
  },
  {
   "cell_type": "code",
   "execution_count": 12,
   "metadata": {},
   "outputs": [],
   "source": [
    "hela3_shgfp_dox_r1 <- read.delim(\"hela3_shgfp_dox_r1_trim_primir.genes.results\", header=TRUE, sep=\"\\t\")\n",
    "hela3_shgfp_dox_r2 <- read.delim(\"hela3_shgfp_dox_r1_trim_primir.genes.results\", header=TRUE, sep=\"\\t\")\n",
    "\n",
    "hela3_shints6_dox_r1 <- read.delim(\"hela3_shints6_dox_r1_trim_primir.genes.results\", header=TRUE, sep=\"\\t\")\n",
    "hela3_shints6_dox_r2 <- read.delim(\"hela3_shints6_dox_r1_trim_primir.genes.results\", header=TRUE, sep=\"\\t\")"
   ]
  },
  {
   "cell_type": "markdown",
   "metadata": {},
   "source": [
    "##### RNA-seq siDrosha"
   ]
  },
  {
   "cell_type": "code",
   "execution_count": 11,
   "metadata": {},
   "outputs": [],
   "source": [
    "hela_siC_total_r1 <- read.delim(\"hela_siC_r1_trim_primir.genes.results\", header=TRUE, sep=\"\\t\")\n",
    "hela_siC_total_r2 <- read.delim(\"hela_siC_r2_trim_primir.genes.results\", header=TRUE, sep=\"\\t\")\n",
    "\n",
    "hela_siDrosha_total_r1 <- read.delim(\"hela_siDrosha_r1_trim_primir.genes.results\", header=TRUE, sep=\"\\t\")\n",
    "hela_siDrosha_totala_r2 <- read.delim(\"hela_siDrosha_r2_trim_primir.genes.results\", header=TRUE, sep=\"\\t\")"
   ]
  },
  {
   "cell_type": "code",
   "execution_count": 13,
   "metadata": {},
   "outputs": [
    {
     "data": {
      "text/html": [
       "<style>\n",
       ".list-inline {list-style: none; margin:0; padding: 0}\n",
       ".list-inline>li {display: inline-block}\n",
       ".list-inline>li:not(:last-child)::after {content: \"\\00b7\"; padding: 0 .5ex}\n",
       "</style>\n",
       "<ol class=list-inline><li>'hela_shgfp_dox_r1'</li><li>'hela_shgfp_dox_r2'</li><li>'hela_shint3_dox_r1'</li><li>'hela_shint3_dox_r2'</li><li>'hela_shint7_dox_r1'</li><li>'hela_shint7_dox_r2'</li><li>'hela_shints1_dox_r1'</li><li>'hela_shints1_dox_r2'</li><li>'hela_shints11_dox_r1'</li><li>'hela_shints11_dox_r2'</li><li>'hela_siC_total_r1'</li><li>'hela_siC_total_r2'</li><li>'hela_siDrosha_total_r1'</li><li>'hela_siDrosha_totala_r2'</li><li>'hela3_shgfp_dox_r1'</li><li>'hela3_shgfp_dox_r2'</li><li>'hela3_shints6_dox_r1'</li><li>'hela3_shints6_dox_r2'</li></ol>\n"
      ],
      "text/latex": [
       "\\begin{enumerate*}\n",
       "\\item 'hela\\_shgfp\\_dox\\_r1'\n",
       "\\item 'hela\\_shgfp\\_dox\\_r2'\n",
       "\\item 'hela\\_shint3\\_dox\\_r1'\n",
       "\\item 'hela\\_shint3\\_dox\\_r2'\n",
       "\\item 'hela\\_shint7\\_dox\\_r1'\n",
       "\\item 'hela\\_shint7\\_dox\\_r2'\n",
       "\\item 'hela\\_shints1\\_dox\\_r1'\n",
       "\\item 'hela\\_shints1\\_dox\\_r2'\n",
       "\\item 'hela\\_shints11\\_dox\\_r1'\n",
       "\\item 'hela\\_shints11\\_dox\\_r2'\n",
       "\\item 'hela\\_siC\\_total\\_r1'\n",
       "\\item 'hela\\_siC\\_total\\_r2'\n",
       "\\item 'hela\\_siDrosha\\_total\\_r1'\n",
       "\\item 'hela\\_siDrosha\\_totala\\_r2'\n",
       "\\item 'hela3\\_shgfp\\_dox\\_r1'\n",
       "\\item 'hela3\\_shgfp\\_dox\\_r2'\n",
       "\\item 'hela3\\_shints6\\_dox\\_r1'\n",
       "\\item 'hela3\\_shints6\\_dox\\_r2'\n",
       "\\end{enumerate*}\n"
      ],
      "text/markdown": [
       "1. 'hela_shgfp_dox_r1'\n",
       "2. 'hela_shgfp_dox_r2'\n",
       "3. 'hela_shint3_dox_r1'\n",
       "4. 'hela_shint3_dox_r2'\n",
       "5. 'hela_shint7_dox_r1'\n",
       "6. 'hela_shint7_dox_r2'\n",
       "7. 'hela_shints1_dox_r1'\n",
       "8. 'hela_shints1_dox_r2'\n",
       "9. 'hela_shints11_dox_r1'\n",
       "10. 'hela_shints11_dox_r2'\n",
       "11. 'hela_siC_total_r1'\n",
       "12. 'hela_siC_total_r2'\n",
       "13. 'hela_siDrosha_total_r1'\n",
       "14. 'hela_siDrosha_totala_r2'\n",
       "15. 'hela3_shgfp_dox_r1'\n",
       "16. 'hela3_shgfp_dox_r2'\n",
       "17. 'hela3_shints6_dox_r1'\n",
       "18. 'hela3_shints6_dox_r2'\n",
       "\n",
       "\n"
      ],
      "text/plain": [
       " [1] \"hela_shgfp_dox_r1\"       \"hela_shgfp_dox_r2\"      \n",
       " [3] \"hela_shint3_dox_r1\"      \"hela_shint3_dox_r2\"     \n",
       " [5] \"hela_shint7_dox_r1\"      \"hela_shint7_dox_r2\"     \n",
       " [7] \"hela_shints1_dox_r1\"     \"hela_shints1_dox_r2\"    \n",
       " [9] \"hela_shints11_dox_r1\"    \"hela_shints11_dox_r2\"   \n",
       "[11] \"hela_siC_total_r1\"       \"hela_siC_total_r2\"      \n",
       "[13] \"hela_siDrosha_total_r1\"  \"hela_siDrosha_totala_r2\"\n",
       "[15] \"hela3_shgfp_dox_r1\"      \"hela3_shgfp_dox_r2\"     \n",
       "[17] \"hela3_shints6_dox_r1\"    \"hela3_shints6_dox_r2\"   "
      ]
     },
     "metadata": {},
     "output_type": "display_data"
    }
   ],
   "source": [
    "myfiles <- ls(pattern=\"_r[1,2]\")\n",
    "myfiles"
   ]
  },
  {
   "cell_type": "markdown",
   "metadata": {},
   "source": [
    "# 1) read all data"
   ]
  },
  {
   "cell_type": "markdown",
   "metadata": {},
   "source": [
    "### Create data frame with all samples"
   ]
  },
  {
   "cell_type": "code",
   "execution_count": 15,
   "metadata": {},
   "outputs": [
    {
     "data": {
      "text/html": [
       "<table>\n",
       "<caption>A data.frame: 2 × 7</caption>\n",
       "<thead>\n",
       "\t<tr><th></th><th scope=col>gene_id</th><th scope=col>transcript_id.s.</th><th scope=col>length</th><th scope=col>effective_length</th><th scope=col>expected_count</th><th scope=col>TPM</th><th scope=col>FPKM</th></tr>\n",
       "\t<tr><th></th><th scope=col>&lt;chr&gt;</th><th scope=col>&lt;chr&gt;</th><th scope=col>&lt;dbl&gt;</th><th scope=col>&lt;dbl&gt;</th><th scope=col>&lt;dbl&gt;</th><th scope=col>&lt;dbl&gt;</th><th scope=col>&lt;dbl&gt;</th></tr>\n",
       "</thead>\n",
       "<tbody>\n",
       "\t<tr><th scope=row>1</th><td>ENSG00000010310</td><td>ENST00000263281,ENST00000304207,ENST00000585889,ENST00000588816,ENST00000590918,ENST00000591224,ENST00000591322,ENST00000593127</td><td>2267.21</td><td>2193.11</td><td> 25.11</td><td> 54.03</td><td> 25.83</td></tr>\n",
       "\t<tr><th scope=row>2</th><td>ENSG00000011677</td><td>ENST00000370314,ENST00000417858,ENST00000497894,ENST00000535043                                                                </td><td>2445.50</td><td>2371.40</td><td>297.00</td><td>591.06</td><td>282.55</td></tr>\n",
       "</tbody>\n",
       "</table>\n"
      ],
      "text/latex": [
       "A data.frame: 2 × 7\n",
       "\\begin{tabular}{r|lllllll}\n",
       "  & gene\\_id & transcript\\_id.s. & length & effective\\_length & expected\\_count & TPM & FPKM\\\\\n",
       "  & <chr> & <chr> & <dbl> & <dbl> & <dbl> & <dbl> & <dbl>\\\\\n",
       "\\hline\n",
       "\t1 & ENSG00000010310 & ENST00000263281,ENST00000304207,ENST00000585889,ENST00000588816,ENST00000590918,ENST00000591224,ENST00000591322,ENST00000593127 & 2267.21 & 2193.11 &  25.11 &  54.03 &  25.83\\\\\n",
       "\t2 & ENSG00000011677 & ENST00000370314,ENST00000417858,ENST00000497894,ENST00000535043                                                                 & 2445.50 & 2371.40 & 297.00 & 591.06 & 282.55\\\\\n",
       "\\end{tabular}\n"
      ],
      "text/markdown": [
       "\n",
       "A data.frame: 2 × 7\n",
       "\n",
       "| <!--/--> | gene_id &lt;chr&gt; | transcript_id.s. &lt;chr&gt; | length &lt;dbl&gt; | effective_length &lt;dbl&gt; | expected_count &lt;dbl&gt; | TPM &lt;dbl&gt; | FPKM &lt;dbl&gt; |\n",
       "|---|---|---|---|---|---|---|---|\n",
       "| 1 | ENSG00000010310 | ENST00000263281,ENST00000304207,ENST00000585889,ENST00000588816,ENST00000590918,ENST00000591224,ENST00000591322,ENST00000593127 | 2267.21 | 2193.11 |  25.11 |  54.03 |  25.83 |\n",
       "| 2 | ENSG00000011677 | ENST00000370314,ENST00000417858,ENST00000497894,ENST00000535043                                                                 | 2445.50 | 2371.40 | 297.00 | 591.06 | 282.55 |\n",
       "\n"
      ],
      "text/plain": [
       "  gene_id        \n",
       "1 ENSG00000010310\n",
       "2 ENSG00000011677\n",
       "  transcript_id.s.                                                                                                               \n",
       "1 ENST00000263281,ENST00000304207,ENST00000585889,ENST00000588816,ENST00000590918,ENST00000591224,ENST00000591322,ENST00000593127\n",
       "2 ENST00000370314,ENST00000417858,ENST00000497894,ENST00000535043                                                                \n",
       "  length  effective_length expected_count TPM    FPKM  \n",
       "1 2267.21 2193.11           25.11          54.03  25.83\n",
       "2 2445.50 2371.40          297.00         591.06 282.55"
      ]
     },
     "metadata": {},
     "output_type": "display_data"
    }
   ],
   "source": [
    "head(hela_shints11_dox_r1, n=2)"
   ]
  },
  {
   "cell_type": "code",
   "execution_count": 17,
   "metadata": {},
   "outputs": [],
   "source": [
    "d <- as.data.frame(hela_shgfp_dox_r1[,1])"
   ]
  },
  {
   "cell_type": "code",
   "execution_count": 29,
   "metadata": {},
   "outputs": [
    {
     "data": {
      "text/html": [
       "<table>\n",
       "<caption>A data.frame: 6 × 18</caption>\n",
       "<thead>\n",
       "\t<tr><th></th><th scope=col>hela_shgfp_dox_r1</th><th scope=col>hela_shgfp_dox_r2</th><th scope=col>hela_shint3_dox_r1</th><th scope=col>hela_shint3_dox_r2</th><th scope=col>hela_shint7_dox_r1</th><th scope=col>hela_shint7_dox_r2</th><th scope=col>hela_shints1_dox_r1</th><th scope=col>hela_shints1_dox_r2</th><th scope=col>hela_shints11_dox_r1</th><th scope=col>hela_shints11_dox_r2</th><th scope=col>hela_siC_total_r1</th><th scope=col>hela_siC_total_r2</th><th scope=col>hela_siDrosha_total_r1</th><th scope=col>hela_siDrosha_totala_r2</th><th scope=col>hela3_shgfp_dox_r1</th><th scope=col>hela3_shgfp_dox_r2</th><th scope=col>hela3_shints6_dox_r1</th><th scope=col>hela3_shints6_dox_r2</th></tr>\n",
       "\t<tr><th></th><th scope=col>&lt;dbl&gt;</th><th scope=col>&lt;dbl&gt;</th><th scope=col>&lt;dbl&gt;</th><th scope=col>&lt;dbl&gt;</th><th scope=col>&lt;dbl&gt;</th><th scope=col>&lt;dbl&gt;</th><th scope=col>&lt;dbl&gt;</th><th scope=col>&lt;dbl&gt;</th><th scope=col>&lt;dbl&gt;</th><th scope=col>&lt;dbl&gt;</th><th scope=col>&lt;dbl&gt;</th><th scope=col>&lt;dbl&gt;</th><th scope=col>&lt;dbl&gt;</th><th scope=col>&lt;dbl&gt;</th><th scope=col>&lt;dbl&gt;</th><th scope=col>&lt;dbl&gt;</th><th scope=col>&lt;dbl&gt;</th><th scope=col>&lt;dbl&gt;</th></tr>\n",
       "</thead>\n",
       "<tbody>\n",
       "\t<tr><th scope=row>ENSG00000010310</th><td>   47.00</td><td>   51.0</td><td>   30.00</td><td>   23.00</td><td>  149.00</td><td>  136.00</td><td>  143.00</td><td>  142.00</td><td>   25.11</td><td>   23.00</td><td>   16.00</td><td>   10.00</td><td>    4.0</td><td>    7.00</td><td>  32.00</td><td>  39</td><td>   50</td><td>   58</td></tr>\n",
       "\t<tr><th scope=row>ENSG00000011677</th><td>  375.00</td><td>  393.0</td><td>  135.00</td><td>  122.00</td><td>  154.00</td><td>  173.00</td><td>  186.00</td><td>  187.00</td><td>  297.00</td><td>  319.00</td><td>  254.00</td><td>  255.00</td><td>  414.0</td><td>  371.00</td><td> 169.00</td><td> 205</td><td>  130</td><td>  135</td></tr>\n",
       "\t<tr><th scope=row>ENSG00000033170</th><td> 1594.00</td><td> 1925.0</td><td> 1765.00</td><td> 1689.00</td><td> 1875.00</td><td> 1919.00</td><td> 4829.96</td><td> 5062.99</td><td> 1186.00</td><td> 1006.00</td><td>  591.00</td><td>  601.00</td><td>  922.0</td><td>  784.00</td><td> 620.00</td><td> 724</td><td>  646</td><td>  787</td></tr>\n",
       "\t<tr><th scope=row>ENSG00000048991</th><td> 2076.00</td><td> 2392.0</td><td>  917.00</td><td>  819.00</td><td> 1277.00</td><td> 1331.00</td><td> 1676.00</td><td> 1440.00</td><td> 1741.00</td><td> 1815.00</td><td> 1043.00</td><td> 1256.00</td><td>  995.0</td><td>  822.00</td><td> 753.00</td><td> 897</td><td>  642</td><td>  783</td></tr>\n",
       "\t<tr><th scope=row>ENSG00000062716</th><td>11591.56</td><td>14018.6</td><td>15801.97</td><td>13651.96</td><td>12573.99</td><td>13138.97</td><td>40630.06</td><td>44288.06</td><td>24266.28</td><td>27557.18</td><td>23205.93</td><td>23509.75</td><td>28220.7</td><td>19130.93</td><td>4249.82</td><td>4261</td><td>11508</td><td>14961</td></tr>\n",
       "\t<tr><th scope=row>ENSG00000063660</th><td>  457.00</td><td>  169.0</td><td> 3045.00</td><td> 2936.00</td><td> 3152.00</td><td> 3752.00</td><td>  341.00</td><td>  418.00</td><td>  516.00</td><td>  291.00</td><td>  615.00</td><td>  682.00</td><td>  342.0</td><td>  963.00</td><td>1766.00</td><td>2014</td><td> 2423</td><td> 2285</td></tr>\n",
       "</tbody>\n",
       "</table>\n"
      ],
      "text/latex": [
       "A data.frame: 6 × 18\n",
       "\\begin{tabular}{r|llllllllllllllllll}\n",
       "  & hela\\_shgfp\\_dox\\_r1 & hela\\_shgfp\\_dox\\_r2 & hela\\_shint3\\_dox\\_r1 & hela\\_shint3\\_dox\\_r2 & hela\\_shint7\\_dox\\_r1 & hela\\_shint7\\_dox\\_r2 & hela\\_shints1\\_dox\\_r1 & hela\\_shints1\\_dox\\_r2 & hela\\_shints11\\_dox\\_r1 & hela\\_shints11\\_dox\\_r2 & hela\\_siC\\_total\\_r1 & hela\\_siC\\_total\\_r2 & hela\\_siDrosha\\_total\\_r1 & hela\\_siDrosha\\_totala\\_r2 & hela3\\_shgfp\\_dox\\_r1 & hela3\\_shgfp\\_dox\\_r2 & hela3\\_shints6\\_dox\\_r1 & hela3\\_shints6\\_dox\\_r2\\\\\n",
       "  & <dbl> & <dbl> & <dbl> & <dbl> & <dbl> & <dbl> & <dbl> & <dbl> & <dbl> & <dbl> & <dbl> & <dbl> & <dbl> & <dbl> & <dbl> & <dbl> & <dbl> & <dbl>\\\\\n",
       "\\hline\n",
       "\tENSG00000010310 &    47.00 &    51.0 &    30.00 &    23.00 &   149.00 &   136.00 &   143.00 &   142.00 &    25.11 &    23.00 &    16.00 &    10.00 &     4.0 &     7.00 &   32.00 &   39 &    50 &    58\\\\\n",
       "\tENSG00000011677 &   375.00 &   393.0 &   135.00 &   122.00 &   154.00 &   173.00 &   186.00 &   187.00 &   297.00 &   319.00 &   254.00 &   255.00 &   414.0 &   371.00 &  169.00 &  205 &   130 &   135\\\\\n",
       "\tENSG00000033170 &  1594.00 &  1925.0 &  1765.00 &  1689.00 &  1875.00 &  1919.00 &  4829.96 &  5062.99 &  1186.00 &  1006.00 &   591.00 &   601.00 &   922.0 &   784.00 &  620.00 &  724 &   646 &   787\\\\\n",
       "\tENSG00000048991 &  2076.00 &  2392.0 &   917.00 &   819.00 &  1277.00 &  1331.00 &  1676.00 &  1440.00 &  1741.00 &  1815.00 &  1043.00 &  1256.00 &   995.0 &   822.00 &  753.00 &  897 &   642 &   783\\\\\n",
       "\tENSG00000062716 & 11591.56 & 14018.6 & 15801.97 & 13651.96 & 12573.99 & 13138.97 & 40630.06 & 44288.06 & 24266.28 & 27557.18 & 23205.93 & 23509.75 & 28220.7 & 19130.93 & 4249.82 & 4261 & 11508 & 14961\\\\\n",
       "\tENSG00000063660 &   457.00 &   169.0 &  3045.00 &  2936.00 &  3152.00 &  3752.00 &   341.00 &   418.00 &   516.00 &   291.00 &   615.00 &   682.00 &   342.0 &   963.00 & 1766.00 & 2014 &  2423 &  2285\\\\\n",
       "\\end{tabular}\n"
      ],
      "text/markdown": [
       "\n",
       "A data.frame: 6 × 18\n",
       "\n",
       "| <!--/--> | hela_shgfp_dox_r1 &lt;dbl&gt; | hela_shgfp_dox_r2 &lt;dbl&gt; | hela_shint3_dox_r1 &lt;dbl&gt; | hela_shint3_dox_r2 &lt;dbl&gt; | hela_shint7_dox_r1 &lt;dbl&gt; | hela_shint7_dox_r2 &lt;dbl&gt; | hela_shints1_dox_r1 &lt;dbl&gt; | hela_shints1_dox_r2 &lt;dbl&gt; | hela_shints11_dox_r1 &lt;dbl&gt; | hela_shints11_dox_r2 &lt;dbl&gt; | hela_siC_total_r1 &lt;dbl&gt; | hela_siC_total_r2 &lt;dbl&gt; | hela_siDrosha_total_r1 &lt;dbl&gt; | hela_siDrosha_totala_r2 &lt;dbl&gt; | hela3_shgfp_dox_r1 &lt;dbl&gt; | hela3_shgfp_dox_r2 &lt;dbl&gt; | hela3_shints6_dox_r1 &lt;dbl&gt; | hela3_shints6_dox_r2 &lt;dbl&gt; |\n",
       "|---|---|---|---|---|---|---|---|---|---|---|---|---|---|---|---|---|---|---|\n",
       "| ENSG00000010310 |    47.00 |    51.0 |    30.00 |    23.00 |   149.00 |   136.00 |   143.00 |   142.00 |    25.11 |    23.00 |    16.00 |    10.00 |     4.0 |     7.00 |   32.00 |   39 |    50 |    58 |\n",
       "| ENSG00000011677 |   375.00 |   393.0 |   135.00 |   122.00 |   154.00 |   173.00 |   186.00 |   187.00 |   297.00 |   319.00 |   254.00 |   255.00 |   414.0 |   371.00 |  169.00 |  205 |   130 |   135 |\n",
       "| ENSG00000033170 |  1594.00 |  1925.0 |  1765.00 |  1689.00 |  1875.00 |  1919.00 |  4829.96 |  5062.99 |  1186.00 |  1006.00 |   591.00 |   601.00 |   922.0 |   784.00 |  620.00 |  724 |   646 |   787 |\n",
       "| ENSG00000048991 |  2076.00 |  2392.0 |   917.00 |   819.00 |  1277.00 |  1331.00 |  1676.00 |  1440.00 |  1741.00 |  1815.00 |  1043.00 |  1256.00 |   995.0 |   822.00 |  753.00 |  897 |   642 |   783 |\n",
       "| ENSG00000062716 | 11591.56 | 14018.6 | 15801.97 | 13651.96 | 12573.99 | 13138.97 | 40630.06 | 44288.06 | 24266.28 | 27557.18 | 23205.93 | 23509.75 | 28220.7 | 19130.93 | 4249.82 | 4261 | 11508 | 14961 |\n",
       "| ENSG00000063660 |   457.00 |   169.0 |  3045.00 |  2936.00 |  3152.00 |  3752.00 |   341.00 |   418.00 |   516.00 |   291.00 |   615.00 |   682.00 |   342.0 |   963.00 | 1766.00 | 2014 |  2423 |  2285 |\n",
       "\n"
      ],
      "text/plain": [
       "                hela_shgfp_dox_r1 hela_shgfp_dox_r2 hela_shint3_dox_r1\n",
       "ENSG00000010310    47.00             51.0              30.00          \n",
       "ENSG00000011677   375.00            393.0             135.00          \n",
       "ENSG00000033170  1594.00           1925.0            1765.00          \n",
       "ENSG00000048991  2076.00           2392.0             917.00          \n",
       "ENSG00000062716 11591.56          14018.6           15801.97          \n",
       "ENSG00000063660   457.00            169.0            3045.00          \n",
       "                hela_shint3_dox_r2 hela_shint7_dox_r1 hela_shint7_dox_r2\n",
       "ENSG00000010310    23.00             149.00             136.00          \n",
       "ENSG00000011677   122.00             154.00             173.00          \n",
       "ENSG00000033170  1689.00            1875.00            1919.00          \n",
       "ENSG00000048991   819.00            1277.00            1331.00          \n",
       "ENSG00000062716 13651.96           12573.99           13138.97          \n",
       "ENSG00000063660  2936.00            3152.00            3752.00          \n",
       "                hela_shints1_dox_r1 hela_shints1_dox_r2 hela_shints11_dox_r1\n",
       "ENSG00000010310   143.00              142.00               25.11            \n",
       "ENSG00000011677   186.00              187.00              297.00            \n",
       "ENSG00000033170  4829.96             5062.99             1186.00            \n",
       "ENSG00000048991  1676.00             1440.00             1741.00            \n",
       "ENSG00000062716 40630.06            44288.06            24266.28            \n",
       "ENSG00000063660   341.00              418.00              516.00            \n",
       "                hela_shints11_dox_r2 hela_siC_total_r1 hela_siC_total_r2\n",
       "ENSG00000010310    23.00                16.00             10.00         \n",
       "ENSG00000011677   319.00               254.00            255.00         \n",
       "ENSG00000033170  1006.00               591.00            601.00         \n",
       "ENSG00000048991  1815.00              1043.00           1256.00         \n",
       "ENSG00000062716 27557.18             23205.93          23509.75         \n",
       "ENSG00000063660   291.00               615.00            682.00         \n",
       "                hela_siDrosha_total_r1 hela_siDrosha_totala_r2\n",
       "ENSG00000010310     4.0                    7.00               \n",
       "ENSG00000011677   414.0                  371.00               \n",
       "ENSG00000033170   922.0                  784.00               \n",
       "ENSG00000048991   995.0                  822.00               \n",
       "ENSG00000062716 28220.7                19130.93               \n",
       "ENSG00000063660   342.0                  963.00               \n",
       "                hela3_shgfp_dox_r1 hela3_shgfp_dox_r2 hela3_shints6_dox_r1\n",
       "ENSG00000010310   32.00              39                  50               \n",
       "ENSG00000011677  169.00             205                 130               \n",
       "ENSG00000033170  620.00             724                 646               \n",
       "ENSG00000048991  753.00             897                 642               \n",
       "ENSG00000062716 4249.82            4261               11508               \n",
       "ENSG00000063660 1766.00            2014                2423               \n",
       "                hela3_shints6_dox_r2\n",
       "ENSG00000010310    58               \n",
       "ENSG00000011677   135               \n",
       "ENSG00000033170   787               \n",
       "ENSG00000048991   783               \n",
       "ENSG00000062716 14961               \n",
       "ENSG00000063660  2285               "
      ]
     },
     "metadata": {},
     "output_type": "display_data"
    },
    {
     "data": {
      "text/html": [
       "267"
      ],
      "text/latex": [
       "267"
      ],
      "text/markdown": [
       "267"
      ],
      "text/plain": [
       "[1] 267"
      ]
     },
     "metadata": {},
     "output_type": "display_data"
    }
   ],
   "source": [
    "# all samples in one data frame\n",
    "\n",
    "# read the data\n",
    "d <- as.data.frame(hela_shgfp_dox_r1[,1])\n",
    "colnames(d) <- \"gene_id\"\n",
    "for (i in 1:length(myfiles)){\n",
    "        n <- get(myfiles[i])\n",
    "        d[,i+1] <- n[,5] # expected_count column!!!\n",
    "    }\n",
    "colnames(d) <- c(\"gene_id\", myfiles)\n",
    "\n",
    "# name rows\n",
    "rownames(d) <- d$gene_id\n",
    "d <- d[,-1]\n",
    "head(d)\n",
    "nrow(d)"
   ]
  },
  {
   "cell_type": "markdown",
   "metadata": {},
   "source": [
    "### assign gene names"
   ]
  },
  {
   "cell_type": "code",
   "execution_count": 30,
   "metadata": {},
   "outputs": [
    {
     "data": {
      "text/html": [
       "<table>\n",
       "<caption>A data.table: 6 × 2</caption>\n",
       "<thead>\n",
       "\t<tr><th scope=col>V1</th><th scope=col>V9</th></tr>\n",
       "\t<tr><th scope=col>&lt;chr&gt;</th><th scope=col>&lt;chr&gt;</th></tr>\n",
       "</thead>\n",
       "<tbody>\n",
       "\t<tr><td>chr1</td><td>gene_id \"ENSG00000066136\"; gene_version \"15\"; gene_name \"NFYC\"; gene_source \"ensembl_havana\"; gene_biotype \"protein_coding\"; </td></tr>\n",
       "\t<tr><td>chr1</td><td>gene_id \"ENSG00000198974\"; gene_version \"1\"; gene_name \"MIR30E\"; gene_source \"ensembl\"; gene_biotype \"miRNA\";                </td></tr>\n",
       "\t<tr><td>chr1</td><td>gene_id \"ENSG00000207962\"; gene_version \"1\"; gene_name \"MIR30C1\"; gene_source \"ensembl\"; gene_biotype \"miRNA\";               </td></tr>\n",
       "\t<tr><td>chr1</td><td>gene_id \"ENSG00000199135\"; gene_version \"1\"; gene_name \"MIR101-1\"; gene_source \"ensembl\"; gene_biotype \"miRNA\";              </td></tr>\n",
       "\t<tr><td>chr1</td><td>gene_id \"ENSG00000132485\"; gene_version \"8\"; gene_name \"ZRANB2\"; gene_source \"ensembl_havana\"; gene_biotype \"protein_coding\";</td></tr>\n",
       "\t<tr><td>chr1</td><td>gene_id \"ENSG00000207721\"; gene_version \"1\"; gene_name \"MIR186\"; gene_source \"ensembl\"; gene_biotype \"miRNA\";                </td></tr>\n",
       "</tbody>\n",
       "</table>\n"
      ],
      "text/latex": [
       "A data.table: 6 × 2\n",
       "\\begin{tabular}{ll}\n",
       " V1 & V9\\\\\n",
       " <chr> & <chr>\\\\\n",
       "\\hline\n",
       "\t chr1 & gene\\_id \"ENSG00000066136\"; gene\\_version \"15\"; gene\\_name \"NFYC\"; gene\\_source \"ensembl\\_havana\"; gene\\_biotype \"protein\\_coding\"; \\\\\n",
       "\t chr1 & gene\\_id \"ENSG00000198974\"; gene\\_version \"1\"; gene\\_name \"MIR30E\"; gene\\_source \"ensembl\"; gene\\_biotype \"miRNA\";                \\\\\n",
       "\t chr1 & gene\\_id \"ENSG00000207962\"; gene\\_version \"1\"; gene\\_name \"MIR30C1\"; gene\\_source \"ensembl\"; gene\\_biotype \"miRNA\";               \\\\\n",
       "\t chr1 & gene\\_id \"ENSG00000199135\"; gene\\_version \"1\"; gene\\_name \"MIR101-1\"; gene\\_source \"ensembl\"; gene\\_biotype \"miRNA\";              \\\\\n",
       "\t chr1 & gene\\_id \"ENSG00000132485\"; gene\\_version \"8\"; gene\\_name \"ZRANB2\"; gene\\_source \"ensembl\\_havana\"; gene\\_biotype \"protein\\_coding\";\\\\\n",
       "\t chr1 & gene\\_id \"ENSG00000207721\"; gene\\_version \"1\"; gene\\_name \"MIR186\"; gene\\_source \"ensembl\"; gene\\_biotype \"miRNA\";                \\\\\n",
       "\\end{tabular}\n"
      ],
      "text/markdown": [
       "\n",
       "A data.table: 6 × 2\n",
       "\n",
       "| V1 &lt;chr&gt; | V9 &lt;chr&gt; |\n",
       "|---|---|\n",
       "| chr1 | gene_id \"ENSG00000066136\"; gene_version \"15\"; gene_name \"NFYC\"; gene_source \"ensembl_havana\"; gene_biotype \"protein_coding\";  |\n",
       "| chr1 | gene_id \"ENSG00000198974\"; gene_version \"1\"; gene_name \"MIR30E\"; gene_source \"ensembl\"; gene_biotype \"miRNA\";                 |\n",
       "| chr1 | gene_id \"ENSG00000207962\"; gene_version \"1\"; gene_name \"MIR30C1\"; gene_source \"ensembl\"; gene_biotype \"miRNA\";                |\n",
       "| chr1 | gene_id \"ENSG00000199135\"; gene_version \"1\"; gene_name \"MIR101-1\"; gene_source \"ensembl\"; gene_biotype \"miRNA\";               |\n",
       "| chr1 | gene_id \"ENSG00000132485\"; gene_version \"8\"; gene_name \"ZRANB2\"; gene_source \"ensembl_havana\"; gene_biotype \"protein_coding\"; |\n",
       "| chr1 | gene_id \"ENSG00000207721\"; gene_version \"1\"; gene_name \"MIR186\"; gene_source \"ensembl\"; gene_biotype \"miRNA\";                 |\n",
       "\n"
      ],
      "text/plain": [
       "  V1  \n",
       "1 chr1\n",
       "2 chr1\n",
       "3 chr1\n",
       "4 chr1\n",
       "5 chr1\n",
       "6 chr1\n",
       "  V9                                                                                                                           \n",
       "1 gene_id \"ENSG00000066136\"; gene_version \"15\"; gene_name \"NFYC\"; gene_source \"ensembl_havana\"; gene_biotype \"protein_coding\"; \n",
       "2 gene_id \"ENSG00000198974\"; gene_version \"1\"; gene_name \"MIR30E\"; gene_source \"ensembl\"; gene_biotype \"miRNA\";                \n",
       "3 gene_id \"ENSG00000207962\"; gene_version \"1\"; gene_name \"MIR30C1\"; gene_source \"ensembl\"; gene_biotype \"miRNA\";               \n",
       "4 gene_id \"ENSG00000199135\"; gene_version \"1\"; gene_name \"MIR101-1\"; gene_source \"ensembl\"; gene_biotype \"miRNA\";              \n",
       "5 gene_id \"ENSG00000132485\"; gene_version \"8\"; gene_name \"ZRANB2\"; gene_source \"ensembl_havana\"; gene_biotype \"protein_coding\";\n",
       "6 gene_id \"ENSG00000207721\"; gene_version \"1\"; gene_name \"MIR186\"; gene_source \"ensembl\"; gene_biotype \"miRNA\";                "
      ]
     },
     "metadata": {},
     "output_type": "display_data"
    },
    {
     "data": {
      "text/html": [
       "326"
      ],
      "text/latex": [
       "326"
      ],
      "text/markdown": [
       "326"
      ],
      "text/plain": [
       "[1] 326"
      ]
     },
     "metadata": {},
     "output_type": "display_data"
    }
   ],
   "source": [
    "# replace ENSEMBL ID by gene names\n",
    "genes <- fread(\"/media/labdisk/data/users/nina/totalrna/20191001_primirna_stringtie/final_annot_v87_v99_StringTie/primir_final_annotation_v87_v99_StringTie_hg19.gtf\", header=F)[,c(1,9)]\n",
    "\n",
    "# remove all rows that are duplicated in ENSG_id\n",
    "genes <- genes[!duplicated(str_extract(genes$V9,\"ENSG[0-9]*\")),]\n",
    "\n",
    "\n",
    "head(genes)\n",
    "nrow(genes)"
   ]
  },
  {
   "cell_type": "code",
   "execution_count": 31,
   "metadata": {},
   "outputs": [
    {
     "name": "stdout",
     "output_type": "stream",
     "text": [
      "  |======================================================================| 100%\n"
     ]
    },
    {
     "data": {
      "text/html": [
       "<table>\n",
       "<caption>A matrix: 6 × 2 of type chr</caption>\n",
       "<thead>\n",
       "\t<tr><th scope=col>gene_ID</th><th scope=col>ENSEMBL</th></tr>\n",
       "</thead>\n",
       "<tbody>\n",
       "\t<tr><td>ENSG00000066136</td><td>NFYC    </td></tr>\n",
       "\t<tr><td>ENSG00000198974</td><td>MIR30E  </td></tr>\n",
       "\t<tr><td>ENSG00000207962</td><td>MIR30C1 </td></tr>\n",
       "\t<tr><td>ENSG00000199135</td><td>MIR101-1</td></tr>\n",
       "\t<tr><td>ENSG00000132485</td><td>ZRANB2  </td></tr>\n",
       "\t<tr><td>ENSG00000207721</td><td>MIR186  </td></tr>\n",
       "</tbody>\n",
       "</table>\n"
      ],
      "text/latex": [
       "A matrix: 6 × 2 of type chr\n",
       "\\begin{tabular}{ll}\n",
       " gene\\_ID & ENSEMBL\\\\\n",
       "\\hline\n",
       "\t ENSG00000066136 & NFYC    \\\\\n",
       "\t ENSG00000198974 & MIR30E  \\\\\n",
       "\t ENSG00000207962 & MIR30C1 \\\\\n",
       "\t ENSG00000199135 & MIR101-1\\\\\n",
       "\t ENSG00000132485 & ZRANB2  \\\\\n",
       "\t ENSG00000207721 & MIR186  \\\\\n",
       "\\end{tabular}\n"
      ],
      "text/markdown": [
       "\n",
       "A matrix: 6 × 2 of type chr\n",
       "\n",
       "| gene_ID | ENSEMBL |\n",
       "|---|---|\n",
       "| ENSG00000066136 | NFYC     |\n",
       "| ENSG00000198974 | MIR30E   |\n",
       "| ENSG00000207962 | MIR30C1  |\n",
       "| ENSG00000199135 | MIR101-1 |\n",
       "| ENSG00000132485 | ZRANB2   |\n",
       "| ENSG00000207721 | MIR186   |\n",
       "\n"
      ],
      "text/plain": [
       "     gene_ID         ENSEMBL \n",
       "[1,] ENSG00000066136 NFYC    \n",
       "[2,] ENSG00000198974 MIR30E  \n",
       "[3,] ENSG00000207962 MIR30C1 \n",
       "[4,] ENSG00000199135 MIR101-1\n",
       "[5,] ENSG00000132485 ZRANB2  \n",
       "[6,] ENSG00000207721 MIR186  "
      ]
     },
     "metadata": {},
     "output_type": "display_data"
    }
   ],
   "source": [
    "gene <- matrix(NA, nrow=nrow(genes), ncol=2)\n",
    "colnames(gene) <- c(\"gene_ID\",\"ENSEMBL\")\n",
    "\n",
    "# create progress bar from https://ryouready.wordpress.com/2009/03/16/r-monitor-function-progress-with-a-progress-bar/\n",
    "total <- nrow(genes)\n",
    "pb <- txtProgressBar(min = 0, max = total, style = 3)\n",
    "\n",
    "for (i in 1:nrow(genes)){\n",
    "    #Sys.sleep(0.1)\n",
    "    setTxtProgressBar(pb, i)\n",
    "    \n",
    "    gene[i,1] <- str_extract(genes[i,2],\"ENSG[0-9]*\")\n",
    "    name <- str_extract(genes[i,2],\"gene_name \\\"[:graph:]*\\\"\")\n",
    "    name <- str_remove(name, \"gene_name \\\"\")\n",
    "    name <- str_remove(name, \"\\\"\")\n",
    "    gene[i,2] <- name\n",
    "} \n",
    "close(pb)\n",
    "\n",
    "head(gene)"
   ]
  },
  {
   "cell_type": "code",
   "execution_count": 32,
   "metadata": {},
   "outputs": [
    {
     "data": {
      "text/html": [
       "326"
      ],
      "text/latex": [
       "326"
      ],
      "text/markdown": [
       "326"
      ],
      "text/plain": [
       "[1] 326"
      ]
     },
     "metadata": {},
     "output_type": "display_data"
    },
    {
     "data": {
      "text/html": [
       "324"
      ],
      "text/latex": [
       "324"
      ],
      "text/markdown": [
       "324"
      ],
      "text/plain": [
       "[1] 324"
      ]
     },
     "metadata": {},
     "output_type": "display_data"
    }
   ],
   "source": [
    "nrow(gene)\n",
    "length(unique(gene[,2]))"
   ]
  },
  {
   "cell_type": "code",
   "execution_count": 33,
   "metadata": {},
   "outputs": [
    {
     "name": "stdout",
     "output_type": "stream",
     "text": [
      "  |======================================================================| 100%"
     ]
    },
    {
     "data": {
      "text/html": [
       "267"
      ],
      "text/latex": [
       "267"
      ],
      "text/markdown": [
       "267"
      ],
      "text/plain": [
       "[1] 267"
      ]
     },
     "metadata": {},
     "output_type": "display_data"
    }
   ],
   "source": [
    "d$name <- NA\n",
    "\n",
    "# create progress bar from https://ryouready.wordpress.com/2009/03/16/r-monitor-function-progress-with-a-progress-bar/\n",
    "pb <- txtProgressBar(min = 0, max = nrow(d), style = 3)\n",
    "\n",
    "# replace ENSEMBL_id by gene names\n",
    "not_found <- d[1,]\n",
    "\n",
    "for (i in 1:nrow(d)){\n",
    "    setTxtProgressBar(pb, i)\n",
    "    \n",
    "    name <- gene[grepl(rownames(d)[i], gene[,1]),2] # check the merge function! May solve a lot of problems!\n",
    "    if (length(name) == 0){\n",
    "        not_found <- rbind(not_found, d[i,])\n",
    "    } else {\n",
    "    d$name[i] <- name\n",
    "    }\n",
    "}\n",
    "\n",
    "nrow(d)"
   ]
  },
  {
   "cell_type": "code",
   "execution_count": 34,
   "metadata": {},
   "outputs": [
    {
     "data": {
      "text/html": [
       "<style>\n",
       ".list-inline {list-style: none; margin:0; padding: 0}\n",
       ".list-inline>li {display: inline-block}\n",
       ".list-inline>li:not(:last-child)::after {content: \"\\00b7\"; padding: 0 .5ex}\n",
       "</style>\n",
       "<ol class=list-inline><li>'GIPR'</li><li>'GABRA3'</li><li>'FUT8'</li><li>'R3HDM1'</li><li>'VMP1'</li><li>'GPC1'</li><li>'MAP2K4'</li><li>'NFYC'</li><li>'NDE1'</li><li>'HUWE1'</li><li>'DNAJC5'</li><li>'ATP11C'</li><li>'GABRE'</li><li>'AVL9'</li><li>'MEST'</li><li>'EIF4H'</li><li>'TMEM245'</li><li>'COPZ1'</li><li>'RNF130'</li><li>'PDE4D'</li><li>'SMC4'</li><li>'HOXB3'</li><li>'PANK3'</li><li>'RCL1'</li><li>'EML2'</li><li>'PANK2'</li><li>'NSRP1'</li><li>'DGCR8'</li><li>'FGF13'</li><li>'H19'</li><li>'ZRANB2'</li><li>'ARRB1'</li><li>'SEC24B'</li><li>'TLE3'</li><li>'NVL'</li><li>'CTDSP1'</li><li>'CTDSPL'</li><li>'LPP'</li><li>'KLHL3'</li><li>'C7orf50'</li><li>'C9orf3'</li><li>'FADS1'</li><li>'PANK1'</li><li>'PITPNC1'</li><li>'PPARGC1B'</li><li>'TMEM164'</li><li>'WDR82'</li><li>'HNRNPK'</li><li>'TAF1D'</li><li>'MCM7'</li><li>'PTK2'</li><li>'CLCN5'</li><li>'MIR31HG'</li><li>'TLN2'</li><li>'HOXC5'</li><li>'EGFL7'</li><li>'ARPP21'</li><li>'USMG5'</li><li>'CTDSP2'</li><li>'MIR7-3HG'</li><li>'DALRD3'</li><li>'ZNRF2'</li><li>'HOXC10'</li><li>'SKA2'</li><li>'TANGO2'</li><li>'OSBP2'</li><li>'MIR22HG'</li><li>'CHM'</li><li>'EVL'</li><li>'COL27A1'</li><li>'FLJ27365'</li><li>'FAM114A1'</li><li>'HOXC6'</li><li>'HOXC4'</li><li>'WWP2'</li><li>'NOS1AP'</li><li>'MIR30E'</li><li>'MIR345'</li><li>'MIRLET7A3'</li><li>'MIR16-2'</li><li>'MIR340'</li><li>'MIR107'</li><li>'MIR21'</li><li>'MIR339'</li><li>'MIR103A2'</li><li>'MIRLET7C'</li><li>'MIR425'</li><li>'MIR103A1'</li><li>'MIR210'</li><li>'MIR335'</li><li>'MIR378A'</li><li>'MIR361'</li><li>'MIR324'</li><li>'MIR101-2'</li><li>'MIR330'</li><li>'MIR423'</li><li>'MIRLET7F1'</li><li>'MIR26A1'</li><li>'MIR342'</li><li>'MIR326'</li><li>'MIR30C2'</li><li>'MIR26B'</li><li>'MIR148B'</li><li>'MIR365A'</li><li>'MIRLET7D'</li><li>'MIR101-1'</li><li>'MIRLET7G'</li><li>'MIR126'</li><li>'MIRLET7A1'</li><li>'MIR374A'</li><li>'MIR331'</li><li>'MIR31'</li><li>'MIRLET7I'</li><li>'MIR421'</li><li>'MIR146B'</li><li>'MIR582'</li><li>'C1orf132'</li><li>'ABCF1'</li><li>'MIR25'</li><li>'MIR23B'</li><li>'MIR203'</li><li>'MIR615'</li><li>'MIR550A2'</li><li>'MIR199B'</li><li>'MIR196B'</li><li>'MIR181A2'</li><li>'MIR7-1'</li><li>'MIR191'</li><li>'MIR149'</li><li>'MIR224'</li><li>'MIR194-1'</li><li>'MIR128-2'</li><li>'MIR7-3'</li><li>'MIR505'</li><li>'MIR99A'</li><li>'MIR193B'</li><li>'MIR192'</li><li>'MIR28'</li><li>'MIR128-1'</li><li>'MIR548AA2'</li><li>'MIR183'</li><li>'MIR32'</li><li>'MIR7-2'</li><li>'MIR548D1'</li><li>'MIR186'</li><li>'MIR222'</li><li>'MIR455'</li><li>'MIR556'</li><li>'MIR181B2'</li><li>'MIR590'</li><li>'MIR130B'</li><li>'MIR199A1'</li><li>'MIR452'</li><li>'MIR93'</li><li>'MIR532'</li><li>'MIR181A1'</li><li>'MIR188'</li><li>'MIR550A1'</li><li>'MIR642A'</li><li>'MIR15B'</li><li>'MIR625'</li><li>'MIR500A'</li><li>'MIR26A2'</li><li>'MIR504'</li><li>'MIR105-2'</li><li>'MIR545'</li><li>'MIR30A'</li><li>'MIR125B2'</li><li>'MIR27B'</li><li>'MIR221'</li><li>'MIRLET7B'</li><li>'MIR196A2'</li><li>'MIR574'</li><li>'MIR328'</li><li>'MIR105-1'</li><li>'MIR30C1'</li><li>'MIR629'</li><li>'MIR660'</li><li>'MIR181B1'</li><li>'MIR576'</li><li>'MIR301A'</li><li>'MIR503'</li><li>'MIR16-1'</li><li>'MIR130A'</li><li>'MIRLET7F2'</li><li>'MIR652'</li><li>'MIR362'</li><li>'MIR140'</li><li>'MIR185'</li><li>'MIR199A2'</li><li>'MIR106B'</li><li>'MIR196A1'</li><li>'MIR190A'</li><li>'MIR454'</li><li>'MIR501'</li><li>'MIR320B1'</li><li>'MIR760'</li><li>'MIR767'</li><li>'MIR550A3'</li><li>'MIR374B'</li><li>'MIR301B'</li><li>'LINC00478'</li><li>'MIR17HG'</li><li>'MIR941-1'</li><li>'MIR874'</li><li>'MIR877'</li><li>'MIR941-2'</li><li>'MIR941-3'</li><li>'MIR1304'</li><li>'MIR1306'</li><li>'MIR320B2'</li><li>'MIR1275'</li><li>'MIR1307'</li><li>'MIR1908'</li><li>'MIR503HG'</li><li>'MIR181A2HG'</li><li>'ZNRF2P2'</li><li>'MIR29A'</li><li>'MIR34AHG'</li><li>'MIR194-2'</li><li>'MIR181A1HG'</li><li>'FTX'</li><li>'DNM3OS'</li><li>'AC234582.1'</li><li>'DLEU2'</li><li>'MIR500B'</li><li>'MIR210HG'</li><li>'MIR2278'</li><li>'HOXA10'</li><li>'MIR151A'</li><li>'AP000662.4'</li><li>'MIR100HG'</li><li>'MIR10A'</li><li>'RP1-170O19.20'</li><li>'RP11-631N16.2'</li><li>'MIR940'</li><li>'RP11-65J21.3'</li><li>'MIR4763'</li><li>'MIR3200'</li><li>'MIR378C'</li><li>'MIR151B'</li><li>'MIR3978'</li><li>'MIR4654'</li><li>'MIR744'</li><li>'MIR3619'</li><li>'MIR3618'</li><li>'MIR3677'</li><li>'MIR296'</li><li>'RP11-2B6.3'</li><li>'RP3-331H24.5'</li><li>'RP6-99M1.2'</li><li>'RP3-368A4.5'</li><li>'MIR98'</li><li>'MIR502'</li><li>'MIR484'</li><li>'RP11-834C11.14'</li><li>'RP11-834C11.12'</li><li>'HOXC4'</li><li>'AC002407.2'</li><li>'AC016831.6'</li><li>NA</li><li>NA</li><li>NA</li><li>NA</li><li>NA</li><li>NA</li><li>NA</li></ol>\n"
      ],
      "text/latex": [
       "\\begin{enumerate*}\n",
       "\\item 'GIPR'\n",
       "\\item 'GABRA3'\n",
       "\\item 'FUT8'\n",
       "\\item 'R3HDM1'\n",
       "\\item 'VMP1'\n",
       "\\item 'GPC1'\n",
       "\\item 'MAP2K4'\n",
       "\\item 'NFYC'\n",
       "\\item 'NDE1'\n",
       "\\item 'HUWE1'\n",
       "\\item 'DNAJC5'\n",
       "\\item 'ATP11C'\n",
       "\\item 'GABRE'\n",
       "\\item 'AVL9'\n",
       "\\item 'MEST'\n",
       "\\item 'EIF4H'\n",
       "\\item 'TMEM245'\n",
       "\\item 'COPZ1'\n",
       "\\item 'RNF130'\n",
       "\\item 'PDE4D'\n",
       "\\item 'SMC4'\n",
       "\\item 'HOXB3'\n",
       "\\item 'PANK3'\n",
       "\\item 'RCL1'\n",
       "\\item 'EML2'\n",
       "\\item 'PANK2'\n",
       "\\item 'NSRP1'\n",
       "\\item 'DGCR8'\n",
       "\\item 'FGF13'\n",
       "\\item 'H19'\n",
       "\\item 'ZRANB2'\n",
       "\\item 'ARRB1'\n",
       "\\item 'SEC24B'\n",
       "\\item 'TLE3'\n",
       "\\item 'NVL'\n",
       "\\item 'CTDSP1'\n",
       "\\item 'CTDSPL'\n",
       "\\item 'LPP'\n",
       "\\item 'KLHL3'\n",
       "\\item 'C7orf50'\n",
       "\\item 'C9orf3'\n",
       "\\item 'FADS1'\n",
       "\\item 'PANK1'\n",
       "\\item 'PITPNC1'\n",
       "\\item 'PPARGC1B'\n",
       "\\item 'TMEM164'\n",
       "\\item 'WDR82'\n",
       "\\item 'HNRNPK'\n",
       "\\item 'TAF1D'\n",
       "\\item 'MCM7'\n",
       "\\item 'PTK2'\n",
       "\\item 'CLCN5'\n",
       "\\item 'MIR31HG'\n",
       "\\item 'TLN2'\n",
       "\\item 'HOXC5'\n",
       "\\item 'EGFL7'\n",
       "\\item 'ARPP21'\n",
       "\\item 'USMG5'\n",
       "\\item 'CTDSP2'\n",
       "\\item 'MIR7-3HG'\n",
       "\\item 'DALRD3'\n",
       "\\item 'ZNRF2'\n",
       "\\item 'HOXC10'\n",
       "\\item 'SKA2'\n",
       "\\item 'TANGO2'\n",
       "\\item 'OSBP2'\n",
       "\\item 'MIR22HG'\n",
       "\\item 'CHM'\n",
       "\\item 'EVL'\n",
       "\\item 'COL27A1'\n",
       "\\item 'FLJ27365'\n",
       "\\item 'FAM114A1'\n",
       "\\item 'HOXC6'\n",
       "\\item 'HOXC4'\n",
       "\\item 'WWP2'\n",
       "\\item 'NOS1AP'\n",
       "\\item 'MIR30E'\n",
       "\\item 'MIR345'\n",
       "\\item 'MIRLET7A3'\n",
       "\\item 'MIR16-2'\n",
       "\\item 'MIR340'\n",
       "\\item 'MIR107'\n",
       "\\item 'MIR21'\n",
       "\\item 'MIR339'\n",
       "\\item 'MIR103A2'\n",
       "\\item 'MIRLET7C'\n",
       "\\item 'MIR425'\n",
       "\\item 'MIR103A1'\n",
       "\\item 'MIR210'\n",
       "\\item 'MIR335'\n",
       "\\item 'MIR378A'\n",
       "\\item 'MIR361'\n",
       "\\item 'MIR324'\n",
       "\\item 'MIR101-2'\n",
       "\\item 'MIR330'\n",
       "\\item 'MIR423'\n",
       "\\item 'MIRLET7F1'\n",
       "\\item 'MIR26A1'\n",
       "\\item 'MIR342'\n",
       "\\item 'MIR326'\n",
       "\\item 'MIR30C2'\n",
       "\\item 'MIR26B'\n",
       "\\item 'MIR148B'\n",
       "\\item 'MIR365A'\n",
       "\\item 'MIRLET7D'\n",
       "\\item 'MIR101-1'\n",
       "\\item 'MIRLET7G'\n",
       "\\item 'MIR126'\n",
       "\\item 'MIRLET7A1'\n",
       "\\item 'MIR374A'\n",
       "\\item 'MIR331'\n",
       "\\item 'MIR31'\n",
       "\\item 'MIRLET7I'\n",
       "\\item 'MIR421'\n",
       "\\item 'MIR146B'\n",
       "\\item 'MIR582'\n",
       "\\item 'C1orf132'\n",
       "\\item 'ABCF1'\n",
       "\\item 'MIR25'\n",
       "\\item 'MIR23B'\n",
       "\\item 'MIR203'\n",
       "\\item 'MIR615'\n",
       "\\item 'MIR550A2'\n",
       "\\item 'MIR199B'\n",
       "\\item 'MIR196B'\n",
       "\\item 'MIR181A2'\n",
       "\\item 'MIR7-1'\n",
       "\\item 'MIR191'\n",
       "\\item 'MIR149'\n",
       "\\item 'MIR224'\n",
       "\\item 'MIR194-1'\n",
       "\\item 'MIR128-2'\n",
       "\\item 'MIR7-3'\n",
       "\\item 'MIR505'\n",
       "\\item 'MIR99A'\n",
       "\\item 'MIR193B'\n",
       "\\item 'MIR192'\n",
       "\\item 'MIR28'\n",
       "\\item 'MIR128-1'\n",
       "\\item 'MIR548AA2'\n",
       "\\item 'MIR183'\n",
       "\\item 'MIR32'\n",
       "\\item 'MIR7-2'\n",
       "\\item 'MIR548D1'\n",
       "\\item 'MIR186'\n",
       "\\item 'MIR222'\n",
       "\\item 'MIR455'\n",
       "\\item 'MIR556'\n",
       "\\item 'MIR181B2'\n",
       "\\item 'MIR590'\n",
       "\\item 'MIR130B'\n",
       "\\item 'MIR199A1'\n",
       "\\item 'MIR452'\n",
       "\\item 'MIR93'\n",
       "\\item 'MIR532'\n",
       "\\item 'MIR181A1'\n",
       "\\item 'MIR188'\n",
       "\\item 'MIR550A1'\n",
       "\\item 'MIR642A'\n",
       "\\item 'MIR15B'\n",
       "\\item 'MIR625'\n",
       "\\item 'MIR500A'\n",
       "\\item 'MIR26A2'\n",
       "\\item 'MIR504'\n",
       "\\item 'MIR105-2'\n",
       "\\item 'MIR545'\n",
       "\\item 'MIR30A'\n",
       "\\item 'MIR125B2'\n",
       "\\item 'MIR27B'\n",
       "\\item 'MIR221'\n",
       "\\item 'MIRLET7B'\n",
       "\\item 'MIR196A2'\n",
       "\\item 'MIR574'\n",
       "\\item 'MIR328'\n",
       "\\item 'MIR105-1'\n",
       "\\item 'MIR30C1'\n",
       "\\item 'MIR629'\n",
       "\\item 'MIR660'\n",
       "\\item 'MIR181B1'\n",
       "\\item 'MIR576'\n",
       "\\item 'MIR301A'\n",
       "\\item 'MIR503'\n",
       "\\item 'MIR16-1'\n",
       "\\item 'MIR130A'\n",
       "\\item 'MIRLET7F2'\n",
       "\\item 'MIR652'\n",
       "\\item 'MIR362'\n",
       "\\item 'MIR140'\n",
       "\\item 'MIR185'\n",
       "\\item 'MIR199A2'\n",
       "\\item 'MIR106B'\n",
       "\\item 'MIR196A1'\n",
       "\\item 'MIR190A'\n",
       "\\item 'MIR454'\n",
       "\\item 'MIR501'\n",
       "\\item 'MIR320B1'\n",
       "\\item 'MIR760'\n",
       "\\item 'MIR767'\n",
       "\\item 'MIR550A3'\n",
       "\\item 'MIR374B'\n",
       "\\item 'MIR301B'\n",
       "\\item 'LINC00478'\n",
       "\\item 'MIR17HG'\n",
       "\\item 'MIR941-1'\n",
       "\\item 'MIR874'\n",
       "\\item 'MIR877'\n",
       "\\item 'MIR941-2'\n",
       "\\item 'MIR941-3'\n",
       "\\item 'MIR1304'\n",
       "\\item 'MIR1306'\n",
       "\\item 'MIR320B2'\n",
       "\\item 'MIR1275'\n",
       "\\item 'MIR1307'\n",
       "\\item 'MIR1908'\n",
       "\\item 'MIR503HG'\n",
       "\\item 'MIR181A2HG'\n",
       "\\item 'ZNRF2P2'\n",
       "\\item 'MIR29A'\n",
       "\\item 'MIR34AHG'\n",
       "\\item 'MIR194-2'\n",
       "\\item 'MIR181A1HG'\n",
       "\\item 'FTX'\n",
       "\\item 'DNM3OS'\n",
       "\\item 'AC234582.1'\n",
       "\\item 'DLEU2'\n",
       "\\item 'MIR500B'\n",
       "\\item 'MIR210HG'\n",
       "\\item 'MIR2278'\n",
       "\\item 'HOXA10'\n",
       "\\item 'MIR151A'\n",
       "\\item 'AP000662.4'\n",
       "\\item 'MIR100HG'\n",
       "\\item 'MIR10A'\n",
       "\\item 'RP1-170O19.20'\n",
       "\\item 'RP11-631N16.2'\n",
       "\\item 'MIR940'\n",
       "\\item 'RP11-65J21.3'\n",
       "\\item 'MIR4763'\n",
       "\\item 'MIR3200'\n",
       "\\item 'MIR378C'\n",
       "\\item 'MIR151B'\n",
       "\\item 'MIR3978'\n",
       "\\item 'MIR4654'\n",
       "\\item 'MIR744'\n",
       "\\item 'MIR3619'\n",
       "\\item 'MIR3618'\n",
       "\\item 'MIR3677'\n",
       "\\item 'MIR296'\n",
       "\\item 'RP11-2B6.3'\n",
       "\\item 'RP3-331H24.5'\n",
       "\\item 'RP6-99M1.2'\n",
       "\\item 'RP3-368A4.5'\n",
       "\\item 'MIR98'\n",
       "\\item 'MIR502'\n",
       "\\item 'MIR484'\n",
       "\\item 'RP11-834C11.14'\n",
       "\\item 'RP11-834C11.12'\n",
       "\\item 'HOXC4'\n",
       "\\item 'AC002407.2'\n",
       "\\item 'AC016831.6'\n",
       "\\item NA\n",
       "\\item NA\n",
       "\\item NA\n",
       "\\item NA\n",
       "\\item NA\n",
       "\\item NA\n",
       "\\item NA\n",
       "\\end{enumerate*}\n"
      ],
      "text/markdown": [
       "1. 'GIPR'\n",
       "2. 'GABRA3'\n",
       "3. 'FUT8'\n",
       "4. 'R3HDM1'\n",
       "5. 'VMP1'\n",
       "6. 'GPC1'\n",
       "7. 'MAP2K4'\n",
       "8. 'NFYC'\n",
       "9. 'NDE1'\n",
       "10. 'HUWE1'\n",
       "11. 'DNAJC5'\n",
       "12. 'ATP11C'\n",
       "13. 'GABRE'\n",
       "14. 'AVL9'\n",
       "15. 'MEST'\n",
       "16. 'EIF4H'\n",
       "17. 'TMEM245'\n",
       "18. 'COPZ1'\n",
       "19. 'RNF130'\n",
       "20. 'PDE4D'\n",
       "21. 'SMC4'\n",
       "22. 'HOXB3'\n",
       "23. 'PANK3'\n",
       "24. 'RCL1'\n",
       "25. 'EML2'\n",
       "26. 'PANK2'\n",
       "27. 'NSRP1'\n",
       "28. 'DGCR8'\n",
       "29. 'FGF13'\n",
       "30. 'H19'\n",
       "31. 'ZRANB2'\n",
       "32. 'ARRB1'\n",
       "33. 'SEC24B'\n",
       "34. 'TLE3'\n",
       "35. 'NVL'\n",
       "36. 'CTDSP1'\n",
       "37. 'CTDSPL'\n",
       "38. 'LPP'\n",
       "39. 'KLHL3'\n",
       "40. 'C7orf50'\n",
       "41. 'C9orf3'\n",
       "42. 'FADS1'\n",
       "43. 'PANK1'\n",
       "44. 'PITPNC1'\n",
       "45. 'PPARGC1B'\n",
       "46. 'TMEM164'\n",
       "47. 'WDR82'\n",
       "48. 'HNRNPK'\n",
       "49. 'TAF1D'\n",
       "50. 'MCM7'\n",
       "51. 'PTK2'\n",
       "52. 'CLCN5'\n",
       "53. 'MIR31HG'\n",
       "54. 'TLN2'\n",
       "55. 'HOXC5'\n",
       "56. 'EGFL7'\n",
       "57. 'ARPP21'\n",
       "58. 'USMG5'\n",
       "59. 'CTDSP2'\n",
       "60. 'MIR7-3HG'\n",
       "61. 'DALRD3'\n",
       "62. 'ZNRF2'\n",
       "63. 'HOXC10'\n",
       "64. 'SKA2'\n",
       "65. 'TANGO2'\n",
       "66. 'OSBP2'\n",
       "67. 'MIR22HG'\n",
       "68. 'CHM'\n",
       "69. 'EVL'\n",
       "70. 'COL27A1'\n",
       "71. 'FLJ27365'\n",
       "72. 'FAM114A1'\n",
       "73. 'HOXC6'\n",
       "74. 'HOXC4'\n",
       "75. 'WWP2'\n",
       "76. 'NOS1AP'\n",
       "77. 'MIR30E'\n",
       "78. 'MIR345'\n",
       "79. 'MIRLET7A3'\n",
       "80. 'MIR16-2'\n",
       "81. 'MIR340'\n",
       "82. 'MIR107'\n",
       "83. 'MIR21'\n",
       "84. 'MIR339'\n",
       "85. 'MIR103A2'\n",
       "86. 'MIRLET7C'\n",
       "87. 'MIR425'\n",
       "88. 'MIR103A1'\n",
       "89. 'MIR210'\n",
       "90. 'MIR335'\n",
       "91. 'MIR378A'\n",
       "92. 'MIR361'\n",
       "93. 'MIR324'\n",
       "94. 'MIR101-2'\n",
       "95. 'MIR330'\n",
       "96. 'MIR423'\n",
       "97. 'MIRLET7F1'\n",
       "98. 'MIR26A1'\n",
       "99. 'MIR342'\n",
       "100. 'MIR326'\n",
       "101. 'MIR30C2'\n",
       "102. 'MIR26B'\n",
       "103. 'MIR148B'\n",
       "104. 'MIR365A'\n",
       "105. 'MIRLET7D'\n",
       "106. 'MIR101-1'\n",
       "107. 'MIRLET7G'\n",
       "108. 'MIR126'\n",
       "109. 'MIRLET7A1'\n",
       "110. 'MIR374A'\n",
       "111. 'MIR331'\n",
       "112. 'MIR31'\n",
       "113. 'MIRLET7I'\n",
       "114. 'MIR421'\n",
       "115. 'MIR146B'\n",
       "116. 'MIR582'\n",
       "117. 'C1orf132'\n",
       "118. 'ABCF1'\n",
       "119. 'MIR25'\n",
       "120. 'MIR23B'\n",
       "121. 'MIR203'\n",
       "122. 'MIR615'\n",
       "123. 'MIR550A2'\n",
       "124. 'MIR199B'\n",
       "125. 'MIR196B'\n",
       "126. 'MIR181A2'\n",
       "127. 'MIR7-1'\n",
       "128. 'MIR191'\n",
       "129. 'MIR149'\n",
       "130. 'MIR224'\n",
       "131. 'MIR194-1'\n",
       "132. 'MIR128-2'\n",
       "133. 'MIR7-3'\n",
       "134. 'MIR505'\n",
       "135. 'MIR99A'\n",
       "136. 'MIR193B'\n",
       "137. 'MIR192'\n",
       "138. 'MIR28'\n",
       "139. 'MIR128-1'\n",
       "140. 'MIR548AA2'\n",
       "141. 'MIR183'\n",
       "142. 'MIR32'\n",
       "143. 'MIR7-2'\n",
       "144. 'MIR548D1'\n",
       "145. 'MIR186'\n",
       "146. 'MIR222'\n",
       "147. 'MIR455'\n",
       "148. 'MIR556'\n",
       "149. 'MIR181B2'\n",
       "150. 'MIR590'\n",
       "151. 'MIR130B'\n",
       "152. 'MIR199A1'\n",
       "153. 'MIR452'\n",
       "154. 'MIR93'\n",
       "155. 'MIR532'\n",
       "156. 'MIR181A1'\n",
       "157. 'MIR188'\n",
       "158. 'MIR550A1'\n",
       "159. 'MIR642A'\n",
       "160. 'MIR15B'\n",
       "161. 'MIR625'\n",
       "162. 'MIR500A'\n",
       "163. 'MIR26A2'\n",
       "164. 'MIR504'\n",
       "165. 'MIR105-2'\n",
       "166. 'MIR545'\n",
       "167. 'MIR30A'\n",
       "168. 'MIR125B2'\n",
       "169. 'MIR27B'\n",
       "170. 'MIR221'\n",
       "171. 'MIRLET7B'\n",
       "172. 'MIR196A2'\n",
       "173. 'MIR574'\n",
       "174. 'MIR328'\n",
       "175. 'MIR105-1'\n",
       "176. 'MIR30C1'\n",
       "177. 'MIR629'\n",
       "178. 'MIR660'\n",
       "179. 'MIR181B1'\n",
       "180. 'MIR576'\n",
       "181. 'MIR301A'\n",
       "182. 'MIR503'\n",
       "183. 'MIR16-1'\n",
       "184. 'MIR130A'\n",
       "185. 'MIRLET7F2'\n",
       "186. 'MIR652'\n",
       "187. 'MIR362'\n",
       "188. 'MIR140'\n",
       "189. 'MIR185'\n",
       "190. 'MIR199A2'\n",
       "191. 'MIR106B'\n",
       "192. 'MIR196A1'\n",
       "193. 'MIR190A'\n",
       "194. 'MIR454'\n",
       "195. 'MIR501'\n",
       "196. 'MIR320B1'\n",
       "197. 'MIR760'\n",
       "198. 'MIR767'\n",
       "199. 'MIR550A3'\n",
       "200. 'MIR374B'\n",
       "201. 'MIR301B'\n",
       "202. 'LINC00478'\n",
       "203. 'MIR17HG'\n",
       "204. 'MIR941-1'\n",
       "205. 'MIR874'\n",
       "206. 'MIR877'\n",
       "207. 'MIR941-2'\n",
       "208. 'MIR941-3'\n",
       "209. 'MIR1304'\n",
       "210. 'MIR1306'\n",
       "211. 'MIR320B2'\n",
       "212. 'MIR1275'\n",
       "213. 'MIR1307'\n",
       "214. 'MIR1908'\n",
       "215. 'MIR503HG'\n",
       "216. 'MIR181A2HG'\n",
       "217. 'ZNRF2P2'\n",
       "218. 'MIR29A'\n",
       "219. 'MIR34AHG'\n",
       "220. 'MIR194-2'\n",
       "221. 'MIR181A1HG'\n",
       "222. 'FTX'\n",
       "223. 'DNM3OS'\n",
       "224. 'AC234582.1'\n",
       "225. 'DLEU2'\n",
       "226. 'MIR500B'\n",
       "227. 'MIR210HG'\n",
       "228. 'MIR2278'\n",
       "229. 'HOXA10'\n",
       "230. 'MIR151A'\n",
       "231. 'AP000662.4'\n",
       "232. 'MIR100HG'\n",
       "233. 'MIR10A'\n",
       "234. 'RP1-170O19.20'\n",
       "235. 'RP11-631N16.2'\n",
       "236. 'MIR940'\n",
       "237. 'RP11-65J21.3'\n",
       "238. 'MIR4763'\n",
       "239. 'MIR3200'\n",
       "240. 'MIR378C'\n",
       "241. 'MIR151B'\n",
       "242. 'MIR3978'\n",
       "243. 'MIR4654'\n",
       "244. 'MIR744'\n",
       "245. 'MIR3619'\n",
       "246. 'MIR3618'\n",
       "247. 'MIR3677'\n",
       "248. 'MIR296'\n",
       "249. 'RP11-2B6.3'\n",
       "250. 'RP3-331H24.5'\n",
       "251. 'RP6-99M1.2'\n",
       "252. 'RP3-368A4.5'\n",
       "253. 'MIR98'\n",
       "254. 'MIR502'\n",
       "255. 'MIR484'\n",
       "256. 'RP11-834C11.14'\n",
       "257. 'RP11-834C11.12'\n",
       "258. 'HOXC4'\n",
       "259. 'AC002407.2'\n",
       "260. 'AC016831.6'\n",
       "261. NA\n",
       "262. NA\n",
       "263. NA\n",
       "264. NA\n",
       "265. NA\n",
       "266. NA\n",
       "267. NA\n",
       "\n",
       "\n"
      ],
      "text/plain": [
       "  [1] \"GIPR\"           \"GABRA3\"         \"FUT8\"           \"R3HDM1\"        \n",
       "  [5] \"VMP1\"           \"GPC1\"           \"MAP2K4\"         \"NFYC\"          \n",
       "  [9] \"NDE1\"           \"HUWE1\"          \"DNAJC5\"         \"ATP11C\"        \n",
       " [13] \"GABRE\"          \"AVL9\"           \"MEST\"           \"EIF4H\"         \n",
       " [17] \"TMEM245\"        \"COPZ1\"          \"RNF130\"         \"PDE4D\"         \n",
       " [21] \"SMC4\"           \"HOXB3\"          \"PANK3\"          \"RCL1\"          \n",
       " [25] \"EML2\"           \"PANK2\"          \"NSRP1\"          \"DGCR8\"         \n",
       " [29] \"FGF13\"          \"H19\"            \"ZRANB2\"         \"ARRB1\"         \n",
       " [33] \"SEC24B\"         \"TLE3\"           \"NVL\"            \"CTDSP1\"        \n",
       " [37] \"CTDSPL\"         \"LPP\"            \"KLHL3\"          \"C7orf50\"       \n",
       " [41] \"C9orf3\"         \"FADS1\"          \"PANK1\"          \"PITPNC1\"       \n",
       " [45] \"PPARGC1B\"       \"TMEM164\"        \"WDR82\"          \"HNRNPK\"        \n",
       " [49] \"TAF1D\"          \"MCM7\"           \"PTK2\"           \"CLCN5\"         \n",
       " [53] \"MIR31HG\"        \"TLN2\"           \"HOXC5\"          \"EGFL7\"         \n",
       " [57] \"ARPP21\"         \"USMG5\"          \"CTDSP2\"         \"MIR7-3HG\"      \n",
       " [61] \"DALRD3\"         \"ZNRF2\"          \"HOXC10\"         \"SKA2\"          \n",
       " [65] \"TANGO2\"         \"OSBP2\"          \"MIR22HG\"        \"CHM\"           \n",
       " [69] \"EVL\"            \"COL27A1\"        \"FLJ27365\"       \"FAM114A1\"      \n",
       " [73] \"HOXC6\"          \"HOXC4\"          \"WWP2\"           \"NOS1AP\"        \n",
       " [77] \"MIR30E\"         \"MIR345\"         \"MIRLET7A3\"      \"MIR16-2\"       \n",
       " [81] \"MIR340\"         \"MIR107\"         \"MIR21\"          \"MIR339\"        \n",
       " [85] \"MIR103A2\"       \"MIRLET7C\"       \"MIR425\"         \"MIR103A1\"      \n",
       " [89] \"MIR210\"         \"MIR335\"         \"MIR378A\"        \"MIR361\"        \n",
       " [93] \"MIR324\"         \"MIR101-2\"       \"MIR330\"         \"MIR423\"        \n",
       " [97] \"MIRLET7F1\"      \"MIR26A1\"        \"MIR342\"         \"MIR326\"        \n",
       "[101] \"MIR30C2\"        \"MIR26B\"         \"MIR148B\"        \"MIR365A\"       \n",
       "[105] \"MIRLET7D\"       \"MIR101-1\"       \"MIRLET7G\"       \"MIR126\"        \n",
       "[109] \"MIRLET7A1\"      \"MIR374A\"        \"MIR331\"         \"MIR31\"         \n",
       "[113] \"MIRLET7I\"       \"MIR421\"         \"MIR146B\"        \"MIR582\"        \n",
       "[117] \"C1orf132\"       \"ABCF1\"          \"MIR25\"          \"MIR23B\"        \n",
       "[121] \"MIR203\"         \"MIR615\"         \"MIR550A2\"       \"MIR199B\"       \n",
       "[125] \"MIR196B\"        \"MIR181A2\"       \"MIR7-1\"         \"MIR191\"        \n",
       "[129] \"MIR149\"         \"MIR224\"         \"MIR194-1\"       \"MIR128-2\"      \n",
       "[133] \"MIR7-3\"         \"MIR505\"         \"MIR99A\"         \"MIR193B\"       \n",
       "[137] \"MIR192\"         \"MIR28\"          \"MIR128-1\"       \"MIR548AA2\"     \n",
       "[141] \"MIR183\"         \"MIR32\"          \"MIR7-2\"         \"MIR548D1\"      \n",
       "[145] \"MIR186\"         \"MIR222\"         \"MIR455\"         \"MIR556\"        \n",
       "[149] \"MIR181B2\"       \"MIR590\"         \"MIR130B\"        \"MIR199A1\"      \n",
       "[153] \"MIR452\"         \"MIR93\"          \"MIR532\"         \"MIR181A1\"      \n",
       "[157] \"MIR188\"         \"MIR550A1\"       \"MIR642A\"        \"MIR15B\"        \n",
       "[161] \"MIR625\"         \"MIR500A\"        \"MIR26A2\"        \"MIR504\"        \n",
       "[165] \"MIR105-2\"       \"MIR545\"         \"MIR30A\"         \"MIR125B2\"      \n",
       "[169] \"MIR27B\"         \"MIR221\"         \"MIRLET7B\"       \"MIR196A2\"      \n",
       "[173] \"MIR574\"         \"MIR328\"         \"MIR105-1\"       \"MIR30C1\"       \n",
       "[177] \"MIR629\"         \"MIR660\"         \"MIR181B1\"       \"MIR576\"        \n",
       "[181] \"MIR301A\"        \"MIR503\"         \"MIR16-1\"        \"MIR130A\"       \n",
       "[185] \"MIRLET7F2\"      \"MIR652\"         \"MIR362\"         \"MIR140\"        \n",
       "[189] \"MIR185\"         \"MIR199A2\"       \"MIR106B\"        \"MIR196A1\"      \n",
       "[193] \"MIR190A\"        \"MIR454\"         \"MIR501\"         \"MIR320B1\"      \n",
       "[197] \"MIR760\"         \"MIR767\"         \"MIR550A3\"       \"MIR374B\"       \n",
       "[201] \"MIR301B\"        \"LINC00478\"      \"MIR17HG\"        \"MIR941-1\"      \n",
       "[205] \"MIR874\"         \"MIR877\"         \"MIR941-2\"       \"MIR941-3\"      \n",
       "[209] \"MIR1304\"        \"MIR1306\"        \"MIR320B2\"       \"MIR1275\"       \n",
       "[213] \"MIR1307\"        \"MIR1908\"        \"MIR503HG\"       \"MIR181A2HG\"    \n",
       "[217] \"ZNRF2P2\"        \"MIR29A\"         \"MIR34AHG\"       \"MIR194-2\"      \n",
       "[221] \"MIR181A1HG\"     \"FTX\"            \"DNM3OS\"         \"AC234582.1\"    \n",
       "[225] \"DLEU2\"          \"MIR500B\"        \"MIR210HG\"       \"MIR2278\"       \n",
       "[229] \"HOXA10\"         \"MIR151A\"        \"AP000662.4\"     \"MIR100HG\"      \n",
       "[233] \"MIR10A\"         \"RP1-170O19.20\"  \"RP11-631N16.2\"  \"MIR940\"        \n",
       "[237] \"RP11-65J21.3\"   \"MIR4763\"        \"MIR3200\"        \"MIR378C\"       \n",
       "[241] \"MIR151B\"        \"MIR3978\"        \"MIR4654\"        \"MIR744\"        \n",
       "[245] \"MIR3619\"        \"MIR3618\"        \"MIR3677\"        \"MIR296\"        \n",
       "[249] \"RP11-2B6.3\"     \"RP3-331H24.5\"   \"RP6-99M1.2\"     \"RP3-368A4.5\"   \n",
       "[253] \"MIR98\"          \"MIR502\"         \"MIR484\"         \"RP11-834C11.14\"\n",
       "[257] \"RP11-834C11.12\" \"HOXC4\"          \"AC002407.2\"     \"AC016831.6\"    \n",
       "[261] NA               NA               NA               NA              \n",
       "[265] NA               NA               NA              "
      ]
     },
     "metadata": {},
     "output_type": "display_data"
    }
   ],
   "source": [
    "d$name"
   ]
  },
  {
   "cell_type": "code",
   "execution_count": 35,
   "metadata": {},
   "outputs": [],
   "source": [
    "# ENSG00000105778 does not have miRNA inside\n",
    "\n",
    "# ENSG00000186594: MIR22HG, good example where StringTie is more accurate"
   ]
  },
  {
   "cell_type": "code",
   "execution_count": 37,
   "metadata": {},
   "outputs": [
    {
     "data": {
      "text/html": [
       "112"
      ],
      "text/latex": [
       "112"
      ],
      "text/markdown": [
       "112"
      ],
      "text/plain": [
       "[1] 112"
      ]
     },
     "metadata": {},
     "output_type": "display_data"
    },
    {
     "data": {
      "text/html": [
       "<style>\n",
       ".list-inline {list-style: none; margin:0; padding: 0}\n",
       ".list-inline>li {display: inline-block}\n",
       ".list-inline>li:not(:last-child)::after {content: \"\\00b7\"; padding: 0 .5ex}\n",
       "</style>\n",
       "<ol class=list-inline><li>'GIPR'</li><li>'GABRA3'</li><li>'FUT8'</li><li>'R3HDM1'</li><li>'VMP1'</li><li>'GPC1'</li><li>'MAP2K4'</li><li>'NFYC'</li><li>'NDE1'</li><li>'HUWE1'</li><li>'DNAJC5'</li><li>'ATP11C'</li><li>'GABRE'</li><li>'AVL9'</li><li>'MEST'</li><li>'EIF4H'</li><li>'TMEM245'</li><li>'COPZ1'</li><li>'RNF130'</li><li>'PDE4D'</li><li>'SMC4'</li><li>'HOXB3'</li><li>'PANK3'</li><li>'RCL1'</li><li>'EML2'</li><li>'PANK2'</li><li>'NSRP1'</li><li>'DGCR8'</li><li>'FGF13'</li><li>'H19'</li><li>'ZRANB2'</li><li>'ARRB1'</li><li>'SEC24B'</li><li>'TLE3'</li><li>'NVL'</li><li>'CTDSP1'</li><li>'CTDSPL'</li><li>'LPP'</li><li>'KLHL3'</li><li>'C7orf50'</li><li>'C9orf3'</li><li>'FADS1'</li><li>'PANK1'</li><li>'PITPNC1'</li><li>'PPARGC1B'</li><li>'TMEM164'</li><li>'WDR82'</li><li>'HNRNPK'</li><li>'TAF1D'</li><li>'MCM7'</li><li>'PTK2'</li><li>'CLCN5'</li><li>'TLN2'</li><li>'HOXC5'</li><li>'EGFL7'</li><li>'ARPP21'</li><li>'USMG5'</li><li>'CTDSP2'</li><li>'DALRD3'</li><li>'ZNRF2'</li><li>'HOXC10'</li><li>'SKA2'</li><li>'TANGO2'</li><li>'OSBP2'</li><li>'CHM'</li><li>'EVL'</li><li>'COL27A1'</li><li>'FLJ27365'</li><li>'FAM114A1'</li><li>'HOXC6'</li><li>'HOXC4'</li><li>'WWP2'</li><li>'NOS1AP'</li><li>'C1orf132'</li><li>'ABCF1'</li><li>'LINC00478'</li><li>'ZNRF2P2'</li><li>'FTX'</li><li>'DNM3OS'</li><li>'AC234582.1'</li><li>'DLEU2'</li><li>'HOXA10'</li><li>'AP000662.4'</li><li>'RP1-170O19.20'</li><li>'RP11-631N16.2'</li><li>'RP11-65J21.3'</li><li>'RP11-2B6.3'</li><li>'RP3-331H24.5'</li><li>'RP6-99M1.2'</li><li>'RP3-368A4.5'</li><li>'RP11-834C11.14'</li><li>'RP11-834C11.12'</li><li>'HOXC4'</li><li>'AC002407.2'</li><li>'AC016831.6'</li><li>NA</li><li>NA</li><li>NA</li><li>NA</li><li>NA</li><li>NA</li><li>NA</li><li>'MIR31HG'</li><li>'MIR7-3HG'</li><li>'MIR22HG'</li><li>'MIR17HG'</li><li>'MIR503HG'</li><li>'MIR181A2HG'</li><li>'MIR34AHG'</li><li>'MIR181A1HG'</li><li>'MIR210HG'</li><li>'MIR100HG'</li></ol>\n"
      ],
      "text/latex": [
       "\\begin{enumerate*}\n",
       "\\item 'GIPR'\n",
       "\\item 'GABRA3'\n",
       "\\item 'FUT8'\n",
       "\\item 'R3HDM1'\n",
       "\\item 'VMP1'\n",
       "\\item 'GPC1'\n",
       "\\item 'MAP2K4'\n",
       "\\item 'NFYC'\n",
       "\\item 'NDE1'\n",
       "\\item 'HUWE1'\n",
       "\\item 'DNAJC5'\n",
       "\\item 'ATP11C'\n",
       "\\item 'GABRE'\n",
       "\\item 'AVL9'\n",
       "\\item 'MEST'\n",
       "\\item 'EIF4H'\n",
       "\\item 'TMEM245'\n",
       "\\item 'COPZ1'\n",
       "\\item 'RNF130'\n",
       "\\item 'PDE4D'\n",
       "\\item 'SMC4'\n",
       "\\item 'HOXB3'\n",
       "\\item 'PANK3'\n",
       "\\item 'RCL1'\n",
       "\\item 'EML2'\n",
       "\\item 'PANK2'\n",
       "\\item 'NSRP1'\n",
       "\\item 'DGCR8'\n",
       "\\item 'FGF13'\n",
       "\\item 'H19'\n",
       "\\item 'ZRANB2'\n",
       "\\item 'ARRB1'\n",
       "\\item 'SEC24B'\n",
       "\\item 'TLE3'\n",
       "\\item 'NVL'\n",
       "\\item 'CTDSP1'\n",
       "\\item 'CTDSPL'\n",
       "\\item 'LPP'\n",
       "\\item 'KLHL3'\n",
       "\\item 'C7orf50'\n",
       "\\item 'C9orf3'\n",
       "\\item 'FADS1'\n",
       "\\item 'PANK1'\n",
       "\\item 'PITPNC1'\n",
       "\\item 'PPARGC1B'\n",
       "\\item 'TMEM164'\n",
       "\\item 'WDR82'\n",
       "\\item 'HNRNPK'\n",
       "\\item 'TAF1D'\n",
       "\\item 'MCM7'\n",
       "\\item 'PTK2'\n",
       "\\item 'CLCN5'\n",
       "\\item 'TLN2'\n",
       "\\item 'HOXC5'\n",
       "\\item 'EGFL7'\n",
       "\\item 'ARPP21'\n",
       "\\item 'USMG5'\n",
       "\\item 'CTDSP2'\n",
       "\\item 'DALRD3'\n",
       "\\item 'ZNRF2'\n",
       "\\item 'HOXC10'\n",
       "\\item 'SKA2'\n",
       "\\item 'TANGO2'\n",
       "\\item 'OSBP2'\n",
       "\\item 'CHM'\n",
       "\\item 'EVL'\n",
       "\\item 'COL27A1'\n",
       "\\item 'FLJ27365'\n",
       "\\item 'FAM114A1'\n",
       "\\item 'HOXC6'\n",
       "\\item 'HOXC4'\n",
       "\\item 'WWP2'\n",
       "\\item 'NOS1AP'\n",
       "\\item 'C1orf132'\n",
       "\\item 'ABCF1'\n",
       "\\item 'LINC00478'\n",
       "\\item 'ZNRF2P2'\n",
       "\\item 'FTX'\n",
       "\\item 'DNM3OS'\n",
       "\\item 'AC234582.1'\n",
       "\\item 'DLEU2'\n",
       "\\item 'HOXA10'\n",
       "\\item 'AP000662.4'\n",
       "\\item 'RP1-170O19.20'\n",
       "\\item 'RP11-631N16.2'\n",
       "\\item 'RP11-65J21.3'\n",
       "\\item 'RP11-2B6.3'\n",
       "\\item 'RP3-331H24.5'\n",
       "\\item 'RP6-99M1.2'\n",
       "\\item 'RP3-368A4.5'\n",
       "\\item 'RP11-834C11.14'\n",
       "\\item 'RP11-834C11.12'\n",
       "\\item 'HOXC4'\n",
       "\\item 'AC002407.2'\n",
       "\\item 'AC016831.6'\n",
       "\\item NA\n",
       "\\item NA\n",
       "\\item NA\n",
       "\\item NA\n",
       "\\item NA\n",
       "\\item NA\n",
       "\\item NA\n",
       "\\item 'MIR31HG'\n",
       "\\item 'MIR7-3HG'\n",
       "\\item 'MIR22HG'\n",
       "\\item 'MIR17HG'\n",
       "\\item 'MIR503HG'\n",
       "\\item 'MIR181A2HG'\n",
       "\\item 'MIR34AHG'\n",
       "\\item 'MIR181A1HG'\n",
       "\\item 'MIR210HG'\n",
       "\\item 'MIR100HG'\n",
       "\\end{enumerate*}\n"
      ],
      "text/markdown": [
       "1. 'GIPR'\n",
       "2. 'GABRA3'\n",
       "3. 'FUT8'\n",
       "4. 'R3HDM1'\n",
       "5. 'VMP1'\n",
       "6. 'GPC1'\n",
       "7. 'MAP2K4'\n",
       "8. 'NFYC'\n",
       "9. 'NDE1'\n",
       "10. 'HUWE1'\n",
       "11. 'DNAJC5'\n",
       "12. 'ATP11C'\n",
       "13. 'GABRE'\n",
       "14. 'AVL9'\n",
       "15. 'MEST'\n",
       "16. 'EIF4H'\n",
       "17. 'TMEM245'\n",
       "18. 'COPZ1'\n",
       "19. 'RNF130'\n",
       "20. 'PDE4D'\n",
       "21. 'SMC4'\n",
       "22. 'HOXB3'\n",
       "23. 'PANK3'\n",
       "24. 'RCL1'\n",
       "25. 'EML2'\n",
       "26. 'PANK2'\n",
       "27. 'NSRP1'\n",
       "28. 'DGCR8'\n",
       "29. 'FGF13'\n",
       "30. 'H19'\n",
       "31. 'ZRANB2'\n",
       "32. 'ARRB1'\n",
       "33. 'SEC24B'\n",
       "34. 'TLE3'\n",
       "35. 'NVL'\n",
       "36. 'CTDSP1'\n",
       "37. 'CTDSPL'\n",
       "38. 'LPP'\n",
       "39. 'KLHL3'\n",
       "40. 'C7orf50'\n",
       "41. 'C9orf3'\n",
       "42. 'FADS1'\n",
       "43. 'PANK1'\n",
       "44. 'PITPNC1'\n",
       "45. 'PPARGC1B'\n",
       "46. 'TMEM164'\n",
       "47. 'WDR82'\n",
       "48. 'HNRNPK'\n",
       "49. 'TAF1D'\n",
       "50. 'MCM7'\n",
       "51. 'PTK2'\n",
       "52. 'CLCN5'\n",
       "53. 'TLN2'\n",
       "54. 'HOXC5'\n",
       "55. 'EGFL7'\n",
       "56. 'ARPP21'\n",
       "57. 'USMG5'\n",
       "58. 'CTDSP2'\n",
       "59. 'DALRD3'\n",
       "60. 'ZNRF2'\n",
       "61. 'HOXC10'\n",
       "62. 'SKA2'\n",
       "63. 'TANGO2'\n",
       "64. 'OSBP2'\n",
       "65. 'CHM'\n",
       "66. 'EVL'\n",
       "67. 'COL27A1'\n",
       "68. 'FLJ27365'\n",
       "69. 'FAM114A1'\n",
       "70. 'HOXC6'\n",
       "71. 'HOXC4'\n",
       "72. 'WWP2'\n",
       "73. 'NOS1AP'\n",
       "74. 'C1orf132'\n",
       "75. 'ABCF1'\n",
       "76. 'LINC00478'\n",
       "77. 'ZNRF2P2'\n",
       "78. 'FTX'\n",
       "79. 'DNM3OS'\n",
       "80. 'AC234582.1'\n",
       "81. 'DLEU2'\n",
       "82. 'HOXA10'\n",
       "83. 'AP000662.4'\n",
       "84. 'RP1-170O19.20'\n",
       "85. 'RP11-631N16.2'\n",
       "86. 'RP11-65J21.3'\n",
       "87. 'RP11-2B6.3'\n",
       "88. 'RP3-331H24.5'\n",
       "89. 'RP6-99M1.2'\n",
       "90. 'RP3-368A4.5'\n",
       "91. 'RP11-834C11.14'\n",
       "92. 'RP11-834C11.12'\n",
       "93. 'HOXC4'\n",
       "94. 'AC002407.2'\n",
       "95. 'AC016831.6'\n",
       "96. NA\n",
       "97. NA\n",
       "98. NA\n",
       "99. NA\n",
       "100. NA\n",
       "101. NA\n",
       "102. NA\n",
       "103. 'MIR31HG'\n",
       "104. 'MIR7-3HG'\n",
       "105. 'MIR22HG'\n",
       "106. 'MIR17HG'\n",
       "107. 'MIR503HG'\n",
       "108. 'MIR181A2HG'\n",
       "109. 'MIR34AHG'\n",
       "110. 'MIR181A1HG'\n",
       "111. 'MIR210HG'\n",
       "112. 'MIR100HG'\n",
       "\n",
       "\n"
      ],
      "text/plain": [
       "  [1] \"GIPR\"           \"GABRA3\"         \"FUT8\"           \"R3HDM1\"        \n",
       "  [5] \"VMP1\"           \"GPC1\"           \"MAP2K4\"         \"NFYC\"          \n",
       "  [9] \"NDE1\"           \"HUWE1\"          \"DNAJC5\"         \"ATP11C\"        \n",
       " [13] \"GABRE\"          \"AVL9\"           \"MEST\"           \"EIF4H\"         \n",
       " [17] \"TMEM245\"        \"COPZ1\"          \"RNF130\"         \"PDE4D\"         \n",
       " [21] \"SMC4\"           \"HOXB3\"          \"PANK3\"          \"RCL1\"          \n",
       " [25] \"EML2\"           \"PANK2\"          \"NSRP1\"          \"DGCR8\"         \n",
       " [29] \"FGF13\"          \"H19\"            \"ZRANB2\"         \"ARRB1\"         \n",
       " [33] \"SEC24B\"         \"TLE3\"           \"NVL\"            \"CTDSP1\"        \n",
       " [37] \"CTDSPL\"         \"LPP\"            \"KLHL3\"          \"C7orf50\"       \n",
       " [41] \"C9orf3\"         \"FADS1\"          \"PANK1\"          \"PITPNC1\"       \n",
       " [45] \"PPARGC1B\"       \"TMEM164\"        \"WDR82\"          \"HNRNPK\"        \n",
       " [49] \"TAF1D\"          \"MCM7\"           \"PTK2\"           \"CLCN5\"         \n",
       " [53] \"TLN2\"           \"HOXC5\"          \"EGFL7\"          \"ARPP21\"        \n",
       " [57] \"USMG5\"          \"CTDSP2\"         \"DALRD3\"         \"ZNRF2\"         \n",
       " [61] \"HOXC10\"         \"SKA2\"           \"TANGO2\"         \"OSBP2\"         \n",
       " [65] \"CHM\"            \"EVL\"            \"COL27A1\"        \"FLJ27365\"      \n",
       " [69] \"FAM114A1\"       \"HOXC6\"          \"HOXC4\"          \"WWP2\"          \n",
       " [73] \"NOS1AP\"         \"C1orf132\"       \"ABCF1\"          \"LINC00478\"     \n",
       " [77] \"ZNRF2P2\"        \"FTX\"            \"DNM3OS\"         \"AC234582.1\"    \n",
       " [81] \"DLEU2\"          \"HOXA10\"         \"AP000662.4\"     \"RP1-170O19.20\" \n",
       " [85] \"RP11-631N16.2\"  \"RP11-65J21.3\"   \"RP11-2B6.3\"     \"RP3-331H24.5\"  \n",
       " [89] \"RP6-99M1.2\"     \"RP3-368A4.5\"    \"RP11-834C11.14\" \"RP11-834C11.12\"\n",
       " [93] \"HOXC4\"          \"AC002407.2\"     \"AC016831.6\"     NA              \n",
       " [97] NA               NA               NA               NA              \n",
       "[101] NA               NA               \"MIR31HG\"        \"MIR7-3HG\"      \n",
       "[105] \"MIR22HG\"        \"MIR17HG\"        \"MIR503HG\"       \"MIR181A2HG\"    \n",
       "[109] \"MIR34AHG\"       \"MIR181A1HG\"     \"MIR210HG\"       \"MIR100HG\"      "
      ]
     },
     "metadata": {},
     "output_type": "display_data"
    }
   ],
   "source": [
    "# all the genes annotated \"MIR\" (without HG) are the actual precursors. Remove them but keep \"HG\"clusters\n",
    "pri <- d[-grep(\"MIR\", d$name),]\n",
    "pri <- rbind.data.frame(pri, d[grep(\"HG\", d$name),])\n",
    "nrow(f)\n",
    "\n",
    "pri$name\n",
    "d <- pri"
   ]
  },
  {
   "cell_type": "code",
   "execution_count": 70,
   "metadata": {},
   "outputs": [],
   "source": [
    "# end up with a list of 112 pri-miRs that are quantified"
   ]
  },
  {
   "cell_type": "markdown",
   "metadata": {},
   "source": [
    "# 3) Deseq2"
   ]
  },
  {
   "cell_type": "code",
   "execution_count": 40,
   "metadata": {},
   "outputs": [],
   "source": [
    "set.seed(100)"
   ]
  },
  {
   "cell_type": "markdown",
   "metadata": {},
   "source": [
    "## respective replicates"
   ]
  },
  {
   "cell_type": "code",
   "execution_count": 41,
   "metadata": {},
   "outputs": [
    {
     "data": {
      "text/html": [
       "<table>\n",
       "<caption>A data.frame: 6 × 19</caption>\n",
       "<thead>\n",
       "\t<tr><th></th><th scope=col>hela_shgfp_dox_r1</th><th scope=col>hela_shgfp_dox_r2</th><th scope=col>hela_shint3_dox_r1</th><th scope=col>hela_shint3_dox_r2</th><th scope=col>hela_shint7_dox_r1</th><th scope=col>hela_shint7_dox_r2</th><th scope=col>hela_shints1_dox_r1</th><th scope=col>hela_shints1_dox_r2</th><th scope=col>hela_shints11_dox_r1</th><th scope=col>hela_shints11_dox_r2</th><th scope=col>hela_siC_total_r1</th><th scope=col>hela_siC_total_r2</th><th scope=col>hela_siDrosha_total_r1</th><th scope=col>hela_siDrosha_totala_r2</th><th scope=col>hela3_shgfp_dox_r1</th><th scope=col>hela3_shgfp_dox_r2</th><th scope=col>hela3_shints6_dox_r1</th><th scope=col>hela3_shints6_dox_r2</th><th scope=col>name</th></tr>\n",
       "\t<tr><th></th><th scope=col>&lt;dbl&gt;</th><th scope=col>&lt;dbl&gt;</th><th scope=col>&lt;dbl&gt;</th><th scope=col>&lt;dbl&gt;</th><th scope=col>&lt;dbl&gt;</th><th scope=col>&lt;dbl&gt;</th><th scope=col>&lt;dbl&gt;</th><th scope=col>&lt;dbl&gt;</th><th scope=col>&lt;dbl&gt;</th><th scope=col>&lt;dbl&gt;</th><th scope=col>&lt;dbl&gt;</th><th scope=col>&lt;dbl&gt;</th><th scope=col>&lt;dbl&gt;</th><th scope=col>&lt;dbl&gt;</th><th scope=col>&lt;dbl&gt;</th><th scope=col>&lt;dbl&gt;</th><th scope=col>&lt;dbl&gt;</th><th scope=col>&lt;dbl&gt;</th><th scope=col>&lt;chr&gt;</th></tr>\n",
       "</thead>\n",
       "<tbody>\n",
       "\t<tr><th scope=row>ENSG00000010310</th><td>   47.00</td><td>   51.0</td><td>   30.00</td><td>   23.00</td><td>  149.00</td><td>  136.00</td><td>  143.00</td><td>  142.00</td><td>   25.11</td><td>   23.00</td><td>   16.00</td><td>   10.00</td><td>    4.0</td><td>    7.00</td><td>  32.00</td><td>  39</td><td>   50</td><td>   58</td><td>GIPR  </td></tr>\n",
       "\t<tr><th scope=row>ENSG00000011677</th><td>  375.00</td><td>  393.0</td><td>  135.00</td><td>  122.00</td><td>  154.00</td><td>  173.00</td><td>  186.00</td><td>  187.00</td><td>  297.00</td><td>  319.00</td><td>  254.00</td><td>  255.00</td><td>  414.0</td><td>  371.00</td><td> 169.00</td><td> 205</td><td>  130</td><td>  135</td><td>GABRA3</td></tr>\n",
       "\t<tr><th scope=row>ENSG00000033170</th><td> 1594.00</td><td> 1925.0</td><td> 1765.00</td><td> 1689.00</td><td> 1875.00</td><td> 1919.00</td><td> 4829.96</td><td> 5062.99</td><td> 1186.00</td><td> 1006.00</td><td>  591.00</td><td>  601.00</td><td>  922.0</td><td>  784.00</td><td> 620.00</td><td> 724</td><td>  646</td><td>  787</td><td>FUT8  </td></tr>\n",
       "\t<tr><th scope=row>ENSG00000048991</th><td> 2076.00</td><td> 2392.0</td><td>  917.00</td><td>  819.00</td><td> 1277.00</td><td> 1331.00</td><td> 1676.00</td><td> 1440.00</td><td> 1741.00</td><td> 1815.00</td><td> 1043.00</td><td> 1256.00</td><td>  995.0</td><td>  822.00</td><td> 753.00</td><td> 897</td><td>  642</td><td>  783</td><td>R3HDM1</td></tr>\n",
       "\t<tr><th scope=row>ENSG00000062716</th><td>11591.56</td><td>14018.6</td><td>15801.97</td><td>13651.96</td><td>12573.99</td><td>13138.97</td><td>40630.06</td><td>44288.06</td><td>24266.28</td><td>27557.18</td><td>23205.93</td><td>23509.75</td><td>28220.7</td><td>19130.93</td><td>4249.82</td><td>4261</td><td>11508</td><td>14961</td><td>VMP1  </td></tr>\n",
       "\t<tr><th scope=row>ENSG00000063660</th><td>  457.00</td><td>  169.0</td><td> 3045.00</td><td> 2936.00</td><td> 3152.00</td><td> 3752.00</td><td>  341.00</td><td>  418.00</td><td>  516.00</td><td>  291.00</td><td>  615.00</td><td>  682.00</td><td>  342.0</td><td>  963.00</td><td>1766.00</td><td>2014</td><td> 2423</td><td> 2285</td><td>GPC1  </td></tr>\n",
       "</tbody>\n",
       "</table>\n"
      ],
      "text/latex": [
       "A data.frame: 6 × 19\n",
       "\\begin{tabular}{r|lllllllllllllllllll}\n",
       "  & hela\\_shgfp\\_dox\\_r1 & hela\\_shgfp\\_dox\\_r2 & hela\\_shint3\\_dox\\_r1 & hela\\_shint3\\_dox\\_r2 & hela\\_shint7\\_dox\\_r1 & hela\\_shint7\\_dox\\_r2 & hela\\_shints1\\_dox\\_r1 & hela\\_shints1\\_dox\\_r2 & hela\\_shints11\\_dox\\_r1 & hela\\_shints11\\_dox\\_r2 & hela\\_siC\\_total\\_r1 & hela\\_siC\\_total\\_r2 & hela\\_siDrosha\\_total\\_r1 & hela\\_siDrosha\\_totala\\_r2 & hela3\\_shgfp\\_dox\\_r1 & hela3\\_shgfp\\_dox\\_r2 & hela3\\_shints6\\_dox\\_r1 & hela3\\_shints6\\_dox\\_r2 & name\\\\\n",
       "  & <dbl> & <dbl> & <dbl> & <dbl> & <dbl> & <dbl> & <dbl> & <dbl> & <dbl> & <dbl> & <dbl> & <dbl> & <dbl> & <dbl> & <dbl> & <dbl> & <dbl> & <dbl> & <chr>\\\\\n",
       "\\hline\n",
       "\tENSG00000010310 &    47.00 &    51.0 &    30.00 &    23.00 &   149.00 &   136.00 &   143.00 &   142.00 &    25.11 &    23.00 &    16.00 &    10.00 &     4.0 &     7.00 &   32.00 &   39 &    50 &    58 & GIPR  \\\\\n",
       "\tENSG00000011677 &   375.00 &   393.0 &   135.00 &   122.00 &   154.00 &   173.00 &   186.00 &   187.00 &   297.00 &   319.00 &   254.00 &   255.00 &   414.0 &   371.00 &  169.00 &  205 &   130 &   135 & GABRA3\\\\\n",
       "\tENSG00000033170 &  1594.00 &  1925.0 &  1765.00 &  1689.00 &  1875.00 &  1919.00 &  4829.96 &  5062.99 &  1186.00 &  1006.00 &   591.00 &   601.00 &   922.0 &   784.00 &  620.00 &  724 &   646 &   787 & FUT8  \\\\\n",
       "\tENSG00000048991 &  2076.00 &  2392.0 &   917.00 &   819.00 &  1277.00 &  1331.00 &  1676.00 &  1440.00 &  1741.00 &  1815.00 &  1043.00 &  1256.00 &   995.0 &   822.00 &  753.00 &  897 &   642 &   783 & R3HDM1\\\\\n",
       "\tENSG00000062716 & 11591.56 & 14018.6 & 15801.97 & 13651.96 & 12573.99 & 13138.97 & 40630.06 & 44288.06 & 24266.28 & 27557.18 & 23205.93 & 23509.75 & 28220.7 & 19130.93 & 4249.82 & 4261 & 11508 & 14961 & VMP1  \\\\\n",
       "\tENSG00000063660 &   457.00 &   169.0 &  3045.00 &  2936.00 &  3152.00 &  3752.00 &   341.00 &   418.00 &   516.00 &   291.00 &   615.00 &   682.00 &   342.0 &   963.00 & 1766.00 & 2014 &  2423 &  2285 & GPC1  \\\\\n",
       "\\end{tabular}\n"
      ],
      "text/markdown": [
       "\n",
       "A data.frame: 6 × 19\n",
       "\n",
       "| <!--/--> | hela_shgfp_dox_r1 &lt;dbl&gt; | hela_shgfp_dox_r2 &lt;dbl&gt; | hela_shint3_dox_r1 &lt;dbl&gt; | hela_shint3_dox_r2 &lt;dbl&gt; | hela_shint7_dox_r1 &lt;dbl&gt; | hela_shint7_dox_r2 &lt;dbl&gt; | hela_shints1_dox_r1 &lt;dbl&gt; | hela_shints1_dox_r2 &lt;dbl&gt; | hela_shints11_dox_r1 &lt;dbl&gt; | hela_shints11_dox_r2 &lt;dbl&gt; | hela_siC_total_r1 &lt;dbl&gt; | hela_siC_total_r2 &lt;dbl&gt; | hela_siDrosha_total_r1 &lt;dbl&gt; | hela_siDrosha_totala_r2 &lt;dbl&gt; | hela3_shgfp_dox_r1 &lt;dbl&gt; | hela3_shgfp_dox_r2 &lt;dbl&gt; | hela3_shints6_dox_r1 &lt;dbl&gt; | hela3_shints6_dox_r2 &lt;dbl&gt; | name &lt;chr&gt; |\n",
       "|---|---|---|---|---|---|---|---|---|---|---|---|---|---|---|---|---|---|---|---|\n",
       "| ENSG00000010310 |    47.00 |    51.0 |    30.00 |    23.00 |   149.00 |   136.00 |   143.00 |   142.00 |    25.11 |    23.00 |    16.00 |    10.00 |     4.0 |     7.00 |   32.00 |   39 |    50 |    58 | GIPR   |\n",
       "| ENSG00000011677 |   375.00 |   393.0 |   135.00 |   122.00 |   154.00 |   173.00 |   186.00 |   187.00 |   297.00 |   319.00 |   254.00 |   255.00 |   414.0 |   371.00 |  169.00 |  205 |   130 |   135 | GABRA3 |\n",
       "| ENSG00000033170 |  1594.00 |  1925.0 |  1765.00 |  1689.00 |  1875.00 |  1919.00 |  4829.96 |  5062.99 |  1186.00 |  1006.00 |   591.00 |   601.00 |   922.0 |   784.00 |  620.00 |  724 |   646 |   787 | FUT8   |\n",
       "| ENSG00000048991 |  2076.00 |  2392.0 |   917.00 |   819.00 |  1277.00 |  1331.00 |  1676.00 |  1440.00 |  1741.00 |  1815.00 |  1043.00 |  1256.00 |   995.0 |   822.00 |  753.00 |  897 |   642 |   783 | R3HDM1 |\n",
       "| ENSG00000062716 | 11591.56 | 14018.6 | 15801.97 | 13651.96 | 12573.99 | 13138.97 | 40630.06 | 44288.06 | 24266.28 | 27557.18 | 23205.93 | 23509.75 | 28220.7 | 19130.93 | 4249.82 | 4261 | 11508 | 14961 | VMP1   |\n",
       "| ENSG00000063660 |   457.00 |   169.0 |  3045.00 |  2936.00 |  3152.00 |  3752.00 |   341.00 |   418.00 |   516.00 |   291.00 |   615.00 |   682.00 |   342.0 |   963.00 | 1766.00 | 2014 |  2423 |  2285 | GPC1   |\n",
       "\n"
      ],
      "text/plain": [
       "                hela_shgfp_dox_r1 hela_shgfp_dox_r2 hela_shint3_dox_r1\n",
       "ENSG00000010310    47.00             51.0              30.00          \n",
       "ENSG00000011677   375.00            393.0             135.00          \n",
       "ENSG00000033170  1594.00           1925.0            1765.00          \n",
       "ENSG00000048991  2076.00           2392.0             917.00          \n",
       "ENSG00000062716 11591.56          14018.6           15801.97          \n",
       "ENSG00000063660   457.00            169.0            3045.00          \n",
       "                hela_shint3_dox_r2 hela_shint7_dox_r1 hela_shint7_dox_r2\n",
       "ENSG00000010310    23.00             149.00             136.00          \n",
       "ENSG00000011677   122.00             154.00             173.00          \n",
       "ENSG00000033170  1689.00            1875.00            1919.00          \n",
       "ENSG00000048991   819.00            1277.00            1331.00          \n",
       "ENSG00000062716 13651.96           12573.99           13138.97          \n",
       "ENSG00000063660  2936.00            3152.00            3752.00          \n",
       "                hela_shints1_dox_r1 hela_shints1_dox_r2 hela_shints11_dox_r1\n",
       "ENSG00000010310   143.00              142.00               25.11            \n",
       "ENSG00000011677   186.00              187.00              297.00            \n",
       "ENSG00000033170  4829.96             5062.99             1186.00            \n",
       "ENSG00000048991  1676.00             1440.00             1741.00            \n",
       "ENSG00000062716 40630.06            44288.06            24266.28            \n",
       "ENSG00000063660   341.00              418.00              516.00            \n",
       "                hela_shints11_dox_r2 hela_siC_total_r1 hela_siC_total_r2\n",
       "ENSG00000010310    23.00                16.00             10.00         \n",
       "ENSG00000011677   319.00               254.00            255.00         \n",
       "ENSG00000033170  1006.00               591.00            601.00         \n",
       "ENSG00000048991  1815.00              1043.00           1256.00         \n",
       "ENSG00000062716 27557.18             23205.93          23509.75         \n",
       "ENSG00000063660   291.00               615.00            682.00         \n",
       "                hela_siDrosha_total_r1 hela_siDrosha_totala_r2\n",
       "ENSG00000010310     4.0                    7.00               \n",
       "ENSG00000011677   414.0                  371.00               \n",
       "ENSG00000033170   922.0                  784.00               \n",
       "ENSG00000048991   995.0                  822.00               \n",
       "ENSG00000062716 28220.7                19130.93               \n",
       "ENSG00000063660   342.0                  963.00               \n",
       "                hela3_shgfp_dox_r1 hela3_shgfp_dox_r2 hela3_shints6_dox_r1\n",
       "ENSG00000010310   32.00              39                  50               \n",
       "ENSG00000011677  169.00             205                 130               \n",
       "ENSG00000033170  620.00             724                 646               \n",
       "ENSG00000048991  753.00             897                 642               \n",
       "ENSG00000062716 4249.82            4261               11508               \n",
       "ENSG00000063660 1766.00            2014                2423               \n",
       "                hela3_shints6_dox_r2 name  \n",
       "ENSG00000010310    58                GIPR  \n",
       "ENSG00000011677   135                GABRA3\n",
       "ENSG00000033170   787                FUT8  \n",
       "ENSG00000048991   783                R3HDM1\n",
       "ENSG00000062716 14961                VMP1  \n",
       "ENSG00000063660  2285                GPC1  "
      ]
     },
     "metadata": {},
     "output_type": "display_data"
    },
    {
     "data": {
      "text/html": [
       "<style>\n",
       ".list-inline {list-style: none; margin:0; padding: 0}\n",
       ".list-inline>li {display: inline-block}\n",
       ".list-inline>li:not(:last-child)::after {content: \"\\00b7\"; padding: 0 .5ex}\n",
       "</style>\n",
       "<ol class=list-inline><li>'hela_shgfp_dox_r1'</li><li>'hela_shgfp_dox_r2'</li><li>'hela_shint3_dox_r1'</li><li>'hela_shint3_dox_r2'</li><li>'hela_shint7_dox_r1'</li><li>'hela_shint7_dox_r2'</li><li>'hela_shints1_dox_r1'</li><li>'hela_shints1_dox_r2'</li><li>'hela_shints11_dox_r1'</li><li>'hela_shints11_dox_r2'</li><li>'hela_siC_total_r1'</li><li>'hela_siC_total_r2'</li><li>'hela_siDrosha_total_r1'</li><li>'hela_siDrosha_totala_r2'</li><li>'hela3_shgfp_dox_r1'</li><li>'hela3_shgfp_dox_r2'</li><li>'hela3_shints6_dox_r1'</li><li>'hela3_shints6_dox_r2'</li><li>'name'</li></ol>\n"
      ],
      "text/latex": [
       "\\begin{enumerate*}\n",
       "\\item 'hela\\_shgfp\\_dox\\_r1'\n",
       "\\item 'hela\\_shgfp\\_dox\\_r2'\n",
       "\\item 'hela\\_shint3\\_dox\\_r1'\n",
       "\\item 'hela\\_shint3\\_dox\\_r2'\n",
       "\\item 'hela\\_shint7\\_dox\\_r1'\n",
       "\\item 'hela\\_shint7\\_dox\\_r2'\n",
       "\\item 'hela\\_shints1\\_dox\\_r1'\n",
       "\\item 'hela\\_shints1\\_dox\\_r2'\n",
       "\\item 'hela\\_shints11\\_dox\\_r1'\n",
       "\\item 'hela\\_shints11\\_dox\\_r2'\n",
       "\\item 'hela\\_siC\\_total\\_r1'\n",
       "\\item 'hela\\_siC\\_total\\_r2'\n",
       "\\item 'hela\\_siDrosha\\_total\\_r1'\n",
       "\\item 'hela\\_siDrosha\\_totala\\_r2'\n",
       "\\item 'hela3\\_shgfp\\_dox\\_r1'\n",
       "\\item 'hela3\\_shgfp\\_dox\\_r2'\n",
       "\\item 'hela3\\_shints6\\_dox\\_r1'\n",
       "\\item 'hela3\\_shints6\\_dox\\_r2'\n",
       "\\item 'name'\n",
       "\\end{enumerate*}\n"
      ],
      "text/markdown": [
       "1. 'hela_shgfp_dox_r1'\n",
       "2. 'hela_shgfp_dox_r2'\n",
       "3. 'hela_shint3_dox_r1'\n",
       "4. 'hela_shint3_dox_r2'\n",
       "5. 'hela_shint7_dox_r1'\n",
       "6. 'hela_shint7_dox_r2'\n",
       "7. 'hela_shints1_dox_r1'\n",
       "8. 'hela_shints1_dox_r2'\n",
       "9. 'hela_shints11_dox_r1'\n",
       "10. 'hela_shints11_dox_r2'\n",
       "11. 'hela_siC_total_r1'\n",
       "12. 'hela_siC_total_r2'\n",
       "13. 'hela_siDrosha_total_r1'\n",
       "14. 'hela_siDrosha_totala_r2'\n",
       "15. 'hela3_shgfp_dox_r1'\n",
       "16. 'hela3_shgfp_dox_r2'\n",
       "17. 'hela3_shints6_dox_r1'\n",
       "18. 'hela3_shints6_dox_r2'\n",
       "19. 'name'\n",
       "\n",
       "\n"
      ],
      "text/plain": [
       " [1] \"hela_shgfp_dox_r1\"       \"hela_shgfp_dox_r2\"      \n",
       " [3] \"hela_shint3_dox_r1\"      \"hela_shint3_dox_r2\"     \n",
       " [5] \"hela_shint7_dox_r1\"      \"hela_shint7_dox_r2\"     \n",
       " [7] \"hela_shints1_dox_r1\"     \"hela_shints1_dox_r2\"    \n",
       " [9] \"hela_shints11_dox_r1\"    \"hela_shints11_dox_r2\"   \n",
       "[11] \"hela_siC_total_r1\"       \"hela_siC_total_r2\"      \n",
       "[13] \"hela_siDrosha_total_r1\"  \"hela_siDrosha_totala_r2\"\n",
       "[15] \"hela3_shgfp_dox_r1\"      \"hela3_shgfp_dox_r2\"     \n",
       "[17] \"hela3_shints6_dox_r1\"    \"hela3_shints6_dox_r2\"   \n",
       "[19] \"name\"                   "
      ]
     },
     "metadata": {},
     "output_type": "display_data"
    },
    {
     "data": {
      "text/html": [
       "<table>\n",
       "<caption>A matrix: 6 × 18 of type dbl</caption>\n",
       "<thead>\n",
       "\t<tr><th></th><th scope=col>hela_shgfp_dox_r1</th><th scope=col>hela_shgfp_dox_r2</th><th scope=col>hela_shint3_dox_r1</th><th scope=col>hela_shint3_dox_r2</th><th scope=col>hela_shint7_dox_r1</th><th scope=col>hela_shint7_dox_r2</th><th scope=col>hela_shints1_dox_r1</th><th scope=col>hela_shints1_dox_r2</th><th scope=col>hela_shints11_dox_r1</th><th scope=col>hela_shints11_dox_r2</th><th scope=col>hela_siC_total_r1</th><th scope=col>hela_siC_total_r2</th><th scope=col>hela_siDrosha_total_r1</th><th scope=col>hela_siDrosha_totala_r2</th><th scope=col>hela3_shgfp_dox_r1</th><th scope=col>hela3_shgfp_dox_r2</th><th scope=col>hela3_shints6_dox_r1</th><th scope=col>hela3_shints6_dox_r2</th></tr>\n",
       "</thead>\n",
       "<tbody>\n",
       "\t<tr><th scope=row>ENSG00000010310</th><td>   47</td><td>   51</td><td>   30</td><td>   23</td><td>  149</td><td>  136</td><td>  143</td><td>  142</td><td>   25</td><td>   23</td><td>   16</td><td>   10</td><td>    4</td><td>    7</td><td>  32</td><td>  39</td><td>   50</td><td>   58</td></tr>\n",
       "\t<tr><th scope=row>ENSG00000011677</th><td>  375</td><td>  393</td><td>  135</td><td>  122</td><td>  154</td><td>  173</td><td>  186</td><td>  187</td><td>  297</td><td>  319</td><td>  254</td><td>  255</td><td>  414</td><td>  371</td><td> 169</td><td> 205</td><td>  130</td><td>  135</td></tr>\n",
       "\t<tr><th scope=row>ENSG00000033170</th><td> 1594</td><td> 1925</td><td> 1765</td><td> 1689</td><td> 1875</td><td> 1919</td><td> 4830</td><td> 5063</td><td> 1186</td><td> 1006</td><td>  591</td><td>  601</td><td>  922</td><td>  784</td><td> 620</td><td> 724</td><td>  646</td><td>  787</td></tr>\n",
       "\t<tr><th scope=row>ENSG00000048991</th><td> 2076</td><td> 2392</td><td>  917</td><td>  819</td><td> 1277</td><td> 1331</td><td> 1676</td><td> 1440</td><td> 1741</td><td> 1815</td><td> 1043</td><td> 1256</td><td>  995</td><td>  822</td><td> 753</td><td> 897</td><td>  642</td><td>  783</td></tr>\n",
       "\t<tr><th scope=row>ENSG00000062716</th><td>11592</td><td>14019</td><td>15802</td><td>13652</td><td>12574</td><td>13139</td><td>40630</td><td>44288</td><td>24266</td><td>27557</td><td>23206</td><td>23510</td><td>28221</td><td>19131</td><td>4250</td><td>4261</td><td>11508</td><td>14961</td></tr>\n",
       "\t<tr><th scope=row>ENSG00000063660</th><td>  457</td><td>  169</td><td> 3045</td><td> 2936</td><td> 3152</td><td> 3752</td><td>  341</td><td>  418</td><td>  516</td><td>  291</td><td>  615</td><td>  682</td><td>  342</td><td>  963</td><td>1766</td><td>2014</td><td> 2423</td><td> 2285</td></tr>\n",
       "</tbody>\n",
       "</table>\n"
      ],
      "text/latex": [
       "A matrix: 6 × 18 of type dbl\n",
       "\\begin{tabular}{r|llllllllllllllllll}\n",
       "  & hela\\_shgfp\\_dox\\_r1 & hela\\_shgfp\\_dox\\_r2 & hela\\_shint3\\_dox\\_r1 & hela\\_shint3\\_dox\\_r2 & hela\\_shint7\\_dox\\_r1 & hela\\_shint7\\_dox\\_r2 & hela\\_shints1\\_dox\\_r1 & hela\\_shints1\\_dox\\_r2 & hela\\_shints11\\_dox\\_r1 & hela\\_shints11\\_dox\\_r2 & hela\\_siC\\_total\\_r1 & hela\\_siC\\_total\\_r2 & hela\\_siDrosha\\_total\\_r1 & hela\\_siDrosha\\_totala\\_r2 & hela3\\_shgfp\\_dox\\_r1 & hela3\\_shgfp\\_dox\\_r2 & hela3\\_shints6\\_dox\\_r1 & hela3\\_shints6\\_dox\\_r2\\\\\n",
       "\\hline\n",
       "\tENSG00000010310 &    47 &    51 &    30 &    23 &   149 &   136 &   143 &   142 &    25 &    23 &    16 &    10 &     4 &     7 &   32 &   39 &    50 &    58\\\\\n",
       "\tENSG00000011677 &   375 &   393 &   135 &   122 &   154 &   173 &   186 &   187 &   297 &   319 &   254 &   255 &   414 &   371 &  169 &  205 &   130 &   135\\\\\n",
       "\tENSG00000033170 &  1594 &  1925 &  1765 &  1689 &  1875 &  1919 &  4830 &  5063 &  1186 &  1006 &   591 &   601 &   922 &   784 &  620 &  724 &   646 &   787\\\\\n",
       "\tENSG00000048991 &  2076 &  2392 &   917 &   819 &  1277 &  1331 &  1676 &  1440 &  1741 &  1815 &  1043 &  1256 &   995 &   822 &  753 &  897 &   642 &   783\\\\\n",
       "\tENSG00000062716 & 11592 & 14019 & 15802 & 13652 & 12574 & 13139 & 40630 & 44288 & 24266 & 27557 & 23206 & 23510 & 28221 & 19131 & 4250 & 4261 & 11508 & 14961\\\\\n",
       "\tENSG00000063660 &   457 &   169 &  3045 &  2936 &  3152 &  3752 &   341 &   418 &   516 &   291 &   615 &   682 &   342 &   963 & 1766 & 2014 &  2423 &  2285\\\\\n",
       "\\end{tabular}\n"
      ],
      "text/markdown": [
       "\n",
       "A matrix: 6 × 18 of type dbl\n",
       "\n",
       "| <!--/--> | hela_shgfp_dox_r1 | hela_shgfp_dox_r2 | hela_shint3_dox_r1 | hela_shint3_dox_r2 | hela_shint7_dox_r1 | hela_shint7_dox_r2 | hela_shints1_dox_r1 | hela_shints1_dox_r2 | hela_shints11_dox_r1 | hela_shints11_dox_r2 | hela_siC_total_r1 | hela_siC_total_r2 | hela_siDrosha_total_r1 | hela_siDrosha_totala_r2 | hela3_shgfp_dox_r1 | hela3_shgfp_dox_r2 | hela3_shints6_dox_r1 | hela3_shints6_dox_r2 |\n",
       "|---|---|---|---|---|---|---|---|---|---|---|---|---|---|---|---|---|---|---|\n",
       "| ENSG00000010310 |    47 |    51 |    30 |    23 |   149 |   136 |   143 |   142 |    25 |    23 |    16 |    10 |     4 |     7 |   32 |   39 |    50 |    58 |\n",
       "| ENSG00000011677 |   375 |   393 |   135 |   122 |   154 |   173 |   186 |   187 |   297 |   319 |   254 |   255 |   414 |   371 |  169 |  205 |   130 |   135 |\n",
       "| ENSG00000033170 |  1594 |  1925 |  1765 |  1689 |  1875 |  1919 |  4830 |  5063 |  1186 |  1006 |   591 |   601 |   922 |   784 |  620 |  724 |   646 |   787 |\n",
       "| ENSG00000048991 |  2076 |  2392 |   917 |   819 |  1277 |  1331 |  1676 |  1440 |  1741 |  1815 |  1043 |  1256 |   995 |   822 |  753 |  897 |   642 |   783 |\n",
       "| ENSG00000062716 | 11592 | 14019 | 15802 | 13652 | 12574 | 13139 | 40630 | 44288 | 24266 | 27557 | 23206 | 23510 | 28221 | 19131 | 4250 | 4261 | 11508 | 14961 |\n",
       "| ENSG00000063660 |   457 |   169 |  3045 |  2936 |  3152 |  3752 |   341 |   418 |   516 |   291 |   615 |   682 |   342 |   963 | 1766 | 2014 |  2423 |  2285 |\n",
       "\n"
      ],
      "text/plain": [
       "                hela_shgfp_dox_r1 hela_shgfp_dox_r2 hela_shint3_dox_r1\n",
       "ENSG00000010310    47                51                30             \n",
       "ENSG00000011677   375               393               135             \n",
       "ENSG00000033170  1594              1925              1765             \n",
       "ENSG00000048991  2076              2392               917             \n",
       "ENSG00000062716 11592             14019             15802             \n",
       "ENSG00000063660   457               169              3045             \n",
       "                hela_shint3_dox_r2 hela_shint7_dox_r1 hela_shint7_dox_r2\n",
       "ENSG00000010310    23                149                136             \n",
       "ENSG00000011677   122                154                173             \n",
       "ENSG00000033170  1689               1875               1919             \n",
       "ENSG00000048991   819               1277               1331             \n",
       "ENSG00000062716 13652              12574              13139             \n",
       "ENSG00000063660  2936               3152               3752             \n",
       "                hela_shints1_dox_r1 hela_shints1_dox_r2 hela_shints11_dox_r1\n",
       "ENSG00000010310   143                 142                  25               \n",
       "ENSG00000011677   186                 187                 297               \n",
       "ENSG00000033170  4830                5063                1186               \n",
       "ENSG00000048991  1676                1440                1741               \n",
       "ENSG00000062716 40630               44288               24266               \n",
       "ENSG00000063660   341                 418                 516               \n",
       "                hela_shints11_dox_r2 hela_siC_total_r1 hela_siC_total_r2\n",
       "ENSG00000010310    23                   16                10            \n",
       "ENSG00000011677   319                  254               255            \n",
       "ENSG00000033170  1006                  591               601            \n",
       "ENSG00000048991  1815                 1043              1256            \n",
       "ENSG00000062716 27557                23206             23510            \n",
       "ENSG00000063660   291                  615               682            \n",
       "                hela_siDrosha_total_r1 hela_siDrosha_totala_r2\n",
       "ENSG00000010310     4                      7                  \n",
       "ENSG00000011677   414                    371                  \n",
       "ENSG00000033170   922                    784                  \n",
       "ENSG00000048991   995                    822                  \n",
       "ENSG00000062716 28221                  19131                  \n",
       "ENSG00000063660   342                    963                  \n",
       "                hela3_shgfp_dox_r1 hela3_shgfp_dox_r2 hela3_shints6_dox_r1\n",
       "ENSG00000010310   32                 39                  50               \n",
       "ENSG00000011677  169                205                 130               \n",
       "ENSG00000033170  620                724                 646               \n",
       "ENSG00000048991  753                897                 642               \n",
       "ENSG00000062716 4250               4261               11508               \n",
       "ENSG00000063660 1766               2014                2423               \n",
       "                hela3_shints6_dox_r2\n",
       "ENSG00000010310    58               \n",
       "ENSG00000011677   135               \n",
       "ENSG00000033170   787               \n",
       "ENSG00000048991   783               \n",
       "ENSG00000062716 14961               \n",
       "ENSG00000063660  2285               "
      ]
     },
     "metadata": {},
     "output_type": "display_data"
    }
   ],
   "source": [
    "head(d)\n",
    "colnames(d)\n",
    "d2 <- apply(d[,-ncol(d)], 2, function(x) round(x, digits=0))\n",
    "rownames(d2) <- rownames(d)\n",
    "head(d2)"
   ]
  },
  {
   "cell_type": "code",
   "execution_count": 42,
   "metadata": {},
   "outputs": [
    {
     "data": {
      "text/html": [
       "<style>\n",
       ".list-inline {list-style: none; margin:0; padding: 0}\n",
       ".list-inline>li {display: inline-block}\n",
       ".list-inline>li:not(:last-child)::after {content: \"\\00b7\"; padding: 0 .5ex}\n",
       "</style>\n",
       "<ol class=list-inline><li>'rownames(d2)'</li><li>'hela_shgfp_dox_r1'</li><li>'hela_shgfp_dox_r2'</li><li>'hela_shints1_dox_r1'</li><li>'hela_shints1_dox_r2'</li></ol>\n"
      ],
      "text/latex": [
       "\\begin{enumerate*}\n",
       "\\item 'rownames(d2)'\n",
       "\\item 'hela\\_shgfp\\_dox\\_r1'\n",
       "\\item 'hela\\_shgfp\\_dox\\_r2'\n",
       "\\item 'hela\\_shints1\\_dox\\_r1'\n",
       "\\item 'hela\\_shints1\\_dox\\_r2'\n",
       "\\end{enumerate*}\n"
      ],
      "text/markdown": [
       "1. 'rownames(d2)'\n",
       "2. 'hela_shgfp_dox_r1'\n",
       "3. 'hela_shgfp_dox_r2'\n",
       "4. 'hela_shints1_dox_r1'\n",
       "5. 'hela_shints1_dox_r2'\n",
       "\n",
       "\n"
      ],
      "text/plain": [
       "[1] \"rownames(d2)\"        \"hela_shgfp_dox_r1\"   \"hela_shgfp_dox_r2\"  \n",
       "[4] \"hela_shints1_dox_r1\" \"hela_shints1_dox_r2\""
      ]
     },
     "metadata": {},
     "output_type": "display_data"
    },
    {
     "data": {
      "text/html": [
       "<style>\n",
       ".list-inline {list-style: none; margin:0; padding: 0}\n",
       ".list-inline>li {display: inline-block}\n",
       ".list-inline>li:not(:last-child)::after {content: \"\\00b7\"; padding: 0 .5ex}\n",
       "</style>\n",
       "<ol class=list-inline><li>'rownames(d2)'</li><li>'hela_shgfp_dox_r1'</li><li>'hela_shgfp_dox_r2'</li><li>'hela_shint3_dox_r1'</li><li>'hela_shint3_dox_r2'</li></ol>\n"
      ],
      "text/latex": [
       "\\begin{enumerate*}\n",
       "\\item 'rownames(d2)'\n",
       "\\item 'hela\\_shgfp\\_dox\\_r1'\n",
       "\\item 'hela\\_shgfp\\_dox\\_r2'\n",
       "\\item 'hela\\_shint3\\_dox\\_r1'\n",
       "\\item 'hela\\_shint3\\_dox\\_r2'\n",
       "\\end{enumerate*}\n"
      ],
      "text/markdown": [
       "1. 'rownames(d2)'\n",
       "2. 'hela_shgfp_dox_r1'\n",
       "3. 'hela_shgfp_dox_r2'\n",
       "4. 'hela_shint3_dox_r1'\n",
       "5. 'hela_shint3_dox_r2'\n",
       "\n",
       "\n"
      ],
      "text/plain": [
       "[1] \"rownames(d2)\"       \"hela_shgfp_dox_r1\"  \"hela_shgfp_dox_r2\" \n",
       "[4] \"hela_shint3_dox_r1\" \"hela_shint3_dox_r2\""
      ]
     },
     "metadata": {},
     "output_type": "display_data"
    },
    {
     "data": {
      "text/html": [
       "<style>\n",
       ".list-inline {list-style: none; margin:0; padding: 0}\n",
       ".list-inline>li {display: inline-block}\n",
       ".list-inline>li:not(:last-child)::after {content: \"\\00b7\"; padding: 0 .5ex}\n",
       "</style>\n",
       "<ol class=list-inline><li>'rownames(d2)'</li><li>'hela3_shgfp_dox_r1'</li><li>'hela3_shgfp_dox_r2'</li><li>'hela3_shints6_dox_r1'</li><li>'hela3_shints6_dox_r2'</li></ol>\n"
      ],
      "text/latex": [
       "\\begin{enumerate*}\n",
       "\\item 'rownames(d2)'\n",
       "\\item 'hela3\\_shgfp\\_dox\\_r1'\n",
       "\\item 'hela3\\_shgfp\\_dox\\_r2'\n",
       "\\item 'hela3\\_shints6\\_dox\\_r1'\n",
       "\\item 'hela3\\_shints6\\_dox\\_r2'\n",
       "\\end{enumerate*}\n"
      ],
      "text/markdown": [
       "1. 'rownames(d2)'\n",
       "2. 'hela3_shgfp_dox_r1'\n",
       "3. 'hela3_shgfp_dox_r2'\n",
       "4. 'hela3_shints6_dox_r1'\n",
       "5. 'hela3_shints6_dox_r2'\n",
       "\n",
       "\n"
      ],
      "text/plain": [
       "[1] \"rownames(d2)\"         \"hela3_shgfp_dox_r1\"   \"hela3_shgfp_dox_r2\"  \n",
       "[4] \"hela3_shints6_dox_r1\" \"hela3_shints6_dox_r2\""
      ]
     },
     "metadata": {},
     "output_type": "display_data"
    },
    {
     "data": {
      "text/html": [
       "<style>\n",
       ".list-inline {list-style: none; margin:0; padding: 0}\n",
       ".list-inline>li {display: inline-block}\n",
       ".list-inline>li:not(:last-child)::after {content: \"\\00b7\"; padding: 0 .5ex}\n",
       "</style>\n",
       "<ol class=list-inline><li>'rownames(d2)'</li><li>'hela_shgfp_dox_r1'</li><li>'hela_shgfp_dox_r2'</li><li>'hela_shint7_dox_r1'</li><li>'hela_shint7_dox_r2'</li></ol>\n"
      ],
      "text/latex": [
       "\\begin{enumerate*}\n",
       "\\item 'rownames(d2)'\n",
       "\\item 'hela\\_shgfp\\_dox\\_r1'\n",
       "\\item 'hela\\_shgfp\\_dox\\_r2'\n",
       "\\item 'hela\\_shint7\\_dox\\_r1'\n",
       "\\item 'hela\\_shint7\\_dox\\_r2'\n",
       "\\end{enumerate*}\n"
      ],
      "text/markdown": [
       "1. 'rownames(d2)'\n",
       "2. 'hela_shgfp_dox_r1'\n",
       "3. 'hela_shgfp_dox_r2'\n",
       "4. 'hela_shint7_dox_r1'\n",
       "5. 'hela_shint7_dox_r2'\n",
       "\n",
       "\n"
      ],
      "text/plain": [
       "[1] \"rownames(d2)\"       \"hela_shgfp_dox_r1\"  \"hela_shgfp_dox_r2\" \n",
       "[4] \"hela_shint7_dox_r1\" \"hela_shint7_dox_r2\""
      ]
     },
     "metadata": {},
     "output_type": "display_data"
    },
    {
     "data": {
      "text/html": [
       "<style>\n",
       ".list-inline {list-style: none; margin:0; padding: 0}\n",
       ".list-inline>li {display: inline-block}\n",
       ".list-inline>li:not(:last-child)::after {content: \"\\00b7\"; padding: 0 .5ex}\n",
       "</style>\n",
       "<ol class=list-inline><li>'rownames(d2)'</li><li>'hela_shgfp_dox_r1'</li><li>'hela_shgfp_dox_r2'</li><li>'hela_shints11_dox_r1'</li><li>'hela_shints11_dox_r2'</li></ol>\n"
      ],
      "text/latex": [
       "\\begin{enumerate*}\n",
       "\\item 'rownames(d2)'\n",
       "\\item 'hela\\_shgfp\\_dox\\_r1'\n",
       "\\item 'hela\\_shgfp\\_dox\\_r2'\n",
       "\\item 'hela\\_shints11\\_dox\\_r1'\n",
       "\\item 'hela\\_shints11\\_dox\\_r2'\n",
       "\\end{enumerate*}\n"
      ],
      "text/markdown": [
       "1. 'rownames(d2)'\n",
       "2. 'hela_shgfp_dox_r1'\n",
       "3. 'hela_shgfp_dox_r2'\n",
       "4. 'hela_shints11_dox_r1'\n",
       "5. 'hela_shints11_dox_r2'\n",
       "\n",
       "\n"
      ],
      "text/plain": [
       "[1] \"rownames(d2)\"         \"hela_shgfp_dox_r1\"    \"hela_shgfp_dox_r2\"   \n",
       "[4] \"hela_shints11_dox_r1\" \"hela_shints11_dox_r2\""
      ]
     },
     "metadata": {},
     "output_type": "display_data"
    },
    {
     "data": {
      "text/html": [
       "<style>\n",
       ".list-inline {list-style: none; margin:0; padding: 0}\n",
       ".list-inline>li {display: inline-block}\n",
       ".list-inline>li:not(:last-child)::after {content: \"\\00b7\"; padding: 0 .5ex}\n",
       "</style>\n",
       "<ol class=list-inline><li>'rownames(d2)'</li><li>'hela_siC_total_r1'</li><li>'hela_siC_total_r2'</li><li>'hela_siDrosha_total_r1'</li><li>'hela_siDrosha_totala_r2'</li></ol>\n"
      ],
      "text/latex": [
       "\\begin{enumerate*}\n",
       "\\item 'rownames(d2)'\n",
       "\\item 'hela\\_siC\\_total\\_r1'\n",
       "\\item 'hela\\_siC\\_total\\_r2'\n",
       "\\item 'hela\\_siDrosha\\_total\\_r1'\n",
       "\\item 'hela\\_siDrosha\\_totala\\_r2'\n",
       "\\end{enumerate*}\n"
      ],
      "text/markdown": [
       "1. 'rownames(d2)'\n",
       "2. 'hela_siC_total_r1'\n",
       "3. 'hela_siC_total_r2'\n",
       "4. 'hela_siDrosha_total_r1'\n",
       "5. 'hela_siDrosha_totala_r2'\n",
       "\n",
       "\n"
      ],
      "text/plain": [
       "[1] \"rownames(d2)\"            \"hela_siC_total_r1\"      \n",
       "[3] \"hela_siC_total_r2\"       \"hela_siDrosha_total_r1\" \n",
       "[5] \"hela_siDrosha_totala_r2\""
      ]
     },
     "metadata": {},
     "output_type": "display_data"
    }
   ],
   "source": [
    "subs_shINTS1 <- cbind.data.frame(rownames(d2), d2[,grep(\"shints1_|hela_shgfp\", colnames(d2))]) \n",
    "rownames(subs_shINTS1) <- seq(1:nrow(subs_shINTS1))\n",
    "colnames(subs_shINTS1)\n",
    "\n",
    "subs_shINTS3 <- cbind.data.frame(rownames(d2), d2[,grep(\"shint3|hela_shgfp\", colnames(d2))]) \n",
    "rownames(subs_shINTS3) <- seq(1:nrow(subs_shINTS3))\n",
    "colnames(subs_shINTS3)\n",
    "\n",
    "subs_shINTS6 <- cbind.data.frame(rownames(d2), d2[,grep(\"shints6|hela3_shgfp\", colnames(d2))]) \n",
    "rownames(subs_shINTS6) <- seq(1:nrow(subs_shINTS6))\n",
    "colnames(subs_shINTS6)\n",
    "\n",
    "subs_shINTS7 <- cbind.data.frame(rownames(d2), d2[,grep(\"shint7|hela_shgfp\", colnames(d2))]) \n",
    "rownames(subs_shINTS7) <- seq(1:nrow(subs_shINTS7))\n",
    "colnames(subs_shINTS7)\n",
    "\n",
    "subs_shINTS11 <- cbind.data.frame(rownames(d2), d2[,grep(\"shints11|hela_shgfp\", colnames(d2))]) \n",
    "rownames(subs_shINTS11) <- seq(1:nrow(subs_shINTS11))\n",
    "colnames(subs_shINTS11)\n",
    "\n",
    "\n",
    "#################################################################\n",
    "\n",
    "subs_siDrosha <- cbind.data.frame(rownames(d2), d2[,c(grep(\"si\", colnames(d2)))])\n",
    "rownames(subs_siDrosha) <- seq(1:nrow(subs_siDrosha))\n",
    "colnames(subs_siDrosha)"
   ]
  },
  {
   "cell_type": "code",
   "execution_count": 43,
   "metadata": {},
   "outputs": [
    {
     "data": {
      "text/html": [
       "<style>\n",
       ".list-inline {list-style: none; margin:0; padding: 0}\n",
       ".list-inline>li {display: inline-block}\n",
       ".list-inline>li:not(:last-child)::after {content: \"\\00b7\"; padding: 0 .5ex}\n",
       "</style>\n",
       "<ol class=list-inline><li>'subs_shINTS1'</li><li>'subs_shINTS11'</li><li>'subs_shINTS3'</li><li>'subs_shINTS6'</li><li>'subs_shINTS7'</li><li>'subs_siDrosha'</li></ol>\n"
      ],
      "text/latex": [
       "\\begin{enumerate*}\n",
       "\\item 'subs\\_shINTS1'\n",
       "\\item 'subs\\_shINTS11'\n",
       "\\item 'subs\\_shINTS3'\n",
       "\\item 'subs\\_shINTS6'\n",
       "\\item 'subs\\_shINTS7'\n",
       "\\item 'subs\\_siDrosha'\n",
       "\\end{enumerate*}\n"
      ],
      "text/markdown": [
       "1. 'subs_shINTS1'\n",
       "2. 'subs_shINTS11'\n",
       "3. 'subs_shINTS3'\n",
       "4. 'subs_shINTS6'\n",
       "5. 'subs_shINTS7'\n",
       "6. 'subs_siDrosha'\n",
       "\n",
       "\n"
      ],
      "text/plain": [
       "[1] \"subs_shINTS1\"  \"subs_shINTS11\" \"subs_shINTS3\"  \"subs_shINTS6\" \n",
       "[5] \"subs_shINTS7\"  \"subs_siDrosha\""
      ]
     },
     "metadata": {},
     "output_type": "display_data"
    }
   ],
   "source": [
    "s <- ls(pattern=\"subs\")#c(\"subs_shINTS1\", \"subs_shINTS3\", \"subs_shINTS4\", \"subs_shINTS6\",\"subs_shINTS7\", \"subs_shINTS9\", \"subs_shINTS11\", \"subs_shINTS11_set2\", \"subs_shINTS1_set2\")\n",
    "s"
   ]
  },
  {
   "cell_type": "code",
   "execution_count": 44,
   "metadata": {},
   "outputs": [
    {
     "data": {
      "text/html": [
       "<table>\n",
       "<caption>A data.frame: 4 × 2</caption>\n",
       "<thead>\n",
       "\t<tr><th></th><th scope=col>id</th><th scope=col>dex</th></tr>\n",
       "\t<tr><th></th><th scope=col>&lt;chr&gt;</th><th scope=col>&lt;chr&gt;</th></tr>\n",
       "</thead>\n",
       "<tbody>\n",
       "\t<tr><th scope=row>1</th><td>hela_shgfp_dox_r1   </td><td>control</td></tr>\n",
       "\t<tr><th scope=row>2</th><td>hela_shgfp_dox_r2   </td><td>control</td></tr>\n",
       "\t<tr><th scope=row>3</th><td>hela_shints11_dox_r1</td><td>treated</td></tr>\n",
       "\t<tr><th scope=row>4</th><td>hela_shints11_dox_r2</td><td>treated</td></tr>\n",
       "</tbody>\n",
       "</table>\n"
      ],
      "text/latex": [
       "A data.frame: 4 × 2\n",
       "\\begin{tabular}{r|ll}\n",
       "  & id & dex\\\\\n",
       "  & <chr> & <chr>\\\\\n",
       "\\hline\n",
       "\t1 & hela\\_shgfp\\_dox\\_r1    & control\\\\\n",
       "\t2 & hela\\_shgfp\\_dox\\_r2    & control\\\\\n",
       "\t3 & hela\\_shints11\\_dox\\_r1 & treated\\\\\n",
       "\t4 & hela\\_shints11\\_dox\\_r2 & treated\\\\\n",
       "\\end{tabular}\n"
      ],
      "text/markdown": [
       "\n",
       "A data.frame: 4 × 2\n",
       "\n",
       "| <!--/--> | id &lt;chr&gt; | dex &lt;chr&gt; |\n",
       "|---|---|---|\n",
       "| 1 | hela_shgfp_dox_r1    | control |\n",
       "| 2 | hela_shgfp_dox_r2    | control |\n",
       "| 3 | hela_shints11_dox_r1 | treated |\n",
       "| 4 | hela_shints11_dox_r2 | treated |\n",
       "\n"
      ],
      "text/plain": [
       "  id                   dex    \n",
       "1 hela_shgfp_dox_r1    control\n",
       "2 hela_shgfp_dox_r2    control\n",
       "3 hela_shints11_dox_r1 treated\n",
       "4 hela_shints11_dox_r2 treated"
      ]
     },
     "metadata": {},
     "output_type": "display_data"
    }
   ],
   "source": [
    "# create control vs treated table for deseq2\n",
    "for (z in 1:length(s)){\n",
    "    g <- get(s[z])\n",
    "    id <- colnames(g[,2:ncol(g)])\n",
    "    \n",
    "    m <- data.frame(matrix(ncol = 2, nrow = ncol(g[,2:ncol(g)])))\n",
    "    colnames(m) <- c(\"id\", \"dex\")\n",
    "    m$id <- id\n",
    "    \n",
    "    for(i in 1:nrow(m)){\n",
    "        if (grepl(\"shgfp|siC\", m$id[i])){\n",
    "            m$dex[i] <- \"control\"\n",
    "        } \n",
    "        else if (!(grepl(\"shgfp|siC\", m$id[i]))){\n",
    "            m$dex[i] <- \"treated\"\n",
    "        }\n",
    "    }\n",
    "    m <- m[!is.na(m$dex),]\n",
    "    nam <- paste(\"metadata_\", gsub(\"subs_\", \"\", s[z]), sep=\"\")\n",
    "    assign(nam,m)\n",
    "}\n",
    "\n",
    "\n",
    "metadata_shINTS11\n"
   ]
  },
  {
   "cell_type": "markdown",
   "metadata": {},
   "source": [
    "# create volcanos for all"
   ]
  },
  {
   "cell_type": "code",
   "execution_count": 45,
   "metadata": {},
   "outputs": [],
   "source": [
    "#dir.create(\"deseq2_figures\")\n",
    "target.dir <- \"results_primiR_volcano\""
   ]
  },
  {
   "cell_type": "code",
   "execution_count": 47,
   "metadata": {},
   "outputs": [
    {
     "data": {
      "text/html": [
       "<style>\n",
       ".list-inline {list-style: none; margin:0; padding: 0}\n",
       ".list-inline>li {display: inline-block}\n",
       ".list-inline>li:not(:last-child)::after {content: \"\\00b7\"; padding: 0 .5ex}\n",
       "</style>\n",
       "<ol class=list-inline><li>'subs_shINTS1'</li><li>'subs_shINTS11'</li><li>'subs_shINTS3'</li><li>'subs_shINTS6'</li><li>'subs_shINTS7'</li></ol>\n"
      ],
      "text/latex": [
       "\\begin{enumerate*}\n",
       "\\item 'subs\\_shINTS1'\n",
       "\\item 'subs\\_shINTS11'\n",
       "\\item 'subs\\_shINTS3'\n",
       "\\item 'subs\\_shINTS6'\n",
       "\\item 'subs\\_shINTS7'\n",
       "\\end{enumerate*}\n"
      ],
      "text/markdown": [
       "1. 'subs_shINTS1'\n",
       "2. 'subs_shINTS11'\n",
       "3. 'subs_shINTS3'\n",
       "4. 'subs_shINTS6'\n",
       "5. 'subs_shINTS7'\n",
       "\n",
       "\n"
      ],
      "text/plain": [
       "[1] \"subs_shINTS1\"  \"subs_shINTS11\" \"subs_shINTS3\"  \"subs_shINTS6\" \n",
       "[5] \"subs_shINTS7\" "
      ]
     },
     "metadata": {},
     "output_type": "display_data"
    }
   ],
   "source": [
    "myfiles <- ls(pattern=\"subs_\")\n",
    "myfiles <- myfiles[-grep(\"siDrosha\", myfiles)]\n",
    "myfiles"
   ]
  },
  {
   "cell_type": "code",
   "execution_count": 48,
   "metadata": {},
   "outputs": [
    {
     "data": {
      "text/html": [
       "<style>\n",
       ".list-inline {list-style: none; margin:0; padding: 0}\n",
       ".list-inline>li {display: inline-block}\n",
       ".list-inline>li:not(:last-child)::after {content: \"\\00b7\"; padding: 0 .5ex}\n",
       "</style>\n",
       "<ol class=list-inline><li>'shINTS1'</li><li>'shINTS11'</li><li>'shINTS3'</li><li>'shINTS6'</li><li>'shINTS7'</li></ol>\n"
      ],
      "text/latex": [
       "\\begin{enumerate*}\n",
       "\\item 'shINTS1'\n",
       "\\item 'shINTS11'\n",
       "\\item 'shINTS3'\n",
       "\\item 'shINTS6'\n",
       "\\item 'shINTS7'\n",
       "\\end{enumerate*}\n"
      ],
      "text/markdown": [
       "1. 'shINTS1'\n",
       "2. 'shINTS11'\n",
       "3. 'shINTS3'\n",
       "4. 'shINTS6'\n",
       "5. 'shINTS7'\n",
       "\n",
       "\n"
      ],
      "text/plain": [
       "[1] \"shINTS1\"  \"shINTS11\" \"shINTS3\"  \"shINTS6\"  \"shINTS7\" "
      ]
     },
     "metadata": {},
     "output_type": "display_data"
    }
   ],
   "source": [
    "# true names for samples\n",
    "true.names <- gsub(\"subs_\", \"\", myfiles)\n",
    "\n",
    "true.names"
   ]
  },
  {
   "cell_type": "code",
   "execution_count": 49,
   "metadata": {},
   "outputs": [
    {
     "name": "stdout",
     "output_type": "stream",
     "text": [
      "[1] 1\n"
     ]
    },
    {
     "name": "stderr",
     "output_type": "stream",
     "text": [
      "converting counts to integer mode\n",
      "\n",
      "Warning message in DESeqDataSet(se, design = design, ignoreRank):\n",
      "“some variables in design formula are characters, converting to factors”\n",
      "using pre-existing size factors\n",
      "\n",
      "estimating dispersions\n",
      "\n",
      "gene-wise dispersion estimates\n",
      "\n",
      "mean-dispersion relationship\n",
      "\n",
      "final dispersion estimates\n",
      "\n",
      "fitting model and testing\n",
      "\n"
     ]
    },
    {
     "name": "stdout",
     "output_type": "stream",
     "text": [
      "[1] 2\n"
     ]
    },
    {
     "name": "stderr",
     "output_type": "stream",
     "text": [
      "converting counts to integer mode\n",
      "\n",
      "Warning message in DESeqDataSet(se, design = design, ignoreRank):\n",
      "“some variables in design formula are characters, converting to factors”\n",
      "using pre-existing size factors\n",
      "\n",
      "estimating dispersions\n",
      "\n",
      "gene-wise dispersion estimates\n",
      "\n",
      "mean-dispersion relationship\n",
      "\n",
      "final dispersion estimates\n",
      "\n",
      "fitting model and testing\n",
      "\n"
     ]
    },
    {
     "name": "stdout",
     "output_type": "stream",
     "text": [
      "[1] 3\n"
     ]
    },
    {
     "name": "stderr",
     "output_type": "stream",
     "text": [
      "converting counts to integer mode\n",
      "\n",
      "Warning message in DESeqDataSet(se, design = design, ignoreRank):\n",
      "“some variables in design formula are characters, converting to factors”\n",
      "using pre-existing size factors\n",
      "\n",
      "estimating dispersions\n",
      "\n",
      "gene-wise dispersion estimates\n",
      "\n",
      "mean-dispersion relationship\n",
      "\n",
      "final dispersion estimates\n",
      "\n",
      "fitting model and testing\n",
      "\n"
     ]
    },
    {
     "data": {
      "image/png": "[encoded data removed]",
      "text/plain": [
       "Plot with title “pri-miRNA shINTS1”"
      ]
     },
     "metadata": {
      "image/png": {
       "height": 300,
       "width": 300
      },
      "text/plain": {
       "height": 300,
       "width": 300
      }
     },
     "output_type": "display_data"
    },
    {
     "name": "stdout",
     "output_type": "stream",
     "text": [
      "[1] 4\n"
     ]
    },
    {
     "name": "stderr",
     "output_type": "stream",
     "text": [
      "converting counts to integer mode\n",
      "\n",
      "Warning message in DESeqDataSet(se, design = design, ignoreRank):\n",
      "“some variables in design formula are characters, converting to factors”\n",
      "using pre-existing size factors\n",
      "\n",
      "estimating dispersions\n",
      "\n",
      "gene-wise dispersion estimates\n",
      "\n",
      "mean-dispersion relationship\n",
      "\n",
      "final dispersion estimates\n",
      "\n",
      "fitting model and testing\n",
      "\n"
     ]
    },
    {
     "data": {
      "image/png": "[encoded data removed]",
      "text/plain": [
       "Plot with title “pri-miRNA shINTS11”"
      ]
     },
     "metadata": {
      "image/png": {
       "height": 300,
       "width": 300
      },
      "text/plain": {
       "height": 300,
       "width": 300
      }
     },
     "output_type": "display_data"
    },
    {
     "name": "stdout",
     "output_type": "stream",
     "text": [
      "[1] 5\n"
     ]
    },
    {
     "name": "stderr",
     "output_type": "stream",
     "text": [
      "converting counts to integer mode\n",
      "\n",
      "Warning message in DESeqDataSet(se, design = design, ignoreRank):\n",
      "“some variables in design formula are characters, converting to factors”\n",
      "using pre-existing size factors\n",
      "\n",
      "estimating dispersions\n",
      "\n",
      "gene-wise dispersion estimates\n",
      "\n",
      "mean-dispersion relationship\n",
      "\n",
      "final dispersion estimates\n",
      "\n",
      "fitting model and testing\n",
      "\n"
     ]
    },
    {
     "data": {
      "image/png": "[encoded data removed]",
      "text/plain": [
       "Plot with title “pri-miRNA shINTS3”"
      ]
     },
     "metadata": {
      "image/png": {
       "height": 300,
       "width": 300
      },
      "text/plain": {
       "height": 300,
       "width": 300
      }
     },
     "output_type": "display_data"
    },
    {
     "data": {
      "image/png": "[encoded data removed]",
      "text/plain": [
       "Plot with title “pri-miRNA shINTS6”"
      ]
     },
     "metadata": {
      "image/png": {
       "height": 300,
       "width": 300
      },
      "text/plain": {
       "height": 300,
       "width": 300
      }
     },
     "output_type": "display_data"
    },
    {
     "data": {
      "image/png": "[encoded data removed]",
      "text/plain": [
       "Plot with title “pri-miRNA shINTS7”"
      ]
     },
     "metadata": {
      "image/png": {
       "height": 300,
       "width": 300
      },
      "text/plain": {
       "height": 300,
       "width": 300
      }
     },
     "output_type": "display_data"
    }
   ],
   "source": [
    "for (i in 1:length(myfiles)){\n",
    "    print(i)\n",
    "    #if (i==20) {\n",
    "    #    next # skips the comparison of shGFP to shGFP\n",
    "    #}\n",
    "    \n",
    "    \n",
    "    d3 <- DESeqDataSetFromMatrix(countData=get(myfiles[i]), \n",
    "                              colData=get(gsub(\"subs_\", \"metadata_\", myfiles[i])), \n",
    "                              design=~dex, tidy = TRUE)\n",
    "    sizeFactors(d3) <- c(1,1,1,1) # column 6: inputRead normalization\n",
    "\n",
    "    d3 <- DESeq(d3)\n",
    "    res_d2 <- results(d3) \n",
    "    \n",
    "    # to extract the baseMean counts per sample for corrlation later\n",
    "    nam <- gsub(\"subs_\", \"means_\", myfiles[i])\n",
    "    assign(nam,assays(d3)[[\"mu\"]])\n",
    "        \n",
    "\n",
    "options(repr.plot.width=5, repr.plot.height=5)\n",
    "#reset par\n",
    "par(mfrow=c(1,1))\n",
    "\n",
    "\n",
    "###png(paste0(target.dir, \"/volcanoplot_primir_\", myfiles[i], \".png\"), width=18, height=18, unit=\"cm\", res=600)\n",
    "#pdf(paste0(target.dir, \"/volcanoplot_primir_\", myfiles[i], \".pdf\"), width=5, height=5)\n",
    "par(mar=c(5.1, 5.1, 4.1, 2.1)) #order: bottom, left, top, and right. \n",
    "# Make a basic volcano plot\n",
    "with(res_d2, plot(log2FoldChange, -log10(padj), pch=20, main=paste0(\"pri-miRNA \", true.names[i]), xlim=c(-5,2.5), ylim=c(0,150), \n",
    "                     cex.axis =2, cex.lab=2, cex.main=2.5, \n",
    "                     xlab=bquote('log'[2]* '('*  .(true.names[i])*'/shControl)'),\n",
    "                     ylab=expression('-log'[10]*'(padj)')))\n",
    "\n",
    "# Add colored points: blue if padj<0.05, red if log2FC<0.58 and padj<0.05)\n",
    "with(subset(res_d2, padj<.01 ), points(log2FoldChange, -log10(padj), pch=20, col=\"blue\"))\n",
    "with(subset(res_d2, padj<.01 & abs(log2FoldChange)>log2(1.5)), points(log2FoldChange, -log10(padj), pch=20, col=\"red\"))\n",
    "abline(h=-log10(0.01), lty=2, lwd = 2, col= \"grey50\")\n",
    "abline(v=-log2(1.5), lty=2, lwd = 2, col= \"grey50\")\n",
    "abline(v=log2(1.5), lty=2, lwd = 2, col= \"grey50\")\n",
    "text(-4.8, 143, nrow(res_d2[which(res_d2$log2FoldChange < -log2(1.5) & res_d2$padj <.01),]), cex=2.2, col=\"grey50\")\n",
    "text(2.2,143, nrow(res_d2[which(res_d2$log2FoldChange > log2(1.5) & res_d2$padj <.01),]), cex=2.2, col=\"grey50\")\n",
    "\n",
    "#dev.off()\n",
    "\n",
    "    \n",
    "nam <- gsub(\"subs_\", \"results_\", myfiles[i])\n",
    "assign(nam, res_d2)\n",
    "    \n",
    "}"
   ]
  },
  {
   "cell_type": "markdown",
   "metadata": {},
   "source": [
    "## volcano siDrosha"
   ]
  },
  {
   "cell_type": "code",
   "execution_count": 50,
   "metadata": {},
   "outputs": [
    {
     "name": "stderr",
     "output_type": "stream",
     "text": [
      "converting counts to integer mode\n",
      "\n",
      "Warning message in DESeqDataSet(se, design = design, ignoreRank):\n",
      "“some variables in design formula are characters, converting to factors”\n",
      "using pre-existing size factors\n",
      "\n",
      "estimating dispersions\n",
      "\n",
      "gene-wise dispersion estimates\n",
      "\n",
      "mean-dispersion relationship\n",
      "\n",
      "final dispersion estimates\n",
      "\n",
      "fitting model and testing\n",
      "\n"
     ]
    },
    {
     "data": {
      "image/png": "[encoded data removed]",
      "text/plain": [
       "Plot with title “pri-miR siDrosha”"
      ]
     },
     "metadata": {
      "image/png": {
       "height": 300,
       "width": 300
      },
      "text/plain": {
       "height": 300,
       "width": 300
      }
     },
     "output_type": "display_data"
    }
   ],
   "source": [
    " d3 <- DESeqDataSetFromMatrix(countData=(subs_siDrosha), \n",
    "                              colData=(metadata_siDrosha), \n",
    "                              design=~dex, tidy = TRUE)\n",
    "    sizeFactors(d3) <- c(1,1,1,1) # column 6: inputRead normalization\n",
    "\n",
    "    d3 <- DESeq(d3)\n",
    "    res_d2 <- results(d3) \n",
    "    \n",
    "    # to extract the baseMean counts per sample for corrlation later\n",
    "    nam <- \"means_siDrosha\"\n",
    "    assign(nam,assays(d3)[[\"mu\"]])\n",
    "     \n",
    "\n",
    "options(repr.plot.width=5, repr.plot.height=5)\n",
    "#reset par\n",
    "par(mfrow=c(1,1))\n",
    "\n",
    "\n",
    "###png(paste0(target.dir, \"/volcanoplot_primir_subs_siDrosha.png\"), width=18, height=18, unit=\"cm\", res=600)\n",
    "#pdf(paste0(target.dir, \"/volcanoplot_primir_subs_siDrosha.pdf\"), width=5, height=5)\n",
    "par(mar=c(5.1, 5.1, 4.1, 2.1)) #order: bottom, left, top, and right. \n",
    "# Make a basic volcano plot\n",
    "with(res_d2, plot(log2FoldChange, -log10(padj), pch=20, main=\"pri-miR siDrosha\", xlim=c(-5,2.5), ylim=c(0,40), \n",
    "                     cex.axis =2, cex.lab=2, cex.main=2.5, \n",
    "                     xlab=bquote('log'[2]* '(siDrosha/siControl)'),\n",
    "                     ylab=expression('-log'[10]*'(padj)')))\n",
    "\n",
    "# Add colored points: blue if padj<0.05, red if log2FC<0.58 and padj<0.05)\n",
    "with(subset(res_d2, padj<.01 ), points(log2FoldChange, -log10(padj), pch=20, col=\"blue\"))\n",
    "with(subset(res_d2, padj<.01 & abs(log2FoldChange)>log2(1.5)), points(log2FoldChange, -log10(padj), pch=20, col=\"red\"))\n",
    "abline(h=-log10(0.01), lty=2, lwd = 2, col= \"grey50\")\n",
    "abline(v=-log2(1.5), lty=2, lwd = 2, col= \"grey50\")\n",
    "abline(v=log2(1.5), lty=2, lwd = 2, col= \"grey50\")\n",
    "text(-4.5, 38, nrow(res_d2[which(res_d2$log2FoldChange < -log2(1.5) & res_d2$padj <.01),]), cex=2.2, col=\"grey50\")\n",
    "text(2.2,38, nrow(res_d2[which(res_d2$log2FoldChange > log2(1.5) & res_d2$padj <.01),]), cex=2.2, col=\"grey50\")\n",
    "#with(drosha.indep, text(log2FoldChange ~ -log10(padj), labels = row.names(drosha.indep), pos = 4))\n",
    "\n",
    "#dev.off()\n",
    "\n",
    "nam <- \"results_siDrosha\"\n",
    "assign(nam, res_d2)\n"
   ]
  },
  {
   "cell_type": "markdown",
   "metadata": {},
   "source": [
    "# Boxplot of deseq2 result"
   ]
  },
  {
   "cell_type": "code",
   "execution_count": 53,
   "metadata": {},
   "outputs": [
    {
     "data": {
      "text/html": [
       "<style>\n",
       ".list-inline {list-style: none; margin:0; padding: 0}\n",
       ".list-inline>li {display: inline-block}\n",
       ".list-inline>li:not(:last-child)::after {content: \"\\00b7\"; padding: 0 .5ex}\n",
       "</style>\n",
       "<ol class=list-inline><li>'results_shINTS1'</li><li>'results_shINTS11'</li><li>'results_shINTS3'</li><li>'results_shINTS6'</li><li>'results_shINTS7'</li><li>'results_siDrosha'</li></ol>\n"
      ],
      "text/latex": [
       "\\begin{enumerate*}\n",
       "\\item 'results\\_shINTS1'\n",
       "\\item 'results\\_shINTS11'\n",
       "\\item 'results\\_shINTS3'\n",
       "\\item 'results\\_shINTS6'\n",
       "\\item 'results\\_shINTS7'\n",
       "\\item 'results\\_siDrosha'\n",
       "\\end{enumerate*}\n"
      ],
      "text/markdown": [
       "1. 'results_shINTS1'\n",
       "2. 'results_shINTS11'\n",
       "3. 'results_shINTS3'\n",
       "4. 'results_shINTS6'\n",
       "5. 'results_shINTS7'\n",
       "6. 'results_siDrosha'\n",
       "\n",
       "\n"
      ],
      "text/plain": [
       "[1] \"results_shINTS1\"  \"results_shINTS11\" \"results_shINTS3\"  \"results_shINTS6\" \n",
       "[5] \"results_shINTS7\"  \"results_siDrosha\""
      ]
     },
     "metadata": {},
     "output_type": "display_data"
    }
   ],
   "source": [
    "my_results <- ls(pattern=\"results_\")\n",
    "my_results"
   ]
  },
  {
   "cell_type": "markdown",
   "metadata": {},
   "source": [
    "## Boxplot final shINTS"
   ]
  },
  {
   "cell_type": "code",
   "execution_count": 60,
   "metadata": {},
   "outputs": [],
   "source": [
    "for (i in 1:length(my_results)){\n",
    "    \n",
    "    r <- get(my_results[i])\n",
    "    f <-  cbind.data.frame(r$log2FoldChange, gsub(\"results_\", \"\", my_results[i]))\n",
    "    colnames(f) <- c(\"log2FC\", \"item\")\n",
    "    \n",
    "    nam <- gsub(\"results_\", \"box_\", my_results[i])\n",
    "    assign(nam, f)\n",
    "    \n",
    "}"
   ]
  },
  {
   "cell_type": "code",
   "execution_count": 61,
   "metadata": {},
   "outputs": [
    {
     "data": {
      "text/html": [
       "<style>\n",
       ".list-inline {list-style: none; margin:0; padding: 0}\n",
       ".list-inline>li {display: inline-block}\n",
       ".list-inline>li:not(:last-child)::after {content: \"\\00b7\"; padding: 0 .5ex}\n",
       "</style>\n",
       "<ol class=list-inline><li>'box_shINTS1'</li><li>'box_shINTS11'</li><li>'box_shINTS3'</li><li>'box_shINTS6'</li><li>'box_shINTS7'</li><li>'box_siDrosha'</li></ol>\n"
      ],
      "text/latex": [
       "\\begin{enumerate*}\n",
       "\\item 'box\\_shINTS1'\n",
       "\\item 'box\\_shINTS11'\n",
       "\\item 'box\\_shINTS3'\n",
       "\\item 'box\\_shINTS6'\n",
       "\\item 'box\\_shINTS7'\n",
       "\\item 'box\\_siDrosha'\n",
       "\\end{enumerate*}\n"
      ],
      "text/markdown": [
       "1. 'box_shINTS1'\n",
       "2. 'box_shINTS11'\n",
       "3. 'box_shINTS3'\n",
       "4. 'box_shINTS6'\n",
       "5. 'box_shINTS7'\n",
       "6. 'box_siDrosha'\n",
       "\n",
       "\n"
      ],
      "text/plain": [
       "[1] \"box_shINTS1\"  \"box_shINTS11\" \"box_shINTS3\"  \"box_shINTS6\"  \"box_shINTS7\" \n",
       "[6] \"box_siDrosha\""
      ]
     },
     "metadata": {},
     "output_type": "display_data"
    },
    {
     "data": {
      "text/html": [
       "<style>\n",
       ".list-inline {list-style: none; margin:0; padding: 0}\n",
       ".list-inline>li {display: inline-block}\n",
       ".list-inline>li:not(:last-child)::after {content: \"\\00b7\"; padding: 0 .5ex}\n",
       "</style>\n",
       "<ol class=list-inline><li>'box_shINTS1'</li><li>'box_shINTS3'</li><li>'box_shINTS6'</li><li>'box_shINTS7'</li><li>'box_shINTS11'</li><li>'box_siDrosha'</li></ol>\n"
      ],
      "text/latex": [
       "\\begin{enumerate*}\n",
       "\\item 'box\\_shINTS1'\n",
       "\\item 'box\\_shINTS3'\n",
       "\\item 'box\\_shINTS6'\n",
       "\\item 'box\\_shINTS7'\n",
       "\\item 'box\\_shINTS11'\n",
       "\\item 'box\\_siDrosha'\n",
       "\\end{enumerate*}\n"
      ],
      "text/markdown": [
       "1. 'box_shINTS1'\n",
       "2. 'box_shINTS3'\n",
       "3. 'box_shINTS6'\n",
       "4. 'box_shINTS7'\n",
       "5. 'box_shINTS11'\n",
       "6. 'box_siDrosha'\n",
       "\n",
       "\n"
      ],
      "text/plain": [
       "[1] \"box_shINTS1\"  \"box_shINTS3\"  \"box_shINTS6\"  \"box_shINTS7\"  \"box_shINTS11\"\n",
       "[6] \"box_siDrosha\""
      ]
     },
     "metadata": {},
     "output_type": "display_data"
    }
   ],
   "source": [
    "ls(pattern=\"box_\")\n",
    "\n",
    "my_box <- c(\"box_shINTS1\",\"box_shINTS3\", \"box_shINTS6\",\"box_shINTS7\", \"box_shINTS11\", \n",
    "           \"box_siDrosha\")\n",
    "my_box\n",
    "\n"
   ]
  },
  {
   "cell_type": "code",
   "execution_count": 62,
   "metadata": {},
   "outputs": [
    {
     "data": {
      "text/html": [
       "<table>\n",
       "<caption>A data.frame: 6 × 2</caption>\n",
       "<thead>\n",
       "\t<tr><th></th><th scope=col>log2FC</th><th scope=col>item</th></tr>\n",
       "\t<tr><th></th><th scope=col>&lt;dbl&gt;</th><th scope=col>&lt;chr&gt;</th></tr>\n",
       "</thead>\n",
       "<tbody>\n",
       "\t<tr><th scope=row>2</th><td> 1.5401087</td><td>shINTS1</td></tr>\n",
       "\t<tr><th scope=row>3</th><td>-1.0419301</td><td>shINTS1</td></tr>\n",
       "\t<tr><th scope=row>4</th><td> 1.4912427</td><td>shINTS1</td></tr>\n",
       "\t<tr><th scope=row>5</th><td>-0.5199337</td><td>shINTS1</td></tr>\n",
       "\t<tr><th scope=row>6</th><td> 1.7293069</td><td>shINTS1</td></tr>\n",
       "\t<tr><th scope=row>7</th><td> 0.2779379</td><td>shINTS1</td></tr>\n",
       "</tbody>\n",
       "</table>\n"
      ],
      "text/latex": [
       "A data.frame: 6 × 2\n",
       "\\begin{tabular}{r|ll}\n",
       "  & log2FC & item\\\\\n",
       "  & <dbl> & <chr>\\\\\n",
       "\\hline\n",
       "\t2 &  1.5401087 & shINTS1\\\\\n",
       "\t3 & -1.0419301 & shINTS1\\\\\n",
       "\t4 &  1.4912427 & shINTS1\\\\\n",
       "\t5 & -0.5199337 & shINTS1\\\\\n",
       "\t6 &  1.7293069 & shINTS1\\\\\n",
       "\t7 &  0.2779379 & shINTS1\\\\\n",
       "\\end{tabular}\n"
      ],
      "text/markdown": [
       "\n",
       "A data.frame: 6 × 2\n",
       "\n",
       "| <!--/--> | log2FC &lt;dbl&gt; | item &lt;chr&gt; |\n",
       "|---|---|---|\n",
       "| 2 |  1.5401087 | shINTS1 |\n",
       "| 3 | -1.0419301 | shINTS1 |\n",
       "| 4 |  1.4912427 | shINTS1 |\n",
       "| 5 | -0.5199337 | shINTS1 |\n",
       "| 6 |  1.7293069 | shINTS1 |\n",
       "| 7 |  0.2779379 | shINTS1 |\n",
       "\n"
      ],
      "text/plain": [
       "  log2FC     item   \n",
       "2  1.5401087 shINTS1\n",
       "3 -1.0419301 shINTS1\n",
       "4  1.4912427 shINTS1\n",
       "5 -0.5199337 shINTS1\n",
       "6  1.7293069 shINTS1\n",
       "7  0.2779379 shINTS1"
      ]
     },
     "metadata": {},
     "output_type": "display_data"
    },
    {
     "data": {
      "text/html": [
       "<style>\n",
       ".list-inline {list-style: none; margin:0; padding: 0}\n",
       ".list-inline>li {display: inline-block}\n",
       ".list-inline>li:not(:last-child)::after {content: \"\\00b7\"; padding: 0 .5ex}\n",
       "</style>\n",
       "<ol class=list-inline><li>'shINTS1'</li><li>'shINTS3'</li><li>'shINTS6'</li><li>'shINTS7'</li><li>'shINTS11'</li><li>'siDrosha'</li></ol>\n"
      ],
      "text/latex": [
       "\\begin{enumerate*}\n",
       "\\item 'shINTS1'\n",
       "\\item 'shINTS3'\n",
       "\\item 'shINTS6'\n",
       "\\item 'shINTS7'\n",
       "\\item 'shINTS11'\n",
       "\\item 'siDrosha'\n",
       "\\end{enumerate*}\n"
      ],
      "text/markdown": [
       "1. 'shINTS1'\n",
       "2. 'shINTS3'\n",
       "3. 'shINTS6'\n",
       "4. 'shINTS7'\n",
       "5. 'shINTS11'\n",
       "6. 'siDrosha'\n",
       "\n",
       "\n"
      ],
      "text/plain": [
       "[1] \"shINTS1\"  \"shINTS3\"  \"shINTS6\"  \"shINTS7\"  \"shINTS11\" \"siDrosha\""
      ]
     },
     "metadata": {},
     "output_type": "display_data"
    }
   ],
   "source": [
    "final <- data.frame(matrix(ncol = 2, nrow = 1))\n",
    "colnames(final) <- c(\"log2FC\", \"item\")\n",
    "\n",
    "for (i in 1:length(my_box)){\n",
    "    final <- rbind(final, get(my_box[i]))\n",
    "}\n",
    "\n",
    "final <- final[-1,]\n",
    "\n",
    "head(final)\n",
    "\n",
    "((unique(final$item)))"
   ]
  },
  {
   "cell_type": "code",
   "execution_count": 63,
   "metadata": {},
   "outputs": [
    {
     "name": "stderr",
     "output_type": "stream",
     "text": [
      "Warning message:\n",
      "“Removed 11 rows containing non-finite values (stat_ydensity).”\n",
      "Warning message:\n",
      "“Removed 11 rows containing non-finite values (stat_boxplot).”\n"
     ]
    },
    {
     "data": {
      "image/png": "[encoded data removed]",
      "text/plain": [
       "plot without title"
      ]
     },
     "metadata": {
      "image/png": {
       "height": 420,
       "width": 900
      },
      "text/plain": {
       "height": 420,
       "width": 900
      }
     },
     "output_type": "display_data"
    }
   ],
   "source": [
    "options(repr.plot.width=15, repr.plot.height=7)\n",
    "\n",
    "INTScolors <- c(col_sh1, col_sh3, col_sh6, col_sh7, col_sh11, col_drosha)\n",
    "\n",
    "\n",
    "ggplot(data = final, aes(x = item, y = log2FC, fill=item)) +\n",
    "        theme_bw(base_size = 26) +\n",
    "        #ggtitle(\"112 pri-miRNAs; log2FC all samples\") +\n",
    "        #theme(plot.title = element_text(hjust = 0.5)) +\n",
    "        theme(panel.grid.major = element_blank(), panel.grid.minor = element_blank(),\n",
    "              panel.background = element_blank(), panel.border = element_blank()) +\n",
    "        theme(axis.line = element_line(colour = \"black\", size = 0.5), \n",
    "              axis.title.x = element_text()) +\n",
    "        theme(legend.position=\"none\", axis.title.x=element_blank(), text = element_text(), \n",
    "              axis.text.x = element_text(angle = 15, hjust = 0.8)) +\n",
    "        scale_y_continuous(name=bquote('log'[2]* ' knock-down/control'), breaks =seq(from =-4, to=4,by=1)) +\n",
    "        coord_cartesian(ylim=c(-4,4))+\n",
    "        geom_violin(alpha=0.2) +\n",
    "        geom_boxplot(width = 0.2, fill =INTScolors, outlier.color=NA) +\n",
    "        #geom_dotplot(binaxis=\"y\", stackdir = \"center\", binwidth = .09) +\n",
    "        geom_hline(yintercept=range(log2(1.5), -log2(1.5)), color='grey30', size=0.5, lty=2) +\n",
    "        #stat_summary(fun.y=mean, geom=\"point\", size = 3, color=\"black\") +\n",
    "        scale_x_discrete(limits=c(unique(final$item))) +\n",
    "        scale_fill_manual(values=INTScolors, limits=c(unique(final$item)))\n",
    "       # scale_fill_manual(values=getPalette(colourCount),limits=c(unique(final$item))) # limits orders colors as wanted!!! very useful!\n",
    "#ggsave(paste0(target.dir, \"/boxplot_deseq2_primir_Fig2_INTS_Drosha.pdf\"),  width=9.6, height=5)\n"
   ]
  }
 ],
 "metadata": {
  "kernelspec": {
   "display_name": "R",
   "language": "R",
   "name": "ir"
  },
  "language_info": {
   "codemirror_mode": "r",
   "file_extension": ".r",
   "mimetype": "text/x-r-source",
   "name": "R",
   "pygments_lexer": "r",
   "version": "3.6.1"
  }
 },
 "nbformat": 4,
 "nbformat_minor": 4
}
