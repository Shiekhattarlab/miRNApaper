{
 "cells": [
  {
   "cell_type": "markdown",
   "metadata": {},
   "source": [
    "# Calculate biogenesis and accumulation rates"
   ]
  },
  {
   "cell_type": "code",
   "execution_count": 1,
   "metadata": {},
   "outputs": [],
   "source": [
    "#install.packages(\"scales\")"
   ]
  },
  {
   "cell_type": "code",
   "execution_count": 2,
   "metadata": {},
   "outputs": [
    {
     "name": "stderr",
     "output_type": "stream",
     "text": [
      "Loading required package: pacman\n",
      "\n",
      "\n",
      "Version of rlang (v. 0.4.7) is suitable\n",
      "\n",
      "\n",
      "Version of tidyverse (v. 1.3.0) is suitable\n",
      "\n",
      "\n",
      "Version of cowplot (v. 1.0.0) is suitable\n",
      "\n",
      "\n",
      "Version of Biostrings (v. 2.54.0) is suitable\n",
      "\n",
      "\n",
      "Version of Rsamtools (v. 2.2.3) is suitable\n",
      "\n",
      "\n",
      "Version of BiocParallel (v. 1.20.1) is suitable\n",
      "\n",
      "\n",
      "Version of jsonlite (v. 1.6.1) is suitable\n",
      "\n",
      "Loading required package: chromstaRData\n",
      "\n",
      "\n",
      "Please visit https://github.com/ataudt/chromstaR for the latest bugfixes and features.\n",
      "\n",
      "\n",
      "Loading required package: GenomicAlignments\n",
      "\n",
      "Loading required package: SummarizedExperiment\n",
      "\n",
      "Loading required package: Biobase\n",
      "\n",
      "Welcome to Bioconductor\n",
      "\n",
      "    Vignettes contain introductory material; view with\n",
      "    'browseVignettes()'. To cite Bioconductor, see\n",
      "    'citation(\"Biobase\")', and for packages 'citation(\"pkgname\")'.\n",
      "\n",
      "\n",
      "\n",
      "Attaching package: ‘Biobase’\n",
      "\n",
      "\n",
      "The following object is masked from ‘package:rlang’:\n",
      "\n",
      "    exprs\n",
      "\n",
      "\n",
      "Loading required package: DelayedArray\n",
      "\n",
      "Loading required package: matrixStats\n",
      "\n",
      "\n",
      "Attaching package: ‘matrixStats’\n",
      "\n",
      "\n",
      "The following objects are masked from ‘package:Biobase’:\n",
      "\n",
      "    anyMissing, rowMedians\n",
      "\n",
      "\n",
      "The following object is masked from ‘package:dplyr’:\n",
      "\n",
      "    count\n",
      "\n",
      "\n",
      "\n",
      "Attaching package: ‘DelayedArray’\n",
      "\n",
      "\n",
      "The following objects are masked from ‘package:matrixStats’:\n",
      "\n",
      "    colMaxs, colMins, colRanges, rowMaxs, rowMins, rowRanges\n",
      "\n",
      "\n",
      "The following object is masked from ‘package:purrr’:\n",
      "\n",
      "    simplify\n",
      "\n",
      "\n",
      "The following objects are masked from ‘package:base’:\n",
      "\n",
      "    aperm, apply, rowsum\n",
      "\n",
      "\n",
      "\n",
      "Attaching package: ‘GenomicAlignments’\n",
      "\n",
      "\n",
      "The following object is masked from ‘package:dplyr’:\n",
      "\n",
      "    last\n",
      "\n",
      "\n",
      "\n",
      "Attaching package: ‘ShortRead’\n",
      "\n",
      "\n",
      "The following object is masked from ‘package:dplyr’:\n",
      "\n",
      "    id\n",
      "\n",
      "\n",
      "The following object is masked from ‘package:purrr’:\n",
      "\n",
      "    compose\n",
      "\n",
      "\n",
      "The following object is masked from ‘package:tibble’:\n",
      "\n",
      "    view\n",
      "\n",
      "\n",
      "\n",
      "Attaching package: ‘gplots’\n",
      "\n",
      "\n",
      "The following object is masked from ‘package:rtracklayer’:\n",
      "\n",
      "    space\n",
      "\n",
      "\n",
      "The following object is masked from ‘package:IRanges’:\n",
      "\n",
      "    space\n",
      "\n",
      "\n",
      "The following object is masked from ‘package:S4Vectors’:\n",
      "\n",
      "    space\n",
      "\n",
      "\n",
      "The following object is masked from ‘package:stats’:\n",
      "\n",
      "    lowess\n",
      "\n",
      "\n",
      "\n",
      "Attaching package: ‘scales’\n",
      "\n",
      "\n",
      "The following object is masked from ‘package:purrr’:\n",
      "\n",
      "    discard\n",
      "\n",
      "\n",
      "The following object is masked from ‘package:readr’:\n",
      "\n",
      "    col_factor\n",
      "\n",
      "\n"
     ]
    }
   ],
   "source": [
    "\n",
    "\n",
    "if(!require(\"pacman\")) {\n",
    "    install.packages(\"pacman\", dependencies = TRUE,\n",
    "                     repos = \"http://cloud.r-project.org/\")\n",
    "  }\n",
    "\n",
    "  p_load(rlang)\n",
    "\n",
    "\n",
    "  p_install_version(\n",
    "    c(\"rlang\", \"tidyverse\", \"cowplot\", \"Biostrings\", \"Rsamtools\",\n",
    "      \"BiocParallel\", \"jsonlite\"),\n",
    "    c(\"0.2.1\", \"1.2.1\", \"0.9.2\", \"2.44.2\", \"1.28.0\", \"1.10.1\", \"1.5\")\n",
    "  )\n",
    "\n",
    "  # Load Tidyverse as late as possible to overload `filter`, `select` and `rename` functions\n",
    "  pacman::p_load(Biostrings, Rsamtools, BiocParallel, rlang,\n",
    "                 tidyverse, cowplot, jsonlite)\n",
    "\n",
    "\n",
    "\n",
    "library(tidyverse)\n",
    "library(dplyr)\n",
    "library(Rsamtools)\n",
    "library('IRanges')\n",
    "library('chromstaR')\n",
    "library(ShortRead)\n",
    "library(rtracklayer)\n",
    "library('GenomicAlignments')\n",
    "\n",
    "\n",
    "library(broom)\n",
    "library(minpack.lm)\n",
    "library(nlsr)\n",
    "library(gplots)\n",
    "library(ggplot2)\n",
    "library(gplots)\n",
    "library(cowplot)\n",
    "library(scales)"
   ]
  },
  {
   "cell_type": "code",
   "execution_count": 3,
   "metadata": {},
   "outputs": [],
   "source": [
    "options(stringsAsFactors = FALSE)\n",
    "rm(list = ls())"
   ]
  },
  {
   "cell_type": "code",
   "execution_count": 4,
   "metadata": {},
   "outputs": [],
   "source": [
    "col_shgfp <- \"gray30\"\n",
    "col_sh6 <- '#FDAE61'\n",
    "col_sh11 <- '#3288BD'"
   ]
  },
  {
   "cell_type": "markdown",
   "metadata": {},
   "source": [
    "# read files in"
   ]
  },
  {
   "cell_type": "code",
   "execution_count": 3,
   "metadata": {},
   "outputs": [],
   "source": [
    "# files deposited in GEO: accession number GSE178127\n",
    "fits.gfp <- read.delim(\"/timecourse_merge_gfp_for_heatmap_accumulation_plot.tsv\")\n",
    "fits.6 <- read.delim(\"/timecourse_mergeRepl_sh6_for_heatmap_accumulation_plot.tsv\")\n",
    "fits.11 <- read.delim(\"/timecourse_sh11_for_heatmap_accumulation_plot.tsv\")"
   ]
  },
  {
   "cell_type": "code",
   "execution_count": 10,
   "metadata": {},
   "outputs": [
    {
     "name": "stderr",
     "output_type": "stream",
     "text": [
      "Warning message in file(file, \"rt\"):\n",
      "“cannot open file '32_miRNA_couples_toAnalyze.txt': No such file or directory”\n"
     ]
    },
    {
     "ename": "ERROR",
     "evalue": "Error in file(file, \"rt\"): cannot open the connection\n",
     "output_type": "error",
     "traceback": [
      "Error in file(file, \"rt\"): cannot open the connection\nTraceback:\n",
      "1. read.delim(\"32_miRNA_couples_toAnalyze.txt\", header = F)",
      "2. read.table(file = file, header = header, sep = sep, quote = quote, \n .     dec = dec, fill = fill, comment.char = comment.char, ...)",
      "3. file(file, \"rt\")"
     ]
    }
   ],
   "source": [
    "# only look at the 64 mature and star mirs:\n",
    "# provided in github Shiekhattarlab/miRNApaper/s4U_figures/32_miRNA_couples_toAnalyze.txt\n",
    "mi <- read.delim(\"32_miRNA_couples_toAnalyze.txt\", header=F)\n",
    "colnames(mi) <- c(\"arm.name\", \"mir.type\")\n",
    "\n",
    "mi$mir.type <- gsub(\"star\", \"passenger\", mi$mir.type)\n",
    "mi$mir.type <- gsub(\"mature\", \"guide\", mi$mir.type)\n",
    "head(mi)"
   ]
  },
  {
   "cell_type": "code",
   "execution_count": 14,
   "metadata": {},
   "outputs": [],
   "source": [
    "set.seed(100)"
   ]
  },
  {
   "cell_type": "code",
   "execution_count": 18,
   "metadata": {},
   "outputs": [
    {
     "data": {
      "text/html": [
       "<table>\n",
       "<caption>A data.frame: 3 × 12</caption>\n",
       "<thead>\n",
       "\t<tr><th></th><th scope=col>flybase_id</th><th scope=col>duplex</th><th scope=col>arm.name</th><th scope=col>start.pos</th><th scope=col>mir.type</th><th scope=col>UCount</th><th scope=col>seed</th><th scope=col>time</th><th scope=col>totalReads</th><th scope=col>average.ppm</th><th scope=col>avg.tc.pct</th><th scope=col>avg.tc.ppm</th></tr>\n",
       "\t<tr><th></th><th scope=col>&lt;chr&gt;</th><th scope=col>&lt;chr&gt;</th><th scope=col>&lt;chr&gt;</th><th scope=col>&lt;int&gt;</th><th scope=col>&lt;chr&gt;</th><th scope=col>&lt;int&gt;</th><th scope=col>&lt;chr&gt;</th><th scope=col>&lt;dbl&gt;</th><th scope=col>&lt;dbl&gt;</th><th scope=col>&lt;dbl&gt;</th><th scope=col>&lt;dbl&gt;</th><th scope=col>&lt;dbl&gt;</th></tr>\n",
       "</thead>\n",
       "<tbody>\n",
       "\t<tr><th scope=row>1</th><td>chr7:99691162-99691266</td><td>miR-25</td><td>miR-25-3p</td><td>52</td><td>mature</td><td>7</td><td>CATTGCAC</td><td>0.00</td><td>1124.631</td><td>1195.731</td><td>0.04020073</td><td>0.4806925</td></tr>\n",
       "\t<tr><th scope=row>2</th><td>chr7:99691162-99691266</td><td>miR-25</td><td>miR-25-3p</td><td>52</td><td>mature</td><td>7</td><td>CATTGCAC</td><td>0.25</td><td>1068.352</td><td>1195.731</td><td>0.04904787</td><td>0.5864804</td></tr>\n",
       "\t<tr><th scope=row>3</th><td>chr7:99691162-99691266</td><td>miR-25</td><td>miR-25-3p</td><td>52</td><td>mature</td><td>7</td><td>CATTGCAC</td><td>0.50</td><td>1164.058</td><td>1195.731</td><td>0.04634413</td><td>0.5541510</td></tr>\n",
       "</tbody>\n",
       "</table>\n"
      ],
      "text/latex": [
       "A data.frame: 3 × 12\n",
       "\\begin{tabular}{r|llllllllllll}\n",
       "  & flybase\\_id & duplex & arm.name & start.pos & mir.type & UCount & seed & time & totalReads & average.ppm & avg.tc.pct & avg.tc.ppm\\\\\n",
       "  & <chr> & <chr> & <chr> & <int> & <chr> & <int> & <chr> & <dbl> & <dbl> & <dbl> & <dbl> & <dbl>\\\\\n",
       "\\hline\n",
       "\t1 & chr7:99691162-99691266 & miR-25 & miR-25-3p & 52 & mature & 7 & CATTGCAC & 0.00 & 1124.631 & 1195.731 & 0.04020073 & 0.4806925\\\\\n",
       "\t2 & chr7:99691162-99691266 & miR-25 & miR-25-3p & 52 & mature & 7 & CATTGCAC & 0.25 & 1068.352 & 1195.731 & 0.04904787 & 0.5864804\\\\\n",
       "\t3 & chr7:99691162-99691266 & miR-25 & miR-25-3p & 52 & mature & 7 & CATTGCAC & 0.50 & 1164.058 & 1195.731 & 0.04634413 & 0.5541510\\\\\n",
       "\\end{tabular}\n"
      ],
      "text/markdown": [
       "\n",
       "A data.frame: 3 × 12\n",
       "\n",
       "| <!--/--> | flybase_id &lt;chr&gt; | duplex &lt;chr&gt; | arm.name &lt;chr&gt; | start.pos &lt;int&gt; | mir.type &lt;chr&gt; | UCount &lt;int&gt; | seed &lt;chr&gt; | time &lt;dbl&gt; | totalReads &lt;dbl&gt; | average.ppm &lt;dbl&gt; | avg.tc.pct &lt;dbl&gt; | avg.tc.ppm &lt;dbl&gt; |\n",
       "|---|---|---|---|---|---|---|---|---|---|---|---|---|\n",
       "| 1 | chr7:99691162-99691266 | miR-25 | miR-25-3p | 52 | mature | 7 | CATTGCAC | 0.00 | 1124.631 | 1195.731 | 0.04020073 | 0.4806925 |\n",
       "| 2 | chr7:99691162-99691266 | miR-25 | miR-25-3p | 52 | mature | 7 | CATTGCAC | 0.25 | 1068.352 | 1195.731 | 0.04904787 | 0.5864804 |\n",
       "| 3 | chr7:99691162-99691266 | miR-25 | miR-25-3p | 52 | mature | 7 | CATTGCAC | 0.50 | 1164.058 | 1195.731 | 0.04634413 | 0.5541510 |\n",
       "\n"
      ],
      "text/plain": [
       "  flybase_id             duplex arm.name  start.pos mir.type UCount seed    \n",
       "1 chr7:99691162-99691266 miR-25 miR-25-3p 52        mature   7      CATTGCAC\n",
       "2 chr7:99691162-99691266 miR-25 miR-25-3p 52        mature   7      CATTGCAC\n",
       "3 chr7:99691162-99691266 miR-25 miR-25-3p 52        mature   7      CATTGCAC\n",
       "  time totalReads average.ppm avg.tc.pct avg.tc.ppm\n",
       "1 0.00 1124.631   1195.731    0.04020073 0.4806925 \n",
       "2 0.25 1068.352   1195.731    0.04904787 0.5864804 \n",
       "3 0.50 1164.058   1195.731    0.04634413 0.5541510 "
      ]
     },
     "metadata": {},
     "output_type": "display_data"
    },
    {
     "data": {
      "text/html": [
       "<table>\n",
       "<caption>A data.frame: 6 × 4</caption>\n",
       "<thead>\n",
       "\t<tr><th></th><th scope=col>arm.name</th><th scope=col>time</th><th scope=col>avg.tc.ppm</th><th scope=col>mir.type</th></tr>\n",
       "\t<tr><th></th><th scope=col>&lt;chr&gt;</th><th scope=col>&lt;dbl&gt;</th><th scope=col>&lt;dbl&gt;</th><th scope=col>&lt;chr&gt;</th></tr>\n",
       "</thead>\n",
       "<tbody>\n",
       "\t<tr><th scope=row>1</th><td>miR-25-3p</td><td>0</td><td>0.4806925</td><td>guide</td></tr>\n",
       "\t<tr><th scope=row>2</th><td>miR-25-3p</td><td>0</td><td>0.4806925</td><td>guide</td></tr>\n",
       "\t<tr><th scope=row>3</th><td>miR-25-3p</td><td>0</td><td>0.4806925</td><td>guide</td></tr>\n",
       "\t<tr><th scope=row>4</th><td>miR-25-3p</td><td>0</td><td>0.4806925</td><td>guide</td></tr>\n",
       "\t<tr><th scope=row>5</th><td>miR-25-3p</td><td>0</td><td>0.4806925</td><td>guide</td></tr>\n",
       "\t<tr><th scope=row>6</th><td>miR-25-3p</td><td>0</td><td>0.4806925</td><td>guide</td></tr>\n",
       "</tbody>\n",
       "</table>\n"
      ],
      "text/latex": [
       "A data.frame: 6 × 4\n",
       "\\begin{tabular}{r|llll}\n",
       "  & arm.name & time & avg.tc.ppm & mir.type\\\\\n",
       "  & <chr> & <dbl> & <dbl> & <chr>\\\\\n",
       "\\hline\n",
       "\t1 & miR-25-3p & 0 & 0.4806925 & guide\\\\\n",
       "\t2 & miR-25-3p & 0 & 0.4806925 & guide\\\\\n",
       "\t3 & miR-25-3p & 0 & 0.4806925 & guide\\\\\n",
       "\t4 & miR-25-3p & 0 & 0.4806925 & guide\\\\\n",
       "\t5 & miR-25-3p & 0 & 0.4806925 & guide\\\\\n",
       "\t6 & miR-25-3p & 0 & 0.4806925 & guide\\\\\n",
       "\\end{tabular}\n"
      ],
      "text/markdown": [
       "\n",
       "A data.frame: 6 × 4\n",
       "\n",
       "| <!--/--> | arm.name &lt;chr&gt; | time &lt;dbl&gt; | avg.tc.ppm &lt;dbl&gt; | mir.type &lt;chr&gt; |\n",
       "|---|---|---|---|---|\n",
       "| 1 | miR-25-3p | 0 | 0.4806925 | guide |\n",
       "| 2 | miR-25-3p | 0 | 0.4806925 | guide |\n",
       "| 3 | miR-25-3p | 0 | 0.4806925 | guide |\n",
       "| 4 | miR-25-3p | 0 | 0.4806925 | guide |\n",
       "| 5 | miR-25-3p | 0 | 0.4806925 | guide |\n",
       "| 6 | miR-25-3p | 0 | 0.4806925 | guide |\n",
       "\n"
      ],
      "text/plain": [
       "  arm.name  time avg.tc.ppm mir.type\n",
       "1 miR-25-3p 0    0.4806925  guide   \n",
       "2 miR-25-3p 0    0.4806925  guide   \n",
       "3 miR-25-3p 0    0.4806925  guide   \n",
       "4 miR-25-3p 0    0.4806925  guide   \n",
       "5 miR-25-3p 0    0.4806925  guide   \n",
       "6 miR-25-3p 0    0.4806925  guide   "
      ]
     },
     "metadata": {},
     "output_type": "display_data"
    }
   ],
   "source": [
    "head(fits.gfp, n=3)\n",
    "\n",
    "fits.gfp <- fits.gfp %>%\n",
    "    select(-c(mir.type,flybase_id, start.pos, average.ppm, seed, UCount, totalReads, duplex,  \n",
    "            avg.tc.pct, )) %>% # remove Reichholf calc and all the stuff I don't care about\n",
    "    left_join(m, by=\"arm.name\") %>%\n",
    "    filter(!is.na(mir.type))\n",
    "\n",
    "fits.6 <- fits.6 %>%\n",
    "    select(-c(mir.type,flybase_id, start.pos, average.ppm, seed, UCount, totalReads, duplex, \n",
    "            avg.tc.pct)) %>% # remove Reichholf calc and all the stuff I don't care about\n",
    "    left_join(m, by=\"arm.name\") %>%\n",
    "    filter(!is.na(mir.type))\n",
    "\n",
    "\n",
    "fits.11 <- fits.11 %>%\n",
    "    select(-c(mir.type,flybase_id, start.pos, average.ppm, seed, UCount, totalReads, duplex, \n",
    "            avg.tc.pct)) %>% # remove Reichholf calc and all the stuff I don't care about\n",
    "    left_join(m, by=\"arm.name\") %>%\n",
    "    filter(!is.na(mir.type))\n",
    "\n",
    "head(fits.gfp)"
   ]
  },
  {
   "cell_type": "code",
   "execution_count": 19,
   "metadata": {},
   "outputs": [
    {
     "data": {
      "text/html": [
       "<table>\n",
       "<caption>A data.frame: 6 × 4</caption>\n",
       "<thead>\n",
       "\t<tr><th></th><th scope=col>arm.name</th><th scope=col>time</th><th scope=col>bg.tc.mut</th><th scope=col>mir.type</th></tr>\n",
       "\t<tr><th></th><th scope=col>&lt;chr&gt;</th><th scope=col>&lt;dbl&gt;</th><th scope=col>&lt;dbl&gt;</th><th scope=col>&lt;chr&gt;</th></tr>\n",
       "</thead>\n",
       "<tbody>\n",
       "\t<tr><th scope=row>1</th><td>miR-25-3p</td><td>0</td><td>0.4806925</td><td>guide</td></tr>\n",
       "\t<tr><th scope=row>2</th><td>miR-25-3p</td><td>0</td><td>0.4806925</td><td>guide</td></tr>\n",
       "\t<tr><th scope=row>3</th><td>miR-25-3p</td><td>0</td><td>0.4806925</td><td>guide</td></tr>\n",
       "\t<tr><th scope=row>4</th><td>miR-25-3p</td><td>0</td><td>0.4806925</td><td>guide</td></tr>\n",
       "\t<tr><th scope=row>5</th><td>miR-25-3p</td><td>0</td><td>0.4806925</td><td>guide</td></tr>\n",
       "\t<tr><th scope=row>6</th><td>miR-25-3p</td><td>0</td><td>0.4806925</td><td>guide</td></tr>\n",
       "</tbody>\n",
       "</table>\n"
      ],
      "text/latex": [
       "A data.frame: 6 × 4\n",
       "\\begin{tabular}{r|llll}\n",
       "  & arm.name & time & bg.tc.mut & mir.type\\\\\n",
       "  & <chr> & <dbl> & <dbl> & <chr>\\\\\n",
       "\\hline\n",
       "\t1 & miR-25-3p & 0 & 0.4806925 & guide\\\\\n",
       "\t2 & miR-25-3p & 0 & 0.4806925 & guide\\\\\n",
       "\t3 & miR-25-3p & 0 & 0.4806925 & guide\\\\\n",
       "\t4 & miR-25-3p & 0 & 0.4806925 & guide\\\\\n",
       "\t5 & miR-25-3p & 0 & 0.4806925 & guide\\\\\n",
       "\t6 & miR-25-3p & 0 & 0.4806925 & guide\\\\\n",
       "\\end{tabular}\n"
      ],
      "text/markdown": [
       "\n",
       "A data.frame: 6 × 4\n",
       "\n",
       "| <!--/--> | arm.name &lt;chr&gt; | time &lt;dbl&gt; | bg.tc.mut &lt;dbl&gt; | mir.type &lt;chr&gt; |\n",
       "|---|---|---|---|---|\n",
       "| 1 | miR-25-3p | 0 | 0.4806925 | guide |\n",
       "| 2 | miR-25-3p | 0 | 0.4806925 | guide |\n",
       "| 3 | miR-25-3p | 0 | 0.4806925 | guide |\n",
       "| 4 | miR-25-3p | 0 | 0.4806925 | guide |\n",
       "| 5 | miR-25-3p | 0 | 0.4806925 | guide |\n",
       "| 6 | miR-25-3p | 0 | 0.4806925 | guide |\n",
       "\n"
      ],
      "text/plain": [
       "  arm.name  time bg.tc.mut mir.type\n",
       "1 miR-25-3p 0    0.4806925 guide   \n",
       "2 miR-25-3p 0    0.4806925 guide   \n",
       "3 miR-25-3p 0    0.4806925 guide   \n",
       "4 miR-25-3p 0    0.4806925 guide   \n",
       "5 miR-25-3p 0    0.4806925 guide   \n",
       "6 miR-25-3p 0    0.4806925 guide   "
      ]
     },
     "metadata": {},
     "output_type": "display_data"
    }
   ],
   "source": [
    "# need to remove background\n",
    "bg.gfp <- fits.gfp %>%\n",
    "    filter(time == 0) %>%\n",
    "    dplyr::rename(bg.tc.mut=avg.tc.ppm)\n",
    "\n",
    "head(bg.gfp)"
   ]
  },
  {
   "cell_type": "code",
   "execution_count": 20,
   "metadata": {},
   "outputs": [],
   "source": [
    "# need to remove background\n",
    "bg.gfp <- fits.gfp %>%\n",
    "    filter(time == 0) %>%\n",
    "    dplyr::rename(bg.tc.mut=avg.tc.ppm) %>%\n",
    "    select(-time)\n",
    "\n",
    "bg.6 <- fits.6 %>%\n",
    "    filter(time == 0) %>%\n",
    "    dplyr::rename(bg.tc.mut=avg.tc.ppm) %>%\n",
    "    select(-time)\n",
    "\n",
    "bg.11 <- fits.11 %>%\n",
    "    filter(time == 0) %>%\n",
    "    dplyr::rename(bg.tc.mut=avg.tc.ppm) %>%\n",
    "    select(-time)\n"
   ]
  },
  {
   "cell_type": "code",
   "execution_count": 21,
   "metadata": {},
   "outputs": [],
   "source": [
    "# remove background and timepoint 5min\n",
    "fits.gfp <- fits.gfp %>%\n",
    "    filter(time > 0.083) %>%\n",
    "    left_join(bg.gfp, by=c(\"arm.name\", \"mir.type\")) %>%\n",
    "    group_by(arm.name) %>%\n",
    "    mutate(tc.ppm.minus.mut = ifelse(bg.tc.mut < avg.tc.ppm, avg.tc.ppm-bg.tc.mut, 0)) %>%\n",
    "    select(-c(bg.tc.mut, avg.tc.ppm)) %>%\n",
    "    dplyr::rename(avg.tc.ppm = tc.ppm.minus.mut)\n",
    "fits.gfp <- fits.gfp[!duplicated(fits.gfp),]\n",
    "\n",
    "fits.6 <- fits.6 %>%\n",
    "    filter(time > 0.083) %>%\n",
    "    left_join(bg.6, by=c(\"arm.name\", \"mir.type\")) %>%\n",
    "    group_by(arm.name) %>%\n",
    "    mutate(tc.ppm.minus.mut = ifelse(bg.tc.mut < avg.tc.ppm, avg.tc.ppm-bg.tc.mut, 0)) %>%\n",
    "    select(-c(bg.tc.mut, avg.tc.ppm)) %>%\n",
    "    dplyr::rename(avg.tc.ppm = tc.ppm.minus.mut)    \n",
    "fits.6 <- fits.6[!duplicated(fits.6),]\n",
    "\n",
    "\n",
    "fits.11 <- fits.11 %>%\n",
    "    filter(time > 0.083) %>%\n",
    "    left_join(bg.11, by=c(\"arm.name\", \"mir.type\")) %>%\n",
    "    group_by(arm.name) %>%\n",
    "    mutate(tc.ppm.minus.mut = ifelse(bg.tc.mut < avg.tc.ppm, avg.tc.ppm-bg.tc.mut, 0)) %>%\n",
    "    select(-c(bg.tc.mut, avg.tc.ppm)) %>%\n",
    "    dplyr::rename(avg.tc.ppm = tc.ppm.minus.mut)    \n",
    "fits.11 <- fits.11[!duplicated(fits.11),]"
   ]
  },
  {
   "cell_type": "code",
   "execution_count": 22,
   "metadata": {},
   "outputs": [],
   "source": [
    "# define upper threshold\n",
    "# as we also observe loss of miRNA in late time points, I would only use up to 6/12h\n",
    "limit = 6\n",
    "\n",
    "fits.gfp.bio.mature <- fits.gfp %>%\n",
    "    filter(time <= 1, mir.type==\"guide\")\n",
    "\n",
    "fits.gfp.bio.star <- fits.gfp %>%\n",
    "    filter(time <= 1, mir.type==\"passenger\")\n",
    "\n",
    "fits.gfp.accu.mature <- fits.gfp %>%\n",
    "    filter(time >= 1 & time <= limit , mir.type==\"guide\")\n",
    "\n",
    "fits.gfp.accu.star <- fits.gfp %>%\n",
    "    filter(time >= 1 & time <= limit, mir.type==\"passenger\")\n",
    "\n",
    "\n",
    "\n",
    "fits.6.bio.mature <- fits.6 %>%\n",
    "    filter(time <= 1, mir.type==\"guide\")\n",
    "\n",
    "fits.6.bio.star <- fits.6 %>%\n",
    "    filter(time <= 1, mir.type==\"passenger\")\n",
    "\n",
    "fits.6.accu.mature <- fits.6 %>%\n",
    "    filter(time >= 1 & time <= limit, mir.type==\"guide\")\n",
    "\n",
    "fits.6.accu.star <- fits.6 %>%\n",
    "    filter(time >= 1 & time <= limit, mir.type==\"passenger\")\n",
    "\n",
    "\n",
    "\n",
    "fits.11.bio.mature <- fits.11 %>%\n",
    "    filter(time <= 1, mir.type==\"guide\")\n",
    "\n",
    "fits.11.bio.star <- fits.11 %>%\n",
    "    filter(time <= 1, mir.type==\"passenger\")\n",
    "\n",
    "fits.11.accu.mature <- fits.11 %>%\n",
    "    filter(time >= 1 & time <= limit, mir.type==\"guide\")\n",
    "\n",
    "fits.11.accu.star <- fits.11 %>%\n",
    "    filter(time >= 1 & time <= limit, mir.type==\"passenger\")"
   ]
  },
  {
   "cell_type": "code",
   "execution_count": 23,
   "metadata": {},
   "outputs": [
    {
     "data": {
      "text/html": [
       "<table>\n",
       "<caption>A grouped_df: 6 × 4</caption>\n",
       "<thead>\n",
       "\t<tr><th scope=col>arm.name</th><th scope=col>time</th><th scope=col>mir.type</th><th scope=col>avg.tc.ppm</th></tr>\n",
       "\t<tr><th scope=col>&lt;chr&gt;</th><th scope=col>&lt;dbl&gt;</th><th scope=col>&lt;chr&gt;</th><th scope=col>&lt;dbl&gt;</th></tr>\n",
       "</thead>\n",
       "<tbody>\n",
       "\t<tr><td>miR-25-3p</td><td>0.25</td><td>guide</td><td>0.10578792</td></tr>\n",
       "\t<tr><td>miR-25-3p</td><td>0.50</td><td>guide</td><td>0.07345855</td></tr>\n",
       "\t<tr><td>miR-25-3p</td><td>1.00</td><td>guide</td><td>0.23020816</td></tr>\n",
       "\t<tr><td>let-7d-5p</td><td>0.25</td><td>guide</td><td>0.00000000</td></tr>\n",
       "\t<tr><td>let-7d-5p</td><td>0.50</td><td>guide</td><td>0.06343105</td></tr>\n",
       "\t<tr><td>let-7d-5p</td><td>1.00</td><td>guide</td><td>0.14667281</td></tr>\n",
       "</tbody>\n",
       "</table>\n"
      ],
      "text/latex": [
       "A grouped\\_df: 6 × 4\n",
       "\\begin{tabular}{llll}\n",
       " arm.name & time & mir.type & avg.tc.ppm\\\\\n",
       " <chr> & <dbl> & <chr> & <dbl>\\\\\n",
       "\\hline\n",
       "\t miR-25-3p & 0.25 & guide & 0.10578792\\\\\n",
       "\t miR-25-3p & 0.50 & guide & 0.07345855\\\\\n",
       "\t miR-25-3p & 1.00 & guide & 0.23020816\\\\\n",
       "\t let-7d-5p & 0.25 & guide & 0.00000000\\\\\n",
       "\t let-7d-5p & 0.50 & guide & 0.06343105\\\\\n",
       "\t let-7d-5p & 1.00 & guide & 0.14667281\\\\\n",
       "\\end{tabular}\n"
      ],
      "text/markdown": [
       "\n",
       "A grouped_df: 6 × 4\n",
       "\n",
       "| arm.name &lt;chr&gt; | time &lt;dbl&gt; | mir.type &lt;chr&gt; | avg.tc.ppm &lt;dbl&gt; |\n",
       "|---|---|---|---|\n",
       "| miR-25-3p | 0.25 | guide | 0.10578792 |\n",
       "| miR-25-3p | 0.50 | guide | 0.07345855 |\n",
       "| miR-25-3p | 1.00 | guide | 0.23020816 |\n",
       "| let-7d-5p | 0.25 | guide | 0.00000000 |\n",
       "| let-7d-5p | 0.50 | guide | 0.06343105 |\n",
       "| let-7d-5p | 1.00 | guide | 0.14667281 |\n",
       "\n"
      ],
      "text/plain": [
       "  arm.name  time mir.type avg.tc.ppm\n",
       "1 miR-25-3p 0.25 guide    0.10578792\n",
       "2 miR-25-3p 0.50 guide    0.07345855\n",
       "3 miR-25-3p 1.00 guide    0.23020816\n",
       "4 let-7d-5p 0.25 guide    0.00000000\n",
       "5 let-7d-5p 0.50 guide    0.06343105\n",
       "6 let-7d-5p 1.00 guide    0.14667281"
      ]
     },
     "metadata": {},
     "output_type": "display_data"
    },
    {
     "data": {
      "text/html": [
       "<style>\n",
       ".list-inline {list-style: none; margin:0; padding: 0}\n",
       ".list-inline>li {display: inline-block}\n",
       ".list-inline>li:not(:last-child)::after {content: \"\\00b7\"; padding: 0 .5ex}\n",
       "</style>\n",
       "<ol class=list-inline><li>0.25</li><li>0.5</li><li>1</li></ol>\n"
      ],
      "text/latex": [
       "\\begin{enumerate*}\n",
       "\\item 0.25\n",
       "\\item 0.5\n",
       "\\item 1\n",
       "\\end{enumerate*}\n"
      ],
      "text/markdown": [
       "1. 0.25\n",
       "2. 0.5\n",
       "3. 1\n",
       "\n",
       "\n"
      ],
      "text/plain": [
       "[1] 0.25 0.50 1.00"
      ]
     },
     "metadata": {},
     "output_type": "display_data"
    },
    {
     "data": {
      "text/html": [
       "<style>\n",
       ".list-inline {list-style: none; margin:0; padding: 0}\n",
       ".list-inline>li {display: inline-block}\n",
       ".list-inline>li:not(:last-child)::after {content: \"\\00b7\"; padding: 0 .5ex}\n",
       "</style>\n",
       "<ol class=list-inline><li>1</li><li>3</li><li>6</li></ol>\n"
      ],
      "text/latex": [
       "\\begin{enumerate*}\n",
       "\\item 1\n",
       "\\item 3\n",
       "\\item 6\n",
       "\\end{enumerate*}\n"
      ],
      "text/markdown": [
       "1. 1\n",
       "2. 3\n",
       "3. 6\n",
       "\n",
       "\n"
      ],
      "text/plain": [
       "[1] 1 3 6"
      ]
     },
     "metadata": {},
     "output_type": "display_data"
    }
   ],
   "source": [
    "head(fits.gfp.bio.mature)\n",
    "unique(fits.gfp.bio.mature$time)\n",
    "unique(fits.gfp.accu.mature$time)"
   ]
  },
  {
   "cell_type": "markdown",
   "metadata": {},
   "source": [
    "# linear fits"
   ]
  },
  {
   "cell_type": "markdown",
   "metadata": {},
   "source": [
    "### shGFP"
   ]
  },
  {
   "cell_type": "code",
   "execution_count": 24,
   "metadata": {},
   "outputs": [
    {
     "data": {
      "text/html": [
       "<strong>time:</strong> 0.0665440671130622"
      ],
      "text/latex": [
       "\\textbf{time:} 0.0665440671130622"
      ],
      "text/markdown": [
       "**time:** 0.0665440671130622"
      ],
      "text/plain": [
       "      time \n",
       "0.06654407 "
      ]
     },
     "metadata": {},
     "output_type": "display_data"
    },
    {
     "data": {
      "text/plain": [
       "\n",
       "Call:\n",
       "lm(formula = avg.tc.ppm ~ time, data = fits.gfp.bio.mature)\n",
       "\n",
       "Residuals:\n",
       "     Min       1Q   Median       3Q      Max \n",
       "-0.05462 -0.02134 -0.00471  0.00252  0.57818 \n",
       "\n",
       "Coefficients:\n",
       "            Estimate Std. Error t value Pr(>|t|)   \n",
       "(Intercept) -0.01193    0.01592  -0.749  0.45552   \n",
       "time         0.06654    0.02406   2.765  0.00689 **\n",
       "---\n",
       "Signif. codes:  0 ‘***’ 0.001 ‘**’ 0.01 ‘*’ 0.05 ‘.’ 0.1 ‘ ’ 1\n",
       "\n",
       "Residual standard error: 0.07236 on 91 degrees of freedom\n",
       "Multiple R-squared:  0.07752,\tAdjusted R-squared:  0.06738 \n",
       "F-statistic: 7.647 on 1 and 91 DF,  p-value: 0.006886\n"
      ]
     },
     "metadata": {},
     "output_type": "display_data"
    },
    {
     "data": {
      "text/html": [
       "<strong>time:</strong> 0.0741660164441114"
      ],
      "text/latex": [
       "\\textbf{time:} 0.0741660164441114"
      ],
      "text/markdown": [
       "**time:** 0.0741660164441114"
      ],
      "text/plain": [
       "      time \n",
       "0.07416602 "
      ]
     },
     "metadata": {},
     "output_type": "display_data"
    },
    {
     "data": {
      "text/plain": [
       "\n",
       "Call:\n",
       "lm(formula = avg.tc.ppm ~ time, data = fits.gfp.bio.star)\n",
       "\n",
       "Residuals:\n",
       "     Min       1Q   Median       3Q      Max \n",
       "-0.05758 -0.03518 -0.01111 -0.00151  0.88078 \n",
       "\n",
       "Coefficients:\n",
       "            Estimate Std. Error t value Pr(>|t|)  \n",
       "(Intercept) -0.01658    0.02278  -0.728   0.4685  \n",
       "time         0.07417    0.03444   2.153   0.0339 *\n",
       "---\n",
       "Signif. codes:  0 ‘***’ 0.001 ‘**’ 0.01 ‘*’ 0.05 ‘.’ 0.1 ‘ ’ 1\n",
       "\n",
       "Residual standard error: 0.1036 on 91 degrees of freedom\n",
       "Multiple R-squared:  0.04848,\tAdjusted R-squared:  0.03803 \n",
       "F-statistic: 4.637 on 1 and 91 DF,  p-value: 0.03394\n"
      ]
     },
     "metadata": {},
     "output_type": "display_data"
    },
    {
     "data": {
      "text/html": [
       "<strong>time:</strong> 0.177265368250176"
      ],
      "text/latex": [
       "\\textbf{time:} 0.177265368250176"
      ],
      "text/markdown": [
       "**time:** 0.177265368250176"
      ],
      "text/plain": [
       "     time \n",
       "0.1772654 "
      ]
     },
     "metadata": {},
     "output_type": "display_data"
    },
    {
     "data": {
      "text/plain": [
       "\n",
       "Call:\n",
       "lm(formula = avg.tc.ppm ~ time, data = fits.gfp.accu.mature)\n",
       "\n",
       "Residuals:\n",
       "    Min      1Q  Median      3Q     Max \n",
       "-0.9300 -0.3877 -0.0658 -0.0039  6.6392 \n",
       "\n",
       "Coefficients:\n",
       "            Estimate Std. Error t value Pr(>|t|)    \n",
       "(Intercept) -0.11912    0.19773  -0.602 0.548378    \n",
       "time         0.17727    0.05049   3.511 0.000698 ***\n",
       "---\n",
       "Signif. codes:  0 ‘***’ 0.001 ‘**’ 0.01 ‘*’ 0.05 ‘.’ 0.1 ‘ ’ 1\n",
       "\n",
       "Residual standard error: 1.001 on 91 degrees of freedom\n",
       "Multiple R-squared:  0.1193,\tAdjusted R-squared:  0.1096 \n",
       "F-statistic: 12.32 on 1 and 91 DF,  p-value: 0.0006977\n"
      ]
     },
     "metadata": {},
     "output_type": "display_data"
    },
    {
     "data": {
      "text/html": [
       "<strong>time:</strong> 0.0397792040263893"
      ],
      "text/latex": [
       "\\textbf{time:} 0.0397792040263893"
      ],
      "text/markdown": [
       "**time:** 0.0397792040263893"
      ],
      "text/plain": [
       "     time \n",
       "0.0397792 "
      ]
     },
     "metadata": {},
     "output_type": "display_data"
    },
    {
     "data": {
      "text/plain": [
       "\n",
       "Call:\n",
       "lm(formula = avg.tc.ppm ~ time, data = fits.gfp.accu.star)\n",
       "\n",
       "Residuals:\n",
       "     Min       1Q   Median       3Q      Max \n",
       "-0.26784 -0.13053 -0.06895 -0.02319  1.80720 \n",
       "\n",
       "Coefficients:\n",
       "            Estimate Std. Error t value Pr(>|t|)  \n",
       "(Intercept)  0.02917    0.06382   0.457   0.6488  \n",
       "time         0.03978    0.01630   2.441   0.0166 *\n",
       "---\n",
       "Signif. codes:  0 ‘***’ 0.001 ‘**’ 0.01 ‘*’ 0.05 ‘.’ 0.1 ‘ ’ 1\n",
       "\n",
       "Residual standard error: 0.323 on 91 degrees of freedom\n",
       "Multiple R-squared:  0.06143,\tAdjusted R-squared:  0.05112 \n",
       "F-statistic: 5.956 on 1 and 91 DF,  p-value: 0.0166\n"
      ]
     },
     "metadata": {},
     "output_type": "display_data"
    }
   ],
   "source": [
    "# biogenesis\n",
    "lm.gfp.bio.mature <- lm(avg.tc.ppm ~ time, data= fits.gfp.bio.mature)\n",
    "lm.gfp.bio.mature$coefficients[2]\n",
    "summary(lm.gfp.bio.mature)\n",
    "\n",
    "lm.gfp.bio.star <- lm(avg.tc.ppm ~ time, data= fits.gfp.bio.star)\n",
    "lm.gfp.bio.star$coefficients[2]\n",
    "summary(lm.gfp.bio.star)\n",
    "\n",
    "\n",
    "# accumulation\n",
    "lm.gfp.accu.mature <- lm(avg.tc.ppm ~ time, data= fits.gfp.accu.mature)\n",
    "lm.gfp.accu.mature$coefficients[2]\n",
    "summary(lm.gfp.accu.mature)\n",
    "\n",
    "lm.gfp.accu.star <- lm(avg.tc.ppm ~ time, data= fits.gfp.accu.star)\n",
    "lm.gfp.accu.star$coefficients[2]\n",
    "summary(lm.gfp.accu.star)"
   ]
  },
  {
   "cell_type": "markdown",
   "metadata": {},
   "source": [
    "### shINTS6"
   ]
  },
  {
   "cell_type": "code",
   "execution_count": 25,
   "metadata": {},
   "outputs": [
    {
     "data": {
      "text/html": [
       "<strong>time:</strong> 0.0763014456149875"
      ],
      "text/latex": [
       "\\textbf{time:} 0.0763014456149875"
      ],
      "text/markdown": [
       "**time:** 0.0763014456149875"
      ],
      "text/plain": [
       "      time \n",
       "0.07630145 "
      ]
     },
     "metadata": {},
     "output_type": "display_data"
    },
    {
     "data": {
      "text/plain": [
       "\n",
       "Call:\n",
       "lm(formula = avg.tc.ppm ~ time, data = fits.6.bio.mature)\n",
       "\n",
       "Residuals:\n",
       "     Min       1Q   Median       3Q      Max \n",
       "-0.05871 -0.02056 -0.00711 -0.00004  0.50969 \n",
       "\n",
       "Coefficients:\n",
       "            Estimate Std. Error t value Pr(>|t|)   \n",
       "(Intercept) -0.01759    0.01661  -1.059   0.2923   \n",
       "time         0.07630    0.02511   3.039   0.0031 **\n",
       "---\n",
       "Signif. codes:  0 ‘***’ 0.001 ‘**’ 0.01 ‘*’ 0.05 ‘.’ 0.1 ‘ ’ 1\n",
       "\n",
       "Residual standard error: 0.0755 on 91 degrees of freedom\n",
       "Multiple R-squared:  0.09213,\tAdjusted R-squared:  0.08215 \n",
       "F-statistic: 9.235 on 1 and 91 DF,  p-value: 0.0031\n"
      ]
     },
     "metadata": {},
     "output_type": "display_data"
    },
    {
     "data": {
      "text/html": [
       "<strong>time:</strong> 0.179446299775872"
      ],
      "text/latex": [
       "\\textbf{time:} 0.179446299775872"
      ],
      "text/markdown": [
       "**time:** 0.179446299775872"
      ],
      "text/plain": [
       "     time \n",
       "0.1794463 "
      ]
     },
     "metadata": {},
     "output_type": "display_data"
    },
    {
     "data": {
      "text/plain": [
       "\n",
       "Call:\n",
       "lm(formula = avg.tc.ppm ~ time, data = fits.6.bio.star)\n",
       "\n",
       "Residuals:\n",
       "     Min       1Q   Median       3Q      Max \n",
       "-0.13395 -0.09182 -0.04202  0.00063  2.39113 \n",
       "\n",
       "Coefficients:\n",
       "            Estimate Std. Error t value Pr(>|t|)  \n",
       "(Intercept) -0.04549    0.06143  -0.741   0.4609  \n",
       "time         0.17945    0.09288   1.932   0.0565 .\n",
       "---\n",
       "Signif. codes:  0 ‘***’ 0.001 ‘**’ 0.01 ‘*’ 0.05 ‘.’ 0.1 ‘ ’ 1\n",
       "\n",
       "Residual standard error: 0.2793 on 91 degrees of freedom\n",
       "Multiple R-squared:  0.0394,\tAdjusted R-squared:  0.02885 \n",
       "F-statistic: 3.733 on 1 and 91 DF,  p-value: 0.05647\n"
      ]
     },
     "metadata": {},
     "output_type": "display_data"
    },
    {
     "data": {
      "text/html": [
       "<strong>time:</strong> 0.0724022038379871"
      ],
      "text/latex": [
       "\\textbf{time:} 0.0724022038379871"
      ],
      "text/markdown": [
       "**time:** 0.0724022038379871"
      ],
      "text/plain": [
       "     time \n",
       "0.0724022 "
      ]
     },
     "metadata": {},
     "output_type": "display_data"
    },
    {
     "data": {
      "text/plain": [
       "\n",
       "Call:\n",
       "lm(formula = avg.tc.ppm ~ time, data = fits.6.accu.mature)\n",
       "\n",
       "Residuals:\n",
       "     Min       1Q   Median       3Q      Max \n",
       "-0.43694 -0.20733 -0.07493 -0.00995  2.59988 \n",
       "\n",
       "Coefficients:\n",
       "            Estimate Std. Error t value Pr(>|t|)   \n",
       "(Intercept) 0.002524   0.093600   0.027  0.97854   \n",
       "time        0.072402   0.023903   3.029  0.00319 **\n",
       "---\n",
       "Signif. codes:  0 ‘***’ 0.001 ‘**’ 0.01 ‘*’ 0.05 ‘.’ 0.1 ‘ ’ 1\n",
       "\n",
       "Residual standard error: 0.4737 on 91 degrees of freedom\n",
       "Multiple R-squared:  0.09159,\tAdjusted R-squared:  0.0816 \n",
       "F-statistic: 9.175 on 1 and 91 DF,  p-value: 0.003193\n"
      ]
     },
     "metadata": {},
     "output_type": "display_data"
    },
    {
     "data": {
      "text/html": [
       "<strong>time:</strong> 0.0381524060528265"
      ],
      "text/latex": [
       "\\textbf{time:} 0.0381524060528265"
      ],
      "text/markdown": [
       "**time:** 0.0381524060528265"
      ],
      "text/plain": [
       "      time \n",
       "0.03815241 "
      ]
     },
     "metadata": {},
     "output_type": "display_data"
    },
    {
     "data": {
      "text/plain": [
       "\n",
       "Call:\n",
       "lm(formula = avg.tc.ppm ~ time, data = fits.6.accu.star)\n",
       "\n",
       "Residuals:\n",
       "    Min      1Q  Median      3Q     Max \n",
       "-0.3641 -0.2481 -0.1733 -0.1410  4.6646 \n",
       "\n",
       "Coefficients:\n",
       "            Estimate Std. Error t value Pr(>|t|)\n",
       "(Intercept)  0.13515    0.15607   0.866    0.389\n",
       "time         0.03815    0.03986   0.957    0.341\n",
       "\n",
       "Residual standard error: 0.7898 on 91 degrees of freedom\n",
       "Multiple R-squared:  0.009969,\tAdjusted R-squared:  -0.0009104 \n",
       "F-statistic: 0.9163 on 1 and 91 DF,  p-value: 0.341\n"
      ]
     },
     "metadata": {},
     "output_type": "display_data"
    }
   ],
   "source": [
    "# biogenesis\n",
    "lm.6.bio.mature <- lm(avg.tc.ppm ~ time, data= fits.6.bio.mature)\n",
    "lm.6.bio.mature$coefficients[2]\n",
    "summary(lm.6.bio.mature)\n",
    "\n",
    "\n",
    "lm.6.bio.star <- lm(avg.tc.ppm ~ time, data= fits.6.bio.star)\n",
    "lm.6.bio.star$coefficients[2]\n",
    "summary(lm.6.bio.star)\n",
    "\n",
    "# accumulation\n",
    "lm.6.accu.mature <- lm(avg.tc.ppm ~ time, data= fits.6.accu.mature)\n",
    "lm.6.accu.mature$coefficients[2]\n",
    "summary(lm.6.accu.mature)\n",
    "\n",
    "lm.6.accu.star <- lm(avg.tc.ppm ~ time, data= fits.6.accu.star)\n",
    "lm.6.accu.star$coefficients[2]\n",
    "summary(lm.6.accu.star)"
   ]
  },
  {
   "cell_type": "markdown",
   "metadata": {},
   "source": [
    "### shINTS11"
   ]
  },
  {
   "cell_type": "code",
   "execution_count": 26,
   "metadata": {},
   "outputs": [
    {
     "data": {
      "text/html": [
       "<strong>time:</strong> 0.0350260654357293"
      ],
      "text/latex": [
       "\\textbf{time:} 0.0350260654357293"
      ],
      "text/markdown": [
       "**time:** 0.0350260654357293"
      ],
      "text/plain": [
       "      time \n",
       "0.03502607 "
      ]
     },
     "metadata": {},
     "output_type": "display_data"
    },
    {
     "data": {
      "text/plain": [
       "\n",
       "Call:\n",
       "lm(formula = avg.tc.ppm ~ time, data = fits.11.bio.mature)\n",
       "\n",
       "Residuals:\n",
       "     Min       1Q   Median       3Q      Max \n",
       "-0.02982 -0.01231 -0.00355  0.00170  0.13003 \n",
       "\n",
       "Coefficients:\n",
       "             Estimate Std. Error t value Pr(>|t|)    \n",
       "(Intercept) -0.005206   0.006177  -0.843  0.40150    \n",
       "time         0.035026   0.009338   3.751  0.00031 ***\n",
       "---\n",
       "Signif. codes:  0 ‘***’ 0.001 ‘**’ 0.01 ‘*’ 0.05 ‘.’ 0.1 ‘ ’ 1\n",
       "\n",
       "Residual standard error: 0.02808 on 91 degrees of freedom\n",
       "Multiple R-squared:  0.1339,\tAdjusted R-squared:  0.1244 \n",
       "F-statistic: 14.07 on 1 and 91 DF,  p-value: 0.0003097\n"
      ]
     },
     "metadata": {},
     "output_type": "display_data"
    },
    {
     "data": {
      "text/html": [
       "<strong>time:</strong> 0.061025471856619"
      ],
      "text/latex": [
       "\\textbf{time:} 0.061025471856619"
      ],
      "text/markdown": [
       "**time:** 0.061025471856619"
      ],
      "text/plain": [
       "      time \n",
       "0.06102547 "
      ]
     },
     "metadata": {},
     "output_type": "display_data"
    },
    {
     "data": {
      "text/plain": [
       "\n",
       "Call:\n",
       "lm(formula = avg.tc.ppm ~ time, data = fits.11.bio.star)\n",
       "\n",
       "Residuals:\n",
       "     Min       1Q   Median       3Q      Max \n",
       "-0.05013 -0.02579 -0.01826 -0.00436  0.99083 \n",
       "\n",
       "Coefficients:\n",
       "            Estimate Std. Error t value Pr(>|t|)\n",
       "(Intercept) -0.01090    0.02515  -0.433    0.666\n",
       "time         0.06103    0.03802   1.605    0.112\n",
       "\n",
       "Residual standard error: 0.1143 on 91 degrees of freedom\n",
       "Multiple R-squared:  0.02753,\tAdjusted R-squared:  0.01685 \n",
       "F-statistic: 2.576 on 1 and 91 DF,  p-value: 0.1119\n"
      ]
     },
     "metadata": {},
     "output_type": "display_data"
    },
    {
     "data": {
      "text/html": [
       "<strong>time:</strong> 0.0147396451292936"
      ],
      "text/latex": [
       "\\textbf{time:} 0.0147396451292936"
      ],
      "text/markdown": [
       "**time:** 0.0147396451292936"
      ],
      "text/plain": [
       "      time \n",
       "0.01473965 "
      ]
     },
     "metadata": {},
     "output_type": "display_data"
    },
    {
     "data": {
      "text/plain": [
       "\n",
       "Call:\n",
       "lm(formula = avg.tc.ppm ~ time, data = fits.11.accu.mature)\n",
       "\n",
       "Residuals:\n",
       "     Min       1Q   Median       3Q      Max \n",
       "-0.10887 -0.05873 -0.02734  0.01335  0.32062 \n",
       "\n",
       "Coefficients:\n",
       "            Estimate Std. Error t value Pr(>|t|)   \n",
       "(Intercept) 0.020433   0.018316   1.116   0.2675   \n",
       "time        0.014740   0.004678   3.151   0.0022 **\n",
       "---\n",
       "Signif. codes:  0 ‘***’ 0.001 ‘**’ 0.01 ‘*’ 0.05 ‘.’ 0.1 ‘ ’ 1\n",
       "\n",
       "Residual standard error: 0.09269 on 91 degrees of freedom\n",
       "Multiple R-squared:  0.09838,\tAdjusted R-squared:  0.08847 \n",
       "F-statistic:  9.93 on 1 and 91 DF,  p-value: 0.002202\n"
      ]
     },
     "metadata": {},
     "output_type": "display_data"
    },
    {
     "data": {
      "text/html": [
       "<strong>time:</strong> 0.0133072959004117"
      ],
      "text/latex": [
       "\\textbf{time:} 0.0133072959004117"
      ],
      "text/markdown": [
       "**time:** 0.0133072959004117"
      ],
      "text/plain": [
       "     time \n",
       "0.0133073 "
      ]
     },
     "metadata": {},
     "output_type": "display_data"
    },
    {
     "data": {
      "text/plain": [
       "\n",
       "Call:\n",
       "lm(formula = avg.tc.ppm ~ time, data = fits.11.accu.star)\n",
       "\n",
       "Residuals:\n",
       "     Min       1Q   Median       3Q      Max \n",
       "-0.13209 -0.09088 -0.06556 -0.04166  1.75639 \n",
       "\n",
       "Coefficients:\n",
       "            Estimate Std. Error t value Pr(>|t|)\n",
       "(Intercept)  0.05225    0.05670   0.921    0.359\n",
       "time         0.01331    0.01448   0.919    0.361\n",
       "\n",
       "Residual standard error: 0.2869 on 91 degrees of freedom\n",
       "Multiple R-squared:  0.009196,\tAdjusted R-squared:  -0.001692 \n",
       "F-statistic: 0.8446 on 1 and 91 DF,  p-value: 0.3605\n"
      ]
     },
     "metadata": {},
     "output_type": "display_data"
    }
   ],
   "source": [
    "# biogenesis\n",
    "lm.11.bio.mature <- lm(avg.tc.ppm ~ time, data= fits.11.bio.mature)\n",
    "lm.11.bio.mature$coefficients[2]\n",
    "summary(lm.11.bio.mature)\n",
    "\n",
    "\n",
    "lm.11.bio.star <- lm(avg.tc.ppm ~ time, data= fits.11.bio.star)\n",
    "lm.11.bio.star$coefficients[2]\n",
    "summary(lm.11.bio.star)\n",
    "\n",
    "# accumulation\n",
    "lm.11.accu.mature <- lm(avg.tc.ppm ~ time, data= fits.11.accu.mature)\n",
    "lm.11.accu.mature$coefficients[2]\n",
    "summary(lm.11.accu.mature)\n",
    "\n",
    "lm.11.accu.star <- lm(avg.tc.ppm ~ time, data= fits.11.accu.star)\n",
    "lm.11.accu.star$coefficients[2]\n",
    "summary(lm.11.accu.star)"
   ]
  },
  {
   "cell_type": "code",
   "execution_count": 27,
   "metadata": {},
   "outputs": [],
   "source": [
    "## Gives count, mean, standard deviation, standard error of the mean, and confidence interval (default 95%).\n",
    "##   data: a data frame.\n",
    "##   measurevar: the name of a column that contains the variable to be summariezed\n",
    "##   groupvars: a vector containing names of columns that contain grouping variables\n",
    "##   na.rm: a boolean that indicates whether to ignore NA's\n",
    "##   conf.interval: the percent range of the confidence interval (default is 95%)\n",
    "##   http://www.cookbook-r.com/Graphs/Plotting_means_and_error_bars_(ggplot2)/#Helper functions\n",
    "##   \n",
    "summarySE <- function(data=NULL, measurevar, groupvars=NULL, na.rm=FALSE,\n",
    "                      conf.interval=.95, .drop=TRUE) {\n",
    "        library(plyr)\n",
    "        \n",
    "        # New version of length which can handle NA's: if na.rm==T, don't count them\n",
    "        length2 <- function (x, na.rm=FALSE) {\n",
    "                if (na.rm) sum(!is.na(x))\n",
    "                else       length(x)\n",
    "        }\n",
    "        \n",
    "        # This does the summary. For each group's data frame, return a vector with\n",
    "        # N, mean, and sd\n",
    "        datac <- ddply(data, groupvars, .drop=.drop,\n",
    "                       .fun = function(xx, col) {\n",
    "                               c(N    = length2(xx[[col]], na.rm=na.rm),\n",
    "                                 mean = mean   (xx[[col]], na.rm=na.rm),\n",
    "                                 sd   = sd     (xx[[col]], na.rm=na.rm)\n",
    "                               )\n",
    "                       },\n",
    "                       measurevar\n",
    "        )\n",
    "        \n",
    "        # Rename the \"mean\" column    \n",
    "        datac <- rename(datac, c(\"mean\" = measurevar))\n",
    "        \n",
    "        datac$se <- datac$sd / sqrt(datac$N)  # Calculate standard error of the mean\n",
    "        \n",
    "        # Confidence interval multiplier for standard error\n",
    "        # Calculate t-statistic for confidence interval: \n",
    "        # e.g., if conf.interval is .95, use .975 (above/below), and use df=N-1\n",
    "        ciMult <- qt(conf.interval/2 + .5, datac$N-1)\n",
    "        datac$ci <- datac$se * ciMult\n",
    "        \n",
    "        return(datac)\n",
    "}\n",
    "\n"
   ]
  },
  {
   "cell_type": "code",
   "execution_count": 28,
   "metadata": {},
   "outputs": [],
   "source": [
    "# tables for graph\n",
    "\n",
    "fits.gfp.mature <- fits.gfp %>%\n",
    "    filter(mir.type == \"guide\", time <= limit)\n",
    "\n",
    "fits.gfp.star <- fits.gfp %>%\n",
    "    filter(mir.type == \"passenger\", time <= limit)\n",
    "\n",
    "fits.6.mature <- fits.6 %>%\n",
    "    filter(mir.type == \"guide\", time <= limit)\n",
    "\n",
    "fits.6.star <- fits.6 %>%\n",
    "    filter(mir.type == \"passenger\", time <= limit)\n",
    "\n",
    "fits.11.mature <- fits.11 %>%\n",
    "    filter(mir.type == \"guide\", time <= limit)\n",
    "\n",
    "fits.11.star <- fits.11 %>%\n",
    "    filter(mir.type == \"passenger\", time <= limit)"
   ]
  },
  {
   "cell_type": "code",
   "execution_count": null,
   "metadata": {},
   "outputs": [],
   "source": [
    "# Figure 3 g"
   ]
  },
  {
   "cell_type": "code",
   "execution_count": 29,
   "metadata": {},
   "outputs": [
    {
     "name": "stderr",
     "output_type": "stream",
     "text": [
      "------------------------------------------------------------------------------\n",
      "\n",
      "You have loaded plyr after dplyr - this is likely to cause problems.\n",
      "If you need functions from both plyr and dplyr, please load plyr first, then dplyr:\n",
      "library(plyr); library(dplyr)\n",
      "\n",
      "------------------------------------------------------------------------------\n",
      "\n",
      "\n",
      "Attaching package: ‘plyr’\n",
      "\n",
      "\n",
      "The following object is masked from ‘package:ShortRead’:\n",
      "\n",
      "    id\n",
      "\n",
      "\n",
      "The following object is masked from ‘package:matrixStats’:\n",
      "\n",
      "    count\n",
      "\n",
      "\n",
      "The following objects are masked from ‘package:dplyr’:\n",
      "\n",
      "    arrange, count, desc, failwith, id, mutate, rename, summarise,\n",
      "    summarize\n",
      "\n",
      "\n",
      "The following object is masked from ‘package:purrr’:\n",
      "\n",
      "    compact\n",
      "\n",
      "\n",
      "The following object is masked from ‘package:XVector’:\n",
      "\n",
      "    compact\n",
      "\n",
      "\n",
      "The following object is masked from ‘package:IRanges’:\n",
      "\n",
      "    desc\n",
      "\n",
      "\n",
      "The following object is masked from ‘package:S4Vectors’:\n",
      "\n",
      "    rename\n",
      "\n",
      "\n",
      "Warning message:\n",
      "“Transformation introduced infinite values in continuous y-axis”\n",
      "`geom_smooth()` using formula 'y ~ x'\n",
      "\n",
      "`geom_smooth()` using formula 'y ~ x'\n",
      "\n",
      "Warning message:\n",
      "“Transformation introduced infinite values in continuous y-axis”\n",
      "`geom_smooth()` using formula 'y ~ x'\n",
      "\n",
      "`geom_smooth()` using formula 'y ~ x'\n",
      "\n"
     ]
    },
    {
     "data": {
      "image/png": "[encoded data removed]",
      "text/plain": [
       "plot without title"
      ]
     },
     "metadata": {
      "image/png": {
       "height": 600,
       "width": 720
      },
      "text/plain": {
       "height": 600,
       "width": 720
      }
     },
     "output_type": "display_data"
    }
   ],
   "source": [
    "# plot next to each other\n",
    "\n",
    "\n",
    "gfp.mature <- summarySE(fits.gfp.mature, measurevar=\"avg.tc.ppm\", groupvars=c(\"time\", \"mir.type\"))\n",
    "gfp.star <- summarySE(fits.gfp.star, measurevar=\"avg.tc.ppm\", groupvars=c(\"time\", \"mir.type\"))\n",
    "\n",
    "mg <- ggplot(data = gfp.mature, aes(x = time, y=avg.tc.ppm)) +\n",
    "        theme_bw(base_size = 42) +\n",
    "        #ggtitle(\"shControl\") +\n",
    "        #theme(plot.title = element_text(hjust = '0.5', size=50)) +\n",
    "        theme(panel.grid.major = element_blank(), panel.grid.minor = element_blank(),\n",
    "              panel.background = element_blank(), panel.border = element_blank()) +\n",
    "        theme(axis.line = element_line(colour = \"black\", size = 1), \n",
    "              axis.title.x = element_text()) +\n",
    "        theme(legend.position=c(0.27, 0.9), legend.title = element_blank(), \n",
    "              legend.background = element_rect(fill=\"transparent\")) +\n",
    "        scale_x_continuous(trans = 'log2', breaks =c(1/16, 1/8, 1/4,1/2, 1, 2, 4, 8, 16), \n",
    "                           label=c(\"1/16\", \"1/8\", \"1/4\", \"1/2\", \"1\", \"2\", \"4\", \"8\", \" 16\"))+\n",
    "        scale_y_continuous(trans = 'log10', limits=c(0.001, 2.5))+\n",
    "        xlab(\"s4U labeling time [h]\")+\n",
    "        ylab(\"T>C miRNA [RPM]\")+\n",
    "        annotate(\"rect\", xmin = 1, xmax = 3, ymin = 0, ymax = Inf, alpha = .2) +\n",
    "        #geom_line(aes(linetype=mir.type), size=1.2, color=col_shgfp)+\n",
    "        #scale_linetype_manual(values=c(\"solid\", \"dotted\"))+\n",
    "        geom_point(aes(size=mir.type), color=col_shgfp) +\n",
    "        scale_size_manual(values=c(5)) +\n",
    "        geom_errorbar(width=.15, aes(ymin=avg.tc.ppm-se, ymax=avg.tc.ppm+se), color=col_shgfp)  +\n",
    "        geom_smooth(se=FALSE, method=\"lm\", data=gfp.mature[gfp.mature$time <=1,], lty=3, color=col_shgfp)+\n",
    "        geom_smooth(se=FALSE, method=\"lm\", data=gfp.mature[gfp.mature$time >=1 & gfp.mature$time <= limit,], lty=5, color=col_shgfp) \n",
    "\n",
    "sg <- ggplot(data = gfp.star, aes(x = time, y=avg.tc.ppm)) +\n",
    "        theme_bw(base_size = 42) +\n",
    "        #ggtitle(\"shControl\") +\n",
    "        #theme(plot.title = element_text(hjust = '0.5', size=50)) +\n",
    "        theme(panel.grid.major = element_blank(), panel.grid.minor = element_blank(),\n",
    "              panel.background = element_blank(), panel.border = element_blank()) +\n",
    "        theme(axis.line = element_line(colour = \"black\", size = 1), \n",
    "              axis.title.x = element_text(), axis.title.y = element_blank(), axis.text.y = element_blank()) +\n",
    "        theme(legend.position=c(0.27, 0.9), legend.title = element_blank(), \n",
    "              legend.background = element_rect(fill=\"transparent\")) +\n",
    "        scale_x_continuous(trans = 'log2', breaks =c(1/16, 1/8, 1/4,1/2, 1, 2, 4, 8, 16), \n",
    "                           label=c(\"1/16\", \"1/8\", \"1/4\", \"1/2\", \"1\", \"2\", \"4\", \"8\", \" 16\"))+\n",
    "        scale_y_continuous(trans = 'log10', limits=c(0.001, 2.5))+\n",
    "        xlab(\"s4U labeling time [h]\")+\n",
    "        annotate(\"rect\", xmin = 1, xmax = 3, ymin = 0, ymax = Inf, alpha = .2) +\n",
    "        #geom_line(aes(linetype=mir.type), size=1.2, color=col_shgfp)+\n",
    "        #scale_linetype_manual(values=c(\"solid\", \"dotted\"))+\n",
    "        geom_point(aes(size=mir.type), color=col_shgfp) +\n",
    "        scale_size_manual(values=c(3)) +\n",
    "        geom_errorbar(width=.15, aes(ymin=avg.tc.ppm-se, ymax=avg.tc.ppm+se), color=col_shgfp)  +\n",
    "        geom_smooth(se=FALSE, method=\"lm\", data=gfp.star[gfp.star$time <=1,], lty=3, color=col_shgfp)+\n",
    "        geom_smooth(se=FALSE, method=\"lm\", data=gfp.star[gfp.star$time >=1& gfp.star$time <= limit,], lty=5, color=col_shgfp)\n",
    "        #geom_abline(slope = lm.gfp.accu.mature$coefficients[2], intercept = lm.gfp.accu.mature$coefficients[1], color=\"red\")\n",
    "\n",
    "options(repr.plot.width=12, repr.plot.height=10)\n",
    "plot_row <- plot_grid(mg,sg, ncol=2, rel_widths = c(1,0.78))\n",
    "\n",
    "# now add the title\n",
    "title <- ggdraw() + \n",
    "  draw_label(\"shControl\", fontface = NULL, x = 0.5, hjust = 0.5, size=50) +\n",
    "  theme(\n",
    "    # add margin on the left of the drawing canvas,\n",
    "    # so title is aligned with left edge of first plot\n",
    "    plot.margin = margin(0, 0, 0, 0))\n",
    "\n",
    "plot_grid(\n",
    "  title, plot_row, ncol = 1,\n",
    "  # rel_heights values control vertical title margins\n",
    "  rel_heights = c(0.1, 1))\n",
    "\n",
    "\n",
    "#options(repr.plot.width=15, repr.plot.height=10)\n",
    "#plot_grid(mg,sg, ncol=2)\n"
   ]
  },
  {
   "cell_type": "code",
   "execution_count": 35,
   "metadata": {},
   "outputs": [
    {
     "name": "stderr",
     "output_type": "stream",
     "text": [
      "Warning message:\n",
      "“Transformation introduced infinite values in continuous y-axis”\n",
      "`geom_smooth()` using formula 'y ~ x'\n",
      "\n",
      "`geom_smooth()` using formula 'y ~ x'\n",
      "\n",
      "Warning message:\n",
      "“Transformation introduced infinite values in continuous y-axis”\n",
      "`geom_smooth()` using formula 'y ~ x'\n",
      "\n",
      "`geom_smooth()` using formula 'y ~ x'\n",
      "\n"
     ]
    },
    {
     "data": {
      "image/png": "[encoded data removed]",
      "text/plain": [
       "plot without title"
      ]
     },
     "metadata": {
      "image/png": {
       "height": 600,
       "width": 480
      },
      "text/plain": {
       "height": 600,
       "width": 480
      }
     },
     "output_type": "display_data"
    }
   ],
   "source": [
    "# plot on top of each other\n",
    "\n",
    "\n",
    "gfp.mature <- summarySE(fits.gfp.mature, measurevar=\"avg.tc.ppm\", groupvars=c(\"time\", \"mir.type\"))\n",
    "gfp.star <- summarySE(fits.gfp.star, measurevar=\"avg.tc.ppm\", groupvars=c(\"time\", \"mir.type\"))\n",
    "\n",
    "mg <- ggplot(data = gfp.mature, aes(x = time, y=avg.tc.ppm)) +\n",
    "        theme_bw(base_size = 42) +\n",
    "        ggtitle(\"shControl\") +\n",
    "        theme(plot.title = element_text(hjust = '0.5', size=50)) +\n",
    "        theme(panel.grid.major = element_blank(), panel.grid.minor = element_blank(),\n",
    "              panel.background = element_blank(), panel.border = element_blank()) +\n",
    "        theme(axis.line = element_line(colour = \"black\", size = 1), \n",
    "              axis.text.x = element_blank(), axis.title.x = element_blank(), axis.title.y = element_blank()) +\n",
    "        theme(legend.position=c(0.233, 0.9), legend.title = element_blank(), \n",
    "              legend.background = element_rect(fill=\"transparent\")) +\n",
    "        scale_x_continuous(trans = 'log2', breaks =c(1/16, 1/8, 1/4,1/2, 1, 2, 4, 8, 16), \n",
    "                           label=c(\"1/16\", \"1/8\", \"1/4\", \"1/2\", \"1\", \"2\", \"4\", \"8\", \" 16\"))+\n",
    "        scale_y_continuous(trans = 'log10', limits=c(0.001, 2.5), breaks=c(0.001, 0.01, 0.1, 1), labels=c(\"0.001\", \"0.01\", \"0.1\", \"1\"))+\n",
    "        xlab(\"s4U labeling time [h]\")+\n",
    "        #ylab(\"T>C miRNA [RPM]\")+\n",
    "        annotate(\"rect\", xmin = 1, xmax = 3, ymin = 0, ymax = Inf, alpha = .2) +\n",
    "        #geom_line(aes(linetype=mir.type), size=1.2, color=col_shgfp)+\n",
    "        #scale_linetype_manual(values=c(\"solid\", \"dotted\"))+\n",
    "        geom_point(aes(size=mir.type), color=col_shgfp) +\n",
    "        scale_size_manual(values=c(5)) +\n",
    "        geom_errorbar(width=.15, aes(ymin=avg.tc.ppm-se, ymax=avg.tc.ppm+se), color=col_shgfp)  +\n",
    "        geom_smooth(se=FALSE, method=\"lm\", data=gfp.mature[gfp.mature$time <=1,], lty=3, color=col_shgfp)+\n",
    "        geom_smooth(se=FALSE, method=\"lm\", data=gfp.mature[gfp.mature$time >=1 & gfp.mature$time <= limit,], lty=5, color=col_shgfp) \n",
    "\n",
    "sg <- ggplot(data = gfp.star, aes(x = time, y=avg.tc.ppm)) +\n",
    "        theme_bw(base_size = 42) +\n",
    "        #ggtitle(\"shControl\") +\n",
    "        #theme(plot.title = element_text(hjust = '0.5', size=50)) +\n",
    "        theme(panel.grid.major = element_blank(), panel.grid.minor = element_blank(),\n",
    "              panel.background = element_blank(), panel.border = element_blank()) +\n",
    "        theme(axis.line = element_line(colour = \"black\", size = 1), \n",
    "              axis.title.x = element_text(), axis.title.y = element_blank(), axis.text.y = element_text()) +\n",
    "        theme(legend.position=c(0.33, 0.9), legend.title = element_blank(), \n",
    "              legend.background = element_rect(fill=\"transparent\")) +\n",
    "        scale_x_continuous(trans = 'log2', breaks =c(1/16, 1/8, 1/4,1/2, 1, 2, 4, 8, 16), \n",
    "                           label=c(\"1/16\", \"1/8\", \"1/4\", \"1/2\", \"1\", \"2\", \"4\", \"8\", \" 16\"))+\n",
    "        scale_y_continuous(trans = 'log10', limits=c(0.001, 2.5), breaks=c(0.001, 0.01, 0.1, 1), labels=c(\"0.001\", \"0.01\", \"0.1\", \"1\"))+\n",
    "        xlab(\"s4U labeling time [h]\")+\n",
    "        annotate(\"rect\", xmin = 1, xmax = 3, ymin = 0, ymax = Inf, alpha = .2) +\n",
    "        #geom_line(aes(linetype=mir.type), size=1.2, color=col_shgfp)+\n",
    "        #scale_linetype_manual(values=c(\"solid\", \"dotted\"))+\n",
    "        geom_point(aes(size=mir.type), color=col_shgfp) +\n",
    "        scale_size_manual(values=c(3)) +\n",
    "        geom_errorbar(width=.15, aes(ymin=avg.tc.ppm-se, ymax=avg.tc.ppm+se), color=col_shgfp)  +\n",
    "        geom_smooth(se=FALSE, method=\"lm\", data=gfp.star[gfp.star$time <=1,], lty=3, color=col_shgfp)+\n",
    "        geom_smooth(se=FALSE, method=\"lm\", data=gfp.star[gfp.star$time >=1& gfp.star$time <= limit,], lty=5, color=col_shgfp)\n",
    "        #geom_abline(slope = lm.gfp.accu.mature$coefficients[2], intercept = lm.gfp.accu.mature$coefficients[1], color=\"red\")\n",
    "\n",
    "options(repr.plot.width=8, repr.plot.height=10)\n",
    "plot_row <- plot_grid(mg,sg, nrow=2, rel_heights = c(1, 1))\n",
    "\n",
    "# now add the title\n",
    "title <- ggdraw() + \n",
    "  draw_label(\"T>C miRNA [RPM]\", fontface = NULL, angle=90, x = 0.5, hjust = 0.5, size=42) +\n",
    "  theme(\n",
    "    # add margin on the left of the drawing canvas,\n",
    "    # so title is aligned with left edge of first plot\n",
    "    plot.margin = margin(0, 0, 0, 0))\n",
    "\n",
    "fin.plot <- plot_grid(\n",
    "  title, plot_row, ncol = 2,\n",
    "  rel_widths = c(0.1, 1))\n",
    "\n",
    "fin.plot\n",
    "#options(repr.plot.width=15, repr.plot.height=10)\n",
    "#plot_grid(mg,sg, ncol=2)\n"
   ]
  },
  {
   "cell_type": "raw",
   "metadata": {},
   "source": [
    "lm(avg.tc.ppm ~ time, data=fits.gfp.bio.mature)\n",
    "smooth_vals = predict(lm(avg.tc.ppm ~ time, data=fits.gfp.bio.mature))\n",
    "smooth_vals"
   ]
  },
  {
   "cell_type": "code",
   "execution_count": null,
   "metadata": {},
   "outputs": [],
   "source": [
    "# Figures don't appear in paper"
   ]
  },
  {
   "cell_type": "code",
   "execution_count": 32,
   "metadata": {},
   "outputs": [
    {
     "name": "stderr",
     "output_type": "stream",
     "text": [
      "Warning message:\n",
      "“Transformation introduced infinite values in continuous y-axis”\n",
      "`geom_smooth()` using formula 'y ~ x'\n",
      "\n",
      "`geom_smooth()` using formula 'y ~ x'\n",
      "\n",
      "Warning message:\n",
      "“Transformation introduced infinite values in continuous y-axis”\n",
      "`geom_smooth()` using formula 'y ~ x'\n",
      "\n",
      "`geom_smooth()` using formula 'y ~ x'\n",
      "\n"
     ]
    },
    {
     "data": {
      "image/png": "[encoded data removed]",
      "text/plain": [
       "plot without title"
      ]
     },
     "metadata": {
      "image/png": {
       "height": 600,
       "width": 480
      },
      "text/plain": {
       "height": 600,
       "width": 480
      }
     },
     "output_type": "display_data"
    }
   ],
   "source": [
    "ints.mature <- summarySE(fits.6.mature, measurevar=\"avg.tc.ppm\", groupvars=c(\"time\", \"mir.type\"))\n",
    "ints.star <- summarySE(fits.6.star, measurevar=\"avg.tc.ppm\", groupvars=c(\"time\", \"mir.type\"))\n",
    "\n",
    "m11 <- ggplot(data = ints.mature, aes(x = time, y=avg.tc.ppm)) +\n",
    "        theme_bw(base_size = 30) +\n",
    "        #ggtitle(\"shINTS6\") +\n",
    "        #theme(plot.title = element_text(hjust = '0.5', size=50)) +\n",
    "        theme(panel.grid.major = element_blank(), panel.grid.minor = element_blank(),\n",
    "              panel.background = element_blank(), panel.border = element_blank()) +\n",
    "        theme(axis.line = element_line(colour = \"black\", size = 1), \n",
    "              axis.title.x = element_text()) +\n",
    "        theme(legend.position=c(0.25, 0.9), legend.title = element_blank(), \n",
    "              legend.background = element_rect(fill=\"transparent\")) +\n",
    "        scale_x_continuous(trans = 'log2', breaks =c(1/16, 1/8, 1/4,1/2, 1, 2, 4, 8, 16), \n",
    "                           label=c(\"1/16\", \"1/8\", \"1/4\", \"1/2\", \"1\", \"2\", \"4\", \"8\", \" 16\"))+\n",
    "        scale_y_continuous(trans = 'log10', limits=c(0.001, 2.5))+\n",
    "        xlab(\"s4U labeling time [h]\")+\n",
    "        ylab(\"T>C miRNA [RPM]\")+\n",
    "        annotate(\"rect\", xmin = 1, xmax = 3, ymin = 0, ymax = Inf, alpha = .2) +\n",
    "        #geom_line(aes(linetype=mir.type), size=1.2, color=col_shgfp)+\n",
    "        #scale_linetype_manual(values=c(\"solid\", \"dotted\"))+\n",
    "        geom_point(aes(size=mir.type), color=col_sh6) +\n",
    "        scale_size_manual(values=c(5)) +\n",
    "        geom_errorbar(width=.15, aes(ymin=avg.tc.ppm-se, ymax=avg.tc.ppm+se), color=col_sh6)  +\n",
    "        geom_smooth(se=FALSE, method=\"lm\", data=ints.mature[ints.mature$time <=1,], lty=3, color=col_sh6)+\n",
    "        geom_smooth(se=FALSE, method=\"lm\", data=ints.mature[ints.mature$time >=1 & ints.mature$time <=limit ,], lty=5, color=col_sh6)\n",
    "\n",
    "s11 <- ggplot(data = ints.star, aes(x = time, y=avg.tc.ppm)) +\n",
    "        theme_bw(base_size = 30) +\n",
    "        #ggtitle(\"shINTS6\") +\n",
    "        #theme(plot.title = element_text(hjust = '0.5', size=50)) +\n",
    "        theme(panel.grid.major = element_blank(), panel.grid.minor = element_blank(),\n",
    "              panel.background = element_blank(), panel.border = element_blank()) +\n",
    "        theme(axis.line = element_line(colour = \"black\", size = 1), \n",
    "              axis.title.x = element_text(), axis.title.y = element_blank(), axis.text.y = element_blank()) +\n",
    "        theme(legend.position=c(0.25, 0.9), legend.title = element_blank(), \n",
    "              legend.background = element_rect(fill=\"transparent\")) +\n",
    "        scale_x_continuous(trans = 'log2', breaks =c(1/16, 1/8, 1/4,1/2, 1, 2, 4, 8, 16), \n",
    "                           label=c(\"1/16\", \"1/8\", \"1/4\", \"1/2\", \"1\", \"2\", \"4\", \"8\", \" 16\"))+\n",
    "        scale_y_continuous(trans = 'log10', limits=c(0.001, 2.5))+\n",
    "        xlab(\"s4U labeling time [h]\")+\n",
    "        #ylab(\"T>C miRNA [RPM]\")+\n",
    "        annotate(\"rect\", xmin = 1, xmax = 3, ymin = 0, ymax = Inf, alpha = .2) +\n",
    "        #geom_line(aes(linetype=mir.type), size=1.2, color=col_shgfp)+\n",
    "        #scale_linetype_manual(values=c(\"solid\", \"dotted\"))+\n",
    "        geom_point(aes(size=mir.type), color=col_sh6) +\n",
    "        scale_size_manual(values=c(3)) +\n",
    "        geom_errorbar(width=.15, aes(ymin=avg.tc.ppm-se, ymax=avg.tc.ppm+se), color=col_sh6)  +\n",
    "        geom_smooth(se=FALSE, method=\"lm\", data=ints.star[ints.star$time <=1,], lty=3, color=col_sh6)+\n",
    "        geom_smooth(se=FALSE, method=\"lm\", data=ints.star[ints.star$time >=1 & ints.mature$time <=limit,], lty=5, color=col_sh6)\n",
    "       # geom_abline(slope = lm.gfp.accu.mature$coefficients[2], intercept = lm.gfp.accu.mature$coefficients[1], color=\"red\")\n",
    "\n",
    "plot_row <- plot_grid(m11,s11, ncol=2, rel_widths = c(1,0.78))\n",
    "\n",
    "# now add the title\n",
    "title <- ggdraw() + \n",
    "  draw_label(\"shINTS6\", fontface = NULL, x = 0.5, hjust = 0.5, size=50) +\n",
    "  theme(\n",
    "    # add margin on the left of the drawing canvas,\n",
    "    # so title is aligned with left edge of first plot\n",
    "    plot.margin = margin(0, 0, 0, 0))\n",
    "\n",
    "plot_grid(\n",
    "  title, plot_row, ncol = 1,\n",
    "  # rel_heights values control vertical title margins\n",
    "  rel_heights = c(0.1, 1))\n",
    "\n",
    "\n",
    "#options(repr.plot.width=20, repr.plot.height=10)\n",
    "#plot_grid(m11,s11, ncol=2)"
   ]
  },
  {
   "cell_type": "code",
   "execution_count": 76,
   "metadata": {},
   "outputs": [
    {
     "name": "stderr",
     "output_type": "stream",
     "text": [
      "Warning message:\n",
      "“Transformation introduced infinite values in continuous y-axis”\n",
      "`geom_smooth()` using formula 'y ~ x'\n",
      "\n",
      "`geom_smooth()` using formula 'y ~ x'\n",
      "\n",
      "Warning message:\n",
      "“Transformation introduced infinite values in continuous y-axis”\n",
      "`geom_smooth()` using formula 'y ~ x'\n",
      "\n",
      "`geom_smooth()` using formula 'y ~ x'\n",
      "\n"
     ]
    },
    {
     "data": {
      "image/png": "[encoded data removed]",
      "text/plain": [
       "plot without title"
      ]
     },
     "metadata": {
      "image/png": {
       "height": 660,
       "width": 480
      },
      "text/plain": {
       "height": 660,
       "width": 480
      }
     },
     "output_type": "display_data"
    }
   ],
   "source": [
    "ints.mature <- summarySE(fits.11.mature, measurevar=\"avg.tc.ppm\", groupvars=c(\"time\", \"mir.type\"))\n",
    "ints.star <- summarySE(fits.11.star, measurevar=\"avg.tc.ppm\", groupvars=c(\"time\", \"mir.type\"))\n",
    "\n",
    "m11 <- ggplot(data = ints.mature, aes(x = time, y=avg.tc.ppm)) +\n",
    "        theme_bw(base_size = 30) +\n",
    "        #ggtitle(\"shINTS6\") +\n",
    "        #theme(plot.title = element_text(hjust = '0.5', size=50)) +\n",
    "        theme(panel.grid.major = element_blank(), panel.grid.minor = element_blank(),\n",
    "              panel.background = element_blank(), panel.border = element_blank()) +\n",
    "        theme(axis.line = element_line(colour = \"black\", size = 1), \n",
    "              axis.title.x = element_text()) +\n",
    "        theme(legend.position=c(0.25, 0.9), legend.title = element_blank(), \n",
    "              legend.background = element_rect(fill=\"transparent\")) +\n",
    "        scale_x_continuous(trans = 'log2', breaks =c(1/16, 1/8, 1/4,1/2, 1, 2, 4, 8, 16), \n",
    "                           label=c(\"1/16\", \"1/8\", \"1/4\", \"1/2\", \"1\", \"2\", \"4\", \"8\", \" 16\"))+\n",
    "        scale_y_continuous(trans = 'log10', limits=c(0.001, 2.5))+\n",
    "        xlab(\"s4U labeling time [h]\")+\n",
    "        ylab(\"T>C miRNA [RPM]\")+\n",
    "        annotate(\"rect\", xmin = 1, xmax = 3, ymin = 0, ymax = Inf, alpha = .2) +\n",
    "        #geom_line(aes(linetype=mir.type), size=1.2, color=col_shgfp)+\n",
    "        #scale_linetype_manual(values=c(\"solid\", \"dotted\"))+\n",
    "        geom_point(aes(size=mir.type), color=col_sh11) +\n",
    "        scale_size_manual(values=c(5)) +\n",
    "        geom_errorbar(width=.15, aes(ymin=avg.tc.ppm-se, ymax=avg.tc.ppm+se), color=col_sh11)  +\n",
    "        geom_smooth(se=FALSE, method=\"lm\", data=ints.mature[ints.mature$time <=1,], lty=3, color=col_sh11)+\n",
    "        geom_smooth(se=FALSE, method=\"lm\", data=ints.mature[ints.mature$time >=1 & ints.mature$time <=limit ,], lty=5, color=col_sh11)\n",
    "\n",
    "s11 <- ggplot(data = ints.star, aes(x = time, y=avg.tc.ppm)) +\n",
    "        theme_bw(base_size = 30) +\n",
    "        #ggtitle(\"shINTS6\") +\n",
    "        #theme(plot.title = element_text(hjust = '0.5', size=50)) +\n",
    "        theme(panel.grid.major = element_blank(), panel.grid.minor = element_blank(),\n",
    "              panel.background = element_blank(), panel.border = element_blank()) +\n",
    "        theme(axis.line = element_line(colour = \"black\", size = 1), \n",
    "              axis.title.x = element_text(), axis.title.y = element_blank(), axis.text.y = element_blank()) +\n",
    "        theme(legend.position=c(0.25, 0.9), legend.title = element_blank(), \n",
    "              legend.background = element_rect(fill=\"transparent\")) +\n",
    "        scale_x_continuous(trans = 'log2', breaks =c(1/16, 1/8, 1/4,1/2, 1, 2, 4, 8, 16), \n",
    "                           label=c(\"1/16\", \"1/8\", \"1/4\", \"1/2\", \"1\", \"2\", \"4\", \"8\", \" 16\"))+\n",
    "        scale_y_continuous(trans = 'log10', limits=c(0.001, 2.5))+\n",
    "        xlab(\"s4U labeling time [h]\")+\n",
    "        #ylab(\"T>C miRNA [RPM]\")+\n",
    "        annotate(\"rect\", xmin = 1, xmax = 3, ymin = 0, ymax = Inf, alpha = .2) +\n",
    "        #geom_line(aes(linetype=mir.type), size=1.2, color=col_shgfp)+\n",
    "        #scale_linetype_manual(values=c(\"solid\", \"dotted\"))+\n",
    "        geom_point(aes(size=mir.type), color=col_sh11) +\n",
    "        scale_size_manual(values=c(3)) +\n",
    "        geom_errorbar(width=.15, aes(ymin=avg.tc.ppm-se, ymax=avg.tc.ppm+se), color=col_sh11)  +\n",
    "        geom_smooth(se=FALSE, method=\"lm\", data=ints.star[ints.star$time <=1,], lty=3, color=col_sh11)+\n",
    "        geom_smooth(se=FALSE, method=\"lm\", data=ints.star[ints.star$time >=1 & ints.mature$time <=limit,], lty=5, color=col_sh11)\n",
    "       # geom_abline(slope = lm.gfp.accu.mature$coefficients[2], intercept = lm.gfp.accu.mature$coefficients[1], color=\"red\")\n",
    "\n",
    "plot_row <- plot_grid(m11,s11, ncol=2, rel_widths = c(1,0.78))\n",
    "\n",
    "# now add the title\n",
    "title <- ggdraw() + \n",
    "  draw_label(\"shINTS11\", fontface = NULL, x = 0.5, hjust = 0.5, size=50) +\n",
    "  theme(\n",
    "    # add margin on the left of the drawing canvas,\n",
    "    # so title is aligned with left edge of first plot\n",
    "    plot.margin = margin(0, 0, 0, 0))\n",
    "\n",
    "plot_grid(\n",
    "  title, plot_row, ncol = 1,\n",
    "  # rel_heights values control vertical title margins\n",
    "  rel_heights = c(0.1, 1))\n",
    "\n",
    "\n",
    "#options(repr.plot.width=20, repr.plot.height=10)\n",
    "#plot_grid(m11,s11, ncol=2)"
   ]
  },
  {
   "cell_type": "code",
   "execution_count": 77,
   "metadata": {},
   "outputs": [],
   "source": [
    "# plot as histogram"
   ]
  },
  {
   "cell_type": "code",
   "execution_count": 78,
   "metadata": {},
   "outputs": [
    {
     "data": {
      "text/plain": [
       "\n",
       "Call:\n",
       "lm(formula = avg.tc.ppm ~ time, data = fits.11.accu.star)\n",
       "\n",
       "Residuals:\n",
       "     Min       1Q   Median       3Q      Max \n",
       "-0.13209 -0.09088 -0.06556 -0.04166  1.75639 \n",
       "\n",
       "Coefficients:\n",
       "            Estimate Std. Error t value Pr(>|t|)\n",
       "(Intercept)  0.05225    0.05670   0.921    0.359\n",
       "time         0.01331    0.01448   0.919    0.361\n",
       "\n",
       "Residual standard error: 0.2869 on 91 degrees of freedom\n",
       "Multiple R-squared:  0.009196,\tAdjusted R-squared:  -0.001692 \n",
       "F-statistic: 0.8446 on 1 and 91 DF,  p-value: 0.3605\n"
      ]
     },
     "metadata": {},
     "output_type": "display_data"
    }
   ],
   "source": [
    "#summary(lm.gfp.bio.mature)\n",
    "#summary(lm.gfp.bio.star)\n",
    "\n",
    "#summary(lm.6.bio.mature)\n",
    "#summary(lm.6.bio.star)\n",
    "\n",
    "#summary(lm.11.bio.mature)\n",
    "#summary(lm.11.bio.star)\n",
    "\n",
    "#summary(lm.gfp.accu.mature)\n",
    "#summary(lm.gfp.accu.star)\n",
    "\n",
    "#summary(lm.6.accu.mature)\n",
    "#summary(lm.6.accu.star)\n",
    "\n",
    "#summary(lm.11.accu.mature)\n",
    "summary(lm.11.accu.star)"
   ]
  },
  {
   "cell_type": "code",
   "execution_count": 33,
   "metadata": {},
   "outputs": [
    {
     "data": {
      "text/html": [
       "<table>\n",
       "<caption>A data.frame: 6 × 3</caption>\n",
       "<thead>\n",
       "\t<tr><th scope=col>sample</th><th scope=col>kbio</th><th scope=col>SEM</th></tr>\n",
       "\t<tr><th scope=col>&lt;chr&gt;</th><th scope=col>&lt;dbl&gt;</th><th scope=col>&lt;dbl&gt;</th></tr>\n",
       "</thead>\n",
       "<tbody>\n",
       "\t<tr><td>shC.mature </td><td>0.066</td><td>0.024</td></tr>\n",
       "\t<tr><td>shC.star   </td><td>0.074</td><td>0.034</td></tr>\n",
       "\t<tr><td>sh6.mature </td><td>0.076</td><td>0.025</td></tr>\n",
       "\t<tr><td>sh6.star   </td><td>0.179</td><td>0.093</td></tr>\n",
       "\t<tr><td>sh11.mature</td><td>0.035</td><td>0.009</td></tr>\n",
       "\t<tr><td>sh11.star  </td><td>0.061</td><td>0.038</td></tr>\n",
       "</tbody>\n",
       "</table>\n"
      ],
      "text/latex": [
       "A data.frame: 6 × 3\n",
       "\\begin{tabular}{lll}\n",
       " sample & kbio & SEM\\\\\n",
       " <chr> & <dbl> & <dbl>\\\\\n",
       "\\hline\n",
       "\t shC.mature  & 0.066 & 0.024\\\\\n",
       "\t shC.star    & 0.074 & 0.034\\\\\n",
       "\t sh6.mature  & 0.076 & 0.025\\\\\n",
       "\t sh6.star    & 0.179 & 0.093\\\\\n",
       "\t sh11.mature & 0.035 & 0.009\\\\\n",
       "\t sh11.star   & 0.061 & 0.038\\\\\n",
       "\\end{tabular}\n"
      ],
      "text/markdown": [
       "\n",
       "A data.frame: 6 × 3\n",
       "\n",
       "| sample &lt;chr&gt; | kbio &lt;dbl&gt; | SEM &lt;dbl&gt; |\n",
       "|---|---|---|\n",
       "| shC.mature  | 0.066 | 0.024 |\n",
       "| shC.star    | 0.074 | 0.034 |\n",
       "| sh6.mature  | 0.076 | 0.025 |\n",
       "| sh6.star    | 0.179 | 0.093 |\n",
       "| sh11.mature | 0.035 | 0.009 |\n",
       "| sh11.star   | 0.061 | 0.038 |\n",
       "\n"
      ],
      "text/plain": [
       "  sample      kbio  SEM  \n",
       "1 shC.mature  0.066 0.024\n",
       "2 shC.star    0.074 0.034\n",
       "3 sh6.mature  0.076 0.025\n",
       "4 sh6.star    0.179 0.093\n",
       "5 sh11.mature 0.035 0.009\n",
       "6 sh11.star   0.061 0.038"
      ]
     },
     "metadata": {},
     "output_type": "display_data"
    },
    {
     "data": {
      "text/html": [
       "<table>\n",
       "<caption>A data.frame: 6 × 3</caption>\n",
       "<thead>\n",
       "\t<tr><th scope=col>sample</th><th scope=col>kaccu</th><th scope=col>SEM</th></tr>\n",
       "\t<tr><th scope=col>&lt;chr&gt;</th><th scope=col>&lt;dbl&gt;</th><th scope=col>&lt;dbl&gt;</th></tr>\n",
       "</thead>\n",
       "<tbody>\n",
       "\t<tr><td>shC.mature </td><td>0.177</td><td>0.050</td></tr>\n",
       "\t<tr><td>shC.star   </td><td>0.040</td><td>0.016</td></tr>\n",
       "\t<tr><td>sh6.mature </td><td>0.071</td><td>0.024</td></tr>\n",
       "\t<tr><td>sh6.star   </td><td>0.038</td><td>0.040</td></tr>\n",
       "\t<tr><td>sh11.mature</td><td>0.015</td><td>0.005</td></tr>\n",
       "\t<tr><td>sh11.star  </td><td>0.013</td><td>0.014</td></tr>\n",
       "</tbody>\n",
       "</table>\n"
      ],
      "text/latex": [
       "A data.frame: 6 × 3\n",
       "\\begin{tabular}{lll}\n",
       " sample & kaccu & SEM\\\\\n",
       " <chr> & <dbl> & <dbl>\\\\\n",
       "\\hline\n",
       "\t shC.mature  & 0.177 & 0.050\\\\\n",
       "\t shC.star    & 0.040 & 0.016\\\\\n",
       "\t sh6.mature  & 0.071 & 0.024\\\\\n",
       "\t sh6.star    & 0.038 & 0.040\\\\\n",
       "\t sh11.mature & 0.015 & 0.005\\\\\n",
       "\t sh11.star   & 0.013 & 0.014\\\\\n",
       "\\end{tabular}\n"
      ],
      "text/markdown": [
       "\n",
       "A data.frame: 6 × 3\n",
       "\n",
       "| sample &lt;chr&gt; | kaccu &lt;dbl&gt; | SEM &lt;dbl&gt; |\n",
       "|---|---|---|\n",
       "| shC.mature  | 0.177 | 0.050 |\n",
       "| shC.star    | 0.040 | 0.016 |\n",
       "| sh6.mature  | 0.071 | 0.024 |\n",
       "| sh6.star    | 0.038 | 0.040 |\n",
       "| sh11.mature | 0.015 | 0.005 |\n",
       "| sh11.star   | 0.013 | 0.014 |\n",
       "\n"
      ],
      "text/plain": [
       "  sample      kaccu SEM  \n",
       "1 shC.mature  0.177 0.050\n",
       "2 shC.star    0.040 0.016\n",
       "3 sh6.mature  0.071 0.024\n",
       "4 sh6.star    0.038 0.040\n",
       "5 sh11.mature 0.015 0.005\n",
       "6 sh11.star   0.013 0.014"
      ]
     },
     "metadata": {},
     "output_type": "display_data"
    }
   ],
   "source": [
    "b <- as.data.frame(matrix(NA, ncol=3,nrow=6))\n",
    "colnames(b) <- c(\"sample\", \"kbio\", \"SEM\")\n",
    "b$sample <- c(\"shC.mature\", \"shC.star\",\"sh6.mature\", \"sh6.star\", \"sh11.mature\", \"sh11.star\")\n",
    "b$kbio <-as.numeric(c(0.066, 0.074, 0.076, 0.179, 0.035, 0.061))\n",
    "b$SEM <- as.numeric(c(0.024, 0.034, 0.025, 0.093, 0.009, 0.038))\n",
    "b\n",
    "\n",
    "\n",
    "a <- as.data.frame(matrix(NA, ncol=3,nrow=6))\n",
    "colnames(a) <- c(\"sample\", \"kaccu\", \"SEM\")\n",
    "a$sample <- c(\"shC.mature\", \"shC.star\",\"sh6.mature\", \"sh6.star\", \"sh11.mature\", \"sh11.star\")\n",
    "a$kaccu <- as.numeric(c(0.177, 0.040, 0.071, 0.038, 0.015, 0.013))\n",
    "a$SEM <- as.numeric(c(0.050, 0.016, 0.024, 0.040, 0.005, 0.014))\n",
    "a\n"
   ]
  },
  {
   "cell_type": "code",
   "execution_count": 81,
   "metadata": {},
   "outputs": [
    {
     "data": {
      "image/png": "[encoded data removed]",
      "text/plain": [
       "plot without title"
      ]
     },
     "metadata": {
      "image/png": {
       "height": 660,
       "width": 720
      },
      "text/plain": {
       "height": 660,
       "width": 720
      }
     },
     "output_type": "display_data"
    }
   ],
   "source": [
    "# figure stacked\n",
    "\n",
    "\n",
    "bio <- ggplot(b, aes(x=sample, y=kbio)) + \n",
    "    theme_bw(base_size = 42) +\n",
    "    ggtitle(expression(k[bio])) +\n",
    "    theme(plot.title = element_text(hjust = '0.5')) +\n",
    "    theme(panel.grid.major = element_blank(), panel.grid.minor = element_blank(),\n",
    "              panel.background = element_blank(), panel.border = element_blank()) +\n",
    "    theme(axis.line = element_line(colour = \"black\", size = 1), \n",
    "              axis.title.x = element_blank(), axis.text.x = element_blank()) +\n",
    "     #scale_y_continuous(limits=c(0,0.07))+#trans = 'log2', breaks=c(0.004, 0.03, 0.25,2))+\n",
    "    coord_cartesian(ylim=c(0, 0.3)) +\n",
    "    ylab(expression('k'[bio]*' [RPM/min]'))  +\n",
    "    #scale_x_discrete(limits=c(\"shC.mature\", \"sh6.mature\", \"shC.star\", \"sh6.star\")) +\n",
    "    scale_x_discrete(limits=c(\"shC.mature\", \"shC.star\", \"sh6.mature\", \"sh6.star\", \"sh11.mature\", \"sh11.star\")) +\n",
    "    geom_col(fill=c(col_shgfp, col_shgfp, col_sh6, col_sh6, col_sh11, col_sh11)) +\n",
    "    geom_errorbar(aes(ymin=kbio-SEM, ymax=kbio+SEM), width=.2, col=c(col_shgfp,  col_shgfp, col_sh6,col_sh6, col_sh11,col_sh11))\n",
    "\n",
    "\n",
    "\n",
    "\n",
    "accu <- ggplot(a, aes(x=sample, y=kaccu)) + \n",
    "    theme_bw(base_size = 42) +\n",
    "    #ggtitle(expression(k[accu])) +\n",
    "    #theme(plot.title = element_text(hjust = '0.5')) +\n",
    "    theme(panel.grid.major = element_blank(), panel.grid.minor = element_blank(),\n",
    "              panel.background = element_blank(), panel.border = element_blank()) +\n",
    "    theme(axis.line = element_line(colour = \"black\", size = 1), \n",
    "              axis.title.x = element_blank(), axis.text.x = element_text(angle = 0, vjust = 0, hjust=0.5)) +\n",
    "    #scale_y_continuous(limits=c(0,0.07))+#trans = 'log2', breaks=c(0.004, 0.03, 0.25,2))+\n",
    "    coord_cartesian(ylim=c(0, 0.3)) +\n",
    "    ylab(expression('k'[accu]*' [RPM/min]'))  +\n",
    "    #scale_x_discrete(limits=c(\"shC.mature\", \"sh6.mature\", \"shC.star\", \"sh6.star\")) +\n",
    "    scale_x_discrete(limits=c(\"shC.mature\", \"shC.star\", \"sh6.mature\", \"sh6.star\", \"sh11.mature\", \"sh11.star\"),\n",
    "                    labels=c(\"mature\", \"star\", \"mature\", \"star\", \"mature\", \"star\")) +\n",
    "    geom_col(fill=c(col_shgfp, col_shgfp, col_sh6, col_sh6, col_sh11, col_sh11)) +\n",
    "    geom_errorbar(aes(ymin=kaccu-SEM, ymax=kaccu+SEM), width=.2, col=c(col_shgfp,  col_shgfp, col_sh6,col_sh6, col_sh11,col_sh11))\n",
    "\n",
    "options(repr.plot.width=12, repr.plot.height=11)\n",
    "plot_grid(bio, accu, nrow=2, rel_heights=c(1,1))"
   ]
  },
  {
   "cell_type": "code",
   "execution_count": null,
   "metadata": {},
   "outputs": [],
   "source": [
    "# Figure 3h"
   ]
  },
  {
   "cell_type": "code",
   "execution_count": 89,
   "metadata": {},
   "outputs": [
    {
     "data": {
      "image/png": "[encoded data removed]",
      "text/plain": [
       "plot without title"
      ]
     },
     "metadata": {
      "image/png": {
       "height": 660,
       "width": 720
      },
      "text/plain": {
       "height": 660,
       "width": 720
      }
     },
     "output_type": "display_data"
    }
   ],
   "source": [
    "# figure stacked REORDER\n",
    "\n",
    "\n",
    "bio <- ggplot(b, aes(x=sample, y=kbio)) + \n",
    "    theme_bw(base_size = 42) +\n",
    "    ggtitle(expression(k[bio])) +\n",
    "    theme(plot.title = element_text(hjust = '0.5')) +\n",
    "    theme(panel.grid.major = element_blank(), panel.grid.minor = element_blank(),\n",
    "              panel.background = element_blank(), panel.border = element_blank()) +\n",
    "    theme(axis.line = element_line(colour = \"black\", size = 1), \n",
    "              axis.title.x = element_blank(), axis.text.x = element_blank()) +\n",
    "    #scale_y_continuous(trans = 'log2', breaks=c(0.004, 0.03, 0.25,2))+\n",
    "    coord_cartesian(ylim=c(0, 0.3)) +\n",
    "    ylab(expression('k'[bio]*' [RPM/min]'))  +\n",
    "    scale_x_discrete(limits=c(\"shC.mature\", \"sh6.mature\",\"sh11.mature\", \"shC.star\", \"sh6.star\", \"sh11.star\")) +\n",
    "    #scale_x_discrete(limits=c(\"shC.mature\", \"shC.star\", \"sh6.mature\", \"sh6.star\", \"sh11.mature\", \"sh11.star\")) +\n",
    "    geom_col(fill=c(col_shgfp, col_shgfp, col_sh6, col_sh6, col_sh11, col_sh11)) +\n",
    "    geom_errorbar(aes(ymin=kbio-SEM, ymax=kbio+SEM), width=.2, col=c(col_shgfp,  col_shgfp, col_sh6,col_sh6, col_sh11,col_sh11))\n",
    "\n",
    "\n",
    "\n",
    "\n",
    "accu <- ggplot(a, aes(x=sample, y=kaccu)) + \n",
    "    theme_bw(base_size = 42) +\n",
    "    #ggtitle(expression(k[accu])) +\n",
    "    #theme(plot.title = element_text(hjust = '0.5')) +\n",
    "    theme(panel.grid.major = element_blank(), panel.grid.minor = element_blank(),\n",
    "              panel.background = element_blank(), panel.border = element_blank()) +\n",
    "    theme(axis.line = element_line(colour = \"black\", size = 1), \n",
    "              axis.title.x = element_blank(), axis.text.x = element_text(angle = 0, vjust = 0, hjust=0.5, size=25)) +\n",
    "    #scale_y_continuous(limits=c(0,0.07))+#trans = 'log2', breaks=c(0.004, 0.03, 0.25,2))+\n",
    "    coord_cartesian(ylim=c(0, 0.3)) +\n",
    "    ylab(expression('k'[accu]*' [RPM/min]'))  +\n",
    "    scale_x_discrete(limits=c(\"shC.mature\", \"sh6.mature\",\"sh11.mature\", \"shC.star\", \"sh6.star\", \"sh11.star\"),\n",
    "                    labels=c(\"shControl\", \"shINTS6\", \"shINTS11\",\"shControl\", \"shINTS6\", \"shINTS11\")) +\n",
    "    #scale_x_discrete(limits=c(\"shC.mature\", \"shC.star\", \"sh6.mature\", \"sh6.star\", \"sh11.mature\", \"sh11.star\"),\n",
    "    #                labels=c(\"mature\", \"star\", \"mature\", \"star\", \"mature\", \"star\")) +\n",
    "    geom_col(fill=c(col_shgfp, col_shgfp, col_sh6, col_sh6, col_sh11, col_sh11)) +\n",
    "    geom_errorbar(aes(ymin=kaccu-SEM, ymax=kaccu+SEM), width=.2, col=c(col_shgfp,  col_shgfp, col_sh6,col_sh6, col_sh11,col_sh11))\n",
    "\n",
    "options(repr.plot.width=12, repr.plot.height=11)\n",
    "plot_grid(bio, accu, nrow=2, rel_heights=c(1,1))"
   ]
  },
  {
   "cell_type": "markdown",
   "metadata": {},
   "source": [
    "# k(bio) and k(accu) per miRNA and plot boxplot"
   ]
  },
  {
   "cell_type": "code",
   "execution_count": 37,
   "metadata": {},
   "outputs": [
    {
     "data": {
      "text/html": [
       "<table>\n",
       "<caption>A grouped_df: 6 × 4</caption>\n",
       "<thead>\n",
       "\t<tr><th scope=col>arm.name</th><th scope=col>time</th><th scope=col>mir.type</th><th scope=col>avg.tc.ppm</th></tr>\n",
       "\t<tr><th scope=col>&lt;chr&gt;</th><th scope=col>&lt;dbl&gt;</th><th scope=col>&lt;chr&gt;</th><th scope=col>&lt;dbl&gt;</th></tr>\n",
       "</thead>\n",
       "<tbody>\n",
       "\t<tr><td>miR-25-3p</td><td>0.25</td><td>guide</td><td>0.10578792</td></tr>\n",
       "\t<tr><td>miR-25-3p</td><td>0.50</td><td>guide</td><td>0.07345855</td></tr>\n",
       "\t<tr><td>miR-25-3p</td><td>1.00</td><td>guide</td><td>0.23020816</td></tr>\n",
       "\t<tr><td>let-7d-5p</td><td>0.25</td><td>guide</td><td>0.00000000</td></tr>\n",
       "\t<tr><td>let-7d-5p</td><td>0.50</td><td>guide</td><td>0.06343105</td></tr>\n",
       "\t<tr><td>let-7d-5p</td><td>1.00</td><td>guide</td><td>0.14667281</td></tr>\n",
       "</tbody>\n",
       "</table>\n"
      ],
      "text/latex": [
       "A grouped\\_df: 6 × 4\n",
       "\\begin{tabular}{llll}\n",
       " arm.name & time & mir.type & avg.tc.ppm\\\\\n",
       " <chr> & <dbl> & <chr> & <dbl>\\\\\n",
       "\\hline\n",
       "\t miR-25-3p & 0.25 & guide & 0.10578792\\\\\n",
       "\t miR-25-3p & 0.50 & guide & 0.07345855\\\\\n",
       "\t miR-25-3p & 1.00 & guide & 0.23020816\\\\\n",
       "\t let-7d-5p & 0.25 & guide & 0.00000000\\\\\n",
       "\t let-7d-5p & 0.50 & guide & 0.06343105\\\\\n",
       "\t let-7d-5p & 1.00 & guide & 0.14667281\\\\\n",
       "\\end{tabular}\n"
      ],
      "text/markdown": [
       "\n",
       "A grouped_df: 6 × 4\n",
       "\n",
       "| arm.name &lt;chr&gt; | time &lt;dbl&gt; | mir.type &lt;chr&gt; | avg.tc.ppm &lt;dbl&gt; |\n",
       "|---|---|---|---|\n",
       "| miR-25-3p | 0.25 | guide | 0.10578792 |\n",
       "| miR-25-3p | 0.50 | guide | 0.07345855 |\n",
       "| miR-25-3p | 1.00 | guide | 0.23020816 |\n",
       "| let-7d-5p | 0.25 | guide | 0.00000000 |\n",
       "| let-7d-5p | 0.50 | guide | 0.06343105 |\n",
       "| let-7d-5p | 1.00 | guide | 0.14667281 |\n",
       "\n"
      ],
      "text/plain": [
       "  arm.name  time mir.type avg.tc.ppm\n",
       "1 miR-25-3p 0.25 guide    0.10578792\n",
       "2 miR-25-3p 0.50 guide    0.07345855\n",
       "3 miR-25-3p 1.00 guide    0.23020816\n",
       "4 let-7d-5p 0.25 guide    0.00000000\n",
       "5 let-7d-5p 0.50 guide    0.06343105\n",
       "6 let-7d-5p 1.00 guide    0.14667281"
      ]
     },
     "metadata": {},
     "output_type": "display_data"
    },
    {
     "data": {
      "text/html": [
       "<table>\n",
       "<caption>A tibble: 6 × 3</caption>\n",
       "<thead>\n",
       "\t<tr><th scope=col>arm.name</th><th scope=col>k.bio</th><th scope=col>sample</th></tr>\n",
       "\t<tr><th scope=col>&lt;chr&gt;</th><th scope=col>&lt;dbl&gt;</th><th scope=col>&lt;chr&gt;</th></tr>\n",
       "</thead>\n",
       "<tbody>\n",
       "\t<tr><td>let-7d-5p  </td><td> 0.191409426</td><td>shCm</td></tr>\n",
       "\t<tr><td>let-7i-5p  </td><td> 0.039080447</td><td>shCm</td></tr>\n",
       "\t<tr><td>miR-106b-3p</td><td> 0.095798893</td><td>shCm</td></tr>\n",
       "\t<tr><td>miR-130b-3p</td><td>-0.002710209</td><td>shCm</td></tr>\n",
       "\t<tr><td>miR-140-3p </td><td> 0.000000000</td><td>shCm</td></tr>\n",
       "\t<tr><td>miR-151a-3p</td><td> 0.065043915</td><td>shCm</td></tr>\n",
       "</tbody>\n",
       "</table>\n"
      ],
      "text/latex": [
       "A tibble: 6 × 3\n",
       "\\begin{tabular}{lll}\n",
       " arm.name & k.bio & sample\\\\\n",
       " <chr> & <dbl> & <chr>\\\\\n",
       "\\hline\n",
       "\t let-7d-5p   &  0.191409426 & shCm\\\\\n",
       "\t let-7i-5p   &  0.039080447 & shCm\\\\\n",
       "\t miR-106b-3p &  0.095798893 & shCm\\\\\n",
       "\t miR-130b-3p & -0.002710209 & shCm\\\\\n",
       "\t miR-140-3p  &  0.000000000 & shCm\\\\\n",
       "\t miR-151a-3p &  0.065043915 & shCm\\\\\n",
       "\\end{tabular}\n"
      ],
      "text/markdown": [
       "\n",
       "A tibble: 6 × 3\n",
       "\n",
       "| arm.name &lt;chr&gt; | k.bio &lt;dbl&gt; | sample &lt;chr&gt; |\n",
       "|---|---|---|\n",
       "| let-7d-5p   |  0.191409426 | shCm |\n",
       "| let-7i-5p   |  0.039080447 | shCm |\n",
       "| miR-106b-3p |  0.095798893 | shCm |\n",
       "| miR-130b-3p | -0.002710209 | shCm |\n",
       "| miR-140-3p  |  0.000000000 | shCm |\n",
       "| miR-151a-3p |  0.065043915 | shCm |\n",
       "\n"
      ],
      "text/plain": [
       "  arm.name    k.bio        sample\n",
       "1 let-7d-5p    0.191409426 shCm  \n",
       "2 let-7i-5p    0.039080447 shCm  \n",
       "3 miR-106b-3p  0.095798893 shCm  \n",
       "4 miR-130b-3p -0.002710209 shCm  \n",
       "5 miR-140-3p   0.000000000 shCm  \n",
       "6 miR-151a-3p  0.065043915 shCm  "
      ]
     },
     "metadata": {},
     "output_type": "display_data"
    }
   ],
   "source": [
    "head(fits.gfp.bio.mature)\n",
    "\n",
    "box.gfp.bio.mature <- fits.gfp.bio.mature %>%\n",
    "    group_by(arm.name) %>%\n",
    "    do(lm.fit = lm(avg.tc.ppm ~ time, data = .)) %>%\n",
    "    tidy(lm.fit) %>%\n",
    "    filter(term==\"time\") %>%    \n",
    "    ungroup() %>%\n",
    "    select(arm.name, k.bio = estimate) %>%\n",
    "    mutate(sample = \"shCm\")#\"shControl_mature\")\n",
    "\n",
    "head(box.gfp.bio.mature)\n",
    "\n",
    "box.gfp.bio.star <- fits.gfp.bio.star %>%\n",
    "    group_by(arm.name) %>%\n",
    "    do(lm.fit = lm(avg.tc.ppm ~ time, data = .)) %>%\n",
    "    tidy(lm.fit) %>%\n",
    "    filter(term==\"time\") %>%\n",
    "    ungroup() %>%\n",
    "    select(arm.name, k.bio = estimate) %>%\n",
    "    mutate(sample = \"shCs\")#= \"shControl_star\")\n",
    "\n",
    "box.6.bio.mature <- fits.6.bio.mature %>%\n",
    "    group_by(arm.name) %>%\n",
    "    do(lm.fit = lm(avg.tc.ppm ~ time, data = .)) %>%\n",
    "    tidy(lm.fit) %>%\n",
    "    filter(term==\"time\") %>%\n",
    "    ungroup() %>%\n",
    "    select(arm.name, k.bio = estimate) %>%\n",
    "    mutate(sample = \"sh6m\")#= \"shINTS6_mature\")\n",
    "\n",
    "box.6.bio.star <- fits.6.bio.star %>%\n",
    "    group_by(arm.name) %>%\n",
    "    do(lm.fit = lm(avg.tc.ppm ~ time, data = .)) %>%\n",
    "    tidy(lm.fit) %>%\n",
    "    filter(term==\"time\") %>%\n",
    "    ungroup() %>%\n",
    "    select(arm.name, k.bio = estimate) %>%\n",
    "    mutate(sample = \"sh6s\")#= \"shINTS6_star\")\n",
    "\n",
    "box.11.bio.mature <- fits.11.bio.mature %>%\n",
    "    group_by(arm.name) %>%\n",
    "    do(lm.fit = lm(avg.tc.ppm ~ time, data = .)) %>%\n",
    "    tidy(lm.fit) %>%\n",
    "    filter(term==\"time\") %>%\n",
    "    ungroup() %>%\n",
    "    select(arm.name, k.bio = estimate) %>%\n",
    "    mutate(sample = \"sh11m\")#= \"shINTS6_mature\")\n",
    "\n",
    "box.11.bio.star <- fits.11.bio.star %>%\n",
    "    group_by(arm.name) %>%\n",
    "    do(lm.fit = lm(avg.tc.ppm ~ time, data = .)) %>%\n",
    "    tidy(lm.fit) %>%\n",
    "    filter(term==\"time\") %>%\n",
    "    ungroup() %>%\n",
    "    select(arm.name, k.bio = estimate) %>%\n",
    "    mutate(sample = \"sh11s\")#= \"shINTS6_star\")\n",
    "\n",
    "\n",
    "box.bio <- box.gfp.bio.mature %>%\n",
    "    bind_rows(box.gfp.bio.star, box.6.bio.mature, box.6.bio.star, box.11.bio.mature, box.11.bio.star)"
   ]
  },
  {
   "cell_type": "code",
   "execution_count": 38,
   "metadata": {},
   "outputs": [
    {
     "data": {
      "text/html": [
       "20"
      ],
      "text/latex": [
       "20"
      ],
      "text/markdown": [
       "20"
      ],
      "text/plain": [
       "[1] 20"
      ]
     },
     "metadata": {},
     "output_type": "display_data"
    },
    {
     "data": {
      "text/html": [
       "18"
      ],
      "text/latex": [
       "18"
      ],
      "text/markdown": [
       "18"
      ],
      "text/plain": [
       "[1] 18"
      ]
     },
     "metadata": {},
     "output_type": "display_data"
    },
    {
     "data": {
      "text/html": [
       "21"
      ],
      "text/latex": [
       "21"
      ],
      "text/markdown": [
       "21"
      ],
      "text/plain": [
       "[1] 21"
      ]
     },
     "metadata": {},
     "output_type": "display_data"
    },
    {
     "data": {
      "text/html": [
       "23"
      ],
      "text/latex": [
       "23"
      ],
      "text/markdown": [
       "23"
      ],
      "text/plain": [
       "[1] 23"
      ]
     },
     "metadata": {},
     "output_type": "display_data"
    },
    {
     "data": {
      "text/html": [
       "21"
      ],
      "text/latex": [
       "21"
      ],
      "text/markdown": [
       "21"
      ],
      "text/plain": [
       "[1] 21"
      ]
     },
     "metadata": {},
     "output_type": "display_data"
    },
    {
     "data": {
      "text/html": [
       "14"
      ],
      "text/latex": [
       "14"
      ],
      "text/markdown": [
       "14"
      ],
      "text/plain": [
       "[1] 14"
      ]
     },
     "metadata": {},
     "output_type": "display_data"
    }
   ],
   "source": [
    "nrow(box.gfp.bio.mature[box.gfp.bio.mature$k.bio>0,])\n",
    "nrow(box.gfp.bio.star[box.gfp.bio.star$k.bio>0,])\n",
    "nrow(box.6.bio.mature[box.6.bio.mature$k.bio>0,])\n",
    "nrow(box.6.bio.star[box.6.bio.star$k.bio>0,])\n",
    "nrow(box.11.bio.mature[box.11.bio.mature$k.bio>0,])\n",
    "nrow(box.11.bio.star[box.11.bio.star$k.bio>0,])"
   ]
  },
  {
   "cell_type": "code",
   "execution_count": 39,
   "metadata": {},
   "outputs": [
    {
     "data": {
      "text/html": [
       "<table>\n",
       "<caption>A grouped_df: 6 × 4</caption>\n",
       "<thead>\n",
       "\t<tr><th scope=col>arm.name</th><th scope=col>time</th><th scope=col>mir.type</th><th scope=col>avg.tc.ppm</th></tr>\n",
       "\t<tr><th scope=col>&lt;chr&gt;</th><th scope=col>&lt;dbl&gt;</th><th scope=col>&lt;chr&gt;</th><th scope=col>&lt;dbl&gt;</th></tr>\n",
       "</thead>\n",
       "<tbody>\n",
       "\t<tr><td>miR-25-3p</td><td>1</td><td>guide</td><td>0.2302082</td></tr>\n",
       "\t<tr><td>miR-25-3p</td><td>3</td><td>guide</td><td>1.4803791</td></tr>\n",
       "\t<tr><td>miR-25-3p</td><td>6</td><td>guide</td><td>3.4069497</td></tr>\n",
       "\t<tr><td>let-7d-5p</td><td>1</td><td>guide</td><td>0.1466728</td></tr>\n",
       "\t<tr><td>let-7d-5p</td><td>3</td><td>guide</td><td>1.2129480</td></tr>\n",
       "\t<tr><td>let-7d-5p</td><td>6</td><td>guide</td><td>3.4588300</td></tr>\n",
       "</tbody>\n",
       "</table>\n"
      ],
      "text/latex": [
       "A grouped\\_df: 6 × 4\n",
       "\\begin{tabular}{llll}\n",
       " arm.name & time & mir.type & avg.tc.ppm\\\\\n",
       " <chr> & <dbl> & <chr> & <dbl>\\\\\n",
       "\\hline\n",
       "\t miR-25-3p & 1 & guide & 0.2302082\\\\\n",
       "\t miR-25-3p & 3 & guide & 1.4803791\\\\\n",
       "\t miR-25-3p & 6 & guide & 3.4069497\\\\\n",
       "\t let-7d-5p & 1 & guide & 0.1466728\\\\\n",
       "\t let-7d-5p & 3 & guide & 1.2129480\\\\\n",
       "\t let-7d-5p & 6 & guide & 3.4588300\\\\\n",
       "\\end{tabular}\n"
      ],
      "text/markdown": [
       "\n",
       "A grouped_df: 6 × 4\n",
       "\n",
       "| arm.name &lt;chr&gt; | time &lt;dbl&gt; | mir.type &lt;chr&gt; | avg.tc.ppm &lt;dbl&gt; |\n",
       "|---|---|---|---|\n",
       "| miR-25-3p | 1 | guide | 0.2302082 |\n",
       "| miR-25-3p | 3 | guide | 1.4803791 |\n",
       "| miR-25-3p | 6 | guide | 3.4069497 |\n",
       "| let-7d-5p | 1 | guide | 0.1466728 |\n",
       "| let-7d-5p | 3 | guide | 1.2129480 |\n",
       "| let-7d-5p | 6 | guide | 3.4588300 |\n",
       "\n"
      ],
      "text/plain": [
       "  arm.name  time mir.type avg.tc.ppm\n",
       "1 miR-25-3p 1    guide    0.2302082 \n",
       "2 miR-25-3p 3    guide    1.4803791 \n",
       "3 miR-25-3p 6    guide    3.4069497 \n",
       "4 let-7d-5p 1    guide    0.1466728 \n",
       "5 let-7d-5p 3    guide    1.2129480 \n",
       "6 let-7d-5p 6    guide    3.4588300 "
      ]
     },
     "metadata": {},
     "output_type": "display_data"
    },
    {
     "data": {
      "text/html": [
       "<table>\n",
       "<caption>A tibble: 6 × 3</caption>\n",
       "<thead>\n",
       "\t<tr><th scope=col>arm.name</th><th scope=col>k.accu</th><th scope=col>sample</th></tr>\n",
       "\t<tr><th scope=col>&lt;chr&gt;</th><th scope=col>&lt;dbl&gt;</th><th scope=col>&lt;chr&gt;</th></tr>\n",
       "</thead>\n",
       "<tbody>\n",
       "\t<tr><td>let-7d-5p  </td><td>0.66923638</td><td>shCm</td></tr>\n",
       "\t<tr><td>let-7i-5p  </td><td>0.46457142</td><td>shCm</td></tr>\n",
       "\t<tr><td>miR-106b-3p</td><td>0.07099514</td><td>shCm</td></tr>\n",
       "\t<tr><td>miR-130b-3p</td><td>0.03243516</td><td>shCm</td></tr>\n",
       "\t<tr><td>miR-140-3p </td><td>0.05981065</td><td>shCm</td></tr>\n",
       "\t<tr><td>miR-151a-3p</td><td>0.14692436</td><td>shCm</td></tr>\n",
       "</tbody>\n",
       "</table>\n"
      ],
      "text/latex": [
       "A tibble: 6 × 3\n",
       "\\begin{tabular}{lll}\n",
       " arm.name & k.accu & sample\\\\\n",
       " <chr> & <dbl> & <chr>\\\\\n",
       "\\hline\n",
       "\t let-7d-5p   & 0.66923638 & shCm\\\\\n",
       "\t let-7i-5p   & 0.46457142 & shCm\\\\\n",
       "\t miR-106b-3p & 0.07099514 & shCm\\\\\n",
       "\t miR-130b-3p & 0.03243516 & shCm\\\\\n",
       "\t miR-140-3p  & 0.05981065 & shCm\\\\\n",
       "\t miR-151a-3p & 0.14692436 & shCm\\\\\n",
       "\\end{tabular}\n"
      ],
      "text/markdown": [
       "\n",
       "A tibble: 6 × 3\n",
       "\n",
       "| arm.name &lt;chr&gt; | k.accu &lt;dbl&gt; | sample &lt;chr&gt; |\n",
       "|---|---|---|\n",
       "| let-7d-5p   | 0.66923638 | shCm |\n",
       "| let-7i-5p   | 0.46457142 | shCm |\n",
       "| miR-106b-3p | 0.07099514 | shCm |\n",
       "| miR-130b-3p | 0.03243516 | shCm |\n",
       "| miR-140-3p  | 0.05981065 | shCm |\n",
       "| miR-151a-3p | 0.14692436 | shCm |\n",
       "\n"
      ],
      "text/plain": [
       "  arm.name    k.accu     sample\n",
       "1 let-7d-5p   0.66923638 shCm  \n",
       "2 let-7i-5p   0.46457142 shCm  \n",
       "3 miR-106b-3p 0.07099514 shCm  \n",
       "4 miR-130b-3p 0.03243516 shCm  \n",
       "5 miR-140-3p  0.05981065 shCm  \n",
       "6 miR-151a-3p 0.14692436 shCm  "
      ]
     },
     "metadata": {},
     "output_type": "display_data"
    }
   ],
   "source": [
    "head(fits.gfp.accu.mature)\n",
    "\n",
    "box.gfp.accu.mature <- fits.gfp.accu.mature %>%\n",
    "    group_by(arm.name) %>%\n",
    "    do(lm.fit = lm(avg.tc.ppm ~ time, data = .)) %>%\n",
    "    tidy(lm.fit) %>%\n",
    "    filter(term==\"time\") %>%\n",
    "    ungroup() %>%\n",
    "    select(arm.name, k.accu = estimate) %>%\n",
    "    mutate(sample = \"shCm\")#= \"shControl_mature\")\n",
    "\n",
    "head(box.gfp.accu.mature)\n",
    "\n",
    "box.gfp.accu.star <- fits.gfp.accu.star %>%\n",
    "    group_by(arm.name) %>%\n",
    "    do(lm.fit = lm(avg.tc.ppm ~ time, data = .)) %>%\n",
    "    tidy(lm.fit) %>%\n",
    "    filter(term==\"time\") %>%\n",
    "    ungroup() %>%\n",
    "    select(arm.name, k.accu = estimate) %>%\n",
    "    mutate(sample = \"shCs\")#= \"shControl_star\")\n",
    "\n",
    "box.6.accu.mature <- fits.6.accu.mature %>%\n",
    "    group_by(arm.name) %>%\n",
    "    do(lm.fit = lm(avg.tc.ppm ~ time, data = .)) %>%\n",
    "    tidy(lm.fit) %>%\n",
    "    filter(term==\"time\") %>%\n",
    "    ungroup() %>%\n",
    "    select(arm.name, k.accu = estimate) %>%\n",
    "    mutate(sample = \"sh6m\")#= \"shINTS6_mature\")\n",
    "\n",
    "box.6.accu.star <- fits.6.accu.star %>%\n",
    "    group_by(arm.name) %>%\n",
    "    do(lm.fit = lm(avg.tc.ppm ~ time, data = .)) %>%\n",
    "    tidy(lm.fit) %>%\n",
    "    filter(term==\"time\") %>%\n",
    "    ungroup() %>%\n",
    "    select(arm.name, k.accu = estimate) %>%\n",
    "    mutate(sample = \"sh6s\")#= \"shINTS6_star\")\n",
    "\n",
    "box.11.accu.mature <- fits.11.accu.mature %>%\n",
    "    group_by(arm.name) %>%\n",
    "    do(lm.fit = lm(avg.tc.ppm ~ time, data = .)) %>%\n",
    "    tidy(lm.fit) %>%\n",
    "    filter(term==\"time\") %>%\n",
    "    ungroup() %>%\n",
    "    select(arm.name, k.accu = estimate) %>%\n",
    "    mutate(sample = \"sh11m\")#= \"shINTS6_mature\")\n",
    "\n",
    "box.11.accu.star <- fits.11.accu.star %>%\n",
    "    group_by(arm.name) %>%\n",
    "    do(lm.fit = lm(avg.tc.ppm ~ time, data = .)) %>%\n",
    "    tidy(lm.fit) %>%\n",
    "    filter(term==\"time\") %>%\n",
    "    ungroup() %>%\n",
    "    select(arm.name, k.accu = estimate) %>%\n",
    "    mutate(sample = \"sh11s\")#= \"shINTS6_star\")\n",
    "\n",
    "box.accu <- box.gfp.accu.mature %>%\n",
    "    bind_rows(box.gfp.accu.star, box.6.accu.mature, box.6.accu.star, box.11.accu.mature, box.11.accu.star)"
   ]
  },
  {
   "cell_type": "code",
   "execution_count": 40,
   "metadata": {},
   "outputs": [
    {
     "data": {
      "text/html": [
       "31"
      ],
      "text/latex": [
       "31"
      ],
      "text/markdown": [
       "31"
      ],
      "text/plain": [
       "[1] 31"
      ]
     },
     "metadata": {},
     "output_type": "display_data"
    },
    {
     "data": {
      "text/html": [
       "29"
      ],
      "text/latex": [
       "29"
      ],
      "text/markdown": [
       "29"
      ],
      "text/plain": [
       "[1] 29"
      ]
     },
     "metadata": {},
     "output_type": "display_data"
    },
    {
     "data": {
      "text/html": [
       "30"
      ],
      "text/latex": [
       "30"
      ],
      "text/markdown": [
       "30"
      ],
      "text/plain": [
       "[1] 30"
      ]
     },
     "metadata": {},
     "output_type": "display_data"
    },
    {
     "data": {
      "text/html": [
       "26"
      ],
      "text/latex": [
       "26"
      ],
      "text/markdown": [
       "26"
      ],
      "text/plain": [
       "[1] 26"
      ]
     },
     "metadata": {},
     "output_type": "display_data"
    },
    {
     "data": {
      "text/html": [
       "25"
      ],
      "text/latex": [
       "25"
      ],
      "text/markdown": [
       "25"
      ],
      "text/plain": [
       "[1] 25"
      ]
     },
     "metadata": {},
     "output_type": "display_data"
    },
    {
     "data": {
      "text/html": [
       "21"
      ],
      "text/latex": [
       "21"
      ],
      "text/markdown": [
       "21"
      ],
      "text/plain": [
       "[1] 21"
      ]
     },
     "metadata": {},
     "output_type": "display_data"
    },
    {
     "data": {
      "text/html": [
       "0.177265368250176"
      ],
      "text/latex": [
       "0.177265368250176"
      ],
      "text/markdown": [
       "0.177265368250176"
      ],
      "text/plain": [
       "[1] 0.1772654"
      ]
     },
     "metadata": {},
     "output_type": "display_data"
    },
    {
     "data": {
      "text/html": [
       "0.0397792040263893"
      ],
      "text/latex": [
       "0.0397792040263893"
      ],
      "text/markdown": [
       "0.0397792040263893"
      ],
      "text/plain": [
       "[1] 0.0397792"
      ]
     },
     "metadata": {},
     "output_type": "display_data"
    },
    {
     "data": {
      "text/html": [
       "0.0724022038379871"
      ],
      "text/latex": [
       "0.0724022038379871"
      ],
      "text/markdown": [
       "0.0724022038379871"
      ],
      "text/plain": [
       "[1] 0.0724022"
      ]
     },
     "metadata": {},
     "output_type": "display_data"
    },
    {
     "data": {
      "text/html": [
       "0.0381524060528265"
      ],
      "text/latex": [
       "0.0381524060528265"
      ],
      "text/markdown": [
       "0.0381524060528265"
      ],
      "text/plain": [
       "[1] 0.03815241"
      ]
     },
     "metadata": {},
     "output_type": "display_data"
    },
    {
     "data": {
      "text/html": [
       "0.0147396451292936"
      ],
      "text/latex": [
       "0.0147396451292936"
      ],
      "text/markdown": [
       "0.0147396451292936"
      ],
      "text/plain": [
       "[1] 0.01473965"
      ]
     },
     "metadata": {},
     "output_type": "display_data"
    },
    {
     "data": {
      "text/html": [
       "0.0133072959004117"
      ],
      "text/latex": [
       "0.0133072959004117"
      ],
      "text/markdown": [
       "0.0133072959004117"
      ],
      "text/plain": [
       "[1] 0.0133073"
      ]
     },
     "metadata": {},
     "output_type": "display_data"
    }
   ],
   "source": [
    "nrow(box.gfp.accu.mature[box.gfp.accu.mature$k.accu>0,])\n",
    "nrow(box.gfp.accu.star[box.gfp.accu.star$k.accu>0,])\n",
    "nrow(box.6.accu.mature[box.6.accu.mature$k.accu>0,])\n",
    "nrow(box.6.accu.star[box.6.accu.star$k.accu>0,])\n",
    "nrow(box.11.accu.mature[box.11.accu.mature$k.accu>0,])\n",
    "nrow(box.11.accu.star[box.11.accu.star$k.accu>0,])\n",
    "\n",
    "mean(box.gfp.accu.mature$k.accu)\n",
    "mean(box.gfp.accu.star$k.accu)\n",
    "mean(box.6.accu.mature$k.accu)\n",
    "mean(box.6.accu.star$k.accu) # yeah!\n",
    "mean(box.11.accu.mature$k.accu)\n",
    "mean(box.11.accu.star$k.accu) # yeah!"
   ]
  },
  {
   "cell_type": "code",
   "execution_count": 41,
   "metadata": {},
   "outputs": [],
   "source": [
    "test.bio <- as.data.frame(box.bio)\n",
    "test.bio <- test.bio[test.bio$k.bio>0,]\n",
    "\n",
    "test.accu <- as.data.frame(box.accu)\n",
    "test.accu <- test.accu[test.accu$k.accu>0,]"
   ]
  },
  {
   "cell_type": "code",
   "execution_count": 98,
   "metadata": {},
   "outputs": [
    {
     "data": {
      "image/png": "[encoded data removed]",
      "text/plain": [
       "plot without title"
      ]
     },
     "metadata": {
      "image/png": {
       "height": 660,
       "width": 720
      },
      "text/plain": {
       "height": 660,
       "width": 720
      }
     },
     "output_type": "display_data"
    }
   ],
   "source": [
    "options(repr.plot.width=10, repr.plot.height=5)\n",
    "\n",
    "bio <- ggplot(test.bio, aes(x=sample, y=k.bio)) + \n",
    "    theme_bw(base_size = 42) +\n",
    "    ggtitle(expression(k[bio])) +\n",
    "    theme(plot.title = element_text(hjust = '0.5', size=50)) +\n",
    "    theme(panel.grid.major = element_blank(), panel.grid.minor = element_blank(),\n",
    "              panel.background = element_blank(), panel.border = element_blank()) +\n",
    "    theme(axis.line = element_line(colour = \"black\", size = 1), \n",
    "              axis.title.x = element_blank(), axis.text.x = element_blank()) +\n",
    "    scale_y_continuous(trans = 'log2', breaks=c(0.004, 0.03, 0.25,2))+\n",
    "    coord_cartesian(ylim=c(0.001, 1.5)) +\n",
    "    ylab(expression('k'[bio]*' [RPM/min]'))  +\n",
    "    scale_x_discrete(limits=c(\"shCm\", \"sh6m\",\"sh11m\", \"shCs\", \"sh6s\", \"sh11s\")) +\n",
    "    geom_boxplot(notch=FALSE,outlier.shape=NA, fill=c(col_shgfp,col_sh6,col_sh11, col_shgfp, col_sh6, col_sh11)) +\n",
    "    #geom_dotplot(binaxis = \"y\", stackdir = \"center\", position = \"dodge\", binwidth = 0.004, alpha=0.2)+\n",
    "    stat_summary(fun=mean, colour=\"black\", fill=\"white\", geom=\"point\", \n",
    "                     shape=21, size=4,show.legend = FALSE)\n",
    "\n",
    "accu <- ggplot(test.accu, aes(x=sample, y=k.accu)) + \n",
    "    theme_bw(base_size = 42) +\n",
    "    #ggtitle(expression(k[accu])) +\n",
    "    #theme(plot.title = element_text(hjust = '0.5', size=50)) +\n",
    "    theme(panel.grid.major = element_blank(), panel.grid.minor = element_blank(),\n",
    "              panel.background = element_blank(), panel.border = element_blank()) +\n",
    "    theme(axis.line = element_line(colour = \"black\", size = 1), \n",
    "              axis.title.x = element_blank(), axis.text.x = element_text(angle = 0, vjust = 0, hjust=0.5)) +\n",
    "    scale_y_continuous(trans = 'log2', breaks=c(0.004, 0.03, 0.25,2)) + # if I add limits here, it will alter the data\n",
    "    coord_cartesian(ylim=c(0.001,1.5)) + # add limits here, it will keep the data but cut the window\n",
    "    ylab(expression('k'[acuu]*' [RPM/min]'))  +\n",
    "    scale_x_discrete(limits=c(\"shCm\", \"sh6m\", \"sh11m\", \"shCs\", \"sh6s\", \"sh11s\")) +\n",
    "    geom_boxplot(notch=FALSE,outlier.shape=NA, fill=c(col_shgfp,col_sh6,col_sh11, col_shgfp, col_sh6,col_sh11)) +\n",
    "    #geom_dotplot(binaxis = \"y\", stackdir = \"center\", position = \"dodge\", binwidth = 0.001) \n",
    "    stat_summary(fun=mean, colour=\"black\", fill=\"white\", geom=\"point\", \n",
    "                     shape=21, size=4,show.legend = FALSE)\n",
    "\n",
    "\n",
    "options(repr.plot.width=12, repr.plot.height=11)\n",
    "plot_grid(bio, accu, nrow=2, rel_heights=c(1,1))"
   ]
  },
  {
   "cell_type": "markdown",
   "metadata": {},
   "source": [
    "## stats kbio"
   ]
  },
  {
   "cell_type": "code",
   "execution_count": 42,
   "metadata": {},
   "outputs": [
    {
     "data": {
      "text/html": [
       "<table>\n",
       "<caption>A data.frame: 6 × 3</caption>\n",
       "<thead>\n",
       "\t<tr><th></th><th scope=col>arm.name</th><th scope=col>k.bio</th><th scope=col>sample</th></tr>\n",
       "\t<tr><th></th><th scope=col>&lt;chr&gt;</th><th scope=col>&lt;dbl&gt;</th><th scope=col>&lt;chr&gt;</th></tr>\n",
       "</thead>\n",
       "<tbody>\n",
       "\t<tr><th scope=row>1</th><td>let-7d-5p  </td><td>0.19140943</td><td>shCm</td></tr>\n",
       "\t<tr><th scope=row>2</th><td>let-7i-5p  </td><td>0.03908045</td><td>shCm</td></tr>\n",
       "\t<tr><th scope=row>3</th><td>miR-106b-3p</td><td>0.09579889</td><td>shCm</td></tr>\n",
       "\t<tr><th scope=row>6</th><td>miR-151a-3p</td><td>0.06504392</td><td>shCm</td></tr>\n",
       "\t<tr><th scope=row>7</th><td>miR-15b-3p </td><td>0.10288146</td><td>shCm</td></tr>\n",
       "\t<tr><th scope=row>8</th><td>miR-17-5p  </td><td>0.06579200</td><td>shCm</td></tr>\n",
       "</tbody>\n",
       "</table>\n"
      ],
      "text/latex": [
       "A data.frame: 6 × 3\n",
       "\\begin{tabular}{r|lll}\n",
       "  & arm.name & k.bio & sample\\\\\n",
       "  & <chr> & <dbl> & <chr>\\\\\n",
       "\\hline\n",
       "\t1 & let-7d-5p   & 0.19140943 & shCm\\\\\n",
       "\t2 & let-7i-5p   & 0.03908045 & shCm\\\\\n",
       "\t3 & miR-106b-3p & 0.09579889 & shCm\\\\\n",
       "\t6 & miR-151a-3p & 0.06504392 & shCm\\\\\n",
       "\t7 & miR-15b-3p  & 0.10288146 & shCm\\\\\n",
       "\t8 & miR-17-5p   & 0.06579200 & shCm\\\\\n",
       "\\end{tabular}\n"
      ],
      "text/markdown": [
       "\n",
       "A data.frame: 6 × 3\n",
       "\n",
       "| <!--/--> | arm.name &lt;chr&gt; | k.bio &lt;dbl&gt; | sample &lt;chr&gt; |\n",
       "|---|---|---|---|\n",
       "| 1 | let-7d-5p   | 0.19140943 | shCm |\n",
       "| 2 | let-7i-5p   | 0.03908045 | shCm |\n",
       "| 3 | miR-106b-3p | 0.09579889 | shCm |\n",
       "| 6 | miR-151a-3p | 0.06504392 | shCm |\n",
       "| 7 | miR-15b-3p  | 0.10288146 | shCm |\n",
       "| 8 | miR-17-5p   | 0.06579200 | shCm |\n",
       "\n"
      ],
      "text/plain": [
       "  arm.name    k.bio      sample\n",
       "1 let-7d-5p   0.19140943 shCm  \n",
       "2 let-7i-5p   0.03908045 shCm  \n",
       "3 miR-106b-3p 0.09579889 shCm  \n",
       "6 miR-151a-3p 0.06504392 shCm  \n",
       "7 miR-15b-3p  0.10288146 shCm  \n",
       "8 miR-17-5p   0.06579200 shCm  "
      ]
     },
     "metadata": {},
     "output_type": "display_data"
    }
   ],
   "source": [
    "head(test.bio)"
   ]
  },
  {
   "cell_type": "code",
   "execution_count": 43,
   "metadata": {},
   "outputs": [
    {
     "data": {
      "text/plain": [
       "             Df Sum Sq Mean Sq F value Pr(>F)\n",
       "sample        5   0.43 0.08598   0.624  0.682\n",
       "Residuals   111  15.30 0.13784               "
      ]
     },
     "metadata": {},
     "output_type": "display_data"
    },
    {
     "data": {
      "text/plain": [
       "  Tukey multiple comparisons of means\n",
       "    95% family-wise confidence level\n",
       "\n",
       "Fit: aov(formula = k.bio ~ sample, data = test.bio)\n",
       "\n",
       "$sample\n",
       "                    diff        lwr       upr     p adj\n",
       "sh11s-sh11m  0.085054417 -0.2864508 0.4565597 0.9854683\n",
       "sh6m-sh11m   0.061066507 -0.2712179 0.3933509 0.9947099\n",
       "sh6s-sh11m   0.188864976 -0.1361156 0.5138455 0.5442758\n",
       "shCm-sh11m   0.052583470 -0.2838289 0.3889958 0.9975380\n",
       "shCs-sh11m   0.079277921 -0.2665747 0.4251305 0.9853883\n",
       "sh6m-sh11s  -0.023987910 -0.3954932 0.3475174 0.9999673\n",
       "sh6s-sh11s   0.103810559 -0.2611766 0.4687977 0.9623409\n",
       "shCm-sh11s  -0.032470948 -0.4076729 0.3427310 0.9998610\n",
       "shCs-sh11s  -0.005776496 -0.3894655 0.3779125 1.0000000\n",
       "sh6s-sh6m    0.127798469 -0.1971821 0.4527790 0.8633530\n",
       "shCm-sh6m   -0.008483038 -0.3448954 0.3279293 0.9999997\n",
       "shCs-sh6m    0.018211414 -0.3276412 0.3640640 0.9999881\n",
       "shCm-sh6s   -0.136281507 -0.4654816 0.1929186 0.8357223\n",
       "shCs-sh6s   -0.109587055 -0.4484284 0.2292543 0.9357590\n",
       "shCs-shCm    0.026694451 -0.3231260 0.3765149 0.9999253\n"
      ]
     },
     "metadata": {},
     "output_type": "display_data"
    }
   ],
   "source": [
    "# Compute the analysis of variance\n",
    "res.aov <- aov(k.bio ~ sample, data = test.bio)\n",
    "# Summary of the analysis\n",
    "summary(res.aov)\n",
    "\n",
    "TukeyHSD(res.aov)"
   ]
  },
  {
   "cell_type": "markdown",
   "metadata": {},
   "source": [
    "## stats kaccu"
   ]
  },
  {
   "cell_type": "code",
   "execution_count": 44,
   "metadata": {},
   "outputs": [
    {
     "data": {
      "text/plain": [
       "             Df Sum Sq Mean Sq F value   Pr(>F)    \n",
       "sample        5  0.512 0.10245   4.779 0.000431 ***\n",
       "Residuals   156  3.344 0.02144                     \n",
       "---\n",
       "Signif. codes:  0 ‘***’ 0.001 ‘**’ 0.01 ‘*’ 0.05 ‘.’ 0.1 ‘ ’ 1"
      ]
     },
     "metadata": {},
     "output_type": "display_data"
    },
    {
     "data": {
      "text/plain": [
       "  Tukey multiple comparisons of means\n",
       "    95% family-wise confidence level\n",
       "\n",
       "Fit: aov(formula = k.accu ~ sample, data = test.accu)\n",
       "\n",
       "$sample\n",
       "                    diff         lwr         upr     p adj\n",
       "sh11s-sh11m  0.001374029 -0.12368038  0.12642844 1.0000000\n",
       "sh6m-sh11m   0.056121911 -0.05828452  0.17052834 0.7176342\n",
       "sh6s-sh11m   0.026940740 -0.09139833  0.14527981 0.9862461\n",
       "shCm-sh11m   0.158557494  0.04499291  0.27212207 0.0012111\n",
       "shCs-sh11m   0.023833295 -0.09146625  0.13913284 0.9911472\n",
       "sh6m-sh11s   0.054747882 -0.06545491  0.17495067 0.7768124\n",
       "sh6s-sh11s   0.025566711 -0.09838495  0.14951837 0.9912344\n",
       "shCm-sh11s   0.157183465  0.03778165  0.27658528 0.0028133\n",
       "shCs-sh11s   0.022459266 -0.09859388  0.14351241 0.9946398\n",
       "sh6s-sh6m   -0.029181171 -0.14238118  0.08401883 0.9760582\n",
       "shCm-sh6m    0.102435583 -0.00576340  0.21063457 0.0747647\n",
       "shCs-sh6m   -0.032288616 -0.14230722  0.07772998 0.9581180\n",
       "shCm-sh6s    0.131616754  0.01926764  0.24396587 0.0115887\n",
       "shCs-sh6s   -0.003107445 -0.11721001  0.11099512 0.9999996\n",
       "shCs-shCm   -0.134724199 -0.24386711 -0.02558129 0.0063906\n"
      ]
     },
     "metadata": {},
     "output_type": "display_data"
    }
   ],
   "source": [
    "# Compute the analysis of variance\n",
    "res.aov <- aov(k.accu ~ sample, data = test.accu)\n",
    "# Summary of the analysis\n",
    "summary(res.aov)\n",
    "\n",
    "TukeyHSD(res.aov)"
   ]
  },
  {
   "cell_type": "code",
   "execution_count": null,
   "metadata": {},
   "outputs": [],
   "source": []
  }
 ],
 "metadata": {
  "kernelspec": {
   "display_name": "R",
   "language": "R",
   "name": "ir"
  },
  "language_info": {
   "codemirror_mode": "r",
   "file_extension": ".r",
   "mimetype": "text/x-r-source",
   "name": "R",
   "pygments_lexer": "r",
   "version": "3.6.1"
  }
 },
 "nbformat": 4,
 "nbformat_minor": 4
}
