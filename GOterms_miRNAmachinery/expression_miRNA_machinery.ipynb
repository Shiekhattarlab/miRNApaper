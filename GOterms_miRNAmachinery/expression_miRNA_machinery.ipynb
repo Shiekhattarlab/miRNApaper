{
 "cells": [
  {
   "cell_type": "markdown",
   "metadata": {},
   "source": [
    "# expression miRNA machinery"
   ]
  },
  {
   "cell_type": "markdown",
   "metadata": {},
   "source": [
    "## Rsem followed by Deseq2\n",
    "#### Log2FC result represented in heatmap"
   ]
  },
  {
   "cell_type": "code",
   "execution_count": 1,
   "metadata": {},
   "outputs": [
    {
     "name": "stderr",
     "output_type": "stream",
     "text": [
      "Loading required package: magrittr\n",
      "\n",
      "\n",
      "Attaching package: ‘gplots’\n",
      "\n",
      "\n",
      "The following object is masked from ‘package:stats’:\n",
      "\n",
      "    lowess\n",
      "\n",
      "\n",
      "Loading required package: viridisLite\n",
      "\n",
      "── \u001b[1mAttaching packages\u001b[22m ─────────────────────────────────────── tidyverse 1.3.0 ──\n",
      "\n",
      "\u001b[32m✔\u001b[39m \u001b[34mtibble \u001b[39m 3.0.1     \u001b[32m✔\u001b[39m \u001b[34mpurrr  \u001b[39m 0.3.3\n",
      "\u001b[32m✔\u001b[39m \u001b[34mtidyr  \u001b[39m 1.0.2     \u001b[32m✔\u001b[39m \u001b[34mdplyr  \u001b[39m 0.8.5\n",
      "\u001b[32m✔\u001b[39m \u001b[34mreadr  \u001b[39m 1.3.1     \u001b[32m✔\u001b[39m \u001b[34mforcats\u001b[39m 0.4.0\n",
      "\n",
      "── \u001b[1mConflicts\u001b[22m ────────────────────────────────────────── tidyverse_conflicts() ──\n",
      "\u001b[31m✖\u001b[39m \u001b[34mtidyr\u001b[39m::\u001b[32mextract()\u001b[39m   masks \u001b[34mmagrittr\u001b[39m::extract()\n",
      "\u001b[31m✖\u001b[39m \u001b[34mdplyr\u001b[39m::\u001b[32mfilter()\u001b[39m    masks \u001b[34mstats\u001b[39m::filter()\n",
      "\u001b[31m✖\u001b[39m \u001b[34mdplyr\u001b[39m::\u001b[32mlag()\u001b[39m       masks \u001b[34mstats\u001b[39m::lag()\n",
      "\u001b[31m✖\u001b[39m \u001b[34mpurrr\u001b[39m::\u001b[32mset_names()\u001b[39m masks \u001b[34mmagrittr\u001b[39m::set_names()\n",
      "\n",
      "Loading required package: S4Vectors\n",
      "\n",
      "Loading required package: stats4\n",
      "\n",
      "Loading required package: BiocGenerics\n",
      "\n",
      "Loading required package: parallel\n",
      "\n",
      "\n",
      "Attaching package: ‘BiocGenerics’\n",
      "\n",
      "\n",
      "The following objects are masked from ‘package:parallel’:\n",
      "\n",
      "    clusterApply, clusterApplyLB, clusterCall, clusterEvalQ,\n",
      "    clusterExport, clusterMap, parApply, parCapply, parLapply,\n",
      "    parLapplyLB, parRapply, parSapply, parSapplyLB\n",
      "\n",
      "\n",
      "The following objects are masked from ‘package:dplyr’:\n",
      "\n",
      "    combine, intersect, setdiff, union\n",
      "\n",
      "\n",
      "The following objects are masked from ‘package:stats’:\n",
      "\n",
      "    IQR, mad, sd, var, xtabs\n",
      "\n",
      "\n",
      "The following objects are masked from ‘package:base’:\n",
      "\n",
      "    anyDuplicated, append, as.data.frame, basename, cbind, colnames,\n",
      "    dirname, do.call, duplicated, eval, evalq, Filter, Find, get, grep,\n",
      "    grepl, intersect, is.unsorted, lapply, Map, mapply, match, mget,\n",
      "    order, paste, pmax, pmax.int, pmin, pmin.int, Position, rank,\n",
      "    rbind, Reduce, rownames, sapply, setdiff, sort, table, tapply,\n",
      "    union, unique, unsplit, which, which.max, which.min\n",
      "\n",
      "\n",
      "\n",
      "Attaching package: ‘S4Vectors’\n",
      "\n",
      "\n",
      "The following objects are masked from ‘package:dplyr’:\n",
      "\n",
      "    first, rename\n",
      "\n",
      "\n",
      "The following object is masked from ‘package:tidyr’:\n",
      "\n",
      "    expand\n",
      "\n",
      "\n",
      "The following object is masked from ‘package:gplots’:\n",
      "\n",
      "    space\n",
      "\n",
      "\n",
      "The following object is masked from ‘package:base’:\n",
      "\n",
      "    expand.grid\n",
      "\n",
      "\n",
      "Loading required package: IRanges\n",
      "\n",
      "\n",
      "Attaching package: ‘IRanges’\n",
      "\n",
      "\n",
      "The following objects are masked from ‘package:dplyr’:\n",
      "\n",
      "    collapse, desc, slice\n",
      "\n",
      "\n",
      "The following object is masked from ‘package:purrr’:\n",
      "\n",
      "    reduce\n",
      "\n",
      "\n",
      "Loading required package: GenomicRanges\n",
      "\n",
      "Loading required package: GenomeInfoDb\n",
      "\n",
      "Loading required package: SummarizedExperiment\n",
      "\n",
      "Loading required package: Biobase\n",
      "\n",
      "Welcome to Bioconductor\n",
      "\n",
      "    Vignettes contain introductory material; view with\n",
      "    'browseVignettes()'. To cite Bioconductor, see\n",
      "    'citation(\"Biobase\")', and for packages 'citation(\"pkgname\")'.\n",
      "\n",
      "\n",
      "Loading required package: DelayedArray\n",
      "\n",
      "Loading required package: matrixStats\n",
      "\n",
      "\n",
      "Attaching package: ‘matrixStats’\n",
      "\n",
      "\n",
      "The following objects are masked from ‘package:Biobase’:\n",
      "\n",
      "    anyMissing, rowMedians\n",
      "\n",
      "\n",
      "The following object is masked from ‘package:dplyr’:\n",
      "\n",
      "    count\n",
      "\n",
      "\n",
      "Loading required package: BiocParallel\n",
      "\n",
      "\n",
      "Attaching package: ‘DelayedArray’\n",
      "\n",
      "\n",
      "The following objects are masked from ‘package:matrixStats’:\n",
      "\n",
      "    colMaxs, colMins, colRanges, rowMaxs, rowMins, rowRanges\n",
      "\n",
      "\n",
      "The following object is masked from ‘package:purrr’:\n",
      "\n",
      "    simplify\n",
      "\n",
      "\n",
      "The following objects are masked from ‘package:base’:\n",
      "\n",
      "    aperm, apply, rowsum\n",
      "\n",
      "\n",
      "Loading required package: MASS\n",
      "\n",
      "\n",
      "Attaching package: ‘MASS’\n",
      "\n",
      "\n",
      "The following object is masked from ‘package:dplyr’:\n",
      "\n",
      "    select\n",
      "\n",
      "\n",
      "Registered S3 method overwritten by 'eulerr':\n",
      "  method    from  \n",
      "  plot.venn gplots\n",
      "\n",
      "\n",
      "Attaching package: ‘eulerr’\n",
      "\n",
      "\n",
      "The following object is masked from ‘package:gplots’:\n",
      "\n",
      "    venn\n",
      "\n",
      "\n",
      "Loading required package: grid\n",
      "\n",
      "========================================\n",
      "ComplexHeatmap version 2.2.0\n",
      "Bioconductor page: http://bioconductor.org/packages/ComplexHeatmap/\n",
      "Github page: https://github.com/jokergoo/ComplexHeatmap\n",
      "Documentation: http://jokergoo.github.io/ComplexHeatmap-reference\n",
      "\n",
      "If you use it in published research, please cite:\n",
      "Gu, Z. Complex heatmaps reveal patterns and correlations in multidimensional \n",
      "  genomic data. Bioinformatics 2016.\n",
      "========================================\n",
      "\n",
      "\n",
      "\n",
      "Attaching package: ‘data.table’\n",
      "\n",
      "\n",
      "The following object is masked from ‘package:SummarizedExperiment’:\n",
      "\n",
      "    shift\n",
      "\n",
      "\n",
      "The following object is masked from ‘package:GenomicRanges’:\n",
      "\n",
      "    shift\n",
      "\n",
      "\n",
      "The following object is masked from ‘package:IRanges’:\n",
      "\n",
      "    shift\n",
      "\n",
      "\n",
      "The following objects are masked from ‘package:S4Vectors’:\n",
      "\n",
      "    first, second\n",
      "\n",
      "\n",
      "The following objects are masked from ‘package:dplyr’:\n",
      "\n",
      "    between, first, last\n",
      "\n",
      "\n",
      "The following object is masked from ‘package:purrr’:\n",
      "\n",
      "    transpose\n",
      "\n",
      "\n",
      "\n",
      "********************************************************\n",
      "\n",
      "Note: As of version 1.0.0, cowplot does not change the\n",
      "\n",
      "  default ggplot2 theme anymore. To recover the previous\n",
      "\n",
      "  behavior, execute:\n",
      "  theme_set(theme_cowplot())\n",
      "\n",
      "********************************************************\n",
      "\n",
      "\n",
      "\n",
      "Attaching package: ‘cowplot’\n",
      "\n",
      "\n",
      "The following object is masked from ‘package:ggpubr’:\n",
      "\n",
      "    get_legend\n",
      "\n",
      "\n"
     ]
    }
   ],
   "source": [
    "library(\"ggplot2\")\n",
    "library(\"ggpubr\")\n",
    "library(\"stringr\")\n",
    "library(\"gplots\")\n",
    "library(\"viridis\")\n",
    "#library(\"VennDiagram\")\n",
    "library(\"preprocessCore\")\n",
    "library(tidyverse)\n",
    "\n",
    "\n",
    "library(DESeq2)\n",
    "\n",
    "#citation(\"DESeq2\")\n",
    "library(calibrate)\n",
    "library(eulerr)\n",
    "library(cluster)\n",
    "library(ComplexHeatmap)\n",
    "#library(data.table)\n",
    "library(nortest)\n",
    "library(RColorBrewer)\n",
    "library(dplyr)\n",
    "library(data.table)\n",
    "library(cowplot)"
   ]
  },
  {
   "cell_type": "code",
   "execution_count": 2,
   "metadata": {},
   "outputs": [],
   "source": [
    "#citation('ggplot2')"
   ]
  },
  {
   "cell_type": "code",
   "execution_count": 3,
   "metadata": {},
   "outputs": [],
   "source": [
    "rm(list=ls())\n",
    "options(repr.matrix.max.rows=600, repr.matrix.max.cols=200)\n",
    "options(stringsAsFactors = FALSE)\n"
   ]
  },
  {
   "cell_type": "code",
   "execution_count": 4,
   "metadata": {},
   "outputs": [],
   "source": [
    "col_shgfp <- \"gray30\"\n",
    "col_sh1 <- '#9E0142'\n",
    "col_sh3 <- '#E55649'\n",
    "col_sh6 <- '#FDAE61'\n",
    "col_sh7 <- '#FEE08B'\n",
    "col_sh11 <- '#3288BD'\n",
    "col_drosha <- \"#66C2A5\"\n",
    "col_wt <- '#60258a'\n",
    "col_eq <- '#4957A4'"
   ]
  },
  {
   "cell_type": "markdown",
   "metadata": {},
   "source": [
    "## files"
   ]
  },
  {
   "cell_type": "markdown",
   "metadata": {},
   "source": [
    "### read files: consider only \"dox\" samples\n",
    "#### rsem output after hg19 mapping"
   ]
  },
  {
   "cell_type": "markdown",
   "metadata": {},
   "source": [
    "##### shINTS"
   ]
  },
  {
   "cell_type": "code",
   "execution_count": 5,
   "metadata": {},
   "outputs": [],
   "source": [
    "hela_shgfp_dox_r1 <- read.delim(\"hela_shgfp_dox_r1.genes.results\", header=TRUE, sep=\"\\t\")\n",
    "hela_shgfp_dox_r2 <- read.delim(\"hela_shgfp_dox_r2.genes.results\", header=TRUE, sep=\"\\t\")\n",
    "\n",
    "hela_shints1_dox_r1 <- read.delim(\"hela_shints1_dox_r1.genes.results\", header=TRUE, sep=\"\\t\")\n",
    "hela_shints1_dox_r2 <- read.delim(\"hela_shints1_dox_r2.genes.results\", header=TRUE, sep=\"\\t\")\n",
    "\n",
    "hela_shint3_dox_r1 <- read.delim(\"hela_shints3_dox_r1.genes.results\", header=TRUE, sep=\"\\t\")\n",
    "hela_shint3_dox_r2 <- read.delim(\"hela_shints3_dox_r2.genes.results\", header=TRUE, sep=\"\\t\")\n",
    "\n",
    "hela_shint7_dox_r1 <- read.delim(\"hela_shints7_dox_r1.genes.results\", header=TRUE, sep=\"\\t\")\n",
    "hela_shint7_dox_r2 <- read.delim(\"hela_shints7_dox_r2.genes.results\", header=TRUE, sep=\"\\t\")\n",
    "\n",
    "hela_shints11_dox_r1 <- read.delim(\"hela_shints11_dox_r1.genes.results\", header=TRUE, sep=\"\\t\")\n",
    "hela_shints11_dox_r2 <- read.delim(\"hela_shints11_dox_r2.genes.results\", header=TRUE, sep=\"\\t\")\n"
   ]
  },
  {
   "cell_type": "markdown",
   "metadata": {},
   "source": [
    "##### shINTS6"
   ]
  },
  {
   "cell_type": "code",
   "execution_count": 6,
   "metadata": {},
   "outputs": [],
   "source": [
    "hela3_shgfp_dox_r1 <- read.delim(\"rsem_Sadat/hela_ints6_2020Sep/RNAseq_02-HeLa_shGFP_INTS6control_Dox_rep1_SE_hg19.genes.results\", header=TRUE, sep=\"\\t\")\n",
    "hela3_shgfp_dox_r2 <- read.delim(\"rsem_Sadat/hela_ints6_2020Sep/RNAseq_04-HeLa_shGFP_INTS6control_Dox_rep2_SE_hg19.genes.results\", header=TRUE, sep=\"\\t\")\n",
    "hela3_shints6_dox_r1 <- read.delim(\"rsem_Sadat/hela_ints6_2020Sep/RNAseq_05-HeLa_shINTS6_Dox_rep1_SE_hg19.genes.results\", header=TRUE, sep=\"\\t\")\n",
    "hela3_shints6_dox_r2 <- read.delim(\"rsem_Sadat/hela_ints6_2020Sep/RNAseq_06-HeLa_shINTS6_Dox_rep2_SE_hg19.genes.results\", header=TRUE, sep=\"\\t\")"
   ]
  },
  {
   "cell_type": "markdown",
   "metadata": {},
   "source": [
    "##### siDrosha RNA-seq"
   ]
  },
  {
   "cell_type": "code",
   "execution_count": 7,
   "metadata": {},
   "outputs": [],
   "source": [
    "hela_siC_r1 <- read.delim(\"rsem_siDrosha/hela_siC_r1.genes.results\", header=TRUE, sep=\"\\t\")\n",
    "hela_siC_r2 <- read.delim(\"rsem_siDrosha/hela_siC_r2.genes.results\", header=TRUE, sep=\"\\t\")\n",
    "\n",
    "hela_siDrosha_r1 <- read.delim(\"rsem_siDrosha/hela_siDrosha_r1.genes.results\", header=TRUE, sep=\"\\t\")\n",
    "hela_siDrosha_r2 <- read.delim(\"rsem_siDrosha/hela_siDrosha_r2.genes.results\", header=TRUE, sep=\"\\t\")"
   ]
  },
  {
   "cell_type": "code",
   "execution_count": 8,
   "metadata": {},
   "outputs": [
    {
     "data": {
      "text/html": [
       "<style>\n",
       ".list-inline {list-style: none; margin:0; padding: 0}\n",
       ".list-inline>li {display: inline-block}\n",
       ".list-inline>li:not(:last-child)::after {content: \"\\00b7\"; padding: 0 .5ex}\n",
       "</style>\n",
       "<ol class=list-inline><li>'hela_shgfp_dox_r1'</li><li>'hela_shgfp_dox_r2'</li><li>'hela_shint3_dox_r1'</li><li>'hela_shint3_dox_r2'</li><li>'hela_shint7_dox_r1'</li><li>'hela_shint7_dox_r2'</li><li>'hela_shints1_dox_r1'</li><li>'hela_shints1_dox_r2'</li><li>'hela_shints11_dox_r1'</li><li>'hela_shints11_dox_r2'</li><li>'hela_siC_r1'</li><li>'hela_siC_r2'</li><li>'hela_siDrosha_r1'</li><li>'hela_siDrosha_r2'</li><li>'hela3_shgfp_dox_r1'</li><li>'hela3_shgfp_dox_r2'</li><li>'hela3_shints6_dox_r1'</li><li>'hela3_shints6_dox_r2'</li></ol>\n"
      ],
      "text/latex": [
       "\\begin{enumerate*}\n",
       "\\item 'hela\\_shgfp\\_dox\\_r1'\n",
       "\\item 'hela\\_shgfp\\_dox\\_r2'\n",
       "\\item 'hela\\_shint3\\_dox\\_r1'\n",
       "\\item 'hela\\_shint3\\_dox\\_r2'\n",
       "\\item 'hela\\_shint7\\_dox\\_r1'\n",
       "\\item 'hela\\_shint7\\_dox\\_r2'\n",
       "\\item 'hela\\_shints1\\_dox\\_r1'\n",
       "\\item 'hela\\_shints1\\_dox\\_r2'\n",
       "\\item 'hela\\_shints11\\_dox\\_r1'\n",
       "\\item 'hela\\_shints11\\_dox\\_r2'\n",
       "\\item 'hela\\_siC\\_r1'\n",
       "\\item 'hela\\_siC\\_r2'\n",
       "\\item 'hela\\_siDrosha\\_r1'\n",
       "\\item 'hela\\_siDrosha\\_r2'\n",
       "\\item 'hela3\\_shgfp\\_dox\\_r1'\n",
       "\\item 'hela3\\_shgfp\\_dox\\_r2'\n",
       "\\item 'hela3\\_shints6\\_dox\\_r1'\n",
       "\\item 'hela3\\_shints6\\_dox\\_r2'\n",
       "\\end{enumerate*}\n"
      ],
      "text/markdown": [
       "1. 'hela_shgfp_dox_r1'\n",
       "2. 'hela_shgfp_dox_r2'\n",
       "3. 'hela_shint3_dox_r1'\n",
       "4. 'hela_shint3_dox_r2'\n",
       "5. 'hela_shint7_dox_r1'\n",
       "6. 'hela_shint7_dox_r2'\n",
       "7. 'hela_shints1_dox_r1'\n",
       "8. 'hela_shints1_dox_r2'\n",
       "9. 'hela_shints11_dox_r1'\n",
       "10. 'hela_shints11_dox_r2'\n",
       "11. 'hela_siC_r1'\n",
       "12. 'hela_siC_r2'\n",
       "13. 'hela_siDrosha_r1'\n",
       "14. 'hela_siDrosha_r2'\n",
       "15. 'hela3_shgfp_dox_r1'\n",
       "16. 'hela3_shgfp_dox_r2'\n",
       "17. 'hela3_shints6_dox_r1'\n",
       "18. 'hela3_shints6_dox_r2'\n",
       "\n",
       "\n"
      ],
      "text/plain": [
       " [1] \"hela_shgfp_dox_r1\"    \"hela_shgfp_dox_r2\"    \"hela_shint3_dox_r1\"  \n",
       " [4] \"hela_shint3_dox_r2\"   \"hela_shint7_dox_r1\"   \"hela_shint7_dox_r2\"  \n",
       " [7] \"hela_shints1_dox_r1\"  \"hela_shints1_dox_r2\"  \"hela_shints11_dox_r1\"\n",
       "[10] \"hela_shints11_dox_r2\" \"hela_siC_r1\"          \"hela_siC_r2\"         \n",
       "[13] \"hela_siDrosha_r1\"     \"hela_siDrosha_r2\"     \"hela3_shgfp_dox_r1\"  \n",
       "[16] \"hela3_shgfp_dox_r2\"   \"hela3_shints6_dox_r1\" \"hela3_shints6_dox_r2\""
      ]
     },
     "metadata": {},
     "output_type": "display_data"
    }
   ],
   "source": [
    "myfiles <- ls(pattern=\"_r[1,2]\")\n",
    "myfiles"
   ]
  },
  {
   "cell_type": "markdown",
   "metadata": {},
   "source": [
    "# 1) read all data"
   ]
  },
  {
   "cell_type": "markdown",
   "metadata": {},
   "source": [
    "### Create data frame with all samples"
   ]
  },
  {
   "cell_type": "code",
   "execution_count": 9,
   "metadata": {},
   "outputs": [
    {
     "data": {
      "text/html": [
       "<table>\n",
       "<caption>A data.frame: 2 × 7</caption>\n",
       "<thead>\n",
       "\t<tr><th></th><th scope=col>gene_id</th><th scope=col>transcript_id.s.</th><th scope=col>length</th><th scope=col>effective_length</th><th scope=col>expected_count</th><th scope=col>TPM</th><th scope=col>FPKM</th></tr>\n",
       "\t<tr><th></th><th scope=col>&lt;chr&gt;</th><th scope=col>&lt;chr&gt;</th><th scope=col>&lt;dbl&gt;</th><th scope=col>&lt;dbl&gt;</th><th scope=col>&lt;dbl&gt;</th><th scope=col>&lt;dbl&gt;</th><th scope=col>&lt;dbl&gt;</th></tr>\n",
       "</thead>\n",
       "<tbody>\n",
       "\t<tr><th scope=row>1</th><td>ENSG00000000003</td><td>ENST00000373020,ENST00000494424,ENST00000496771</td><td>2149.33</td><td>2075.19</td><td>3769</td><td>41.7</td><td>37.76</td></tr>\n",
       "\t<tr><th scope=row>2</th><td>ENSG00000000005</td><td>ENST00000373031,ENST00000485971                </td><td> 940.50</td><td> 866.35</td><td>   0</td><td> 0.0</td><td> 0.00</td></tr>\n",
       "</tbody>\n",
       "</table>\n"
      ],
      "text/latex": [
       "A data.frame: 2 × 7\n",
       "\\begin{tabular}{r|lllllll}\n",
       "  & gene\\_id & transcript\\_id.s. & length & effective\\_length & expected\\_count & TPM & FPKM\\\\\n",
       "  & <chr> & <chr> & <dbl> & <dbl> & <dbl> & <dbl> & <dbl>\\\\\n",
       "\\hline\n",
       "\t1 & ENSG00000000003 & ENST00000373020,ENST00000494424,ENST00000496771 & 2149.33 & 2075.19 & 3769 & 41.7 & 37.76\\\\\n",
       "\t2 & ENSG00000000005 & ENST00000373031,ENST00000485971                 &  940.50 &  866.35 &    0 &  0.0 &  0.00\\\\\n",
       "\\end{tabular}\n"
      ],
      "text/markdown": [
       "\n",
       "A data.frame: 2 × 7\n",
       "\n",
       "| <!--/--> | gene_id &lt;chr&gt; | transcript_id.s. &lt;chr&gt; | length &lt;dbl&gt; | effective_length &lt;dbl&gt; | expected_count &lt;dbl&gt; | TPM &lt;dbl&gt; | FPKM &lt;dbl&gt; |\n",
       "|---|---|---|---|---|---|---|---|\n",
       "| 1 | ENSG00000000003 | ENST00000373020,ENST00000494424,ENST00000496771 | 2149.33 | 2075.19 | 3769 | 41.7 | 37.76 |\n",
       "| 2 | ENSG00000000005 | ENST00000373031,ENST00000485971                 |  940.50 |  866.35 |    0 |  0.0 |  0.00 |\n",
       "\n"
      ],
      "text/plain": [
       "  gene_id         transcript_id.s.                                length \n",
       "1 ENSG00000000003 ENST00000373020,ENST00000494424,ENST00000496771 2149.33\n",
       "2 ENSG00000000005 ENST00000373031,ENST00000485971                  940.50\n",
       "  effective_length expected_count TPM  FPKM \n",
       "1 2075.19          3769           41.7 37.76\n",
       "2  866.35             0            0.0  0.00"
      ]
     },
     "metadata": {},
     "output_type": "display_data"
    }
   ],
   "source": [
    "head(hela_shints11_dox_r1, n=2)"
   ]
  },
  {
   "cell_type": "code",
   "execution_count": 10,
   "metadata": {},
   "outputs": [],
   "source": [
    "d <- as.data.frame(hela_shgfp_dox_r1[,1])"
   ]
  },
  {
   "cell_type": "markdown",
   "metadata": {},
   "source": [
    "## chose which data to look at"
   ]
  },
  {
   "cell_type": "code",
   "execution_count": 11,
   "metadata": {},
   "outputs": [],
   "source": [
    "\n",
    "#(column5=expected_count (needed for Deseq2), column6=TPM)\n",
    "\n",
    "expected_count <- 5\n",
    "#TPM <- 6"
   ]
  },
  {
   "cell_type": "code",
   "execution_count": 12,
   "metadata": {},
   "outputs": [
    {
     "data": {
      "text/html": [
       "<table>\n",
       "<caption>A data.frame: 6 × 19</caption>\n",
       "<thead>\n",
       "\t<tr><th></th><th scope=col>gene_ID</th><th scope=col>hela_shgfp_dox_r1</th><th scope=col>hela_shgfp_dox_r2</th><th scope=col>hela_shint3_dox_r1</th><th scope=col>hela_shint3_dox_r2</th><th scope=col>hela_shint7_dox_r1</th><th scope=col>hela_shint7_dox_r2</th><th scope=col>hela_shints1_dox_r1</th><th scope=col>hela_shints1_dox_r2</th><th scope=col>hela_shints11_dox_r1</th><th scope=col>hela_shints11_dox_r2</th><th scope=col>hela_siC_r1</th><th scope=col>hela_siC_r2</th><th scope=col>hela_siDrosha_r1</th><th scope=col>hela_siDrosha_r2</th><th scope=col>hela3_shgfp_dox_r1</th><th scope=col>hela3_shgfp_dox_r2</th><th scope=col>hela3_shints6_dox_r1</th><th scope=col>hela3_shints6_dox_r2</th></tr>\n",
       "\t<tr><th></th><th scope=col>&lt;chr&gt;</th><th scope=col>&lt;dbl&gt;</th><th scope=col>&lt;dbl&gt;</th><th scope=col>&lt;dbl&gt;</th><th scope=col>&lt;dbl&gt;</th><th scope=col>&lt;dbl&gt;</th><th scope=col>&lt;dbl&gt;</th><th scope=col>&lt;dbl&gt;</th><th scope=col>&lt;dbl&gt;</th><th scope=col>&lt;dbl&gt;</th><th scope=col>&lt;dbl&gt;</th><th scope=col>&lt;dbl&gt;</th><th scope=col>&lt;dbl&gt;</th><th scope=col>&lt;dbl&gt;</th><th scope=col>&lt;dbl&gt;</th><th scope=col>&lt;dbl&gt;</th><th scope=col>&lt;dbl&gt;</th><th scope=col>&lt;dbl&gt;</th><th scope=col>&lt;dbl&gt;</th></tr>\n",
       "</thead>\n",
       "<tbody>\n",
       "\t<tr><th scope=row>1</th><td>ENSG00000000003</td><td>3558.00</td><td>4332</td><td>2759</td><td>2807</td><td>2379</td><td>2652</td><td>5393</td><td>6103</td><td>3769</td><td>3664</td><td>1802</td><td>1890</td><td>1870</td><td>1398</td><td>1621.00</td><td>1567</td><td>2424</td><td>2855.00</td></tr>\n",
       "\t<tr><th scope=row>2</th><td>ENSG00000000005</td><td>   0.00</td><td>   0</td><td>   0</td><td>   0</td><td>   0</td><td>   0</td><td>   0</td><td>   0</td><td>   0</td><td>   0</td><td>   0</td><td>   0</td><td>   0</td><td>   0</td><td>   0.00</td><td>   0</td><td>   0</td><td>   0.00</td></tr>\n",
       "\t<tr><th scope=row>3</th><td>ENSG00000000419</td><td>3231.00</td><td>3931</td><td>2771</td><td>2531</td><td>1819</td><td>2152</td><td>3020</td><td>2836</td><td>2892</td><td>2408</td><td>1703</td><td>2144</td><td>1842</td><td>1505</td><td>1103.00</td><td>1111</td><td>1128</td><td>1413.00</td></tr>\n",
       "\t<tr><th scope=row>4</th><td>ENSG00000000457</td><td> 625.01</td><td> 758</td><td> 544</td><td> 482</td><td> 315</td><td> 318</td><td> 942</td><td> 906</td><td> 788</td><td> 738</td><td> 535</td><td> 523</td><td> 572</td><td> 549</td><td> 300.46</td><td> 305</td><td> 347</td><td> 442.96</td></tr>\n",
       "\t<tr><th scope=row>5</th><td>ENSG00000000460</td><td>1706.00</td><td>2047</td><td>1480</td><td>1424</td><td>1288</td><td>1414</td><td>1860</td><td>1776</td><td>1662</td><td>1463</td><td>1513</td><td>1536</td><td>1483</td><td>1057</td><td> 629.00</td><td> 740</td><td> 737</td><td> 874.00</td></tr>\n",
       "\t<tr><th scope=row>6</th><td>ENSG00000000938</td><td>   0.00</td><td>   0</td><td>   1</td><td>   0</td><td>   0</td><td>   0</td><td>   0</td><td>   0</td><td>   0</td><td>   0</td><td>   0</td><td>   0</td><td>   0</td><td>   0</td><td>   0.00</td><td>   3</td><td>   0</td><td>   0.00</td></tr>\n",
       "</tbody>\n",
       "</table>\n"
      ],
      "text/latex": [
       "A data.frame: 6 × 19\n",
       "\\begin{tabular}{r|lllllllllllllllllll}\n",
       "  & gene\\_ID & hela\\_shgfp\\_dox\\_r1 & hela\\_shgfp\\_dox\\_r2 & hela\\_shint3\\_dox\\_r1 & hela\\_shint3\\_dox\\_r2 & hela\\_shint7\\_dox\\_r1 & hela\\_shint7\\_dox\\_r2 & hela\\_shints1\\_dox\\_r1 & hela\\_shints1\\_dox\\_r2 & hela\\_shints11\\_dox\\_r1 & hela\\_shints11\\_dox\\_r2 & hela\\_siC\\_r1 & hela\\_siC\\_r2 & hela\\_siDrosha\\_r1 & hela\\_siDrosha\\_r2 & hela3\\_shgfp\\_dox\\_r1 & hela3\\_shgfp\\_dox\\_r2 & hela3\\_shints6\\_dox\\_r1 & hela3\\_shints6\\_dox\\_r2\\\\\n",
       "  & <chr> & <dbl> & <dbl> & <dbl> & <dbl> & <dbl> & <dbl> & <dbl> & <dbl> & <dbl> & <dbl> & <dbl> & <dbl> & <dbl> & <dbl> & <dbl> & <dbl> & <dbl> & <dbl>\\\\\n",
       "\\hline\n",
       "\t1 & ENSG00000000003 & 3558.00 & 4332 & 2759 & 2807 & 2379 & 2652 & 5393 & 6103 & 3769 & 3664 & 1802 & 1890 & 1870 & 1398 & 1621.00 & 1567 & 2424 & 2855.00\\\\\n",
       "\t2 & ENSG00000000005 &    0.00 &    0 &    0 &    0 &    0 &    0 &    0 &    0 &    0 &    0 &    0 &    0 &    0 &    0 &    0.00 &    0 &    0 &    0.00\\\\\n",
       "\t3 & ENSG00000000419 & 3231.00 & 3931 & 2771 & 2531 & 1819 & 2152 & 3020 & 2836 & 2892 & 2408 & 1703 & 2144 & 1842 & 1505 & 1103.00 & 1111 & 1128 & 1413.00\\\\\n",
       "\t4 & ENSG00000000457 &  625.01 &  758 &  544 &  482 &  315 &  318 &  942 &  906 &  788 &  738 &  535 &  523 &  572 &  549 &  300.46 &  305 &  347 &  442.96\\\\\n",
       "\t5 & ENSG00000000460 & 1706.00 & 2047 & 1480 & 1424 & 1288 & 1414 & 1860 & 1776 & 1662 & 1463 & 1513 & 1536 & 1483 & 1057 &  629.00 &  740 &  737 &  874.00\\\\\n",
       "\t6 & ENSG00000000938 &    0.00 &    0 &    1 &    0 &    0 &    0 &    0 &    0 &    0 &    0 &    0 &    0 &    0 &    0 &    0.00 &    3 &    0 &    0.00\\\\\n",
       "\\end{tabular}\n"
      ],
      "text/markdown": [
       "\n",
       "A data.frame: 6 × 19\n",
       "\n",
       "| <!--/--> | gene_ID &lt;chr&gt; | hela_shgfp_dox_r1 &lt;dbl&gt; | hela_shgfp_dox_r2 &lt;dbl&gt; | hela_shint3_dox_r1 &lt;dbl&gt; | hela_shint3_dox_r2 &lt;dbl&gt; | hela_shint7_dox_r1 &lt;dbl&gt; | hela_shint7_dox_r2 &lt;dbl&gt; | hela_shints1_dox_r1 &lt;dbl&gt; | hela_shints1_dox_r2 &lt;dbl&gt; | hela_shints11_dox_r1 &lt;dbl&gt; | hela_shints11_dox_r2 &lt;dbl&gt; | hela_siC_r1 &lt;dbl&gt; | hela_siC_r2 &lt;dbl&gt; | hela_siDrosha_r1 &lt;dbl&gt; | hela_siDrosha_r2 &lt;dbl&gt; | hela3_shgfp_dox_r1 &lt;dbl&gt; | hela3_shgfp_dox_r2 &lt;dbl&gt; | hela3_shints6_dox_r1 &lt;dbl&gt; | hela3_shints6_dox_r2 &lt;dbl&gt; |\n",
       "|---|---|---|---|---|---|---|---|---|---|---|---|---|---|---|---|---|---|---|---|\n",
       "| 1 | ENSG00000000003 | 3558.00 | 4332 | 2759 | 2807 | 2379 | 2652 | 5393 | 6103 | 3769 | 3664 | 1802 | 1890 | 1870 | 1398 | 1621.00 | 1567 | 2424 | 2855.00 |\n",
       "| 2 | ENSG00000000005 |    0.00 |    0 |    0 |    0 |    0 |    0 |    0 |    0 |    0 |    0 |    0 |    0 |    0 |    0 |    0.00 |    0 |    0 |    0.00 |\n",
       "| 3 | ENSG00000000419 | 3231.00 | 3931 | 2771 | 2531 | 1819 | 2152 | 3020 | 2836 | 2892 | 2408 | 1703 | 2144 | 1842 | 1505 | 1103.00 | 1111 | 1128 | 1413.00 |\n",
       "| 4 | ENSG00000000457 |  625.01 |  758 |  544 |  482 |  315 |  318 |  942 |  906 |  788 |  738 |  535 |  523 |  572 |  549 |  300.46 |  305 |  347 |  442.96 |\n",
       "| 5 | ENSG00000000460 | 1706.00 | 2047 | 1480 | 1424 | 1288 | 1414 | 1860 | 1776 | 1662 | 1463 | 1513 | 1536 | 1483 | 1057 |  629.00 |  740 |  737 |  874.00 |\n",
       "| 6 | ENSG00000000938 |    0.00 |    0 |    1 |    0 |    0 |    0 |    0 |    0 |    0 |    0 |    0 |    0 |    0 |    0 |    0.00 |    3 |    0 |    0.00 |\n",
       "\n"
      ],
      "text/plain": [
       "  gene_ID         hela_shgfp_dox_r1 hela_shgfp_dox_r2 hela_shint3_dox_r1\n",
       "1 ENSG00000000003 3558.00           4332              2759              \n",
       "2 ENSG00000000005    0.00              0                 0              \n",
       "3 ENSG00000000419 3231.00           3931              2771              \n",
       "4 ENSG00000000457  625.01            758               544              \n",
       "5 ENSG00000000460 1706.00           2047              1480              \n",
       "6 ENSG00000000938    0.00              0                 1              \n",
       "  hela_shint3_dox_r2 hela_shint7_dox_r1 hela_shint7_dox_r2 hela_shints1_dox_r1\n",
       "1 2807               2379               2652               5393               \n",
       "2    0                  0                  0                  0               \n",
       "3 2531               1819               2152               3020               \n",
       "4  482                315                318                942               \n",
       "5 1424               1288               1414               1860               \n",
       "6    0                  0                  0                  0               \n",
       "  hela_shints1_dox_r2 hela_shints11_dox_r1 hela_shints11_dox_r2 hela_siC_r1\n",
       "1 6103                3769                 3664                 1802       \n",
       "2    0                   0                    0                    0       \n",
       "3 2836                2892                 2408                 1703       \n",
       "4  906                 788                  738                  535       \n",
       "5 1776                1662                 1463                 1513       \n",
       "6    0                   0                    0                    0       \n",
       "  hela_siC_r2 hela_siDrosha_r1 hela_siDrosha_r2 hela3_shgfp_dox_r1\n",
       "1 1890        1870             1398             1621.00           \n",
       "2    0           0                0                0.00           \n",
       "3 2144        1842             1505             1103.00           \n",
       "4  523         572              549              300.46           \n",
       "5 1536        1483             1057              629.00           \n",
       "6    0           0                0                0.00           \n",
       "  hela3_shgfp_dox_r2 hela3_shints6_dox_r1 hela3_shints6_dox_r2\n",
       "1 1567               2424                 2855.00             \n",
       "2    0                  0                    0.00             \n",
       "3 1111               1128                 1413.00             \n",
       "4  305                347                  442.96             \n",
       "5  740                737                  874.00             \n",
       "6    3                  0                    0.00             "
      ]
     },
     "metadata": {},
     "output_type": "display_data"
    },
    {
     "data": {
      "text/html": [
       "57773"
      ],
      "text/latex": [
       "57773"
      ],
      "text/markdown": [
       "57773"
      ],
      "text/plain": [
       "[1] 57773"
      ]
     },
     "metadata": {},
     "output_type": "display_data"
    }
   ],
   "source": [
    "# all samples in one data frame\n",
    "\n",
    "# read the data\n",
    "d <- as.data.frame(hela_shgfp_dox_r1[,1])\n",
    "colnames(d) <- \"gene_id\"\n",
    "for (i in 1:length(myfiles)){\n",
    "        n <- get(myfiles[i])\n",
    "        d[,i+1] <- n[,expected_count] # \n",
    "    }\n",
    "colnames(d) <- c(\"gene_ID\", myfiles)\n",
    "\n",
    "head(d)\n",
    "nrow(d)"
   ]
  },
  {
   "cell_type": "code",
   "execution_count": 13,
   "metadata": {},
   "outputs": [
    {
     "data": {
      "text/html": [
       "<table>\n",
       "<caption>A data.frame: 6 × 18</caption>\n",
       "<thead>\n",
       "\t<tr><th></th><th scope=col>hela_shgfp_dox_r1</th><th scope=col>hela_shgfp_dox_r2</th><th scope=col>hela_shint3_dox_r1</th><th scope=col>hela_shint3_dox_r2</th><th scope=col>hela_shint7_dox_r1</th><th scope=col>hela_shint7_dox_r2</th><th scope=col>hela_shints1_dox_r1</th><th scope=col>hela_shints1_dox_r2</th><th scope=col>hela_shints11_dox_r1</th><th scope=col>hela_shints11_dox_r2</th><th scope=col>hela_siC_r1</th><th scope=col>hela_siC_r2</th><th scope=col>hela_siDrosha_r1</th><th scope=col>hela_siDrosha_r2</th><th scope=col>hela3_shgfp_dox_r1</th><th scope=col>hela3_shgfp_dox_r2</th><th scope=col>hela3_shints6_dox_r1</th><th scope=col>hela3_shints6_dox_r2</th></tr>\n",
       "\t<tr><th></th><th scope=col>&lt;dbl&gt;</th><th scope=col>&lt;dbl&gt;</th><th scope=col>&lt;dbl&gt;</th><th scope=col>&lt;dbl&gt;</th><th scope=col>&lt;dbl&gt;</th><th scope=col>&lt;dbl&gt;</th><th scope=col>&lt;dbl&gt;</th><th scope=col>&lt;dbl&gt;</th><th scope=col>&lt;dbl&gt;</th><th scope=col>&lt;dbl&gt;</th><th scope=col>&lt;dbl&gt;</th><th scope=col>&lt;dbl&gt;</th><th scope=col>&lt;dbl&gt;</th><th scope=col>&lt;dbl&gt;</th><th scope=col>&lt;dbl&gt;</th><th scope=col>&lt;dbl&gt;</th><th scope=col>&lt;dbl&gt;</th><th scope=col>&lt;dbl&gt;</th></tr>\n",
       "</thead>\n",
       "<tbody>\n",
       "\t<tr><th scope=row>ENSG00000000003</th><td>3558.00</td><td>4332</td><td>2759</td><td>2807</td><td>2379</td><td>2652</td><td>5393</td><td>6103</td><td>3769</td><td>3664</td><td>1802</td><td>1890</td><td>1870</td><td>1398</td><td>1621.00</td><td>1567</td><td>2424</td><td>2855.00</td></tr>\n",
       "\t<tr><th scope=row>ENSG00000000005</th><td>   0.00</td><td>   0</td><td>   0</td><td>   0</td><td>   0</td><td>   0</td><td>   0</td><td>   0</td><td>   0</td><td>   0</td><td>   0</td><td>   0</td><td>   0</td><td>   0</td><td>   0.00</td><td>   0</td><td>   0</td><td>   0.00</td></tr>\n",
       "\t<tr><th scope=row>ENSG00000000419</th><td>3231.00</td><td>3931</td><td>2771</td><td>2531</td><td>1819</td><td>2152</td><td>3020</td><td>2836</td><td>2892</td><td>2408</td><td>1703</td><td>2144</td><td>1842</td><td>1505</td><td>1103.00</td><td>1111</td><td>1128</td><td>1413.00</td></tr>\n",
       "\t<tr><th scope=row>ENSG00000000457</th><td> 625.01</td><td> 758</td><td> 544</td><td> 482</td><td> 315</td><td> 318</td><td> 942</td><td> 906</td><td> 788</td><td> 738</td><td> 535</td><td> 523</td><td> 572</td><td> 549</td><td> 300.46</td><td> 305</td><td> 347</td><td> 442.96</td></tr>\n",
       "\t<tr><th scope=row>ENSG00000000460</th><td>1706.00</td><td>2047</td><td>1480</td><td>1424</td><td>1288</td><td>1414</td><td>1860</td><td>1776</td><td>1662</td><td>1463</td><td>1513</td><td>1536</td><td>1483</td><td>1057</td><td> 629.00</td><td> 740</td><td> 737</td><td> 874.00</td></tr>\n",
       "\t<tr><th scope=row>ENSG00000000938</th><td>   0.00</td><td>   0</td><td>   1</td><td>   0</td><td>   0</td><td>   0</td><td>   0</td><td>   0</td><td>   0</td><td>   0</td><td>   0</td><td>   0</td><td>   0</td><td>   0</td><td>   0.00</td><td>   3</td><td>   0</td><td>   0.00</td></tr>\n",
       "</tbody>\n",
       "</table>\n"
      ],
      "text/latex": [
       "A data.frame: 6 × 18\n",
       "\\begin{tabular}{r|llllllllllllllllll}\n",
       "  & hela\\_shgfp\\_dox\\_r1 & hela\\_shgfp\\_dox\\_r2 & hela\\_shint3\\_dox\\_r1 & hela\\_shint3\\_dox\\_r2 & hela\\_shint7\\_dox\\_r1 & hela\\_shint7\\_dox\\_r2 & hela\\_shints1\\_dox\\_r1 & hela\\_shints1\\_dox\\_r2 & hela\\_shints11\\_dox\\_r1 & hela\\_shints11\\_dox\\_r2 & hela\\_siC\\_r1 & hela\\_siC\\_r2 & hela\\_siDrosha\\_r1 & hela\\_siDrosha\\_r2 & hela3\\_shgfp\\_dox\\_r1 & hela3\\_shgfp\\_dox\\_r2 & hela3\\_shints6\\_dox\\_r1 & hela3\\_shints6\\_dox\\_r2\\\\\n",
       "  & <dbl> & <dbl> & <dbl> & <dbl> & <dbl> & <dbl> & <dbl> & <dbl> & <dbl> & <dbl> & <dbl> & <dbl> & <dbl> & <dbl> & <dbl> & <dbl> & <dbl> & <dbl>\\\\\n",
       "\\hline\n",
       "\tENSG00000000003 & 3558.00 & 4332 & 2759 & 2807 & 2379 & 2652 & 5393 & 6103 & 3769 & 3664 & 1802 & 1890 & 1870 & 1398 & 1621.00 & 1567 & 2424 & 2855.00\\\\\n",
       "\tENSG00000000005 &    0.00 &    0 &    0 &    0 &    0 &    0 &    0 &    0 &    0 &    0 &    0 &    0 &    0 &    0 &    0.00 &    0 &    0 &    0.00\\\\\n",
       "\tENSG00000000419 & 3231.00 & 3931 & 2771 & 2531 & 1819 & 2152 & 3020 & 2836 & 2892 & 2408 & 1703 & 2144 & 1842 & 1505 & 1103.00 & 1111 & 1128 & 1413.00\\\\\n",
       "\tENSG00000000457 &  625.01 &  758 &  544 &  482 &  315 &  318 &  942 &  906 &  788 &  738 &  535 &  523 &  572 &  549 &  300.46 &  305 &  347 &  442.96\\\\\n",
       "\tENSG00000000460 & 1706.00 & 2047 & 1480 & 1424 & 1288 & 1414 & 1860 & 1776 & 1662 & 1463 & 1513 & 1536 & 1483 & 1057 &  629.00 &  740 &  737 &  874.00\\\\\n",
       "\tENSG00000000938 &    0.00 &    0 &    1 &    0 &    0 &    0 &    0 &    0 &    0 &    0 &    0 &    0 &    0 &    0 &    0.00 &    3 &    0 &    0.00\\\\\n",
       "\\end{tabular}\n"
      ],
      "text/markdown": [
       "\n",
       "A data.frame: 6 × 18\n",
       "\n",
       "| <!--/--> | hela_shgfp_dox_r1 &lt;dbl&gt; | hela_shgfp_dox_r2 &lt;dbl&gt; | hela_shint3_dox_r1 &lt;dbl&gt; | hela_shint3_dox_r2 &lt;dbl&gt; | hela_shint7_dox_r1 &lt;dbl&gt; | hela_shint7_dox_r2 &lt;dbl&gt; | hela_shints1_dox_r1 &lt;dbl&gt; | hela_shints1_dox_r2 &lt;dbl&gt; | hela_shints11_dox_r1 &lt;dbl&gt; | hela_shints11_dox_r2 &lt;dbl&gt; | hela_siC_r1 &lt;dbl&gt; | hela_siC_r2 &lt;dbl&gt; | hela_siDrosha_r1 &lt;dbl&gt; | hela_siDrosha_r2 &lt;dbl&gt; | hela3_shgfp_dox_r1 &lt;dbl&gt; | hela3_shgfp_dox_r2 &lt;dbl&gt; | hela3_shints6_dox_r1 &lt;dbl&gt; | hela3_shints6_dox_r2 &lt;dbl&gt; |\n",
       "|---|---|---|---|---|---|---|---|---|---|---|---|---|---|---|---|---|---|---|\n",
       "| ENSG00000000003 | 3558.00 | 4332 | 2759 | 2807 | 2379 | 2652 | 5393 | 6103 | 3769 | 3664 | 1802 | 1890 | 1870 | 1398 | 1621.00 | 1567 | 2424 | 2855.00 |\n",
       "| ENSG00000000005 |    0.00 |    0 |    0 |    0 |    0 |    0 |    0 |    0 |    0 |    0 |    0 |    0 |    0 |    0 |    0.00 |    0 |    0 |    0.00 |\n",
       "| ENSG00000000419 | 3231.00 | 3931 | 2771 | 2531 | 1819 | 2152 | 3020 | 2836 | 2892 | 2408 | 1703 | 2144 | 1842 | 1505 | 1103.00 | 1111 | 1128 | 1413.00 |\n",
       "| ENSG00000000457 |  625.01 |  758 |  544 |  482 |  315 |  318 |  942 |  906 |  788 |  738 |  535 |  523 |  572 |  549 |  300.46 |  305 |  347 |  442.96 |\n",
       "| ENSG00000000460 | 1706.00 | 2047 | 1480 | 1424 | 1288 | 1414 | 1860 | 1776 | 1662 | 1463 | 1513 | 1536 | 1483 | 1057 |  629.00 |  740 |  737 |  874.00 |\n",
       "| ENSG00000000938 |    0.00 |    0 |    1 |    0 |    0 |    0 |    0 |    0 |    0 |    0 |    0 |    0 |    0 |    0 |    0.00 |    3 |    0 |    0.00 |\n",
       "\n"
      ],
      "text/plain": [
       "                hela_shgfp_dox_r1 hela_shgfp_dox_r2 hela_shint3_dox_r1\n",
       "ENSG00000000003 3558.00           4332              2759              \n",
       "ENSG00000000005    0.00              0                 0              \n",
       "ENSG00000000419 3231.00           3931              2771              \n",
       "ENSG00000000457  625.01            758               544              \n",
       "ENSG00000000460 1706.00           2047              1480              \n",
       "ENSG00000000938    0.00              0                 1              \n",
       "                hela_shint3_dox_r2 hela_shint7_dox_r1 hela_shint7_dox_r2\n",
       "ENSG00000000003 2807               2379               2652              \n",
       "ENSG00000000005    0                  0                  0              \n",
       "ENSG00000000419 2531               1819               2152              \n",
       "ENSG00000000457  482                315                318              \n",
       "ENSG00000000460 1424               1288               1414              \n",
       "ENSG00000000938    0                  0                  0              \n",
       "                hela_shints1_dox_r1 hela_shints1_dox_r2 hela_shints11_dox_r1\n",
       "ENSG00000000003 5393                6103                3769                \n",
       "ENSG00000000005    0                   0                   0                \n",
       "ENSG00000000419 3020                2836                2892                \n",
       "ENSG00000000457  942                 906                 788                \n",
       "ENSG00000000460 1860                1776                1662                \n",
       "ENSG00000000938    0                   0                   0                \n",
       "                hela_shints11_dox_r2 hela_siC_r1 hela_siC_r2 hela_siDrosha_r1\n",
       "ENSG00000000003 3664                 1802        1890        1870            \n",
       "ENSG00000000005    0                    0           0           0            \n",
       "ENSG00000000419 2408                 1703        2144        1842            \n",
       "ENSG00000000457  738                  535         523         572            \n",
       "ENSG00000000460 1463                 1513        1536        1483            \n",
       "ENSG00000000938    0                    0           0           0            \n",
       "                hela_siDrosha_r2 hela3_shgfp_dox_r1 hela3_shgfp_dox_r2\n",
       "ENSG00000000003 1398             1621.00            1567              \n",
       "ENSG00000000005    0                0.00               0              \n",
       "ENSG00000000419 1505             1103.00            1111              \n",
       "ENSG00000000457  549              300.46             305              \n",
       "ENSG00000000460 1057              629.00             740              \n",
       "ENSG00000000938    0                0.00               3              \n",
       "                hela3_shints6_dox_r1 hela3_shints6_dox_r2\n",
       "ENSG00000000003 2424                 2855.00             \n",
       "ENSG00000000005    0                    0.00             \n",
       "ENSG00000000419 1128                 1413.00             \n",
       "ENSG00000000457  347                  442.96             \n",
       "ENSG00000000460  737                  874.00             \n",
       "ENSG00000000938    0                    0.00             "
      ]
     },
     "metadata": {},
     "output_type": "display_data"
    }
   ],
   "source": [
    "d2 <- d[,-1]\n",
    "rownames(d2) <- d[,1]\n",
    "head(d2)"
   ]
  },
  {
   "cell_type": "markdown",
   "metadata": {},
   "source": [
    "### assign gene names"
   ]
  },
  {
   "cell_type": "code",
   "execution_count": 17,
   "metadata": {},
   "outputs": [
    {
     "data": {
      "text/html": [
       "<table>\n",
       "<caption>A data.frame: 6 × 2</caption>\n",
       "<thead>\n",
       "\t<tr><th></th><th scope=col>gene_ID</th><th scope=col>ENSEMBL</th></tr>\n",
       "\t<tr><th></th><th scope=col>&lt;chr&gt;</th><th scope=col>&lt;chr&gt;</th></tr>\n",
       "</thead>\n",
       "<tbody>\n",
       "\t<tr><th scope=row>1</th><td>ENSG00000223972</td><td>DDX11L1   </td></tr>\n",
       "\t<tr><th scope=row>2</th><td>ENSG00000227232</td><td>WASH7P    </td></tr>\n",
       "\t<tr><th scope=row>3</th><td>ENSG00000243485</td><td>MIR1302-10</td></tr>\n",
       "\t<tr><th scope=row>4</th><td>ENSG00000237613</td><td>FAM138A   </td></tr>\n",
       "\t<tr><th scope=row>5</th><td>ENSG00000268020</td><td>OR4G4P    </td></tr>\n",
       "\t<tr><th scope=row>6</th><td>ENSG00000240361</td><td>OR4G11P   </td></tr>\n",
       "</tbody>\n",
       "</table>\n"
      ],
      "text/latex": [
       "A data.frame: 6 × 2\n",
       "\\begin{tabular}{r|ll}\n",
       "  & gene\\_ID & ENSEMBL\\\\\n",
       "  & <chr> & <chr>\\\\\n",
       "\\hline\n",
       "\t1 & ENSG00000223972 & DDX11L1   \\\\\n",
       "\t2 & ENSG00000227232 & WASH7P    \\\\\n",
       "\t3 & ENSG00000243485 & MIR1302-10\\\\\n",
       "\t4 & ENSG00000237613 & FAM138A   \\\\\n",
       "\t5 & ENSG00000268020 & OR4G4P    \\\\\n",
       "\t6 & ENSG00000240361 & OR4G11P   \\\\\n",
       "\\end{tabular}\n"
      ],
      "text/markdown": [
       "\n",
       "A data.frame: 6 × 2\n",
       "\n",
       "| <!--/--> | gene_ID &lt;chr&gt; | ENSEMBL &lt;chr&gt; |\n",
       "|---|---|---|\n",
       "| 1 | ENSG00000223972 | DDX11L1    |\n",
       "| 2 | ENSG00000227232 | WASH7P     |\n",
       "| 3 | ENSG00000243485 | MIR1302-10 |\n",
       "| 4 | ENSG00000237613 | FAM138A    |\n",
       "| 5 | ENSG00000268020 | OR4G4P     |\n",
       "| 6 | ENSG00000240361 | OR4G11P    |\n",
       "\n"
      ],
      "text/plain": [
       "  gene_ID         ENSEMBL   \n",
       "1 ENSG00000223972 DDX11L1   \n",
       "2 ENSG00000227232 WASH7P    \n",
       "3 ENSG00000243485 MIR1302-10\n",
       "4 ENSG00000237613 FAM138A   \n",
       "5 ENSG00000268020 OR4G4P    \n",
       "6 ENSG00000240361 OR4G11P   "
      ]
     },
     "metadata": {},
     "output_type": "display_data"
    }
   ],
   "source": [
    "# file provided\n",
    "gene <- read.delim(\"../ENSG_to_gene_name.tsv\")\n",
    "head(gene)\n",
    "\n"
   ]
  },
  {
   "cell_type": "code",
   "execution_count": 14,
   "metadata": {},
   "outputs": [
    {
     "data": {
      "text/html": [
       "<table>\n",
       "<caption>A data.frame: 6 × 1</caption>\n",
       "<thead>\n",
       "\t<tr><th></th><th scope=col>ENSEMBL</th></tr>\n",
       "\t<tr><th></th><th scope=col>&lt;chr&gt;</th></tr>\n",
       "</thead>\n",
       "<tbody>\n",
       "\t<tr><th scope=row>37</th><td>AGO4  </td></tr>\n",
       "\t<tr><th scope=row>38</th><td>DROSHA</td></tr>\n",
       "\t<tr><th scope=row>39</th><td>ZC3H7B</td></tr>\n",
       "\t<tr><th scope=row>40</th><td>AGO2  </td></tr>\n",
       "\t<tr><th scope=row>41</th><td>AGO1  </td></tr>\n",
       "\t<tr><th scope=row>42</th><td>DICER1</td></tr>\n",
       "</tbody>\n",
       "</table>\n"
      ],
      "text/latex": [
       "A data.frame: 6 × 1\n",
       "\\begin{tabular}{r|l}\n",
       "  & ENSEMBL\\\\\n",
       "  & <chr>\\\\\n",
       "\\hline\n",
       "\t37 & AGO4  \\\\\n",
       "\t38 & DROSHA\\\\\n",
       "\t39 & ZC3H7B\\\\\n",
       "\t40 & AGO2  \\\\\n",
       "\t41 & AGO1  \\\\\n",
       "\t42 & DICER1\\\\\n",
       "\\end{tabular}\n"
      ],
      "text/markdown": [
       "\n",
       "A data.frame: 6 × 1\n",
       "\n",
       "| <!--/--> | ENSEMBL &lt;chr&gt; |\n",
       "|---|---|\n",
       "| 37 | AGO4   |\n",
       "| 38 | DROSHA |\n",
       "| 39 | ZC3H7B |\n",
       "| 40 | AGO2   |\n",
       "| 41 | AGO1   |\n",
       "| 42 | DICER1 |\n",
       "\n"
      ],
      "text/plain": [
       "   ENSEMBL\n",
       "37 AGO4   \n",
       "38 DROSHA \n",
       "39 ZC3H7B \n",
       "40 AGO2   \n",
       "41 AGO1   \n",
       "42 DICER1 "
      ]
     },
     "metadata": {},
     "output_type": "display_data"
    }
   ],
   "source": [
    "# grep only miRNA-related genes\n",
    "# file provided\n",
    "rel.mi <- read.delim(\"miRNAmachinery_unique_names.tsv\", header=F)\n",
    "colnames(rel.mi) <- \"ENSEMBL\"\n",
    "\n",
    "tail(rel.mi)"
   ]
  },
  {
   "cell_type": "code",
   "execution_count": 18,
   "metadata": {},
   "outputs": [
    {
     "data": {
      "text/html": [
       "<table>\n",
       "<caption>A data.frame: 6 × 2</caption>\n",
       "<thead>\n",
       "\t<tr><th></th><th scope=col>ENSEMBL</th><th scope=col>gene_ID</th></tr>\n",
       "\t<tr><th></th><th scope=col>&lt;chr&gt;</th><th scope=col>&lt;chr&gt;</th></tr>\n",
       "</thead>\n",
       "<tbody>\n",
       "\t<tr><th scope=row>37</th><td>AGO4  </td><td>ENSG00000134698</td></tr>\n",
       "\t<tr><th scope=row>38</th><td>DROSHA</td><td>ENSG00000113360</td></tr>\n",
       "\t<tr><th scope=row>39</th><td>ZC3H7B</td><td>ENSG00000100403</td></tr>\n",
       "\t<tr><th scope=row>40</th><td>AGO2  </td><td>ENSG00000123908</td></tr>\n",
       "\t<tr><th scope=row>41</th><td>AGO1  </td><td>ENSG00000092847</td></tr>\n",
       "\t<tr><th scope=row>42</th><td>DICER1</td><td>ENSG00000100697</td></tr>\n",
       "</tbody>\n",
       "</table>\n"
      ],
      "text/latex": [
       "A data.frame: 6 × 2\n",
       "\\begin{tabular}{r|ll}\n",
       "  & ENSEMBL & gene\\_ID\\\\\n",
       "  & <chr> & <chr>\\\\\n",
       "\\hline\n",
       "\t37 & AGO4   & ENSG00000134698\\\\\n",
       "\t38 & DROSHA & ENSG00000113360\\\\\n",
       "\t39 & ZC3H7B & ENSG00000100403\\\\\n",
       "\t40 & AGO2   & ENSG00000123908\\\\\n",
       "\t41 & AGO1   & ENSG00000092847\\\\\n",
       "\t42 & DICER1 & ENSG00000100697\\\\\n",
       "\\end{tabular}\n"
      ],
      "text/markdown": [
       "\n",
       "A data.frame: 6 × 2\n",
       "\n",
       "| <!--/--> | ENSEMBL &lt;chr&gt; | gene_ID &lt;chr&gt; |\n",
       "|---|---|---|\n",
       "| 37 | AGO4   | ENSG00000134698 |\n",
       "| 38 | DROSHA | ENSG00000113360 |\n",
       "| 39 | ZC3H7B | ENSG00000100403 |\n",
       "| 40 | AGO2   | ENSG00000123908 |\n",
       "| 41 | AGO1   | ENSG00000092847 |\n",
       "| 42 | DICER1 | ENSG00000100697 |\n",
       "\n"
      ],
      "text/plain": [
       "   ENSEMBL gene_ID        \n",
       "37 AGO4    ENSG00000134698\n",
       "38 DROSHA  ENSG00000113360\n",
       "39 ZC3H7B  ENSG00000100403\n",
       "40 AGO2    ENSG00000123908\n",
       "41 AGO1    ENSG00000092847\n",
       "42 DICER1  ENSG00000100697"
      ]
     },
     "metadata": {},
     "output_type": "display_data"
    }
   ],
   "source": [
    "# assign ENSG re.mi\n",
    "\n",
    "assign <- \n",
    "    rel.mi %>%\n",
    "    left_join(gene, by=\"ENSEMBL\")\n",
    "\n",
    "assign[grepl(\"SPOUT1\", assign$ENSEMBL),2] <- \"ENSG00000198917\"\n",
    "assign[grepl(\"TUT4\", assign$ENSEMBL),2] <- \"ENSG00000134744\"\n",
    "assign[grepl(\"TUT7\", assign$ENSEMBL),2] <- \"ENSG00000083223\"\n",
    "\n",
    "assign <- assign[complete.cases(assign),]\n",
    "tail(assign)\n",
    "\n",
    "\n"
   ]
  },
  {
   "cell_type": "code",
   "execution_count": 21,
   "metadata": {},
   "outputs": [
    {
     "data": {
      "text/html": [
       "<table>\n",
       "<caption>A matrix: 6 × 18 of type dbl</caption>\n",
       "<thead>\n",
       "\t<tr><th></th><th scope=col>hela_shgfp_dox_r1</th><th scope=col>hela_shgfp_dox_r2</th><th scope=col>hela_shint3_dox_r1</th><th scope=col>hela_shint3_dox_r2</th><th scope=col>hela_shint7_dox_r1</th><th scope=col>hela_shint7_dox_r2</th><th scope=col>hela_shints1_dox_r1</th><th scope=col>hela_shints1_dox_r2</th><th scope=col>hela_shints11_dox_r1</th><th scope=col>hela_shints11_dox_r2</th><th scope=col>hela_siC_r1</th><th scope=col>hela_siC_r2</th><th scope=col>hela_siDrosha_r1</th><th scope=col>hela_siDrosha_r2</th><th scope=col>hela3_shgfp_dox_r1</th><th scope=col>hela3_shgfp_dox_r2</th><th scope=col>hela3_shints6_dox_r1</th><th scope=col>hela3_shints6_dox_r2</th></tr>\n",
       "</thead>\n",
       "<tbody>\n",
       "\t<tr><th scope=row>TARBP2</th><td> 914.00</td><td> 552</td><td>3366</td><td>3088.99</td><td>2309.00</td><td>2514</td><td> 1386</td><td> 1262.00</td><td> 1649.00</td><td> 1087</td><td> 489</td><td> 585</td><td> 331</td><td> 596</td><td>1379</td><td>1455</td><td>1612</td><td>1701</td></tr>\n",
       "\t<tr><th scope=row>SRF</th><td> 981.00</td><td> 693</td><td> 833</td><td> 819.00</td><td>1858.00</td><td>2060</td><td>  440</td><td>  422.00</td><td> 1177.00</td><td>  876</td><td> 860</td><td> 978</td><td> 326</td><td> 345</td><td>1026</td><td>1200</td><td> 757</td><td> 880</td></tr>\n",
       "\t<tr><th scope=row>EZH2</th><td>3745.99</td><td>4221</td><td>2002</td><td>1811.00</td><td>2758.99</td><td>2912</td><td> 3474</td><td> 3283.00</td><td> 3197.00</td><td> 3089</td><td>1918</td><td>1942</td><td>2195</td><td>1684</td><td>1568</td><td>1583</td><td>1459</td><td>1736</td></tr>\n",
       "\t<tr><th scope=row>TGFBR2</th><td>4545.00</td><td>4756</td><td>5184</td><td>4865.00</td><td>5529.00</td><td>5910</td><td>13821</td><td>14892.97</td><td>12376.99</td><td>10684</td><td>1363</td><td>2571</td><td>4824</td><td>6804</td><td>2312</td><td>2448</td><td>2617</td><td>3408</td></tr>\n",
       "\t<tr><th scope=row>PRKRA</th><td>2374.00</td><td>2781</td><td>1658</td><td>1567.00</td><td>1567.00</td><td>1594</td><td> 1860</td><td> 1665.00</td><td> 1744.00</td><td> 1583</td><td>1178</td><td>1386</td><td>1637</td><td>1382</td><td> 864</td><td> 846</td><td> 863</td><td>1066</td></tr>\n",
       "\t<tr><th scope=row>IL6</th><td> 240.00</td><td> 271</td><td>1500</td><td>1203.00</td><td> 506.00</td><td> 554</td><td>  520</td><td>  446.00</td><td>  993.00</td><td> 1016</td><td> 448</td><td>1223</td><td>2340</td><td>4897</td><td>  67</td><td>  64</td><td> 184</td><td> 210</td></tr>\n",
       "</tbody>\n",
       "</table>\n"
      ],
      "text/latex": [
       "A matrix: 6 × 18 of type dbl\n",
       "\\begin{tabular}{r|llllllllllllllllll}\n",
       "  & hela\\_shgfp\\_dox\\_r1 & hela\\_shgfp\\_dox\\_r2 & hela\\_shint3\\_dox\\_r1 & hela\\_shint3\\_dox\\_r2 & hela\\_shint7\\_dox\\_r1 & hela\\_shint7\\_dox\\_r2 & hela\\_shints1\\_dox\\_r1 & hela\\_shints1\\_dox\\_r2 & hela\\_shints11\\_dox\\_r1 & hela\\_shints11\\_dox\\_r2 & hela\\_siC\\_r1 & hela\\_siC\\_r2 & hela\\_siDrosha\\_r1 & hela\\_siDrosha\\_r2 & hela3\\_shgfp\\_dox\\_r1 & hela3\\_shgfp\\_dox\\_r2 & hela3\\_shints6\\_dox\\_r1 & hela3\\_shints6\\_dox\\_r2\\\\\n",
       "\\hline\n",
       "\tTARBP2 &  914.00 &  552 & 3366 & 3088.99 & 2309.00 & 2514 &  1386 &  1262.00 &  1649.00 &  1087 &  489 &  585 &  331 &  596 & 1379 & 1455 & 1612 & 1701\\\\\n",
       "\tSRF &  981.00 &  693 &  833 &  819.00 & 1858.00 & 2060 &   440 &   422.00 &  1177.00 &   876 &  860 &  978 &  326 &  345 & 1026 & 1200 &  757 &  880\\\\\n",
       "\tEZH2 & 3745.99 & 4221 & 2002 & 1811.00 & 2758.99 & 2912 &  3474 &  3283.00 &  3197.00 &  3089 & 1918 & 1942 & 2195 & 1684 & 1568 & 1583 & 1459 & 1736\\\\\n",
       "\tTGFBR2 & 4545.00 & 4756 & 5184 & 4865.00 & 5529.00 & 5910 & 13821 & 14892.97 & 12376.99 & 10684 & 1363 & 2571 & 4824 & 6804 & 2312 & 2448 & 2617 & 3408\\\\\n",
       "\tPRKRA & 2374.00 & 2781 & 1658 & 1567.00 & 1567.00 & 1594 &  1860 &  1665.00 &  1744.00 &  1583 & 1178 & 1386 & 1637 & 1382 &  864 &  846 &  863 & 1066\\\\\n",
       "\tIL6 &  240.00 &  271 & 1500 & 1203.00 &  506.00 &  554 &   520 &   446.00 &   993.00 &  1016 &  448 & 1223 & 2340 & 4897 &   67 &   64 &  184 &  210\\\\\n",
       "\\end{tabular}\n"
      ],
      "text/markdown": [
       "\n",
       "A matrix: 6 × 18 of type dbl\n",
       "\n",
       "| <!--/--> | hela_shgfp_dox_r1 | hela_shgfp_dox_r2 | hela_shint3_dox_r1 | hela_shint3_dox_r2 | hela_shint7_dox_r1 | hela_shint7_dox_r2 | hela_shints1_dox_r1 | hela_shints1_dox_r2 | hela_shints11_dox_r1 | hela_shints11_dox_r2 | hela_siC_r1 | hela_siC_r2 | hela_siDrosha_r1 | hela_siDrosha_r2 | hela3_shgfp_dox_r1 | hela3_shgfp_dox_r2 | hela3_shints6_dox_r1 | hela3_shints6_dox_r2 |\n",
       "|---|---|---|---|---|---|---|---|---|---|---|---|---|---|---|---|---|---|---|\n",
       "| TARBP2 |  914.00 |  552 | 3366 | 3088.99 | 2309.00 | 2514 |  1386 |  1262.00 |  1649.00 |  1087 |  489 |  585 |  331 |  596 | 1379 | 1455 | 1612 | 1701 |\n",
       "| SRF |  981.00 |  693 |  833 |  819.00 | 1858.00 | 2060 |   440 |   422.00 |  1177.00 |   876 |  860 |  978 |  326 |  345 | 1026 | 1200 |  757 |  880 |\n",
       "| EZH2 | 3745.99 | 4221 | 2002 | 1811.00 | 2758.99 | 2912 |  3474 |  3283.00 |  3197.00 |  3089 | 1918 | 1942 | 2195 | 1684 | 1568 | 1583 | 1459 | 1736 |\n",
       "| TGFBR2 | 4545.00 | 4756 | 5184 | 4865.00 | 5529.00 | 5910 | 13821 | 14892.97 | 12376.99 | 10684 | 1363 | 2571 | 4824 | 6804 | 2312 | 2448 | 2617 | 3408 |\n",
       "| PRKRA | 2374.00 | 2781 | 1658 | 1567.00 | 1567.00 | 1594 |  1860 |  1665.00 |  1744.00 |  1583 | 1178 | 1386 | 1637 | 1382 |  864 |  846 |  863 | 1066 |\n",
       "| IL6 |  240.00 |  271 | 1500 | 1203.00 |  506.00 |  554 |   520 |   446.00 |   993.00 |  1016 |  448 | 1223 | 2340 | 4897 |   67 |   64 |  184 |  210 |\n",
       "\n"
      ],
      "text/plain": [
       "       hela_shgfp_dox_r1 hela_shgfp_dox_r2 hela_shint3_dox_r1\n",
       "TARBP2  914.00            552              3366              \n",
       "SRF     981.00            693               833              \n",
       "EZH2   3745.99           4221              2002              \n",
       "TGFBR2 4545.00           4756              5184              \n",
       "PRKRA  2374.00           2781              1658              \n",
       "IL6     240.00            271              1500              \n",
       "       hela_shint3_dox_r2 hela_shint7_dox_r1 hela_shint7_dox_r2\n",
       "TARBP2 3088.99            2309.00            2514              \n",
       "SRF     819.00            1858.00            2060              \n",
       "EZH2   1811.00            2758.99            2912              \n",
       "TGFBR2 4865.00            5529.00            5910              \n",
       "PRKRA  1567.00            1567.00            1594              \n",
       "IL6    1203.00             506.00             554              \n",
       "       hela_shints1_dox_r1 hela_shints1_dox_r2 hela_shints11_dox_r1\n",
       "TARBP2  1386                1262.00             1649.00            \n",
       "SRF      440                 422.00             1177.00            \n",
       "EZH2    3474                3283.00             3197.00            \n",
       "TGFBR2 13821               14892.97            12376.99            \n",
       "PRKRA   1860                1665.00             1744.00            \n",
       "IL6      520                 446.00              993.00            \n",
       "       hela_shints11_dox_r2 hela_siC_r1 hela_siC_r2 hela_siDrosha_r1\n",
       "TARBP2  1087                 489         585         331            \n",
       "SRF      876                 860         978         326            \n",
       "EZH2    3089                1918        1942        2195            \n",
       "TGFBR2 10684                1363        2571        4824            \n",
       "PRKRA   1583                1178        1386        1637            \n",
       "IL6     1016                 448        1223        2340            \n",
       "       hela_siDrosha_r2 hela3_shgfp_dox_r1 hela3_shgfp_dox_r2\n",
       "TARBP2  596             1379               1455              \n",
       "SRF     345             1026               1200              \n",
       "EZH2   1684             1568               1583              \n",
       "TGFBR2 6804             2312               2448              \n",
       "PRKRA  1382              864                846              \n",
       "IL6    4897               67                 64              \n",
       "       hela3_shints6_dox_r1 hela3_shints6_dox_r2\n",
       "TARBP2 1612                 1701                \n",
       "SRF     757                  880                \n",
       "EZH2   1459                 1736                \n",
       "TGFBR2 2617                 3408                \n",
       "PRKRA   863                 1066                \n",
       "IL6     184                  210                "
      ]
     },
     "metadata": {},
     "output_type": "display_data"
    }
   ],
   "source": [
    "mi <- \n",
    "    assign %>%\n",
    "    left_join(d, by=\"gene_ID\")\n",
    "rownames(mi) <- mi$ENSEMBL\n",
    "mi <- as.matrix(mi[,-c(1,2)])\n",
    "head(mi)\n"
   ]
  },
  {
   "cell_type": "markdown",
   "metadata": {},
   "source": [
    "# 3) Deseq2, all 57773 genes --> select miRNA relevant afterwards!"
   ]
  },
  {
   "cell_type": "code",
   "execution_count": 27,
   "metadata": {},
   "outputs": [],
   "source": [
    "# for Deseq2, work with expected counts from rsem table"
   ]
  },
  {
   "cell_type": "code",
   "execution_count": 22,
   "metadata": {},
   "outputs": [],
   "source": [
    "set.seed(100)"
   ]
  },
  {
   "cell_type": "markdown",
   "metadata": {},
   "source": [
    "## respective replicates"
   ]
  },
  {
   "cell_type": "code",
   "execution_count": 23,
   "metadata": {},
   "outputs": [
    {
     "data": {
      "text/html": [
       "<table>\n",
       "<caption>A data.frame: 3 × 18</caption>\n",
       "<thead>\n",
       "\t<tr><th></th><th scope=col>hela_shgfp_dox_r1</th><th scope=col>hela_shgfp_dox_r2</th><th scope=col>hela_shint3_dox_r1</th><th scope=col>hela_shint3_dox_r2</th><th scope=col>hela_shint7_dox_r1</th><th scope=col>hela_shint7_dox_r2</th><th scope=col>hela_shints1_dox_r1</th><th scope=col>hela_shints1_dox_r2</th><th scope=col>hela_shints11_dox_r1</th><th scope=col>hela_shints11_dox_r2</th><th scope=col>hela_siC_r1</th><th scope=col>hela_siC_r2</th><th scope=col>hela_siDrosha_r1</th><th scope=col>hela_siDrosha_r2</th><th scope=col>hela3_shgfp_dox_r1</th><th scope=col>hela3_shgfp_dox_r2</th><th scope=col>hela3_shints6_dox_r1</th><th scope=col>hela3_shints6_dox_r2</th></tr>\n",
       "\t<tr><th></th><th scope=col>&lt;dbl&gt;</th><th scope=col>&lt;dbl&gt;</th><th scope=col>&lt;dbl&gt;</th><th scope=col>&lt;dbl&gt;</th><th scope=col>&lt;dbl&gt;</th><th scope=col>&lt;dbl&gt;</th><th scope=col>&lt;dbl&gt;</th><th scope=col>&lt;dbl&gt;</th><th scope=col>&lt;dbl&gt;</th><th scope=col>&lt;dbl&gt;</th><th scope=col>&lt;dbl&gt;</th><th scope=col>&lt;dbl&gt;</th><th scope=col>&lt;dbl&gt;</th><th scope=col>&lt;dbl&gt;</th><th scope=col>&lt;dbl&gt;</th><th scope=col>&lt;dbl&gt;</th><th scope=col>&lt;dbl&gt;</th><th scope=col>&lt;dbl&gt;</th></tr>\n",
       "</thead>\n",
       "<tbody>\n",
       "\t<tr><th scope=row>ENSG00000000003</th><td>3558</td><td>4332</td><td>2759</td><td>2807</td><td>2379</td><td>2652</td><td>5393</td><td>6103</td><td>3769</td><td>3664</td><td>1802</td><td>1890</td><td>1870</td><td>1398</td><td>1621</td><td>1567</td><td>2424</td><td>2855</td></tr>\n",
       "\t<tr><th scope=row>ENSG00000000005</th><td>   0</td><td>   0</td><td>   0</td><td>   0</td><td>   0</td><td>   0</td><td>   0</td><td>   0</td><td>   0</td><td>   0</td><td>   0</td><td>   0</td><td>   0</td><td>   0</td><td>   0</td><td>   0</td><td>   0</td><td>   0</td></tr>\n",
       "\t<tr><th scope=row>ENSG00000000419</th><td>3231</td><td>3931</td><td>2771</td><td>2531</td><td>1819</td><td>2152</td><td>3020</td><td>2836</td><td>2892</td><td>2408</td><td>1703</td><td>2144</td><td>1842</td><td>1505</td><td>1103</td><td>1111</td><td>1128</td><td>1413</td></tr>\n",
       "</tbody>\n",
       "</table>\n"
      ],
      "text/latex": [
       "A data.frame: 3 × 18\n",
       "\\begin{tabular}{r|llllllllllllllllll}\n",
       "  & hela\\_shgfp\\_dox\\_r1 & hela\\_shgfp\\_dox\\_r2 & hela\\_shint3\\_dox\\_r1 & hela\\_shint3\\_dox\\_r2 & hela\\_shint7\\_dox\\_r1 & hela\\_shint7\\_dox\\_r2 & hela\\_shints1\\_dox\\_r1 & hela\\_shints1\\_dox\\_r2 & hela\\_shints11\\_dox\\_r1 & hela\\_shints11\\_dox\\_r2 & hela\\_siC\\_r1 & hela\\_siC\\_r2 & hela\\_siDrosha\\_r1 & hela\\_siDrosha\\_r2 & hela3\\_shgfp\\_dox\\_r1 & hela3\\_shgfp\\_dox\\_r2 & hela3\\_shints6\\_dox\\_r1 & hela3\\_shints6\\_dox\\_r2\\\\\n",
       "  & <dbl> & <dbl> & <dbl> & <dbl> & <dbl> & <dbl> & <dbl> & <dbl> & <dbl> & <dbl> & <dbl> & <dbl> & <dbl> & <dbl> & <dbl> & <dbl> & <dbl> & <dbl>\\\\\n",
       "\\hline\n",
       "\tENSG00000000003 & 3558 & 4332 & 2759 & 2807 & 2379 & 2652 & 5393 & 6103 & 3769 & 3664 & 1802 & 1890 & 1870 & 1398 & 1621 & 1567 & 2424 & 2855\\\\\n",
       "\tENSG00000000005 &    0 &    0 &    0 &    0 &    0 &    0 &    0 &    0 &    0 &    0 &    0 &    0 &    0 &    0 &    0 &    0 &    0 &    0\\\\\n",
       "\tENSG00000000419 & 3231 & 3931 & 2771 & 2531 & 1819 & 2152 & 3020 & 2836 & 2892 & 2408 & 1703 & 2144 & 1842 & 1505 & 1103 & 1111 & 1128 & 1413\\\\\n",
       "\\end{tabular}\n"
      ],
      "text/markdown": [
       "\n",
       "A data.frame: 3 × 18\n",
       "\n",
       "| <!--/--> | hela_shgfp_dox_r1 &lt;dbl&gt; | hela_shgfp_dox_r2 &lt;dbl&gt; | hela_shint3_dox_r1 &lt;dbl&gt; | hela_shint3_dox_r2 &lt;dbl&gt; | hela_shint7_dox_r1 &lt;dbl&gt; | hela_shint7_dox_r2 &lt;dbl&gt; | hela_shints1_dox_r1 &lt;dbl&gt; | hela_shints1_dox_r2 &lt;dbl&gt; | hela_shints11_dox_r1 &lt;dbl&gt; | hela_shints11_dox_r2 &lt;dbl&gt; | hela_siC_r1 &lt;dbl&gt; | hela_siC_r2 &lt;dbl&gt; | hela_siDrosha_r1 &lt;dbl&gt; | hela_siDrosha_r2 &lt;dbl&gt; | hela3_shgfp_dox_r1 &lt;dbl&gt; | hela3_shgfp_dox_r2 &lt;dbl&gt; | hela3_shints6_dox_r1 &lt;dbl&gt; | hela3_shints6_dox_r2 &lt;dbl&gt; |\n",
       "|---|---|---|---|---|---|---|---|---|---|---|---|---|---|---|---|---|---|---|\n",
       "| ENSG00000000003 | 3558 | 4332 | 2759 | 2807 | 2379 | 2652 | 5393 | 6103 | 3769 | 3664 | 1802 | 1890 | 1870 | 1398 | 1621 | 1567 | 2424 | 2855 |\n",
       "| ENSG00000000005 |    0 |    0 |    0 |    0 |    0 |    0 |    0 |    0 |    0 |    0 |    0 |    0 |    0 |    0 |    0 |    0 |    0 |    0 |\n",
       "| ENSG00000000419 | 3231 | 3931 | 2771 | 2531 | 1819 | 2152 | 3020 | 2836 | 2892 | 2408 | 1703 | 2144 | 1842 | 1505 | 1103 | 1111 | 1128 | 1413 |\n",
       "\n"
      ],
      "text/plain": [
       "                hela_shgfp_dox_r1 hela_shgfp_dox_r2 hela_shint3_dox_r1\n",
       "ENSG00000000003 3558              4332              2759              \n",
       "ENSG00000000005    0                 0                 0              \n",
       "ENSG00000000419 3231              3931              2771              \n",
       "                hela_shint3_dox_r2 hela_shint7_dox_r1 hela_shint7_dox_r2\n",
       "ENSG00000000003 2807               2379               2652              \n",
       "ENSG00000000005    0                  0                  0              \n",
       "ENSG00000000419 2531               1819               2152              \n",
       "                hela_shints1_dox_r1 hela_shints1_dox_r2 hela_shints11_dox_r1\n",
       "ENSG00000000003 5393                6103                3769                \n",
       "ENSG00000000005    0                   0                   0                \n",
       "ENSG00000000419 3020                2836                2892                \n",
       "                hela_shints11_dox_r2 hela_siC_r1 hela_siC_r2 hela_siDrosha_r1\n",
       "ENSG00000000003 3664                 1802        1890        1870            \n",
       "ENSG00000000005    0                    0           0           0            \n",
       "ENSG00000000419 2408                 1703        2144        1842            \n",
       "                hela_siDrosha_r2 hela3_shgfp_dox_r1 hela3_shgfp_dox_r2\n",
       "ENSG00000000003 1398             1621               1567              \n",
       "ENSG00000000005    0                0                  0              \n",
       "ENSG00000000419 1505             1103               1111              \n",
       "                hela3_shints6_dox_r1 hela3_shints6_dox_r2\n",
       "ENSG00000000003 2424                 2855                \n",
       "ENSG00000000005    0                    0                \n",
       "ENSG00000000419 1128                 1413                "
      ]
     },
     "metadata": {},
     "output_type": "display_data"
    },
    {
     "data": {
      "text/html": [
       "<style>\n",
       ".list-inline {list-style: none; margin:0; padding: 0}\n",
       ".list-inline>li {display: inline-block}\n",
       ".list-inline>li:not(:last-child)::after {content: \"\\00b7\"; padding: 0 .5ex}\n",
       "</style>\n",
       "<ol class=list-inline><li>'hela_shgfp_dox_r1'</li><li>'hela_shgfp_dox_r2'</li><li>'hela_shint3_dox_r1'</li><li>'hela_shint3_dox_r2'</li><li>'hela_shint7_dox_r1'</li><li>'hela_shint7_dox_r2'</li><li>'hela_shints1_dox_r1'</li><li>'hela_shints1_dox_r2'</li><li>'hela_shints11_dox_r1'</li><li>'hela_shints11_dox_r2'</li><li>'hela_siC_r1'</li><li>'hela_siC_r2'</li><li>'hela_siDrosha_r1'</li><li>'hela_siDrosha_r2'</li><li>'hela3_shgfp_dox_r1'</li><li>'hela3_shgfp_dox_r2'</li><li>'hela3_shints6_dox_r1'</li><li>'hela3_shints6_dox_r2'</li></ol>\n"
      ],
      "text/latex": [
       "\\begin{enumerate*}\n",
       "\\item 'hela\\_shgfp\\_dox\\_r1'\n",
       "\\item 'hela\\_shgfp\\_dox\\_r2'\n",
       "\\item 'hela\\_shint3\\_dox\\_r1'\n",
       "\\item 'hela\\_shint3\\_dox\\_r2'\n",
       "\\item 'hela\\_shint7\\_dox\\_r1'\n",
       "\\item 'hela\\_shint7\\_dox\\_r2'\n",
       "\\item 'hela\\_shints1\\_dox\\_r1'\n",
       "\\item 'hela\\_shints1\\_dox\\_r2'\n",
       "\\item 'hela\\_shints11\\_dox\\_r1'\n",
       "\\item 'hela\\_shints11\\_dox\\_r2'\n",
       "\\item 'hela\\_siC\\_r1'\n",
       "\\item 'hela\\_siC\\_r2'\n",
       "\\item 'hela\\_siDrosha\\_r1'\n",
       "\\item 'hela\\_siDrosha\\_r2'\n",
       "\\item 'hela3\\_shgfp\\_dox\\_r1'\n",
       "\\item 'hela3\\_shgfp\\_dox\\_r2'\n",
       "\\item 'hela3\\_shints6\\_dox\\_r1'\n",
       "\\item 'hela3\\_shints6\\_dox\\_r2'\n",
       "\\end{enumerate*}\n"
      ],
      "text/markdown": [
       "1. 'hela_shgfp_dox_r1'\n",
       "2. 'hela_shgfp_dox_r2'\n",
       "3. 'hela_shint3_dox_r1'\n",
       "4. 'hela_shint3_dox_r2'\n",
       "5. 'hela_shint7_dox_r1'\n",
       "6. 'hela_shint7_dox_r2'\n",
       "7. 'hela_shints1_dox_r1'\n",
       "8. 'hela_shints1_dox_r2'\n",
       "9. 'hela_shints11_dox_r1'\n",
       "10. 'hela_shints11_dox_r2'\n",
       "11. 'hela_siC_r1'\n",
       "12. 'hela_siC_r2'\n",
       "13. 'hela_siDrosha_r1'\n",
       "14. 'hela_siDrosha_r2'\n",
       "15. 'hela3_shgfp_dox_r1'\n",
       "16. 'hela3_shgfp_dox_r2'\n",
       "17. 'hela3_shints6_dox_r1'\n",
       "18. 'hela3_shints6_dox_r2'\n",
       "\n",
       "\n"
      ],
      "text/plain": [
       " [1] \"hela_shgfp_dox_r1\"    \"hela_shgfp_dox_r2\"    \"hela_shint3_dox_r1\"  \n",
       " [4] \"hela_shint3_dox_r2\"   \"hela_shint7_dox_r1\"   \"hela_shint7_dox_r2\"  \n",
       " [7] \"hela_shints1_dox_r1\"  \"hela_shints1_dox_r2\"  \"hela_shints11_dox_r1\"\n",
       "[10] \"hela_shints11_dox_r2\" \"hela_siC_r1\"          \"hela_siC_r2\"         \n",
       "[13] \"hela_siDrosha_r1\"     \"hela_siDrosha_r2\"     \"hela3_shgfp_dox_r1\"  \n",
       "[16] \"hela3_shgfp_dox_r2\"   \"hela3_shints6_dox_r1\" \"hela3_shints6_dox_r2\""
      ]
     },
     "metadata": {},
     "output_type": "display_data"
    },
    {
     "data": {
      "text/html": [
       "<table>\n",
       "<caption>A matrix: 6 × 18 of type dbl</caption>\n",
       "<thead>\n",
       "\t<tr><th></th><th scope=col>hela_shgfp_dox_r1</th><th scope=col>hela_shgfp_dox_r2</th><th scope=col>hela_shint3_dox_r1</th><th scope=col>hela_shint3_dox_r2</th><th scope=col>hela_shint7_dox_r1</th><th scope=col>hela_shint7_dox_r2</th><th scope=col>hela_shints1_dox_r1</th><th scope=col>hela_shints1_dox_r2</th><th scope=col>hela_shints11_dox_r1</th><th scope=col>hela_shints11_dox_r2</th><th scope=col>hela_siC_r1</th><th scope=col>hela_siC_r2</th><th scope=col>hela_siDrosha_r1</th><th scope=col>hela_siDrosha_r2</th><th scope=col>hela3_shgfp_dox_r1</th><th scope=col>hela3_shgfp_dox_r2</th><th scope=col>hela3_shints6_dox_r1</th><th scope=col>hela3_shints6_dox_r2</th></tr>\n",
       "</thead>\n",
       "<tbody>\n",
       "\t<tr><th scope=row>ENSG00000000003</th><td>3558</td><td>4332</td><td>2759</td><td>2807</td><td>2379</td><td>2652</td><td>5393</td><td>6103</td><td>3769</td><td>3664</td><td>1802</td><td>1890</td><td> 1870</td><td>1398</td><td>1621</td><td>1567</td><td>2424</td><td>2855</td></tr>\n",
       "\t<tr><th scope=row>ENSG00000000419</th><td>3231</td><td>3931</td><td>2771</td><td>2531</td><td>1819</td><td>2152</td><td>3020</td><td>2836</td><td>2892</td><td>2408</td><td>1703</td><td>2144</td><td> 1842</td><td>1505</td><td>1103</td><td>1111</td><td>1128</td><td>1413</td></tr>\n",
       "\t<tr><th scope=row>ENSG00000000457</th><td> 625</td><td> 758</td><td> 544</td><td> 482</td><td> 315</td><td> 318</td><td> 942</td><td> 906</td><td> 788</td><td> 738</td><td> 535</td><td> 523</td><td>  572</td><td> 549</td><td> 300</td><td> 305</td><td> 347</td><td> 443</td></tr>\n",
       "\t<tr><th scope=row>ENSG00000000460</th><td>1706</td><td>2047</td><td>1480</td><td>1424</td><td>1288</td><td>1414</td><td>1860</td><td>1776</td><td>1662</td><td>1463</td><td>1513</td><td>1536</td><td> 1483</td><td>1057</td><td> 629</td><td> 740</td><td> 737</td><td> 874</td></tr>\n",
       "\t<tr><th scope=row>ENSG00000000938</th><td>   0</td><td>   0</td><td>   1</td><td>   0</td><td>   0</td><td>   0</td><td>   0</td><td>   0</td><td>   0</td><td>   0</td><td>   0</td><td>   0</td><td>    0</td><td>   0</td><td>   0</td><td>   3</td><td>   0</td><td>   0</td></tr>\n",
       "\t<tr><th scope=row>ENSG00000000971</th><td>   8</td><td>  10</td><td>   0</td><td>   0</td><td>   5</td><td>   3</td><td>   0</td><td>   0</td><td>   0</td><td>   0</td><td>8941</td><td>6023</td><td>10547</td><td>5989</td><td>  37</td><td>  52</td><td>  29</td><td>  48</td></tr>\n",
       "</tbody>\n",
       "</table>\n"
      ],
      "text/latex": [
       "A matrix: 6 × 18 of type dbl\n",
       "\\begin{tabular}{r|llllllllllllllllll}\n",
       "  & hela\\_shgfp\\_dox\\_r1 & hela\\_shgfp\\_dox\\_r2 & hela\\_shint3\\_dox\\_r1 & hela\\_shint3\\_dox\\_r2 & hela\\_shint7\\_dox\\_r1 & hela\\_shint7\\_dox\\_r2 & hela\\_shints1\\_dox\\_r1 & hela\\_shints1\\_dox\\_r2 & hela\\_shints11\\_dox\\_r1 & hela\\_shints11\\_dox\\_r2 & hela\\_siC\\_r1 & hela\\_siC\\_r2 & hela\\_siDrosha\\_r1 & hela\\_siDrosha\\_r2 & hela3\\_shgfp\\_dox\\_r1 & hela3\\_shgfp\\_dox\\_r2 & hela3\\_shints6\\_dox\\_r1 & hela3\\_shints6\\_dox\\_r2\\\\\n",
       "\\hline\n",
       "\tENSG00000000003 & 3558 & 4332 & 2759 & 2807 & 2379 & 2652 & 5393 & 6103 & 3769 & 3664 & 1802 & 1890 &  1870 & 1398 & 1621 & 1567 & 2424 & 2855\\\\\n",
       "\tENSG00000000419 & 3231 & 3931 & 2771 & 2531 & 1819 & 2152 & 3020 & 2836 & 2892 & 2408 & 1703 & 2144 &  1842 & 1505 & 1103 & 1111 & 1128 & 1413\\\\\n",
       "\tENSG00000000457 &  625 &  758 &  544 &  482 &  315 &  318 &  942 &  906 &  788 &  738 &  535 &  523 &   572 &  549 &  300 &  305 &  347 &  443\\\\\n",
       "\tENSG00000000460 & 1706 & 2047 & 1480 & 1424 & 1288 & 1414 & 1860 & 1776 & 1662 & 1463 & 1513 & 1536 &  1483 & 1057 &  629 &  740 &  737 &  874\\\\\n",
       "\tENSG00000000938 &    0 &    0 &    1 &    0 &    0 &    0 &    0 &    0 &    0 &    0 &    0 &    0 &     0 &    0 &    0 &    3 &    0 &    0\\\\\n",
       "\tENSG00000000971 &    8 &   10 &    0 &    0 &    5 &    3 &    0 &    0 &    0 &    0 & 8941 & 6023 & 10547 & 5989 &   37 &   52 &   29 &   48\\\\\n",
       "\\end{tabular}\n"
      ],
      "text/markdown": [
       "\n",
       "A matrix: 6 × 18 of type dbl\n",
       "\n",
       "| <!--/--> | hela_shgfp_dox_r1 | hela_shgfp_dox_r2 | hela_shint3_dox_r1 | hela_shint3_dox_r2 | hela_shint7_dox_r1 | hela_shint7_dox_r2 | hela_shints1_dox_r1 | hela_shints1_dox_r2 | hela_shints11_dox_r1 | hela_shints11_dox_r2 | hela_siC_r1 | hela_siC_r2 | hela_siDrosha_r1 | hela_siDrosha_r2 | hela3_shgfp_dox_r1 | hela3_shgfp_dox_r2 | hela3_shints6_dox_r1 | hela3_shints6_dox_r2 |\n",
       "|---|---|---|---|---|---|---|---|---|---|---|---|---|---|---|---|---|---|---|\n",
       "| ENSG00000000003 | 3558 | 4332 | 2759 | 2807 | 2379 | 2652 | 5393 | 6103 | 3769 | 3664 | 1802 | 1890 |  1870 | 1398 | 1621 | 1567 | 2424 | 2855 |\n",
       "| ENSG00000000419 | 3231 | 3931 | 2771 | 2531 | 1819 | 2152 | 3020 | 2836 | 2892 | 2408 | 1703 | 2144 |  1842 | 1505 | 1103 | 1111 | 1128 | 1413 |\n",
       "| ENSG00000000457 |  625 |  758 |  544 |  482 |  315 |  318 |  942 |  906 |  788 |  738 |  535 |  523 |   572 |  549 |  300 |  305 |  347 |  443 |\n",
       "| ENSG00000000460 | 1706 | 2047 | 1480 | 1424 | 1288 | 1414 | 1860 | 1776 | 1662 | 1463 | 1513 | 1536 |  1483 | 1057 |  629 |  740 |  737 |  874 |\n",
       "| ENSG00000000938 |    0 |    0 |    1 |    0 |    0 |    0 |    0 |    0 |    0 |    0 |    0 |    0 |     0 |    0 |    0 |    3 |    0 |    0 |\n",
       "| ENSG00000000971 |    8 |   10 |    0 |    0 |    5 |    3 |    0 |    0 |    0 |    0 | 8941 | 6023 | 10547 | 5989 |   37 |   52 |   29 |   48 |\n",
       "\n"
      ],
      "text/plain": [
       "                hela_shgfp_dox_r1 hela_shgfp_dox_r2 hela_shint3_dox_r1\n",
       "ENSG00000000003 3558              4332              2759              \n",
       "ENSG00000000419 3231              3931              2771              \n",
       "ENSG00000000457  625               758               544              \n",
       "ENSG00000000460 1706              2047              1480              \n",
       "ENSG00000000938    0                 0                 1              \n",
       "ENSG00000000971    8                10                 0              \n",
       "                hela_shint3_dox_r2 hela_shint7_dox_r1 hela_shint7_dox_r2\n",
       "ENSG00000000003 2807               2379               2652              \n",
       "ENSG00000000419 2531               1819               2152              \n",
       "ENSG00000000457  482                315                318              \n",
       "ENSG00000000460 1424               1288               1414              \n",
       "ENSG00000000938    0                  0                  0              \n",
       "ENSG00000000971    0                  5                  3              \n",
       "                hela_shints1_dox_r1 hela_shints1_dox_r2 hela_shints11_dox_r1\n",
       "ENSG00000000003 5393                6103                3769                \n",
       "ENSG00000000419 3020                2836                2892                \n",
       "ENSG00000000457  942                 906                 788                \n",
       "ENSG00000000460 1860                1776                1662                \n",
       "ENSG00000000938    0                   0                   0                \n",
       "ENSG00000000971    0                   0                   0                \n",
       "                hela_shints11_dox_r2 hela_siC_r1 hela_siC_r2 hela_siDrosha_r1\n",
       "ENSG00000000003 3664                 1802        1890         1870           \n",
       "ENSG00000000419 2408                 1703        2144         1842           \n",
       "ENSG00000000457  738                  535         523          572           \n",
       "ENSG00000000460 1463                 1513        1536         1483           \n",
       "ENSG00000000938    0                    0           0            0           \n",
       "ENSG00000000971    0                 8941        6023        10547           \n",
       "                hela_siDrosha_r2 hela3_shgfp_dox_r1 hela3_shgfp_dox_r2\n",
       "ENSG00000000003 1398             1621               1567              \n",
       "ENSG00000000419 1505             1103               1111              \n",
       "ENSG00000000457  549              300                305              \n",
       "ENSG00000000460 1057              629                740              \n",
       "ENSG00000000938    0                0                  3              \n",
       "ENSG00000000971 5989               37                 52              \n",
       "                hela3_shints6_dox_r1 hela3_shints6_dox_r2\n",
       "ENSG00000000003 2424                 2855                \n",
       "ENSG00000000419 1128                 1413                \n",
       "ENSG00000000457  347                  443                \n",
       "ENSG00000000460  737                  874                \n",
       "ENSG00000000938    0                    0                \n",
       "ENSG00000000971   29                   48                "
      ]
     },
     "metadata": {},
     "output_type": "display_data"
    },
    {
     "data": {
      "text/html": [
       "35058"
      ],
      "text/latex": [
       "35058"
      ],
      "text/markdown": [
       "35058"
      ],
      "text/plain": [
       "[1] 35058"
      ]
     },
     "metadata": {},
     "output_type": "display_data"
    }
   ],
   "source": [
    "head(d2,n=3)\n",
    "colnames(d2)\n",
    "d3 <- apply(d2, 2, function(x) round(x, digits=0))\n",
    "rownames(d3) <- rownames(d2)\n",
    "d3 <- d3[(rowSums(d3)>1),] # as in Felipe/Lucas script\n",
    "head(d3)\n",
    "nrow(d3)"
   ]
  },
  {
   "cell_type": "code",
   "execution_count": 24,
   "metadata": {},
   "outputs": [
    {
     "data": {
      "text/html": [
       "28517"
      ],
      "text/latex": [
       "28517"
      ],
      "text/markdown": [
       "28517"
      ],
      "text/plain": [
       "[1] 28517"
      ]
     },
     "metadata": {},
     "output_type": "display_data"
    },
    {
     "data": {
      "text/html": [
       "<style>\n",
       ".list-inline {list-style: none; margin:0; padding: 0}\n",
       ".list-inline>li {display: inline-block}\n",
       ".list-inline>li:not(:last-child)::after {content: \"\\00b7\"; padding: 0 .5ex}\n",
       "</style>\n",
       "<ol class=list-inline><li>'rownames(d3)'</li><li>'hela_shgfp_dox_r1'</li><li>'hela_shgfp_dox_r2'</li><li>'hela_shints1_dox_r1'</li><li>'hela_shints1_dox_r2'</li></ol>\n"
      ],
      "text/latex": [
       "\\begin{enumerate*}\n",
       "\\item 'rownames(d3)'\n",
       "\\item 'hela\\_shgfp\\_dox\\_r1'\n",
       "\\item 'hela\\_shgfp\\_dox\\_r2'\n",
       "\\item 'hela\\_shints1\\_dox\\_r1'\n",
       "\\item 'hela\\_shints1\\_dox\\_r2'\n",
       "\\end{enumerate*}\n"
      ],
      "text/markdown": [
       "1. 'rownames(d3)'\n",
       "2. 'hela_shgfp_dox_r1'\n",
       "3. 'hela_shgfp_dox_r2'\n",
       "4. 'hela_shints1_dox_r1'\n",
       "5. 'hela_shints1_dox_r2'\n",
       "\n",
       "\n"
      ],
      "text/plain": [
       "[1] \"rownames(d3)\"        \"hela_shgfp_dox_r1\"   \"hela_shgfp_dox_r2\"  \n",
       "[4] \"hela_shints1_dox_r1\" \"hela_shints1_dox_r2\""
      ]
     },
     "metadata": {},
     "output_type": "display_data"
    },
    {
     "data": {
      "text/html": [
       "<style>\n",
       ".list-inline {list-style: none; margin:0; padding: 0}\n",
       ".list-inline>li {display: inline-block}\n",
       ".list-inline>li:not(:last-child)::after {content: \"\\00b7\"; padding: 0 .5ex}\n",
       "</style>\n",
       "<ol class=list-inline><li>'rownames(d3)'</li><li>'hela_shgfp_dox_r1'</li><li>'hela_shgfp_dox_r2'</li><li>'hela_shint3_dox_r1'</li><li>'hela_shint3_dox_r2'</li></ol>\n"
      ],
      "text/latex": [
       "\\begin{enumerate*}\n",
       "\\item 'rownames(d3)'\n",
       "\\item 'hela\\_shgfp\\_dox\\_r1'\n",
       "\\item 'hela\\_shgfp\\_dox\\_r2'\n",
       "\\item 'hela\\_shint3\\_dox\\_r1'\n",
       "\\item 'hela\\_shint3\\_dox\\_r2'\n",
       "\\end{enumerate*}\n"
      ],
      "text/markdown": [
       "1. 'rownames(d3)'\n",
       "2. 'hela_shgfp_dox_r1'\n",
       "3. 'hela_shgfp_dox_r2'\n",
       "4. 'hela_shint3_dox_r1'\n",
       "5. 'hela_shint3_dox_r2'\n",
       "\n",
       "\n"
      ],
      "text/plain": [
       "[1] \"rownames(d3)\"       \"hela_shgfp_dox_r1\"  \"hela_shgfp_dox_r2\" \n",
       "[4] \"hela_shint3_dox_r1\" \"hela_shint3_dox_r2\""
      ]
     },
     "metadata": {},
     "output_type": "display_data"
    },
    {
     "data": {
      "text/html": [
       "<style>\n",
       ".list-inline {list-style: none; margin:0; padding: 0}\n",
       ".list-inline>li {display: inline-block}\n",
       ".list-inline>li:not(:last-child)::after {content: \"\\00b7\"; padding: 0 .5ex}\n",
       "</style>\n",
       "<ol class=list-inline><li>'rownames(d3)'</li><li>'hela_shgfp_dox_r1'</li><li>'hela_shgfp_dox_r2'</li><li>'hela_shint7_dox_r1'</li><li>'hela_shint7_dox_r2'</li></ol>\n"
      ],
      "text/latex": [
       "\\begin{enumerate*}\n",
       "\\item 'rownames(d3)'\n",
       "\\item 'hela\\_shgfp\\_dox\\_r1'\n",
       "\\item 'hela\\_shgfp\\_dox\\_r2'\n",
       "\\item 'hela\\_shint7\\_dox\\_r1'\n",
       "\\item 'hela\\_shint7\\_dox\\_r2'\n",
       "\\end{enumerate*}\n"
      ],
      "text/markdown": [
       "1. 'rownames(d3)'\n",
       "2. 'hela_shgfp_dox_r1'\n",
       "3. 'hela_shgfp_dox_r2'\n",
       "4. 'hela_shint7_dox_r1'\n",
       "5. 'hela_shint7_dox_r2'\n",
       "\n",
       "\n"
      ],
      "text/plain": [
       "[1] \"rownames(d3)\"       \"hela_shgfp_dox_r1\"  \"hela_shgfp_dox_r2\" \n",
       "[4] \"hela_shint7_dox_r1\" \"hela_shint7_dox_r2\""
      ]
     },
     "metadata": {},
     "output_type": "display_data"
    },
    {
     "data": {
      "text/html": [
       "<style>\n",
       ".list-inline {list-style: none; margin:0; padding: 0}\n",
       ".list-inline>li {display: inline-block}\n",
       ".list-inline>li:not(:last-child)::after {content: \"\\00b7\"; padding: 0 .5ex}\n",
       "</style>\n",
       "<ol class=list-inline><li>'rownames(d3)'</li><li>'hela_shgfp_dox_r1'</li><li>'hela_shgfp_dox_r2'</li><li>'hela_shints11_dox_r1'</li><li>'hela_shints11_dox_r2'</li></ol>\n"
      ],
      "text/latex": [
       "\\begin{enumerate*}\n",
       "\\item 'rownames(d3)'\n",
       "\\item 'hela\\_shgfp\\_dox\\_r1'\n",
       "\\item 'hela\\_shgfp\\_dox\\_r2'\n",
       "\\item 'hela\\_shints11\\_dox\\_r1'\n",
       "\\item 'hela\\_shints11\\_dox\\_r2'\n",
       "\\end{enumerate*}\n"
      ],
      "text/markdown": [
       "1. 'rownames(d3)'\n",
       "2. 'hela_shgfp_dox_r1'\n",
       "3. 'hela_shgfp_dox_r2'\n",
       "4. 'hela_shints11_dox_r1'\n",
       "5. 'hela_shints11_dox_r2'\n",
       "\n",
       "\n"
      ],
      "text/plain": [
       "[1] \"rownames(d3)\"         \"hela_shgfp_dox_r1\"    \"hela_shgfp_dox_r2\"   \n",
       "[4] \"hela_shints11_dox_r1\" \"hela_shints11_dox_r2\""
      ]
     },
     "metadata": {},
     "output_type": "display_data"
    },
    {
     "data": {
      "text/html": [
       "<style>\n",
       ".list-inline {list-style: none; margin:0; padding: 0}\n",
       ".list-inline>li {display: inline-block}\n",
       ".list-inline>li:not(:last-child)::after {content: \"\\00b7\"; padding: 0 .5ex}\n",
       "</style>\n",
       "<ol class=list-inline><li>'rownames(d3)'</li><li>'hela3_shgfp_dox_r1'</li><li>'hela3_shgfp_dox_r2'</li><li>'hela3_shints6_dox_r1'</li><li>'hela3_shints6_dox_r2'</li></ol>\n"
      ],
      "text/latex": [
       "\\begin{enumerate*}\n",
       "\\item 'rownames(d3)'\n",
       "\\item 'hela3\\_shgfp\\_dox\\_r1'\n",
       "\\item 'hela3\\_shgfp\\_dox\\_r2'\n",
       "\\item 'hela3\\_shints6\\_dox\\_r1'\n",
       "\\item 'hela3\\_shints6\\_dox\\_r2'\n",
       "\\end{enumerate*}\n"
      ],
      "text/markdown": [
       "1. 'rownames(d3)'\n",
       "2. 'hela3_shgfp_dox_r1'\n",
       "3. 'hela3_shgfp_dox_r2'\n",
       "4. 'hela3_shints6_dox_r1'\n",
       "5. 'hela3_shints6_dox_r2'\n",
       "\n",
       "\n"
      ],
      "text/plain": [
       "[1] \"rownames(d3)\"         \"hela3_shgfp_dox_r1\"   \"hela3_shgfp_dox_r2\"  \n",
       "[4] \"hela3_shints6_dox_r1\" \"hela3_shints6_dox_r2\""
      ]
     },
     "metadata": {},
     "output_type": "display_data"
    },
    {
     "data": {
      "text/html": [
       "<style>\n",
       ".list-inline {list-style: none; margin:0; padding: 0}\n",
       ".list-inline>li {display: inline-block}\n",
       ".list-inline>li:not(:last-child)::after {content: \"\\00b7\"; padding: 0 .5ex}\n",
       "</style>\n",
       "<ol class=list-inline><li>'rownames(d3)'</li><li>'hela_siC_r1'</li><li>'hela_siC_r2'</li><li>'hela_siDrosha_r1'</li><li>'hela_siDrosha_r2'</li></ol>\n"
      ],
      "text/latex": [
       "\\begin{enumerate*}\n",
       "\\item 'rownames(d3)'\n",
       "\\item 'hela\\_siC\\_r1'\n",
       "\\item 'hela\\_siC\\_r2'\n",
       "\\item 'hela\\_siDrosha\\_r1'\n",
       "\\item 'hela\\_siDrosha\\_r2'\n",
       "\\end{enumerate*}\n"
      ],
      "text/markdown": [
       "1. 'rownames(d3)'\n",
       "2. 'hela_siC_r1'\n",
       "3. 'hela_siC_r2'\n",
       "4. 'hela_siDrosha_r1'\n",
       "5. 'hela_siDrosha_r2'\n",
       "\n",
       "\n"
      ],
      "text/plain": [
       "[1] \"rownames(d3)\"     \"hela_siC_r1\"      \"hela_siC_r2\"      \"hela_siDrosha_r1\"\n",
       "[5] \"hela_siDrosha_r2\""
      ]
     },
     "metadata": {},
     "output_type": "display_data"
    }
   ],
   "source": [
    "subs_sh1 <- cbind.data.frame(rownames(d3), d3[,c(grep(\"hela_shgfp_dox_r[1,2]+\", colnames(d3)), grep(\"hela_shints1_dox_r[1,2]+\", colnames(d3)))]) \n",
    "rownames(subs_sh1) <- seq(1:nrow(subs_sh1))\n",
    "subs_sh1 <- subs_sh1[(rowSums(subs_sh1[,2:ncol(subs_sh1)])>1),]\n",
    "nrow(subs_sh1)\n",
    "colnames(subs_sh1)\n",
    "\n",
    "subs_sh3 <- cbind.data.frame(rownames(d3), d3[,c(grep(\"hela_shgfp_dox_r[1,2]+\", colnames(d3)), grep(\"hela_shint3_dox_r[1,2]+\", colnames(d3)))]) \n",
    "rownames(subs_sh3) <- seq(1:nrow(subs_sh3))\n",
    "subs_sh3 <- subs_sh3[(rowSums(subs_sh3[,2:ncol(subs_sh3)])>1),]\n",
    "colnames(subs_sh3)\n",
    "\n",
    "subs_sh7 <- cbind.data.frame(rownames(d3), d3[,c(grep(\"hela_shgfp_dox_r[1,2]+\", colnames(d3)), grep(\"hela_shint7_dox_r[1,2]+\", colnames(d3)))]) \n",
    "rownames(subs_sh7) <- seq(1:nrow(subs_sh7))\n",
    "subs_sh7 <- subs_sh7[(rowSums(subs_sh7[,2:ncol(subs_sh7)])>1),]\n",
    "colnames(subs_sh7)\n",
    "\n",
    "subs_sh11 <- cbind.data.frame(rownames(d3), d3[,c(grep(\"hela_shgfp_dox_r[1,2]+\", colnames(d3)), grep(\"hela_shints11_dox_r[1,2]+\", colnames(d3)))]) \n",
    "rownames(subs_sh11) <- seq(1:nrow(subs_sh11))\n",
    "subs_sh11 <- subs_sh11[(rowSums(subs_sh11[,2:ncol(subs_sh11)])>1),]\n",
    "colnames(subs_sh11)\n",
    "\n",
    "\n",
    "#################################################################\n",
    "subs_sh6 <- cbind.data.frame(rownames(d3), d3[,c(grep(\"hela3_shgfp_dox_r[1,2]+\", colnames(d3)), grep(\"hela3_shints6_dox_r[1,2]+\", colnames(d3)))]) \n",
    "rownames(subs_sh6) <- seq(1:nrow(subs_sh6))\n",
    "subs_sh6 <- subs_sh6[(rowSums(subs_sh6[,2:ncol(subs_sh6)])>1),]\n",
    "colnames(subs_sh6)\n",
    "\n",
    "#################################################################\n",
    "subs_siDrosha <- cbind.data.frame(rownames(d3), d3[,c(grep(\"si\", colnames(d3)))]) \n",
    "rownames(subs_siDrosha) <- seq(1:nrow(subs_siDrosha))\n",
    "subs_siDrosha <- subs_siDrosha[(rowSums(subs_siDrosha[,2:ncol(subs_siDrosha)])>1),]\n",
    "colnames(subs_siDrosha)\n"
   ]
  },
  {
   "cell_type": "code",
   "execution_count": 25,
   "metadata": {},
   "outputs": [
    {
     "data": {
      "text/html": [
       "<style>\n",
       ".list-inline {list-style: none; margin:0; padding: 0}\n",
       ".list-inline>li {display: inline-block}\n",
       ".list-inline>li:not(:last-child)::after {content: \"\\00b7\"; padding: 0 .5ex}\n",
       "</style>\n",
       "<ol class=list-inline><li>'subs_sh1'</li><li>'subs_sh11'</li><li>'subs_sh3'</li><li>'subs_sh6'</li><li>'subs_sh7'</li><li>'subs_siDrosha'</li></ol>\n"
      ],
      "text/latex": [
       "\\begin{enumerate*}\n",
       "\\item 'subs\\_sh1'\n",
       "\\item 'subs\\_sh11'\n",
       "\\item 'subs\\_sh3'\n",
       "\\item 'subs\\_sh6'\n",
       "\\item 'subs\\_sh7'\n",
       "\\item 'subs\\_siDrosha'\n",
       "\\end{enumerate*}\n"
      ],
      "text/markdown": [
       "1. 'subs_sh1'\n",
       "2. 'subs_sh11'\n",
       "3. 'subs_sh3'\n",
       "4. 'subs_sh6'\n",
       "5. 'subs_sh7'\n",
       "6. 'subs_siDrosha'\n",
       "\n",
       "\n"
      ],
      "text/plain": [
       "[1] \"subs_sh1\"      \"subs_sh11\"     \"subs_sh3\"      \"subs_sh6\"     \n",
       "[5] \"subs_sh7\"      \"subs_siDrosha\""
      ]
     },
     "metadata": {},
     "output_type": "display_data"
    }
   ],
   "source": [
    "ls(pattern=\"subs\")"
   ]
  },
  {
   "cell_type": "code",
   "execution_count": 26,
   "metadata": {},
   "outputs": [],
   "source": [
    "s <- ls(pattern=\"subs\")\n",
    "#s <- c(\"subs_sh1\", \"subs_sh3\", \"subs_sh4\",\"subs_sh6\", \"subs_sh7\", \"subs_sh9\", \"subs_sh11\", \"subs_sh11_ezra\", \"subs_sh11_set2\", \"subs_sh1_set2\", \"subs_wt\", \"subs_eq\", \"subs_siDrosha\")"
   ]
  },
  {
   "cell_type": "code",
   "execution_count": 27,
   "metadata": {},
   "outputs": [
    {
     "data": {
      "text/html": [
       "<table>\n",
       "<caption>A data.frame: 4 × 2</caption>\n",
       "<thead>\n",
       "\t<tr><th></th><th scope=col>id</th><th scope=col>dex</th></tr>\n",
       "\t<tr><th></th><th scope=col>&lt;chr&gt;</th><th scope=col>&lt;chr&gt;</th></tr>\n",
       "</thead>\n",
       "<tbody>\n",
       "\t<tr><th scope=row>1</th><td>hela_shgfp_dox_r1   </td><td>control</td></tr>\n",
       "\t<tr><th scope=row>2</th><td>hela_shgfp_dox_r2   </td><td>control</td></tr>\n",
       "\t<tr><th scope=row>3</th><td>hela_shints11_dox_r1</td><td>treated</td></tr>\n",
       "\t<tr><th scope=row>4</th><td>hela_shints11_dox_r2</td><td>treated</td></tr>\n",
       "</tbody>\n",
       "</table>\n"
      ],
      "text/latex": [
       "A data.frame: 4 × 2\n",
       "\\begin{tabular}{r|ll}\n",
       "  & id & dex\\\\\n",
       "  & <chr> & <chr>\\\\\n",
       "\\hline\n",
       "\t1 & hela\\_shgfp\\_dox\\_r1    & control\\\\\n",
       "\t2 & hela\\_shgfp\\_dox\\_r2    & control\\\\\n",
       "\t3 & hela\\_shints11\\_dox\\_r1 & treated\\\\\n",
       "\t4 & hela\\_shints11\\_dox\\_r2 & treated\\\\\n",
       "\\end{tabular}\n"
      ],
      "text/markdown": [
       "\n",
       "A data.frame: 4 × 2\n",
       "\n",
       "| <!--/--> | id &lt;chr&gt; | dex &lt;chr&gt; |\n",
       "|---|---|---|\n",
       "| 1 | hela_shgfp_dox_r1    | control |\n",
       "| 2 | hela_shgfp_dox_r2    | control |\n",
       "| 3 | hela_shints11_dox_r1 | treated |\n",
       "| 4 | hela_shints11_dox_r2 | treated |\n",
       "\n"
      ],
      "text/plain": [
       "  id                   dex    \n",
       "1 hela_shgfp_dox_r1    control\n",
       "2 hela_shgfp_dox_r2    control\n",
       "3 hela_shints11_dox_r1 treated\n",
       "4 hela_shints11_dox_r2 treated"
      ]
     },
     "metadata": {},
     "output_type": "display_data"
    },
    {
     "data": {
      "text/html": [
       "<table>\n",
       "<caption>A data.frame: 4 × 2</caption>\n",
       "<thead>\n",
       "\t<tr><th></th><th scope=col>id</th><th scope=col>dex</th></tr>\n",
       "\t<tr><th></th><th scope=col>&lt;chr&gt;</th><th scope=col>&lt;chr&gt;</th></tr>\n",
       "</thead>\n",
       "<tbody>\n",
       "\t<tr><th scope=row>1</th><td>hela3_shgfp_dox_r1  </td><td>control</td></tr>\n",
       "\t<tr><th scope=row>2</th><td>hela3_shgfp_dox_r2  </td><td>control</td></tr>\n",
       "\t<tr><th scope=row>3</th><td>hela3_shints6_dox_r1</td><td>treated</td></tr>\n",
       "\t<tr><th scope=row>4</th><td>hela3_shints6_dox_r2</td><td>treated</td></tr>\n",
       "</tbody>\n",
       "</table>\n"
      ],
      "text/latex": [
       "A data.frame: 4 × 2\n",
       "\\begin{tabular}{r|ll}\n",
       "  & id & dex\\\\\n",
       "  & <chr> & <chr>\\\\\n",
       "\\hline\n",
       "\t1 & hela3\\_shgfp\\_dox\\_r1   & control\\\\\n",
       "\t2 & hela3\\_shgfp\\_dox\\_r2   & control\\\\\n",
       "\t3 & hela3\\_shints6\\_dox\\_r1 & treated\\\\\n",
       "\t4 & hela3\\_shints6\\_dox\\_r2 & treated\\\\\n",
       "\\end{tabular}\n"
      ],
      "text/markdown": [
       "\n",
       "A data.frame: 4 × 2\n",
       "\n",
       "| <!--/--> | id &lt;chr&gt; | dex &lt;chr&gt; |\n",
       "|---|---|---|\n",
       "| 1 | hela3_shgfp_dox_r1   | control |\n",
       "| 2 | hela3_shgfp_dox_r2   | control |\n",
       "| 3 | hela3_shints6_dox_r1 | treated |\n",
       "| 4 | hela3_shints6_dox_r2 | treated |\n",
       "\n"
      ],
      "text/plain": [
       "  id                   dex    \n",
       "1 hela3_shgfp_dox_r1   control\n",
       "2 hela3_shgfp_dox_r2   control\n",
       "3 hela3_shints6_dox_r1 treated\n",
       "4 hela3_shints6_dox_r2 treated"
      ]
     },
     "metadata": {},
     "output_type": "display_data"
    }
   ],
   "source": [
    "# create control vs treated table for deseq2\n",
    "for (z in 1:length(s)){\n",
    "    g <- get(s[z])\n",
    "    id <- colnames(g[,2:ncol(g)])\n",
    "    \n",
    "    m <- data.frame(matrix(ncol = 2, nrow = ncol(g[,2:ncol(g)])))\n",
    "    colnames(m) <- c(\"id\", \"dex\")\n",
    "    m$id <- id\n",
    "    \n",
    "    for(i in 1:nrow(m)){\n",
    "        if (grepl(\"shgfp|siC\", m$id[i])){\n",
    "            m$dex[i] <- \"control\"\n",
    "        } \n",
    "        else if (!(grepl(\"shgfp|siC\", m$id[i]))){\n",
    "            m$dex[i] <- \"treated\"\n",
    "        }\n",
    "    }\n",
    "    m <- m[!is.na(m$dex),]\n",
    "    nam <- paste(\"metadata_\", gsub(\"subs_\", \"\", s[z]), sep=\"\")\n",
    "    assign(nam,m)\n",
    "}\n",
    "\n",
    "\n",
    "metadata_sh11\n",
    "metadata_sh6"
   ]
  },
  {
   "cell_type": "code",
   "execution_count": 28,
   "metadata": {},
   "outputs": [
    {
     "data": {
      "text/html": [
       "<style>\n",
       ".list-inline {list-style: none; margin:0; padding: 0}\n",
       ".list-inline>li {display: inline-block}\n",
       ".list-inline>li:not(:last-child)::after {content: \"\\00b7\"; padding: 0 .5ex}\n",
       "</style>\n",
       "<ol class=list-inline><li>'metadata_sh1'</li><li>'metadata_sh11'</li><li>'metadata_sh3'</li><li>'metadata_sh6'</li><li>'metadata_sh7'</li><li>'metadata_siDrosha'</li></ol>\n"
      ],
      "text/latex": [
       "\\begin{enumerate*}\n",
       "\\item 'metadata\\_sh1'\n",
       "\\item 'metadata\\_sh11'\n",
       "\\item 'metadata\\_sh3'\n",
       "\\item 'metadata\\_sh6'\n",
       "\\item 'metadata\\_sh7'\n",
       "\\item 'metadata\\_siDrosha'\n",
       "\\end{enumerate*}\n"
      ],
      "text/markdown": [
       "1. 'metadata_sh1'\n",
       "2. 'metadata_sh11'\n",
       "3. 'metadata_sh3'\n",
       "4. 'metadata_sh6'\n",
       "5. 'metadata_sh7'\n",
       "6. 'metadata_siDrosha'\n",
       "\n",
       "\n"
      ],
      "text/plain": [
       "[1] \"metadata_sh1\"      \"metadata_sh11\"     \"metadata_sh3\"     \n",
       "[4] \"metadata_sh6\"      \"metadata_sh7\"      \"metadata_siDrosha\""
      ]
     },
     "metadata": {},
     "output_type": "display_data"
    }
   ],
   "source": [
    "ls(pattern=\"metadata\")\n"
   ]
  },
  {
   "cell_type": "markdown",
   "metadata": {},
   "source": [
    "# sh1 "
   ]
  },
  {
   "cell_type": "code",
   "execution_count": 29,
   "metadata": {},
   "outputs": [
    {
     "name": "stderr",
     "output_type": "stream",
     "text": [
      "converting counts to integer mode\n",
      "\n",
      "Warning message in DESeqDataSet(se, design = design, ignoreRank):\n",
      "“some variables in design formula are characters, converting to factors”\n"
     ]
    },
    {
     "data": {
      "text/plain": [
       "class: DESeqDataSet \n",
       "dim: 28517 4 \n",
       "metadata(1): version\n",
       "assays(1): counts\n",
       "rownames(28517): ENSG00000000003 ENSG00000000419 ... ENSG00000273489\n",
       "  ENSG00000273493\n",
       "rowData names(0):\n",
       "colnames(4): hela_shgfp_dox_r1 hela_shgfp_dox_r2 hela_shints1_dox_r1\n",
       "  hela_shints1_dox_r2\n",
       "colData names(2): id dex"
      ]
     },
     "metadata": {},
     "output_type": "display_data"
    }
   ],
   "source": [
    "dds_sh1 <- DESeqDataSetFromMatrix(countData=subs_sh1, \n",
    "                              colData=metadata_sh1, \n",
    "                              design=~dex, tidy = TRUE)\n",
    "\n",
    "\n",
    "dds_sh1"
   ]
  },
  {
   "cell_type": "code",
   "execution_count": 30,
   "metadata": {},
   "outputs": [
    {
     "name": "stderr",
     "output_type": "stream",
     "text": [
      "estimating size factors\n",
      "\n",
      "estimating dispersions\n",
      "\n",
      "gene-wise dispersion estimates\n",
      "\n",
      "mean-dispersion relationship\n",
      "\n",
      "final dispersion estimates\n",
      "\n",
      "fitting model and testing\n",
      "\n"
     ]
    },
    {
     "data": {
      "text/html": [
       "<table>\n",
       "<caption>A data.frame: 6 × 7</caption>\n",
       "<thead>\n",
       "\t<tr><th></th><th scope=col>row</th><th scope=col>baseMean</th><th scope=col>log2FoldChange</th><th scope=col>lfcSE</th><th scope=col>stat</th><th scope=col>pvalue</th><th scope=col>padj</th></tr>\n",
       "\t<tr><th></th><th scope=col>&lt;chr&gt;</th><th scope=col>&lt;dbl&gt;</th><th scope=col>&lt;dbl&gt;</th><th scope=col>&lt;dbl&gt;</th><th scope=col>&lt;dbl&gt;</th><th scope=col>&lt;dbl&gt;</th><th scope=col>&lt;dbl&gt;</th></tr>\n",
       "</thead>\n",
       "<tbody>\n",
       "\t<tr><th scope=row>1</th><td>ENSG00000000003</td><td>4794.553193</td><td> 0.3748234</td><td>0.2135014</td><td> 1.755601</td><td>0.07915656</td><td>0.17335912</td></tr>\n",
       "\t<tr><th scope=row>2</th><td>ENSG00000000419</td><td>3270.864718</td><td>-0.4617607</td><td>0.2096201</td><td>-2.202845</td><td>0.02760565</td><td>0.07492651</td></tr>\n",
       "\t<tr><th scope=row>3</th><td>ENSG00000000457</td><td> 800.217299</td><td> 0.2476014</td><td>0.2373817</td><td> 1.043052</td><td>0.29692426</td><td>0.46880580</td></tr>\n",
       "\t<tr><th scope=row>4</th><td>ENSG00000000460</td><td>1847.206131</td><td>-0.2163021</td><td>0.2151485</td><td>-1.005362</td><td>0.31472264</td><td>0.48756695</td></tr>\n",
       "\t<tr><th scope=row>5</th><td>ENSG00000000971</td><td>   4.764942</td><td>-5.7834581</td><td>2.2543316</td><td>-2.565487</td><td>0.01030311</td><td>0.03339236</td></tr>\n",
       "\t<tr><th scope=row>6</th><td>ENSG00000001036</td><td>9254.064234</td><td>-0.4271208</td><td>0.1919248</td><td>-2.225460</td><td>0.02605040</td><td>0.07163860</td></tr>\n",
       "</tbody>\n",
       "</table>\n"
      ],
      "text/latex": [
       "A data.frame: 6 × 7\n",
       "\\begin{tabular}{r|lllllll}\n",
       "  & row & baseMean & log2FoldChange & lfcSE & stat & pvalue & padj\\\\\n",
       "  & <chr> & <dbl> & <dbl> & <dbl> & <dbl> & <dbl> & <dbl>\\\\\n",
       "\\hline\n",
       "\t1 & ENSG00000000003 & 4794.553193 &  0.3748234 & 0.2135014 &  1.755601 & 0.07915656 & 0.17335912\\\\\n",
       "\t2 & ENSG00000000419 & 3270.864718 & -0.4617607 & 0.2096201 & -2.202845 & 0.02760565 & 0.07492651\\\\\n",
       "\t3 & ENSG00000000457 &  800.217299 &  0.2476014 & 0.2373817 &  1.043052 & 0.29692426 & 0.46880580\\\\\n",
       "\t4 & ENSG00000000460 & 1847.206131 & -0.2163021 & 0.2151485 & -1.005362 & 0.31472264 & 0.48756695\\\\\n",
       "\t5 & ENSG00000000971 &    4.764942 & -5.7834581 & 2.2543316 & -2.565487 & 0.01030311 & 0.03339236\\\\\n",
       "\t6 & ENSG00000001036 & 9254.064234 & -0.4271208 & 0.1919248 & -2.225460 & 0.02605040 & 0.07163860\\\\\n",
       "\\end{tabular}\n"
      ],
      "text/markdown": [
       "\n",
       "A data.frame: 6 × 7\n",
       "\n",
       "| <!--/--> | row &lt;chr&gt; | baseMean &lt;dbl&gt; | log2FoldChange &lt;dbl&gt; | lfcSE &lt;dbl&gt; | stat &lt;dbl&gt; | pvalue &lt;dbl&gt; | padj &lt;dbl&gt; |\n",
       "|---|---|---|---|---|---|---|---|\n",
       "| 1 | ENSG00000000003 | 4794.553193 |  0.3748234 | 0.2135014 |  1.755601 | 0.07915656 | 0.17335912 |\n",
       "| 2 | ENSG00000000419 | 3270.864718 | -0.4617607 | 0.2096201 | -2.202845 | 0.02760565 | 0.07492651 |\n",
       "| 3 | ENSG00000000457 |  800.217299 |  0.2476014 | 0.2373817 |  1.043052 | 0.29692426 | 0.46880580 |\n",
       "| 4 | ENSG00000000460 | 1847.206131 | -0.2163021 | 0.2151485 | -1.005362 | 0.31472264 | 0.48756695 |\n",
       "| 5 | ENSG00000000971 |    4.764942 | -5.7834581 | 2.2543316 | -2.565487 | 0.01030311 | 0.03339236 |\n",
       "| 6 | ENSG00000001036 | 9254.064234 | -0.4271208 | 0.1919248 | -2.225460 | 0.02605040 | 0.07163860 |\n",
       "\n"
      ],
      "text/plain": [
       "  row             baseMean    log2FoldChange lfcSE     stat      pvalue    \n",
       "1 ENSG00000000003 4794.553193  0.3748234     0.2135014  1.755601 0.07915656\n",
       "2 ENSG00000000419 3270.864718 -0.4617607     0.2096201 -2.202845 0.02760565\n",
       "3 ENSG00000000457  800.217299  0.2476014     0.2373817  1.043052 0.29692426\n",
       "4 ENSG00000000460 1847.206131 -0.2163021     0.2151485 -1.005362 0.31472264\n",
       "5 ENSG00000000971    4.764942 -5.7834581     2.2543316 -2.565487 0.01030311\n",
       "6 ENSG00000001036 9254.064234 -0.4271208     0.1919248 -2.225460 0.02605040\n",
       "  padj      \n",
       "1 0.17335912\n",
       "2 0.07492651\n",
       "3 0.46880580\n",
       "4 0.48756695\n",
       "5 0.03339236\n",
       "6 0.07163860"
      ]
     },
     "metadata": {},
     "output_type": "display_data"
    },
    {
     "name": "stdout",
     "output_type": "stream",
     "text": [
      "\n",
      "out of 28517 with nonzero total read count\n",
      "adjusted p-value < 0.1\n",
      "LFC > 0 (up)       : 4263, 15%\n",
      "LFC < 0 (down)     : 4155, 15%\n",
      "outliers [1]       : 0, 0%\n",
      "low counts [2]     : 7188, 25%\n",
      "(mean count < 3)\n",
      "[1] see 'cooksCutoff' argument of ?results\n",
      "[2] see 'independentFiltering' argument of ?results\n",
      "\n"
     ]
    }
   ],
   "source": [
    "dds_sh1 <- DESeq(dds_sh1)\n",
    "\n",
    "res_sh1 <- results(dds_sh1)\n",
    "head(results(dds_sh1, tidy=TRUE)) #let's look at the results table\n",
    "\n",
    "summary(res_sh1)"
   ]
  },
  {
   "cell_type": "code",
   "execution_count": 33,
   "metadata": {},
   "outputs": [
    {
     "data": {
      "text/html": [
       "<table>\n",
       "<caption>A data.frame: 6 × 2</caption>\n",
       "<thead>\n",
       "\t<tr><th></th><th scope=col>ENSEMBL</th><th scope=col>gene_ID</th></tr>\n",
       "\t<tr><th></th><th scope=col>&lt;chr&gt;</th><th scope=col>&lt;chr&gt;</th></tr>\n",
       "</thead>\n",
       "<tbody>\n",
       "\t<tr><th scope=row>37</th><td>AGO4  </td><td>ENSG00000134698</td></tr>\n",
       "\t<tr><th scope=row>38</th><td>DROSHA</td><td>ENSG00000113360</td></tr>\n",
       "\t<tr><th scope=row>39</th><td>ZC3H7B</td><td>ENSG00000100403</td></tr>\n",
       "\t<tr><th scope=row>40</th><td>AGO2  </td><td>ENSG00000123908</td></tr>\n",
       "\t<tr><th scope=row>41</th><td>AGO1  </td><td>ENSG00000092847</td></tr>\n",
       "\t<tr><th scope=row>42</th><td>DICER1</td><td>ENSG00000100697</td></tr>\n",
       "</tbody>\n",
       "</table>\n"
      ],
      "text/latex": [
       "A data.frame: 6 × 2\n",
       "\\begin{tabular}{r|ll}\n",
       "  & ENSEMBL & gene\\_ID\\\\\n",
       "  & <chr> & <chr>\\\\\n",
       "\\hline\n",
       "\t37 & AGO4   & ENSG00000134698\\\\\n",
       "\t38 & DROSHA & ENSG00000113360\\\\\n",
       "\t39 & ZC3H7B & ENSG00000100403\\\\\n",
       "\t40 & AGO2   & ENSG00000123908\\\\\n",
       "\t41 & AGO1   & ENSG00000092847\\\\\n",
       "\t42 & DICER1 & ENSG00000100697\\\\\n",
       "\\end{tabular}\n"
      ],
      "text/markdown": [
       "\n",
       "A data.frame: 6 × 2\n",
       "\n",
       "| <!--/--> | ENSEMBL &lt;chr&gt; | gene_ID &lt;chr&gt; |\n",
       "|---|---|---|\n",
       "| 37 | AGO4   | ENSG00000134698 |\n",
       "| 38 | DROSHA | ENSG00000113360 |\n",
       "| 39 | ZC3H7B | ENSG00000100403 |\n",
       "| 40 | AGO2   | ENSG00000123908 |\n",
       "| 41 | AGO1   | ENSG00000092847 |\n",
       "| 42 | DICER1 | ENSG00000100697 |\n",
       "\n"
      ],
      "text/plain": [
       "   ENSEMBL gene_ID        \n",
       "37 AGO4    ENSG00000134698\n",
       "38 DROSHA  ENSG00000113360\n",
       "39 ZC3H7B  ENSG00000100403\n",
       "40 AGO2    ENSG00000123908\n",
       "41 AGO1    ENSG00000092847\n",
       "42 DICER1  ENSG00000100697"
      ]
     },
     "metadata": {},
     "output_type": "display_data"
    },
    {
     "data": {
      "text/plain": [
       "log2 fold change (MLE): dex treated vs control \n",
       "Wald test p-value: dex treated vs control \n",
       "DataFrame with 6 rows and 6 columns\n",
       "                        baseMean      log2FoldChange             lfcSE\n",
       "                       <numeric>           <numeric>         <numeric>\n",
       "ENSG00000055917 7924.18875205327   -1.12346548679318 0.214017606364242\n",
       "ENSG00000065978 29415.4162642559 -0.0977931901170569 0.190038948833018\n",
       "ENSG00000083223 3775.16507177051  -0.713985266683379 0.209471371210202\n",
       "ENSG00000087087 2543.14244732805   0.274948761031265 0.245056112674519\n",
       "ENSG00000092847 3421.03572982204 -0.0234229198996537 0.195413203756883\n",
       "ENSG00000100403 1865.65634345152   0.452977628714569 0.246787912527376\n",
       "                              stat               pvalue                 padj\n",
       "                         <numeric>            <numeric>            <numeric>\n",
       "ENSG00000055917  -5.24940684030042 1.52589742206703e-07 1.79712126533781e-06\n",
       "ENSG00000065978 -0.514595511696841    0.606835702147313     0.75532205246849\n",
       "ENSG00000083223  -3.40851001527509 0.000653186874304298  0.00319537221147623\n",
       "ENSG00000087087   1.12198287172068     0.26186972264267    0.428296857161684\n",
       "ENSG00000092847 -0.119863547853166      0.9045912408339    0.948715473066148\n",
       "ENSG00000100403    1.8354935785776   0.0664325896770883    0.151075882847064"
      ]
     },
     "metadata": {},
     "output_type": "display_data"
    },
    {
     "data": {
      "text/html": [
       "39"
      ],
      "text/latex": [
       "39"
      ],
      "text/markdown": [
       "39"
      ],
      "text/plain": [
       "[1] 39"
      ]
     },
     "metadata": {},
     "output_type": "display_data"
    }
   ],
   "source": [
    "## extract miRNA-related genes only!!\n",
    "tail(assign)\n",
    "\n",
    "res_sh1_mi <- res_sh1[rownames(res_sh1) %in% assign$gene_ID,]\n",
    "head(res_sh1_mi)\n",
    "nrow(res_sh1_mi)\n",
    "#res_sh1_mi[grep(\"ENSG00000135829\", rownames(res_sh1_mi)),]"
   ]
  },
  {
   "cell_type": "code",
   "execution_count": 34,
   "metadata": {},
   "outputs": [
    {
     "data": {
      "image/png": "[encoded data removed]",
      "text/plain": [
       "Plot with title “39 shINTS1”"
      ]
     },
     "metadata": {
      "image/png": {
       "height": 360,
       "width": 360
      },
      "text/plain": {
       "height": 360,
       "width": 360
      }
     },
     "output_type": "display_data"
    }
   ],
   "source": [
    "\n",
    "options(repr.plot.width=6, repr.plot.height=6)\n",
    "#reset par\n",
    "par(mfrow=c(1,1))\n",
    "label <- rownames(res_sh1_mi[res_sh1_mi$log2FoldChange>(-log2(1.5)),])\n",
    "#label\n",
    "\n",
    "#pdf(\"results_primiR_volcano/volcanoplot_deseq2_sh1_dox_primiRNA.pdf\")\n",
    "\n",
    "#png(\"results_primiR_volcano/volcanoplot_deseq2_sh1_dox_primiRNA.png\")\n",
    "\n",
    "# Make a basic volcano plot\n",
    "par(mar=c(5.1, 5.1, 4.1, 2.1))\n",
    "with(res_sh1_mi, plot(log2FoldChange, -log10(padj), pch=20, main=paste(nrow(res_sh1_mi[!is.na(res_sh1_mi$log2FoldChange),]), \" shINTS1\", sep=\"\"),\n",
    "                   xlim=c(-5,5), ylim=c(0,70), \n",
    "                   cex.axis =2.2, cex.lab=2.2, cex.main=3))\n",
    "\n",
    "# Add colored points: blue if padj<0.05, red if log2FC<0.58 and padj<0.01\n",
    "with(subset(res_sh1_mi, padj<.01 ), points(log2FoldChange, -log10(padj), pch=20, col=\"blue\"))\n",
    "with(subset(res_sh1_mi, padj<.01 & abs(log2FoldChange)>log2(1.5)), points(log2FoldChange, -log10(padj), pch=20, col=\"red\"))\n",
    "abline(h=-log10(0.01), lty=2, lwd = 2, col= \"grey\")\n",
    "abline(v=-log2(1.5), lty=2, lwd = 2, col= \"grey\")\n",
    "abline(v=log2(1.5), lty=2, lwd = 2, col= \"grey\")\n",
    "text(-3.8, 65, paste(nrow(res_sh1_mi[which(res_sh1_mi$log2FoldChange < -log2(1.5) & res_sh1_mi$padj <.01),]), \" down\", sep=\"\"), cex=1.5)\n",
    "text(3.8,65, paste(nrow(res_sh1_mi[which(res_sh1_mi$log2FoldChange > log2(1.5) & res_sh1_mi$padj <.01),]), \" up\", sep=\"\"), cex=1.5)\n",
    "\n",
    "# Label points with the textxy function from the calibrate plot\n",
    "#with(subset(res_sh1_mi, (log2FoldChange)>-log2(1.5)), textxy(log2FoldChange, -log10(pvalue), labs=label, cex=.7))\n",
    "\n",
    "# label Agos in volcano\n",
    "with(res_sh1_mi[grep(\"ENSG00000126070|ENSG00000134698|ENSG00000123908|ENSG00000092847\", rownames(res_sh1_mi)),],\n",
    "     textxy(log2FoldChange, -log10(pvalue), labs=label, cex=1))\n",
    "with(res_sh1_mi[grep(\"ENSG00000126070|ENSG00000134698|ENSG00000123908|ENSG00000092847\", rownames(res_sh1_mi)),],\n",
    "     points(log2FoldChange, -log10(padj), pch=20, col=\"green\"))\n",
    "\n",
    "\n",
    "#dev.off()"
   ]
  },
  {
   "cell_type": "markdown",
   "metadata": {},
   "source": [
    "# sh3"
   ]
  },
  {
   "cell_type": "code",
   "execution_count": 35,
   "metadata": {},
   "outputs": [
    {
     "name": "stderr",
     "output_type": "stream",
     "text": [
      "converting counts to integer mode\n",
      "\n",
      "Warning message in DESeqDataSet(se, design = design, ignoreRank):\n",
      "“some variables in design formula are characters, converting to factors”\n"
     ]
    },
    {
     "data": {
      "text/plain": [
       "class: DESeqDataSet \n",
       "dim: 28963 4 \n",
       "metadata(1): version\n",
       "assays(1): counts\n",
       "rownames(28963): ENSG00000000003 ENSG00000000419 ... ENSG00000273489\n",
       "  ENSG00000273493\n",
       "rowData names(0):\n",
       "colnames(4): hela_shgfp_dox_r1 hela_shgfp_dox_r2 hela_shint3_dox_r1\n",
       "  hela_shint3_dox_r2\n",
       "colData names(2): id dex"
      ]
     },
     "metadata": {},
     "output_type": "display_data"
    }
   ],
   "source": [
    "dds_sh3 <- DESeqDataSetFromMatrix(countData=subs_sh3, \n",
    "                              colData=metadata_sh3, \n",
    "                              design=~dex, tidy = TRUE)\n",
    "\n",
    "\n",
    "dds_sh3"
   ]
  },
  {
   "cell_type": "code",
   "execution_count": 36,
   "metadata": {},
   "outputs": [
    {
     "name": "stderr",
     "output_type": "stream",
     "text": [
      "estimating size factors\n",
      "\n",
      "estimating dispersions\n",
      "\n",
      "gene-wise dispersion estimates\n",
      "\n",
      "mean-dispersion relationship\n",
      "\n",
      "final dispersion estimates\n",
      "\n",
      "fitting model and testing\n",
      "\n"
     ]
    },
    {
     "data": {
      "text/html": [
       "<table>\n",
       "<caption>A data.frame: 6 × 7</caption>\n",
       "<thead>\n",
       "\t<tr><th></th><th scope=col>row</th><th scope=col>baseMean</th><th scope=col>log2FoldChange</th><th scope=col>lfcSE</th><th scope=col>stat</th><th scope=col>pvalue</th><th scope=col>padj</th></tr>\n",
       "\t<tr><th></th><th scope=col>&lt;chr&gt;</th><th scope=col>&lt;dbl&gt;</th><th scope=col>&lt;dbl&gt;</th><th scope=col>&lt;dbl&gt;</th><th scope=col>&lt;dbl&gt;</th><th scope=col>&lt;dbl&gt;</th><th scope=col>&lt;dbl&gt;</th></tr>\n",
       "</thead>\n",
       "<tbody>\n",
       "\t<tr><th scope=row>28958</th><td>ENSG00000273485</td><td>17.9174649</td><td> 0.26654365</td><td>0.7978949</td><td> 0.33405858</td><td>0.73833535</td><td>0.81887725</td></tr>\n",
       "\t<tr><th scope=row>28959</th><td>ENSG00000273486</td><td>19.9274939</td><td>-0.04531781</td><td>0.7714981</td><td>-0.05874001</td><td>0.95315919</td><td>0.97114322</td></tr>\n",
       "\t<tr><th scope=row>28960</th><td>ENSG00000273487</td><td> 0.4925796</td><td>-2.41930379</td><td>4.8922751</td><td>-0.49451508</td><td>0.62094246</td><td>        NA</td></tr>\n",
       "\t<tr><th scope=row>28961</th><td>ENSG00000273488</td><td>13.1837456</td><td>-1.06127415</td><td>0.9821807</td><td>-1.08052841</td><td>0.27990694</td><td>0.39595972</td></tr>\n",
       "\t<tr><th scope=row>28962</th><td>ENSG00000273489</td><td>37.0622730</td><td>-1.55754136</td><td>0.6642364</td><td>-2.34485997</td><td>0.01903423</td><td>0.04169105</td></tr>\n",
       "\t<tr><th scope=row>28963</th><td>ENSG00000273493</td><td> 0.4925796</td><td>-2.41930379</td><td>4.8922751</td><td>-0.49451508</td><td>0.62094246</td><td>        NA</td></tr>\n",
       "</tbody>\n",
       "</table>\n"
      ],
      "text/latex": [
       "A data.frame: 6 × 7\n",
       "\\begin{tabular}{r|lllllll}\n",
       "  & row & baseMean & log2FoldChange & lfcSE & stat & pvalue & padj\\\\\n",
       "  & <chr> & <dbl> & <dbl> & <dbl> & <dbl> & <dbl> & <dbl>\\\\\n",
       "\\hline\n",
       "\t28958 & ENSG00000273485 & 17.9174649 &  0.26654365 & 0.7978949 &  0.33405858 & 0.73833535 & 0.81887725\\\\\n",
       "\t28959 & ENSG00000273486 & 19.9274939 & -0.04531781 & 0.7714981 & -0.05874001 & 0.95315919 & 0.97114322\\\\\n",
       "\t28960 & ENSG00000273487 &  0.4925796 & -2.41930379 & 4.8922751 & -0.49451508 & 0.62094246 &         NA\\\\\n",
       "\t28961 & ENSG00000273488 & 13.1837456 & -1.06127415 & 0.9821807 & -1.08052841 & 0.27990694 & 0.39595972\\\\\n",
       "\t28962 & ENSG00000273489 & 37.0622730 & -1.55754136 & 0.6642364 & -2.34485997 & 0.01903423 & 0.04169105\\\\\n",
       "\t28963 & ENSG00000273493 &  0.4925796 & -2.41930379 & 4.8922751 & -0.49451508 & 0.62094246 &         NA\\\\\n",
       "\\end{tabular}\n"
      ],
      "text/markdown": [
       "\n",
       "A data.frame: 6 × 7\n",
       "\n",
       "| <!--/--> | row &lt;chr&gt; | baseMean &lt;dbl&gt; | log2FoldChange &lt;dbl&gt; | lfcSE &lt;dbl&gt; | stat &lt;dbl&gt; | pvalue &lt;dbl&gt; | padj &lt;dbl&gt; |\n",
       "|---|---|---|---|---|---|---|---|\n",
       "| 28958 | ENSG00000273485 | 17.9174649 |  0.26654365 | 0.7978949 |  0.33405858 | 0.73833535 | 0.81887725 |\n",
       "| 28959 | ENSG00000273486 | 19.9274939 | -0.04531781 | 0.7714981 | -0.05874001 | 0.95315919 | 0.97114322 |\n",
       "| 28960 | ENSG00000273487 |  0.4925796 | -2.41930379 | 4.8922751 | -0.49451508 | 0.62094246 |         NA |\n",
       "| 28961 | ENSG00000273488 | 13.1837456 | -1.06127415 | 0.9821807 | -1.08052841 | 0.27990694 | 0.39595972 |\n",
       "| 28962 | ENSG00000273489 | 37.0622730 | -1.55754136 | 0.6642364 | -2.34485997 | 0.01903423 | 0.04169105 |\n",
       "| 28963 | ENSG00000273493 |  0.4925796 | -2.41930379 | 4.8922751 | -0.49451508 | 0.62094246 |         NA |\n",
       "\n"
      ],
      "text/plain": [
       "      row             baseMean   log2FoldChange lfcSE     stat       \n",
       "28958 ENSG00000273485 17.9174649  0.26654365    0.7978949  0.33405858\n",
       "28959 ENSG00000273486 19.9274939 -0.04531781    0.7714981 -0.05874001\n",
       "28960 ENSG00000273487  0.4925796 -2.41930379    4.8922751 -0.49451508\n",
       "28961 ENSG00000273488 13.1837456 -1.06127415    0.9821807 -1.08052841\n",
       "28962 ENSG00000273489 37.0622730 -1.55754136    0.6642364 -2.34485997\n",
       "28963 ENSG00000273493  0.4925796 -2.41930379    4.8922751 -0.49451508\n",
       "      pvalue     padj      \n",
       "28958 0.73833535 0.81887725\n",
       "28959 0.95315919 0.97114322\n",
       "28960 0.62094246         NA\n",
       "28961 0.27990694 0.39595972\n",
       "28962 0.01903423 0.04169105\n",
       "28963 0.62094246         NA"
      ]
     },
     "metadata": {},
     "output_type": "display_data"
    },
    {
     "name": "stdout",
     "output_type": "stream",
     "text": [
      "\n",
      "out of 28963 with nonzero total read count\n",
      "adjusted p-value < 0.1\n",
      "LFC > 0 (up)       : 6273, 22%\n",
      "LFC < 0 (down)     : 5991, 21%\n",
      "outliers [1]       : 0, 0%\n",
      "low counts [2]     : 5612, 19%\n",
      "(mean count < 2)\n",
      "[1] see 'cooksCutoff' argument of ?results\n",
      "[2] see 'independentFiltering' argument of ?results\n",
      "\n"
     ]
    }
   ],
   "source": [
    "dds_sh3 <- DESeq(dds_sh3)\n",
    "\n",
    "res_sh3 <- results(dds_sh3)\n",
    "tail(results(dds_sh3, tidy=TRUE)) #let's look at the results table\n",
    "\n",
    "summary(res_sh3)"
   ]
  },
  {
   "cell_type": "code",
   "execution_count": 37,
   "metadata": {},
   "outputs": [
    {
     "data": {
      "text/html": [
       "<table>\n",
       "<caption>A data.frame: 6 × 2</caption>\n",
       "<thead>\n",
       "\t<tr><th></th><th scope=col>ENSEMBL</th><th scope=col>gene_ID</th></tr>\n",
       "\t<tr><th></th><th scope=col>&lt;chr&gt;</th><th scope=col>&lt;chr&gt;</th></tr>\n",
       "</thead>\n",
       "<tbody>\n",
       "\t<tr><th scope=row>1</th><td>TARBP2</td><td>ENSG00000139546</td></tr>\n",
       "\t<tr><th scope=row>2</th><td>SRF   </td><td>ENSG00000112658</td></tr>\n",
       "\t<tr><th scope=row>3</th><td>EZH2  </td><td>ENSG00000106462</td></tr>\n",
       "\t<tr><th scope=row>5</th><td>TGFBR2</td><td>ENSG00000163513</td></tr>\n",
       "\t<tr><th scope=row>6</th><td>PRKRA </td><td>ENSG00000180228</td></tr>\n",
       "\t<tr><th scope=row>7</th><td>IL6   </td><td>ENSG00000136244</td></tr>\n",
       "</tbody>\n",
       "</table>\n"
      ],
      "text/latex": [
       "A data.frame: 6 × 2\n",
       "\\begin{tabular}{r|ll}\n",
       "  & ENSEMBL & gene\\_ID\\\\\n",
       "  & <chr> & <chr>\\\\\n",
       "\\hline\n",
       "\t1 & TARBP2 & ENSG00000139546\\\\\n",
       "\t2 & SRF    & ENSG00000112658\\\\\n",
       "\t3 & EZH2   & ENSG00000106462\\\\\n",
       "\t5 & TGFBR2 & ENSG00000163513\\\\\n",
       "\t6 & PRKRA  & ENSG00000180228\\\\\n",
       "\t7 & IL6    & ENSG00000136244\\\\\n",
       "\\end{tabular}\n"
      ],
      "text/markdown": [
       "\n",
       "A data.frame: 6 × 2\n",
       "\n",
       "| <!--/--> | ENSEMBL &lt;chr&gt; | gene_ID &lt;chr&gt; |\n",
       "|---|---|---|\n",
       "| 1 | TARBP2 | ENSG00000139546 |\n",
       "| 2 | SRF    | ENSG00000112658 |\n",
       "| 3 | EZH2   | ENSG00000106462 |\n",
       "| 5 | TGFBR2 | ENSG00000163513 |\n",
       "| 6 | PRKRA  | ENSG00000180228 |\n",
       "| 7 | IL6    | ENSG00000136244 |\n",
       "\n"
      ],
      "text/plain": [
       "  ENSEMBL gene_ID        \n",
       "1 TARBP2  ENSG00000139546\n",
       "2 SRF     ENSG00000112658\n",
       "3 EZH2    ENSG00000106462\n",
       "5 TGFBR2  ENSG00000163513\n",
       "6 PRKRA   ENSG00000180228\n",
       "7 IL6     ENSG00000136244"
      ]
     },
     "metadata": {},
     "output_type": "display_data"
    },
    {
     "data": {
      "text/plain": [
       "log2 fold change (MLE): dex treated vs control \n",
       "Wald test p-value: dex treated vs control \n",
       "DataFrame with 6 rows and 6 columns\n",
       "                        baseMean     log2FoldChange             lfcSE\n",
       "                       <numeric>          <numeric>         <numeric>\n",
       "ENSG00000055917 7115.80034715794  -1.29892954166222 0.232193143628945\n",
       "ENSG00000065978 37093.9583253148  0.684859592452983 0.185511045878733\n",
       "ENSG00000083223 3107.83412766448  -1.24613271601144 0.217517092564973\n",
       "ENSG00000087087 3724.35432572023   1.28957174531662 0.288031112193123\n",
       "ENSG00000092847 2807.65825763502 -0.428236465350929 0.189005072962608\n",
       "ENSG00000100403  4520.7954004497   2.35338456435489  0.28311792182256\n",
       "                             stat               pvalue                 padj\n",
       "                        <numeric>            <numeric>            <numeric>\n",
       "ENSG00000055917 -5.59417699145315 2.21670736984362e-08 1.56240065780919e-07\n",
       "ENSG00000065978  3.69174562737719 0.000222720159674906 0.000760786782997181\n",
       "ENSG00000083223 -5.72889560685542 1.01086575679815e-08  7.5174287538196e-08\n",
       "ENSG00000087087  4.47719600670072 7.56298073358235e-06  3.4345228142723e-05\n",
       "ENSG00000092847 -2.26574058906688   0.0234672708318057    0.050131208598801\n",
       "ENSG00000100403  8.31238287285054 9.37992160121241e-17 2.16433349120465e-15"
      ]
     },
     "metadata": {},
     "output_type": "display_data"
    },
    {
     "data": {
      "text/html": [
       "39"
      ],
      "text/latex": [
       "39"
      ],
      "text/markdown": [
       "39"
      ],
      "text/plain": [
       "[1] 39"
      ]
     },
     "metadata": {},
     "output_type": "display_data"
    }
   ],
   "source": [
    "## extract miRNA-related genes only!!\n",
    "head(assign)\n",
    "\n",
    "res_sh3_mi <- res_sh3[rownames(res_sh3) %in% assign$gene_ID,]\n",
    "head(res_sh3_mi)\n",
    "nrow(res_sh3_mi)\n",
    "#res_sh3_mi$padj\n",
    "#res_sh3_mi[grep(\"ENSG00000135829\", rownames(res_sh3_mi)),]"
   ]
  },
  {
   "cell_type": "code",
   "execution_count": 38,
   "metadata": {},
   "outputs": [
    {
     "data": {
      "image/png": "[encoded data removed]",
      "text/plain": [
       "Plot with title “39 miRNA-related shINTS3”"
      ]
     },
     "metadata": {
      "image/png": {
       "height": 480,
       "width": 480
      },
      "text/plain": {
       "height": 480,
       "width": 480
      }
     },
     "output_type": "display_data"
    }
   ],
   "source": [
    "#reset par\n",
    "par(mfrow=c(1,1))\n",
    "options(repr.plot.width=8, repr.plot.height=8)\n",
    "label <- rownames(res_sh3_mi[res_sh3_mi$log2FoldChange>(-log2(1.5)),])\n",
    "#label\n",
    "\n",
    "#pdf(\"results_primiR_volcano/volcanoplot_deseq2_sh1_dox_primiRNA.pdf\")\n",
    "#png(\"results_primiR_volcano/volcanoplot_deseq2_sh1_dox_primiRNA.png\")\n",
    "\n",
    "# Make a basic volcano plot\n",
    "with(res_sh3_mi, plot(log2FoldChange, -log10(padj), pch=20, main=paste(nrow(res_sh3_mi[!is.na(res_sh3_mi$log2FoldChange),]), \" miRNA-related shINTS3\", sep=\"\"),\n",
    "                   xlim=c(-5,5), ylim=c(0,70), \n",
    "                   cex.axis =2, cex.lab=1.5, cex.main=3))\n",
    "\n",
    "# Add colored points: blue if padj<0.05, red if log2FC<0.58 and padj<0.01\n",
    "with(subset(res_sh3_mi, padj<.01 ), points(log2FoldChange, -log10(padj), pch=20, col=\"blue\"))\n",
    "with(subset(res_sh3_mi, padj<.01 & abs(log2FoldChange)>log2(1.5)), points(log2FoldChange, -log10(padj), pch=20, col=\"red\"))\n",
    "abline(h=-log10(0.01), lty=2, lwd = 2, col= \"grey\")\n",
    "abline(v=-log2(1.5), lty=2, lwd = 2, col= \"grey\")\n",
    "abline(v=log2(1.5), lty=2, lwd = 2, col= \"grey\")\n",
    "text(-3.8, 65, paste(nrow(res_sh3_mi[which(res_sh3_mi$log2FoldChange < -log2(1.5) & res_sh3_mi$padj <.01),]), \" down\", sep=\"\"), cex=1.5)\n",
    "text(3.8,65, paste(nrow(res_sh3_mi[which(res_sh3_mi$log2FoldChange > log2(1.5) & res_sh3_mi$padj <.01),]), \" up\", sep=\"\"), cex=1.5)\n",
    "\n",
    "# Label points with the textxy function from the calibrate plot\n",
    "#with(subset(res_sh3_mi1, (log2FoldChange)>-log2(1.5)), textxy(log2FoldChange, -log10(pvalue), labs=label, cex=.7))\n",
    "\n",
    "\n",
    "#dev.off()"
   ]
  },
  {
   "cell_type": "markdown",
   "metadata": {},
   "source": [
    "# sh6"
   ]
  },
  {
   "cell_type": "code",
   "execution_count": 39,
   "metadata": {},
   "outputs": [
    {
     "name": "stderr",
     "output_type": "stream",
     "text": [
      "converting counts to integer mode\n",
      "\n",
      "Warning message in DESeqDataSet(se, design = design, ignoreRank):\n",
      "“some variables in design formula are characters, converting to factors”\n"
     ]
    },
    {
     "data": {
      "text/plain": [
       "class: DESeqDataSet \n",
       "dim: 25733 4 \n",
       "metadata(1): version\n",
       "assays(1): counts\n",
       "rownames(25733): ENSG00000000003 ENSG00000000419 ... ENSG00000273488\n",
       "  ENSG00000273489\n",
       "rowData names(0):\n",
       "colnames(4): hela3_shgfp_dox_r1 hela3_shgfp_dox_r2 hela3_shints6_dox_r1\n",
       "  hela3_shints6_dox_r2\n",
       "colData names(2): id dex"
      ]
     },
     "metadata": {},
     "output_type": "display_data"
    }
   ],
   "source": [
    "dds_sh6 <- DESeqDataSetFromMatrix(countData=subs_sh6, \n",
    "                              colData=metadata_sh6, \n",
    "                              design=~dex, tidy = TRUE)\n",
    "\n",
    "\n",
    "dds_sh6"
   ]
  },
  {
   "cell_type": "code",
   "execution_count": 40,
   "metadata": {},
   "outputs": [
    {
     "name": "stderr",
     "output_type": "stream",
     "text": [
      "estimating size factors\n",
      "\n",
      "estimating dispersions\n",
      "\n",
      "gene-wise dispersion estimates\n",
      "\n",
      "mean-dispersion relationship\n",
      "\n",
      "final dispersion estimates\n",
      "\n",
      "fitting model and testing\n",
      "\n"
     ]
    },
    {
     "data": {
      "text/html": [
       "<table>\n",
       "<caption>A data.frame: 6 × 7</caption>\n",
       "<thead>\n",
       "\t<tr><th></th><th scope=col>row</th><th scope=col>baseMean</th><th scope=col>log2FoldChange</th><th scope=col>lfcSE</th><th scope=col>stat</th><th scope=col>pvalue</th><th scope=col>padj</th></tr>\n",
       "\t<tr><th></th><th scope=col>&lt;chr&gt;</th><th scope=col>&lt;dbl&gt;</th><th scope=col>&lt;dbl&gt;</th><th scope=col>&lt;dbl&gt;</th><th scope=col>&lt;dbl&gt;</th><th scope=col>&lt;dbl&gt;</th><th scope=col>&lt;dbl&gt;</th></tr>\n",
       "</thead>\n",
       "<tbody>\n",
       "\t<tr><th scope=row>1</th><td>ENSG00000000003</td><td>2087.9371420</td><td> 0.62198793</td><td>0.09285873</td><td> 6.6982171</td><td>2.109777e-11</td><td>1.827178e-10</td></tr>\n",
       "\t<tr><th scope=row>2</th><td>ENSG00000000419</td><td>1178.2768142</td><td> 0.09089181</td><td>0.10965793</td><td> 0.8288667</td><td>4.071798e-01</td><td>5.613078e-01</td></tr>\n",
       "\t<tr><th scope=row>3</th><td>ENSG00000000457</td><td> 344.6657131</td><td> 0.27649763</td><td>0.18257028</td><td> 1.5144723</td><td>1.299061e-01</td><td>2.304902e-01</td></tr>\n",
       "\t<tr><th scope=row>4</th><td>ENSG00000000460</td><td> 737.9023995</td><td> 0.13352359</td><td>0.13082586</td><td> 1.0206208</td><td>3.074341e-01</td><td>4.556135e-01</td></tr>\n",
       "\t<tr><th scope=row>5</th><td>ENSG00000000938</td><td>   0.7430348</td><td>-3.07476385</td><td>4.27731244</td><td>-0.7188542</td><td>4.722308e-01</td><td>          NA</td></tr>\n",
       "\t<tr><th scope=row>6</th><td>ENSG00000000971</td><td>  40.9934948</td><td>-0.32203755</td><td>0.51706357</td><td>-0.6228200</td><td>5.334028e-01</td><td>6.779025e-01</td></tr>\n",
       "</tbody>\n",
       "</table>\n"
      ],
      "text/latex": [
       "A data.frame: 6 × 7\n",
       "\\begin{tabular}{r|lllllll}\n",
       "  & row & baseMean & log2FoldChange & lfcSE & stat & pvalue & padj\\\\\n",
       "  & <chr> & <dbl> & <dbl> & <dbl> & <dbl> & <dbl> & <dbl>\\\\\n",
       "\\hline\n",
       "\t1 & ENSG00000000003 & 2087.9371420 &  0.62198793 & 0.09285873 &  6.6982171 & 2.109777e-11 & 1.827178e-10\\\\\n",
       "\t2 & ENSG00000000419 & 1178.2768142 &  0.09089181 & 0.10965793 &  0.8288667 & 4.071798e-01 & 5.613078e-01\\\\\n",
       "\t3 & ENSG00000000457 &  344.6657131 &  0.27649763 & 0.18257028 &  1.5144723 & 1.299061e-01 & 2.304902e-01\\\\\n",
       "\t4 & ENSG00000000460 &  737.9023995 &  0.13352359 & 0.13082586 &  1.0206208 & 3.074341e-01 & 4.556135e-01\\\\\n",
       "\t5 & ENSG00000000938 &    0.7430348 & -3.07476385 & 4.27731244 & -0.7188542 & 4.722308e-01 &           NA\\\\\n",
       "\t6 & ENSG00000000971 &   40.9934948 & -0.32203755 & 0.51706357 & -0.6228200 & 5.334028e-01 & 6.779025e-01\\\\\n",
       "\\end{tabular}\n"
      ],
      "text/markdown": [
       "\n",
       "A data.frame: 6 × 7\n",
       "\n",
       "| <!--/--> | row &lt;chr&gt; | baseMean &lt;dbl&gt; | log2FoldChange &lt;dbl&gt; | lfcSE &lt;dbl&gt; | stat &lt;dbl&gt; | pvalue &lt;dbl&gt; | padj &lt;dbl&gt; |\n",
       "|---|---|---|---|---|---|---|---|\n",
       "| 1 | ENSG00000000003 | 2087.9371420 |  0.62198793 | 0.09285873 |  6.6982171 | 2.109777e-11 | 1.827178e-10 |\n",
       "| 2 | ENSG00000000419 | 1178.2768142 |  0.09089181 | 0.10965793 |  0.8288667 | 4.071798e-01 | 5.613078e-01 |\n",
       "| 3 | ENSG00000000457 |  344.6657131 |  0.27649763 | 0.18257028 |  1.5144723 | 1.299061e-01 | 2.304902e-01 |\n",
       "| 4 | ENSG00000000460 |  737.9023995 |  0.13352359 | 0.13082586 |  1.0206208 | 3.074341e-01 | 4.556135e-01 |\n",
       "| 5 | ENSG00000000938 |    0.7430348 | -3.07476385 | 4.27731244 | -0.7188542 | 4.722308e-01 |           NA |\n",
       "| 6 | ENSG00000000971 |   40.9934948 | -0.32203755 | 0.51706357 | -0.6228200 | 5.334028e-01 | 6.779025e-01 |\n",
       "\n"
      ],
      "text/plain": [
       "  row             baseMean     log2FoldChange lfcSE      stat      \n",
       "1 ENSG00000000003 2087.9371420  0.62198793    0.09285873  6.6982171\n",
       "2 ENSG00000000419 1178.2768142  0.09089181    0.10965793  0.8288667\n",
       "3 ENSG00000000457  344.6657131  0.27649763    0.18257028  1.5144723\n",
       "4 ENSG00000000460  737.9023995  0.13352359    0.13082586  1.0206208\n",
       "5 ENSG00000000938    0.7430348 -3.07476385    4.27731244 -0.7188542\n",
       "6 ENSG00000000971   40.9934948 -0.32203755    0.51706357 -0.6228200\n",
       "  pvalue       padj        \n",
       "1 2.109777e-11 1.827178e-10\n",
       "2 4.071798e-01 5.613078e-01\n",
       "3 1.299061e-01 2.304902e-01\n",
       "4 3.074341e-01 4.556135e-01\n",
       "5 4.722308e-01           NA\n",
       "6 5.334028e-01 6.779025e-01"
      ]
     },
     "metadata": {},
     "output_type": "display_data"
    },
    {
     "name": "stdout",
     "output_type": "stream",
     "text": [
      "\n",
      "out of 25733 with nonzero total read count\n",
      "adjusted p-value < 0.1\n",
      "LFC > 0 (up)       : 4411, 17%\n",
      "LFC < 0 (down)     : 5003, 19%\n",
      "outliers [1]       : 0, 0%\n",
      "low counts [2]     : 5987, 23%\n",
      "(mean count < 3)\n",
      "[1] see 'cooksCutoff' argument of ?results\n",
      "[2] see 'independentFiltering' argument of ?results\n",
      "\n"
     ]
    }
   ],
   "source": [
    "dds_sh6 <- DESeq(dds_sh6)\n",
    "\n",
    "res_sh6 <- results(dds_sh6)\n",
    "head(results(dds_sh6, tidy=TRUE)) #let's look at the results table\n",
    "\n",
    "summary(res_sh6)"
   ]
  },
  {
   "cell_type": "code",
   "execution_count": 41,
   "metadata": {},
   "outputs": [
    {
     "data": {
      "text/html": [
       "<table>\n",
       "<caption>A data.frame: 6 × 2</caption>\n",
       "<thead>\n",
       "\t<tr><th></th><th scope=col>ENSEMBL</th><th scope=col>gene_ID</th></tr>\n",
       "\t<tr><th></th><th scope=col>&lt;chr&gt;</th><th scope=col>&lt;chr&gt;</th></tr>\n",
       "</thead>\n",
       "<tbody>\n",
       "\t<tr><th scope=row>1</th><td>TARBP2</td><td>ENSG00000139546</td></tr>\n",
       "\t<tr><th scope=row>2</th><td>SRF   </td><td>ENSG00000112658</td></tr>\n",
       "\t<tr><th scope=row>3</th><td>EZH2  </td><td>ENSG00000106462</td></tr>\n",
       "\t<tr><th scope=row>5</th><td>TGFBR2</td><td>ENSG00000163513</td></tr>\n",
       "\t<tr><th scope=row>6</th><td>PRKRA </td><td>ENSG00000180228</td></tr>\n",
       "\t<tr><th scope=row>7</th><td>IL6   </td><td>ENSG00000136244</td></tr>\n",
       "</tbody>\n",
       "</table>\n"
      ],
      "text/latex": [
       "A data.frame: 6 × 2\n",
       "\\begin{tabular}{r|ll}\n",
       "  & ENSEMBL & gene\\_ID\\\\\n",
       "  & <chr> & <chr>\\\\\n",
       "\\hline\n",
       "\t1 & TARBP2 & ENSG00000139546\\\\\n",
       "\t2 & SRF    & ENSG00000112658\\\\\n",
       "\t3 & EZH2   & ENSG00000106462\\\\\n",
       "\t5 & TGFBR2 & ENSG00000163513\\\\\n",
       "\t6 & PRKRA  & ENSG00000180228\\\\\n",
       "\t7 & IL6    & ENSG00000136244\\\\\n",
       "\\end{tabular}\n"
      ],
      "text/markdown": [
       "\n",
       "A data.frame: 6 × 2\n",
       "\n",
       "| <!--/--> | ENSEMBL &lt;chr&gt; | gene_ID &lt;chr&gt; |\n",
       "|---|---|---|\n",
       "| 1 | TARBP2 | ENSG00000139546 |\n",
       "| 2 | SRF    | ENSG00000112658 |\n",
       "| 3 | EZH2   | ENSG00000106462 |\n",
       "| 5 | TGFBR2 | ENSG00000163513 |\n",
       "| 6 | PRKRA  | ENSG00000180228 |\n",
       "| 7 | IL6    | ENSG00000136244 |\n",
       "\n"
      ],
      "text/plain": [
       "  ENSEMBL gene_ID        \n",
       "1 TARBP2  ENSG00000139546\n",
       "2 SRF     ENSG00000112658\n",
       "3 EZH2    ENSG00000106462\n",
       "5 TGFBR2  ENSG00000163513\n",
       "6 PRKRA   ENSG00000180228\n",
       "7 IL6     ENSG00000136244"
      ]
     },
     "metadata": {},
     "output_type": "display_data"
    },
    {
     "data": {
      "text/plain": [
       "log2 fold change (MLE): dex treated vs control \n",
       "Wald test p-value: dex treated vs control \n",
       "DataFrame with 6 rows and 6 columns\n",
       "                        baseMean      log2FoldChange              lfcSE\n",
       "                       <numeric>           <numeric>          <numeric>\n",
       "ENSG00000055917 3021.98386117937  -0.394452573920505  0.105113899154008\n",
       "ENSG00000065978  14155.046753332  -0.418153430936045 0.0573054912500629\n",
       "ENSG00000083223 1543.48667262857  -0.127851490743071  0.100900790847202\n",
       "ENSG00000087087 3000.36009300487  -0.115567879036763 0.0774029951622279\n",
       "ENSG00000092847 1503.14373999171  -0.281044167177316 0.0981726678872615\n",
       "ENSG00000100403 2907.25854140764 -0.0961162710515091 0.0869335200721654\n",
       "                             stat               pvalue                 padj\n",
       "                        <numeric>            <numeric>            <numeric>\n",
       "ENSG00000055917  -3.7526205106574 0.000174995661225015 0.000636951949594313\n",
       "ENSG00000065978 -7.29691730782582 2.94435623813681e-13 3.01865307779073e-12\n",
       "ENSG00000083223  -1.2671009777979    0.205119185992931    0.334126666112556\n",
       "ENSG00000087087 -1.49306727465192    0.135419577772398     0.23843022583092\n",
       "ENSG00000092847 -2.86275368924534  0.00419976903690917   0.0116334349271296\n",
       "ENSG00000100403 -1.10562957731058    0.268886882412442    0.411750549297133"
      ]
     },
     "metadata": {},
     "output_type": "display_data"
    },
    {
     "data": {
      "text/html": [
       "39"
      ],
      "text/latex": [
       "39"
      ],
      "text/markdown": [
       "39"
      ],
      "text/plain": [
       "[1] 39"
      ]
     },
     "metadata": {},
     "output_type": "display_data"
    }
   ],
   "source": [
    "## extract miRNA-related genes only!!\n",
    "head(assign)\n",
    "\n",
    "res_sh6_mi <- res_sh6[rownames(res_sh6) %in% assign$gene_ID,]\n",
    "head(res_sh6_mi)\n",
    "nrow(res_sh6_mi)\n",
    "#res_sh6_mi$padj"
   ]
  },
  {
   "cell_type": "code",
   "execution_count": 42,
   "metadata": {},
   "outputs": [
    {
     "data": {
      "image/png": "[encoded data removed]",
      "text/plain": [
       "Plot with title “39 miRNA-related shINTS6”"
      ]
     },
     "metadata": {
      "image/png": {
       "height": 480,
       "width": 480
      },
      "text/plain": {
       "height": 480,
       "width": 480
      }
     },
     "output_type": "display_data"
    }
   ],
   "source": [
    "#reset par\n",
    "par(mfrow=c(1,1))\n",
    "options(repr.plot.width=8, repr.plot.height=8)\n",
    "label <- rownames(res_sh6_mi[res_sh6_mi$log2FoldChange>(-log2(1.5)),])\n",
    "#label\n",
    "\n",
    "#pdf(\"results_primiR_volcano/volcanoplot_deseq2_sh6_dox_primiRNA.pdf\")\n",
    "\n",
    "#png(\"results_primiR_volcano/volcanoplot_deseq2_sh6_dox_primiRNA.png\")\n",
    "\n",
    "# Make a basic volcano plot\n",
    "with(res_sh6_mi, plot(log2FoldChange, -log10(padj), pch=20, main=paste(nrow(res_sh6_mi[!is.na(res_sh6_mi$log2FoldChange),]), \" miRNA-related shINTS6\", sep=\"\"),\n",
    "                   xlim=c(-5,5), ylim=c(0,70), \n",
    "                   cex.axis =2, cex.lab=1.5, cex.main=3))\n",
    "\n",
    "# Add colored points: blue if padj<0.05, red if log2FC<0.58 and padj<0.01\n",
    "with(subset(res_sh6_mi, padj<.01 ), points(log2FoldChange, -log10(padj), pch=20, col=\"blue\"))\n",
    "with(subset(res_sh6_mi, padj<.01 & abs(log2FoldChange)>log2(1.5)), points(log2FoldChange, -log10(padj), pch=20, col=\"red\"))\n",
    "abline(h=-log10(0.01), lty=2, lwd = 2, col= \"grey\")\n",
    "abline(v=-log2(1.5), lty=2, lwd = 2, col= \"grey\")\n",
    "abline(v=log2(1.5), lty=2, lwd = 2, col= \"grey\")\n",
    "text(-3.8, 65, paste(nrow(res_sh6_mi[which(res_sh6_mi$log2FoldChange < -log2(1.5) & res_sh6_mi$padj <.01),]), \" down\", sep=\"\"), cex=1.5)\n",
    "text(3.8,65, paste(nrow(res_sh6_mi[which(res_sh6_mi$log2FoldChange > log2(1.5) & res_sh6_mi$padj <.01),]), \" up\", sep=\"\"), cex=1.5)\n",
    "\n",
    "# Label points with the textxy function from the calibrate plot\n",
    "#with(subset(res_sh1_mi1, (log2FoldChange)>-log2(1.5)), textxy(log2FoldChange, -log10(pvalue), labs=label, cex=.7))\n",
    "\n",
    "\n",
    "#dev.off()"
   ]
  },
  {
   "cell_type": "markdown",
   "metadata": {},
   "source": [
    "# sh7"
   ]
  },
  {
   "cell_type": "code",
   "execution_count": 43,
   "metadata": {},
   "outputs": [
    {
     "name": "stderr",
     "output_type": "stream",
     "text": [
      "converting counts to integer mode\n",
      "\n",
      "Warning message in DESeqDataSet(se, design = design, ignoreRank):\n",
      "“some variables in design formula are characters, converting to factors”\n"
     ]
    },
    {
     "data": {
      "text/plain": [
       "class: DESeqDataSet \n",
       "dim: 29634 4 \n",
       "metadata(1): version\n",
       "assays(1): counts\n",
       "rownames(29634): ENSG00000000003 ENSG00000000419 ... ENSG00000273489\n",
       "  ENSG00000273493\n",
       "rowData names(0):\n",
       "colnames(4): hela_shgfp_dox_r1 hela_shgfp_dox_r2 hela_shint7_dox_r1\n",
       "  hela_shint7_dox_r2\n",
       "colData names(2): id dex"
      ]
     },
     "metadata": {},
     "output_type": "display_data"
    }
   ],
   "source": [
    "dds_sh7 <- DESeqDataSetFromMatrix(countData=subs_sh7, \n",
    "                              colData=metadata_sh7, \n",
    "                              design=~dex, tidy = TRUE)\n",
    "\n",
    "\n",
    "dds_sh7"
   ]
  },
  {
   "cell_type": "code",
   "execution_count": 44,
   "metadata": {},
   "outputs": [
    {
     "name": "stderr",
     "output_type": "stream",
     "text": [
      "estimating size factors\n",
      "\n",
      "estimating dispersions\n",
      "\n",
      "gene-wise dispersion estimates\n",
      "\n",
      "mean-dispersion relationship\n",
      "\n",
      "final dispersion estimates\n",
      "\n",
      "fitting model and testing\n",
      "\n"
     ]
    },
    {
     "data": {
      "text/html": [
       "<table>\n",
       "<caption>A data.frame: 6 × 7</caption>\n",
       "<thead>\n",
       "\t<tr><th></th><th scope=col>row</th><th scope=col>baseMean</th><th scope=col>log2FoldChange</th><th scope=col>lfcSE</th><th scope=col>stat</th><th scope=col>pvalue</th><th scope=col>padj</th></tr>\n",
       "\t<tr><th></th><th scope=col>&lt;chr&gt;</th><th scope=col>&lt;dbl&gt;</th><th scope=col>&lt;dbl&gt;</th><th scope=col>&lt;dbl&gt;</th><th scope=col>&lt;dbl&gt;</th><th scope=col>&lt;dbl&gt;</th><th scope=col>&lt;dbl&gt;</th></tr>\n",
       "</thead>\n",
       "<tbody>\n",
       "\t<tr><th scope=row>29629</th><td>ENSG00000273485</td><td>16.5639952</td><td>-0.0664177</td><td>0.8185195</td><td>-0.0811437</td><td>0.93532767</td><td>0.95845048</td></tr>\n",
       "\t<tr><th scope=row>29630</th><td>ENSG00000273486</td><td>26.5494420</td><td> 0.6016796</td><td>0.6645672</td><td> 0.9053706</td><td>0.36526911</td><td>0.48616363</td></tr>\n",
       "\t<tr><th scope=row>29631</th><td>ENSG00000273487</td><td> 0.5134375</td><td>-2.5457277</td><td>4.8407287</td><td>-0.5258976</td><td>0.59895935</td><td>        NA</td></tr>\n",
       "\t<tr><th scope=row>29632</th><td>ENSG00000273488</td><td>13.5770648</td><td>-1.1180366</td><td>0.9627828</td><td>-1.1612553</td><td>0.24553809</td><td>0.35435541</td></tr>\n",
       "\t<tr><th scope=row>29633</th><td>ENSG00000273489</td><td>39.4121800</td><td>-1.4568702</td><td>0.6078994</td><td>-2.3965648</td><td>0.01654957</td><td>0.03637535</td></tr>\n",
       "\t<tr><th scope=row>29634</th><td>ENSG00000273493</td><td> 0.5134375</td><td>-2.5457277</td><td>4.8407287</td><td>-0.5258976</td><td>0.59895935</td><td>        NA</td></tr>\n",
       "</tbody>\n",
       "</table>\n"
      ],
      "text/latex": [
       "A data.frame: 6 × 7\n",
       "\\begin{tabular}{r|lllllll}\n",
       "  & row & baseMean & log2FoldChange & lfcSE & stat & pvalue & padj\\\\\n",
       "  & <chr> & <dbl> & <dbl> & <dbl> & <dbl> & <dbl> & <dbl>\\\\\n",
       "\\hline\n",
       "\t29629 & ENSG00000273485 & 16.5639952 & -0.0664177 & 0.8185195 & -0.0811437 & 0.93532767 & 0.95845048\\\\\n",
       "\t29630 & ENSG00000273486 & 26.5494420 &  0.6016796 & 0.6645672 &  0.9053706 & 0.36526911 & 0.48616363\\\\\n",
       "\t29631 & ENSG00000273487 &  0.5134375 & -2.5457277 & 4.8407287 & -0.5258976 & 0.59895935 &         NA\\\\\n",
       "\t29632 & ENSG00000273488 & 13.5770648 & -1.1180366 & 0.9627828 & -1.1612553 & 0.24553809 & 0.35435541\\\\\n",
       "\t29633 & ENSG00000273489 & 39.4121800 & -1.4568702 & 0.6078994 & -2.3965648 & 0.01654957 & 0.03637535\\\\\n",
       "\t29634 & ENSG00000273493 &  0.5134375 & -2.5457277 & 4.8407287 & -0.5258976 & 0.59895935 &         NA\\\\\n",
       "\\end{tabular}\n"
      ],
      "text/markdown": [
       "\n",
       "A data.frame: 6 × 7\n",
       "\n",
       "| <!--/--> | row &lt;chr&gt; | baseMean &lt;dbl&gt; | log2FoldChange &lt;dbl&gt; | lfcSE &lt;dbl&gt; | stat &lt;dbl&gt; | pvalue &lt;dbl&gt; | padj &lt;dbl&gt; |\n",
       "|---|---|---|---|---|---|---|---|\n",
       "| 29629 | ENSG00000273485 | 16.5639952 | -0.0664177 | 0.8185195 | -0.0811437 | 0.93532767 | 0.95845048 |\n",
       "| 29630 | ENSG00000273486 | 26.5494420 |  0.6016796 | 0.6645672 |  0.9053706 | 0.36526911 | 0.48616363 |\n",
       "| 29631 | ENSG00000273487 |  0.5134375 | -2.5457277 | 4.8407287 | -0.5258976 | 0.59895935 |         NA |\n",
       "| 29632 | ENSG00000273488 | 13.5770648 | -1.1180366 | 0.9627828 | -1.1612553 | 0.24553809 | 0.35435541 |\n",
       "| 29633 | ENSG00000273489 | 39.4121800 | -1.4568702 | 0.6078994 | -2.3965648 | 0.01654957 | 0.03637535 |\n",
       "| 29634 | ENSG00000273493 |  0.5134375 | -2.5457277 | 4.8407287 | -0.5258976 | 0.59895935 |         NA |\n",
       "\n"
      ],
      "text/plain": [
       "      row             baseMean   log2FoldChange lfcSE     stat       pvalue    \n",
       "29629 ENSG00000273485 16.5639952 -0.0664177     0.8185195 -0.0811437 0.93532767\n",
       "29630 ENSG00000273486 26.5494420  0.6016796     0.6645672  0.9053706 0.36526911\n",
       "29631 ENSG00000273487  0.5134375 -2.5457277     4.8407287 -0.5258976 0.59895935\n",
       "29632 ENSG00000273488 13.5770648 -1.1180366     0.9627828 -1.1612553 0.24553809\n",
       "29633 ENSG00000273489 39.4121800 -1.4568702     0.6078994 -2.3965648 0.01654957\n",
       "29634 ENSG00000273493  0.5134375 -2.5457277     4.8407287 -0.5258976 0.59895935\n",
       "      padj      \n",
       "29629 0.95845048\n",
       "29630 0.48616363\n",
       "29631         NA\n",
       "29632 0.35435541\n",
       "29633 0.03637535\n",
       "29634         NA"
      ]
     },
     "metadata": {},
     "output_type": "display_data"
    },
    {
     "name": "stdout",
     "output_type": "stream",
     "text": [
      "\n",
      "out of 29634 with nonzero total read count\n",
      "adjusted p-value < 0.1\n",
      "LFC > 0 (up)       : 6338, 21%\n",
      "LFC < 0 (down)     : 6043, 20%\n",
      "outliers [1]       : 0, 0%\n",
      "low counts [2]     : 6318, 21%\n",
      "(mean count < 2)\n",
      "[1] see 'cooksCutoff' argument of ?results\n",
      "[2] see 'independentFiltering' argument of ?results\n",
      "\n"
     ]
    }
   ],
   "source": [
    "dds_sh7 <- DESeq(dds_sh7)\n",
    "\n",
    "res_sh7 <- results(dds_sh7)\n",
    "tail(results(dds_sh7, tidy=TRUE)) #let's look at the results table\n",
    "\n",
    "summary(res_sh7)"
   ]
  },
  {
   "cell_type": "code",
   "execution_count": 45,
   "metadata": {},
   "outputs": [
    {
     "data": {
      "text/html": [
       "<table>\n",
       "<caption>A data.frame: 6 × 2</caption>\n",
       "<thead>\n",
       "\t<tr><th></th><th scope=col>ENSEMBL</th><th scope=col>gene_ID</th></tr>\n",
       "\t<tr><th></th><th scope=col>&lt;chr&gt;</th><th scope=col>&lt;chr&gt;</th></tr>\n",
       "</thead>\n",
       "<tbody>\n",
       "\t<tr><th scope=row>1</th><td>TARBP2</td><td>ENSG00000139546</td></tr>\n",
       "\t<tr><th scope=row>2</th><td>SRF   </td><td>ENSG00000112658</td></tr>\n",
       "\t<tr><th scope=row>3</th><td>EZH2  </td><td>ENSG00000106462</td></tr>\n",
       "\t<tr><th scope=row>5</th><td>TGFBR2</td><td>ENSG00000163513</td></tr>\n",
       "\t<tr><th scope=row>6</th><td>PRKRA </td><td>ENSG00000180228</td></tr>\n",
       "\t<tr><th scope=row>7</th><td>IL6   </td><td>ENSG00000136244</td></tr>\n",
       "</tbody>\n",
       "</table>\n"
      ],
      "text/latex": [
       "A data.frame: 6 × 2\n",
       "\\begin{tabular}{r|ll}\n",
       "  & ENSEMBL & gene\\_ID\\\\\n",
       "  & <chr> & <chr>\\\\\n",
       "\\hline\n",
       "\t1 & TARBP2 & ENSG00000139546\\\\\n",
       "\t2 & SRF    & ENSG00000112658\\\\\n",
       "\t3 & EZH2   & ENSG00000106462\\\\\n",
       "\t5 & TGFBR2 & ENSG00000163513\\\\\n",
       "\t6 & PRKRA  & ENSG00000180228\\\\\n",
       "\t7 & IL6    & ENSG00000136244\\\\\n",
       "\\end{tabular}\n"
      ],
      "text/markdown": [
       "\n",
       "A data.frame: 6 × 2\n",
       "\n",
       "| <!--/--> | ENSEMBL &lt;chr&gt; | gene_ID &lt;chr&gt; |\n",
       "|---|---|---|\n",
       "| 1 | TARBP2 | ENSG00000139546 |\n",
       "| 2 | SRF    | ENSG00000112658 |\n",
       "| 3 | EZH2   | ENSG00000106462 |\n",
       "| 5 | TGFBR2 | ENSG00000163513 |\n",
       "| 6 | PRKRA  | ENSG00000180228 |\n",
       "| 7 | IL6    | ENSG00000136244 |\n",
       "\n"
      ],
      "text/plain": [
       "  ENSEMBL gene_ID        \n",
       "1 TARBP2  ENSG00000139546\n",
       "2 SRF     ENSG00000112658\n",
       "3 EZH2    ENSG00000106462\n",
       "5 TGFBR2  ENSG00000163513\n",
       "6 PRKRA   ENSG00000180228\n",
       "7 IL6     ENSG00000136244"
      ]
     },
     "metadata": {},
     "output_type": "display_data"
    },
    {
     "data": {
      "text/plain": [
       "log2 fold change (MLE): dex treated vs control \n",
       "Wald test p-value: dex treated vs control \n",
       "DataFrame with 6 rows and 6 columns\n",
       "                        baseMean     log2FoldChange             lfcSE\n",
       "                       <numeric>          <numeric>         <numeric>\n",
       "ENSG00000055917 7513.99393879126  -1.23781704841685 0.228639164879598\n",
       "ENSG00000065978 31002.0983911433  0.126180657793557 0.184203516518202\n",
       "ENSG00000083223 3140.45838977248  -1.40531666100761 0.220804101917867\n",
       "ENSG00000087087 3920.79900193688   1.31206329866187 0.286950208956353\n",
       "ENSG00000092847 2923.59620619341 -0.431710522848559 0.187444947998053\n",
       "ENSG00000100403  3647.3677610501   1.90102043478387 0.282059546848437\n",
       "                             stat               pvalue                 padj\n",
       "                        <numeric>            <numeric>            <numeric>\n",
       "ENSG00000055917 -5.41384521356474 6.16854951886255e-08 4.08480262941776e-07\n",
       "ENSG00000065978 0.685006780427498    0.493339642337922    0.609970059279745\n",
       "ENSG00000083223 -6.36454055337408 1.95875166286773e-10 1.98998927108601e-09\n",
       "ENSG00000087087  4.57244238794558 4.82071795262769e-06 2.24127337554272e-05\n",
       "ENSG00000092847 -2.30313234610646   0.0212713978735427   0.0452068100282126\n",
       "ENSG00000100403  6.73978404923613 1.58622208430764e-11 1.95684413321254e-10"
      ]
     },
     "metadata": {},
     "output_type": "display_data"
    },
    {
     "data": {
      "text/html": [
       "39"
      ],
      "text/latex": [
       "39"
      ],
      "text/markdown": [
       "39"
      ],
      "text/plain": [
       "[1] 39"
      ]
     },
     "metadata": {},
     "output_type": "display_data"
    }
   ],
   "source": [
    "## extract miRNA-related genes only!!\n",
    "head(assign)\n",
    "\n",
    "res_sh7_mi <- res_sh7[rownames(res_sh7) %in% assign$gene_ID,]\n",
    "head(res_sh7_mi)\n",
    "nrow(res_sh7_mi)\n",
    "#res_sh7_mi$padj"
   ]
  },
  {
   "cell_type": "code",
   "execution_count": 46,
   "metadata": {},
   "outputs": [
    {
     "data": {
      "image/png": "[encoded data removed]",
      "text/plain": [
       "Plot with title “39 miRNA-related shINTS7”"
      ]
     },
     "metadata": {
      "image/png": {
       "height": 480,
       "width": 480
      },
      "text/plain": {
       "height": 480,
       "width": 480
      }
     },
     "output_type": "display_data"
    }
   ],
   "source": [
    "#reset par\n",
    "par(mfrow=c(1,1))\n",
    "options(repr.plot.width=8, repr.plot.height=8)\n",
    "label <- rownames(res_sh7_mi[res_sh7_mi$log2FoldChange>(-log2(1.5)),])\n",
    "#label\n",
    "\n",
    "# Make a basic volcano plot\n",
    "with(res_sh7_mi, plot(log2FoldChange, -log10(padj), pch=20, main=paste(nrow(res_sh7_mi[!is.na(res_sh7_mi$log2FoldChange),]), \" miRNA-related shINTS7\", sep=\"\"),\n",
    "                   #xlim=c(-5,5), ylim=c(0,70), \n",
    "                   cex.axis =2, cex.lab=1.5, cex.main=3))\n",
    "\n",
    "# Add colored points: blue if padj<0.05, red if log2FC<0.58 and padj<0.01\n",
    "with(subset(res_sh7_mi, padj<.01 ), points(log2FoldChange, -log10(padj), pch=20, col=\"blue\"))\n",
    "with(subset(res_sh7_mi, padj<.01 & abs(log2FoldChange)>log2(1.5)), points(log2FoldChange, -log10(padj), pch=20, col=\"red\"))\n",
    "abline(h=-log10(0.01), lty=2, lwd = 2, col= \"grey\")\n",
    "abline(v=-log2(1.5), lty=2, lwd = 2, col= \"grey\")\n",
    "abline(v=log2(1.5), lty=2, lwd = 2, col= \"grey\")\n",
    "text(-3.8, 65, paste(nrow(res_sh7_mi[which(res_sh7_mi$log2FoldChange < -log2(1.5) & res_sh7_mi$padj <.01),]), \" down\", sep=\"\"), cex=1.5)\n",
    "text(3.8,65, paste(nrow(res_sh7_mi[which(res_sh7_mi$log2FoldChange > log2(1.5) & res_sh7_mi$padj <.01),]), \" up\", sep=\"\"), cex=1.5)\n",
    "\n",
    "# Label points with the textxy function from the calibrate plot\n",
    "#with(subset(res_sh7_mi1, (log2FoldChange)>-log2(1.5)), textxy(log2FoldChange, -log10(pvalue), labs=label, cex=.7))\n",
    "\n",
    "\n",
    "#dev.off()"
   ]
  },
  {
   "cell_type": "markdown",
   "metadata": {},
   "source": [
    "# sh11"
   ]
  },
  {
   "cell_type": "code",
   "execution_count": 47,
   "metadata": {},
   "outputs": [
    {
     "name": "stderr",
     "output_type": "stream",
     "text": [
      "converting counts to integer mode\n",
      "\n",
      "Warning message in DESeqDataSet(se, design = design, ignoreRank):\n",
      "“some variables in design formula are characters, converting to factors”\n"
     ]
    },
    {
     "data": {
      "text/plain": [
       "class: DESeqDataSet \n",
       "dim: 28213 4 \n",
       "metadata(1): version\n",
       "assays(1): counts\n",
       "rownames(28213): ENSG00000000003 ENSG00000000419 ... ENSG00000273489\n",
       "  ENSG00000273493\n",
       "rowData names(0):\n",
       "colnames(4): hela_shgfp_dox_r1 hela_shgfp_dox_r2 hela_shints11_dox_r1\n",
       "  hela_shints11_dox_r2\n",
       "colData names(2): id dex"
      ]
     },
     "metadata": {},
     "output_type": "display_data"
    }
   ],
   "source": [
    "dds_sh11 <- DESeqDataSetFromMatrix(countData=subs_sh11, \n",
    "                              colData=metadata_sh11, \n",
    "                              design=~dex, tidy = TRUE)\n",
    "\n",
    "\n",
    "dds_sh11"
   ]
  },
  {
   "cell_type": "code",
   "execution_count": 48,
   "metadata": {},
   "outputs": [
    {
     "name": "stderr",
     "output_type": "stream",
     "text": [
      "estimating size factors\n",
      "\n",
      "estimating dispersions\n",
      "\n",
      "gene-wise dispersion estimates\n",
      "\n",
      "mean-dispersion relationship\n",
      "\n",
      "final dispersion estimates\n",
      "\n",
      "fitting model and testing\n",
      "\n"
     ]
    },
    {
     "data": {
      "text/html": [
       "<table>\n",
       "<caption>A data.frame: 6 × 7</caption>\n",
       "<thead>\n",
       "\t<tr><th></th><th scope=col>row</th><th scope=col>baseMean</th><th scope=col>log2FoldChange</th><th scope=col>lfcSE</th><th scope=col>stat</th><th scope=col>pvalue</th><th scope=col>padj</th></tr>\n",
       "\t<tr><th></th><th scope=col>&lt;chr&gt;</th><th scope=col>&lt;dbl&gt;</th><th scope=col>&lt;dbl&gt;</th><th scope=col>&lt;dbl&gt;</th><th scope=col>&lt;dbl&gt;</th><th scope=col>&lt;dbl&gt;</th><th scope=col>&lt;dbl&gt;</th></tr>\n",
       "</thead>\n",
       "<tbody>\n",
       "\t<tr><th scope=row>28208</th><td>ENSG00000273485</td><td>31.066454</td><td> 1.4601294</td><td>0.7007227</td><td> 2.0837477</td><td>0.03718312</td><td>0.11637954</td></tr>\n",
       "\t<tr><th scope=row>28209</th><td>ENSG00000273486</td><td>27.562719</td><td> 0.7378226</td><td>0.7546054</td><td> 0.9777595</td><td>0.32819329</td><td>0.54398808</td></tr>\n",
       "\t<tr><th scope=row>28210</th><td>ENSG00000273487</td><td> 1.201338</td><td> 0.4901786</td><td>3.3766628</td><td> 0.1451666</td><td>0.88457934</td><td>        NA</td></tr>\n",
       "\t<tr><th scope=row>28211</th><td>ENSG00000273488</td><td>16.212805</td><td>-0.3627323</td><td>0.9538232</td><td>-0.3802930</td><td>0.70372792</td><td>0.84743701</td></tr>\n",
       "\t<tr><th scope=row>28212</th><td>ENSG00000273489</td><td>38.162199</td><td>-1.5252074</td><td>0.6624164</td><td>-2.3024902</td><td>0.02130754</td><td>0.07592518</td></tr>\n",
       "\t<tr><th scope=row>28213</th><td>ENSG00000273493</td><td> 1.201338</td><td> 0.4901786</td><td>3.3766628</td><td> 0.1451666</td><td>0.88457934</td><td>        NA</td></tr>\n",
       "</tbody>\n",
       "</table>\n"
      ],
      "text/latex": [
       "A data.frame: 6 × 7\n",
       "\\begin{tabular}{r|lllllll}\n",
       "  & row & baseMean & log2FoldChange & lfcSE & stat & pvalue & padj\\\\\n",
       "  & <chr> & <dbl> & <dbl> & <dbl> & <dbl> & <dbl> & <dbl>\\\\\n",
       "\\hline\n",
       "\t28208 & ENSG00000273485 & 31.066454 &  1.4601294 & 0.7007227 &  2.0837477 & 0.03718312 & 0.11637954\\\\\n",
       "\t28209 & ENSG00000273486 & 27.562719 &  0.7378226 & 0.7546054 &  0.9777595 & 0.32819329 & 0.54398808\\\\\n",
       "\t28210 & ENSG00000273487 &  1.201338 &  0.4901786 & 3.3766628 &  0.1451666 & 0.88457934 &         NA\\\\\n",
       "\t28211 & ENSG00000273488 & 16.212805 & -0.3627323 & 0.9538232 & -0.3802930 & 0.70372792 & 0.84743701\\\\\n",
       "\t28212 & ENSG00000273489 & 38.162199 & -1.5252074 & 0.6624164 & -2.3024902 & 0.02130754 & 0.07592518\\\\\n",
       "\t28213 & ENSG00000273493 &  1.201338 &  0.4901786 & 3.3766628 &  0.1451666 & 0.88457934 &         NA\\\\\n",
       "\\end{tabular}\n"
      ],
      "text/markdown": [
       "\n",
       "A data.frame: 6 × 7\n",
       "\n",
       "| <!--/--> | row &lt;chr&gt; | baseMean &lt;dbl&gt; | log2FoldChange &lt;dbl&gt; | lfcSE &lt;dbl&gt; | stat &lt;dbl&gt; | pvalue &lt;dbl&gt; | padj &lt;dbl&gt; |\n",
       "|---|---|---|---|---|---|---|---|\n",
       "| 28208 | ENSG00000273485 | 31.066454 |  1.4601294 | 0.7007227 |  2.0837477 | 0.03718312 | 0.11637954 |\n",
       "| 28209 | ENSG00000273486 | 27.562719 |  0.7378226 | 0.7546054 |  0.9777595 | 0.32819329 | 0.54398808 |\n",
       "| 28210 | ENSG00000273487 |  1.201338 |  0.4901786 | 3.3766628 |  0.1451666 | 0.88457934 |         NA |\n",
       "| 28211 | ENSG00000273488 | 16.212805 | -0.3627323 | 0.9538232 | -0.3802930 | 0.70372792 | 0.84743701 |\n",
       "| 28212 | ENSG00000273489 | 38.162199 | -1.5252074 | 0.6624164 | -2.3024902 | 0.02130754 | 0.07592518 |\n",
       "| 28213 | ENSG00000273493 |  1.201338 |  0.4901786 | 3.3766628 |  0.1451666 | 0.88457934 |         NA |\n",
       "\n"
      ],
      "text/plain": [
       "      row             baseMean  log2FoldChange lfcSE     stat       pvalue    \n",
       "28208 ENSG00000273485 31.066454  1.4601294     0.7007227  2.0837477 0.03718312\n",
       "28209 ENSG00000273486 27.562719  0.7378226     0.7546054  0.9777595 0.32819329\n",
       "28210 ENSG00000273487  1.201338  0.4901786     3.3766628  0.1451666 0.88457934\n",
       "28211 ENSG00000273488 16.212805 -0.3627323     0.9538232 -0.3802930 0.70372792\n",
       "28212 ENSG00000273489 38.162199 -1.5252074     0.6624164 -2.3024902 0.02130754\n",
       "28213 ENSG00000273493  1.201338  0.4901786     3.3766628  0.1451666 0.88457934\n",
       "      padj      \n",
       "28208 0.11637954\n",
       "28209 0.54398808\n",
       "28210         NA\n",
       "28211 0.84743701\n",
       "28212 0.07592518\n",
       "28213         NA"
      ]
     },
     "metadata": {},
     "output_type": "display_data"
    },
    {
     "name": "stdout",
     "output_type": "stream",
     "text": [
      "\n",
      "out of 28213 with nonzero total read count\n",
      "adjusted p-value < 0.1\n",
      "LFC > 0 (up)       : 2659, 9.4%\n",
      "LFC < 0 (down)     : 3094, 11%\n",
      "outliers [1]       : 0, 0%\n",
      "low counts [2]     : 9299, 33%\n",
      "(mean count < 6)\n",
      "[1] see 'cooksCutoff' argument of ?results\n",
      "[2] see 'independentFiltering' argument of ?results\n",
      "\n"
     ]
    }
   ],
   "source": [
    "dds_sh11 <- DESeq(dds_sh11)\n",
    "\n",
    "res_sh11 <- results(dds_sh11)\n",
    "tail(results(dds_sh11, tidy=TRUE)) #let's look at the results table\n",
    "\n",
    "summary(res_sh11)"
   ]
  },
  {
   "cell_type": "code",
   "execution_count": 49,
   "metadata": {},
   "outputs": [
    {
     "data": {
      "text/html": [
       "<table>\n",
       "<caption>A data.frame: 6 × 2</caption>\n",
       "<thead>\n",
       "\t<tr><th></th><th scope=col>ENSEMBL</th><th scope=col>gene_ID</th></tr>\n",
       "\t<tr><th></th><th scope=col>&lt;chr&gt;</th><th scope=col>&lt;chr&gt;</th></tr>\n",
       "</thead>\n",
       "<tbody>\n",
       "\t<tr><th scope=row>1</th><td>TARBP2</td><td>ENSG00000139546</td></tr>\n",
       "\t<tr><th scope=row>2</th><td>SRF   </td><td>ENSG00000112658</td></tr>\n",
       "\t<tr><th scope=row>3</th><td>EZH2  </td><td>ENSG00000106462</td></tr>\n",
       "\t<tr><th scope=row>5</th><td>TGFBR2</td><td>ENSG00000163513</td></tr>\n",
       "\t<tr><th scope=row>6</th><td>PRKRA </td><td>ENSG00000180228</td></tr>\n",
       "\t<tr><th scope=row>7</th><td>IL6   </td><td>ENSG00000136244</td></tr>\n",
       "</tbody>\n",
       "</table>\n"
      ],
      "text/latex": [
       "A data.frame: 6 × 2\n",
       "\\begin{tabular}{r|ll}\n",
       "  & ENSEMBL & gene\\_ID\\\\\n",
       "  & <chr> & <chr>\\\\\n",
       "\\hline\n",
       "\t1 & TARBP2 & ENSG00000139546\\\\\n",
       "\t2 & SRF    & ENSG00000112658\\\\\n",
       "\t3 & EZH2   & ENSG00000106462\\\\\n",
       "\t5 & TGFBR2 & ENSG00000163513\\\\\n",
       "\t6 & PRKRA  & ENSG00000180228\\\\\n",
       "\t7 & IL6    & ENSG00000136244\\\\\n",
       "\\end{tabular}\n"
      ],
      "text/markdown": [
       "\n",
       "A data.frame: 6 × 2\n",
       "\n",
       "| <!--/--> | ENSEMBL &lt;chr&gt; | gene_ID &lt;chr&gt; |\n",
       "|---|---|---|\n",
       "| 1 | TARBP2 | ENSG00000139546 |\n",
       "| 2 | SRF    | ENSG00000112658 |\n",
       "| 3 | EZH2   | ENSG00000106462 |\n",
       "| 5 | TGFBR2 | ENSG00000163513 |\n",
       "| 6 | PRKRA  | ENSG00000180228 |\n",
       "| 7 | IL6    | ENSG00000136244 |\n",
       "\n"
      ],
      "text/plain": [
       "  ENSEMBL gene_ID        \n",
       "1 TARBP2  ENSG00000139546\n",
       "2 SRF     ENSG00000112658\n",
       "3 EZH2    ENSG00000106462\n",
       "5 TGFBR2  ENSG00000163513\n",
       "6 PRKRA   ENSG00000180228\n",
       "7 IL6     ENSG00000136244"
      ]
     },
     "metadata": {},
     "output_type": "display_data"
    },
    {
     "data": {
      "text/plain": [
       "log2 fold change (MLE): dex treated vs control \n",
       "Wald test p-value: dex treated vs control \n",
       "DataFrame with 6 rows and 6 columns\n",
       "                        baseMean     log2FoldChange             lfcSE\n",
       "                       <numeric>          <numeric>         <numeric>\n",
       "ENSG00000055917 8786.19157988538 -0.512587972577355 0.228651821949115\n",
       "ENSG00000065978 33355.9393696651  0.384015534303177 0.209435588858723\n",
       "ENSG00000083223 3710.30021721358 -0.592450508569804 0.225625249484739\n",
       "ENSG00000087087 2807.77031438537  0.643568087770345 0.282371895567473\n",
       "ENSG00000092847 2586.70993954292 -0.794431734347342 0.211461294059813\n",
       "ENSG00000100403 1771.40488633429  0.445661838495273 0.267324200470667\n",
       "                             stat               pvalue                padj\n",
       "                        <numeric>            <numeric>           <numeric>\n",
       "ENSG00000055917 -2.24178389749034   0.0249753424398942  0.0861071139096169\n",
       "ENSG00000065978  1.83357344563926   0.0667173369737529   0.178258470337839\n",
       "ENSG00000083223 -2.62581652506882  0.00864413975479222  0.0373813988309647\n",
       "ENSG00000087087  2.27915064449664    0.022658111848167  0.0797460974127708\n",
       "ENSG00000092847 -3.75686594503972 0.000172054602721379 0.00144120494059884\n",
       "ENSG00000100403   1.6671211873471   0.0954903099579495   0.232176850822041"
      ]
     },
     "metadata": {},
     "output_type": "display_data"
    },
    {
     "data": {
      "text/html": [
       "39"
      ],
      "text/latex": [
       "39"
      ],
      "text/markdown": [
       "39"
      ],
      "text/plain": [
       "[1] 39"
      ]
     },
     "metadata": {},
     "output_type": "display_data"
    }
   ],
   "source": [
    "## extract miRNA-related genes only!!\n",
    "head(assign)\n",
    "\n",
    "res_sh11_mi <- res_sh11[rownames(res_sh11) %in% assign$gene_ID,]\n",
    "head(res_sh11_mi)\n",
    "nrow(res_sh11_mi)\n",
    "#res_sh11_mi$padj"
   ]
  },
  {
   "cell_type": "code",
   "execution_count": 50,
   "metadata": {},
   "outputs": [
    {
     "data": {
      "image/png": "[encoded data removed]",
      "text/plain": [
       "Plot with title “39 miRNA-related shINTS11”"
      ]
     },
     "metadata": {
      "image/png": {
       "height": 480,
       "width": 480
      },
      "text/plain": {
       "height": 480,
       "width": 480
      }
     },
     "output_type": "display_data"
    }
   ],
   "source": [
    "#reset par\n",
    "par(mfrow=c(1,1))\n",
    "options(repr.plot.width=8, repr.plot.height=8)\n",
    "#label <- rownames(res_sh11_mi[res_sh11_mi$log2FoldChange>(-log2(1.5)),])\n",
    "#label\n",
    "\n",
    "# Make a basic volcano plot\n",
    "with(res_sh11_mi, plot(log2FoldChange, -log10(padj), pch=20, main=paste(nrow(res_sh11_mi[!is.na(res_sh11_mi$log2FoldChange),]), \" miRNA-related shINTS11\", sep=\"\"),\n",
    "                   xlim=c(-5,5), ylim=c(0,70), \n",
    "                   cex.axis =2, cex.lab=1.5, cex.main=3))\n",
    "\n",
    "# Add colored points: blue if padj<0.05, red if log2FC<0.58 and padj<0.01\n",
    "with(subset(res_sh11_mi, padj<.01 ), points(log2FoldChange, -log10(padj), pch=20, col=\"blue\"))\n",
    "with(subset(res_sh11_mi, padj<.01 & abs(log2FoldChange)>log2(1.5)), points(log2FoldChange, -log10(padj), pch=20, col=\"red\"))\n",
    "abline(h=-log10(0.01), lty=2, lwd = 2, col= \"grey\")\n",
    "abline(v=-log2(1.5), lty=2, lwd = 2, col= \"grey\")\n",
    "abline(v=log2(1.5), lty=2, lwd = 2, col= \"grey\")\n",
    "text(-3.8, 65, paste(nrow(res_sh11_mi[which(res_sh11_mi$log2FoldChange < -log2(1.5) & res_sh11_mi$padj <.01),]), \" down\", sep=\"\"), cex=1.5)\n",
    "text(3.8,65, paste(nrow(res_sh11_mi[which(res_sh11_mi$log2FoldChange > log2(1.5) & res_sh11_mi$padj <.01),]), \" up\", sep=\"\"), cex=1.5)\n",
    "\n",
    "# Label points with the textxy function from the calibrate plot\n",
    "#with(subset(res_sh11_mi1, (log2FoldChange)>-log2(1.5)), textxy(log2FoldChange, -log10(pvalue), labs=label, cex=.7))\n",
    "\n",
    "\n",
    "#dev.off()"
   ]
  },
  {
   "cell_type": "markdown",
   "metadata": {},
   "source": [
    "# siDrosha"
   ]
  },
  {
   "cell_type": "code",
   "execution_count": 51,
   "metadata": {},
   "outputs": [
    {
     "name": "stderr",
     "output_type": "stream",
     "text": [
      "converting counts to integer mode\n",
      "\n",
      "Warning message in DESeqDataSet(se, design = design, ignoreRank):\n",
      "“some variables in design formula are characters, converting to factors”\n"
     ]
    },
    {
     "data": {
      "text/plain": [
       "class: DESeqDataSet \n",
       "dim: 25823 4 \n",
       "metadata(1): version\n",
       "assays(1): counts\n",
       "rownames(25823): ENSG00000000003 ENSG00000000419 ... ENSG00000273489\n",
       "  ENSG00000273493\n",
       "rowData names(0):\n",
       "colnames(4): hela_siC_r1 hela_siC_r2 hela_siDrosha_r1 hela_siDrosha_r2\n",
       "colData names(2): id dex"
      ]
     },
     "metadata": {},
     "output_type": "display_data"
    }
   ],
   "source": [
    "dds_siDrosha <- DESeqDataSetFromMatrix(countData=subs_siDrosha, \n",
    "                              colData=metadata_siDrosha, \n",
    "                              design=~dex, tidy = TRUE)\n",
    "\n",
    "\n",
    "dds_siDrosha"
   ]
  },
  {
   "cell_type": "code",
   "execution_count": 52,
   "metadata": {},
   "outputs": [
    {
     "name": "stderr",
     "output_type": "stream",
     "text": [
      "estimating size factors\n",
      "\n",
      "estimating dispersions\n",
      "\n",
      "gene-wise dispersion estimates\n",
      "\n",
      "mean-dispersion relationship\n",
      "\n",
      "final dispersion estimates\n",
      "\n",
      "fitting model and testing\n",
      "\n"
     ]
    },
    {
     "data": {
      "text/html": [
       "<table>\n",
       "<caption>A data.frame: 6 × 7</caption>\n",
       "<thead>\n",
       "\t<tr><th></th><th scope=col>row</th><th scope=col>baseMean</th><th scope=col>log2FoldChange</th><th scope=col>lfcSE</th><th scope=col>stat</th><th scope=col>pvalue</th><th scope=col>padj</th></tr>\n",
       "\t<tr><th></th><th scope=col>&lt;chr&gt;</th><th scope=col>&lt;dbl&gt;</th><th scope=col>&lt;dbl&gt;</th><th scope=col>&lt;dbl&gt;</th><th scope=col>&lt;dbl&gt;</th><th scope=col>&lt;dbl&gt;</th><th scope=col>&lt;dbl&gt;</th></tr>\n",
       "</thead>\n",
       "<tbody>\n",
       "\t<tr><th scope=row>25818</th><td>ENSG00000273483</td><td> 7.463214</td><td> 0.5223797</td><td>1.3260828</td><td> 0.3939269</td><td>0.6936350</td><td>NA</td></tr>\n",
       "\t<tr><th scope=row>25819</th><td>ENSG00000273485</td><td> 7.592452</td><td>-0.5408826</td><td>1.3218699</td><td>-0.4091799</td><td>0.6824076</td><td>NA</td></tr>\n",
       "\t<tr><th scope=row>25820</th><td>ENSG00000273486</td><td>19.810461</td><td>-0.1357997</td><td>0.9467153</td><td>-0.1434430</td><td>0.8859403</td><td>NA</td></tr>\n",
       "\t<tr><th scope=row>25821</th><td>ENSG00000273488</td><td>12.179323</td><td>-0.1941545</td><td>1.0889276</td><td>-0.1782988</td><td>0.8584883</td><td>NA</td></tr>\n",
       "\t<tr><th scope=row>25822</th><td>ENSG00000273489</td><td>28.715885</td><td> 0.6066665</td><td>0.7134521</td><td> 0.8503255</td><td>0.3951441</td><td>NA</td></tr>\n",
       "\t<tr><th scope=row>25823</th><td>ENSG00000273493</td><td> 0.517057</td><td> 2.5731898</td><td>4.8922701</td><td> 0.5259705</td><td>0.5989087</td><td>NA</td></tr>\n",
       "</tbody>\n",
       "</table>\n"
      ],
      "text/latex": [
       "A data.frame: 6 × 7\n",
       "\\begin{tabular}{r|lllllll}\n",
       "  & row & baseMean & log2FoldChange & lfcSE & stat & pvalue & padj\\\\\n",
       "  & <chr> & <dbl> & <dbl> & <dbl> & <dbl> & <dbl> & <dbl>\\\\\n",
       "\\hline\n",
       "\t25818 & ENSG00000273483 &  7.463214 &  0.5223797 & 1.3260828 &  0.3939269 & 0.6936350 & NA\\\\\n",
       "\t25819 & ENSG00000273485 &  7.592452 & -0.5408826 & 1.3218699 & -0.4091799 & 0.6824076 & NA\\\\\n",
       "\t25820 & ENSG00000273486 & 19.810461 & -0.1357997 & 0.9467153 & -0.1434430 & 0.8859403 & NA\\\\\n",
       "\t25821 & ENSG00000273488 & 12.179323 & -0.1941545 & 1.0889276 & -0.1782988 & 0.8584883 & NA\\\\\n",
       "\t25822 & ENSG00000273489 & 28.715885 &  0.6066665 & 0.7134521 &  0.8503255 & 0.3951441 & NA\\\\\n",
       "\t25823 & ENSG00000273493 &  0.517057 &  2.5731898 & 4.8922701 &  0.5259705 & 0.5989087 & NA\\\\\n",
       "\\end{tabular}\n"
      ],
      "text/markdown": [
       "\n",
       "A data.frame: 6 × 7\n",
       "\n",
       "| <!--/--> | row &lt;chr&gt; | baseMean &lt;dbl&gt; | log2FoldChange &lt;dbl&gt; | lfcSE &lt;dbl&gt; | stat &lt;dbl&gt; | pvalue &lt;dbl&gt; | padj &lt;dbl&gt; |\n",
       "|---|---|---|---|---|---|---|---|\n",
       "| 25818 | ENSG00000273483 |  7.463214 |  0.5223797 | 1.3260828 |  0.3939269 | 0.6936350 | NA |\n",
       "| 25819 | ENSG00000273485 |  7.592452 | -0.5408826 | 1.3218699 | -0.4091799 | 0.6824076 | NA |\n",
       "| 25820 | ENSG00000273486 | 19.810461 | -0.1357997 | 0.9467153 | -0.1434430 | 0.8859403 | NA |\n",
       "| 25821 | ENSG00000273488 | 12.179323 | -0.1941545 | 1.0889276 | -0.1782988 | 0.8584883 | NA |\n",
       "| 25822 | ENSG00000273489 | 28.715885 |  0.6066665 | 0.7134521 |  0.8503255 | 0.3951441 | NA |\n",
       "| 25823 | ENSG00000273493 |  0.517057 |  2.5731898 | 4.8922701 |  0.5259705 | 0.5989087 | NA |\n",
       "\n"
      ],
      "text/plain": [
       "      row             baseMean  log2FoldChange lfcSE     stat       pvalue   \n",
       "25818 ENSG00000273483  7.463214  0.5223797     1.3260828  0.3939269 0.6936350\n",
       "25819 ENSG00000273485  7.592452 -0.5408826     1.3218699 -0.4091799 0.6824076\n",
       "25820 ENSG00000273486 19.810461 -0.1357997     0.9467153 -0.1434430 0.8859403\n",
       "25821 ENSG00000273488 12.179323 -0.1941545     1.0889276 -0.1782988 0.8584883\n",
       "25822 ENSG00000273489 28.715885  0.6066665     0.7134521  0.8503255 0.3951441\n",
       "25823 ENSG00000273493  0.517057  2.5731898     4.8922701  0.5259705 0.5989087\n",
       "      padj\n",
       "25818 NA  \n",
       "25819 NA  \n",
       "25820 NA  \n",
       "25821 NA  \n",
       "25822 NA  \n",
       "25823 NA  "
      ]
     },
     "metadata": {},
     "output_type": "display_data"
    },
    {
     "name": "stdout",
     "output_type": "stream",
     "text": [
      "\n",
      "out of 25823 with nonzero total read count\n",
      "adjusted p-value < 0.1\n",
      "LFC > 0 (up)       : 1144, 4.4%\n",
      "LFC < 0 (down)     : 817, 3.2%\n",
      "outliers [1]       : 0, 0%\n",
      "low counts [2]     : 12516, 48%\n",
      "(mean count < 41)\n",
      "[1] see 'cooksCutoff' argument of ?results\n",
      "[2] see 'independentFiltering' argument of ?results\n",
      "\n"
     ]
    }
   ],
   "source": [
    "dds_siDrosha <- DESeq(dds_siDrosha)\n",
    "\n",
    "res_siDrosha <- results(dds_siDrosha)\n",
    "tail(results(dds_siDrosha, tidy=TRUE)) #let's look at the results table\n",
    "\n",
    "summary(res_siDrosha)"
   ]
  },
  {
   "cell_type": "code",
   "execution_count": 53,
   "metadata": {},
   "outputs": [
    {
     "data": {
      "text/plain": [
       "log2 fold change (MLE): dex treated vs control \n",
       "Wald test p-value: dex treated vs control \n",
       "DataFrame with 6 rows and 6 columns\n",
       "                        baseMean     log2FoldChange             lfcSE\n",
       "                       <numeric>          <numeric>         <numeric>\n",
       "ENSG00000055917 4262.01322427964  0.323333969077283 0.207771144765393\n",
       "ENSG00000065978 33575.7882458311 0.0849612796886065 0.193036265290534\n",
       "ENSG00000083223 1993.10149628608  0.111567890133633 0.209665345395296\n",
       "ENSG00000087087 1980.74831771282 -0.277482838800693 0.269574077688048\n",
       "ENSG00000092847 2886.81506078905 -0.234927566651708 0.199264445801467\n",
       "ENSG00000100403 1710.00976241725 -0.476060504167594 0.269458051252355\n",
       "                             stat             pvalue              padj\n",
       "                        <numeric>          <numeric>         <numeric>\n",
       "ENSG00000055917   1.5562024719187  0.119659953768759 0.380208931423322\n",
       "ENSG00000065978 0.440131182401055  0.659842098616688 0.876648151954682\n",
       "ENSG00000083223 0.532123656025685  0.594640354218331 0.845456362977157\n",
       "ENSG00000087087 -1.02933798820893  0.303320878088044  0.62638658345928\n",
       "ENSG00000092847 -1.17897382900798  0.238408597169165 0.554007500305004\n",
       "ENSG00000100403 -1.76673327055925 0.0772729086876092 0.293959575730708"
      ]
     },
     "metadata": {},
     "output_type": "display_data"
    },
    {
     "data": {
      "text/html": [
       "39"
      ],
      "text/latex": [
       "39"
      ],
      "text/markdown": [
       "39"
      ],
      "text/plain": [
       "[1] 39"
      ]
     },
     "metadata": {},
     "output_type": "display_data"
    }
   ],
   "source": [
    "## extract miRNA-related genes only!!\n",
    "#head(assign)\n",
    "\n",
    "res_siDrosha_mi <- res_siDrosha[rownames(res_siDrosha) %in% assign$gene_ID,]\n",
    "head(res_siDrosha_mi)\n",
    "nrow(res_siDrosha_mi)\n",
    "#res_eq_ezra_mi$padj"
   ]
  },
  {
   "cell_type": "code",
   "execution_count": 54,
   "metadata": {},
   "outputs": [
    {
     "data": {
      "image/png": "[encoded data removed]",
      "text/plain": [
       "Plot with title “39 miRNA-related siDrosha”"
      ]
     },
     "metadata": {
      "image/png": {
       "height": 480,
       "width": 480
      },
      "text/plain": {
       "height": 480,
       "width": 480
      }
     },
     "output_type": "display_data"
    }
   ],
   "source": [
    "#reset par\n",
    "par(mfrow=c(1,1))\n",
    "options(repr.plot.width=8, repr.plot.height=8)\n",
    "#label <- rownames(res_eq_ezra_mi[res_eq_ezra_mi$log2FoldChange>(-log2(1.5)),])\n",
    "#label\n",
    "\n",
    "# Make a basic volcano plot\n",
    "with(res_siDrosha_mi, plot(log2FoldChange, -log10(padj), pch=20, main=paste(nrow(res_siDrosha_mi[!is.na(res_siDrosha_mi$log2FoldChange),]), \" miRNA-related siDrosha\", sep=\"\"),\n",
    "                   xlim=c(-5,5), ylim=c(0,70), \n",
    "                   cex.axis =2, cex.lab=1.5, cex.main=3))\n",
    "\n",
    "# Add colored points: blue if padj<0.05, red if log2FC<0.58 and padj<0.01\n",
    "with(subset(res_siDrosha_mi, padj<.01 ), points(log2FoldChange, -log10(padj), pch=20, col=\"blue\"))\n",
    "with(subset(res_siDrosha_mi, padj<.01 & abs(log2FoldChange)>log2(1.5)), points(log2FoldChange, -log10(padj), pch=20, col=\"red\"))\n",
    "abline(h=-log10(0.01), lty=2, lwd = 2, col= \"grey\")\n",
    "abline(v=-log2(1.5), lty=2, lwd = 2, col= \"grey\")\n",
    "abline(v=log2(1.5), lty=2, lwd = 2, col= \"grey\")\n",
    "text(-3.8, 65, paste(nrow(res_siDrosha_mi[which(res_siDrosha_mi$log2FoldChange < -log2(1.5) & res_siDrosha_mi$padj <.01),]), \" down\", sep=\"\"), cex=1.5)\n",
    "text(3.8,65, paste(nrow(res_siDrosha_mi[which(res_siDrosha_mi$log2FoldChange > log2(1.5) & res_siDrosha_mi$padj <.01),]), \" up\", sep=\"\"), cex=1.5)\n",
    "\n",
    "# Label points with the textxy function from the calibrate plot\n",
    "#with(subset(res_eq_ezra_mi1, (log2FoldChange)>-log2(1.5)), textxy(log2FoldChange, -log10(pvalue), labs=label, cex=.7))\n",
    "\n",
    "\n",
    "#dev.off()"
   ]
  },
  {
   "cell_type": "markdown",
   "metadata": {},
   "source": [
    "# Heatmap of log2FC of miRNA-related genes"
   ]
  },
  {
   "cell_type": "code",
   "execution_count": 55,
   "metadata": {},
   "outputs": [
    {
     "data": {
      "text/html": [
       "<style>\n",
       ".list-inline {list-style: none; margin:0; padding: 0}\n",
       ".list-inline>li {display: inline-block}\n",
       ".list-inline>li:not(:last-child)::after {content: \"\\00b7\"; padding: 0 .5ex}\n",
       "</style>\n",
       "<ol class=list-inline><li>'res_sh1_mi'</li><li>'res_sh11_mi'</li><li>'res_sh3_mi'</li><li>'res_sh6_mi'</li><li>'res_sh7_mi'</li><li>'res_siDrosha_mi'</li></ol>\n"
      ],
      "text/latex": [
       "\\begin{enumerate*}\n",
       "\\item 'res\\_sh1\\_mi'\n",
       "\\item 'res\\_sh11\\_mi'\n",
       "\\item 'res\\_sh3\\_mi'\n",
       "\\item 'res\\_sh6\\_mi'\n",
       "\\item 'res\\_sh7\\_mi'\n",
       "\\item 'res\\_siDrosha\\_mi'\n",
       "\\end{enumerate*}\n"
      ],
      "text/markdown": [
       "1. 'res_sh1_mi'\n",
       "2. 'res_sh11_mi'\n",
       "3. 'res_sh3_mi'\n",
       "4. 'res_sh6_mi'\n",
       "5. 'res_sh7_mi'\n",
       "6. 'res_siDrosha_mi'\n",
       "\n",
       "\n"
      ],
      "text/plain": [
       "[1] \"res_sh1_mi\"      \"res_sh11_mi\"     \"res_sh3_mi\"      \"res_sh6_mi\"     \n",
       "[5] \"res_sh7_mi\"      \"res_siDrosha_mi\""
      ]
     },
     "metadata": {},
     "output_type": "display_data"
    },
    {
     "data": {
      "text/html": [
       "<style>\n",
       ".list-inline {list-style: none; margin:0; padding: 0}\n",
       ".list-inline>li {display: inline-block}\n",
       ".list-inline>li:not(:last-child)::after {content: \"\\00b7\"; padding: 0 .5ex}\n",
       "</style>\n",
       "<ol class=list-inline><li>'df_sh1_mi'</li><li>'df_sh11_mi'</li><li>'df_sh3_mi'</li><li>'df_sh6_mi'</li><li>'df_sh7_mi'</li><li>'df_siDrosha_mi'</li></ol>\n"
      ],
      "text/latex": [
       "\\begin{enumerate*}\n",
       "\\item 'df\\_sh1\\_mi'\n",
       "\\item 'df\\_sh11\\_mi'\n",
       "\\item 'df\\_sh3\\_mi'\n",
       "\\item 'df\\_sh6\\_mi'\n",
       "\\item 'df\\_sh7\\_mi'\n",
       "\\item 'df\\_siDrosha\\_mi'\n",
       "\\end{enumerate*}\n"
      ],
      "text/markdown": [
       "1. 'df_sh1_mi'\n",
       "2. 'df_sh11_mi'\n",
       "3. 'df_sh3_mi'\n",
       "4. 'df_sh6_mi'\n",
       "5. 'df_sh7_mi'\n",
       "6. 'df_siDrosha_mi'\n",
       "\n",
       "\n"
      ],
      "text/plain": [
       "[1] \"df_sh1_mi\"      \"df_sh11_mi\"     \"df_sh3_mi\"      \"df_sh6_mi\"     \n",
       "[5] \"df_sh7_mi\"      \"df_siDrosha_mi\""
      ]
     },
     "metadata": {},
     "output_type": "display_data"
    }
   ],
   "source": [
    "f <- ls(pattern=\"res_.*_mi\")\n",
    "f\n",
    "\n",
    "for (i in 1:length(f)){\n",
    "    nam <- gsub(\"res\", \"df\", f[i])\n",
    "    interm <- as.data.frame(get(f[i]))\n",
    "    interm$gene_ID <- rownames(interm)\n",
    "    assign(nam,interm)\n",
    "}\n",
    "\n",
    "ls(pattern=\"df\")\n"
   ]
  },
  {
   "cell_type": "code",
   "execution_count": 56,
   "metadata": {},
   "outputs": [
    {
     "data": {
      "text/html": [
       "39"
      ],
      "text/latex": [
       "39"
      ],
      "text/markdown": [
       "39"
      ],
      "text/plain": [
       "[1] 39"
      ]
     },
     "metadata": {},
     "output_type": "display_data"
    },
    {
     "data": {
      "text/html": [
       "39"
      ],
      "text/latex": [
       "39"
      ],
      "text/markdown": [
       "39"
      ],
      "text/plain": [
       "[1] 39"
      ]
     },
     "metadata": {},
     "output_type": "display_data"
    }
   ],
   "source": [
    "nrow(res_sh11_mi)\n",
    "nrow(df_siDrosha_mi)"
   ]
  },
  {
   "cell_type": "code",
   "execution_count": 57,
   "metadata": {},
   "outputs": [
    {
     "data": {
      "text/html": [
       "<style>\n",
       ".list-inline {list-style: none; margin:0; padding: 0}\n",
       ".list-inline>li {display: inline-block}\n",
       ".list-inline>li:not(:last-child)::after {content: \"\\00b7\"; padding: 0 .5ex}\n",
       "</style>\n",
       "<ol class=list-inline><li>'res_sh1_mi'</li><li>'res_sh11_mi'</li><li>'res_sh3_mi'</li><li>'res_sh6_mi'</li><li>'res_sh7_mi'</li><li>'res_siDrosha_mi'</li></ol>\n"
      ],
      "text/latex": [
       "\\begin{enumerate*}\n",
       "\\item 'res\\_sh1\\_mi'\n",
       "\\item 'res\\_sh11\\_mi'\n",
       "\\item 'res\\_sh3\\_mi'\n",
       "\\item 'res\\_sh6\\_mi'\n",
       "\\item 'res\\_sh7\\_mi'\n",
       "\\item 'res\\_siDrosha\\_mi'\n",
       "\\end{enumerate*}\n"
      ],
      "text/markdown": [
       "1. 'res_sh1_mi'\n",
       "2. 'res_sh11_mi'\n",
       "3. 'res_sh3_mi'\n",
       "4. 'res_sh6_mi'\n",
       "5. 'res_sh7_mi'\n",
       "6. 'res_siDrosha_mi'\n",
       "\n",
       "\n"
      ],
      "text/plain": [
       "[1] \"res_sh1_mi\"      \"res_sh11_mi\"     \"res_sh3_mi\"      \"res_sh6_mi\"     \n",
       "[5] \"res_sh7_mi\"      \"res_siDrosha_mi\""
      ]
     },
     "metadata": {},
     "output_type": "display_data"
    }
   ],
   "source": [
    "f"
   ]
  },
  {
   "cell_type": "code",
   "execution_count": 59,
   "metadata": {},
   "outputs": [
    {
     "data": {
      "text/html": [
       "<table>\n",
       "<caption>A data.frame: 6 × 2</caption>\n",
       "<thead>\n",
       "\t<tr><th></th><th scope=col>gene_ID</th><th scope=col>log2FoldChange_df_sh1_mi</th></tr>\n",
       "\t<tr><th></th><th scope=col>&lt;chr&gt;</th><th scope=col>&lt;dbl&gt;</th></tr>\n",
       "</thead>\n",
       "<tbody>\n",
       "\t<tr><th scope=row>ENSG00000055917</th><td>ENSG00000055917</td><td>-1.12346549</td></tr>\n",
       "\t<tr><th scope=row>ENSG00000065978</th><td>ENSG00000065978</td><td>-0.09779319</td></tr>\n",
       "\t<tr><th scope=row>ENSG00000083223</th><td>ENSG00000083223</td><td>-0.71398527</td></tr>\n",
       "\t<tr><th scope=row>ENSG00000087087</th><td>ENSG00000087087</td><td> 0.27494876</td></tr>\n",
       "\t<tr><th scope=row>ENSG00000092847</th><td>ENSG00000092847</td><td>-0.02342292</td></tr>\n",
       "\t<tr><th scope=row>ENSG00000100403</th><td>ENSG00000100403</td><td> 0.45297763</td></tr>\n",
       "</tbody>\n",
       "</table>\n"
      ],
      "text/latex": [
       "A data.frame: 6 × 2\n",
       "\\begin{tabular}{r|ll}\n",
       "  & gene\\_ID & log2FoldChange\\_df\\_sh1\\_mi\\\\\n",
       "  & <chr> & <dbl>\\\\\n",
       "\\hline\n",
       "\tENSG00000055917 & ENSG00000055917 & -1.12346549\\\\\n",
       "\tENSG00000065978 & ENSG00000065978 & -0.09779319\\\\\n",
       "\tENSG00000083223 & ENSG00000083223 & -0.71398527\\\\\n",
       "\tENSG00000087087 & ENSG00000087087 &  0.27494876\\\\\n",
       "\tENSG00000092847 & ENSG00000092847 & -0.02342292\\\\\n",
       "\tENSG00000100403 & ENSG00000100403 &  0.45297763\\\\\n",
       "\\end{tabular}\n"
      ],
      "text/markdown": [
       "\n",
       "A data.frame: 6 × 2\n",
       "\n",
       "| <!--/--> | gene_ID &lt;chr&gt; | log2FoldChange_df_sh1_mi &lt;dbl&gt; |\n",
       "|---|---|---|\n",
       "| ENSG00000055917 | ENSG00000055917 | -1.12346549 |\n",
       "| ENSG00000065978 | ENSG00000065978 | -0.09779319 |\n",
       "| ENSG00000083223 | ENSG00000083223 | -0.71398527 |\n",
       "| ENSG00000087087 | ENSG00000087087 |  0.27494876 |\n",
       "| ENSG00000092847 | ENSG00000092847 | -0.02342292 |\n",
       "| ENSG00000100403 | ENSG00000100403 |  0.45297763 |\n",
       "\n"
      ],
      "text/plain": [
       "                gene_ID         log2FoldChange_df_sh1_mi\n",
       "ENSG00000055917 ENSG00000055917 -1.12346549             \n",
       "ENSG00000065978 ENSG00000065978 -0.09779319             \n",
       "ENSG00000083223 ENSG00000083223 -0.71398527             \n",
       "ENSG00000087087 ENSG00000087087  0.27494876             \n",
       "ENSG00000092847 ENSG00000092847 -0.02342292             \n",
       "ENSG00000100403 ENSG00000100403  0.45297763             "
      ]
     },
     "metadata": {},
     "output_type": "display_data"
    },
    {
     "data": {
      "text/html": [
       "<table>\n",
       "<caption>A data.frame: 6 × 8</caption>\n",
       "<thead>\n",
       "\t<tr><th></th><th scope=col>gene_ID</th><th scope=col>log2FoldChange_df_sh1_mi</th><th scope=col>baseMean</th><th scope=col>log2FoldChange</th><th scope=col>lfcSE</th><th scope=col>stat</th><th scope=col>pvalue</th><th scope=col>padj</th></tr>\n",
       "\t<tr><th></th><th scope=col>&lt;chr&gt;</th><th scope=col>&lt;dbl&gt;</th><th scope=col>&lt;dbl&gt;</th><th scope=col>&lt;dbl&gt;</th><th scope=col>&lt;dbl&gt;</th><th scope=col>&lt;dbl&gt;</th><th scope=col>&lt;dbl&gt;</th><th scope=col>&lt;dbl&gt;</th></tr>\n",
       "</thead>\n",
       "<tbody>\n",
       "\t<tr><th scope=row>1</th><td>ENSG00000055917</td><td>-1.12346549</td><td> 8786.192</td><td>-0.5125880</td><td>0.2286518</td><td>-2.241784</td><td>0.0249753424</td><td>0.086107114</td></tr>\n",
       "\t<tr><th scope=row>2</th><td>ENSG00000065978</td><td>-0.09779319</td><td>33355.939</td><td> 0.3840155</td><td>0.2094356</td><td> 1.833573</td><td>0.0667173370</td><td>0.178258470</td></tr>\n",
       "\t<tr><th scope=row>3</th><td>ENSG00000083223</td><td>-0.71398527</td><td> 3710.300</td><td>-0.5924505</td><td>0.2256252</td><td>-2.625817</td><td>0.0086441398</td><td>0.037381399</td></tr>\n",
       "\t<tr><th scope=row>4</th><td>ENSG00000087087</td><td> 0.27494876</td><td> 2807.770</td><td> 0.6435681</td><td>0.2823719</td><td> 2.279151</td><td>0.0226581118</td><td>0.079746097</td></tr>\n",
       "\t<tr><th scope=row>5</th><td>ENSG00000092847</td><td>-0.02342292</td><td> 2586.710</td><td>-0.7944317</td><td>0.2114613</td><td>-3.756866</td><td>0.0001720546</td><td>0.001441205</td></tr>\n",
       "\t<tr><th scope=row>6</th><td>ENSG00000100403</td><td> 0.45297763</td><td> 1771.405</td><td> 0.4456618</td><td>0.2673242</td><td> 1.667121</td><td>0.0954903100</td><td>0.232176851</td></tr>\n",
       "</tbody>\n",
       "</table>\n"
      ],
      "text/latex": [
       "A data.frame: 6 × 8\n",
       "\\begin{tabular}{r|llllllll}\n",
       "  & gene\\_ID & log2FoldChange\\_df\\_sh1\\_mi & baseMean & log2FoldChange & lfcSE & stat & pvalue & padj\\\\\n",
       "  & <chr> & <dbl> & <dbl> & <dbl> & <dbl> & <dbl> & <dbl> & <dbl>\\\\\n",
       "\\hline\n",
       "\t1 & ENSG00000055917 & -1.12346549 &  8786.192 & -0.5125880 & 0.2286518 & -2.241784 & 0.0249753424 & 0.086107114\\\\\n",
       "\t2 & ENSG00000065978 & -0.09779319 & 33355.939 &  0.3840155 & 0.2094356 &  1.833573 & 0.0667173370 & 0.178258470\\\\\n",
       "\t3 & ENSG00000083223 & -0.71398527 &  3710.300 & -0.5924505 & 0.2256252 & -2.625817 & 0.0086441398 & 0.037381399\\\\\n",
       "\t4 & ENSG00000087087 &  0.27494876 &  2807.770 &  0.6435681 & 0.2823719 &  2.279151 & 0.0226581118 & 0.079746097\\\\\n",
       "\t5 & ENSG00000092847 & -0.02342292 &  2586.710 & -0.7944317 & 0.2114613 & -3.756866 & 0.0001720546 & 0.001441205\\\\\n",
       "\t6 & ENSG00000100403 &  0.45297763 &  1771.405 &  0.4456618 & 0.2673242 &  1.667121 & 0.0954903100 & 0.232176851\\\\\n",
       "\\end{tabular}\n"
      ],
      "text/markdown": [
       "\n",
       "A data.frame: 6 × 8\n",
       "\n",
       "| <!--/--> | gene_ID &lt;chr&gt; | log2FoldChange_df_sh1_mi &lt;dbl&gt; | baseMean &lt;dbl&gt; | log2FoldChange &lt;dbl&gt; | lfcSE &lt;dbl&gt; | stat &lt;dbl&gt; | pvalue &lt;dbl&gt; | padj &lt;dbl&gt; |\n",
       "|---|---|---|---|---|---|---|---|---|\n",
       "| 1 | ENSG00000055917 | -1.12346549 |  8786.192 | -0.5125880 | 0.2286518 | -2.241784 | 0.0249753424 | 0.086107114 |\n",
       "| 2 | ENSG00000065978 | -0.09779319 | 33355.939 |  0.3840155 | 0.2094356 |  1.833573 | 0.0667173370 | 0.178258470 |\n",
       "| 3 | ENSG00000083223 | -0.71398527 |  3710.300 | -0.5924505 | 0.2256252 | -2.625817 | 0.0086441398 | 0.037381399 |\n",
       "| 4 | ENSG00000087087 |  0.27494876 |  2807.770 |  0.6435681 | 0.2823719 |  2.279151 | 0.0226581118 | 0.079746097 |\n",
       "| 5 | ENSG00000092847 | -0.02342292 |  2586.710 | -0.7944317 | 0.2114613 | -3.756866 | 0.0001720546 | 0.001441205 |\n",
       "| 6 | ENSG00000100403 |  0.45297763 |  1771.405 |  0.4456618 | 0.2673242 |  1.667121 | 0.0954903100 | 0.232176851 |\n",
       "\n"
      ],
      "text/plain": [
       "  gene_ID         log2FoldChange_df_sh1_mi baseMean  log2FoldChange lfcSE    \n",
       "1 ENSG00000055917 -1.12346549               8786.192 -0.5125880     0.2286518\n",
       "2 ENSG00000065978 -0.09779319              33355.939  0.3840155     0.2094356\n",
       "3 ENSG00000083223 -0.71398527               3710.300 -0.5924505     0.2256252\n",
       "4 ENSG00000087087  0.27494876               2807.770  0.6435681     0.2823719\n",
       "5 ENSG00000092847 -0.02342292               2586.710 -0.7944317     0.2114613\n",
       "6 ENSG00000100403  0.45297763               1771.405  0.4456618     0.2673242\n",
       "  stat      pvalue       padj       \n",
       "1 -2.241784 0.0249753424 0.086107114\n",
       "2  1.833573 0.0667173370 0.178258470\n",
       "3 -2.625817 0.0086441398 0.037381399\n",
       "4  2.279151 0.0226581118 0.079746097\n",
       "5 -3.756866 0.0001720546 0.001441205\n",
       "6  1.667121 0.0954903100 0.232176851"
      ]
     },
     "metadata": {},
     "output_type": "display_data"
    }
   ],
   "source": [
    "f <- ls(pattern=\"df\")\n",
    "\n",
    "htmp <- get(f[1])[,c(7,2)]\n",
    "colnames(htmp) <- c(\"gene_ID\",  paste0(\"log2FoldChange_\", f[1]))\n",
    "head(htmp)\n",
    "\n",
    "i=2\n",
    "    avant <- htmp\n",
    "    htmp <- merge(htmp, get(f[i]), by=\"gene_ID\")\n",
    "head(htmp)\n",
    "    htmp <- htmp[,grep(\"log2FoldChange|gene_ID\", colnames(htmp), value=TRUE)]\n",
    "    colnames(htmp) <- c(colnames(avant), paste0(\"log2FoldChange_\", f[i]))\n"
   ]
  },
  {
   "cell_type": "code",
   "execution_count": 60,
   "metadata": {},
   "outputs": [
    {
     "data": {
      "text/html": [
       "<table>\n",
       "<caption>A data.frame: 6 × 2</caption>\n",
       "<thead>\n",
       "\t<tr><th></th><th scope=col>gene_ID</th><th scope=col>log2FoldChange_df_sh1_mi</th></tr>\n",
       "\t<tr><th></th><th scope=col>&lt;chr&gt;</th><th scope=col>&lt;dbl&gt;</th></tr>\n",
       "</thead>\n",
       "<tbody>\n",
       "\t<tr><th scope=row>ENSG00000055917</th><td>ENSG00000055917</td><td>-1.12346549</td></tr>\n",
       "\t<tr><th scope=row>ENSG00000065978</th><td>ENSG00000065978</td><td>-0.09779319</td></tr>\n",
       "\t<tr><th scope=row>ENSG00000083223</th><td>ENSG00000083223</td><td>-0.71398527</td></tr>\n",
       "\t<tr><th scope=row>ENSG00000087087</th><td>ENSG00000087087</td><td> 0.27494876</td></tr>\n",
       "\t<tr><th scope=row>ENSG00000092847</th><td>ENSG00000092847</td><td>-0.02342292</td></tr>\n",
       "\t<tr><th scope=row>ENSG00000100403</th><td>ENSG00000100403</td><td> 0.45297763</td></tr>\n",
       "</tbody>\n",
       "</table>\n"
      ],
      "text/latex": [
       "A data.frame: 6 × 2\n",
       "\\begin{tabular}{r|ll}\n",
       "  & gene\\_ID & log2FoldChange\\_df\\_sh1\\_mi\\\\\n",
       "  & <chr> & <dbl>\\\\\n",
       "\\hline\n",
       "\tENSG00000055917 & ENSG00000055917 & -1.12346549\\\\\n",
       "\tENSG00000065978 & ENSG00000065978 & -0.09779319\\\\\n",
       "\tENSG00000083223 & ENSG00000083223 & -0.71398527\\\\\n",
       "\tENSG00000087087 & ENSG00000087087 &  0.27494876\\\\\n",
       "\tENSG00000092847 & ENSG00000092847 & -0.02342292\\\\\n",
       "\tENSG00000100403 & ENSG00000100403 &  0.45297763\\\\\n",
       "\\end{tabular}\n"
      ],
      "text/markdown": [
       "\n",
       "A data.frame: 6 × 2\n",
       "\n",
       "| <!--/--> | gene_ID &lt;chr&gt; | log2FoldChange_df_sh1_mi &lt;dbl&gt; |\n",
       "|---|---|---|\n",
       "| ENSG00000055917 | ENSG00000055917 | -1.12346549 |\n",
       "| ENSG00000065978 | ENSG00000065978 | -0.09779319 |\n",
       "| ENSG00000083223 | ENSG00000083223 | -0.71398527 |\n",
       "| ENSG00000087087 | ENSG00000087087 |  0.27494876 |\n",
       "| ENSG00000092847 | ENSG00000092847 | -0.02342292 |\n",
       "| ENSG00000100403 | ENSG00000100403 |  0.45297763 |\n",
       "\n"
      ],
      "text/plain": [
       "                gene_ID         log2FoldChange_df_sh1_mi\n",
       "ENSG00000055917 ENSG00000055917 -1.12346549             \n",
       "ENSG00000065978 ENSG00000065978 -0.09779319             \n",
       "ENSG00000083223 ENSG00000083223 -0.71398527             \n",
       "ENSG00000087087 ENSG00000087087  0.27494876             \n",
       "ENSG00000092847 ENSG00000092847 -0.02342292             \n",
       "ENSG00000100403 ENSG00000100403  0.45297763             "
      ]
     },
     "metadata": {},
     "output_type": "display_data"
    },
    {
     "data": {
      "text/html": [
       "<table>\n",
       "<caption>A data.frame: 6 × 7</caption>\n",
       "<thead>\n",
       "\t<tr><th></th><th scope=col>gene_ID</th><th scope=col>log2FoldChange_df_sh1_mi</th><th scope=col>log2FoldChange_df_sh11_mi</th><th scope=col>log2FoldChange_df_sh3_mi</th><th scope=col>log2FoldChange_df_sh6_mi</th><th scope=col>log2FoldChange_df_sh7_mi</th><th scope=col>log2FoldChange_df_siDrosha_mi</th></tr>\n",
       "\t<tr><th></th><th scope=col>&lt;chr&gt;</th><th scope=col>&lt;dbl&gt;</th><th scope=col>&lt;dbl&gt;</th><th scope=col>&lt;dbl&gt;</th><th scope=col>&lt;dbl&gt;</th><th scope=col>&lt;dbl&gt;</th><th scope=col>&lt;dbl&gt;</th></tr>\n",
       "</thead>\n",
       "<tbody>\n",
       "\t<tr><th scope=row>1</th><td>ENSG00000055917</td><td>-1.12346549</td><td>-0.5125880</td><td>-1.2989295</td><td>-0.39445257</td><td>-1.2378170</td><td> 0.32333397</td></tr>\n",
       "\t<tr><th scope=row>2</th><td>ENSG00000065978</td><td>-0.09779319</td><td> 0.3840155</td><td> 0.6848596</td><td>-0.41815343</td><td> 0.1261807</td><td> 0.08496128</td></tr>\n",
       "\t<tr><th scope=row>3</th><td>ENSG00000083223</td><td>-0.71398527</td><td>-0.5924505</td><td>-1.2461327</td><td>-0.12785149</td><td>-1.4053167</td><td> 0.11156789</td></tr>\n",
       "\t<tr><th scope=row>4</th><td>ENSG00000087087</td><td> 0.27494876</td><td> 0.6435681</td><td> 1.2895717</td><td>-0.11556788</td><td> 1.3120633</td><td>-0.27748284</td></tr>\n",
       "\t<tr><th scope=row>5</th><td>ENSG00000092847</td><td>-0.02342292</td><td>-0.7944317</td><td>-0.4282365</td><td>-0.28104417</td><td>-0.4317105</td><td>-0.23492757</td></tr>\n",
       "\t<tr><th scope=row>6</th><td>ENSG00000100403</td><td> 0.45297763</td><td> 0.4456618</td><td> 2.3533846</td><td>-0.09611627</td><td> 1.9010204</td><td>-0.47606050</td></tr>\n",
       "</tbody>\n",
       "</table>\n"
      ],
      "text/latex": [
       "A data.frame: 6 × 7\n",
       "\\begin{tabular}{r|lllllll}\n",
       "  & gene\\_ID & log2FoldChange\\_df\\_sh1\\_mi & log2FoldChange\\_df\\_sh11\\_mi & log2FoldChange\\_df\\_sh3\\_mi & log2FoldChange\\_df\\_sh6\\_mi & log2FoldChange\\_df\\_sh7\\_mi & log2FoldChange\\_df\\_siDrosha\\_mi\\\\\n",
       "  & <chr> & <dbl> & <dbl> & <dbl> & <dbl> & <dbl> & <dbl>\\\\\n",
       "\\hline\n",
       "\t1 & ENSG00000055917 & -1.12346549 & -0.5125880 & -1.2989295 & -0.39445257 & -1.2378170 &  0.32333397\\\\\n",
       "\t2 & ENSG00000065978 & -0.09779319 &  0.3840155 &  0.6848596 & -0.41815343 &  0.1261807 &  0.08496128\\\\\n",
       "\t3 & ENSG00000083223 & -0.71398527 & -0.5924505 & -1.2461327 & -0.12785149 & -1.4053167 &  0.11156789\\\\\n",
       "\t4 & ENSG00000087087 &  0.27494876 &  0.6435681 &  1.2895717 & -0.11556788 &  1.3120633 & -0.27748284\\\\\n",
       "\t5 & ENSG00000092847 & -0.02342292 & -0.7944317 & -0.4282365 & -0.28104417 & -0.4317105 & -0.23492757\\\\\n",
       "\t6 & ENSG00000100403 &  0.45297763 &  0.4456618 &  2.3533846 & -0.09611627 &  1.9010204 & -0.47606050\\\\\n",
       "\\end{tabular}\n"
      ],
      "text/markdown": [
       "\n",
       "A data.frame: 6 × 7\n",
       "\n",
       "| <!--/--> | gene_ID &lt;chr&gt; | log2FoldChange_df_sh1_mi &lt;dbl&gt; | log2FoldChange_df_sh11_mi &lt;dbl&gt; | log2FoldChange_df_sh3_mi &lt;dbl&gt; | log2FoldChange_df_sh6_mi &lt;dbl&gt; | log2FoldChange_df_sh7_mi &lt;dbl&gt; | log2FoldChange_df_siDrosha_mi &lt;dbl&gt; |\n",
       "|---|---|---|---|---|---|---|---|\n",
       "| 1 | ENSG00000055917 | -1.12346549 | -0.5125880 | -1.2989295 | -0.39445257 | -1.2378170 |  0.32333397 |\n",
       "| 2 | ENSG00000065978 | -0.09779319 |  0.3840155 |  0.6848596 | -0.41815343 |  0.1261807 |  0.08496128 |\n",
       "| 3 | ENSG00000083223 | -0.71398527 | -0.5924505 | -1.2461327 | -0.12785149 | -1.4053167 |  0.11156789 |\n",
       "| 4 | ENSG00000087087 |  0.27494876 |  0.6435681 |  1.2895717 | -0.11556788 |  1.3120633 | -0.27748284 |\n",
       "| 5 | ENSG00000092847 | -0.02342292 | -0.7944317 | -0.4282365 | -0.28104417 | -0.4317105 | -0.23492757 |\n",
       "| 6 | ENSG00000100403 |  0.45297763 |  0.4456618 |  2.3533846 | -0.09611627 |  1.9010204 | -0.47606050 |\n",
       "\n"
      ],
      "text/plain": [
       "  gene_ID         log2FoldChange_df_sh1_mi log2FoldChange_df_sh11_mi\n",
       "1 ENSG00000055917 -1.12346549              -0.5125880               \n",
       "2 ENSG00000065978 -0.09779319               0.3840155               \n",
       "3 ENSG00000083223 -0.71398527              -0.5924505               \n",
       "4 ENSG00000087087  0.27494876               0.6435681               \n",
       "5 ENSG00000092847 -0.02342292              -0.7944317               \n",
       "6 ENSG00000100403  0.45297763               0.4456618               \n",
       "  log2FoldChange_df_sh3_mi log2FoldChange_df_sh6_mi log2FoldChange_df_sh7_mi\n",
       "1 -1.2989295               -0.39445257              -1.2378170              \n",
       "2  0.6848596               -0.41815343               0.1261807              \n",
       "3 -1.2461327               -0.12785149              -1.4053167              \n",
       "4  1.2895717               -0.11556788               1.3120633              \n",
       "5 -0.4282365               -0.28104417              -0.4317105              \n",
       "6  2.3533846               -0.09611627               1.9010204              \n",
       "  log2FoldChange_df_siDrosha_mi\n",
       "1  0.32333397                  \n",
       "2  0.08496128                  \n",
       "3  0.11156789                  \n",
       "4 -0.27748284                  \n",
       "5 -0.23492757                  \n",
       "6 -0.47606050                  "
      ]
     },
     "metadata": {},
     "output_type": "display_data"
    }
   ],
   "source": [
    "f <- ls(pattern=\"df\")\n",
    "\n",
    "htmp <- get(f[1])[,c(7,2)]\n",
    "colnames(htmp) <- c(\"gene_ID\",  paste0(\"log2FoldChange_\", f[1]))\n",
    "head(htmp)\n",
    "\n",
    "for (i in 2:length(f)){\n",
    "    avant <- htmp\n",
    "    htmp <- merge(htmp, get(f[i]), by=\"gene_ID\", all=TRUE)\n",
    "    htmp <- htmp[,grep(\"log2FoldChange|gene_ID\", colnames(htmp), value=TRUE)]\n",
    "    colnames(htmp) <- c(colnames(avant), paste0(\"log2FoldChange_\", f[i]))\n",
    "}\n",
    "head(htmp)"
   ]
  },
  {
   "cell_type": "code",
   "execution_count": 61,
   "metadata": {},
   "outputs": [
    {
     "data": {
      "text/html": [
       "<table>\n",
       "<caption>A matrix: 6 × 6 of type dbl</caption>\n",
       "<thead>\n",
       "\t<tr><th></th><th scope=col>shINTS1</th><th scope=col>shINTS11</th><th scope=col>shINTS3</th><th scope=col>shINTS6</th><th scope=col>shINTS7</th><th scope=col>siDrosha</th></tr>\n",
       "</thead>\n",
       "<tbody>\n",
       "\t<tr><th scope=row>IL6</th><td>0.7483357</td><td>1.9482690</td><td> 2.4193998</td><td> 1.4849638</td><td> 0.9468480</td><td> 2.28554329</td></tr>\n",
       "\t<tr><th scope=row>PUS10</th><td>0.7314649</td><td>1.2892483</td><td>-0.5122286</td><td> 0.5927280</td><td>-0.2769678</td><td>-0.01346455</td></tr>\n",
       "\t<tr><th scope=row>TGFBR2</th><td>1.4611766</td><td>1.2780537</td><td> 0.1339045</td><td> 0.2310592</td><td> 0.1939549</td><td> 1.71803009</td></tr>\n",
       "\t<tr><th scope=row>LIN28A</th><td>0.1269579</td><td>1.1511755</td><td> 0.8561357</td><td>-0.3137762</td><td> 0.8476703</td><td> 0.70547573</td></tr>\n",
       "\t<tr><th scope=row>TARBP2</th><td>0.6987412</td><td>0.8706057</td><td> 2.1657275</td><td> 0.1276658</td><td> 1.6203901</td><td>-0.06856297</td></tr>\n",
       "\t<tr><th scope=row>BCDIN3D</th><td>1.3343792</td><td>0.7803212</td><td> 0.9503646</td><td> 0.5679068</td><td> 0.2547940</td><td>-0.09829840</td></tr>\n",
       "</tbody>\n",
       "</table>\n"
      ],
      "text/latex": [
       "A matrix: 6 × 6 of type dbl\n",
       "\\begin{tabular}{r|llllll}\n",
       "  & shINTS1 & shINTS11 & shINTS3 & shINTS6 & shINTS7 & siDrosha\\\\\n",
       "\\hline\n",
       "\tIL6 & 0.7483357 & 1.9482690 &  2.4193998 &  1.4849638 &  0.9468480 &  2.28554329\\\\\n",
       "\tPUS10 & 0.7314649 & 1.2892483 & -0.5122286 &  0.5927280 & -0.2769678 & -0.01346455\\\\\n",
       "\tTGFBR2 & 1.4611766 & 1.2780537 &  0.1339045 &  0.2310592 &  0.1939549 &  1.71803009\\\\\n",
       "\tLIN28A & 0.1269579 & 1.1511755 &  0.8561357 & -0.3137762 &  0.8476703 &  0.70547573\\\\\n",
       "\tTARBP2 & 0.6987412 & 0.8706057 &  2.1657275 &  0.1276658 &  1.6203901 & -0.06856297\\\\\n",
       "\tBCDIN3D & 1.3343792 & 0.7803212 &  0.9503646 &  0.5679068 &  0.2547940 & -0.09829840\\\\\n",
       "\\end{tabular}\n"
      ],
      "text/markdown": [
       "\n",
       "A matrix: 6 × 6 of type dbl\n",
       "\n",
       "| <!--/--> | shINTS1 | shINTS11 | shINTS3 | shINTS6 | shINTS7 | siDrosha |\n",
       "|---|---|---|---|---|---|---|\n",
       "| IL6 | 0.7483357 | 1.9482690 |  2.4193998 |  1.4849638 |  0.9468480 |  2.28554329 |\n",
       "| PUS10 | 0.7314649 | 1.2892483 | -0.5122286 |  0.5927280 | -0.2769678 | -0.01346455 |\n",
       "| TGFBR2 | 1.4611766 | 1.2780537 |  0.1339045 |  0.2310592 |  0.1939549 |  1.71803009 |\n",
       "| LIN28A | 0.1269579 | 1.1511755 |  0.8561357 | -0.3137762 |  0.8476703 |  0.70547573 |\n",
       "| TARBP2 | 0.6987412 | 0.8706057 |  2.1657275 |  0.1276658 |  1.6203901 | -0.06856297 |\n",
       "| BCDIN3D | 1.3343792 | 0.7803212 |  0.9503646 |  0.5679068 |  0.2547940 | -0.09829840 |\n",
       "\n"
      ],
      "text/plain": [
       "        shINTS1   shINTS11  shINTS3    shINTS6    shINTS7    siDrosha   \n",
       "IL6     0.7483357 1.9482690  2.4193998  1.4849638  0.9468480  2.28554329\n",
       "PUS10   0.7314649 1.2892483 -0.5122286  0.5927280 -0.2769678 -0.01346455\n",
       "TGFBR2  1.4611766 1.2780537  0.1339045  0.2310592  0.1939549  1.71803009\n",
       "LIN28A  0.1269579 1.1511755  0.8561357 -0.3137762  0.8476703  0.70547573\n",
       "TARBP2  0.6987412 0.8706057  2.1657275  0.1276658  1.6203901 -0.06856297\n",
       "BCDIN3D 1.3343792 0.7803212  0.9503646  0.5679068  0.2547940 -0.09829840"
      ]
     },
     "metadata": {},
     "output_type": "display_data"
    }
   ],
   "source": [
    "htmp <- merge(htmp, assign, by=\"gene_ID\")\n",
    "rownames(htmp) <- htmp$ENSEMBL\n",
    "colnames(htmp) <- gsub(\"log2FoldChange_df_\", \"\", colnames(htmp))\n",
    "colnames(htmp) <- gsub(\"_mi\", \"\", colnames(htmp))\n",
    "colnames(htmp) <- gsub(\"^sh\", \"shINTS\", colnames(htmp))\n",
    "htmp <- htmp[order(htmp$shINTS11, decreasing=T),]\n",
    "htmp <- as.matrix(htmp[,-c(1,ncol(htmp))])\n",
    "\n",
    "head(htmp)"
   ]
  },
  {
   "cell_type": "code",
   "execution_count": 62,
   "metadata": {},
   "outputs": [
    {
     "name": "stderr",
     "output_type": "stream",
     "text": [
      "========================================\n",
      "circlize version 0.4.8\n",
      "CRAN page: https://cran.r-project.org/package=circlize\n",
      "Github page: https://github.com/jokergoo/circlize\n",
      "Documentation: http://jokergoo.github.io/circlize_book/book/\n",
      "\n",
      "If you use it in published research, please cite:\n",
      "Gu, Z. circlize implements and enhances circular visualization \n",
      "  in R. Bioinformatics 2014.\n",
      "========================================\n",
      "\n",
      "\n"
     ]
    },
    {
     "data": {
      "image/png": "[encoded data removed]",
      "text/plain": [
       "plot without title"
      ]
     },
     "metadata": {
      "image/png": {
       "height": 180,
       "width": 480
      },
      "text/plain": {
       "height": 180,
       "width": 480
      }
     },
     "output_type": "display_data"
    }
   ],
   "source": [
    "library(\"circlize\")\n",
    "library(\"RColorBrewer\")\n",
    "\n",
    "# create own colors based on Spectral, 11 colors\n",
    "ownCol <- c('#9E0142','#D53E4F','#F46D43','#FDAE61','#FEE08B','#f6f8ea','#ABDDA4','#66C2A5','#3288BD','#5E4FA2','#60258a')\n",
    "ownCol <- rev(ownCol)\n",
    "\n",
    "colHeatmap = colorRamp2(breaks=c(180,100,80,60,40,20,10,7.5,5,2.5, 0), colors=ownCol)\n",
    "\n",
    "numb=101\n",
    "options(repr.plot.width=8, repr.plot.height=3)\n",
    "image(1:numb, 1, as.matrix(1:numb), \n",
    "      col=(ownCol),\n",
    "      xlab=\"\", ylab = \"\", xaxt = \"n\", yaxt = \"n\", bty = \"n\")"
   ]
  },
  {
   "cell_type": "code",
   "execution_count": 63,
   "metadata": {},
   "outputs": [
    {
     "data": {
      "text/html": [
       "<style>\n",
       ".list-inline {list-style: none; margin:0; padding: 0}\n",
       ".list-inline>li {display: inline-block}\n",
       ".list-inline>li:not(:last-child)::after {content: \"\\00b7\"; padding: 0 .5ex}\n",
       "</style>\n",
       "<ol class=list-inline><li>-2.49749102158003</li><li>2.41939978456595</li></ol>\n"
      ],
      "text/latex": [
       "\\begin{enumerate*}\n",
       "\\item -2.49749102158003\n",
       "\\item 2.41939978456595\n",
       "\\end{enumerate*}\n"
      ],
      "text/markdown": [
       "1. -2.49749102158003\n",
       "2. 2.41939978456595\n",
       "\n",
       "\n"
      ],
      "text/plain": [
       "[1] -2.497491  2.419400"
      ]
     },
     "metadata": {},
     "output_type": "display_data"
    },
    {
     "data": {
      "text/html": [
       "<style>\n",
       ".list-inline {list-style: none; margin:0; padding: 0}\n",
       ".list-inline>li {display: inline-block}\n",
       ".list-inline>li:not(:last-child)::after {content: \"\\00b7\"; padding: 0 .5ex}\n",
       "</style>\n",
       "<ol class=list-inline><li>-3.3</li><li>-2.7</li><li>-2.1</li><li>-1.5</li><li>-0.9</li><li>-0.3</li><li>0.3</li><li>0.9</li><li>1.5</li><li>2.1</li><li>2.7</li><li>3.3</li></ol>\n"
      ],
      "text/latex": [
       "\\begin{enumerate*}\n",
       "\\item -3.3\n",
       "\\item -2.7\n",
       "\\item -2.1\n",
       "\\item -1.5\n",
       "\\item -0.9\n",
       "\\item -0.3\n",
       "\\item 0.3\n",
       "\\item 0.9\n",
       "\\item 1.5\n",
       "\\item 2.1\n",
       "\\item 2.7\n",
       "\\item 3.3\n",
       "\\end{enumerate*}\n"
      ],
      "text/markdown": [
       "1. -3.3\n",
       "2. -2.7\n",
       "3. -2.1\n",
       "4. -1.5\n",
       "5. -0.9\n",
       "6. -0.3\n",
       "7. 0.3\n",
       "8. 0.9\n",
       "9. 1.5\n",
       "10. 2.1\n",
       "11. 2.7\n",
       "12. 3.3\n",
       "\n",
       "\n"
      ],
      "text/plain": [
       " [1] -3.3 -2.7 -2.1 -1.5 -0.9 -0.3  0.3  0.9  1.5  2.1  2.7  3.3"
      ]
     },
     "metadata": {},
     "output_type": "display_data"
    },
    {
     "data": {
      "text/html": [
       "12"
      ],
      "text/latex": [
       "12"
      ],
      "text/markdown": [
       "12"
      ],
      "text/plain": [
       "[1] 12"
      ]
     },
     "metadata": {},
     "output_type": "display_data"
    }
   ],
   "source": [
    "range(htmp)\n",
    "\n",
    "breaks=c(seq(from=-3.3, to = 3.3, by=(6.6/11)))\n",
    "breaks\n",
    "length(breaks)\n",
    "\n"
   ]
  },
  {
   "cell_type": "code",
   "execution_count": 64,
   "metadata": {},
   "outputs": [],
   "source": [
    "#library(cowplot)"
   ]
  },
  {
   "cell_type": "code",
   "execution_count": 65,
   "metadata": {},
   "outputs": [
    {
     "name": "stderr",
     "output_type": "stream",
     "text": [
      "Warning message in image.default(z = matrix(z, ncol = 1), col = col, breaks = tmpbreaks, :\n",
      "“unsorted 'breaks' will be sorted before use”\n"
     ]
    },
    {
     "data": {
      "image/png": "[encoded data removed]",
      "text/plain": [
       "plot without title"
      ]
     },
     "metadata": {
      "image/png": {
       "height": 900,
       "width": 240
      },
      "text/plain": {
       "height": 900,
       "width": 240
      }
     },
     "output_type": "display_data"
    }
   ],
   "source": [
    "#pdf(file = \"heatmap_miRNA_RPM.pdf\", width = 4, height = 16)\n",
    "\n",
    "\n",
    "options(repr.plot.width=4, repr.plot.height=15)\n",
    "#par(mfrow=c(1,3))\n",
    "#par(mar=c(5,5,2,5))\n",
    "heatmap.2((htmp), Colv=TRUE, offsetRow=-23,  \n",
    "         margins = c(7,1), cexRow=1.2, #srtCol=0,\n",
    "         density.info = \"none\", trace = \"none\",\n",
    "         Rowv = FALSE, dendrogram = \"column\",\n",
    "         key.xlab=\"log2FC\", key.title=\"\",\n",
    "         colsep=1:nrow(mi), rowsep=1:nrow(mi), sepcolor = \"white\", sepwidth=c(0.01,0.01), symbreaks=FALSE,\n",
    "         #col = c(\"white\", viridis::magma(length(breaks)-2, direction=-1)), breaks = breaks)#c(0:180))\n",
    "         col = ownCol, breaks=breaks)\n",
    "\n",
    "#dev.off()\n"
   ]
  },
  {
   "cell_type": "code",
   "execution_count": 66,
   "metadata": {},
   "outputs": [],
   "source": [
    "### Look at AGOs specifically"
   ]
  },
  {
   "cell_type": "code",
   "execution_count": 67,
   "metadata": {},
   "outputs": [
    {
     "data": {
      "text/html": [
       "<table>\n",
       "<caption>A data.frame: 4 × 6</caption>\n",
       "<thead>\n",
       "\t<tr><th></th><th scope=col>shINTS1</th><th scope=col>shINTS11</th><th scope=col>shINTS3</th><th scope=col>shINTS6</th><th scope=col>shINTS7</th><th scope=col>siDrosha</th></tr>\n",
       "\t<tr><th></th><th scope=col>&lt;dbl&gt;</th><th scope=col>&lt;dbl&gt;</th><th scope=col>&lt;dbl&gt;</th><th scope=col>&lt;dbl&gt;</th><th scope=col>&lt;dbl&gt;</th><th scope=col>&lt;dbl&gt;</th></tr>\n",
       "</thead>\n",
       "<tbody>\n",
       "\t<tr><th scope=row>AGO3</th><td> 0.24646872</td><td> 0.7552929</td><td>-0.1617586</td><td>-0.2901561</td><td>-0.5285559</td><td> 0.3644666</td></tr>\n",
       "\t<tr><th scope=row>AGO4</th><td> 1.14068792</td><td> 0.7116661</td><td> 0.2021477</td><td> 0.3442977</td><td>-0.9383043</td><td> 0.9398674</td></tr>\n",
       "\t<tr><th scope=row>AGO1</th><td>-0.02342292</td><td>-0.7944317</td><td>-0.4282365</td><td>-0.2810442</td><td>-0.4317105</td><td>-0.2349276</td></tr>\n",
       "\t<tr><th scope=row>AGO2</th><td>-1.55425191</td><td>-1.1255726</td><td>-0.1260086</td><td>-0.4119541</td><td>-0.1097122</td><td> 0.1267879</td></tr>\n",
       "</tbody>\n",
       "</table>\n"
      ],
      "text/latex": [
       "A data.frame: 4 × 6\n",
       "\\begin{tabular}{r|llllll}\n",
       "  & shINTS1 & shINTS11 & shINTS3 & shINTS6 & shINTS7 & siDrosha\\\\\n",
       "  & <dbl> & <dbl> & <dbl> & <dbl> & <dbl> & <dbl>\\\\\n",
       "\\hline\n",
       "\tAGO3 &  0.24646872 &  0.7552929 & -0.1617586 & -0.2901561 & -0.5285559 &  0.3644666\\\\\n",
       "\tAGO4 &  1.14068792 &  0.7116661 &  0.2021477 &  0.3442977 & -0.9383043 &  0.9398674\\\\\n",
       "\tAGO1 & -0.02342292 & -0.7944317 & -0.4282365 & -0.2810442 & -0.4317105 & -0.2349276\\\\\n",
       "\tAGO2 & -1.55425191 & -1.1255726 & -0.1260086 & -0.4119541 & -0.1097122 &  0.1267879\\\\\n",
       "\\end{tabular}\n"
      ],
      "text/markdown": [
       "\n",
       "A data.frame: 4 × 6\n",
       "\n",
       "| <!--/--> | shINTS1 &lt;dbl&gt; | shINTS11 &lt;dbl&gt; | shINTS3 &lt;dbl&gt; | shINTS6 &lt;dbl&gt; | shINTS7 &lt;dbl&gt; | siDrosha &lt;dbl&gt; |\n",
       "|---|---|---|---|---|---|---|\n",
       "| AGO3 |  0.24646872 |  0.7552929 | -0.1617586 | -0.2901561 | -0.5285559 |  0.3644666 |\n",
       "| AGO4 |  1.14068792 |  0.7116661 |  0.2021477 |  0.3442977 | -0.9383043 |  0.9398674 |\n",
       "| AGO1 | -0.02342292 | -0.7944317 | -0.4282365 | -0.2810442 | -0.4317105 | -0.2349276 |\n",
       "| AGO2 | -1.55425191 | -1.1255726 | -0.1260086 | -0.4119541 | -0.1097122 |  0.1267879 |\n",
       "\n"
      ],
      "text/plain": [
       "     shINTS1     shINTS11   shINTS3    shINTS6    shINTS7    siDrosha  \n",
       "AGO3  0.24646872  0.7552929 -0.1617586 -0.2901561 -0.5285559  0.3644666\n",
       "AGO4  1.14068792  0.7116661  0.2021477  0.3442977 -0.9383043  0.9398674\n",
       "AGO1 -0.02342292 -0.7944317 -0.4282365 -0.2810442 -0.4317105 -0.2349276\n",
       "AGO2 -1.55425191 -1.1255726 -0.1260086 -0.4119541 -0.1097122  0.1267879"
      ]
     },
     "metadata": {},
     "output_type": "display_data"
    }
   ],
   "source": [
    "ago <- as.data.frame(htmp[grep(\"AGO\", rownames(htmp)),])\n",
    "ago"
   ]
  },
  {
   "cell_type": "code",
   "execution_count": 69,
   "metadata": {},
   "outputs": [],
   "source": [
    "ago$ago <- rownames(ago)"
   ]
  },
  {
   "cell_type": "code",
   "execution_count": 70,
   "metadata": {},
   "outputs": [
    {
     "data": {
      "image/png": "[encoded data removed]",
      "text/plain": [
       "plot without title"
      ]
     },
     "metadata": {
      "image/png": {
       "height": 480,
       "width": 720
      },
      "text/plain": {
       "height": 480,
       "width": 720
      }
     },
     "output_type": "display_data"
    }
   ],
   "source": [
    "\n",
    "\n",
    "agos.sh1 <- ggplot(ago, aes(x=ago, y=shINTS1)) + \n",
    "    theme_bw(base_size = 30) +\n",
    "    ggtitle(\"shINTS1\") +\n",
    "    theme(plot.title = element_text(hjust = '0.5', size=30, vjust=-5))+\n",
    "    theme(panel.grid.major = element_blank(), panel.grid.minor = element_blank(),\n",
    "              panel.background = element_blank(), panel.border = element_blank()) +\n",
    "    theme(axis.line = element_line(colour = \"black\", size = 0.5), \n",
    "              axis.title.x = element_blank(), axis.text.x = element_blank()) +\n",
    "    geom_hline(yintercept = c(-2,-1,0,1), color=\"lightgrey\")+\n",
    "    geom_bar(stat=\"identity\", color=\"black\", fill=col_sh1, width=0.8)+\n",
    "    #ylab(expression('log'[2]*'(shINTS1/shControl)')) +\n",
    "    coord_cartesian(ylim = c(-2, 1.5))\n",
    "    \n",
    "    \n",
    "agos.sh3 <- ggplot(ago, aes(x=ago, y=shINTS3)) + \n",
    "    theme_bw(base_size = 30) +\n",
    "    ggtitle(\"shINTS3\") +\n",
    "    theme(plot.title = element_text(hjust = '0.5', size=30, vjust=-5))+\n",
    "    theme(panel.grid.major = element_blank(), panel.grid.minor = element_blank(),\n",
    "              panel.background = element_blank(), panel.border = element_blank()) +\n",
    "    theme(axis.line = element_line(colour = \"black\", size = 0.5), \n",
    "              axis.title.x = element_blank(), axis.text.x = element_blank()) +\n",
    "    geom_hline(yintercept = c(-2,-1,0,1), color=\"lightgrey\")+\n",
    "    geom_bar(stat=\"identity\", color=\"black\", fill=col_sh3, width=0.8)+\n",
    "    #ylab(expression('log'[2]*'(shINTS3/shControl)')) +\n",
    "    coord_cartesian(ylim = c(-2, 1.5))\n",
    "\n",
    "agos.sh6 <- ggplot(ago, aes(x=ago, y=shINTS6)) + \n",
    "    theme_bw(base_size = 30) +\n",
    "    ggtitle(\"shINTS6\") +\n",
    "    theme(plot.title = element_text(hjust = '0.5', size=30, vjust=-5))+\n",
    "    theme(panel.grid.major = element_blank(), panel.grid.minor = element_blank(),\n",
    "              panel.background = element_blank(), panel.border = element_blank()) +\n",
    "    theme(axis.line = element_line(colour = \"black\", size = 0.5), \n",
    "              axis.title.x = element_blank(), axis.text.x = element_blank()) +\n",
    "    geom_hline(yintercept = c(-2,-1,0,1), color=\"lightgrey\")+\n",
    "    geom_bar(stat=\"identity\", color=\"black\", fill=col_sh6, width=0.8)+\n",
    "    #ylab(expression('log'[2]*'(shINTS6/shControl)')) +\n",
    "    coord_cartesian(ylim = c(-2, 1.5))\n",
    "\n",
    "agos.sh7 <- ggplot(ago, aes(x=ago, y=shINTS7)) + \n",
    "    theme_bw(base_size = 30) +\n",
    "    ggtitle(\"shINTS7\") +\n",
    "    theme(plot.title = element_text(hjust = '0.5', size=30, vjust=-5))+\n",
    "    theme(panel.grid.major = element_blank(), panel.grid.minor = element_blank(),\n",
    "              panel.background = element_blank(), panel.border = element_blank()) +\n",
    "    theme(axis.line = element_line(colour = \"black\", size = 0.5), \n",
    "              axis.title.x = element_blank(), axis.text.x = element_text(angle = 25, vjust = 1, hjust=1)) +\n",
    "    geom_hline(yintercept = c(-2,-1,0,1), color=\"lightgrey\")+\n",
    "    geom_bar(stat=\"identity\", color=\"black\", fill=col_sh7, width=0.8)+\n",
    "    #ylab(expression('log'[2]*'(shINTS7/shControl)')) +\n",
    "    coord_cartesian(ylim = c(-2, 1.5))\n",
    "\n",
    "agos.sh11 <- ggplot(ago, aes(x=ago, y=shINTS11)) + \n",
    "    theme_bw(base_size = 30) +\n",
    "    ggtitle(\"shINTS11\") +\n",
    "    theme(plot.title = element_text(hjust = '0.5', size=30, vjust=-5))+\n",
    "    theme(panel.grid.major = element_blank(), panel.grid.minor = element_blank(),\n",
    "              panel.background = element_blank(), panel.border = element_blank()) +\n",
    "    theme(axis.line = element_line(colour = \"black\", size = 0.5), \n",
    "              axis.title.x = element_blank(), axis.text.x = element_text(angle = 25, vjust = 1, hjust=1)) +\n",
    "    geom_hline(yintercept = c(-2,-1,0,1), color=\"lightgrey\")+\n",
    "    geom_bar(stat=\"identity\", color=\"black\", fill=col_sh11, width=0.8)+\n",
    "    #ylab(expression('log'[2]*'(shINTS11/shControl)')) +\n",
    "    coord_cartesian(ylim = c(-2, 1.5))\n",
    "\n",
    "agos.si <- ggplot(ago, aes(x=ago, y=siDrosha)) + \n",
    "    theme_bw(base_size = 30) +\n",
    "    ggtitle(\"siDrosha\") +\n",
    "    theme(plot.title = element_text(hjust = '0.5', size=30, vjust=-5))+\n",
    "    theme(panel.grid.major = element_blank(), panel.grid.minor = element_blank(),\n",
    "              panel.background = element_blank(), panel.border = element_blank()) +\n",
    "    theme(axis.line = element_line(colour = \"black\", size = 0.5), \n",
    "              axis.title.x = element_blank(), axis.text.x = element_text(angle = 25, vjust = 1, hjust=1)) +\n",
    "    geom_hline(yintercept = c(-2,-1,0,1), color=\"lightgrey\")+\n",
    "    geom_bar(stat=\"identity\", color=\"black\", fill=col_drosha, width=0.8)+\n",
    "    #ylab(expression('log'[2]*'(siDrosha/siControl)')) +\n",
    "    coord_cartesian(ylim = c(-2, 1.5))\n",
    "\n",
    "\n",
    "options(repr.plot.width=12, repr.plot.height=8)\n",
    "plot_grid(agos.sh1, agos.sh3, agos.sh6, agos.sh7, agos.sh11, agos.si, nrow=2, ncol=3,rel_heights = c(0.85,1))\n",
    "\n",
    "#ggsave(\"barplot_Ago1to4_allshINTS.png\", width = 12, height = 8, units= \"cm\", dpi=1200)\n",
    "#ggsave(\"barplot_Ago1to4_allshINTS.pdf\", width = 12, height = 8) "
   ]
  }
 ],
 "metadata": {
  "kernelspec": {
   "display_name": "R",
   "language": "R",
   "name": "ir"
  },
  "language_info": {
   "codemirror_mode": "r",
   "file_extension": ".r",
   "mimetype": "text/x-r-source",
   "name": "R",
   "pygments_lexer": "r",
   "version": "3.6.1"
  }
 },
 "nbformat": 4,
 "nbformat_minor": 4
}
