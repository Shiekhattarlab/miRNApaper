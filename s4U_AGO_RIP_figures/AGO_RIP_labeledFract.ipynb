{
 "cells": [
  {
   "cell_type": "markdown",
   "metadata": {},
   "source": [
    "# T>C percentage (=labeled fraction) "
   ]
  },
  {
   "cell_type": "code",
   "execution_count": 1,
   "metadata": {},
   "outputs": [],
   "source": [
    "# notebook cleaned 2021/03/02\n",
    "# avg.tc.pct is the mean percentage of TC labeled miRNAs"
   ]
  },
  {
   "cell_type": "code",
   "execution_count": 2,
   "metadata": {},
   "outputs": [
    {
     "name": "stderr",
     "output_type": "stream",
     "text": [
      "── \u001b[1mAttaching packages\u001b[22m ─────────────────────────────────────── tidyverse 1.3.0 ──\n",
      "\n",
      "\u001b[32m✔\u001b[39m \u001b[34mggplot2\u001b[39m 3.3.0     \u001b[32m✔\u001b[39m \u001b[34mpurrr  \u001b[39m 0.3.3\n",
      "\u001b[32m✔\u001b[39m \u001b[34mtibble \u001b[39m 3.0.1     \u001b[32m✔\u001b[39m \u001b[34mdplyr  \u001b[39m 0.8.5\n",
      "\u001b[32m✔\u001b[39m \u001b[34mtidyr  \u001b[39m 1.0.2     \u001b[32m✔\u001b[39m \u001b[34mstringr\u001b[39m 1.4.0\n",
      "\u001b[32m✔\u001b[39m \u001b[34mreadr  \u001b[39m 1.3.1     \u001b[32m✔\u001b[39m \u001b[34mforcats\u001b[39m 0.4.0\n",
      "\n",
      "── \u001b[1mConflicts\u001b[22m ────────────────────────────────────────── tidyverse_conflicts() ──\n",
      "\u001b[31m✖\u001b[39m \u001b[34mdplyr\u001b[39m::\u001b[32mfilter()\u001b[39m masks \u001b[34mstats\u001b[39m::filter()\n",
      "\u001b[31m✖\u001b[39m \u001b[34mdplyr\u001b[39m::\u001b[32mlag()\u001b[39m    masks \u001b[34mstats\u001b[39m::lag()\n",
      "\n",
      "\n",
      "Attaching package: ‘gplots’\n",
      "\n",
      "\n",
      "The following object is masked from ‘package:stats’:\n",
      "\n",
      "    lowess\n",
      "\n",
      "\n",
      "\n",
      "********************************************************\n",
      "\n",
      "Note: As of version 1.0.0, cowplot does not change the\n",
      "\n",
      "  default ggplot2 theme anymore. To recover the previous\n",
      "\n",
      "  behavior, execute:\n",
      "  theme_set(theme_cowplot())\n",
      "\n",
      "********************************************************\n",
      "\n",
      "\n"
     ]
    }
   ],
   "source": [
    "library(tidyverse)\n",
    "library(ggplot2)\n",
    "library(gplots)\n",
    "library(cowplot)\n",
    "\n",
    "library(broom)\n",
    "library(minpack.lm)\n",
    "library(nlsr)"
   ]
  },
  {
   "cell_type": "code",
   "execution_count": 3,
   "metadata": {},
   "outputs": [],
   "source": [
    "options(stringsAsFactors = FALSE)\n",
    "rm(list = ls())"
   ]
  },
  {
   "cell_type": "code",
   "execution_count": 4,
   "metadata": {},
   "outputs": [],
   "source": [
    "col_shgfp <- \"gray30\"\n",
    "col_sh1 <- '#9E0142'\n",
    "col_sh3 <- '#E55649'\n",
    "col_sh6 <- '#FDAE61'\n",
    "col_sh7 <- '#FEE08B'\n",
    "col_sh11 <- '#3288BD'\n",
    "col_drosha <- \"#66C2A5\"\n",
    "col_wt <- '#60258a'\n",
    "col_eq <- '#4957A4'"
   ]
  },
  {
   "cell_type": "code",
   "execution_count": 5,
   "metadata": {},
   "outputs": [
    {
     "data": {
      "text/html": [
       "<table>\n",
       "<caption>A data.frame: 6 × 1</caption>\n",
       "<thead>\n",
       "\t<tr><th></th><th scope=col>V1</th></tr>\n",
       "\t<tr><th></th><th scope=col>&lt;chr&gt;</th></tr>\n",
       "</thead>\n",
       "<tbody>\n",
       "\t<tr><th scope=row>1</th><td>miR-25-3p </td></tr>\n",
       "\t<tr><th scope=row>2</th><td>let-7i-5p </td></tr>\n",
       "\t<tr><th scope=row>3</th><td>let-7d-5p </td></tr>\n",
       "\t<tr><th scope=row>4</th><td>miR-93-5p </td></tr>\n",
       "\t<tr><th scope=row>5</th><td>miR-191-5p</td></tr>\n",
       "\t<tr><th scope=row>6</th><td>miR-17-5p </td></tr>\n",
       "</tbody>\n",
       "</table>\n"
      ],
      "text/latex": [
       "A data.frame: 6 × 1\n",
       "\\begin{tabular}{r|l}\n",
       "  & V1\\\\\n",
       "  & <chr>\\\\\n",
       "\\hline\n",
       "\t1 & miR-25-3p \\\\\n",
       "\t2 & let-7i-5p \\\\\n",
       "\t3 & let-7d-5p \\\\\n",
       "\t4 & miR-93-5p \\\\\n",
       "\t5 & miR-191-5p\\\\\n",
       "\t6 & miR-17-5p \\\\\n",
       "\\end{tabular}\n"
      ],
      "text/markdown": [
       "\n",
       "A data.frame: 6 × 1\n",
       "\n",
       "| <!--/--> | V1 &lt;chr&gt; |\n",
       "|---|---|\n",
       "| 1 | miR-25-3p  |\n",
       "| 2 | let-7i-5p  |\n",
       "| 3 | let-7d-5p  |\n",
       "| 4 | miR-93-5p  |\n",
       "| 5 | miR-191-5p |\n",
       "| 6 | miR-17-5p  |\n",
       "\n"
      ],
      "text/plain": [
       "  V1        \n",
       "1 miR-25-3p \n",
       "2 let-7i-5p \n",
       "3 let-7d-5p \n",
       "4 miR-93-5p \n",
       "5 miR-191-5p\n",
       "6 miR-17-5p "
      ]
     },
     "metadata": {},
     "output_type": "display_data"
    },
    {
     "data": {
      "text/html": [
       "<style>\n",
       ".list-inline {list-style: none; margin:0; padding: 0}\n",
       ".list-inline>li {display: inline-block}\n",
       ".list-inline>li:not(:last-child)::after {content: \"\\00b7\"; padding: 0 .5ex}\n",
       "</style>\n",
       "<ol class=list-inline><li>'miR-25-3p'</li><li>'let-7i-5p'</li><li>'let-7d-5p'</li><li>'miR-93-5p'</li><li>'miR-191-5p'</li><li>'miR-17-5p'</li></ol>\n"
      ],
      "text/latex": [
       "\\begin{enumerate*}\n",
       "\\item 'miR-25-3p'\n",
       "\\item 'let-7i-5p'\n",
       "\\item 'let-7d-5p'\n",
       "\\item 'miR-93-5p'\n",
       "\\item 'miR-191-5p'\n",
       "\\item 'miR-17-5p'\n",
       "\\end{enumerate*}\n"
      ],
      "text/markdown": [
       "1. 'miR-25-3p'\n",
       "2. 'let-7i-5p'\n",
       "3. 'let-7d-5p'\n",
       "4. 'miR-93-5p'\n",
       "5. 'miR-191-5p'\n",
       "6. 'miR-17-5p'\n",
       "\n",
       "\n"
      ],
      "text/plain": [
       "[1] \"miR-25-3p\"  \"let-7i-5p\"  \"let-7d-5p\"  \"miR-93-5p\"  \"miR-191-5p\"\n",
       "[6] \"miR-17-5p\" "
      ]
     },
     "metadata": {},
     "output_type": "display_data"
    }
   ],
   "source": [
    "# file provided in Shiekhattarlab/miRNApaper/s4U_figures\n",
    "# look at same 126 miRNAs as in sh11 s4U\n",
    "\n",
    "toMatch <- read.delim(\"126_final_miRNA_analyzed_inputReadsNorm.txt\")\n",
    "head(toMatch)\n",
    "\n",
    "toMatch <- toMatch$V1\n",
    "head(toMatch)\n",
    "\n"
   ]
  },
  {
   "cell_type": "markdown",
   "metadata": {},
   "source": [
    "# RIP of Ago2 in shGFP, shINTS6 and shINTS11 "
   ]
  },
  {
   "cell_type": "code",
   "execution_count": 7,
   "metadata": {},
   "outputs": [],
   "source": [
    "# comparison of normalization methods:\n",
    "\n",
    "# The ath-miR-159a spike does not make a major difference, although I may just put it in order to calm down eventual reviewers.\n"
   ]
  },
  {
   "cell_type": "code",
   "execution_count": 7,
   "metadata": {},
   "outputs": [],
   "source": [
    "# files provided in Shiekhattarlab/miRNApaper/s4U_AGO_RIP_figures\n",
    "\n",
    "\n",
    "timecourse.gfp <- read.delim(\"timecourse_rip_gfp_for_heatmap_accumulation_plot.tsv\")\n",
    "timecourse.6 <- read.delim(\"timecourse_rip_sh6_for_heatmap_accumulation_plot.tsv\")\n",
    "timecourse.11 <- read.delim(\"timecourse_rip_sh11_for_heatmap_accumulation_plot.tsv\")\n"
   ]
  },
  {
   "cell_type": "code",
   "execution_count": 8,
   "metadata": {},
   "outputs": [],
   "source": [
    "# add control 24h timepoint\n",
    "\n",
    "control.gfp <- read.delim(\"control_rip_gfp_for_heatmap_accumulation_plot.tsv\")\n",
    "control.6 <- read.delim(\"control_rip_sh6_for_heatmap_accumulation_plot.tsv\")\n",
    "control.11 <- read.delim(\"control_rip_sh11_for_heatmap_accumulation_plot.tsv\")\n"
   ]
  },
  {
   "cell_type": "code",
   "execution_count": 10,
   "metadata": {},
   "outputs": [
    {
     "data": {
      "text/html": [
       "<table>\n",
       "<caption>A data.frame: 6 × 12</caption>\n",
       "<thead>\n",
       "\t<tr><th></th><th scope=col>flybase_id</th><th scope=col>duplex</th><th scope=col>arm.name</th><th scope=col>start.pos</th><th scope=col>mir.type</th><th scope=col>UCount</th><th scope=col>seed</th><th scope=col>time</th><th scope=col>totalReads</th><th scope=col>average.ppm</th><th scope=col>avg.tc.pct</th><th scope=col>avg.tc.ppm</th></tr>\n",
       "\t<tr><th></th><th scope=col>&lt;chr&gt;</th><th scope=col>&lt;chr&gt;</th><th scope=col>&lt;chr&gt;</th><th scope=col>&lt;int&gt;</th><th scope=col>&lt;chr&gt;</th><th scope=col>&lt;int&gt;</th><th scope=col>&lt;chr&gt;</th><th scope=col>&lt;int&gt;</th><th scope=col>&lt;dbl&gt;</th><th scope=col>&lt;dbl&gt;</th><th scope=col>&lt;dbl&gt;</th><th scope=col>&lt;dbl&gt;</th></tr>\n",
       "</thead>\n",
       "<tbody>\n",
       "\t<tr><th scope=row>1</th><td>chr19:13947380-13947473</td><td>miR-23a</td><td>miR-23a-3p</td><td>45</td><td>mature</td><td>3</td><td>ATCACATT</td><td> 0</td><td>11668.209</td><td>10013.787</td><td>0.04243961</td><td>  4.249813</td></tr>\n",
       "\t<tr><th scope=row>2</th><td>chr19:13947380-13947473</td><td>miR-23a</td><td>miR-23a-3p</td><td>45</td><td>mature</td><td>3</td><td>ATCACATT</td><td>24</td><td> 8359.365</td><td>10013.787</td><td>4.18739445</td><td>419.316764</td></tr>\n",
       "\t<tr><th scope=row>3</th><td>chr7:99691162-99691266 </td><td>miR-25 </td><td>miR-25-3p </td><td>52</td><td>mature</td><td>6</td><td>CATTGCAC</td><td> 0</td><td> 5752.583</td><td> 6121.555</td><td>0.07329480</td><td>  4.486781</td></tr>\n",
       "\t<tr><th scope=row>4</th><td>chr7:99691162-99691266 </td><td>miR-25 </td><td>miR-25-3p </td><td>52</td><td>mature</td><td>6</td><td>CATTGCAC</td><td>24</td><td> 6490.526</td><td> 6121.555</td><td>3.95373705</td><td>242.030170</td></tr>\n",
       "\t<tr><th scope=row>5</th><td>chr22:46509565-46509668</td><td>let-7b </td><td>let-7b-5p </td><td> 6</td><td>mature</td><td>6</td><td>TGAGGTAG</td><td> 0</td><td> 4361.683</td><td> 5067.844</td><td>0.07601264</td><td>  3.852202</td></tr>\n",
       "\t<tr><th scope=row>6</th><td>chr22:46509565-46509668</td><td>let-7b </td><td>let-7b-5p </td><td> 6</td><td>mature</td><td>6</td><td>TGAGGTAG</td><td>24</td><td> 5774.005</td><td> 5067.844</td><td>1.78168749</td><td> 90.293147</td></tr>\n",
       "</tbody>\n",
       "</table>\n"
      ],
      "text/latex": [
       "A data.frame: 6 × 12\n",
       "\\begin{tabular}{r|llllllllllll}\n",
       "  & flybase\\_id & duplex & arm.name & start.pos & mir.type & UCount & seed & time & totalReads & average.ppm & avg.tc.pct & avg.tc.ppm\\\\\n",
       "  & <chr> & <chr> & <chr> & <int> & <chr> & <int> & <chr> & <int> & <dbl> & <dbl> & <dbl> & <dbl>\\\\\n",
       "\\hline\n",
       "\t1 & chr19:13947380-13947473 & miR-23a & miR-23a-3p & 45 & mature & 3 & ATCACATT &  0 & 11668.209 & 10013.787 & 0.04243961 &   4.249813\\\\\n",
       "\t2 & chr19:13947380-13947473 & miR-23a & miR-23a-3p & 45 & mature & 3 & ATCACATT & 24 &  8359.365 & 10013.787 & 4.18739445 & 419.316764\\\\\n",
       "\t3 & chr7:99691162-99691266  & miR-25  & miR-25-3p  & 52 & mature & 6 & CATTGCAC &  0 &  5752.583 &  6121.555 & 0.07329480 &   4.486781\\\\\n",
       "\t4 & chr7:99691162-99691266  & miR-25  & miR-25-3p  & 52 & mature & 6 & CATTGCAC & 24 &  6490.526 &  6121.555 & 3.95373705 & 242.030170\\\\\n",
       "\t5 & chr22:46509565-46509668 & let-7b  & let-7b-5p  &  6 & mature & 6 & TGAGGTAG &  0 &  4361.683 &  5067.844 & 0.07601264 &   3.852202\\\\\n",
       "\t6 & chr22:46509565-46509668 & let-7b  & let-7b-5p  &  6 & mature & 6 & TGAGGTAG & 24 &  5774.005 &  5067.844 & 1.78168749 &  90.293147\\\\\n",
       "\\end{tabular}\n"
      ],
      "text/markdown": [
       "\n",
       "A data.frame: 6 × 12\n",
       "\n",
       "| <!--/--> | flybase_id &lt;chr&gt; | duplex &lt;chr&gt; | arm.name &lt;chr&gt; | start.pos &lt;int&gt; | mir.type &lt;chr&gt; | UCount &lt;int&gt; | seed &lt;chr&gt; | time &lt;int&gt; | totalReads &lt;dbl&gt; | average.ppm &lt;dbl&gt; | avg.tc.pct &lt;dbl&gt; | avg.tc.ppm &lt;dbl&gt; |\n",
       "|---|---|---|---|---|---|---|---|---|---|---|---|---|\n",
       "| 1 | chr19:13947380-13947473 | miR-23a | miR-23a-3p | 45 | mature | 3 | ATCACATT |  0 | 11668.209 | 10013.787 | 0.04243961 |   4.249813 |\n",
       "| 2 | chr19:13947380-13947473 | miR-23a | miR-23a-3p | 45 | mature | 3 | ATCACATT | 24 |  8359.365 | 10013.787 | 4.18739445 | 419.316764 |\n",
       "| 3 | chr7:99691162-99691266  | miR-25  | miR-25-3p  | 52 | mature | 6 | CATTGCAC |  0 |  5752.583 |  6121.555 | 0.07329480 |   4.486781 |\n",
       "| 4 | chr7:99691162-99691266  | miR-25  | miR-25-3p  | 52 | mature | 6 | CATTGCAC | 24 |  6490.526 |  6121.555 | 3.95373705 | 242.030170 |\n",
       "| 5 | chr22:46509565-46509668 | let-7b  | let-7b-5p  |  6 | mature | 6 | TGAGGTAG |  0 |  4361.683 |  5067.844 | 0.07601264 |   3.852202 |\n",
       "| 6 | chr22:46509565-46509668 | let-7b  | let-7b-5p  |  6 | mature | 6 | TGAGGTAG | 24 |  5774.005 |  5067.844 | 1.78168749 |  90.293147 |\n",
       "\n"
      ],
      "text/plain": [
       "  flybase_id              duplex  arm.name   start.pos mir.type UCount seed    \n",
       "1 chr19:13947380-13947473 miR-23a miR-23a-3p 45        mature   3      ATCACATT\n",
       "2 chr19:13947380-13947473 miR-23a miR-23a-3p 45        mature   3      ATCACATT\n",
       "3 chr7:99691162-99691266  miR-25  miR-25-3p  52        mature   6      CATTGCAC\n",
       "4 chr7:99691162-99691266  miR-25  miR-25-3p  52        mature   6      CATTGCAC\n",
       "5 chr22:46509565-46509668 let-7b  let-7b-5p   6        mature   6      TGAGGTAG\n",
       "6 chr22:46509565-46509668 let-7b  let-7b-5p   6        mature   6      TGAGGTAG\n",
       "  time totalReads average.ppm avg.tc.pct avg.tc.ppm\n",
       "1  0   11668.209  10013.787   0.04243961   4.249813\n",
       "2 24    8359.365  10013.787   4.18739445 419.316764\n",
       "3  0    5752.583   6121.555   0.07329480   4.486781\n",
       "4 24    6490.526   6121.555   3.95373705 242.030170\n",
       "5  0    4361.683   5067.844   0.07601264   3.852202\n",
       "6 24    5774.005   5067.844   1.78168749  90.293147"
      ]
     },
     "metadata": {},
     "output_type": "display_data"
    }
   ],
   "source": [
    "head(timecourse.gfp)\n",
    "\n",
    "\t"
   ]
  },
  {
   "cell_type": "markdown",
   "metadata": {},
   "source": [
    "# plot total reads [RPM]"
   ]
  },
  {
   "cell_type": "code",
   "execution_count": 11,
   "metadata": {},
   "outputs": [
    {
     "data": {
      "text/html": [
       "<table>\n",
       "<caption>A data.frame: 6 × 5</caption>\n",
       "<thead>\n",
       "\t<tr><th></th><th scope=col>sample</th><th scope=col>duplex</th><th scope=col>arm.name</th><th scope=col>0</th><th scope=col>24</th></tr>\n",
       "\t<tr><th></th><th scope=col>&lt;chr&gt;</th><th scope=col>&lt;chr&gt;</th><th scope=col>&lt;chr&gt;</th><th scope=col>&lt;dbl&gt;</th><th scope=col>&lt;dbl&gt;</th></tr>\n",
       "</thead>\n",
       "<tbody>\n",
       "\t<tr><th scope=row>1</th><td>shGFP</td><td>miR-23a</td><td>miR-23a-3p</td><td>11668.209</td><td>8359.365</td></tr>\n",
       "\t<tr><th scope=row>2</th><td>shGFP</td><td>miR-25 </td><td>miR-25-3p </td><td> 5752.583</td><td>6490.526</td></tr>\n",
       "\t<tr><th scope=row>3</th><td>shGFP</td><td>let-7b </td><td>let-7b-5p </td><td> 4361.683</td><td>5774.005</td></tr>\n",
       "\t<tr><th scope=row>4</th><td>shGFP</td><td>miR-191</td><td>miR-191-5p</td><td> 3108.556</td><td>2416.466</td></tr>\n",
       "\t<tr><th scope=row>5</th><td>shGFP</td><td>miR-21 </td><td>miR-21-5p </td><td> 2744.971</td><td>2080.085</td></tr>\n",
       "\t<tr><th scope=row>6</th><td>shGFP</td><td>miR-224</td><td>miR-224-5p</td><td> 1567.115</td><td>1617.929</td></tr>\n",
       "</tbody>\n",
       "</table>\n"
      ],
      "text/latex": [
       "A data.frame: 6 × 5\n",
       "\\begin{tabular}{r|lllll}\n",
       "  & sample & duplex & arm.name & 0 & 24\\\\\n",
       "  & <chr> & <chr> & <chr> & <dbl> & <dbl>\\\\\n",
       "\\hline\n",
       "\t1 & shGFP & miR-23a & miR-23a-3p & 11668.209 & 8359.365\\\\\n",
       "\t2 & shGFP & miR-25  & miR-25-3p  &  5752.583 & 6490.526\\\\\n",
       "\t3 & shGFP & let-7b  & let-7b-5p  &  4361.683 & 5774.005\\\\\n",
       "\t4 & shGFP & miR-191 & miR-191-5p &  3108.556 & 2416.466\\\\\n",
       "\t5 & shGFP & miR-21  & miR-21-5p  &  2744.971 & 2080.085\\\\\n",
       "\t6 & shGFP & miR-224 & miR-224-5p &  1567.115 & 1617.929\\\\\n",
       "\\end{tabular}\n"
      ],
      "text/markdown": [
       "\n",
       "A data.frame: 6 × 5\n",
       "\n",
       "| <!--/--> | sample &lt;chr&gt; | duplex &lt;chr&gt; | arm.name &lt;chr&gt; | 0 &lt;dbl&gt; | 24 &lt;dbl&gt; |\n",
       "|---|---|---|---|---|---|\n",
       "| 1 | shGFP | miR-23a | miR-23a-3p | 11668.209 | 8359.365 |\n",
       "| 2 | shGFP | miR-25  | miR-25-3p  |  5752.583 | 6490.526 |\n",
       "| 3 | shGFP | let-7b  | let-7b-5p  |  4361.683 | 5774.005 |\n",
       "| 4 | shGFP | miR-191 | miR-191-5p |  3108.556 | 2416.466 |\n",
       "| 5 | shGFP | miR-21  | miR-21-5p  |  2744.971 | 2080.085 |\n",
       "| 6 | shGFP | miR-224 | miR-224-5p |  1567.115 | 1617.929 |\n",
       "\n"
      ],
      "text/plain": [
       "  sample duplex  arm.name   0         24      \n",
       "1 shGFP  miR-23a miR-23a-3p 11668.209 8359.365\n",
       "2 shGFP  miR-25  miR-25-3p   5752.583 6490.526\n",
       "3 shGFP  let-7b  let-7b-5p   4361.683 5774.005\n",
       "4 shGFP  miR-191 miR-191-5p  3108.556 2416.466\n",
       "5 shGFP  miR-21  miR-21-5p   2744.971 2080.085\n",
       "6 shGFP  miR-224 miR-224-5p  1567.115 1617.929"
      ]
     },
     "metadata": {},
     "output_type": "display_data"
    },
    {
     "data": {
      "text/html": [
       "203"
      ],
      "text/latex": [
       "203"
      ],
      "text/markdown": [
       "203"
      ],
      "text/plain": [
       "[1] 203"
      ]
     },
     "metadata": {},
     "output_type": "display_data"
    },
    {
     "data": {
      "text/html": [
       "208"
      ],
      "text/latex": [
       "208"
      ],
      "text/markdown": [
       "208"
      ],
      "text/plain": [
       "[1] 208"
      ]
     },
     "metadata": {},
     "output_type": "display_data"
    },
    {
     "data": {
      "text/html": [
       "206"
      ],
      "text/latex": [
       "206"
      ],
      "text/markdown": [
       "206"
      ],
      "text/plain": [
       "[1] 206"
      ]
     },
     "metadata": {},
     "output_type": "display_data"
    }
   ],
   "source": [
    "# s4U\n",
    "timecourse.gfp.total <-\n",
    "    timecourse.gfp %>%\n",
    "    mutate(sample = \"shGFP\") %>%\n",
    "    select(-c(average.ppm, avg.tc.pct, avg.tc.ppm)) %>%\n",
    "    spread(time, totalReads) %>%\n",
    "    select(-c(\"flybase_id\", \"start.pos\", \"UCount\", \"seed\", \"mir.type\")) %>%\n",
    "    select(c(sample, duplex, arm.name, everything()))\n",
    "\n",
    "\n",
    "head(timecourse.gfp.total)\n",
    "nrow(timecourse.gfp.total)\n",
    "\n",
    "\n",
    "timecourse.6.total <-\n",
    "    timecourse.6 %>%\n",
    "    mutate(sample = \"shINTS6\") %>%\n",
    "    select(-c(average.ppm, avg.tc.pct, avg.tc.ppm)) %>%\n",
    "    spread(time, totalReads) %>%\n",
    "    select(-c(\"flybase_id\", \"start.pos\", \"UCount\", \"seed\", \"mir.type\")) %>%\n",
    "    select(c(sample, duplex, arm.name, everything()))\n",
    "\n",
    "nrow(timecourse.6.total)\n",
    "\n",
    "\n",
    "\n",
    "timecourse.11.total <-\n",
    "    timecourse.11 %>%\n",
    "    mutate(sample = \"shINTS11\") %>%\n",
    "    select(-c(average.ppm, avg.tc.pct, avg.tc.ppm)) %>%\n",
    "    spread(time, totalReads) %>%\n",
    "    select(-c(\"flybase_id\", \"start.pos\", \"UCount\", \"seed\", \"mir.type\")) %>%\n",
    "    select(c(sample, duplex, arm.name, everything()))\n",
    "\n",
    "nrow(timecourse.11.total)\n",
    "\n"
   ]
  },
  {
   "cell_type": "code",
   "execution_count": 12,
   "metadata": {},
   "outputs": [
    {
     "data": {
      "text/html": [
       "<table>\n",
       "<caption>A data.frame: 6 × 5</caption>\n",
       "<thead>\n",
       "\t<tr><th></th><th scope=col>sample</th><th scope=col>duplex</th><th scope=col>arm.name</th><th scope=col>0</th><th scope=col>24</th></tr>\n",
       "\t<tr><th></th><th scope=col>&lt;chr&gt;</th><th scope=col>&lt;chr&gt;</th><th scope=col>&lt;chr&gt;</th><th scope=col>&lt;dbl&gt;</th><th scope=col>&lt;dbl&gt;</th></tr>\n",
       "</thead>\n",
       "<tbody>\n",
       "\t<tr><th scope=row>1</th><td>shGFP</td><td>miR-23a</td><td>miR-23a-3p</td><td>11668.209</td><td>10129.751</td></tr>\n",
       "\t<tr><th scope=row>2</th><td>shGFP</td><td>miR-25 </td><td>miR-25-3p </td><td> 5752.583</td><td> 5777.397</td></tr>\n",
       "\t<tr><th scope=row>3</th><td>shGFP</td><td>let-7b </td><td>let-7b-5p </td><td> 4361.683</td><td> 3610.953</td></tr>\n",
       "\t<tr><th scope=row>4</th><td>shGFP</td><td>miR-191</td><td>miR-191-5p</td><td> 3108.556</td><td> 2858.922</td></tr>\n",
       "\t<tr><th scope=row>5</th><td>shGFP</td><td>miR-21 </td><td>miR-21-5p </td><td> 2744.971</td><td> 2642.354</td></tr>\n",
       "\t<tr><th scope=row>6</th><td>shGFP</td><td>miR-93 </td><td>miR-93-5p </td><td> 1555.689</td><td> 1637.512</td></tr>\n",
       "</tbody>\n",
       "</table>\n"
      ],
      "text/latex": [
       "A data.frame: 6 × 5\n",
       "\\begin{tabular}{r|lllll}\n",
       "  & sample & duplex & arm.name & 0 & 24\\\\\n",
       "  & <chr> & <chr> & <chr> & <dbl> & <dbl>\\\\\n",
       "\\hline\n",
       "\t1 & shGFP & miR-23a & miR-23a-3p & 11668.209 & 10129.751\\\\\n",
       "\t2 & shGFP & miR-25  & miR-25-3p  &  5752.583 &  5777.397\\\\\n",
       "\t3 & shGFP & let-7b  & let-7b-5p  &  4361.683 &  3610.953\\\\\n",
       "\t4 & shGFP & miR-191 & miR-191-5p &  3108.556 &  2858.922\\\\\n",
       "\t5 & shGFP & miR-21  & miR-21-5p  &  2744.971 &  2642.354\\\\\n",
       "\t6 & shGFP & miR-93  & miR-93-5p  &  1555.689 &  1637.512\\\\\n",
       "\\end{tabular}\n"
      ],
      "text/markdown": [
       "\n",
       "A data.frame: 6 × 5\n",
       "\n",
       "| <!--/--> | sample &lt;chr&gt; | duplex &lt;chr&gt; | arm.name &lt;chr&gt; | 0 &lt;dbl&gt; | 24 &lt;dbl&gt; |\n",
       "|---|---|---|---|---|---|\n",
       "| 1 | shGFP | miR-23a | miR-23a-3p | 11668.209 | 10129.751 |\n",
       "| 2 | shGFP | miR-25  | miR-25-3p  |  5752.583 |  5777.397 |\n",
       "| 3 | shGFP | let-7b  | let-7b-5p  |  4361.683 |  3610.953 |\n",
       "| 4 | shGFP | miR-191 | miR-191-5p |  3108.556 |  2858.922 |\n",
       "| 5 | shGFP | miR-21  | miR-21-5p  |  2744.971 |  2642.354 |\n",
       "| 6 | shGFP | miR-93  | miR-93-5p  |  1555.689 |  1637.512 |\n",
       "\n"
      ],
      "text/plain": [
       "  sample duplex  arm.name   0         24       \n",
       "1 shGFP  miR-23a miR-23a-3p 11668.209 10129.751\n",
       "2 shGFP  miR-25  miR-25-3p   5752.583  5777.397\n",
       "3 shGFP  let-7b  let-7b-5p   4361.683  3610.953\n",
       "4 shGFP  miR-191 miR-191-5p  3108.556  2858.922\n",
       "5 shGFP  miR-21  miR-21-5p   2744.971  2642.354\n",
       "6 shGFP  miR-93  miR-93-5p   1555.689  1637.512"
      ]
     },
     "metadata": {},
     "output_type": "display_data"
    },
    {
     "data": {
      "text/html": [
       "209"
      ],
      "text/latex": [
       "209"
      ],
      "text/markdown": [
       "209"
      ],
      "text/plain": [
       "[1] 209"
      ]
     },
     "metadata": {},
     "output_type": "display_data"
    },
    {
     "data": {
      "text/html": [
       "208"
      ],
      "text/latex": [
       "208"
      ],
      "text/markdown": [
       "208"
      ],
      "text/plain": [
       "[1] 208"
      ]
     },
     "metadata": {},
     "output_type": "display_data"
    },
    {
     "data": {
      "text/html": [
       "205"
      ],
      "text/latex": [
       "205"
      ],
      "text/markdown": [
       "205"
      ],
      "text/plain": [
       "[1] 205"
      ]
     },
     "metadata": {},
     "output_type": "display_data"
    }
   ],
   "source": [
    "# no s4U control\n",
    "control.gfp.total <-\n",
    "    control.gfp %>%\n",
    "    mutate(sample = \"shGFP\") %>%\n",
    "    select(-c(average.ppm, avg.tc.pct, avg.tc.ppm)) %>%\n",
    "    spread(time, totalReads) %>%\n",
    "    select(-c(\"flybase_id\", \"start.pos\", \"UCount\", \"seed\", \"mir.type\")) %>%\n",
    "    select(c(sample, duplex, arm.name, everything()))\n",
    "\n",
    "\n",
    "head(control.gfp.total)\n",
    "nrow(control.gfp.total)\n",
    "\n",
    "control.6.total <-\n",
    "    control.6 %>%\n",
    "    mutate(sample = \"shINTS6\") %>%\n",
    "    select(-c(average.ppm, avg.tc.pct, avg.tc.ppm)) %>%\n",
    "    spread(time, totalReads) %>%\n",
    "    select(-c(\"flybase_id\", \"start.pos\", \"UCount\", \"seed\", \"mir.type\")) %>%\n",
    "    select(c(sample, duplex, arm.name, everything()))\n",
    "\n",
    "nrow(control.6.total)\n",
    "\n",
    "\n",
    "control.11.total <-\n",
    "    control.11 %>%\n",
    "    mutate(sample = \"shINTS11\") %>%\n",
    "    select(-c(average.ppm, avg.tc.pct, avg.tc.ppm)) %>%\n",
    "    spread(time, totalReads) %>%\n",
    "    select(-c(\"flybase_id\", \"start.pos\", \"UCount\", \"seed\", \"mir.type\")) %>%\n",
    "    select(c(sample, duplex, arm.name, everything()))\n",
    "\n",
    "nrow(control.11.total)\n",
    "\n"
   ]
  },
  {
   "cell_type": "code",
   "execution_count": 13,
   "metadata": {},
   "outputs": [
    {
     "data": {
      "text/html": [
       "<table>\n",
       "<caption>A data.frame: 8 × 5</caption>\n",
       "<thead>\n",
       "\t<tr><th></th><th scope=col>sample</th><th scope=col>duplex</th><th scope=col>arm.name</th><th scope=col>0</th><th scope=col>24</th></tr>\n",
       "\t<tr><th></th><th scope=col>&lt;chr&gt;</th><th scope=col>&lt;chr&gt;</th><th scope=col>&lt;chr&gt;</th><th scope=col>&lt;dbl&gt;</th><th scope=col>&lt;dbl&gt;</th></tr>\n",
       "</thead>\n",
       "<tbody>\n",
       "\t<tr><th scope=row>123</th><td>shINTS11</td><td>miR-24 </td><td>miR-24-3p </td><td>11.6095378</td><td>14.2063581</td></tr>\n",
       "\t<tr><th scope=row>160</th><td>shINTS11</td><td>miR-24 </td><td>miR-24-3p </td><td> 2.9276226</td><td> 5.5316793</td></tr>\n",
       "\t<tr><th scope=row>189</th><td>shINTS11</td><td>miR-16 </td><td>miR-16-5p </td><td> 0.3028575</td><td> 1.0057599</td></tr>\n",
       "\t<tr><th scope=row>190</th><td>shINTS11</td><td>miR-194</td><td>miR-194-5p</td><td> 0.5047625</td><td> 0.6285999</td></tr>\n",
       "\t<tr><th scope=row>192</th><td>shINTS11</td><td>let-7a </td><td>let-7a-3p </td><td> 0.3028575</td><td> 0.2514400</td></tr>\n",
       "\t<tr><th scope=row>194</th><td>shINTS11</td><td>let-7a </td><td>let-7a-3p </td><td> 0.3028575</td><td> 0.6285999</td></tr>\n",
       "\t<tr><th scope=row>195</th><td>shINTS11</td><td>miR-16 </td><td>miR-16-5p </td><td> 0.4038100</td><td> 0.5028799</td></tr>\n",
       "\t<tr><th scope=row>200</th><td>shINTS11</td><td>miR-194</td><td>miR-194-5p</td><td> 0.1009525</td><td> 0.3771600</td></tr>\n",
       "</tbody>\n",
       "</table>\n"
      ],
      "text/latex": [
       "A data.frame: 8 × 5\n",
       "\\begin{tabular}{r|lllll}\n",
       "  & sample & duplex & arm.name & 0 & 24\\\\\n",
       "  & <chr> & <chr> & <chr> & <dbl> & <dbl>\\\\\n",
       "\\hline\n",
       "\t123 & shINTS11 & miR-24  & miR-24-3p  & 11.6095378 & 14.2063581\\\\\n",
       "\t160 & shINTS11 & miR-24  & miR-24-3p  &  2.9276226 &  5.5316793\\\\\n",
       "\t189 & shINTS11 & miR-16  & miR-16-5p  &  0.3028575 &  1.0057599\\\\\n",
       "\t190 & shINTS11 & miR-194 & miR-194-5p &  0.5047625 &  0.6285999\\\\\n",
       "\t192 & shINTS11 & let-7a  & let-7a-3p  &  0.3028575 &  0.2514400\\\\\n",
       "\t194 & shINTS11 & let-7a  & let-7a-3p  &  0.3028575 &  0.6285999\\\\\n",
       "\t195 & shINTS11 & miR-16  & miR-16-5p  &  0.4038100 &  0.5028799\\\\\n",
       "\t200 & shINTS11 & miR-194 & miR-194-5p &  0.1009525 &  0.3771600\\\\\n",
       "\\end{tabular}\n"
      ],
      "text/markdown": [
       "\n",
       "A data.frame: 8 × 5\n",
       "\n",
       "| <!--/--> | sample &lt;chr&gt; | duplex &lt;chr&gt; | arm.name &lt;chr&gt; | 0 &lt;dbl&gt; | 24 &lt;dbl&gt; |\n",
       "|---|---|---|---|---|---|\n",
       "| 123 | shINTS11 | miR-24  | miR-24-3p  | 11.6095378 | 14.2063581 |\n",
       "| 160 | shINTS11 | miR-24  | miR-24-3p  |  2.9276226 |  5.5316793 |\n",
       "| 189 | shINTS11 | miR-16  | miR-16-5p  |  0.3028575 |  1.0057599 |\n",
       "| 190 | shINTS11 | miR-194 | miR-194-5p |  0.5047625 |  0.6285999 |\n",
       "| 192 | shINTS11 | let-7a  | let-7a-3p  |  0.3028575 |  0.2514400 |\n",
       "| 194 | shINTS11 | let-7a  | let-7a-3p  |  0.3028575 |  0.6285999 |\n",
       "| 195 | shINTS11 | miR-16  | miR-16-5p  |  0.4038100 |  0.5028799 |\n",
       "| 200 | shINTS11 | miR-194 | miR-194-5p |  0.1009525 |  0.3771600 |\n",
       "\n"
      ],
      "text/plain": [
       "    sample   duplex  arm.name   0          24        \n",
       "123 shINTS11 miR-24  miR-24-3p  11.6095378 14.2063581\n",
       "160 shINTS11 miR-24  miR-24-3p   2.9276226  5.5316793\n",
       "189 shINTS11 miR-16  miR-16-5p   0.3028575  1.0057599\n",
       "190 shINTS11 miR-194 miR-194-5p  0.5047625  0.6285999\n",
       "192 shINTS11 let-7a  let-7a-3p   0.3028575  0.2514400\n",
       "194 shINTS11 let-7a  let-7a-3p   0.3028575  0.6285999\n",
       "195 shINTS11 miR-16  miR-16-5p   0.4038100  0.5028799\n",
       "200 shINTS11 miR-194 miR-194-5p  0.1009525  0.3771600"
      ]
     },
     "metadata": {},
     "output_type": "display_data"
    }
   ],
   "source": [
    "# do I still have duplicated entries?\n",
    "# this table should be empty - actually, it is not because there are miRNAs with different precursors. Those I see here!\n",
    "armname <- timecourse.11.total[duplicated(timecourse.11.total$arm.name),3]\n",
    "\n",
    "timecourse.11.total[grep(paste0(armname, collapse = \"|\"), timecourse.11.total$arm.name),]"
   ]
  },
  {
   "cell_type": "code",
   "execution_count": 14,
   "metadata": {},
   "outputs": [
    {
     "data": {
      "text/html": [
       "<table>\n",
       "<caption>A data.frame: 6 × 3</caption>\n",
       "<thead>\n",
       "\t<tr><th></th><th scope=col>arm.name</th><th scope=col>0</th><th scope=col>24</th></tr>\n",
       "\t<tr><th></th><th scope=col>&lt;chr&gt;</th><th scope=col>&lt;dbl&gt;</th><th scope=col>&lt;dbl&gt;</th></tr>\n",
       "</thead>\n",
       "<tbody>\n",
       "\t<tr><th scope=row>1</th><td>miR-23a-3p</td><td>11668.209</td><td>8359.365</td></tr>\n",
       "\t<tr><th scope=row>2</th><td>miR-25-3p </td><td> 5752.583</td><td>6490.526</td></tr>\n",
       "\t<tr><th scope=row>3</th><td>let-7b-5p </td><td> 4361.683</td><td>5774.005</td></tr>\n",
       "\t<tr><th scope=row>4</th><td>miR-191-5p</td><td> 3108.556</td><td>2416.466</td></tr>\n",
       "\t<tr><th scope=row>5</th><td>miR-21-5p </td><td> 2744.971</td><td>2080.085</td></tr>\n",
       "\t<tr><th scope=row>6</th><td>miR-224-5p</td><td> 1567.115</td><td>1617.929</td></tr>\n",
       "</tbody>\n",
       "</table>\n"
      ],
      "text/latex": [
       "A data.frame: 6 × 3\n",
       "\\begin{tabular}{r|lll}\n",
       "  & arm.name & 0 & 24\\\\\n",
       "  & <chr> & <dbl> & <dbl>\\\\\n",
       "\\hline\n",
       "\t1 & miR-23a-3p & 11668.209 & 8359.365\\\\\n",
       "\t2 & miR-25-3p  &  5752.583 & 6490.526\\\\\n",
       "\t3 & let-7b-5p  &  4361.683 & 5774.005\\\\\n",
       "\t4 & miR-191-5p &  3108.556 & 2416.466\\\\\n",
       "\t5 & miR-21-5p  &  2744.971 & 2080.085\\\\\n",
       "\t6 & miR-224-5p &  1567.115 & 1617.929\\\\\n",
       "\\end{tabular}\n"
      ],
      "text/markdown": [
       "\n",
       "A data.frame: 6 × 3\n",
       "\n",
       "| <!--/--> | arm.name &lt;chr&gt; | 0 &lt;dbl&gt; | 24 &lt;dbl&gt; |\n",
       "|---|---|---|---|\n",
       "| 1 | miR-23a-3p | 11668.209 | 8359.365 |\n",
       "| 2 | miR-25-3p  |  5752.583 | 6490.526 |\n",
       "| 3 | let-7b-5p  |  4361.683 | 5774.005 |\n",
       "| 4 | miR-191-5p |  3108.556 | 2416.466 |\n",
       "| 5 | miR-21-5p  |  2744.971 | 2080.085 |\n",
       "| 6 | miR-224-5p |  1567.115 | 1617.929 |\n",
       "\n"
      ],
      "text/plain": [
       "  arm.name   0         24      \n",
       "1 miR-23a-3p 11668.209 8359.365\n",
       "2 miR-25-3p   5752.583 6490.526\n",
       "3 let-7b-5p   4361.683 5774.005\n",
       "4 miR-191-5p  3108.556 2416.466\n",
       "5 miR-21-5p   2744.971 2080.085\n",
       "6 miR-224-5p  1567.115 1617.929"
      ]
     },
     "metadata": {},
     "output_type": "display_data"
    },
    {
     "data": {
      "text/html": [
       "203"
      ],
      "text/latex": [
       "203"
      ],
      "text/markdown": [
       "203"
      ],
      "text/plain": [
       "[1] 203"
      ]
     },
     "metadata": {},
     "output_type": "display_data"
    },
    {
     "data": {
      "text/html": [
       "208"
      ],
      "text/latex": [
       "208"
      ],
      "text/markdown": [
       "208"
      ],
      "text/plain": [
       "[1] 208"
      ]
     },
     "metadata": {},
     "output_type": "display_data"
    },
    {
     "data": {
      "text/html": [
       "206"
      ],
      "text/latex": [
       "206"
      ],
      "text/markdown": [
       "206"
      ],
      "text/plain": [
       "[1] 206"
      ]
     },
     "metadata": {},
     "output_type": "display_data"
    }
   ],
   "source": [
    "\n",
    "time.gfp.total <- as.data.frame(timecourse.gfp.total[,-c(1,2)]) # remove sample name and miR duplex\n",
    "head(time.gfp.total)\n",
    "nrow(time.gfp.total)\n",
    "\n",
    "\n",
    "time.6.total <- as.data.frame(timecourse.6.total[,-c(1,2)])\n",
    "#head(time.6.total)\n",
    "nrow(time.6.total)\n",
    "\n",
    "\n",
    "\n",
    "time.11.total <- as.data.frame(timecourse.11.total[,-c(1,2)])\n",
    "#head(time.11.total)\n",
    "nrow(time.11.total)\n",
    "\n"
   ]
  },
  {
   "cell_type": "code",
   "execution_count": 15,
   "metadata": {},
   "outputs": [
    {
     "data": {
      "text/html": [
       "<table>\n",
       "<caption>A data.frame: 6 × 3</caption>\n",
       "<thead>\n",
       "\t<tr><th></th><th scope=col>arm.name</th><th scope=col>0</th><th scope=col>24</th></tr>\n",
       "\t<tr><th></th><th scope=col>&lt;chr&gt;</th><th scope=col>&lt;dbl&gt;</th><th scope=col>&lt;dbl&gt;</th></tr>\n",
       "</thead>\n",
       "<tbody>\n",
       "\t<tr><th scope=row>1</th><td>miR-23a-3p</td><td>11668.209</td><td>10129.751</td></tr>\n",
       "\t<tr><th scope=row>2</th><td>miR-25-3p </td><td> 5752.583</td><td> 5777.397</td></tr>\n",
       "\t<tr><th scope=row>3</th><td>let-7b-5p </td><td> 4361.683</td><td> 3610.953</td></tr>\n",
       "\t<tr><th scope=row>4</th><td>miR-191-5p</td><td> 3108.556</td><td> 2858.922</td></tr>\n",
       "\t<tr><th scope=row>5</th><td>miR-21-5p </td><td> 2744.971</td><td> 2642.354</td></tr>\n",
       "\t<tr><th scope=row>6</th><td>miR-93-5p </td><td> 1555.689</td><td> 1637.512</td></tr>\n",
       "</tbody>\n",
       "</table>\n"
      ],
      "text/latex": [
       "A data.frame: 6 × 3\n",
       "\\begin{tabular}{r|lll}\n",
       "  & arm.name & 0 & 24\\\\\n",
       "  & <chr> & <dbl> & <dbl>\\\\\n",
       "\\hline\n",
       "\t1 & miR-23a-3p & 11668.209 & 10129.751\\\\\n",
       "\t2 & miR-25-3p  &  5752.583 &  5777.397\\\\\n",
       "\t3 & let-7b-5p  &  4361.683 &  3610.953\\\\\n",
       "\t4 & miR-191-5p &  3108.556 &  2858.922\\\\\n",
       "\t5 & miR-21-5p  &  2744.971 &  2642.354\\\\\n",
       "\t6 & miR-93-5p  &  1555.689 &  1637.512\\\\\n",
       "\\end{tabular}\n"
      ],
      "text/markdown": [
       "\n",
       "A data.frame: 6 × 3\n",
       "\n",
       "| <!--/--> | arm.name &lt;chr&gt; | 0 &lt;dbl&gt; | 24 &lt;dbl&gt; |\n",
       "|---|---|---|---|\n",
       "| 1 | miR-23a-3p | 11668.209 | 10129.751 |\n",
       "| 2 | miR-25-3p  |  5752.583 |  5777.397 |\n",
       "| 3 | let-7b-5p  |  4361.683 |  3610.953 |\n",
       "| 4 | miR-191-5p |  3108.556 |  2858.922 |\n",
       "| 5 | miR-21-5p  |  2744.971 |  2642.354 |\n",
       "| 6 | miR-93-5p  |  1555.689 |  1637.512 |\n",
       "\n"
      ],
      "text/plain": [
       "  arm.name   0         24       \n",
       "1 miR-23a-3p 11668.209 10129.751\n",
       "2 miR-25-3p   5752.583  5777.397\n",
       "3 let-7b-5p   4361.683  3610.953\n",
       "4 miR-191-5p  3108.556  2858.922\n",
       "5 miR-21-5p   2744.971  2642.354\n",
       "6 miR-93-5p   1555.689  1637.512"
      ]
     },
     "metadata": {},
     "output_type": "display_data"
    },
    {
     "data": {
      "text/html": [
       "209"
      ],
      "text/latex": [
       "209"
      ],
      "text/markdown": [
       "209"
      ],
      "text/plain": [
       "[1] 209"
      ]
     },
     "metadata": {},
     "output_type": "display_data"
    },
    {
     "data": {
      "text/html": [
       "208"
      ],
      "text/latex": [
       "208"
      ],
      "text/markdown": [
       "208"
      ],
      "text/plain": [
       "[1] 208"
      ]
     },
     "metadata": {},
     "output_type": "display_data"
    },
    {
     "data": {
      "text/html": [
       "205"
      ],
      "text/latex": [
       "205"
      ],
      "text/markdown": [
       "205"
      ],
      "text/plain": [
       "[1] 205"
      ]
     },
     "metadata": {},
     "output_type": "display_data"
    }
   ],
   "source": [
    "\n",
    "ctrl.gfp.total <- as.data.frame(control.gfp.total[,-c(1,2)]) # remove sample name and miR duplex\n",
    "head(ctrl.gfp.total)\n",
    "nrow(ctrl.gfp.total)\n",
    "\n",
    "\n",
    "\n",
    "\n",
    "ctrl.6.total <- as.data.frame(control.6.total[,-c(1,2)])\n",
    "#head(ctrl.6.total)\n",
    "nrow(ctrl.6.total)\n",
    "\n",
    "\n",
    "\n",
    "\n",
    "ctrl.11.total <- as.data.frame(control.11.total[,-c(1,2)])\n",
    "#head(ctrl.11.total)\n",
    "nrow(ctrl.11.total)\n",
    "\n"
   ]
  },
  {
   "cell_type": "code",
   "execution_count": 16,
   "metadata": {},
   "outputs": [
    {
     "name": "stderr",
     "output_type": "stream",
     "text": [
      "Using arm.name as id variables\n",
      "\n"
     ]
    },
    {
     "data": {
      "text/html": [
       "<table>\n",
       "<caption>A data.frame: 6 × 4</caption>\n",
       "<thead>\n",
       "\t<tr><th></th><th scope=col>arm.name</th><th scope=col>time</th><th scope=col>RPM</th><th scope=col>hela</th></tr>\n",
       "\t<tr><th></th><th scope=col>&lt;chr&gt;</th><th scope=col>&lt;fct&gt;</th><th scope=col>&lt;dbl&gt;</th><th scope=col>&lt;chr&gt;</th></tr>\n",
       "</thead>\n",
       "<tbody>\n",
       "\t<tr><th scope=row>1</th><td>miR-23a-3p</td><td>0</td><td>11668.209</td><td>shControl</td></tr>\n",
       "\t<tr><th scope=row>2</th><td>miR-25-3p </td><td>0</td><td> 5752.583</td><td>shControl</td></tr>\n",
       "\t<tr><th scope=row>3</th><td>let-7b-5p </td><td>0</td><td> 4361.683</td><td>shControl</td></tr>\n",
       "\t<tr><th scope=row>4</th><td>miR-191-5p</td><td>0</td><td> 3108.556</td><td>shControl</td></tr>\n",
       "\t<tr><th scope=row>5</th><td>miR-21-5p </td><td>0</td><td> 2744.971</td><td>shControl</td></tr>\n",
       "\t<tr><th scope=row>6</th><td>miR-224-5p</td><td>0</td><td> 1567.115</td><td>shControl</td></tr>\n",
       "</tbody>\n",
       "</table>\n"
      ],
      "text/latex": [
       "A data.frame: 6 × 4\n",
       "\\begin{tabular}{r|llll}\n",
       "  & arm.name & time & RPM & hela\\\\\n",
       "  & <chr> & <fct> & <dbl> & <chr>\\\\\n",
       "\\hline\n",
       "\t1 & miR-23a-3p & 0 & 11668.209 & shControl\\\\\n",
       "\t2 & miR-25-3p  & 0 &  5752.583 & shControl\\\\\n",
       "\t3 & let-7b-5p  & 0 &  4361.683 & shControl\\\\\n",
       "\t4 & miR-191-5p & 0 &  3108.556 & shControl\\\\\n",
       "\t5 & miR-21-5p  & 0 &  2744.971 & shControl\\\\\n",
       "\t6 & miR-224-5p & 0 &  1567.115 & shControl\\\\\n",
       "\\end{tabular}\n"
      ],
      "text/markdown": [
       "\n",
       "A data.frame: 6 × 4\n",
       "\n",
       "| <!--/--> | arm.name &lt;chr&gt; | time &lt;fct&gt; | RPM &lt;dbl&gt; | hela &lt;chr&gt; |\n",
       "|---|---|---|---|---|\n",
       "| 1 | miR-23a-3p | 0 | 11668.209 | shControl |\n",
       "| 2 | miR-25-3p  | 0 |  5752.583 | shControl |\n",
       "| 3 | let-7b-5p  | 0 |  4361.683 | shControl |\n",
       "| 4 | miR-191-5p | 0 |  3108.556 | shControl |\n",
       "| 5 | miR-21-5p  | 0 |  2744.971 | shControl |\n",
       "| 6 | miR-224-5p | 0 |  1567.115 | shControl |\n",
       "\n"
      ],
      "text/plain": [
       "  arm.name   time RPM       hela     \n",
       "1 miR-23a-3p 0    11668.209 shControl\n",
       "2 miR-25-3p  0     5752.583 shControl\n",
       "3 let-7b-5p  0     4361.683 shControl\n",
       "4 miR-191-5p 0     3108.556 shControl\n",
       "5 miR-21-5p  0     2744.971 shControl\n",
       "6 miR-224-5p 0     1567.115 shControl"
      ]
     },
     "metadata": {},
     "output_type": "display_data"
    },
    {
     "data": {
      "text/html": [
       "406"
      ],
      "text/latex": [
       "406"
      ],
      "text/markdown": [
       "406"
      ],
      "text/plain": [
       "[1] 406"
      ]
     },
     "metadata": {},
     "output_type": "display_data"
    },
    {
     "name": "stderr",
     "output_type": "stream",
     "text": [
      "Using arm.name as id variables\n",
      "\n",
      "Using arm.name as id variables\n",
      "\n"
     ]
    }
   ],
   "source": [
    "#head(time.gfp.total)\n",
    "gfp <- reshape2::melt(time.gfp.total)\n",
    "gfp$hela <- \"shControl\"\n",
    "colnames(gfp) <- c(\"arm.name\", \"time\", \"RPM\", \"hela\")\n",
    "gfp$arm.name <- as.character(gfp$arm.name)\n",
    "head(gfp)\n",
    "nrow(gfp)\n",
    "\n",
    "\n",
    "\n",
    "\n",
    "ints6 <- reshape2::melt(time.6.total)\n",
    "ints6$hela <- \"shINTS6\"\n",
    "colnames(ints6) <- c(\"arm.name\", \"time\", \"RPM\", \"hela\")\n",
    "ints6$arm.name <- as.character(ints6$arm.name)\n",
    "#head(ints6)\n",
    "\n",
    "\n",
    "\n",
    "\n",
    "\n",
    "ints11 <- reshape2::melt(time.11.total)\n",
    "ints11$hela <- \"shINTS11\"\n",
    "colnames(ints11) <- c(\"arm.name\", \"time\", \"RPM\", \"hela\")\n",
    "ints11$arm.name <- as.character(ints11$arm.name)\n",
    "#head(ints11)\n",
    "\n",
    "\n"
   ]
  },
  {
   "cell_type": "code",
   "execution_count": 17,
   "metadata": {},
   "outputs": [
    {
     "data": {
      "text/html": [
       "<table>\n",
       "<caption>A data.frame: 6 × 3</caption>\n",
       "<thead>\n",
       "\t<tr><th></th><th scope=col>arm.name</th><th scope=col>0</th><th scope=col>24</th></tr>\n",
       "\t<tr><th></th><th scope=col>&lt;chr&gt;</th><th scope=col>&lt;dbl&gt;</th><th scope=col>&lt;dbl&gt;</th></tr>\n",
       "</thead>\n",
       "<tbody>\n",
       "\t<tr><th scope=row>1</th><td>miR-23a-3p</td><td>11668.209</td><td>10129.751</td></tr>\n",
       "\t<tr><th scope=row>2</th><td>miR-25-3p </td><td> 5752.583</td><td> 5777.397</td></tr>\n",
       "\t<tr><th scope=row>3</th><td>let-7b-5p </td><td> 4361.683</td><td> 3610.953</td></tr>\n",
       "\t<tr><th scope=row>4</th><td>miR-191-5p</td><td> 3108.556</td><td> 2858.922</td></tr>\n",
       "\t<tr><th scope=row>5</th><td>miR-21-5p </td><td> 2744.971</td><td> 2642.354</td></tr>\n",
       "\t<tr><th scope=row>6</th><td>miR-93-5p </td><td> 1555.689</td><td> 1637.512</td></tr>\n",
       "</tbody>\n",
       "</table>\n"
      ],
      "text/latex": [
       "A data.frame: 6 × 3\n",
       "\\begin{tabular}{r|lll}\n",
       "  & arm.name & 0 & 24\\\\\n",
       "  & <chr> & <dbl> & <dbl>\\\\\n",
       "\\hline\n",
       "\t1 & miR-23a-3p & 11668.209 & 10129.751\\\\\n",
       "\t2 & miR-25-3p  &  5752.583 &  5777.397\\\\\n",
       "\t3 & let-7b-5p  &  4361.683 &  3610.953\\\\\n",
       "\t4 & miR-191-5p &  3108.556 &  2858.922\\\\\n",
       "\t5 & miR-21-5p  &  2744.971 &  2642.354\\\\\n",
       "\t6 & miR-93-5p  &  1555.689 &  1637.512\\\\\n",
       "\\end{tabular}\n"
      ],
      "text/markdown": [
       "\n",
       "A data.frame: 6 × 3\n",
       "\n",
       "| <!--/--> | arm.name &lt;chr&gt; | 0 &lt;dbl&gt; | 24 &lt;dbl&gt; |\n",
       "|---|---|---|---|\n",
       "| 1 | miR-23a-3p | 11668.209 | 10129.751 |\n",
       "| 2 | miR-25-3p  |  5752.583 |  5777.397 |\n",
       "| 3 | let-7b-5p  |  4361.683 |  3610.953 |\n",
       "| 4 | miR-191-5p |  3108.556 |  2858.922 |\n",
       "| 5 | miR-21-5p  |  2744.971 |  2642.354 |\n",
       "| 6 | miR-93-5p  |  1555.689 |  1637.512 |\n",
       "\n"
      ],
      "text/plain": [
       "  arm.name   0         24       \n",
       "1 miR-23a-3p 11668.209 10129.751\n",
       "2 miR-25-3p   5752.583  5777.397\n",
       "3 let-7b-5p   4361.683  3610.953\n",
       "4 miR-191-5p  3108.556  2858.922\n",
       "5 miR-21-5p   2744.971  2642.354\n",
       "6 miR-93-5p   1555.689  1637.512"
      ]
     },
     "metadata": {},
     "output_type": "display_data"
    },
    {
     "name": "stderr",
     "output_type": "stream",
     "text": [
      "Using arm.name as id variables\n",
      "\n"
     ]
    },
    {
     "data": {
      "text/html": [
       "418"
      ],
      "text/latex": [
       "418"
      ],
      "text/markdown": [
       "418"
      ],
      "text/plain": [
       "[1] 418"
      ]
     },
     "metadata": {},
     "output_type": "display_data"
    },
    {
     "name": "stderr",
     "output_type": "stream",
     "text": [
      "Using arm.name as id variables\n",
      "\n",
      "Using arm.name as id variables\n",
      "\n"
     ]
    }
   ],
   "source": [
    "head(ctrl.gfp.total)\n",
    "c.gfp <- reshape2::melt(ctrl.gfp.total)\n",
    "c.gfp$hela <- \"shControl\"\n",
    "colnames(c.gfp) <- c(\"arm.name\", \"time\", \"RPM\", \"hela\")\n",
    "c.gfp$arm.name <- as.character(c.gfp$arm.name)\n",
    "#head(c.gfp)\n",
    "nrow(c.gfp)\n",
    "\n",
    "\n",
    "\n",
    "\n",
    "c.ints6 <- reshape2::melt(ctrl.6.total)\n",
    "c.ints6$hela <- \"shINTS6\"\n",
    "colnames(c.ints6) <- c(\"arm.name\", \"time\", \"RPM\", \"hela\")\n",
    "c.ints6$arm.name <- as.character(c.ints6$arm.name)\n",
    "#head(c.ints6)\n",
    "\n",
    "\n",
    "\n",
    "\n",
    "\n",
    "\n",
    "c.ints11 <- reshape2::melt(ctrl.11.total)\n",
    "c.ints11$hela <- \"shINTS11\"\n",
    "colnames(c.ints11) <- c(\"arm.name\", \"time\", \"RPM\", \"hela\")\n",
    "c.ints11$arm.name <- as.character(c.ints11$arm.name)\n",
    "#head(c.ints11)\n",
    "\n",
    "\n"
   ]
  },
  {
   "cell_type": "code",
   "execution_count": 18,
   "metadata": {},
   "outputs": [
    {
     "data": {
      "text/html": [
       "<table>\n",
       "<caption>A data.frame: 6 × 4</caption>\n",
       "<thead>\n",
       "\t<tr><th></th><th scope=col>arm.name</th><th scope=col>time</th><th scope=col>RPM</th><th scope=col>hela</th></tr>\n",
       "\t<tr><th></th><th scope=col>&lt;chr&gt;</th><th scope=col>&lt;fct&gt;</th><th scope=col>&lt;dbl&gt;</th><th scope=col>&lt;chr&gt;</th></tr>\n",
       "</thead>\n",
       "<tbody>\n",
       "\t<tr><th scope=row>1</th><td>miR-23a-3p</td><td>0</td><td>11668.209</td><td>shControl</td></tr>\n",
       "\t<tr><th scope=row>2</th><td>miR-25-3p </td><td>0</td><td> 5752.583</td><td>shControl</td></tr>\n",
       "\t<tr><th scope=row>3</th><td>let-7b-5p </td><td>0</td><td> 4361.683</td><td>shControl</td></tr>\n",
       "\t<tr><th scope=row>4</th><td>miR-191-5p</td><td>0</td><td> 3108.556</td><td>shControl</td></tr>\n",
       "\t<tr><th scope=row>5</th><td>miR-21-5p </td><td>0</td><td> 2744.971</td><td>shControl</td></tr>\n",
       "\t<tr><th scope=row>6</th><td>miR-224-5p</td><td>0</td><td> 1567.115</td><td>shControl</td></tr>\n",
       "</tbody>\n",
       "</table>\n"
      ],
      "text/latex": [
       "A data.frame: 6 × 4\n",
       "\\begin{tabular}{r|llll}\n",
       "  & arm.name & time & RPM & hela\\\\\n",
       "  & <chr> & <fct> & <dbl> & <chr>\\\\\n",
       "\\hline\n",
       "\t1 & miR-23a-3p & 0 & 11668.209 & shControl\\\\\n",
       "\t2 & miR-25-3p  & 0 &  5752.583 & shControl\\\\\n",
       "\t3 & let-7b-5p  & 0 &  4361.683 & shControl\\\\\n",
       "\t4 & miR-191-5p & 0 &  3108.556 & shControl\\\\\n",
       "\t5 & miR-21-5p  & 0 &  2744.971 & shControl\\\\\n",
       "\t6 & miR-224-5p & 0 &  1567.115 & shControl\\\\\n",
       "\\end{tabular}\n"
      ],
      "text/markdown": [
       "\n",
       "A data.frame: 6 × 4\n",
       "\n",
       "| <!--/--> | arm.name &lt;chr&gt; | time &lt;fct&gt; | RPM &lt;dbl&gt; | hela &lt;chr&gt; |\n",
       "|---|---|---|---|---|\n",
       "| 1 | miR-23a-3p | 0 | 11668.209 | shControl |\n",
       "| 2 | miR-25-3p  | 0 |  5752.583 | shControl |\n",
       "| 3 | let-7b-5p  | 0 |  4361.683 | shControl |\n",
       "| 4 | miR-191-5p | 0 |  3108.556 | shControl |\n",
       "| 5 | miR-21-5p  | 0 |  2744.971 | shControl |\n",
       "| 6 | miR-224-5p | 0 |  1567.115 | shControl |\n",
       "\n"
      ],
      "text/plain": [
       "  arm.name   time RPM       hela     \n",
       "1 miR-23a-3p 0    11668.209 shControl\n",
       "2 miR-25-3p  0     5752.583 shControl\n",
       "3 let-7b-5p  0     4361.683 shControl\n",
       "4 miR-191-5p 0     3108.556 shControl\n",
       "5 miR-21-5p  0     2744.971 shControl\n",
       "6 miR-224-5p 0     1567.115 shControl"
      ]
     },
     "metadata": {},
     "output_type": "display_data"
    }
   ],
   "source": [
    "fin <- rbind.data.frame(gfp,  ints6,  ints11)\n",
    "fin <- fin[complete.cases(fin),]\n",
    "\n",
    "head(fin)"
   ]
  },
  {
   "cell_type": "code",
   "execution_count": 19,
   "metadata": {},
   "outputs": [],
   "source": [
    "fin.c <- rbind.data.frame(c.gfp,  c.ints6,  c.ints11)\n",
    "fin.c <- fin.c[complete.cases(fin.c),]"
   ]
  },
  {
   "cell_type": "code",
   "execution_count": 22,
   "metadata": {},
   "outputs": [
    {
     "data": {
      "text/html": [
       "<table>\n",
       "<caption>A data.frame: 6 × 2</caption>\n",
       "<thead>\n",
       "\t<tr><th></th><th scope=col>arm.name</th><th scope=col>24</th></tr>\n",
       "\t<tr><th></th><th scope=col>&lt;chr&gt;</th><th scope=col>&lt;dbl&gt;</th></tr>\n",
       "</thead>\n",
       "<tbody>\n",
       "\t<tr><th scope=row>1</th><td>miR-23a-3p</td><td>8359.365</td></tr>\n",
       "\t<tr><th scope=row>2</th><td>miR-25-3p </td><td>6490.526</td></tr>\n",
       "\t<tr><th scope=row>3</th><td>let-7b-5p </td><td>5774.005</td></tr>\n",
       "\t<tr><th scope=row>4</th><td>miR-191-5p</td><td>2416.466</td></tr>\n",
       "\t<tr><th scope=row>5</th><td>miR-21-5p </td><td>2080.085</td></tr>\n",
       "\t<tr><th scope=row>6</th><td>miR-224-5p</td><td>1617.929</td></tr>\n",
       "</tbody>\n",
       "</table>\n"
      ],
      "text/latex": [
       "A data.frame: 6 × 2\n",
       "\\begin{tabular}{r|ll}\n",
       "  & arm.name & 24\\\\\n",
       "  & <chr> & <dbl>\\\\\n",
       "\\hline\n",
       "\t1 & miR-23a-3p & 8359.365\\\\\n",
       "\t2 & miR-25-3p  & 6490.526\\\\\n",
       "\t3 & let-7b-5p  & 5774.005\\\\\n",
       "\t4 & miR-191-5p & 2416.466\\\\\n",
       "\t5 & miR-21-5p  & 2080.085\\\\\n",
       "\t6 & miR-224-5p & 1617.929\\\\\n",
       "\\end{tabular}\n"
      ],
      "text/markdown": [
       "\n",
       "A data.frame: 6 × 2\n",
       "\n",
       "| <!--/--> | arm.name &lt;chr&gt; | 24 &lt;dbl&gt; |\n",
       "|---|---|---|\n",
       "| 1 | miR-23a-3p | 8359.365 |\n",
       "| 2 | miR-25-3p  | 6490.526 |\n",
       "| 3 | let-7b-5p  | 5774.005 |\n",
       "| 4 | miR-191-5p | 2416.466 |\n",
       "| 5 | miR-21-5p  | 2080.085 |\n",
       "| 6 | miR-224-5p | 1617.929 |\n",
       "\n"
      ],
      "text/plain": [
       "  arm.name   24      \n",
       "1 miR-23a-3p 8359.365\n",
       "2 miR-25-3p  6490.526\n",
       "3 let-7b-5p  5774.005\n",
       "4 miR-191-5p 2416.466\n",
       "5 miR-21-5p  2080.085\n",
       "6 miR-224-5p 1617.929"
      ]
     },
     "metadata": {},
     "output_type": "display_data"
    },
    {
     "data": {
      "text/html": [
       "122"
      ],
      "text/latex": [
       "122"
      ],
      "text/markdown": [
       "122"
      ],
      "text/plain": [
       "[1] 122"
      ]
     },
     "metadata": {},
     "output_type": "display_data"
    },
    {
     "data": {
      "text/html": [
       "122"
      ],
      "text/latex": [
       "122"
      ],
      "text/markdown": [
       "122"
      ],
      "text/plain": [
       "[1] 122"
      ]
     },
     "metadata": {},
     "output_type": "display_data"
    },
    {
     "data": {
      "text/html": [
       "122"
      ],
      "text/latex": [
       "122"
      ],
      "text/markdown": [
       "122"
      ],
      "text/plain": [
       "[1] 122"
      ]
     },
     "metadata": {},
     "output_type": "display_data"
    }
   ],
   "source": [
    "# timecourse\n",
    "# look at the same miRNAs as in s4U experiment\n",
    "\n",
    "match.gfp.total <- time.gfp.total[grepl(paste0(toMatch, collapse = \"|\"),time.gfp.total$arm.name),-2] \n",
    "match.6.total <- time.6.total[match(match.gfp.total$arm.name,time.6.total$arm.name),-2] \n",
    "match.11.total <- time.11.total[match(match.gfp.total$arm.name,time.11.total$arm.name),-2] \n",
    "\n",
    "head(match.gfp.total)\n",
    "nrow(match.gfp.total)\n",
    "\n",
    "nrow(match.6.total)\n",
    "\n",
    "nrow(match.11.total)\n"
   ]
  },
  {
   "cell_type": "code",
   "execution_count": 23,
   "metadata": {},
   "outputs": [
    {
     "data": {
      "text/html": [
       "<table>\n",
       "<caption>A data.frame: 6 × 2</caption>\n",
       "<thead>\n",
       "\t<tr><th></th><th scope=col>arm.name</th><th scope=col>24</th></tr>\n",
       "\t<tr><th></th><th scope=col>&lt;chr&gt;</th><th scope=col>&lt;dbl&gt;</th></tr>\n",
       "</thead>\n",
       "<tbody>\n",
       "\t<tr><th scope=row>1</th><td>miR-23a-3p</td><td>10129.751</td></tr>\n",
       "\t<tr><th scope=row>2</th><td>miR-25-3p </td><td> 5777.397</td></tr>\n",
       "\t<tr><th scope=row>3</th><td>let-7b-5p </td><td> 3610.953</td></tr>\n",
       "\t<tr><th scope=row>4</th><td>miR-191-5p</td><td> 2858.922</td></tr>\n",
       "\t<tr><th scope=row>5</th><td>miR-21-5p </td><td> 2642.354</td></tr>\n",
       "\t<tr><th scope=row>8</th><td>miR-224-5p</td><td> 1416.334</td></tr>\n",
       "</tbody>\n",
       "</table>\n"
      ],
      "text/latex": [
       "A data.frame: 6 × 2\n",
       "\\begin{tabular}{r|ll}\n",
       "  & arm.name & 24\\\\\n",
       "  & <chr> & <dbl>\\\\\n",
       "\\hline\n",
       "\t1 & miR-23a-3p & 10129.751\\\\\n",
       "\t2 & miR-25-3p  &  5777.397\\\\\n",
       "\t3 & let-7b-5p  &  3610.953\\\\\n",
       "\t4 & miR-191-5p &  2858.922\\\\\n",
       "\t5 & miR-21-5p  &  2642.354\\\\\n",
       "\t8 & miR-224-5p &  1416.334\\\\\n",
       "\\end{tabular}\n"
      ],
      "text/markdown": [
       "\n",
       "A data.frame: 6 × 2\n",
       "\n",
       "| <!--/--> | arm.name &lt;chr&gt; | 24 &lt;dbl&gt; |\n",
       "|---|---|---|\n",
       "| 1 | miR-23a-3p | 10129.751 |\n",
       "| 2 | miR-25-3p  |  5777.397 |\n",
       "| 3 | let-7b-5p  |  3610.953 |\n",
       "| 4 | miR-191-5p |  2858.922 |\n",
       "| 5 | miR-21-5p  |  2642.354 |\n",
       "| 8 | miR-224-5p |  1416.334 |\n",
       "\n"
      ],
      "text/plain": [
       "  arm.name   24       \n",
       "1 miR-23a-3p 10129.751\n",
       "2 miR-25-3p   5777.397\n",
       "3 let-7b-5p   3610.953\n",
       "4 miR-191-5p  2858.922\n",
       "5 miR-21-5p   2642.354\n",
       "8 miR-224-5p  1416.334"
      ]
     },
     "metadata": {},
     "output_type": "display_data"
    },
    {
     "data": {
      "text/html": [
       "122"
      ],
      "text/latex": [
       "122"
      ],
      "text/markdown": [
       "122"
      ],
      "text/plain": [
       "[1] 122"
      ]
     },
     "metadata": {},
     "output_type": "display_data"
    },
    {
     "data": {
      "text/html": [
       "122"
      ],
      "text/latex": [
       "122"
      ],
      "text/markdown": [
       "122"
      ],
      "text/plain": [
       "[1] 122"
      ]
     },
     "metadata": {},
     "output_type": "display_data"
    },
    {
     "data": {
      "text/html": [
       "122"
      ],
      "text/latex": [
       "122"
      ],
      "text/markdown": [
       "122"
      ],
      "text/plain": [
       "[1] 122"
      ]
     },
     "metadata": {},
     "output_type": "display_data"
    }
   ],
   "source": [
    "# control - same rownames as timecourse\n",
    "c.match.gfp.total <- ctrl.gfp.total[match(match.gfp.total$arm.name,ctrl.gfp.total$arm.name),-2] \n",
    "c.match.6.total <- ctrl.6.total[match(c.match.gfp.total$arm.name,ctrl.6.total$arm.name),-2] \n",
    "c.match.11.total <- ctrl.11.total[match(c.match.gfp.total$arm.name,ctrl.11.total$arm.name),-2] \n",
    "\n",
    "head(c.match.gfp.total)\n",
    "nrow(c.match.gfp.total)\n",
    "\n",
    "nrow(c.match.6.total)\n",
    "nrow(c.match.11.total)\n"
   ]
  },
  {
   "cell_type": "code",
   "execution_count": 25,
   "metadata": {},
   "outputs": [
    {
     "data": {
      "text/html": [
       "<table>\n",
       "<caption>A data.frame: 6 × 2</caption>\n",
       "<thead>\n",
       "\t<tr><th></th><th scope=col>arm.name</th><th scope=col>24</th></tr>\n",
       "\t<tr><th></th><th scope=col>&lt;chr&gt;</th><th scope=col>&lt;dbl&gt;</th></tr>\n",
       "</thead>\n",
       "<tbody>\n",
       "\t<tr><th scope=row>1</th><td>miR-23a-3p</td><td>8359.365</td></tr>\n",
       "\t<tr><th scope=row>2</th><td>miR-25-3p </td><td>6490.526</td></tr>\n",
       "\t<tr><th scope=row>3</th><td>let-7b-5p </td><td>5774.005</td></tr>\n",
       "\t<tr><th scope=row>4</th><td>miR-191-5p</td><td>2416.466</td></tr>\n",
       "\t<tr><th scope=row>5</th><td>miR-21-5p </td><td>2080.085</td></tr>\n",
       "\t<tr><th scope=row>6</th><td>miR-224-5p</td><td>1617.929</td></tr>\n",
       "</tbody>\n",
       "</table>\n"
      ],
      "text/latex": [
       "A data.frame: 6 × 2\n",
       "\\begin{tabular}{r|ll}\n",
       "  & arm.name & 24\\\\\n",
       "  & <chr> & <dbl>\\\\\n",
       "\\hline\n",
       "\t1 & miR-23a-3p & 8359.365\\\\\n",
       "\t2 & miR-25-3p  & 6490.526\\\\\n",
       "\t3 & let-7b-5p  & 5774.005\\\\\n",
       "\t4 & miR-191-5p & 2416.466\\\\\n",
       "\t5 & miR-21-5p  & 2080.085\\\\\n",
       "\t6 & miR-224-5p & 1617.929\\\\\n",
       "\\end{tabular}\n"
      ],
      "text/markdown": [
       "\n",
       "A data.frame: 6 × 2\n",
       "\n",
       "| <!--/--> | arm.name &lt;chr&gt; | 24 &lt;dbl&gt; |\n",
       "|---|---|---|\n",
       "| 1 | miR-23a-3p | 8359.365 |\n",
       "| 2 | miR-25-3p  | 6490.526 |\n",
       "| 3 | let-7b-5p  | 5774.005 |\n",
       "| 4 | miR-191-5p | 2416.466 |\n",
       "| 5 | miR-21-5p  | 2080.085 |\n",
       "| 6 | miR-224-5p | 1617.929 |\n",
       "\n"
      ],
      "text/plain": [
       "  arm.name   24      \n",
       "1 miR-23a-3p 8359.365\n",
       "2 miR-25-3p  6490.526\n",
       "3 let-7b-5p  5774.005\n",
       "4 miR-191-5p 2416.466\n",
       "5 miR-21-5p  2080.085\n",
       "6 miR-224-5p 1617.929"
      ]
     },
     "metadata": {},
     "output_type": "display_data"
    },
    {
     "name": "stderr",
     "output_type": "stream",
     "text": [
      "Using arm.name as id variables\n",
      "\n"
     ]
    },
    {
     "data": {
      "text/html": [
       "<table>\n",
       "<caption>A data.frame: 6 × 4</caption>\n",
       "<thead>\n",
       "\t<tr><th></th><th scope=col>arm.name</th><th scope=col>time</th><th scope=col>RPM</th><th scope=col>hela</th></tr>\n",
       "\t<tr><th></th><th scope=col>&lt;chr&gt;</th><th scope=col>&lt;fct&gt;</th><th scope=col>&lt;dbl&gt;</th><th scope=col>&lt;chr&gt;</th></tr>\n",
       "</thead>\n",
       "<tbody>\n",
       "\t<tr><th scope=row>1</th><td>miR-23a-3p</td><td>24</td><td>8359.365</td><td>shControl</td></tr>\n",
       "\t<tr><th scope=row>2</th><td>miR-25-3p </td><td>24</td><td>6490.526</td><td>shControl</td></tr>\n",
       "\t<tr><th scope=row>3</th><td>let-7b-5p </td><td>24</td><td>5774.005</td><td>shControl</td></tr>\n",
       "\t<tr><th scope=row>4</th><td>miR-191-5p</td><td>24</td><td>2416.466</td><td>shControl</td></tr>\n",
       "\t<tr><th scope=row>5</th><td>miR-21-5p </td><td>24</td><td>2080.085</td><td>shControl</td></tr>\n",
       "\t<tr><th scope=row>6</th><td>miR-224-5p</td><td>24</td><td>1617.929</td><td>shControl</td></tr>\n",
       "</tbody>\n",
       "</table>\n"
      ],
      "text/latex": [
       "A data.frame: 6 × 4\n",
       "\\begin{tabular}{r|llll}\n",
       "  & arm.name & time & RPM & hela\\\\\n",
       "  & <chr> & <fct> & <dbl> & <chr>\\\\\n",
       "\\hline\n",
       "\t1 & miR-23a-3p & 24 & 8359.365 & shControl\\\\\n",
       "\t2 & miR-25-3p  & 24 & 6490.526 & shControl\\\\\n",
       "\t3 & let-7b-5p  & 24 & 5774.005 & shControl\\\\\n",
       "\t4 & miR-191-5p & 24 & 2416.466 & shControl\\\\\n",
       "\t5 & miR-21-5p  & 24 & 2080.085 & shControl\\\\\n",
       "\t6 & miR-224-5p & 24 & 1617.929 & shControl\\\\\n",
       "\\end{tabular}\n"
      ],
      "text/markdown": [
       "\n",
       "A data.frame: 6 × 4\n",
       "\n",
       "| <!--/--> | arm.name &lt;chr&gt; | time &lt;fct&gt; | RPM &lt;dbl&gt; | hela &lt;chr&gt; |\n",
       "|---|---|---|---|---|\n",
       "| 1 | miR-23a-3p | 24 | 8359.365 | shControl |\n",
       "| 2 | miR-25-3p  | 24 | 6490.526 | shControl |\n",
       "| 3 | let-7b-5p  | 24 | 5774.005 | shControl |\n",
       "| 4 | miR-191-5p | 24 | 2416.466 | shControl |\n",
       "| 5 | miR-21-5p  | 24 | 2080.085 | shControl |\n",
       "| 6 | miR-224-5p | 24 | 1617.929 | shControl |\n",
       "\n"
      ],
      "text/plain": [
       "  arm.name   time RPM      hela     \n",
       "1 miR-23a-3p 24   8359.365 shControl\n",
       "2 miR-25-3p  24   6490.526 shControl\n",
       "3 let-7b-5p  24   5774.005 shControl\n",
       "4 miR-191-5p 24   2416.466 shControl\n",
       "5 miR-21-5p  24   2080.085 shControl\n",
       "6 miR-224-5p 24   1617.929 shControl"
      ]
     },
     "metadata": {},
     "output_type": "display_data"
    },
    {
     "name": "stderr",
     "output_type": "stream",
     "text": [
      "Using arm.name as id variables\n",
      "\n",
      "Using arm.name as id variables\n",
      "\n"
     ]
    }
   ],
   "source": [
    "# timecourse\n",
    "head(match.gfp.total)\n",
    "gfp <- reshape2::melt(match.gfp.total)\n",
    "gfp$hela <- \"shControl\"\n",
    "colnames(gfp) <- c(\"arm.name\", \"time\", \"RPM\", \"hela\")\n",
    "gfp$arm.name <- as.character(gfp$arm.name)\n",
    "head(gfp)\n",
    "\n",
    "\n",
    "\n",
    "\n",
    "ints6 <- reshape2::melt(match.6.total)\n",
    "ints6$hela <- \"shINTS6\"\n",
    "colnames(ints6) <- c(\"arm.name\", \"time\", \"RPM\", \"hela\")\n",
    "ints6$arm.name <- as.character(ints6$arm.name)\n",
    "#head(ints6)\n",
    "\n",
    "\n",
    "\n",
    "\n",
    "\n",
    "ints11 <- reshape2::melt(match.11.total)\n",
    "ints11$hela <- \"shINTS11\"\n",
    "colnames(ints11) <- c(\"arm.name\", \"time\", \"RPM\", \"hela\")\n",
    "ints11$arm.name <- as.character(ints11$arm.name)\n",
    "#head(ints11)\n",
    "\n"
   ]
  },
  {
   "cell_type": "code",
   "execution_count": 26,
   "metadata": {},
   "outputs": [
    {
     "data": {
      "text/html": [
       "<table>\n",
       "<caption>A data.frame: 6 × 2</caption>\n",
       "<thead>\n",
       "\t<tr><th></th><th scope=col>arm.name</th><th scope=col>24</th></tr>\n",
       "\t<tr><th></th><th scope=col>&lt;chr&gt;</th><th scope=col>&lt;dbl&gt;</th></tr>\n",
       "</thead>\n",
       "<tbody>\n",
       "\t<tr><th scope=row>1</th><td>miR-23a-3p</td><td>10129.751</td></tr>\n",
       "\t<tr><th scope=row>2</th><td>miR-25-3p </td><td> 5777.397</td></tr>\n",
       "\t<tr><th scope=row>3</th><td>let-7b-5p </td><td> 3610.953</td></tr>\n",
       "\t<tr><th scope=row>4</th><td>miR-191-5p</td><td> 2858.922</td></tr>\n",
       "\t<tr><th scope=row>5</th><td>miR-21-5p </td><td> 2642.354</td></tr>\n",
       "\t<tr><th scope=row>8</th><td>miR-224-5p</td><td> 1416.334</td></tr>\n",
       "</tbody>\n",
       "</table>\n"
      ],
      "text/latex": [
       "A data.frame: 6 × 2\n",
       "\\begin{tabular}{r|ll}\n",
       "  & arm.name & 24\\\\\n",
       "  & <chr> & <dbl>\\\\\n",
       "\\hline\n",
       "\t1 & miR-23a-3p & 10129.751\\\\\n",
       "\t2 & miR-25-3p  &  5777.397\\\\\n",
       "\t3 & let-7b-5p  &  3610.953\\\\\n",
       "\t4 & miR-191-5p &  2858.922\\\\\n",
       "\t5 & miR-21-5p  &  2642.354\\\\\n",
       "\t8 & miR-224-5p &  1416.334\\\\\n",
       "\\end{tabular}\n"
      ],
      "text/markdown": [
       "\n",
       "A data.frame: 6 × 2\n",
       "\n",
       "| <!--/--> | arm.name &lt;chr&gt; | 24 &lt;dbl&gt; |\n",
       "|---|---|---|\n",
       "| 1 | miR-23a-3p | 10129.751 |\n",
       "| 2 | miR-25-3p  |  5777.397 |\n",
       "| 3 | let-7b-5p  |  3610.953 |\n",
       "| 4 | miR-191-5p |  2858.922 |\n",
       "| 5 | miR-21-5p  |  2642.354 |\n",
       "| 8 | miR-224-5p |  1416.334 |\n",
       "\n"
      ],
      "text/plain": [
       "  arm.name   24       \n",
       "1 miR-23a-3p 10129.751\n",
       "2 miR-25-3p   5777.397\n",
       "3 let-7b-5p   3610.953\n",
       "4 miR-191-5p  2858.922\n",
       "5 miR-21-5p   2642.354\n",
       "8 miR-224-5p  1416.334"
      ]
     },
     "metadata": {},
     "output_type": "display_data"
    },
    {
     "name": "stderr",
     "output_type": "stream",
     "text": [
      "Using arm.name as id variables\n",
      "\n"
     ]
    },
    {
     "data": {
      "text/html": [
       "<table>\n",
       "<caption>A data.frame: 6 × 4</caption>\n",
       "<thead>\n",
       "\t<tr><th></th><th scope=col>arm.name</th><th scope=col>time</th><th scope=col>RPM</th><th scope=col>hela</th></tr>\n",
       "\t<tr><th></th><th scope=col>&lt;chr&gt;</th><th scope=col>&lt;fct&gt;</th><th scope=col>&lt;dbl&gt;</th><th scope=col>&lt;chr&gt;</th></tr>\n",
       "</thead>\n",
       "<tbody>\n",
       "\t<tr><th scope=row>1</th><td>miR-23a-3p</td><td>24</td><td>10129.751</td><td>shControl</td></tr>\n",
       "\t<tr><th scope=row>2</th><td>miR-25-3p </td><td>24</td><td> 5777.397</td><td>shControl</td></tr>\n",
       "\t<tr><th scope=row>3</th><td>let-7b-5p </td><td>24</td><td> 3610.953</td><td>shControl</td></tr>\n",
       "\t<tr><th scope=row>4</th><td>miR-191-5p</td><td>24</td><td> 2858.922</td><td>shControl</td></tr>\n",
       "\t<tr><th scope=row>5</th><td>miR-21-5p </td><td>24</td><td> 2642.354</td><td>shControl</td></tr>\n",
       "\t<tr><th scope=row>6</th><td>miR-224-5p</td><td>24</td><td> 1416.334</td><td>shControl</td></tr>\n",
       "</tbody>\n",
       "</table>\n"
      ],
      "text/latex": [
       "A data.frame: 6 × 4\n",
       "\\begin{tabular}{r|llll}\n",
       "  & arm.name & time & RPM & hela\\\\\n",
       "  & <chr> & <fct> & <dbl> & <chr>\\\\\n",
       "\\hline\n",
       "\t1 & miR-23a-3p & 24 & 10129.751 & shControl\\\\\n",
       "\t2 & miR-25-3p  & 24 &  5777.397 & shControl\\\\\n",
       "\t3 & let-7b-5p  & 24 &  3610.953 & shControl\\\\\n",
       "\t4 & miR-191-5p & 24 &  2858.922 & shControl\\\\\n",
       "\t5 & miR-21-5p  & 24 &  2642.354 & shControl\\\\\n",
       "\t6 & miR-224-5p & 24 &  1416.334 & shControl\\\\\n",
       "\\end{tabular}\n"
      ],
      "text/markdown": [
       "\n",
       "A data.frame: 6 × 4\n",
       "\n",
       "| <!--/--> | arm.name &lt;chr&gt; | time &lt;fct&gt; | RPM &lt;dbl&gt; | hela &lt;chr&gt; |\n",
       "|---|---|---|---|---|\n",
       "| 1 | miR-23a-3p | 24 | 10129.751 | shControl |\n",
       "| 2 | miR-25-3p  | 24 |  5777.397 | shControl |\n",
       "| 3 | let-7b-5p  | 24 |  3610.953 | shControl |\n",
       "| 4 | miR-191-5p | 24 |  2858.922 | shControl |\n",
       "| 5 | miR-21-5p  | 24 |  2642.354 | shControl |\n",
       "| 6 | miR-224-5p | 24 |  1416.334 | shControl |\n",
       "\n"
      ],
      "text/plain": [
       "  arm.name   time RPM       hela     \n",
       "1 miR-23a-3p 24   10129.751 shControl\n",
       "2 miR-25-3p  24    5777.397 shControl\n",
       "3 let-7b-5p  24    3610.953 shControl\n",
       "4 miR-191-5p 24    2858.922 shControl\n",
       "5 miR-21-5p  24    2642.354 shControl\n",
       "6 miR-224-5p 24    1416.334 shControl"
      ]
     },
     "metadata": {},
     "output_type": "display_data"
    },
    {
     "name": "stderr",
     "output_type": "stream",
     "text": [
      "Using arm.name as id variables\n",
      "\n",
      "Using arm.name as id variables\n",
      "\n"
     ]
    }
   ],
   "source": [
    "# control\n",
    "head(c.match.gfp.total)\n",
    "c.gfp <- reshape2::melt(c.match.gfp.total)\n",
    "c.gfp$hela <- \"shControl\"\n",
    "colnames(c.gfp) <- c(\"arm.name\", \"time\", \"RPM\", \"hela\")\n",
    "c.gfp$arm.name <- as.character(c.gfp$arm.name)\n",
    "head(c.gfp)\n",
    "\n",
    "\n",
    "\n",
    "\n",
    "\n",
    "c.ints6 <- reshape2::melt(c.match.6.total)\n",
    "c.ints6$hela <- \"shINTS6\"\n",
    "colnames(c.ints6) <- c(\"arm.name\", \"time\", \"RPM\", \"hela\")\n",
    "c.ints6$arm.name <- as.character(c.ints6$arm.name)\n",
    "#head(c.ints6)\n",
    "\n",
    "\n",
    "\n",
    "\n",
    "c.ints11 <- reshape2::melt(c.match.11.total)\n",
    "c.ints11$hela <- \"shINTS11\"\n",
    "colnames(c.ints11) <- c(\"arm.name\", \"time\", \"RPM\", \"hela\")\n",
    "c.ints11$arm.name <- as.character(c.ints11$arm.name)\n",
    "#head(ints11)\n",
    "\n",
    "\n"
   ]
  },
  {
   "cell_type": "code",
   "execution_count": 27,
   "metadata": {},
   "outputs": [
    {
     "data": {
      "text/html": [
       "366"
      ],
      "text/latex": [
       "366"
      ],
      "text/markdown": [
       "366"
      ],
      "text/plain": [
       "[1] 366"
      ]
     },
     "metadata": {},
     "output_type": "display_data"
    },
    {
     "data": {
      "text/html": [
       "366"
      ],
      "text/latex": [
       "366"
      ],
      "text/markdown": [
       "366"
      ],
      "text/plain": [
       "[1] 366"
      ]
     },
     "metadata": {},
     "output_type": "display_data"
    },
    {
     "data": {
      "text/html": [
       "<table>\n",
       "<caption>A data.frame: 6 × 4</caption>\n",
       "<thead>\n",
       "\t<tr><th></th><th scope=col>arm.name</th><th scope=col>time</th><th scope=col>RPM</th><th scope=col>hela</th></tr>\n",
       "\t<tr><th></th><th scope=col>&lt;chr&gt;</th><th scope=col>&lt;fct&gt;</th><th scope=col>&lt;dbl&gt;</th><th scope=col>&lt;chr&gt;</th></tr>\n",
       "</thead>\n",
       "<tbody>\n",
       "\t<tr><th scope=row>1</th><td>miR-23a-3p</td><td>24</td><td>8359.365</td><td>shControl</td></tr>\n",
       "\t<tr><th scope=row>2</th><td>miR-25-3p </td><td>24</td><td>6490.526</td><td>shControl</td></tr>\n",
       "\t<tr><th scope=row>3</th><td>let-7b-5p </td><td>24</td><td>5774.005</td><td>shControl</td></tr>\n",
       "\t<tr><th scope=row>4</th><td>miR-191-5p</td><td>24</td><td>2416.466</td><td>shControl</td></tr>\n",
       "\t<tr><th scope=row>5</th><td>miR-21-5p </td><td>24</td><td>2080.085</td><td>shControl</td></tr>\n",
       "\t<tr><th scope=row>6</th><td>miR-224-5p</td><td>24</td><td>1617.929</td><td>shControl</td></tr>\n",
       "</tbody>\n",
       "</table>\n"
      ],
      "text/latex": [
       "A data.frame: 6 × 4\n",
       "\\begin{tabular}{r|llll}\n",
       "  & arm.name & time & RPM & hela\\\\\n",
       "  & <chr> & <fct> & <dbl> & <chr>\\\\\n",
       "\\hline\n",
       "\t1 & miR-23a-3p & 24 & 8359.365 & shControl\\\\\n",
       "\t2 & miR-25-3p  & 24 & 6490.526 & shControl\\\\\n",
       "\t3 & let-7b-5p  & 24 & 5774.005 & shControl\\\\\n",
       "\t4 & miR-191-5p & 24 & 2416.466 & shControl\\\\\n",
       "\t5 & miR-21-5p  & 24 & 2080.085 & shControl\\\\\n",
       "\t6 & miR-224-5p & 24 & 1617.929 & shControl\\\\\n",
       "\\end{tabular}\n"
      ],
      "text/markdown": [
       "\n",
       "A data.frame: 6 × 4\n",
       "\n",
       "| <!--/--> | arm.name &lt;chr&gt; | time &lt;fct&gt; | RPM &lt;dbl&gt; | hela &lt;chr&gt; |\n",
       "|---|---|---|---|---|\n",
       "| 1 | miR-23a-3p | 24 | 8359.365 | shControl |\n",
       "| 2 | miR-25-3p  | 24 | 6490.526 | shControl |\n",
       "| 3 | let-7b-5p  | 24 | 5774.005 | shControl |\n",
       "| 4 | miR-191-5p | 24 | 2416.466 | shControl |\n",
       "| 5 | miR-21-5p  | 24 | 2080.085 | shControl |\n",
       "| 6 | miR-224-5p | 24 | 1617.929 | shControl |\n",
       "\n"
      ],
      "text/plain": [
       "  arm.name   time RPM      hela     \n",
       "1 miR-23a-3p 24   8359.365 shControl\n",
       "2 miR-25-3p  24   6490.526 shControl\n",
       "3 let-7b-5p  24   5774.005 shControl\n",
       "4 miR-191-5p 24   2416.466 shControl\n",
       "5 miR-21-5p  24   2080.085 shControl\n",
       "6 miR-224-5p 24   1617.929 shControl"
      ]
     },
     "metadata": {},
     "output_type": "display_data"
    }
   ],
   "source": [
    "fin <- rbind.data.frame(gfp,  ints6,  ints11)\n",
    "nrow(fin)\n",
    "fin <- fin[complete.cases(fin),]\n",
    "nrow(fin)\n",
    "\n",
    "head(fin)"
   ]
  },
  {
   "cell_type": "code",
   "execution_count": 28,
   "metadata": {},
   "outputs": [
    {
     "data": {
      "text/html": [
       "366"
      ],
      "text/latex": [
       "366"
      ],
      "text/markdown": [
       "366"
      ],
      "text/plain": [
       "[1] 366"
      ]
     },
     "metadata": {},
     "output_type": "display_data"
    },
    {
     "data": {
      "text/html": [
       "365"
      ],
      "text/latex": [
       "365"
      ],
      "text/markdown": [
       "365"
      ],
      "text/plain": [
       "[1] 365"
      ]
     },
     "metadata": {},
     "output_type": "display_data"
    },
    {
     "data": {
      "text/html": [
       "<table>\n",
       "<caption>A data.frame: 6 × 4</caption>\n",
       "<thead>\n",
       "\t<tr><th></th><th scope=col>arm.name</th><th scope=col>time</th><th scope=col>RPM</th><th scope=col>hela</th></tr>\n",
       "\t<tr><th></th><th scope=col>&lt;chr&gt;</th><th scope=col>&lt;fct&gt;</th><th scope=col>&lt;dbl&gt;</th><th scope=col>&lt;chr&gt;</th></tr>\n",
       "</thead>\n",
       "<tbody>\n",
       "\t<tr><th scope=row>1</th><td>miR-23a-3p</td><td>24</td><td>10129.751</td><td>shControl</td></tr>\n",
       "\t<tr><th scope=row>2</th><td>miR-25-3p </td><td>24</td><td> 5777.397</td><td>shControl</td></tr>\n",
       "\t<tr><th scope=row>3</th><td>let-7b-5p </td><td>24</td><td> 3610.953</td><td>shControl</td></tr>\n",
       "\t<tr><th scope=row>4</th><td>miR-191-5p</td><td>24</td><td> 2858.922</td><td>shControl</td></tr>\n",
       "\t<tr><th scope=row>5</th><td>miR-21-5p </td><td>24</td><td> 2642.354</td><td>shControl</td></tr>\n",
       "\t<tr><th scope=row>6</th><td>miR-224-5p</td><td>24</td><td> 1416.334</td><td>shControl</td></tr>\n",
       "</tbody>\n",
       "</table>\n"
      ],
      "text/latex": [
       "A data.frame: 6 × 4\n",
       "\\begin{tabular}{r|llll}\n",
       "  & arm.name & time & RPM & hela\\\\\n",
       "  & <chr> & <fct> & <dbl> & <chr>\\\\\n",
       "\\hline\n",
       "\t1 & miR-23a-3p & 24 & 10129.751 & shControl\\\\\n",
       "\t2 & miR-25-3p  & 24 &  5777.397 & shControl\\\\\n",
       "\t3 & let-7b-5p  & 24 &  3610.953 & shControl\\\\\n",
       "\t4 & miR-191-5p & 24 &  2858.922 & shControl\\\\\n",
       "\t5 & miR-21-5p  & 24 &  2642.354 & shControl\\\\\n",
       "\t6 & miR-224-5p & 24 &  1416.334 & shControl\\\\\n",
       "\\end{tabular}\n"
      ],
      "text/markdown": [
       "\n",
       "A data.frame: 6 × 4\n",
       "\n",
       "| <!--/--> | arm.name &lt;chr&gt; | time &lt;fct&gt; | RPM &lt;dbl&gt; | hela &lt;chr&gt; |\n",
       "|---|---|---|---|---|\n",
       "| 1 | miR-23a-3p | 24 | 10129.751 | shControl |\n",
       "| 2 | miR-25-3p  | 24 |  5777.397 | shControl |\n",
       "| 3 | let-7b-5p  | 24 |  3610.953 | shControl |\n",
       "| 4 | miR-191-5p | 24 |  2858.922 | shControl |\n",
       "| 5 | miR-21-5p  | 24 |  2642.354 | shControl |\n",
       "| 6 | miR-224-5p | 24 |  1416.334 | shControl |\n",
       "\n"
      ],
      "text/plain": [
       "  arm.name   time RPM       hela     \n",
       "1 miR-23a-3p 24   10129.751 shControl\n",
       "2 miR-25-3p  24    5777.397 shControl\n",
       "3 let-7b-5p  24    3610.953 shControl\n",
       "4 miR-191-5p 24    2858.922 shControl\n",
       "5 miR-21-5p  24    2642.354 shControl\n",
       "6 miR-224-5p 24    1416.334 shControl"
      ]
     },
     "metadata": {},
     "output_type": "display_data"
    }
   ],
   "source": [
    "fin.c <- rbind.data.frame(c.gfp,  c.ints6,  c.ints11)\n",
    "nrow(fin.c)\n",
    "fin.c <- fin.c[complete.cases(fin.c),]\n",
    "nrow(fin.c)\n",
    "\n",
    "head(fin.c)"
   ]
  },
  {
   "cell_type": "code",
   "execution_count": 29,
   "metadata": {},
   "outputs": [
    {
     "name": "stderr",
     "output_type": "stream",
     "text": [
      "notch went outside hinges. Try setting notch=FALSE.\n",
      "\n"
     ]
    },
    {
     "data": {
      "image/png": "[encoded data removed]",
      "text/plain": [
       "plot without title"
      ]
     },
     "metadata": {
      "image/png": {
       "height": 600,
       "width": 1200
      },
      "text/plain": {
       "height": 600,
       "width": 1200
      }
     },
     "output_type": "display_data"
    }
   ],
   "source": [
    "options(repr.plot.width=20, repr.plot.height=10)\n",
    "\n",
    "box <- ggplot(fin, aes(x=hela, y=RPM, fill=hela)) + \n",
    "    theme_bw(base_size = 50) +\n",
    "    ggtitle(\"steady state\") +\n",
    "    theme(plot.title = element_text(hjust = '0.5')) +\n",
    "    theme(panel.grid.major = element_blank(), panel.grid.minor = element_blank(),\n",
    "              panel.background = element_blank(), panel.border = element_blank()) +\n",
    "    theme(axis.line = element_line(colour = \"black\", size = 0.5), \n",
    "              axis.title.x = element_blank(), axis.text.x = element_text(angle = 15, vjust = 1, hjust=1)) +\n",
    "    theme(legend.position=\"none\", legend.title = element_blank(), \n",
    "              legend.background = element_rect(fill=\"transparent\"))+\n",
    "    #scale_y_continuous(trans = 'log2', breaks=c(1, 16,64, 256))+\n",
    "    coord_cartesian(ylim=c(0.1, 600)) +\n",
    "    ylab(\"miRNA [RPM]\")  +\n",
    "    scale_x_discrete(limits=c(\"shControl\", \"shINTS6\", \"shINTS11\")) +\n",
    "    geom_boxplot(notch=TRUE,outlier.shape=NA, aes(hela, RPM)) +\n",
    "    scale_fill_manual(values=c(col_shgfp,  col_sh6,  col_sh11), \n",
    "                limits=c(\"shControl\", \"shINTS6\", \"shINTS11\"))+\n",
    "    #geom_dotplot(binaxis = \"y\", stackdir = \"center\", position = \"dodge\", binwidth = 0.2, alpha=0.2)+\n",
    "    stat_summary(fun=mean, colour=\"black\", fill=\"white\", geom=\"point\", \n",
    "                     shape=21, size=5,show.legend = FALSE)\n",
    "\n",
    "\n",
    "\n",
    "box.c <- ggplot(fin.c, aes(x=hela, y=RPM, fill=hela)) + \n",
    "    theme_bw(base_size = 50) +\n",
    "    ggtitle(\"steady state [24h -s4U]\") +\n",
    "    theme(plot.title = element_text(hjust = '0.5')) +\n",
    "    theme(panel.grid.major = element_blank(), panel.grid.minor = element_blank(),\n",
    "              panel.background = element_blank(), panel.border = element_blank()) +\n",
    "    theme(axis.line = element_line(colour = \"black\", size = 0.5), \n",
    "              axis.title.x = element_blank(), axis.text.x = element_text(angle = 15, vjust = 1, hjust=1)) +\n",
    "    theme(legend.position=\"none\", legend.title = element_blank(), \n",
    "              legend.background = element_rect(fill=\"transparent\"))+\n",
    "    #scale_y_continuous(trans = 'log2', breaks=c(1, 16,64, 256))+\n",
    "    coord_cartesian(ylim=c(0.1, 600)) +\n",
    "    ylab(\"miRNA [RPM]\")  +\n",
    "    scale_x_discrete(limits=c(\"shControl\", \"shINTS6\", \"shINTS11\")) +\n",
    "    geom_boxplot(notch=TRUE,outlier.shape=NA, aes(hela, RPM)) +\n",
    "    scale_fill_manual(values=c(col_shgfp,  col_sh6, col_sh11), \n",
    "                limits=c(\"shControl\", \"shINTS6\", \"shINTS11\"))+\n",
    "    #geom_dotplot(binaxis = \"y\", stackdir = \"center\", position = \"dodge\", binwidth = 0.2, alpha=0.2)+\n",
    "    stat_summary(fun=mean, colour=\"black\", fill=\"white\", geom=\"point\", \n",
    "                     shape=21, size=5,show.legend = FALSE)\n",
    "\n",
    "plot_grid(box, box.c, ncol=2)"
   ]
  },
  {
   "cell_type": "code",
   "execution_count": 30,
   "metadata": {},
   "outputs": [
    {
     "data": {
      "text/html": [
       "<table>\n",
       "<caption>A data.frame: 6 × 4</caption>\n",
       "<thead>\n",
       "\t<tr><th></th><th scope=col>arm.name</th><th scope=col>time</th><th scope=col>RPM</th><th scope=col>hela</th></tr>\n",
       "\t<tr><th></th><th scope=col>&lt;chr&gt;</th><th scope=col>&lt;fct&gt;</th><th scope=col>&lt;dbl&gt;</th><th scope=col>&lt;chr&gt;</th></tr>\n",
       "</thead>\n",
       "<tbody>\n",
       "\t<tr><th scope=row>1</th><td>miR-23a-3p</td><td>24</td><td>8359.365</td><td>shControl</td></tr>\n",
       "\t<tr><th scope=row>2</th><td>miR-25-3p </td><td>24</td><td>6490.526</td><td>shControl</td></tr>\n",
       "\t<tr><th scope=row>3</th><td>let-7b-5p </td><td>24</td><td>5774.005</td><td>shControl</td></tr>\n",
       "\t<tr><th scope=row>4</th><td>miR-191-5p</td><td>24</td><td>2416.466</td><td>shControl</td></tr>\n",
       "\t<tr><th scope=row>5</th><td>miR-21-5p </td><td>24</td><td>2080.085</td><td>shControl</td></tr>\n",
       "\t<tr><th scope=row>6</th><td>miR-224-5p</td><td>24</td><td>1617.929</td><td>shControl</td></tr>\n",
       "</tbody>\n",
       "</table>\n"
      ],
      "text/latex": [
       "A data.frame: 6 × 4\n",
       "\\begin{tabular}{r|llll}\n",
       "  & arm.name & time & RPM & hela\\\\\n",
       "  & <chr> & <fct> & <dbl> & <chr>\\\\\n",
       "\\hline\n",
       "\t1 & miR-23a-3p & 24 & 8359.365 & shControl\\\\\n",
       "\t2 & miR-25-3p  & 24 & 6490.526 & shControl\\\\\n",
       "\t3 & let-7b-5p  & 24 & 5774.005 & shControl\\\\\n",
       "\t4 & miR-191-5p & 24 & 2416.466 & shControl\\\\\n",
       "\t5 & miR-21-5p  & 24 & 2080.085 & shControl\\\\\n",
       "\t6 & miR-224-5p & 24 & 1617.929 & shControl\\\\\n",
       "\\end{tabular}\n"
      ],
      "text/markdown": [
       "\n",
       "A data.frame: 6 × 4\n",
       "\n",
       "| <!--/--> | arm.name &lt;chr&gt; | time &lt;fct&gt; | RPM &lt;dbl&gt; | hela &lt;chr&gt; |\n",
       "|---|---|---|---|---|\n",
       "| 1 | miR-23a-3p | 24 | 8359.365 | shControl |\n",
       "| 2 | miR-25-3p  | 24 | 6490.526 | shControl |\n",
       "| 3 | let-7b-5p  | 24 | 5774.005 | shControl |\n",
       "| 4 | miR-191-5p | 24 | 2416.466 | shControl |\n",
       "| 5 | miR-21-5p  | 24 | 2080.085 | shControl |\n",
       "| 6 | miR-224-5p | 24 | 1617.929 | shControl |\n",
       "\n"
      ],
      "text/plain": [
       "  arm.name   time RPM      hela     \n",
       "1 miR-23a-3p 24   8359.365 shControl\n",
       "2 miR-25-3p  24   6490.526 shControl\n",
       "3 let-7b-5p  24   5774.005 shControl\n",
       "4 miR-191-5p 24   2416.466 shControl\n",
       "5 miR-21-5p  24   2080.085 shControl\n",
       "6 miR-224-5p 24   1617.929 shControl"
      ]
     },
     "metadata": {},
     "output_type": "display_data"
    }
   ],
   "source": [
    "head(fin)"
   ]
  },
  {
   "cell_type": "code",
   "execution_count": 31,
   "metadata": {},
   "outputs": [
    {
     "data": {
      "text/plain": [
       "             Df    Sum Sq Mean Sq F value Pr(>F)\n",
       "hela          2   2977354 1488677   2.182  0.114\n",
       "Residuals   363 247692609  682349               "
      ]
     },
     "metadata": {},
     "output_type": "display_data"
    },
    {
     "data": {
      "text/plain": [
       "  Tukey multiple comparisons of means\n",
       "    95% family-wise confidence level\n",
       "\n",
       "Fit: aov(formula = RPM ~ hela, data = fin)\n",
       "\n",
       "$hela\n",
       "                          diff       lwr       upr     p adj\n",
       "shINTS11-shControl -187.788519 -436.6903  61.11329 0.1792717\n",
       "shINTS6-shControl  -194.683218 -443.5850  54.21859 0.1578829\n",
       "shINTS6-shINTS11     -6.894699 -255.7965 242.00711 0.9976598\n"
      ]
     },
     "metadata": {},
     "output_type": "display_data"
    }
   ],
   "source": [
    "# Compute the analysis of variance\n",
    "res.aov <- aov(RPM ~ hela, data = fin)\n",
    "# Summary of the analysis\n",
    "summary(res.aov)\n",
    "\n",
    "TukeyHSD(res.aov)"
   ]
  },
  {
   "cell_type": "markdown",
   "metadata": {},
   "source": [
    "### plot as histogram"
   ]
  },
  {
   "cell_type": "code",
   "execution_count": 32,
   "metadata": {},
   "outputs": [],
   "source": [
    "## Gives count, mean, standard deviation, standard error of the mean, and confidence interval (default 95%).\n",
    "##   data: a data frame.\n",
    "##   measurevar: the name of a column that contains the variable to be summariezed\n",
    "##   groupvars: a vector containing names of columns that contain grouping variables\n",
    "##   na.rm: a boolean that indicates whether to ignore NA's\n",
    "##   conf.interval: the percent range of the confidence interval (default is 95%)\n",
    "##   http://www.cookbook-r.com/Graphs/Plotting_means_and_error_bars_(ggplot2)/#Helper functions\n",
    "##   \n",
    "summarySE <- function(data=NULL, measurevar, groupvars=NULL, na.rm=FALSE,\n",
    "                      conf.interval=.95, .drop=TRUE) {\n",
    "        library(plyr)\n",
    "        \n",
    "        # New version of length which can handle NA's: if na.rm==T, don't count them\n",
    "        length2 <- function (x, na.rm=FALSE) {\n",
    "                if (na.rm) sum(!is.na(x))\n",
    "                else       length(x)\n",
    "        }\n",
    "        \n",
    "        # This does the summary. For each group's data frame, return a vector with\n",
    "        # N, mean, and sd\n",
    "        datac <- ddply(data, groupvars, .drop=.drop,\n",
    "                       .fun = function(xx, col) {\n",
    "                               c(N    = length2(xx[[col]], na.rm=na.rm),\n",
    "                                 mean = mean   (xx[[col]], na.rm=na.rm),\n",
    "                                 sd   = sd     (xx[[col]], na.rm=na.rm)\n",
    "                               )\n",
    "                       },\n",
    "                       measurevar\n",
    "        )\n",
    "        \n",
    "        # Rename the \"mean\" column    \n",
    "        datac <- rename(datac, c(\"mean\" = measurevar))\n",
    "        \n",
    "        datac$se <- datac$sd / sqrt(datac$N)  # Calculate standard error of the mean\n",
    "        \n",
    "        # Confidence interval multiplier for standard error\n",
    "        # Calculate t-statistic for confidence interval: \n",
    "        # e.g., if conf.interval is .95, use .975 (above/below), and use df=N-1\n",
    "        ciMult <- qt(conf.interval/2 + .5, datac$N-1)\n",
    "        datac$ci <- datac$se * ciMult\n",
    "        \n",
    "        return(datac)\n",
    "}\n",
    "\n"
   ]
  },
  {
   "cell_type": "code",
   "execution_count": 33,
   "metadata": {},
   "outputs": [
    {
     "name": "stderr",
     "output_type": "stream",
     "text": [
      "------------------------------------------------------------------------------\n",
      "\n",
      "You have loaded plyr after dplyr - this is likely to cause problems.\n",
      "If you need functions from both plyr and dplyr, please load plyr first, then dplyr:\n",
      "library(plyr); library(dplyr)\n",
      "\n",
      "------------------------------------------------------------------------------\n",
      "\n",
      "\n",
      "Attaching package: ‘plyr’\n",
      "\n",
      "\n",
      "The following objects are masked from ‘package:dplyr’:\n",
      "\n",
      "    arrange, count, desc, failwith, id, mutate, rename, summarise,\n",
      "    summarize\n",
      "\n",
      "\n",
      "The following object is masked from ‘package:purrr’:\n",
      "\n",
      "    compact\n",
      "\n",
      "\n"
     ]
    }
   ],
   "source": [
    "hist <- summarySE(fin, measurevar=\"RPM\", groupvars=c(\"hela\"))\n",
    "hist.c <- summarySE(fin.c, measurevar=\"RPM\", groupvars=c(\"hela\"))"
   ]
  },
  {
   "cell_type": "code",
   "execution_count": 34,
   "metadata": {},
   "outputs": [
    {
     "data": {
      "image/png": "[encoded data removed]",
      "text/plain": [
       "plot without title"
      ]
     },
     "metadata": {
      "image/png": {
       "height": 600,
       "width": 1200
      },
      "text/plain": {
       "height": 600,
       "width": 1200
      }
     },
     "output_type": "display_data"
    }
   ],
   "source": [
    "options(repr.plot.width=20, repr.plot.height=10)\n",
    "\n",
    "h <- ggplot(data = hist, aes(x = hela, y=RPM)) +\n",
    "        theme_bw(base_size = 50) +\n",
    "        ggtitle(\"steady state\") +\n",
    "        theme(plot.title = element_text(hjust = '0.5')) +\n",
    "        theme(panel.grid.major = element_blank(), panel.grid.minor = element_blank(),\n",
    "              panel.background = element_blank(), panel.border = element_blank()) +\n",
    "        theme(axis.line = element_line(colour = \"black\", size = 0.5), \n",
    "              axis.title.x = element_blank(), axis.text.x = element_text(angle = 15, vjust = 1, hjust=1)) +\n",
    "        coord_cartesian(ylim=c(0, 600)) +\n",
    "        #xlab(\"s4U labeling time [h]\")+\n",
    "        ylab(\"miRNA [RPM]\")+\n",
    "        scale_x_discrete(limits=c(\"shControl\", \"shINTS6\", \"shINTS11\")) +\n",
    "        geom_col(fill=c(col_shgfp,  col_sh11,  col_sh6)) +\n",
    "        geom_errorbar(width=.15, aes(ymin=RPM-se, ymax=RPM+se), color=c(col_shgfp,   col_sh11, col_sh6))  \n",
    "        #geom_smooth(se=FALSE, method=\"lm\", data=gfp.mature[gfp.mature$time <=1,], lty=3, color=col_shgfp)+\n",
    "        #geom_smooth(se=FALSE, method=\"lm\", data=gfp.mature[gfp.mature$time >=1 & gfp.mature$time <= limit,], lty=5, color=col_shgfp) \n",
    "\n",
    "hc <- ggplot(data = hist.c, aes(x = hela, y=RPM)) +\n",
    "        theme_bw(base_size = 50) +\n",
    "        ggtitle(\"steady state [24h -s4U]\") +\n",
    "        theme(plot.title = element_text(hjust = '0.5')) +\n",
    "        theme(panel.grid.major = element_blank(), panel.grid.minor = element_blank(),\n",
    "              panel.background = element_blank(), panel.border = element_blank()) +\n",
    "        theme(axis.line = element_line(colour = \"black\", size = 0.5), \n",
    "              axis.title.x = element_blank(), axis.text.x = element_text(angle = 15, vjust = 1, hjust=1)) +\n",
    "        coord_cartesian(ylim=c(0, 600)) +\n",
    "        #xlab(\"s4U labeling time [h]\")+\n",
    "        #ylab(\"T>C miRNA [RPM]\")+\n",
    "        scale_x_discrete(limits=c(\"shControl\", \"shINTS6\", \"shINTS11\")) +\n",
    "        geom_col(fill=c(col_shgfp,  col_sh11,  col_sh6)) +\n",
    "        geom_errorbar(width=.15, aes(ymin=RPM-se, ymax=RPM+se), color=c(col_shgfp,  col_sh11,  col_sh6))  \n",
    "\n",
    "\n",
    "plot_grid(h, hc, ncol=2)"
   ]
  },
  {
   "cell_type": "markdown",
   "metadata": {},
   "source": [
    "# plot T>C reads [%]"
   ]
  },
  {
   "cell_type": "code",
   "execution_count": 35,
   "metadata": {},
   "outputs": [
    {
     "data": {
      "text/html": [
       "<table>\n",
       "<caption>A data.frame: 6 × 5</caption>\n",
       "<thead>\n",
       "\t<tr><th></th><th scope=col>sample</th><th scope=col>duplex</th><th scope=col>arm.name</th><th scope=col>0</th><th scope=col>24</th></tr>\n",
       "\t<tr><th></th><th scope=col>&lt;chr&gt;</th><th scope=col>&lt;chr&gt;</th><th scope=col>&lt;chr&gt;</th><th scope=col>&lt;dbl&gt;</th><th scope=col>&lt;dbl&gt;</th></tr>\n",
       "</thead>\n",
       "<tbody>\n",
       "\t<tr><th scope=row>1</th><td>shGFP</td><td>miR-23a</td><td>miR-23a-3p</td><td>0.04243961</td><td>4.187394</td></tr>\n",
       "\t<tr><th scope=row>2</th><td>shGFP</td><td>miR-25 </td><td>miR-25-3p </td><td>0.07329480</td><td>3.953737</td></tr>\n",
       "\t<tr><th scope=row>3</th><td>shGFP</td><td>let-7b </td><td>let-7b-5p </td><td>0.07601264</td><td>1.781687</td></tr>\n",
       "\t<tr><th scope=row>4</th><td>shGFP</td><td>miR-191</td><td>miR-191-5p</td><td>0.34194693</td><td>3.180324</td></tr>\n",
       "\t<tr><th scope=row>5</th><td>shGFP</td><td>miR-21 </td><td>miR-21-5p </td><td>0.08609213</td><td>5.854990</td></tr>\n",
       "\t<tr><th scope=row>6</th><td>shGFP</td><td>miR-224</td><td>miR-224-5p</td><td>0.05543669</td><td>5.474275</td></tr>\n",
       "</tbody>\n",
       "</table>\n"
      ],
      "text/latex": [
       "A data.frame: 6 × 5\n",
       "\\begin{tabular}{r|lllll}\n",
       "  & sample & duplex & arm.name & 0 & 24\\\\\n",
       "  & <chr> & <chr> & <chr> & <dbl> & <dbl>\\\\\n",
       "\\hline\n",
       "\t1 & shGFP & miR-23a & miR-23a-3p & 0.04243961 & 4.187394\\\\\n",
       "\t2 & shGFP & miR-25  & miR-25-3p  & 0.07329480 & 3.953737\\\\\n",
       "\t3 & shGFP & let-7b  & let-7b-5p  & 0.07601264 & 1.781687\\\\\n",
       "\t4 & shGFP & miR-191 & miR-191-5p & 0.34194693 & 3.180324\\\\\n",
       "\t5 & shGFP & miR-21  & miR-21-5p  & 0.08609213 & 5.854990\\\\\n",
       "\t6 & shGFP & miR-224 & miR-224-5p & 0.05543669 & 5.474275\\\\\n",
       "\\end{tabular}\n"
      ],
      "text/markdown": [
       "\n",
       "A data.frame: 6 × 5\n",
       "\n",
       "| <!--/--> | sample &lt;chr&gt; | duplex &lt;chr&gt; | arm.name &lt;chr&gt; | 0 &lt;dbl&gt; | 24 &lt;dbl&gt; |\n",
       "|---|---|---|---|---|---|\n",
       "| 1 | shGFP | miR-23a | miR-23a-3p | 0.04243961 | 4.187394 |\n",
       "| 2 | shGFP | miR-25  | miR-25-3p  | 0.07329480 | 3.953737 |\n",
       "| 3 | shGFP | let-7b  | let-7b-5p  | 0.07601264 | 1.781687 |\n",
       "| 4 | shGFP | miR-191 | miR-191-5p | 0.34194693 | 3.180324 |\n",
       "| 5 | shGFP | miR-21  | miR-21-5p  | 0.08609213 | 5.854990 |\n",
       "| 6 | shGFP | miR-224 | miR-224-5p | 0.05543669 | 5.474275 |\n",
       "\n"
      ],
      "text/plain": [
       "  sample duplex  arm.name   0          24      \n",
       "1 shGFP  miR-23a miR-23a-3p 0.04243961 4.187394\n",
       "2 shGFP  miR-25  miR-25-3p  0.07329480 3.953737\n",
       "3 shGFP  let-7b  let-7b-5p  0.07601264 1.781687\n",
       "4 shGFP  miR-191 miR-191-5p 0.34194693 3.180324\n",
       "5 shGFP  miR-21  miR-21-5p  0.08609213 5.854990\n",
       "6 shGFP  miR-224 miR-224-5p 0.05543669 5.474275"
      ]
     },
     "metadata": {},
     "output_type": "display_data"
    },
    {
     "data": {
      "text/html": [
       "203"
      ],
      "text/latex": [
       "203"
      ],
      "text/markdown": [
       "203"
      ],
      "text/plain": [
       "[1] 203"
      ]
     },
     "metadata": {},
     "output_type": "display_data"
    },
    {
     "data": {
      "text/html": [
       "208"
      ],
      "text/latex": [
       "208"
      ],
      "text/markdown": [
       "208"
      ],
      "text/plain": [
       "[1] 208"
      ]
     },
     "metadata": {},
     "output_type": "display_data"
    },
    {
     "data": {
      "text/html": [
       "206"
      ],
      "text/latex": [
       "206"
      ],
      "text/markdown": [
       "206"
      ],
      "text/plain": [
       "[1] 206"
      ]
     },
     "metadata": {},
     "output_type": "display_data"
    }
   ],
   "source": [
    "timecourse.gfp.tc <-\n",
    "    timecourse.gfp %>%\n",
    "    mutate(sample = \"shGFP\") %>%\n",
    "    select(-c(totalReads, average.ppm, avg.tc.ppm)) %>%\n",
    "    spread(time, avg.tc.pct) %>%\n",
    "    select(-c(\"flybase_id\", \"start.pos\", \"UCount\", \"seed\", \"mir.type\")) %>%\n",
    "    select(c(sample, duplex, arm.name, everything()))\n",
    "\n",
    "\n",
    "head(timecourse.gfp.tc)\n",
    "nrow(timecourse.gfp.tc)\n",
    "\n",
    "\n",
    "timecourse.6.tc <-\n",
    "    timecourse.6 %>%\n",
    "    mutate(sample = \"shINTS6\") %>%\n",
    "    select(-c(totalReads, average.ppm, avg.tc.ppm)) %>%\n",
    "    spread(time, avg.tc.pct) %>%\n",
    "    select(-c(\"flybase_id\", \"start.pos\", \"UCount\", \"seed\", \"mir.type\")) %>%\n",
    "    select(c(sample, duplex, arm.name, everything()))\n",
    "\n",
    "nrow(timecourse.6.tc)\n",
    "\n",
    "\n",
    "\n",
    "timecourse.11.tc <-\n",
    "    timecourse.11 %>%\n",
    "    mutate(sample = \"shINTS11\") %>%\n",
    "    select(-c(totalReads, average.ppm, avg.tc.ppm)) %>%\n",
    "    spread(time, avg.tc.pct) %>%\n",
    "    select(-c(\"flybase_id\", \"start.pos\", \"UCount\", \"seed\", \"mir.type\")) %>%\n",
    "    select(c(sample, duplex, arm.name, everything()))\n",
    "\n",
    "nrow(timecourse.11.tc)\n",
    "\n"
   ]
  },
  {
   "cell_type": "code",
   "execution_count": 36,
   "metadata": {},
   "outputs": [
    {
     "data": {
      "text/html": [
       "<table>\n",
       "<caption>A data.frame: 6 × 5</caption>\n",
       "<thead>\n",
       "\t<tr><th></th><th scope=col>sample</th><th scope=col>duplex</th><th scope=col>arm.name</th><th scope=col>0</th><th scope=col>24</th></tr>\n",
       "\t<tr><th></th><th scope=col>&lt;chr&gt;</th><th scope=col>&lt;chr&gt;</th><th scope=col>&lt;chr&gt;</th><th scope=col>&lt;dbl&gt;</th><th scope=col>&lt;dbl&gt;</th></tr>\n",
       "</thead>\n",
       "<tbody>\n",
       "\t<tr><th scope=row>1</th><td>shGFP</td><td>miR-23a</td><td>miR-23a-3p</td><td>0.04243961</td><td>0.04430178</td></tr>\n",
       "\t<tr><th scope=row>2</th><td>shGFP</td><td>miR-25 </td><td>miR-25-3p </td><td>0.07329480</td><td>0.07747053</td></tr>\n",
       "\t<tr><th scope=row>3</th><td>shGFP</td><td>let-7b </td><td>let-7b-5p </td><td>0.07601264</td><td>0.08300693</td></tr>\n",
       "\t<tr><th scope=row>4</th><td>shGFP</td><td>miR-191</td><td>miR-191-5p</td><td>0.34194693</td><td>0.34969738</td></tr>\n",
       "\t<tr><th scope=row>5</th><td>shGFP</td><td>miR-21 </td><td>miR-21-5p </td><td>0.08609213</td><td>0.07062436</td></tr>\n",
       "\t<tr><th scope=row>6</th><td>shGFP</td><td>miR-93 </td><td>miR-93-5p </td><td>0.06252878</td><td>0.04559418</td></tr>\n",
       "</tbody>\n",
       "</table>\n"
      ],
      "text/latex": [
       "A data.frame: 6 × 5\n",
       "\\begin{tabular}{r|lllll}\n",
       "  & sample & duplex & arm.name & 0 & 24\\\\\n",
       "  & <chr> & <chr> & <chr> & <dbl> & <dbl>\\\\\n",
       "\\hline\n",
       "\t1 & shGFP & miR-23a & miR-23a-3p & 0.04243961 & 0.04430178\\\\\n",
       "\t2 & shGFP & miR-25  & miR-25-3p  & 0.07329480 & 0.07747053\\\\\n",
       "\t3 & shGFP & let-7b  & let-7b-5p  & 0.07601264 & 0.08300693\\\\\n",
       "\t4 & shGFP & miR-191 & miR-191-5p & 0.34194693 & 0.34969738\\\\\n",
       "\t5 & shGFP & miR-21  & miR-21-5p  & 0.08609213 & 0.07062436\\\\\n",
       "\t6 & shGFP & miR-93  & miR-93-5p  & 0.06252878 & 0.04559418\\\\\n",
       "\\end{tabular}\n"
      ],
      "text/markdown": [
       "\n",
       "A data.frame: 6 × 5\n",
       "\n",
       "| <!--/--> | sample &lt;chr&gt; | duplex &lt;chr&gt; | arm.name &lt;chr&gt; | 0 &lt;dbl&gt; | 24 &lt;dbl&gt; |\n",
       "|---|---|---|---|---|---|\n",
       "| 1 | shGFP | miR-23a | miR-23a-3p | 0.04243961 | 0.04430178 |\n",
       "| 2 | shGFP | miR-25  | miR-25-3p  | 0.07329480 | 0.07747053 |\n",
       "| 3 | shGFP | let-7b  | let-7b-5p  | 0.07601264 | 0.08300693 |\n",
       "| 4 | shGFP | miR-191 | miR-191-5p | 0.34194693 | 0.34969738 |\n",
       "| 5 | shGFP | miR-21  | miR-21-5p  | 0.08609213 | 0.07062436 |\n",
       "| 6 | shGFP | miR-93  | miR-93-5p  | 0.06252878 | 0.04559418 |\n",
       "\n"
      ],
      "text/plain": [
       "  sample duplex  arm.name   0          24        \n",
       "1 shGFP  miR-23a miR-23a-3p 0.04243961 0.04430178\n",
       "2 shGFP  miR-25  miR-25-3p  0.07329480 0.07747053\n",
       "3 shGFP  let-7b  let-7b-5p  0.07601264 0.08300693\n",
       "4 shGFP  miR-191 miR-191-5p 0.34194693 0.34969738\n",
       "5 shGFP  miR-21  miR-21-5p  0.08609213 0.07062436\n",
       "6 shGFP  miR-93  miR-93-5p  0.06252878 0.04559418"
      ]
     },
     "metadata": {},
     "output_type": "display_data"
    },
    {
     "data": {
      "text/html": [
       "209"
      ],
      "text/latex": [
       "209"
      ],
      "text/markdown": [
       "209"
      ],
      "text/plain": [
       "[1] 209"
      ]
     },
     "metadata": {},
     "output_type": "display_data"
    },
    {
     "data": {
      "text/html": [
       "208"
      ],
      "text/latex": [
       "208"
      ],
      "text/markdown": [
       "208"
      ],
      "text/plain": [
       "[1] 208"
      ]
     },
     "metadata": {},
     "output_type": "display_data"
    },
    {
     "data": {
      "text/html": [
       "205"
      ],
      "text/latex": [
       "205"
      ],
      "text/markdown": [
       "205"
      ],
      "text/plain": [
       "[1] 205"
      ]
     },
     "metadata": {},
     "output_type": "display_data"
    }
   ],
   "source": [
    "# control\n",
    "control.gfp.tc <-\n",
    "    control.gfp %>%\n",
    "    mutate(sample = \"shGFP\") %>%\n",
    "    select(-c(totalReads, average.ppm, avg.tc.ppm)) %>%\n",
    "    spread(time, avg.tc.pct) %>%\n",
    "    select(-c(\"flybase_id\", \"start.pos\", \"UCount\", \"seed\", \"mir.type\")) %>%\n",
    "    select(c(sample, duplex, arm.name, everything()))\n",
    "\n",
    "\n",
    "head(control.gfp.tc)\n",
    "nrow(control.gfp.tc)\n",
    "\n",
    "\n",
    "control.6.tc <-\n",
    "    control.6 %>%\n",
    "    mutate(sample = \"shINTS6\") %>%\n",
    "    select(-c(totalReads, average.ppm, avg.tc.ppm)) %>%\n",
    "    spread(time, avg.tc.pct) %>%\n",
    "    select(-c(\"flybase_id\", \"start.pos\", \"UCount\", \"seed\", \"mir.type\")) %>%\n",
    "    select(c(sample, duplex, arm.name, everything()))\n",
    "\n",
    "nrow(control.6.tc)\n",
    "\n",
    "\n",
    "\n",
    "control.11.tc <-\n",
    "    control.11 %>%\n",
    "    mutate(sample = \"shINTS11\") %>%\n",
    "    select(-c(totalReads, average.ppm, avg.tc.ppm)) %>%\n",
    "    spread(time, avg.tc.pct) %>%\n",
    "    select(-c(\"flybase_id\", \"start.pos\", \"UCount\", \"seed\", \"mir.type\")) %>%\n",
    "    select(c(sample, duplex, arm.name, everything()))\n",
    "\n",
    "nrow(control.11.tc)\n",
    "\n"
   ]
  },
  {
   "cell_type": "code",
   "execution_count": 37,
   "metadata": {},
   "outputs": [
    {
     "data": {
      "text/html": [
       "<table>\n",
       "<caption>A data.frame: 6 × 3</caption>\n",
       "<thead>\n",
       "\t<tr><th></th><th scope=col>arm.name</th><th scope=col>0</th><th scope=col>24</th></tr>\n",
       "\t<tr><th></th><th scope=col>&lt;chr&gt;</th><th scope=col>&lt;dbl&gt;</th><th scope=col>&lt;dbl&gt;</th></tr>\n",
       "</thead>\n",
       "<tbody>\n",
       "\t<tr><th scope=row>1</th><td>miR-23a-3p</td><td>0</td><td>4.144955</td></tr>\n",
       "\t<tr><th scope=row>2</th><td>miR-25-3p </td><td>0</td><td>3.880442</td></tr>\n",
       "\t<tr><th scope=row>3</th><td>let-7b-5p </td><td>0</td><td>1.705675</td></tr>\n",
       "\t<tr><th scope=row>4</th><td>miR-191-5p</td><td>0</td><td>2.838377</td></tr>\n",
       "\t<tr><th scope=row>5</th><td>miR-21-5p </td><td>0</td><td>5.768897</td></tr>\n",
       "\t<tr><th scope=row>6</th><td>miR-224-5p</td><td>0</td><td>5.418838</td></tr>\n",
       "</tbody>\n",
       "</table>\n"
      ],
      "text/latex": [
       "A data.frame: 6 × 3\n",
       "\\begin{tabular}{r|lll}\n",
       "  & arm.name & 0 & 24\\\\\n",
       "  & <chr> & <dbl> & <dbl>\\\\\n",
       "\\hline\n",
       "\t1 & miR-23a-3p & 0 & 4.144955\\\\\n",
       "\t2 & miR-25-3p  & 0 & 3.880442\\\\\n",
       "\t3 & let-7b-5p  & 0 & 1.705675\\\\\n",
       "\t4 & miR-191-5p & 0 & 2.838377\\\\\n",
       "\t5 & miR-21-5p  & 0 & 5.768897\\\\\n",
       "\t6 & miR-224-5p & 0 & 5.418838\\\\\n",
       "\\end{tabular}\n"
      ],
      "text/markdown": [
       "\n",
       "A data.frame: 6 × 3\n",
       "\n",
       "| <!--/--> | arm.name &lt;chr&gt; | 0 &lt;dbl&gt; | 24 &lt;dbl&gt; |\n",
       "|---|---|---|---|\n",
       "| 1 | miR-23a-3p | 0 | 4.144955 |\n",
       "| 2 | miR-25-3p  | 0 | 3.880442 |\n",
       "| 3 | let-7b-5p  | 0 | 1.705675 |\n",
       "| 4 | miR-191-5p | 0 | 2.838377 |\n",
       "| 5 | miR-21-5p  | 0 | 5.768897 |\n",
       "| 6 | miR-224-5p | 0 | 5.418838 |\n",
       "\n"
      ],
      "text/plain": [
       "  arm.name   0 24      \n",
       "1 miR-23a-3p 0 4.144955\n",
       "2 miR-25-3p  0 3.880442\n",
       "3 let-7b-5p  0 1.705675\n",
       "4 miR-191-5p 0 2.838377\n",
       "5 miR-21-5p  0 5.768897\n",
       "6 miR-224-5p 0 5.418838"
      ]
     },
     "metadata": {},
     "output_type": "display_data"
    },
    {
     "data": {
      "text/html": [
       "203"
      ],
      "text/latex": [
       "203"
      ],
      "text/markdown": [
       "203"
      ],
      "text/plain": [
       "[1] 203"
      ]
     },
     "metadata": {},
     "output_type": "display_data"
    },
    {
     "data": {
      "text/html": [
       "208"
      ],
      "text/latex": [
       "208"
      ],
      "text/markdown": [
       "208"
      ],
      "text/plain": [
       "[1] 208"
      ]
     },
     "metadata": {},
     "output_type": "display_data"
    },
    {
     "data": {
      "text/html": [
       "206"
      ],
      "text/latex": [
       "206"
      ],
      "text/markdown": [
       "206"
      ],
      "text/plain": [
       "[1] 206"
      ]
     },
     "metadata": {},
     "output_type": "display_data"
    }
   ],
   "source": [
    "# timecourse\n",
    "\n",
    "time.gfp.tc <- as.data.frame(timecourse.gfp.tc[,-c(1,2)]) # remove sample name and miR duplex\n",
    "#rownames(time.gfp.tc) <- time.gfp.tc$arm.name\n",
    "#time.gfp.tc <- as.matrix(time.gfp.tc[,-1]) # remove arm.name\n",
    "time.gfp.tc <- cbind.data.frame(time.gfp.tc$arm.name, (time.gfp.tc[2:3]-time.gfp.tc[,2])) #normalize ppm by timepoint 0\n",
    "time.gfp.tc[time.gfp.tc<0] <- 0\n",
    "colnames(time.gfp.tc)[1] <- \"arm.name\"\n",
    "head(time.gfp.tc)\n",
    "nrow(time.gfp.tc)\n",
    "\n",
    "\n",
    "\n",
    "\n",
    "time.6.tc <- as.data.frame(timecourse.6.tc[,-c(1,2)])\n",
    "#rownames(time.6.tc) <- time.6.tc$arm.name\n",
    "#time.6.tc <- as.matrix(time.6.tc[,-1])\n",
    "time.6.tc <- cbind.data.frame(time.6.tc$arm.name, (time.6.tc[2:3]-time.6.tc[,2])) #normalize ppm by timepoint 0\n",
    "time.6.tc[time.6.tc<0] <- 0\n",
    "colnames(time.6.tc)[1] <- \"arm.name\"\n",
    "#head(time.6.tc)\n",
    "nrow(time.6.tc)\n",
    "\n",
    "\n",
    "\n",
    "\n",
    "time.11.tc <- as.data.frame(timecourse.11.tc[,-c(1,2)])\n",
    "#rownames(time.11.tc) <- time.11.tc$arm.name\n",
    "#time.11.tc <- as.matrix(time.11.tc[,-1])\n",
    "time.11.tc <- cbind.data.frame(time.11.tc$arm.name, (time.11.tc[2:3]-time.11.tc[,2])) #normalize ppm by timepoint 0\n",
    "time.11.tc[time.11.tc<0] <- 0\n",
    "colnames(time.11.tc)[1] <- \"arm.name\"\n",
    "#head(time.11.tc)\n",
    "nrow(time.11.tc)\n",
    "\n"
   ]
  },
  {
   "cell_type": "code",
   "execution_count": 38,
   "metadata": {},
   "outputs": [
    {
     "data": {
      "text/html": [
       "<table>\n",
       "<caption>A data.frame: 6 × 5</caption>\n",
       "<thead>\n",
       "\t<tr><th></th><th scope=col>sample</th><th scope=col>duplex</th><th scope=col>arm.name</th><th scope=col>0</th><th scope=col>24</th></tr>\n",
       "\t<tr><th></th><th scope=col>&lt;chr&gt;</th><th scope=col>&lt;chr&gt;</th><th scope=col>&lt;chr&gt;</th><th scope=col>&lt;dbl&gt;</th><th scope=col>&lt;dbl&gt;</th></tr>\n",
       "</thead>\n",
       "<tbody>\n",
       "\t<tr><th scope=row>1</th><td>shGFP</td><td>miR-23a</td><td>miR-23a-3p</td><td>0.04243961</td><td>0.04430178</td></tr>\n",
       "\t<tr><th scope=row>2</th><td>shGFP</td><td>miR-25 </td><td>miR-25-3p </td><td>0.07329480</td><td>0.07747053</td></tr>\n",
       "\t<tr><th scope=row>3</th><td>shGFP</td><td>let-7b </td><td>let-7b-5p </td><td>0.07601264</td><td>0.08300693</td></tr>\n",
       "\t<tr><th scope=row>4</th><td>shGFP</td><td>miR-191</td><td>miR-191-5p</td><td>0.34194693</td><td>0.34969738</td></tr>\n",
       "\t<tr><th scope=row>5</th><td>shGFP</td><td>miR-21 </td><td>miR-21-5p </td><td>0.08609213</td><td>0.07062436</td></tr>\n",
       "\t<tr><th scope=row>6</th><td>shGFP</td><td>miR-93 </td><td>miR-93-5p </td><td>0.06252878</td><td>0.04559418</td></tr>\n",
       "</tbody>\n",
       "</table>\n"
      ],
      "text/latex": [
       "A data.frame: 6 × 5\n",
       "\\begin{tabular}{r|lllll}\n",
       "  & sample & duplex & arm.name & 0 & 24\\\\\n",
       "  & <chr> & <chr> & <chr> & <dbl> & <dbl>\\\\\n",
       "\\hline\n",
       "\t1 & shGFP & miR-23a & miR-23a-3p & 0.04243961 & 0.04430178\\\\\n",
       "\t2 & shGFP & miR-25  & miR-25-3p  & 0.07329480 & 0.07747053\\\\\n",
       "\t3 & shGFP & let-7b  & let-7b-5p  & 0.07601264 & 0.08300693\\\\\n",
       "\t4 & shGFP & miR-191 & miR-191-5p & 0.34194693 & 0.34969738\\\\\n",
       "\t5 & shGFP & miR-21  & miR-21-5p  & 0.08609213 & 0.07062436\\\\\n",
       "\t6 & shGFP & miR-93  & miR-93-5p  & 0.06252878 & 0.04559418\\\\\n",
       "\\end{tabular}\n"
      ],
      "text/markdown": [
       "\n",
       "A data.frame: 6 × 5\n",
       "\n",
       "| <!--/--> | sample &lt;chr&gt; | duplex &lt;chr&gt; | arm.name &lt;chr&gt; | 0 &lt;dbl&gt; | 24 &lt;dbl&gt; |\n",
       "|---|---|---|---|---|---|\n",
       "| 1 | shGFP | miR-23a | miR-23a-3p | 0.04243961 | 0.04430178 |\n",
       "| 2 | shGFP | miR-25  | miR-25-3p  | 0.07329480 | 0.07747053 |\n",
       "| 3 | shGFP | let-7b  | let-7b-5p  | 0.07601264 | 0.08300693 |\n",
       "| 4 | shGFP | miR-191 | miR-191-5p | 0.34194693 | 0.34969738 |\n",
       "| 5 | shGFP | miR-21  | miR-21-5p  | 0.08609213 | 0.07062436 |\n",
       "| 6 | shGFP | miR-93  | miR-93-5p  | 0.06252878 | 0.04559418 |\n",
       "\n"
      ],
      "text/plain": [
       "  sample duplex  arm.name   0          24        \n",
       "1 shGFP  miR-23a miR-23a-3p 0.04243961 0.04430178\n",
       "2 shGFP  miR-25  miR-25-3p  0.07329480 0.07747053\n",
       "3 shGFP  let-7b  let-7b-5p  0.07601264 0.08300693\n",
       "4 shGFP  miR-191 miR-191-5p 0.34194693 0.34969738\n",
       "5 shGFP  miR-21  miR-21-5p  0.08609213 0.07062436\n",
       "6 shGFP  miR-93  miR-93-5p  0.06252878 0.04559418"
      ]
     },
     "metadata": {},
     "output_type": "display_data"
    }
   ],
   "source": [
    "head(control.gfp.tc)"
   ]
  },
  {
   "cell_type": "code",
   "execution_count": 39,
   "metadata": {},
   "outputs": [
    {
     "data": {
      "text/html": [
       "<table>\n",
       "<caption>A data.frame: 6 × 3</caption>\n",
       "<thead>\n",
       "\t<tr><th></th><th scope=col>arm.name</th><th scope=col>0</th><th scope=col>24</th></tr>\n",
       "\t<tr><th></th><th scope=col>&lt;chr&gt;</th><th scope=col>&lt;dbl&gt;</th><th scope=col>&lt;dbl&gt;</th></tr>\n",
       "</thead>\n",
       "<tbody>\n",
       "\t<tr><th scope=row>1</th><td>miR-23a-3p</td><td>0</td><td>0.001862165</td></tr>\n",
       "\t<tr><th scope=row>2</th><td>miR-25-3p </td><td>0</td><td>0.004175733</td></tr>\n",
       "\t<tr><th scope=row>3</th><td>let-7b-5p </td><td>0</td><td>0.006994288</td></tr>\n",
       "\t<tr><th scope=row>4</th><td>miR-191-5p</td><td>0</td><td>0.007750444</td></tr>\n",
       "\t<tr><th scope=row>5</th><td>miR-21-5p </td><td>0</td><td>0.000000000</td></tr>\n",
       "\t<tr><th scope=row>6</th><td>miR-93-5p </td><td>0</td><td>0.000000000</td></tr>\n",
       "</tbody>\n",
       "</table>\n"
      ],
      "text/latex": [
       "A data.frame: 6 × 3\n",
       "\\begin{tabular}{r|lll}\n",
       "  & arm.name & 0 & 24\\\\\n",
       "  & <chr> & <dbl> & <dbl>\\\\\n",
       "\\hline\n",
       "\t1 & miR-23a-3p & 0 & 0.001862165\\\\\n",
       "\t2 & miR-25-3p  & 0 & 0.004175733\\\\\n",
       "\t3 & let-7b-5p  & 0 & 0.006994288\\\\\n",
       "\t4 & miR-191-5p & 0 & 0.007750444\\\\\n",
       "\t5 & miR-21-5p  & 0 & 0.000000000\\\\\n",
       "\t6 & miR-93-5p  & 0 & 0.000000000\\\\\n",
       "\\end{tabular}\n"
      ],
      "text/markdown": [
       "\n",
       "A data.frame: 6 × 3\n",
       "\n",
       "| <!--/--> | arm.name &lt;chr&gt; | 0 &lt;dbl&gt; | 24 &lt;dbl&gt; |\n",
       "|---|---|---|---|\n",
       "| 1 | miR-23a-3p | 0 | 0.001862165 |\n",
       "| 2 | miR-25-3p  | 0 | 0.004175733 |\n",
       "| 3 | let-7b-5p  | 0 | 0.006994288 |\n",
       "| 4 | miR-191-5p | 0 | 0.007750444 |\n",
       "| 5 | miR-21-5p  | 0 | 0.000000000 |\n",
       "| 6 | miR-93-5p  | 0 | 0.000000000 |\n",
       "\n"
      ],
      "text/plain": [
       "  arm.name   0 24         \n",
       "1 miR-23a-3p 0 0.001862165\n",
       "2 miR-25-3p  0 0.004175733\n",
       "3 let-7b-5p  0 0.006994288\n",
       "4 miR-191-5p 0 0.007750444\n",
       "5 miR-21-5p  0 0.000000000\n",
       "6 miR-93-5p  0 0.000000000"
      ]
     },
     "metadata": {},
     "output_type": "display_data"
    },
    {
     "data": {
      "text/html": [
       "209"
      ],
      "text/latex": [
       "209"
      ],
      "text/markdown": [
       "209"
      ],
      "text/plain": [
       "[1] 209"
      ]
     },
     "metadata": {},
     "output_type": "display_data"
    },
    {
     "data": {
      "text/html": [
       "208"
      ],
      "text/latex": [
       "208"
      ],
      "text/markdown": [
       "208"
      ],
      "text/plain": [
       "[1] 208"
      ]
     },
     "metadata": {},
     "output_type": "display_data"
    },
    {
     "data": {
      "text/html": [
       "205"
      ],
      "text/latex": [
       "205"
      ],
      "text/markdown": [
       "205"
      ],
      "text/plain": [
       "[1] 205"
      ]
     },
     "metadata": {},
     "output_type": "display_data"
    }
   ],
   "source": [
    "# control\n",
    "\n",
    "ctrl.gfp.tc <- as.data.frame(control.gfp.tc[,-c(1,2)]) # remove sample name and miR duplex\n",
    "#rownames(ctrl.gfp.tc) <- ctrl.gfp.tc$arm.name\n",
    "#ctrl.gfp.tc <- as.matrix(ctrl.gfp.tc[,-1]) # remove arm.name\n",
    "ctrl.gfp.tc <- cbind.data.frame(ctrl.gfp.tc$arm.name, (ctrl.gfp.tc[2:3]-ctrl.gfp.tc[,2])) #normalize ppm by timepoint 0\n",
    "ctrl.gfp.tc[ctrl.gfp.tc<0] <- 0\n",
    "colnames(ctrl.gfp.tc)[1] <- \"arm.name\"\n",
    "head(ctrl.gfp.tc)\n",
    "nrow(ctrl.gfp.tc)\n",
    "\n",
    "\n",
    "\n",
    "\n",
    "ctrl.6.tc <- as.data.frame(control.6.tc[,-c(1,2)])\n",
    "#rownames(ctrl.6.tc) <- ctrl.6.tc$arm.name\n",
    "#ctrl.6.tc <- as.matrix(ctrl.6.tc[,-1])\n",
    "ctrl.6.tc <- cbind.data.frame(ctrl.6.tc$arm.name, (ctrl.6.tc[2:3]-ctrl.6.tc[,2])) #normalize ppm by timepoint 0\n",
    "ctrl.6.tc[ctrl.6.tc<0] <- 0\n",
    "colnames(ctrl.6.tc)[1] <- \"arm.name\"\n",
    "#head(ctrl.6.tc)\n",
    "nrow(ctrl.6.tc)\n",
    "\n",
    "\n",
    "\n",
    "\n",
    "ctrl.11.tc <- as.data.frame(control.11.tc[,-c(1,2)])\n",
    "#rownames(ctrl.11.tc) <- ctrl.11.tc$arm.name\n",
    "#ctrl.11.tc <- as.matrix(ctrl.11.tc[,-1])\n",
    "ctrl.11.tc <- cbind.data.frame(ctrl.11.tc$arm.name, (ctrl.11.tc[2:3]-ctrl.11.tc[,2])) #normalize ppm by timepoint 0\n",
    "ctrl.11.tc[ctrl.11.tc<0] <- 0\n",
    "colnames(ctrl.11.tc)[1] <- \"arm.name\"\n",
    "#head(ctrl.11.tc)\n",
    "nrow(ctrl.11.tc)\n",
    "\n"
   ]
  },
  {
   "cell_type": "code",
   "execution_count": 40,
   "metadata": {},
   "outputs": [
    {
     "data": {
      "text/html": [
       "<style>\n",
       ".list-inline {list-style: none; margin:0; padding: 0}\n",
       ".list-inline>li {display: inline-block}\n",
       ".list-inline>li:not(:last-child)::after {content: \"\\00b7\"; padding: 0 .5ex}\n",
       "</style>\n",
       "<ol class=list-inline><li>'miR-25-3p'</li><li>'let-7i-5p'</li><li>'let-7d-5p'</li><li>'miR-93-5p'</li><li>'miR-191-5p'</li><li>'miR-17-5p'</li></ol>\n"
      ],
      "text/latex": [
       "\\begin{enumerate*}\n",
       "\\item 'miR-25-3p'\n",
       "\\item 'let-7i-5p'\n",
       "\\item 'let-7d-5p'\n",
       "\\item 'miR-93-5p'\n",
       "\\item 'miR-191-5p'\n",
       "\\item 'miR-17-5p'\n",
       "\\end{enumerate*}\n"
      ],
      "text/markdown": [
       "1. 'miR-25-3p'\n",
       "2. 'let-7i-5p'\n",
       "3. 'let-7d-5p'\n",
       "4. 'miR-93-5p'\n",
       "5. 'miR-191-5p'\n",
       "6. 'miR-17-5p'\n",
       "\n",
       "\n"
      ],
      "text/plain": [
       "[1] \"miR-25-3p\"  \"let-7i-5p\"  \"let-7d-5p\"  \"miR-93-5p\"  \"miR-191-5p\"\n",
       "[6] \"miR-17-5p\" "
      ]
     },
     "metadata": {},
     "output_type": "display_data"
    },
    {
     "data": {
      "text/html": [
       "126"
      ],
      "text/latex": [
       "126"
      ],
      "text/markdown": [
       "126"
      ],
      "text/plain": [
       "[1] 126"
      ]
     },
     "metadata": {},
     "output_type": "display_data"
    }
   ],
   "source": [
    "#toMatch <- rownames(time.gfp.tc)\n",
    "head(toMatch)\n",
    "length(toMatch)"
   ]
  },
  {
   "cell_type": "code",
   "execution_count": 41,
   "metadata": {},
   "outputs": [
    {
     "data": {
      "text/html": [
       "<table>\n",
       "<caption>A data.frame: 6 × 2</caption>\n",
       "<thead>\n",
       "\t<tr><th></th><th scope=col>arm.name</th><th scope=col>24</th></tr>\n",
       "\t<tr><th></th><th scope=col>&lt;chr&gt;</th><th scope=col>&lt;dbl&gt;</th></tr>\n",
       "</thead>\n",
       "<tbody>\n",
       "\t<tr><th scope=row>1</th><td>miR-23a-3p</td><td>4.144955</td></tr>\n",
       "\t<tr><th scope=row>2</th><td>miR-25-3p </td><td>3.880442</td></tr>\n",
       "\t<tr><th scope=row>3</th><td>let-7b-5p </td><td>1.705675</td></tr>\n",
       "\t<tr><th scope=row>4</th><td>miR-191-5p</td><td>2.838377</td></tr>\n",
       "\t<tr><th scope=row>5</th><td>miR-21-5p </td><td>5.768897</td></tr>\n",
       "\t<tr><th scope=row>6</th><td>miR-224-5p</td><td>5.418838</td></tr>\n",
       "</tbody>\n",
       "</table>\n"
      ],
      "text/latex": [
       "A data.frame: 6 × 2\n",
       "\\begin{tabular}{r|ll}\n",
       "  & arm.name & 24\\\\\n",
       "  & <chr> & <dbl>\\\\\n",
       "\\hline\n",
       "\t1 & miR-23a-3p & 4.144955\\\\\n",
       "\t2 & miR-25-3p  & 3.880442\\\\\n",
       "\t3 & let-7b-5p  & 1.705675\\\\\n",
       "\t4 & miR-191-5p & 2.838377\\\\\n",
       "\t5 & miR-21-5p  & 5.768897\\\\\n",
       "\t6 & miR-224-5p & 5.418838\\\\\n",
       "\\end{tabular}\n"
      ],
      "text/markdown": [
       "\n",
       "A data.frame: 6 × 2\n",
       "\n",
       "| <!--/--> | arm.name &lt;chr&gt; | 24 &lt;dbl&gt; |\n",
       "|---|---|---|\n",
       "| 1 | miR-23a-3p | 4.144955 |\n",
       "| 2 | miR-25-3p  | 3.880442 |\n",
       "| 3 | let-7b-5p  | 1.705675 |\n",
       "| 4 | miR-191-5p | 2.838377 |\n",
       "| 5 | miR-21-5p  | 5.768897 |\n",
       "| 6 | miR-224-5p | 5.418838 |\n",
       "\n"
      ],
      "text/plain": [
       "  arm.name   24      \n",
       "1 miR-23a-3p 4.144955\n",
       "2 miR-25-3p  3.880442\n",
       "3 let-7b-5p  1.705675\n",
       "4 miR-191-5p 2.838377\n",
       "5 miR-21-5p  5.768897\n",
       "6 miR-224-5p 5.418838"
      ]
     },
     "metadata": {},
     "output_type": "display_data"
    }
   ],
   "source": [
    "# timecourse\n",
    "match.gfp.tc <- time.gfp.tc[grepl(paste0(toMatch, collapse = \"|\"),time.gfp.tc$arm.name),-2] \n",
    "match.6.tc <- time.6.tc[match(match.gfp.tc$arm.name,time.6.tc$arm.name),-2] \n",
    "match.11.tc <- time.11.tc[match(match.gfp.tc$arm.name,time.11.tc$arm.name),-2] \n",
    "\n",
    "head(match.gfp.tc)\n"
   ]
  },
  {
   "cell_type": "code",
   "execution_count": 42,
   "metadata": {},
   "outputs": [
    {
     "data": {
      "text/html": [
       "<table>\n",
       "<caption>A data.frame: 6 × 2</caption>\n",
       "<thead>\n",
       "\t<tr><th></th><th scope=col>arm.name</th><th scope=col>24</th></tr>\n",
       "\t<tr><th></th><th scope=col>&lt;chr&gt;</th><th scope=col>&lt;dbl&gt;</th></tr>\n",
       "</thead>\n",
       "<tbody>\n",
       "\t<tr><th scope=row>1</th><td>miR-23a-3p</td><td>0.001862165</td></tr>\n",
       "\t<tr><th scope=row>2</th><td>miR-25-3p </td><td>0.004175733</td></tr>\n",
       "\t<tr><th scope=row>3</th><td>let-7b-5p </td><td>0.006994288</td></tr>\n",
       "\t<tr><th scope=row>4</th><td>miR-191-5p</td><td>0.007750444</td></tr>\n",
       "\t<tr><th scope=row>5</th><td>miR-21-5p </td><td>0.000000000</td></tr>\n",
       "\t<tr><th scope=row>8</th><td>miR-224-5p</td><td>0.004832467</td></tr>\n",
       "</tbody>\n",
       "</table>\n"
      ],
      "text/latex": [
       "A data.frame: 6 × 2\n",
       "\\begin{tabular}{r|ll}\n",
       "  & arm.name & 24\\\\\n",
       "  & <chr> & <dbl>\\\\\n",
       "\\hline\n",
       "\t1 & miR-23a-3p & 0.001862165\\\\\n",
       "\t2 & miR-25-3p  & 0.004175733\\\\\n",
       "\t3 & let-7b-5p  & 0.006994288\\\\\n",
       "\t4 & miR-191-5p & 0.007750444\\\\\n",
       "\t5 & miR-21-5p  & 0.000000000\\\\\n",
       "\t8 & miR-224-5p & 0.004832467\\\\\n",
       "\\end{tabular}\n"
      ],
      "text/markdown": [
       "\n",
       "A data.frame: 6 × 2\n",
       "\n",
       "| <!--/--> | arm.name &lt;chr&gt; | 24 &lt;dbl&gt; |\n",
       "|---|---|---|\n",
       "| 1 | miR-23a-3p | 0.001862165 |\n",
       "| 2 | miR-25-3p  | 0.004175733 |\n",
       "| 3 | let-7b-5p  | 0.006994288 |\n",
       "| 4 | miR-191-5p | 0.007750444 |\n",
       "| 5 | miR-21-5p  | 0.000000000 |\n",
       "| 8 | miR-224-5p | 0.004832467 |\n",
       "\n"
      ],
      "text/plain": [
       "  arm.name   24         \n",
       "1 miR-23a-3p 0.001862165\n",
       "2 miR-25-3p  0.004175733\n",
       "3 let-7b-5p  0.006994288\n",
       "4 miR-191-5p 0.007750444\n",
       "5 miR-21-5p  0.000000000\n",
       "8 miR-224-5p 0.004832467"
      ]
     },
     "metadata": {},
     "output_type": "display_data"
    },
    {
     "data": {
      "text/html": [
       "122"
      ],
      "text/latex": [
       "122"
      ],
      "text/markdown": [
       "122"
      ],
      "text/plain": [
       "[1] 122"
      ]
     },
     "metadata": {},
     "output_type": "display_data"
    }
   ],
   "source": [
    "# timecourse\n",
    "c.match.gfp.tc <- ctrl.gfp.tc[match(match.gfp.tc$arm.name,ctrl.gfp.tc$arm.name),-2] \n",
    "c.match.6.tc <- ctrl.6.tc[match(c.match.gfp.tc$arm.name,ctrl.6.tc$arm.name),-2] \n",
    "c.match.11.tc <- ctrl.11.tc[match(c.match.gfp.tc$arm.name,ctrl.11.tc$arm.name),-2] \n",
    "\n",
    "head(c.match.gfp.tc)\n",
    "nrow(c.match.gfp.tc)"
   ]
  },
  {
   "cell_type": "code",
   "execution_count": 43,
   "metadata": {},
   "outputs": [
    {
     "data": {
      "text/html": [
       "<table>\n",
       "<caption>A data.frame: 6 × 2</caption>\n",
       "<thead>\n",
       "\t<tr><th></th><th scope=col>arm.name</th><th scope=col>24</th></tr>\n",
       "\t<tr><th></th><th scope=col>&lt;chr&gt;</th><th scope=col>&lt;dbl&gt;</th></tr>\n",
       "</thead>\n",
       "<tbody>\n",
       "\t<tr><th scope=row>1</th><td>miR-23a-3p</td><td>4.144955</td></tr>\n",
       "\t<tr><th scope=row>2</th><td>miR-25-3p </td><td>3.880442</td></tr>\n",
       "\t<tr><th scope=row>3</th><td>let-7b-5p </td><td>1.705675</td></tr>\n",
       "\t<tr><th scope=row>4</th><td>miR-191-5p</td><td>2.838377</td></tr>\n",
       "\t<tr><th scope=row>5</th><td>miR-21-5p </td><td>5.768897</td></tr>\n",
       "\t<tr><th scope=row>6</th><td>miR-224-5p</td><td>5.418838</td></tr>\n",
       "</tbody>\n",
       "</table>\n"
      ],
      "text/latex": [
       "A data.frame: 6 × 2\n",
       "\\begin{tabular}{r|ll}\n",
       "  & arm.name & 24\\\\\n",
       "  & <chr> & <dbl>\\\\\n",
       "\\hline\n",
       "\t1 & miR-23a-3p & 4.144955\\\\\n",
       "\t2 & miR-25-3p  & 3.880442\\\\\n",
       "\t3 & let-7b-5p  & 1.705675\\\\\n",
       "\t4 & miR-191-5p & 2.838377\\\\\n",
       "\t5 & miR-21-5p  & 5.768897\\\\\n",
       "\t6 & miR-224-5p & 5.418838\\\\\n",
       "\\end{tabular}\n"
      ],
      "text/markdown": [
       "\n",
       "A data.frame: 6 × 2\n",
       "\n",
       "| <!--/--> | arm.name &lt;chr&gt; | 24 &lt;dbl&gt; |\n",
       "|---|---|---|\n",
       "| 1 | miR-23a-3p | 4.144955 |\n",
       "| 2 | miR-25-3p  | 3.880442 |\n",
       "| 3 | let-7b-5p  | 1.705675 |\n",
       "| 4 | miR-191-5p | 2.838377 |\n",
       "| 5 | miR-21-5p  | 5.768897 |\n",
       "| 6 | miR-224-5p | 5.418838 |\n",
       "\n"
      ],
      "text/plain": [
       "  arm.name   24      \n",
       "1 miR-23a-3p 4.144955\n",
       "2 miR-25-3p  3.880442\n",
       "3 let-7b-5p  1.705675\n",
       "4 miR-191-5p 2.838377\n",
       "5 miR-21-5p  5.768897\n",
       "6 miR-224-5p 5.418838"
      ]
     },
     "metadata": {},
     "output_type": "display_data"
    },
    {
     "name": "stderr",
     "output_type": "stream",
     "text": [
      "Using arm.name as id variables\n",
      "\n"
     ]
    },
    {
     "data": {
      "text/html": [
       "<table>\n",
       "<caption>A data.frame: 6 × 4</caption>\n",
       "<thead>\n",
       "\t<tr><th></th><th scope=col>arm.name</th><th scope=col>time</th><th scope=col>T&gt;C [%]</th><th scope=col>hela</th></tr>\n",
       "\t<tr><th></th><th scope=col>&lt;chr&gt;</th><th scope=col>&lt;fct&gt;</th><th scope=col>&lt;dbl&gt;</th><th scope=col>&lt;chr&gt;</th></tr>\n",
       "</thead>\n",
       "<tbody>\n",
       "\t<tr><th scope=row>1</th><td>miR-23a-3p</td><td>24</td><td>4.144955</td><td>shControl</td></tr>\n",
       "\t<tr><th scope=row>2</th><td>miR-25-3p </td><td>24</td><td>3.880442</td><td>shControl</td></tr>\n",
       "\t<tr><th scope=row>3</th><td>let-7b-5p </td><td>24</td><td>1.705675</td><td>shControl</td></tr>\n",
       "\t<tr><th scope=row>4</th><td>miR-191-5p</td><td>24</td><td>2.838377</td><td>shControl</td></tr>\n",
       "\t<tr><th scope=row>5</th><td>miR-21-5p </td><td>24</td><td>5.768897</td><td>shControl</td></tr>\n",
       "\t<tr><th scope=row>6</th><td>miR-224-5p</td><td>24</td><td>5.418838</td><td>shControl</td></tr>\n",
       "</tbody>\n",
       "</table>\n"
      ],
      "text/latex": [
       "A data.frame: 6 × 4\n",
       "\\begin{tabular}{r|llll}\n",
       "  & arm.name & time & T>C {[}\\%{]} & hela\\\\\n",
       "  & <chr> & <fct> & <dbl> & <chr>\\\\\n",
       "\\hline\n",
       "\t1 & miR-23a-3p & 24 & 4.144955 & shControl\\\\\n",
       "\t2 & miR-25-3p  & 24 & 3.880442 & shControl\\\\\n",
       "\t3 & let-7b-5p  & 24 & 1.705675 & shControl\\\\\n",
       "\t4 & miR-191-5p & 24 & 2.838377 & shControl\\\\\n",
       "\t5 & miR-21-5p  & 24 & 5.768897 & shControl\\\\\n",
       "\t6 & miR-224-5p & 24 & 5.418838 & shControl\\\\\n",
       "\\end{tabular}\n"
      ],
      "text/markdown": [
       "\n",
       "A data.frame: 6 × 4\n",
       "\n",
       "| <!--/--> | arm.name &lt;chr&gt; | time &lt;fct&gt; | T&gt;C [%] &lt;dbl&gt; | hela &lt;chr&gt; |\n",
       "|---|---|---|---|---|\n",
       "| 1 | miR-23a-3p | 24 | 4.144955 | shControl |\n",
       "| 2 | miR-25-3p  | 24 | 3.880442 | shControl |\n",
       "| 3 | let-7b-5p  | 24 | 1.705675 | shControl |\n",
       "| 4 | miR-191-5p | 24 | 2.838377 | shControl |\n",
       "| 5 | miR-21-5p  | 24 | 5.768897 | shControl |\n",
       "| 6 | miR-224-5p | 24 | 5.418838 | shControl |\n",
       "\n"
      ],
      "text/plain": [
       "  arm.name   time T>C [%]  hela     \n",
       "1 miR-23a-3p 24   4.144955 shControl\n",
       "2 miR-25-3p  24   3.880442 shControl\n",
       "3 let-7b-5p  24   1.705675 shControl\n",
       "4 miR-191-5p 24   2.838377 shControl\n",
       "5 miR-21-5p  24   5.768897 shControl\n",
       "6 miR-224-5p 24   5.418838 shControl"
      ]
     },
     "metadata": {},
     "output_type": "display_data"
    },
    {
     "name": "stderr",
     "output_type": "stream",
     "text": [
      "Using arm.name as id variables\n",
      "\n",
      "Using arm.name as id variables\n",
      "\n"
     ]
    }
   ],
   "source": [
    "head(match.gfp.tc)\n",
    "gfp <- reshape2::melt(match.gfp.tc)\n",
    "gfp$hela <- \"shControl\"\n",
    "colnames(gfp) <- c(\"arm.name\", \"time\", \"T>C [%]\", \"hela\")\n",
    "gfp$arm.name <- as.character(gfp$arm.name)\n",
    "head(gfp)\n",
    "\n",
    "\n",
    "\n",
    "\n",
    "\n",
    "ints6 <- reshape2::melt(match.6.tc)\n",
    "ints6$hela <- \"shINTS6\"\n",
    "colnames(ints6) <- c(\"arm.name\", \"time\", \"T>C [%]\", \"hela\")\n",
    "ints6$arm.name <- as.character(ints6$arm.name)\n",
    "#head(ints6)\n",
    "\n",
    "\n",
    "\n",
    "\n",
    "ints11 <- reshape2::melt(match.11.tc)\n",
    "ints11$hela <- \"shINTS11\"\n",
    "colnames(ints11) <- c(\"arm.name\", \"time\", \"T>C [%]\", \"hela\")\n",
    "ints11$arm.name <- as.character(ints11$arm.name)\n",
    "#head(ints11)\n",
    "\n",
    "\n"
   ]
  },
  {
   "cell_type": "code",
   "execution_count": 44,
   "metadata": {},
   "outputs": [
    {
     "data": {
      "text/html": [
       "<table>\n",
       "<caption>A data.frame: 6 × 2</caption>\n",
       "<thead>\n",
       "\t<tr><th></th><th scope=col>arm.name</th><th scope=col>24</th></tr>\n",
       "\t<tr><th></th><th scope=col>&lt;chr&gt;</th><th scope=col>&lt;dbl&gt;</th></tr>\n",
       "</thead>\n",
       "<tbody>\n",
       "\t<tr><th scope=row>1</th><td>miR-23a-3p</td><td>0.001862165</td></tr>\n",
       "\t<tr><th scope=row>2</th><td>miR-25-3p </td><td>0.004175733</td></tr>\n",
       "\t<tr><th scope=row>3</th><td>let-7b-5p </td><td>0.006994288</td></tr>\n",
       "\t<tr><th scope=row>4</th><td>miR-191-5p</td><td>0.007750444</td></tr>\n",
       "\t<tr><th scope=row>5</th><td>miR-21-5p </td><td>0.000000000</td></tr>\n",
       "\t<tr><th scope=row>8</th><td>miR-224-5p</td><td>0.004832467</td></tr>\n",
       "</tbody>\n",
       "</table>\n"
      ],
      "text/latex": [
       "A data.frame: 6 × 2\n",
       "\\begin{tabular}{r|ll}\n",
       "  & arm.name & 24\\\\\n",
       "  & <chr> & <dbl>\\\\\n",
       "\\hline\n",
       "\t1 & miR-23a-3p & 0.001862165\\\\\n",
       "\t2 & miR-25-3p  & 0.004175733\\\\\n",
       "\t3 & let-7b-5p  & 0.006994288\\\\\n",
       "\t4 & miR-191-5p & 0.007750444\\\\\n",
       "\t5 & miR-21-5p  & 0.000000000\\\\\n",
       "\t8 & miR-224-5p & 0.004832467\\\\\n",
       "\\end{tabular}\n"
      ],
      "text/markdown": [
       "\n",
       "A data.frame: 6 × 2\n",
       "\n",
       "| <!--/--> | arm.name &lt;chr&gt; | 24 &lt;dbl&gt; |\n",
       "|---|---|---|\n",
       "| 1 | miR-23a-3p | 0.001862165 |\n",
       "| 2 | miR-25-3p  | 0.004175733 |\n",
       "| 3 | let-7b-5p  | 0.006994288 |\n",
       "| 4 | miR-191-5p | 0.007750444 |\n",
       "| 5 | miR-21-5p  | 0.000000000 |\n",
       "| 8 | miR-224-5p | 0.004832467 |\n",
       "\n"
      ],
      "text/plain": [
       "  arm.name   24         \n",
       "1 miR-23a-3p 0.001862165\n",
       "2 miR-25-3p  0.004175733\n",
       "3 let-7b-5p  0.006994288\n",
       "4 miR-191-5p 0.007750444\n",
       "5 miR-21-5p  0.000000000\n",
       "8 miR-224-5p 0.004832467"
      ]
     },
     "metadata": {},
     "output_type": "display_data"
    },
    {
     "name": "stderr",
     "output_type": "stream",
     "text": [
      "Using arm.name as id variables\n",
      "\n"
     ]
    },
    {
     "data": {
      "text/html": [
       "<table>\n",
       "<caption>A data.frame: 6 × 4</caption>\n",
       "<thead>\n",
       "\t<tr><th></th><th scope=col>arm.name</th><th scope=col>time</th><th scope=col>T&gt;C [%]</th><th scope=col>hela</th></tr>\n",
       "\t<tr><th></th><th scope=col>&lt;chr&gt;</th><th scope=col>&lt;fct&gt;</th><th scope=col>&lt;dbl&gt;</th><th scope=col>&lt;chr&gt;</th></tr>\n",
       "</thead>\n",
       "<tbody>\n",
       "\t<tr><th scope=row>1</th><td>miR-23a-3p</td><td>24</td><td>0.001862165</td><td>shControl</td></tr>\n",
       "\t<tr><th scope=row>2</th><td>miR-25-3p </td><td>24</td><td>0.004175733</td><td>shControl</td></tr>\n",
       "\t<tr><th scope=row>3</th><td>let-7b-5p </td><td>24</td><td>0.006994288</td><td>shControl</td></tr>\n",
       "\t<tr><th scope=row>4</th><td>miR-191-5p</td><td>24</td><td>0.007750444</td><td>shControl</td></tr>\n",
       "\t<tr><th scope=row>5</th><td>miR-21-5p </td><td>24</td><td>0.000000000</td><td>shControl</td></tr>\n",
       "\t<tr><th scope=row>6</th><td>miR-224-5p</td><td>24</td><td>0.004832467</td><td>shControl</td></tr>\n",
       "</tbody>\n",
       "</table>\n"
      ],
      "text/latex": [
       "A data.frame: 6 × 4\n",
       "\\begin{tabular}{r|llll}\n",
       "  & arm.name & time & T>C {[}\\%{]} & hela\\\\\n",
       "  & <chr> & <fct> & <dbl> & <chr>\\\\\n",
       "\\hline\n",
       "\t1 & miR-23a-3p & 24 & 0.001862165 & shControl\\\\\n",
       "\t2 & miR-25-3p  & 24 & 0.004175733 & shControl\\\\\n",
       "\t3 & let-7b-5p  & 24 & 0.006994288 & shControl\\\\\n",
       "\t4 & miR-191-5p & 24 & 0.007750444 & shControl\\\\\n",
       "\t5 & miR-21-5p  & 24 & 0.000000000 & shControl\\\\\n",
       "\t6 & miR-224-5p & 24 & 0.004832467 & shControl\\\\\n",
       "\\end{tabular}\n"
      ],
      "text/markdown": [
       "\n",
       "A data.frame: 6 × 4\n",
       "\n",
       "| <!--/--> | arm.name &lt;chr&gt; | time &lt;fct&gt; | T&gt;C [%] &lt;dbl&gt; | hela &lt;chr&gt; |\n",
       "|---|---|---|---|---|\n",
       "| 1 | miR-23a-3p | 24 | 0.001862165 | shControl |\n",
       "| 2 | miR-25-3p  | 24 | 0.004175733 | shControl |\n",
       "| 3 | let-7b-5p  | 24 | 0.006994288 | shControl |\n",
       "| 4 | miR-191-5p | 24 | 0.007750444 | shControl |\n",
       "| 5 | miR-21-5p  | 24 | 0.000000000 | shControl |\n",
       "| 6 | miR-224-5p | 24 | 0.004832467 | shControl |\n",
       "\n"
      ],
      "text/plain": [
       "  arm.name   time T>C [%]     hela     \n",
       "1 miR-23a-3p 24   0.001862165 shControl\n",
       "2 miR-25-3p  24   0.004175733 shControl\n",
       "3 let-7b-5p  24   0.006994288 shControl\n",
       "4 miR-191-5p 24   0.007750444 shControl\n",
       "5 miR-21-5p  24   0.000000000 shControl\n",
       "6 miR-224-5p 24   0.004832467 shControl"
      ]
     },
     "metadata": {},
     "output_type": "display_data"
    },
    {
     "data": {
      "text/html": [
       "122"
      ],
      "text/latex": [
       "122"
      ],
      "text/markdown": [
       "122"
      ],
      "text/plain": [
       "[1] 122"
      ]
     },
     "metadata": {},
     "output_type": "display_data"
    },
    {
     "name": "stderr",
     "output_type": "stream",
     "text": [
      "Using arm.name as id variables\n",
      "\n",
      "Using arm.name as id variables\n",
      "\n"
     ]
    }
   ],
   "source": [
    "head(c.match.gfp.tc)\n",
    "c.gfp <- reshape2::melt(c.match.gfp.tc)\n",
    "c.gfp$hela <- \"shControl\"\n",
    "colnames(c.gfp) <- c(\"arm.name\", \"time\", \"T>C [%]\", \"hela\")\n",
    "c.gfp$arm.name <- as.character(c.gfp$arm.name)\n",
    "head(c.gfp)\n",
    "nrow(c.gfp)\n",
    "\n",
    "\n",
    "\n",
    "\n",
    "c.ints6 <- reshape2::melt(c.match.6.tc)\n",
    "c.ints6$hela <- \"shINTS6\"\n",
    "colnames(c.ints6) <- c(\"arm.name\", \"time\", \"T>C [%]\", \"hela\")\n",
    "c.ints6$arm.name <- as.character(c.ints6$arm.name)\n",
    "#head(ints6)\n",
    "\n",
    "\n",
    "\n",
    "\n",
    "\n",
    "c.ints11 <- reshape2::melt(c.match.11.tc)\n",
    "c.ints11$hela <- \"shINTS11\"\n",
    "colnames(c.ints11) <- c(\"arm.name\", \"time\", \"T>C [%]\", \"hela\")\n",
    "c.ints11$arm.name <- as.character(c.ints11$arm.name)\n",
    "#head(ints11)\n",
    "\n"
   ]
  },
  {
   "cell_type": "code",
   "execution_count": 45,
   "metadata": {},
   "outputs": [
    {
     "data": {
      "text/html": [
       "366"
      ],
      "text/latex": [
       "366"
      ],
      "text/markdown": [
       "366"
      ],
      "text/plain": [
       "[1] 366"
      ]
     },
     "metadata": {},
     "output_type": "display_data"
    },
    {
     "data": {
      "text/html": [
       "366"
      ],
      "text/latex": [
       "366"
      ],
      "text/markdown": [
       "366"
      ],
      "text/plain": [
       "[1] 366"
      ]
     },
     "metadata": {},
     "output_type": "display_data"
    },
    {
     "data": {
      "text/html": [
       "<table>\n",
       "<caption>A data.frame: 6 × 4</caption>\n",
       "<thead>\n",
       "\t<tr><th></th><th scope=col>arm.name</th><th scope=col>time</th><th scope=col>T&gt;C [%]</th><th scope=col>hela</th></tr>\n",
       "\t<tr><th></th><th scope=col>&lt;chr&gt;</th><th scope=col>&lt;fct&gt;</th><th scope=col>&lt;dbl&gt;</th><th scope=col>&lt;chr&gt;</th></tr>\n",
       "</thead>\n",
       "<tbody>\n",
       "\t<tr><th scope=row>1</th><td>miR-23a-3p</td><td>24</td><td>4.144955</td><td>shControl</td></tr>\n",
       "\t<tr><th scope=row>2</th><td>miR-25-3p </td><td>24</td><td>3.880442</td><td>shControl</td></tr>\n",
       "\t<tr><th scope=row>3</th><td>let-7b-5p </td><td>24</td><td>1.705675</td><td>shControl</td></tr>\n",
       "\t<tr><th scope=row>4</th><td>miR-191-5p</td><td>24</td><td>2.838377</td><td>shControl</td></tr>\n",
       "\t<tr><th scope=row>5</th><td>miR-21-5p </td><td>24</td><td>5.768897</td><td>shControl</td></tr>\n",
       "\t<tr><th scope=row>6</th><td>miR-224-5p</td><td>24</td><td>5.418838</td><td>shControl</td></tr>\n",
       "</tbody>\n",
       "</table>\n"
      ],
      "text/latex": [
       "A data.frame: 6 × 4\n",
       "\\begin{tabular}{r|llll}\n",
       "  & arm.name & time & T>C {[}\\%{]} & hela\\\\\n",
       "  & <chr> & <fct> & <dbl> & <chr>\\\\\n",
       "\\hline\n",
       "\t1 & miR-23a-3p & 24 & 4.144955 & shControl\\\\\n",
       "\t2 & miR-25-3p  & 24 & 3.880442 & shControl\\\\\n",
       "\t3 & let-7b-5p  & 24 & 1.705675 & shControl\\\\\n",
       "\t4 & miR-191-5p & 24 & 2.838377 & shControl\\\\\n",
       "\t5 & miR-21-5p  & 24 & 5.768897 & shControl\\\\\n",
       "\t6 & miR-224-5p & 24 & 5.418838 & shControl\\\\\n",
       "\\end{tabular}\n"
      ],
      "text/markdown": [
       "\n",
       "A data.frame: 6 × 4\n",
       "\n",
       "| <!--/--> | arm.name &lt;chr&gt; | time &lt;fct&gt; | T&gt;C [%] &lt;dbl&gt; | hela &lt;chr&gt; |\n",
       "|---|---|---|---|---|\n",
       "| 1 | miR-23a-3p | 24 | 4.144955 | shControl |\n",
       "| 2 | miR-25-3p  | 24 | 3.880442 | shControl |\n",
       "| 3 | let-7b-5p  | 24 | 1.705675 | shControl |\n",
       "| 4 | miR-191-5p | 24 | 2.838377 | shControl |\n",
       "| 5 | miR-21-5p  | 24 | 5.768897 | shControl |\n",
       "| 6 | miR-224-5p | 24 | 5.418838 | shControl |\n",
       "\n"
      ],
      "text/plain": [
       "  arm.name   time T>C [%]  hela     \n",
       "1 miR-23a-3p 24   4.144955 shControl\n",
       "2 miR-25-3p  24   3.880442 shControl\n",
       "3 let-7b-5p  24   1.705675 shControl\n",
       "4 miR-191-5p 24   2.838377 shControl\n",
       "5 miR-21-5p  24   5.768897 shControl\n",
       "6 miR-224-5p 24   5.418838 shControl"
      ]
     },
     "metadata": {},
     "output_type": "display_data"
    }
   ],
   "source": [
    "# timecourse\n",
    "fin <- rbind.data.frame(gfp,  ints6,  ints11)\n",
    "nrow(fin)\n",
    "fin <- fin[complete.cases(fin),]\n",
    "nrow(fin)\n",
    "head(fin)"
   ]
  },
  {
   "cell_type": "code",
   "execution_count": 46,
   "metadata": {},
   "outputs": [
    {
     "data": {
      "text/html": [
       "366"
      ],
      "text/latex": [
       "366"
      ],
      "text/markdown": [
       "366"
      ],
      "text/plain": [
       "[1] 366"
      ]
     },
     "metadata": {},
     "output_type": "display_data"
    },
    {
     "data": {
      "text/html": [
       "365"
      ],
      "text/latex": [
       "365"
      ],
      "text/markdown": [
       "365"
      ],
      "text/plain": [
       "[1] 365"
      ]
     },
     "metadata": {},
     "output_type": "display_data"
    },
    {
     "data": {
      "text/html": [
       "<table>\n",
       "<caption>A data.frame: 6 × 4</caption>\n",
       "<thead>\n",
       "\t<tr><th></th><th scope=col>arm.name</th><th scope=col>time</th><th scope=col>T&gt;C [%]</th><th scope=col>hela</th></tr>\n",
       "\t<tr><th></th><th scope=col>&lt;chr&gt;</th><th scope=col>&lt;fct&gt;</th><th scope=col>&lt;dbl&gt;</th><th scope=col>&lt;chr&gt;</th></tr>\n",
       "</thead>\n",
       "<tbody>\n",
       "\t<tr><th scope=row>1</th><td>miR-23a-3p</td><td>24</td><td>0.001862165</td><td>shControl</td></tr>\n",
       "\t<tr><th scope=row>2</th><td>miR-25-3p </td><td>24</td><td>0.004175733</td><td>shControl</td></tr>\n",
       "\t<tr><th scope=row>3</th><td>let-7b-5p </td><td>24</td><td>0.006994288</td><td>shControl</td></tr>\n",
       "\t<tr><th scope=row>4</th><td>miR-191-5p</td><td>24</td><td>0.007750444</td><td>shControl</td></tr>\n",
       "\t<tr><th scope=row>5</th><td>miR-21-5p </td><td>24</td><td>0.000000000</td><td>shControl</td></tr>\n",
       "\t<tr><th scope=row>6</th><td>miR-224-5p</td><td>24</td><td>0.004832467</td><td>shControl</td></tr>\n",
       "</tbody>\n",
       "</table>\n"
      ],
      "text/latex": [
       "A data.frame: 6 × 4\n",
       "\\begin{tabular}{r|llll}\n",
       "  & arm.name & time & T>C {[}\\%{]} & hela\\\\\n",
       "  & <chr> & <fct> & <dbl> & <chr>\\\\\n",
       "\\hline\n",
       "\t1 & miR-23a-3p & 24 & 0.001862165 & shControl\\\\\n",
       "\t2 & miR-25-3p  & 24 & 0.004175733 & shControl\\\\\n",
       "\t3 & let-7b-5p  & 24 & 0.006994288 & shControl\\\\\n",
       "\t4 & miR-191-5p & 24 & 0.007750444 & shControl\\\\\n",
       "\t5 & miR-21-5p  & 24 & 0.000000000 & shControl\\\\\n",
       "\t6 & miR-224-5p & 24 & 0.004832467 & shControl\\\\\n",
       "\\end{tabular}\n"
      ],
      "text/markdown": [
       "\n",
       "A data.frame: 6 × 4\n",
       "\n",
       "| <!--/--> | arm.name &lt;chr&gt; | time &lt;fct&gt; | T&gt;C [%] &lt;dbl&gt; | hela &lt;chr&gt; |\n",
       "|---|---|---|---|---|\n",
       "| 1 | miR-23a-3p | 24 | 0.001862165 | shControl |\n",
       "| 2 | miR-25-3p  | 24 | 0.004175733 | shControl |\n",
       "| 3 | let-7b-5p  | 24 | 0.006994288 | shControl |\n",
       "| 4 | miR-191-5p | 24 | 0.007750444 | shControl |\n",
       "| 5 | miR-21-5p  | 24 | 0.000000000 | shControl |\n",
       "| 6 | miR-224-5p | 24 | 0.004832467 | shControl |\n",
       "\n"
      ],
      "text/plain": [
       "  arm.name   time T>C [%]     hela     \n",
       "1 miR-23a-3p 24   0.001862165 shControl\n",
       "2 miR-25-3p  24   0.004175733 shControl\n",
       "3 let-7b-5p  24   0.006994288 shControl\n",
       "4 miR-191-5p 24   0.007750444 shControl\n",
       "5 miR-21-5p  24   0.000000000 shControl\n",
       "6 miR-224-5p 24   0.004832467 shControl"
      ]
     },
     "metadata": {},
     "output_type": "display_data"
    }
   ],
   "source": [
    "# control\n",
    "fin.c <- rbind.data.frame(c.gfp,  c.ints6,  c.ints11)\n",
    "nrow(fin.c)\n",
    "fin.c <- fin.c[complete.cases(fin.c),]\n",
    "nrow(fin.c)\n",
    "head(fin.c)"
   ]
  },
  {
   "cell_type": "code",
   "execution_count": 47,
   "metadata": {},
   "outputs": [
    {
     "data": {
      "image/png": "[encoded data removed]",
      "text/plain": [
       "plot without title"
      ]
     },
     "metadata": {
      "image/png": {
       "height": 600,
       "width": 1200
      },
      "text/plain": {
       "height": 600,
       "width": 1200
      }
     },
     "output_type": "display_data"
    }
   ],
   "source": [
    "box <- ggplot(fin, aes(x=hela, y=`T>C [%]`, fill=hela)) + \n",
    "    theme_bw(base_size = 50) +\n",
    "    ggtitle(\"T>C miRNA\") +\n",
    "    theme(plot.title = element_text(hjust = '0.5')) +\n",
    "    theme(panel.grid.major = element_blank(), panel.grid.minor = element_blank(),\n",
    "              panel.background = element_blank(), panel.border = element_blank()) +\n",
    "    theme(axis.line = element_line(colour = \"black\", size = 0.5), \n",
    "              axis.title.x = element_blank(), axis.text.x = element_text(angle = 15, vjust = 1, hjust=1)) +\n",
    "    theme(legend.position=\"none\", legend.title = element_blank(), \n",
    "              legend.background = element_rect(fill=\"transparent\"))+\n",
    "    #scale_y_continuous(trans = 'log10', breaks=c(0.01, 0.1, 1,10))+\n",
    "    coord_cartesian(ylim=c(0.1, 12)) +\n",
    "    #ylab(\"miRNA half-life [h]\")  +\n",
    "    scale_x_discrete(limits=c(\"shControl\", \"shINTS6\", \"shINTS11\")) +\n",
    "    geom_boxplot(notch=TRUE,outlier.shape=NA, aes(hela, `T>C [%]`)) +\n",
    "    scale_fill_manual(values=c(col_shgfp, col_sh6,  col_sh11), \n",
    "                limits=c(\"shControl\", \"shINTS6\", \"shINTS11\"))+\n",
    "    #geom_dotplot(binaxis = \"y\", stackdir = \"center\", position = \"dodge\", binwidth = 0.2, alpha=0.2)+\n",
    "    stat_summary(fun=mean, colour=\"black\", fill=\"white\", geom=\"point\", \n",
    "                     shape=21, size=4,show.legend = FALSE)\n",
    "\n",
    "\n",
    "hist <- summarySE(fin, measurevar=\"T>C [%]\", groupvars=c(\"hela\"))\n",
    "plot <- ggplot(data = hist, aes(x = hela, y=`T>C [%]`)) +\n",
    "        theme_bw(base_size = 50) +\n",
    "        ggtitle(\"T>C miRNA\") +\n",
    "        theme(plot.title = element_text(hjust = '0.5')) +\n",
    "        theme(panel.grid.major = element_blank(), panel.grid.minor = element_blank(),\n",
    "              panel.background = element_blank(), panel.border = element_blank()) +\n",
    "        theme(axis.line = element_line(colour = \"black\", size = 0.5), \n",
    "              axis.title.x = element_blank(), axis.text.x = element_text(angle = 15, vjust = 1, hjust=1)) +\n",
    "        coord_cartesian(ylim=c(0, 6)) +\n",
    "        #xlab(\"s4U labeling time [h]\")+\n",
    "        #ylab(\"T>C miRNA [RPM]\")+\n",
    "        scale_x_discrete(limits=c(\"shControl\", \"shINTS6\", \"shINTS11\")) +\n",
    "        geom_col(fill=c(col_shgfp,  col_sh11, col_sh6)) +\n",
    "        geom_errorbar(width=.15, aes(ymin=`T>C [%]`-se, ymax=`T>C [%]`+se), color=c( col_shgfp,  col_sh11, col_sh6))  \n",
    "        #geom_smooth(se=FALSE, method=\"lm\", data=gfp.mature[gfp.mature$time <=1,], lty=3, color=col_shgfp)+\n",
    "        #geom_smooth(se=FALSE, method=\"lm\", data=gfp.mature[gfp.mature$time >=1 & gfp.mature$time <= limit,], lty=5, color=col_shgfp) \n",
    "\n",
    "\n",
    "options(repr.plot.width=20, repr.plot.height=10)\n",
    "plot_grid(box, plot, ncol=2)"
   ]
  },
  {
   "cell_type": "code",
   "execution_count": 48,
   "metadata": {},
   "outputs": [
    {
     "name": "stderr",
     "output_type": "stream",
     "text": [
      "notch went outside hinges. Try setting notch=FALSE.\n",
      "\n",
      "notch went outside hinges. Try setting notch=FALSE.\n",
      "\n",
      "notch went outside hinges. Try setting notch=FALSE.\n",
      "\n"
     ]
    },
    {
     "data": {
      "image/png": "[encoded data removed]",
      "text/plain": [
       "plot without title"
      ]
     },
     "metadata": {
      "image/png": {
       "height": 600,
       "width": 1200
      },
      "text/plain": {
       "height": 600,
       "width": 1200
      }
     },
     "output_type": "display_data"
    }
   ],
   "source": [
    "box <- ggplot(fin.c, aes(x=hela, y=`T>C [%]`, fill=hela)) + \n",
    "    theme_bw(base_size = 50) +\n",
    "    ggtitle(\"T>C miRNA \\n[24h -s4U]\") +\n",
    "    theme(plot.title = element_text(hjust = '0.5')) +\n",
    "    theme(panel.grid.major = element_blank(), panel.grid.minor = element_blank(),\n",
    "              panel.background = element_blank(), panel.border = element_blank()) +\n",
    "    theme(axis.line = element_line(colour = \"black\", size = 0.5), \n",
    "              axis.title.x = element_blank(), axis.text.x = element_text(angle = 15, vjust = 1, hjust=1)) +\n",
    "    theme(legend.position=\"none\", legend.title = element_blank(), \n",
    "              legend.background = element_rect(fill=\"transparent\"))+\n",
    "    #scale_y_continuous(trans = 'log10', breaks=c(0.01, 0.1, 1,10))+\n",
    "    coord_cartesian(ylim=c(0.1, 12)) +\n",
    "    #ylab(\"miRNA half-life [h]\")  +\n",
    "    scale_x_discrete(limits=c(\"shControl\", \"shINTS6\", \"shINTS11\")) +\n",
    "    geom_boxplot(notch=TRUE,outlier.shape=NA, aes(hela, `T>C [%]`)) +\n",
    "    scale_fill_manual(values=c(col_shgfp, col_sh6,  col_sh11), \n",
    "               limits=c(\"shControl\", \"shINTS6\", \"shINTS11\"))+\n",
    "    #geom_dotplot(binaxis = \"y\", stackdir = \"center\", position = \"dodge\", binwidth = 0.2, alpha=0.2)+\n",
    "    stat_summary(fun=mean, colour=\"black\", fill=\"white\", geom=\"point\", \n",
    "                     shape=21, size=4,show.legend = FALSE)\n",
    "\n",
    "\n",
    "hist <- summarySE(fin.c, measurevar=\"T>C [%]\", groupvars=c(\"hela\"))\n",
    "plot <- ggplot(data = hist, aes(x = hela, y=`T>C [%]`)) +\n",
    "        theme_bw(base_size = 50) +\n",
    "        ggtitle(\"T>C miRNA \\n[24h -s4U]\") +\n",
    "        theme(plot.title = element_text(hjust = '0.5')) +\n",
    "        theme(panel.grid.major = element_blank(), panel.grid.minor = element_blank(),\n",
    "              panel.background = element_blank(), panel.border = element_blank()) +\n",
    "        theme(axis.line = element_line(colour = \"black\", size = 0.5), \n",
    "              axis.title.x = element_blank(), axis.text.x = element_text(angle = 15, vjust = 1, hjust=1)) +\n",
    "        coord_cartesian(ylim=c(0, 6)) +\n",
    "        #xlab(\"s4U labeling time [h]\")+\n",
    "        #ylab(\"T>C miRNA [RPM]\")+\n",
    "        scale_x_discrete(limits=c(\"shControl\", \"shINTS6\", \"shINTS11\")) +\n",
    "        geom_col(fill=c(col_shgfp,  col_sh11,  col_sh6)) +\n",
    "        geom_errorbar(width=.15, aes(ymin=`T>C [%]`-se, ymax=`T>C [%]`+se), color=c(col_shgfp,  col_sh11,  col_sh6))  \n",
    "        #geom_smooth(se=FALSE, method=\"lm\", data=gfp.mature[gfp.mature$time <=1,], lty=3, color=col_shgfp)+\n",
    "        #geom_smooth(se=FALSE, method=\"lm\", data=gfp.mature[gfp.mature$time >=1 & gfp.mature$time <= limit,], lty=5, color=col_shgfp) \n",
    "\n",
    "\n",
    "options(repr.plot.width=20, repr.plot.height=10)\n",
    "plot_grid(box, plot, ncol=2)"
   ]
  },
  {
   "cell_type": "code",
   "execution_count": 203,
   "metadata": {},
   "outputs": [
    {
     "data": {
      "text/html": [
       "<table>\n",
       "<caption>A data.frame: 6 × 4</caption>\n",
       "<thead>\n",
       "\t<tr><th></th><th scope=col>arm.name</th><th scope=col>time</th><th scope=col>T&gt;C [%]</th><th scope=col>hela</th></tr>\n",
       "\t<tr><th></th><th scope=col>&lt;chr&gt;</th><th scope=col>&lt;fct&gt;</th><th scope=col>&lt;dbl&gt;</th><th scope=col>&lt;chr&gt;</th></tr>\n",
       "</thead>\n",
       "<tbody>\n",
       "\t<tr><th scope=row>1</th><td>miR-23a-3p</td><td>24</td><td>4.144955</td><td>shControl</td></tr>\n",
       "\t<tr><th scope=row>2</th><td>miR-25-3p </td><td>24</td><td>3.880442</td><td>shControl</td></tr>\n",
       "\t<tr><th scope=row>3</th><td>let-7b-5p </td><td>24</td><td>1.705675</td><td>shControl</td></tr>\n",
       "\t<tr><th scope=row>4</th><td>miR-191-5p</td><td>24</td><td>2.838377</td><td>shControl</td></tr>\n",
       "\t<tr><th scope=row>5</th><td>miR-21-5p </td><td>24</td><td>5.768897</td><td>shControl</td></tr>\n",
       "\t<tr><th scope=row>6</th><td>miR-224-5p</td><td>24</td><td>5.418838</td><td>shControl</td></tr>\n",
       "</tbody>\n",
       "</table>\n"
      ],
      "text/latex": [
       "A data.frame: 6 × 4\n",
       "\\begin{tabular}{r|llll}\n",
       "  & arm.name & time & T>C {[}\\%{]} & hela\\\\\n",
       "  & <chr> & <fct> & <dbl> & <chr>\\\\\n",
       "\\hline\n",
       "\t1 & miR-23a-3p & 24 & 4.144955 & shControl\\\\\n",
       "\t2 & miR-25-3p  & 24 & 3.880442 & shControl\\\\\n",
       "\t3 & let-7b-5p  & 24 & 1.705675 & shControl\\\\\n",
       "\t4 & miR-191-5p & 24 & 2.838377 & shControl\\\\\n",
       "\t5 & miR-21-5p  & 24 & 5.768897 & shControl\\\\\n",
       "\t6 & miR-224-5p & 24 & 5.418838 & shControl\\\\\n",
       "\\end{tabular}\n"
      ],
      "text/markdown": [
       "\n",
       "A data.frame: 6 × 4\n",
       "\n",
       "| <!--/--> | arm.name &lt;chr&gt; | time &lt;fct&gt; | T&gt;C [%] &lt;dbl&gt; | hela &lt;chr&gt; |\n",
       "|---|---|---|---|---|\n",
       "| 1 | miR-23a-3p | 24 | 4.144955 | shControl |\n",
       "| 2 | miR-25-3p  | 24 | 3.880442 | shControl |\n",
       "| 3 | let-7b-5p  | 24 | 1.705675 | shControl |\n",
       "| 4 | miR-191-5p | 24 | 2.838377 | shControl |\n",
       "| 5 | miR-21-5p  | 24 | 5.768897 | shControl |\n",
       "| 6 | miR-224-5p | 24 | 5.418838 | shControl |\n",
       "\n"
      ],
      "text/plain": [
       "  arm.name   time T>C [%]  hela     \n",
       "1 miR-23a-3p 24   4.144955 shControl\n",
       "2 miR-25-3p  24   3.880442 shControl\n",
       "3 let-7b-5p  24   1.705675 shControl\n",
       "4 miR-191-5p 24   2.838377 shControl\n",
       "5 miR-21-5p  24   5.768897 shControl\n",
       "6 miR-224-5p 24   5.418838 shControl"
      ]
     },
     "metadata": {},
     "output_type": "display_data"
    }
   ],
   "source": [
    "head(fin)"
   ]
  },
  {
   "cell_type": "code",
   "execution_count": 204,
   "metadata": {},
   "outputs": [
    {
     "data": {
      "text/plain": [
       "             Df Sum Sq Mean Sq F value   Pr(>F)    \n",
       "hela          2    738   369.1    19.2 1.19e-08 ***\n",
       "Residuals   363   6978    19.2                     \n",
       "---\n",
       "Signif. codes:  0 ‘***’ 0.001 ‘**’ 0.01 ‘*’ 0.05 ‘.’ 0.1 ‘ ’ 1"
      ]
     },
     "metadata": {},
     "output_type": "display_data"
    },
    {
     "data": {
      "text/plain": [
       "  Tukey multiple comparisons of means\n",
       "    95% family-wise confidence level\n",
       "\n",
       "Fit: aov(formula = `T>C [%]` ~ hela, data = fin)\n",
       "\n",
       "$hela\n",
       "                        diff        lwr        upr     p adj\n",
       "shINTS11-shControl -3.445628 -4.7667218 -2.1245348 0.0000000\n",
       "shINTS6-shControl  -1.308967 -2.6300605  0.0121265 0.0527624\n",
       "shINTS6-shINTS11    2.136661  0.8155678  3.4577548 0.0004851\n"
      ]
     },
     "metadata": {},
     "output_type": "display_data"
    }
   ],
   "source": [
    "# Compute the analysis of variance\n",
    "res.aov <- aov(`T>C [%]` ~ hela, data = fin)\n",
    "# Summary of the analysis\n",
    "summary(res.aov)\n",
    "\n",
    "TukeyHSD(res.aov)"
   ]
  },
  {
   "cell_type": "code",
   "execution_count": 205,
   "metadata": {},
   "outputs": [
    {
     "data": {
      "text/plain": [
       "\n",
       "\tWelch Two Sample t-test\n",
       "\n",
       "data:  T>C [%] by hela\n",
       "t = 2.1331, df = 241.67, p-value = 0.03393\n",
       "alternative hypothesis: true difference in means is not equal to 0\n",
       "95 percent confidence interval:\n",
       " 0.1001634 2.5177707\n",
       "sample estimates:\n",
       "mean in group shControl   mean in group shINTS6 \n",
       "               4.715089                3.406122 \n"
      ]
     },
     "metadata": {},
     "output_type": "display_data"
    }
   ],
   "source": [
    "t.test(`T>C [%]` ~ hela, data = fin[-grep(\"shINTS11\", fin$hela),])"
   ]
  }
 ],
 "metadata": {
  "kernelspec": {
   "display_name": "R",
   "language": "R",
   "name": "ir"
  },
  "language_info": {
   "codemirror_mode": "r",
   "file_extension": ".r",
   "mimetype": "text/x-r-source",
   "name": "R",
   "pygments_lexer": "r",
   "version": "3.6.1"
  }
 },
 "nbformat": 4,
 "nbformat_minor": 4
}
